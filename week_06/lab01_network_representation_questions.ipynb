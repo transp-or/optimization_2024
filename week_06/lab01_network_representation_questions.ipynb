{
 "cells": [
  {
   "cell_type": "markdown",
   "id": "337a4291",
   "metadata": {},
   "source": [
    "# Network representation\n",
    "\n",
    "## Introduction to optimization and operations research.\n",
    "\n",
    "Michel Bierlaire\n"
   ]
  },
  {
   "cell_type": "code",
   "execution_count": null,
   "id": "b774d1b9",
   "metadata": {},
   "outputs": [],
   "source": [
    "\n",
    "import matplotlib.pyplot as plt\n",
    "import networkx as nx\n",
    "from networkx.classes.digraph import DiGraph, Graph\n",
    "from teaching_optimization.networks import draw_network\n"
   ]
  },
  {
   "cell_type": "markdown",
   "id": "64a110b5",
   "metadata": {},
   "source": [
    "Before working on this assignment, consult the documentation of the `networkx`\n",
    "package: [click here](https://networkx.org)."
   ]
  },
  {
   "cell_type": "markdown",
   "id": "7f4b8ca5",
   "metadata": {},
   "source": [
    "# Definition of the the_network"
   ]
  },
  {
   "cell_type": "markdown",
   "id": "b9bb2986",
   "metadata": {},
   "source": [
    "Nodes"
   ]
  },
  {
   "cell_type": "code",
   "execution_count": null,
   "id": "8afb708c",
   "metadata": {},
   "outputs": [],
   "source": [
    "nodes = ['a', 'b', 'c', 'd', 'e', 'f', 'g']\n"
   ]
  },
  {
   "cell_type": "markdown",
   "id": "2ac5d1fe",
   "metadata": {},
   "source": [
    "We assign coordinates to nodes. This is used only for drawing."
   ]
  },
  {
   "cell_type": "code",
   "execution_count": null,
   "id": "2cbcac89",
   "metadata": {},
   "outputs": [],
   "source": [
    "positions = {\n",
    "    'a': (0, 0),\n",
    "    'b': (2, -2),\n",
    "    'c': (2, 2),\n",
    "    'd': (4, -2),\n",
    "    'e': (4, 2),\n",
    "    'f': (6, 0),\n",
    "    'g': (8, 0),\n",
    "}\n"
   ]
  },
  {
   "cell_type": "markdown",
   "id": "d6c9d53d",
   "metadata": {},
   "source": [
    "Arcs with  flows"
   ]
  },
  {
   "cell_type": "code",
   "execution_count": null,
   "id": "9bc16b53",
   "metadata": {},
   "outputs": [],
   "source": [
    "arcs = [\n",
    "    ('a', 'c', 1),\n",
    "    ('a', 'b', 3),\n",
    "    ('c', 'b', 5),\n",
    "    ('b', 'd', -1),\n",
    "    ('c', 'e', 0),\n",
    "    ('d', 'c', 1),\n",
    "    ('e', 'd', 2),\n",
    "    ('e', 'g', 4),\n",
    "    ('e', 'f', -3),\n",
    "    ('d', 'f', 1),\n",
    "    ('d', 'g', 1),\n",
    "    ('f', 'g', -2),\n",
    "]\n"
   ]
  },
  {
   "cell_type": "markdown",
   "id": "71363b2a",
   "metadata": {},
   "source": [
    "We create a directed graph:"
   ]
  },
  {
   "cell_type": "code",
   "execution_count": null,
   "id": "650df746",
   "metadata": {},
   "outputs": [],
   "source": [
    "G: DiGraph = DiGraph()\n"
   ]
  },
  {
   "cell_type": "markdown",
   "id": "c6de30ba",
   "metadata": {},
   "source": [
    "We add the nodes:"
   ]
  },
  {
   "cell_type": "code",
   "execution_count": null,
   "id": "1a3ca44f",
   "metadata": {},
   "outputs": [],
   "source": [
    "for node in nodes:\n",
    "    G.add_node(node, pos=positions[node])\n"
   ]
  },
  {
   "cell_type": "markdown",
   "id": "9ad4e741",
   "metadata": {},
   "source": [
    "We add the arcs:"
   ]
  },
  {
   "cell_type": "code",
   "execution_count": null,
   "id": "f939feeb",
   "metadata": {},
   "outputs": [],
   "source": [
    "G.add_weighted_edges_from(arcs, weight='flow')\n"
   ]
  },
  {
   "cell_type": "markdown",
   "id": "97ea618c",
   "metadata": {},
   "source": [
    "We plot the the_network."
   ]
  },
  {
   "cell_type": "code",
   "execution_count": null,
   "id": "2b364137",
   "metadata": {},
   "outputs": [],
   "source": [
    "fig, ax = plt.subplots(figsize=(8, 6))\n",
    "draw_network(the_network=G, attr_edge_labels='flow', ax=ax)\n",
    "plt.show()\n",
    "\n"
   ]
  },
  {
   "cell_type": "markdown",
   "id": "413954f1",
   "metadata": {},
   "source": [
    "Now, use the functionalities of the `networkx` package in general, and the `G` object in particular to answer\n",
    "the following questions.\n",
    "\n",
    "# Degree\n",
    "What is the indegree, the outdegree and the degree of each node?"
   ]
  },
  {
   "cell_type": "markdown",
   "id": "6ded6287",
   "metadata": {},
   "source": [
    "Note that the degree should be the sum of the indegree and outdegree. However, do not calculate it that way.\n",
    "That property is used to check the validity of the output."
   ]
  },
  {
   "cell_type": "code",
   "execution_count": null,
   "id": "32fd9d01",
   "metadata": {},
   "outputs": [],
   "source": [
    "\n",
    "\n",
    "for node in G.nodes:\n",
    "    indegree = ????\n",
    "    outdegree = ????\n",
    "    degree = ????\n",
    "    assert indegree + outdegree == degree\n",
    "    print(\n",
    "        f'Node {node}: Indegree = {indegree}, Outdegree = {outdegree}, Degree = {degree}'\n",
    "    )\n"
   ]
  },
  {
   "cell_type": "markdown",
   "id": "188a8f3f",
   "metadata": {},
   "source": [
    "# Adjacency matrix\n",
    "Give the adjacency matrix of the the_network."
   ]
  },
  {
   "cell_type": "markdown",
   "id": "334da38f",
   "metadata": {},
   "source": [
    "First, create a dictionary associating each node with an index."
   ]
  },
  {
   "cell_type": "code",
   "execution_count": null,
   "id": "bcdadb96",
   "metadata": {},
   "outputs": [],
   "source": [
    "node_index = {node: idx for idx, node in enumerate(G.nodes)}\n"
   ]
  },
  {
   "cell_type": "markdown",
   "id": "11b5ee6d",
   "metadata": {},
   "source": [
    "Second, initialize the matrix with zero's."
   ]
  },
  {
   "cell_type": "code",
   "execution_count": null,
   "id": "cb6d7ec5",
   "metadata": {},
   "outputs": [],
   "source": [
    "adjacency_matrix = [[0] * G.number_of_nodes() for _ in range(G.number_of_nodes())]\n"
   ]
  },
  {
   "cell_type": "markdown",
   "id": "88e68d0e",
   "metadata": {},
   "source": [
    "Finally, fill in the matrix."
   ]
  },
  {
   "cell_type": "code",
   "execution_count": null,
   "id": "2dbee031",
   "metadata": {},
   "outputs": [],
   "source": [
    "for node_1 in nodes:\n",
    "    for node_2 in nodes:\n",
    "        if ????:\n",
    "            i, j = node_index[node_1], node_index[node_2]\n",
    "            adjacency_matrix[i][j] = ????\n"
   ]
  },
  {
   "cell_type": "markdown",
   "id": "0d654931",
   "metadata": {},
   "source": [
    "Expected result:\n",
    "```\n",
    "[0, 1, 1, 0, 0, 0, 0]\n",
    "[0, 0, 0, 1, 0, 0, 0]\n",
    "[0, 1, 0, 0, 1, 0, 0]\n",
    "[0, 0, 1, 0, 0, 1, 1]\n",
    "[0, 0, 0, 1, 0, 1, 1]\n",
    "[0, 0, 0, 0, 0, 0, 1]\n",
    "[0, 0, 0, 0, 0, 0, 0]\n",
    "```"
   ]
  },
  {
   "cell_type": "code",
   "execution_count": null,
   "id": "3bd14db6",
   "metadata": {},
   "outputs": [],
   "source": [
    "for row in adjacency_matrix:\n",
    "    print(row)\n",
    "\n",
    "\n",
    "\n",
    "\n",
    "\n"
   ]
  },
  {
   "cell_type": "markdown",
   "id": "61de8be2",
   "metadata": {},
   "source": [
    "# Adjacency list\n",
    "Represent the the_network using an adjacency list that also stores the flows."
   ]
  },
  {
   "cell_type": "markdown",
   "id": "c309004e",
   "metadata": {},
   "source": [
    "First, build a dict associating each node with the list of adjacent nodes."
   ]
  },
  {
   "cell_type": "code",
   "execution_count": null,
   "id": "8bb8e01e",
   "metadata": {},
   "outputs": [],
   "source": [
    " adj_list = {node: ???? for node in G.nodes}\n",
    "\n",
    "\n"
   ]
  },
  {
   "cell_type": "markdown",
   "id": "f7e2d957",
   "metadata": {},
   "source": [
    "Expected result:\n",
    "```\n",
    "{\n",
    "'a': ['c', 'b'],\n",
    "'b': ['d'],\n",
    "'c': ['b', 'e'],\n",
    "'d': ['c', 'f', 'g'],\n",
    "'e': ['d', 'g', 'f'],\n",
    "'f': ['g'],\n",
    "'g': [],\n",
    "}\n",
    "```"
   ]
  },
  {
   "cell_type": "code",
   "execution_count": null,
   "id": "7fee3e6a",
   "metadata": {},
   "outputs": [],
   "source": [
    "\n",
    "print(adj_list)\n"
   ]
  },
  {
   "cell_type": "markdown",
   "id": "f2707218",
   "metadata": {},
   "source": [
    "Second, build a similar dict, with a list of tuple containing the downstream node and the flow."
   ]
  },
  {
   "cell_type": "code",
   "execution_count": null,
   "id": "5abc293b",
   "metadata": {},
   "outputs": [],
   "source": [
    "adj_list_flows: dict[str : list[tuple[str, float]]] = {\n",
    "\n",
    "\n",
    "\n",
    "\n",
    "\n",
    "}\n"
   ]
  },
  {
   "cell_type": "markdown",
   "id": "7bc75692",
   "metadata": {},
   "source": [
    "Expected result:\n",
    "```\n",
    "{\n",
    "'a': [('c', 1), ('b', 3)],\n",
    "'b': [('d', -1)],\n",
    "'c': [('b', 5), ('e', 0)],\n",
    "'d': [('c', 1), ('f', 1), ('g', 1)],\n",
    "'e': [('d', 2), ('g', 4), ('f', -3)],\n",
    "'f': [('g', -2)],\n",
    "'g': [],\n",
    "}\n",
    "```"
   ]
  },
  {
   "cell_type": "code",
   "execution_count": null,
   "id": "1cccfa4b",
   "metadata": {},
   "outputs": [],
   "source": [
    "print(adj_list_flows)\n"
   ]
  },
  {
   "cell_type": "markdown",
   "id": "c9ecbaef",
   "metadata": {},
   "source": [
    "Let's print it in a more readable way."
   ]
  },
  {
   "cell_type": "code",
   "execution_count": null,
   "id": "5b5e6e50",
   "metadata": {},
   "outputs": [],
   "source": [
    "for up_stream_node, adjacency_list in adj_list_flows.items():\n",
    "    for down_stream_node, flow in adjacency_list:\n",
    "        print(f'Arc {up_stream_node} -> {down_stream_node}: {flow}')\n",
    "\n"
   ]
  },
  {
   "cell_type": "markdown",
   "id": "3ed79de4",
   "metadata": {},
   "source": [
    "# Connectivity\n",
    "Is the the_network strongly connected?"
   ]
  },
  {
   "cell_type": "markdown",
   "id": "e035bfef",
   "metadata": {},
   "source": [
    "We  implement a function that verifies the property."
   ]
  },
  {
   "cell_type": "code",
   "execution_count": null,
   "id": "f1f7b8ac",
   "metadata": {},
   "outputs": [],
   "source": [
    "def check_strong_connectivity(G: Graph) -> tuple[bool, set[tuple[str, str]]]:\n",
    "    \"\"\"\n",
    "\n",
    "    :param G: the graph\n",
    "    :return: a tuple containing a boolean that is True if the graph is strongly connected, False otherwise, and a\n",
    "        set of pairs of nodes that cause the property not to be verified. If the bool is True, the set is empty.\n",
    "    \"\"\"\n",
    "    disconnected_nodes = set()\n",
    "    for node1 in G.nodes:\n",
    "        for node2 in G.nodes:\n",
    "            if node1 != node2:\n",
    "                ????\n",
    "\n",
    "\n",
    "\n",
    "\n",
    "    return not bool(disconnected_nodes), disconnected_nodes\n",
    "\n"
   ]
  },
  {
   "cell_type": "markdown",
   "id": "08b53a92",
   "metadata": {},
   "source": [
    "We apply the function on the directed graph."
   ]
  },
  {
   "cell_type": "code",
   "execution_count": null,
   "id": "7f19928a",
   "metadata": {},
   "outputs": [],
   "source": [
    "is_strongly_connected, disconnected_nodes = check_strong_connectivity(G)\n",
    "if is_strongly_connected:\n",
    "    print('The the_network is strongly connected.')\n",
    "else:\n",
    "    print(\n",
    "        'The the_network is not strongly connected. The following pairs of nodes are disconnected:'\n",
    "    )\n",
    "    for pair in disconnected_nodes:\n",
    "        print(pair)\n",
    "\n",
    "\n",
    "\n",
    "\n",
    "\n"
   ]
  },
  {
   "cell_type": "markdown",
   "id": "e930067f",
   "metadata": {},
   "source": [
    "Is the the_network connected?"
   ]
  },
  {
   "cell_type": "markdown",
   "id": "77fc5797",
   "metadata": {},
   "source": [
    "Remember that, in this case, we need to ignore the directions of the arcs. Therefore, we use an undirected version\n",
    "of the graph. Check the `networkx`documentation to see how to do that."
   ]
  },
  {
   "cell_type": "code",
   "execution_count": null,
   "id": "4e087265",
   "metadata": {},
   "outputs": [],
   "source": [
    "\n",
    "\n",
    "def check_connectivity(G: DiGraph) -> tuple[bool, set[tuple[str, str]]]:\n",
    "    undirected_G = ????\n",
    "    return check_strong_connectivity(undirected_G)\n",
    "\n"
   ]
  },
  {
   "cell_type": "markdown",
   "id": "4ad69280",
   "metadata": {},
   "source": [
    "We apply the function on the directed graph."
   ]
  },
  {
   "cell_type": "code",
   "execution_count": null,
   "id": "6b7230e6",
   "metadata": {},
   "outputs": [],
   "source": [
    "is_connected, disconnected_nodes = check_connectivity(G)\n",
    "if is_connected:\n",
    "    print('The the_network is connected.')\n",
    "else:\n",
    "    print(\n",
    "        'The the_network is not connected. The following pairs of nodes are disconnected:'\n",
    "    )\n",
    "    for pair in disconnected_nodes:\n",
    "        print(pair)\n",
    "\n",
    "\n",
    "\n",
    "\n"
   ]
  },
  {
   "cell_type": "markdown",
   "id": "06a84f9e",
   "metadata": {},
   "source": [
    "# Paths\n",
    "Enumerate all simple forward paths from node $a$ to node $g$."
   ]
  },
  {
   "cell_type": "code",
   "execution_count": null,
   "id": "81edcac0",
   "metadata": {},
   "outputs": [],
   "source": [
    "\n",
    "\n",
    "def enumerate_paths(\n",
    "    G: DiGraph, origin: str, destination: str, current_path: list[str] = None\n",
    ") -> list[list[str]]:\n",
    "    \"\"\"Enumerate simple paths between two nodes.\n",
    "\n",
    "    :param G: the directed graph.\n",
    "    :param origin: origin node.\n",
    "    :param destination: destination node.\n",
    "    :param current_path: current path that needs to be extended.\n",
    "    :return: a list of paths connecting the origin to the destination\n",
    "    \"\"\"\n",
    "    if current_path is None:\n",
    "        current_path = []\n",
    "\n",
    "    # Add the start node to the current path\n",
    "    current_path = current_path + [origin]\n",
    "\n",
    "    # If the start node is the end, return the path as a completed path\n",
    "    if origin == destination:\n",
    "        return [current_path]\n",
    "\n",
    "    # Initialize a set to store all paths\n",
    "    all_paths = []\n",
    "\n",
    "    # Explore each adjacent node that has not been visited in the current path\n",
    "    for node in G.successors(origin):\n",
    "        # We need to check that the node has not already been visited, as we need simple paths.\n",
    "        if ????:\n",
    "            new_paths = ????\n",
    "\n",
    "\n",
    "            for new_path in new_paths:\n",
    "                all_paths.append(new_path)\n",
    "\n",
    "    return all_paths\n",
    "\n"
   ]
  },
  {
   "cell_type": "markdown",
   "id": "e92bc42c",
   "metadata": {},
   "source": [
    "Let's apply the function."
   ]
  },
  {
   "cell_type": "code",
   "execution_count": null,
   "id": "cef99acc",
   "metadata": {},
   "outputs": [],
   "source": [
    "all_paths = enumerate_paths(G, origin='a', destination='g')\n"
   ]
  },
  {
   "cell_type": "markdown",
   "id": "20d47e49",
   "metadata": {},
   "source": [
    "Expected results:\n",
    "```\n",
    "['a', 'c', 'b', 'd', 'f', 'g']\n",
    "['a', 'c', 'b', 'd', 'g']\n",
    "['a', 'c', 'e', 'd', 'f', 'g']\n",
    "['a', 'c', 'e', 'd', 'g']\n",
    "['a', 'c', 'e', 'g']\n",
    "['a', 'c', 'e', 'f', 'g']\n",
    "['a', 'b', 'd', 'c', 'e', 'g']\n",
    "['a', 'b', 'd', 'c', 'e', 'f', 'g']\n",
    "['a', 'b', 'd', 'f', 'g']\n",
    "['a', 'b', 'd', 'g']\n",
    "```"
   ]
  },
  {
   "cell_type": "code",
   "execution_count": null,
   "id": "7c288b76",
   "metadata": {},
   "outputs": [],
   "source": [
    "print(\"All simple paths from 'a' to 'g':\")\n",
    "for path in all_paths:\n",
    "    print(path)\n",
    "\n",
    "\n",
    "\n",
    "\n",
    "\n",
    "\n"
   ]
  },
  {
   "cell_type": "markdown",
   "id": "62e1088e",
   "metadata": {},
   "source": [
    "# Divergence\n",
    "Give the divergence of the flow vector of each node. What are the supply nodes? What are the demand nodes?"
   ]
  },
  {
   "cell_type": "markdown",
   "id": "9134cb58",
   "metadata": {},
   "source": [
    "We implement a function calculating the divergence of a node."
   ]
  },
  {
   "cell_type": "code",
   "execution_count": null,
   "id": "54f45c4a",
   "metadata": {},
   "outputs": [],
   "source": [
    "def divergence(G: DiGraph, node: str) -> float:\n",
    "    \"\"\"Calculates the divergence at a node, that is, the sum of out-flows minus the sum of the in-flows.\n",
    "\n",
    "    :param G: the directed graph.\n",
    "    :param node: node of interest\n",
    "    :return:\n",
    "    \"\"\"\n",
    "    the_divergence = 0\n",
    "    for successor in ????:\n",
    "        arc_flow = ????\n",
    "        the_divergence = ????\n",
    "    for predecessor in ????:\n",
    "        arc_flow = ????\n",
    "        the_divergence = ????\n",
    "    return the_divergence\n",
    "\n"
   ]
  },
  {
   "cell_type": "markdown",
   "id": "1368f82a",
   "metadata": {},
   "source": [
    "We apply the function."
   ]
  },
  {
   "cell_type": "code",
   "execution_count": null,
   "id": "7915df50",
   "metadata": {},
   "outputs": [],
   "source": [
    "div = {node: divergence(G, node) for node in G.nodes}\n"
   ]
  },
  {
   "cell_type": "markdown",
   "id": "1d90a1d4",
   "metadata": {},
   "source": [
    "Expected result:\n",
    "```\n",
    "{\n",
    "'a': 4,\n",
    "'b': -9,\n",
    "'c': 3,\n",
    "'d': 2,\n",
    "'e': 3,\n",
    "'f': 0,\n",
    "'g': -3,\n",
    "}\n",
    "```"
   ]
  },
  {
   "cell_type": "code",
   "execution_count": null,
   "id": "7230415c",
   "metadata": {},
   "outputs": [],
   "source": [
    "\n",
    "print(div)\n",
    "\n",
    "\n",
    "\n",
    "\n",
    "\n",
    "\n",
    "\n",
    "\n",
    "\n",
    "\n",
    "\n"
   ]
  },
  {
   "cell_type": "markdown",
   "id": "06d849b2",
   "metadata": {},
   "source": [
    "# Cuts\n",
    "Consider the cut $\\Gamma = \\left( { \\mathcal{M} , \\mathcal{N} \\backslash \\mathcal{M} } \\right)$, defined by the set\n",
    "$\\mathcal{M}= \\{a,b,c \\}$.\n",
    "\n",
    "- What are the forward arcs of the cut?\n",
    "- What are the backward arcs of the cut?\n",
    "- What is the flow through the cut? Check that the formula $$X(\\Gamma)=\\sum_{i \\in \\mathcal{M}} \\text{div}(x)_i$$ is satisfied.\n",
    "- Assume that the capacities on each arc are -3 for the lower bound and 5 for the upper bound. What is the capacity of the cut?\n"
   ]
  },
  {
   "cell_type": "markdown",
   "id": "cacd0155",
   "metadata": {},
   "source": [
    "Define the set of nodes characterizing the cut."
   ]
  },
  {
   "cell_type": "code",
   "execution_count": null,
   "id": "4b01fdc2",
   "metadata": {},
   "outputs": [],
   "source": [
    "M = ????\n",
    "N = ????\n"
   ]
  },
  {
   "cell_type": "markdown",
   "id": "27a4eb11",
   "metadata": {},
   "source": [
    "We verify that all nodes have been involved."
   ]
  },
  {
   "cell_type": "code",
   "execution_count": null,
   "id": "d0b04f90",
   "metadata": {},
   "outputs": [],
   "source": [
    "assert M | N == set(G.nodes)"
   ]
  },
  {
   "cell_type": "markdown",
   "id": "bc05eddf",
   "metadata": {},
   "source": [
    "We also verify that there is no node in both sets."
   ]
  },
  {
   "cell_type": "code",
   "execution_count": null,
   "id": "83fc572a",
   "metadata": {},
   "outputs": [],
   "source": [
    "assert not M.intersection(N)\n"
   ]
  },
  {
   "cell_type": "markdown",
   "id": "0793c2c6",
   "metadata": {},
   "source": [
    "Finding forward and backward arcs. Generate list of tuples including:\n",
    "- the upstream node of the arc,\n",
    "- the downstream node of the arc,\n",
    "- the flow on the arc."
   ]
  },
  {
   "cell_type": "code",
   "execution_count": null,
   "id": "0cf99a99",
   "metadata": {},
   "outputs": [],
   "source": [
    "forward_arcs = ????\n",
    "\n",
    "\n"
   ]
  },
  {
   "cell_type": "markdown",
   "id": "c90227f1",
   "metadata": {},
   "source": [
    "The expected answer is:\n",
    "```\n",
    "Forward arcs of the cut:\n",
    "('b', 'd', -1)\n",
    "('c', 'e', 0)\n",
    "```"
   ]
  },
  {
   "cell_type": "code",
   "execution_count": null,
   "id": "9b904d07",
   "metadata": {},
   "outputs": [],
   "source": [
    "print('Forward arcs of the cut:')\n",
    "for arc in forward_arcs:\n",
    "    print(arc)\n"
   ]
  },
  {
   "cell_type": "markdown",
   "id": "55d3219e",
   "metadata": {},
   "source": [
    "Now for backward arcs."
   ]
  },
  {
   "cell_type": "code",
   "execution_count": null,
   "id": "34dfd487",
   "metadata": {},
   "outputs": [],
   "source": [
    "backward_arcs = ????\n",
    "\n",
    "\n"
   ]
  },
  {
   "cell_type": "markdown",
   "id": "be37783f",
   "metadata": {},
   "source": [
    "The expected answer is:\n",
    "```\n",
    "Backward arcs of the cut:\n",
    "('d', 'c', 1)\n",
    "```"
   ]
  },
  {
   "cell_type": "code",
   "execution_count": null,
   "id": "a2b91d35",
   "metadata": {},
   "outputs": [],
   "source": [
    "print('Backward arcs of the cut:')\n",
    "for arc in backward_arcs:\n",
    "    print(arc)\n"
   ]
  },
  {
   "cell_type": "markdown",
   "id": "af093b1a",
   "metadata": {},
   "source": [
    "Flow through the cut"
   ]
  },
  {
   "cell_type": "code",
   "execution_count": null,
   "id": "a83963ca",
   "metadata": {},
   "outputs": [],
   "source": [
    "flow_through_cut = ????\n",
    "\n",
    "\n",
    "\n"
   ]
  },
  {
   "cell_type": "markdown",
   "id": "97cbd929",
   "metadata": {},
   "source": [
    "Expected answer: -2"
   ]
  },
  {
   "cell_type": "code",
   "execution_count": null,
   "id": "e3457e08",
   "metadata": {},
   "outputs": [],
   "source": [
    "print(f\"Flow through the cut: {flow_through_cut}\")\n"
   ]
  },
  {
   "cell_type": "markdown",
   "id": "732a4ea4",
   "metadata": {},
   "source": [
    "Check the flow formula, that is, the flow through the cut is equal to the sum of the divergences of nodes in M."
   ]
  },
  {
   "cell_type": "code",
   "execution_count": null,
   "id": "396e398a",
   "metadata": {},
   "outputs": [],
   "source": [
    "divergence_flow_sum = ????\n"
   ]
  },
  {
   "cell_type": "markdown",
   "id": "a241f84b",
   "metadata": {},
   "source": [
    "Expected answer: -2"
   ]
  },
  {
   "cell_type": "code",
   "execution_count": null,
   "id": "3819452b",
   "metadata": {},
   "outputs": [],
   "source": [
    "print(f\"Sum of divergence in M: {divergence_flow_sum}\")\n",
    "print(\"Is the formula satisfied? \", divergence_flow_sum == flow_through_cut)\n"
   ]
  },
  {
   "cell_type": "markdown",
   "id": "1a522da9",
   "metadata": {},
   "source": [
    "Capacity of the cut"
   ]
  },
  {
   "cell_type": "code",
   "execution_count": null,
   "id": "f5d35cd3",
   "metadata": {},
   "outputs": [],
   "source": [
    "lower_bound = -3\n",
    "upper_bound = 5\n",
    "capacity_forward_arcs = ????\n",
    "\n",
    "\n",
    "capacity_backward_arcs = ????\n",
    "\n",
    "\n",
    "capacity_of_cut = ????\n",
    "\n",
    "\n"
   ]
  },
  {
   "cell_type": "markdown",
   "id": "356daae3",
   "metadata": {},
   "source": [
    "Expected answer: 13"
   ]
  },
  {
   "cell_type": "code",
   "execution_count": null,
   "id": "d1797cae",
   "metadata": {},
   "outputs": [],
   "source": [
    "print(f\"Capacity of the cut: {capacity_of_cut}\")"
   ]
  }
 ],
 "metadata": {},
 "nbformat": 4,
 "nbformat_minor": 5
}

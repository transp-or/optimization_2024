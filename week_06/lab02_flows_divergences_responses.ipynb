{
 "cells": [
  {
   "cell_type": "markdown",
   "id": "0d7e768f",
   "metadata": {},
   "source": [
    "# Flows and divergences\n",
    "\n",
    "## Introduction to optimization and operations research.\n",
    "\n",
    "Michel Bierlaire\n"
   ]
  },
  {
   "cell_type": "code",
   "execution_count": null,
   "id": "3846c0f3",
   "metadata": {},
   "outputs": [],
   "source": [
    "\n",
    "import matplotlib.pyplot as plt\n",
    "import networkx as nx\n",
    "from matplotlib.patches import Rectangle\n",
    "from networkx.classes.digraph import DiGraph\n",
    "from teaching_optimization.networks.draw_network import draw_network\n"
   ]
  },
  {
   "cell_type": "markdown",
   "id": "f6975f4a",
   "metadata": {},
   "source": [
    "# Definition of the the_network"
   ]
  },
  {
   "cell_type": "markdown",
   "id": "8ed0ab64",
   "metadata": {},
   "source": [
    "Nodes:"
   ]
  },
  {
   "cell_type": "code",
   "execution_count": null,
   "id": "138d117e",
   "metadata": {},
   "outputs": [],
   "source": [
    "nodes = ['n_1', 'n_2', 'n_3', 'n_4', 'n_5', 'n_6', 'n_7']\n"
   ]
  },
  {
   "cell_type": "markdown",
   "id": "25142abe",
   "metadata": {},
   "source": [
    "We assign coordinates to nodes. This is used only for drawing."
   ]
  },
  {
   "cell_type": "code",
   "execution_count": null,
   "id": "f7b1c722",
   "metadata": {},
   "outputs": [],
   "source": [
    "positions = {\n",
    "    'n_1': (-1, 0),\n",
    "    'n_2': (2, 3),\n",
    "    'n_3': (2, -3),\n",
    "    'n_4': (5, 3),\n",
    "    'n_5': (5, -3),\n",
    "    'n_6': (8, 3),\n",
    "    'n_7': (8, -3),\n",
    "}\n"
   ]
  },
  {
   "cell_type": "markdown",
   "id": "bbbc73d5",
   "metadata": {},
   "source": [
    "Arcs"
   ]
  },
  {
   "cell_type": "code",
   "execution_count": null,
   "id": "81f163e3",
   "metadata": {},
   "outputs": [],
   "source": [
    "arcs = [\n",
    "    ('n_1', 'n_2', 2.3),\n",
    "    ('n_1', 'n_3', 4),\n",
    "    ('n_2', 'n_3', -1),\n",
    "    ('n_3', 'n_5', 4.5),\n",
    "    ('n_2', 'n_4', 3),\n",
    "    ('n_4', 'n_2', -2.1),\n",
    "    ('n_4', 'n_5', -5),\n",
    "    ('n_5', 'n_4', -5),\n",
    "    ('n_6', 'n_7', 2.5),\n",
    "    ('n_7', 'n_6', 3),\n",
    "]\n"
   ]
  },
  {
   "cell_type": "markdown",
   "id": "ccc16220",
   "metadata": {},
   "source": [
    "# Network object\n",
    "We create a directed graph:"
   ]
  },
  {
   "cell_type": "code",
   "execution_count": null,
   "id": "e79ccaa2",
   "metadata": {},
   "outputs": [],
   "source": [
    "G: DiGraph = DiGraph()\n"
   ]
  },
  {
   "cell_type": "markdown",
   "id": "db8a721a",
   "metadata": {},
   "source": [
    "We add nodes with position attributes"
   ]
  },
  {
   "cell_type": "code",
   "execution_count": null,
   "id": "fb9fa95e",
   "metadata": {},
   "outputs": [],
   "source": [
    "for node in nodes:\n",
    "    G.add_node(node, pos=positions[node])\n"
   ]
  },
  {
   "cell_type": "markdown",
   "id": "7caba052",
   "metadata": {},
   "source": [
    "We add arcs with weights"
   ]
  },
  {
   "cell_type": "code",
   "execution_count": null,
   "id": "1053c548",
   "metadata": {},
   "outputs": [],
   "source": [
    "for arc in arcs:\n",
    "    G.add_edge(arc[0], arc[1], flow=arc[2])\n",
    "\n",
    "edge_labels = nx.get_edge_attributes(G, name='flow')\n"
   ]
  },
  {
   "cell_type": "markdown",
   "id": "bf1bfc0d",
   "metadata": {},
   "source": [
    "We plot the the_network, as well as two gray areas defining a cut."
   ]
  },
  {
   "cell_type": "code",
   "execution_count": null,
   "id": "0ef74cd0",
   "metadata": {},
   "outputs": [],
   "source": [
    "fig, ax = plt.subplots(figsize=(8, 6))\n",
    "ax = draw_network(\n",
    "    the_network=G, attr_edge_labels='flow', ax=ax\n",
    ")  # Add transparent gray rectangles covering specific nodes\n",
    "gray_areas = [('n_1', 'n_2', 'n_3'), ('n_4', 'n_5', 'n_6', 'n_7')]\n",
    "\n",
    "for i, nodes in enumerate(gray_areas):\n",
    "    x_values = [positions[node][0] for node in nodes]\n",
    "    y_values = [positions[node][1] for node in nodes]\n",
    "    min_x, max_x = min(x_values), max(x_values)\n",
    "    min_y, max_y = min(y_values), max(y_values)\n",
    "    enlargement_factor = 1.2\n",
    "    width = (max_x - min_x) * enlargement_factor\n",
    "    height = (max_y - min_y) * enlargement_factor\n",
    "    rect = Rectangle(\n",
    "        (min_x - (width - (max_x - min_x)) / 2, min_y - (height - (max_y - min_y)) / 2),\n",
    "        width,\n",
    "        height,\n",
    "        alpha=0.3,\n",
    "        color='gray',\n",
    "    )\n",
    "\n",
    "    ax.add_patch(rect)\n",
    "    if i == 0:\n",
    "        ax.text(\n",
    "            min_x - (width - (max_x - min_x)) / 2 + 0.1 * width,\n",
    "            min_y - (height - (max_y - min_y)) / 2 + 0.9 * height,\n",
    "            \"M\",\n",
    "            fontsize=12,\n",
    "            fontweight='bold',\n",
    "            color='black',\n",
    "        )\n",
    "\n",
    "\n",
    "plt.show()\n"
   ]
  },
  {
   "cell_type": "markdown",
   "id": "906166ca",
   "metadata": {},
   "source": [
    "# Questions"
   ]
  },
  {
   "cell_type": "markdown",
   "id": "38cdd70d",
   "metadata": {},
   "source": [
    "Now, use the functionalities of the `networkx` package in general, and the `G` object in particular to answer\n",
    "the following questions."
   ]
  },
  {
   "cell_type": "markdown",
   "id": "a0fd7bb5",
   "metadata": {},
   "source": [
    "For each node, calculate the divergence.\n",
    "Expected answers:\n",
    "\n",
    "- `Divergence of node n_1 = 6.3`\n",
    "- `Divergence of node n_2 = 1.8`\n",
    "- `Divergence of node n_3 = 1.5`\n",
    "- `Divergence of node n_4 = -5.1`\n",
    "- `Divergence of node n_5 = -4.5`\n",
    "- `Divergence of node n_6 = -0.5`\n",
    "- `Divergence of node n_7 = 0.5`"
   ]
  },
  {
   "cell_type": "code",
   "execution_count": null,
   "id": "8169f2b4",
   "metadata": {},
   "outputs": [],
   "source": [
    "divergences = {}\n",
    "for node in G.nodes():\n",
    "    in_flow = sum(\n",
    "        G[edge[0]][edge[1]]['flow'] for edge in G.in_edges(node)\n",
    "    )\n",
    "    out_flow = sum(\n",
    "        G[edge[0]][edge[1]]['flow'] for edge in G.out_edges(node)\n",
    "    )\n",
    "    divergence = out_flow - in_flow\n",
    "    divergences[node] = divergence\n",
    "    print(f'Divergence of node {node} = {divergence:.2g}')\n",
    "\n"
   ]
  },
  {
   "cell_type": "markdown",
   "id": "912d37fb",
   "metadata": {},
   "source": [
    "Identify if the node is a supply, demand or transit node.\n",
    "Expected answers:\n",
    "\n",
    "- `Type of node n_1: Supply`\n",
    "- `Type of node n_2: Supply`\n",
    "- `Type of node n_3: Supply`\n",
    "- `Type of node n_4: Demand`\n",
    "- `Type of node n_5: Demand`\n",
    "- `Type of node n_6: Demand`\n",
    "- `Type of node n_7: Supply`"
   ]
  },
  {
   "cell_type": "code",
   "execution_count": null,
   "id": "44ab0998",
   "metadata": {},
   "outputs": [],
   "source": [
    "node_types = {}\n",
    "for node, divergence in divergences.items():\n",
    "    if divergence > 0:\n",
    "        node_types[node] = 'Supply'\n",
    "    elif divergence < 0:\n",
    "        node_types[node] = 'Demand'\n",
    "    else:\n",
    "        node_types[node] = 'Transit'\n",
    "    print(f'Type of node {node}: {node_types[node]}')\n"
   ]
  },
  {
   "cell_type": "markdown",
   "id": "9dc2f4fe",
   "metadata": {},
   "source": [
    "What is the total divergence in the the_network?\n",
    "The total divergence is always zero."
   ]
  },
  {
   "cell_type": "code",
   "execution_count": null,
   "id": "c7287d22",
   "metadata": {},
   "outputs": [],
   "source": [
    "total_divergence = sum(divergences.values())\n",
    "print(f'Total divergence = {total_divergence}')\n"
   ]
  },
  {
   "cell_type": "markdown",
   "id": "d31b26a2",
   "metadata": {},
   "source": [
    "Write the cut $\\Gamma =(M, N \\setminus M)$ defined by the gray areas."
   ]
  },
  {
   "cell_type": "code",
   "execution_count": null,
   "id": "318952f8",
   "metadata": {},
   "outputs": [],
   "source": [
    "left_nodes = ('n_1', 'n_2', 'n_3')\n",
    "right_nodes = ('n_4', 'n_5', 'n_6', 'n_7')\n"
   ]
  },
  {
   "cell_type": "markdown",
   "id": "6ff85d38",
   "metadata": {},
   "source": [
    "Identify the forward and backward arcs of the cut. Replace the ??? by the appropriate conditions"
   ]
  },
  {
   "cell_type": "code",
   "execution_count": null,
   "id": "d4b5dbf0",
   "metadata": {},
   "outputs": [],
   "source": [
    "forward_cut_edges = [\n",
    "    edge\n",
    "    for edge in G.edges()\n",
    "    if edge[0] in left_nodes\n",
    "    and edge[1] in right_nodes\n",
    "]\n",
    "backward_cut_edges = [\n",
    "    edge\n",
    "    for edge in G.edges()\n",
    "    if edge[1] in left_nodes\n",
    "    and edge[0] in right_nodes\n",
    "]\n",
    "print(f'Forward arcs of the cut: {forward_cut_edges}')\n",
    "print(f'Backward arcs of the cut: {backward_cut_edges}')\n"
   ]
  },
  {
   "cell_type": "markdown",
   "id": "5935f4dd",
   "metadata": {},
   "source": [
    "Calculate the forward flow through that cut $\\Gamma$.\n",
    "Expected answer: `Forward flow: 7.5`"
   ]
  },
  {
   "cell_type": "code",
   "execution_count": null,
   "id": "ffffd89e",
   "metadata": {},
   "outputs": [],
   "source": [
    "forward_flow = sum(\n",
    "    G[edge[0]][edge[1]]['flow'] for edge in forward_cut_edges\n",
    ")\n",
    "print(f'Forward flow: {forward_flow}')\n",
    "\n"
   ]
  },
  {
   "cell_type": "markdown",
   "id": "ae1e4d33",
   "metadata": {},
   "source": [
    "Calculate the backward flow through that cut $\\Gamma$.\n",
    "Expected answer: `Backward flow: -2.1`"
   ]
  },
  {
   "cell_type": "code",
   "execution_count": null,
   "id": "f6152b57",
   "metadata": {},
   "outputs": [],
   "source": [
    "backward_flow = sum(\n",
    "    G[edge[0]][edge[1]]['flow'] for edge in backward_cut_edges\n",
    ")\n",
    "print(f'Backward flow: {backward_flow}')\n"
   ]
  },
  {
   "cell_type": "markdown",
   "id": "dbf7d094",
   "metadata": {},
   "source": [
    "Calculate the total flow through that cut $\\Gamma$.\n",
    "Expected answer: `Flow through the cut: 9.6`"
   ]
  },
  {
   "cell_type": "code",
   "execution_count": null,
   "id": "ddeb14ee",
   "metadata": {},
   "outputs": [],
   "source": [
    "cut_flow = forward_flow - backward_flow\n",
    "print(f'Flow through the cut: {cut_flow}')\n"
   ]
  },
  {
   "cell_type": "markdown",
   "id": "f00b0e5e",
   "metadata": {},
   "source": [
    "Calculate the sum of the divergences of the nodes belonging to $\\mathcal{M}$. What do you remark?"
   ]
  },
  {
   "cell_type": "code",
   "execution_count": null,
   "id": "6d0926cd",
   "metadata": {},
   "outputs": [],
   "source": [
    "sum_divergence_m = sum(\n",
    "    divergences[node] for node in left_nodes\n",
    ")\n",
    "print(f'The sum of the divergences of the nodes belonging to M: {sum_divergence_m}')\n"
   ]
  },
  {
   "cell_type": "markdown",
   "id": "b573222c",
   "metadata": {},
   "source": [
    "Thus the flow through $\\Gamma$ is equal to the sum of the divergences\n",
    "of the nodes belonging to $\\mathcal{M}$. This is always the case."
   ]
  },
  {
   "cell_type": "markdown",
   "id": "5b2dbf0f",
   "metadata": {},
   "source": [
    "The intuition is the following. Consider an arc $(i,j)$ such that both\n",
    "$i$ and $j$ are in $\\mathcal{M}$.\n",
    "When calculating the sum of the\n",
    "divergences in $\\mathcal{M}$, the flow of this arc will be involved once\n",
    "with a positive sign for the divergence of $j$, and once with a\n",
    "negative sign for the divergence of $i$. Therefore, its contribution\n",
    "to the sum is zero. It means that only arcs $(i,j)$ such that $i \\in\n",
    "\\mathcal{M}$ and $j \\in \\mathcal{N} \\setminus \\mathcal{M}$ will\n",
    "contribute to the sum. But these are exactly the arcs belonging to the\n",
    "cut. Therefore,\n",
    "$$ \\sum_{i \\in \\mathcal{M}} \\text{div}(x)_i = \\sum_{(i,j) \\in \\Gamma^\\rightarrow} x_{ij} - \\sum_{(i,j) \\in\n",
    "\\Gamma^\\leftarrow} x_{ij} =  X (\\Gamma).$$"
   ]
  }
 ],
 "metadata": {},
 "nbformat": 4,
 "nbformat_minor": 5
}

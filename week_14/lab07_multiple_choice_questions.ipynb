{
 "cells": [
  {
   "cell_type": "markdown",
   "id": "8f28e205",
   "metadata": {},
   "source": [
    "# Non linear optimization: multiple choice questions\n",
    "\n",
    "## Introduction to optimization and operations research\n",
    "\n",
    "Michel Bierlaire\n"
   ]
  },
  {
   "cell_type": "code",
   "execution_count": null,
   "id": "039ee9f3",
   "metadata": {},
   "outputs": [],
   "source": [
    "\n",
    "import matplotlib.pyplot as plt\n",
    "import numpy as np\n"
   ]
  },
  {
   "cell_type": "markdown",
   "id": "0ca83aa8",
   "metadata": {},
   "source": [
    "# Question 1\n",
    "Suppose that $f: \\mathbb{R}^n \\rightarrow \\mathbb{R}$ is a differentiable nonlinear function,\n",
    "$x_k\\in\\mathbb{R}^n$ is a point and $d_k\\in\\mathbb{R}^n$ is a descent direction such that $\\nabla f(x_k)^T d_k < 0$,\n",
    "and that $f$ is bounded from below in the direction $d_k$. We write the two Wolfe's conditions as:\n",
    "$$\n",
    "f(x_k + \\alpha d_k) \\leq f(x_k) + \\alpha\\beta_1\\nabla f(x_k)^T d_k\n",
    "$$\n",
    "and\n",
    "$$\n",
    "\\frac{\\nabla f(x_k + \\alpha d_k)^T d_k}{\\nabla f(x_k)^Td_k} \\leq \\beta_2.\n",
    "$$\n",
    "Which condition should be satisfied by Wolfe's parameters $\\beta_1$ and $\\beta_2$ so that we can be sure that\n",
    "there exists a step size $\\alpha$ that satisfies both Wolfe's conditions?"
   ]
  },
  {
   "cell_type": "markdown",
   "id": "0b96f021",
   "metadata": {},
   "source": [
    "1. Such as  condition does not exist.\n",
    "2. $0 < \\beta_1 < \\beta_2 < 1$.\n",
    "3. $0 < \\beta_2 < \\beta_1 < 1$.\n",
    "4. $0 < \\beta_1 = \\beta_2 < 1$."
   ]
  },
  {
   "cell_type": "markdown",
   "id": "e707f681",
   "metadata": {},
   "source": [
    "# Question 2\n",
    "Suppose that $f: \\mathbb{R}^n \\rightarrow \\mathbb{R}$ is a\n",
    "differentiable nonlinear function, $x_k\\in\\mathbb{R}^n$ is a point\n",
    "and $d_k\\in\\mathbb{R}^n$ is a descent direction. Consider $\\alpha^*$\n",
    "the step that minimizes the function along $d_k$, that is\n",
    "$$\n",
    "f(x_k + \\alpha^* d_k ) \\leq f(x_k + \\alpha d_k), \\quad \\forall \\alpha \\geq 0\n",
    "$$\n",
    "What can be said about $\\alpha^*$?"
   ]
  },
  {
   "cell_type": "markdown",
   "id": "3f64ff29",
   "metadata": {},
   "source": [
    "1. $\\alpha^*$ always verifies both Wolfe conditions.\n",
    "2. $\\alpha^*$ always verifies the first Wolfe condition, but not necessarily the second.\n",
    "3. $\\alpha^*$ verifies the second Wolfe condition, but not necessarily the first.\n",
    "4. Nothing can be said about the validity of the Wolfe conditions at $\\alpha^*$ in the general case."
   ]
  }
 ],
 "metadata": {},
 "nbformat": 4,
 "nbformat_minor": 5
}

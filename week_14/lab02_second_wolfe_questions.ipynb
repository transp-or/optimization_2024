{
 "cells": [
  {
   "cell_type": "markdown",
   "id": "ff308b6f",
   "metadata": {},
   "source": [
    "# Second Wolfe conditions\n",
    "\n",
    "## Introduction to optimization and operations research.\n",
    "\n",
    "Michel Bierlaire\n"
   ]
  },
  {
   "cell_type": "code",
   "execution_count": null,
   "id": "bd3b9f83",
   "metadata": {},
   "outputs": [],
   "source": [
    "\n",
    "import numpy as np\n",
    "from matplotlib import pyplot as plt\n",
    "from scipy.optimize import fsolve\n"
   ]
  },
  {
   "cell_type": "markdown",
   "id": "9c263102",
   "metadata": {},
   "source": [
    "Consider the unconstrained optimization problem\n",
    "$$\\min_{x \\in \\mathbb{R}^2} f(x)=x_1^2+x_1x_2+2x_2^2,\n",
    "$$\n",
    "and the point $x_0=(1,1)^T$.\n",
    "\n",
    "\n",
    "- Calculate Newton's direction at $x_0$.\n",
    "- Verify that it is a descent direction.\n",
    "- Consider the second Wolfe condition with $\\beta_2=0.7$. What are\n",
    "the values of the step $\\alpha$ that verify the condition?"
   ]
  },
  {
   "cell_type": "markdown",
   "id": "88ab5d39",
   "metadata": {},
   "source": [
    "First, implement the function and its derivatives"
   ]
  },
  {
   "cell_type": "code",
   "execution_count": null,
   "id": "0a41bd68",
   "metadata": {},
   "outputs": [],
   "source": [
    "\n",
    "\n",
    "def f(x: np.array) -> float:\n",
    "    \"\"\"Objective function\"\"\"\n",
    "    # Python starts the numbering at zero\n",
    "    x_1 = x[0]\n",
    "    x_2 = x[1]\n",
    "    result = ????\n",
    "    return result\n",
    "\n"
   ]
  },
  {
   "cell_type": "code",
   "execution_count": null,
   "id": "a2ce045d",
   "metadata": {},
   "outputs": [],
   "source": [
    "x_zero = np.array([1.0, 1.0])\n",
    "f_zero = f(x_zero)\n",
    "print(f'f({x_zero}) = {f_zero}')\n",
    "\n"
   ]
  },
  {
   "cell_type": "code",
   "execution_count": null,
   "id": "d3988394",
   "metadata": {},
   "outputs": [],
   "source": [
    "def gradient(x: np.array) -> np.array:\n",
    "    \"\"\"Gradient of the objective function\"\"\"\n",
    "    x_1 = x[0]\n",
    "    x_2 = x[1]\n",
    "    g_1 = ????\n",
    "    g_2 = ????\n",
    "    return np.array([g_1, g_2])\n",
    "\n"
   ]
  },
  {
   "cell_type": "code",
   "execution_count": null,
   "id": "63f701a5",
   "metadata": {},
   "outputs": [],
   "source": [
    "g_zero = gradient(x_zero)\n",
    "print(f'Gradient of f({x_zero}) = {g_zero}')\n",
    "\n"
   ]
  },
  {
   "cell_type": "code",
   "execution_count": null,
   "id": "4ae904a3",
   "metadata": {},
   "outputs": [],
   "source": [
    "def hessian(x: np.array) -> np.array:\n",
    "    \"\"\"Second derivative matrix of the objective function\"\"\"\n",
    "\n",
    "    x_1 = x[0]\n",
    "    x_2 = x[1]\n",
    "    h_1_1 = ????\n",
    "    h_1_2 = ????\n",
    "    h_2_1 = ????\n",
    "    h_2_2 = ????\n",
    "    h = np.array([[h_1_1, h_1_2], [h_2_1, h_2_2]])\n",
    "    return h\n",
    "\n"
   ]
  },
  {
   "cell_type": "code",
   "execution_count": null,
   "id": "ed265dcb",
   "metadata": {},
   "outputs": [],
   "source": [
    "h_zero = hessian(x_zero)\n",
    "print(f'Hessian of f({x_zero}) =\\n{h_zero}')\n",
    "\n",
    "\n",
    "\n"
   ]
  },
  {
   "cell_type": "markdown",
   "id": "510458ee",
   "metadata": {},
   "source": [
    "Calculate Newton's direction"
   ]
  },
  {
   "cell_type": "code",
   "execution_count": null,
   "id": "10736ca8",
   "metadata": {},
   "outputs": [],
   "source": [
    "newton_direction = ????\n",
    "print(f\"Newton's direction: {newton_direction}\")\n"
   ]
  },
  {
   "cell_type": "markdown",
   "id": "81551683",
   "metadata": {},
   "source": [
    "Verify that it is a descent direction."
   ]
  },
  {
   "cell_type": "code",
   "execution_count": null,
   "id": "33fe5f30",
   "metadata": {},
   "outputs": [],
   "source": [
    "\n",
    "\n",
    "\n",
    "\n",
    "\n",
    "if ????:\n",
    "    print('Descent direction')\n",
    "else:\n",
    "    print('Not a descent direction')\n",
    "\n"
   ]
  },
  {
   "cell_type": "markdown",
   "id": "6a44e339",
   "metadata": {},
   "source": [
    "Write the function that associates a step alpha along Newton's direction with the value of\n",
    "the objective function"
   ]
  },
  {
   "cell_type": "code",
   "execution_count": null,
   "id": "5030837e",
   "metadata": {},
   "outputs": [],
   "source": [
    "def linesearch(alpha: float) -> float:\n",
    "    \"\"\"\n",
    "\n",
    "    :param alpha: step along the direction\n",
    "    :return: value of the objective function\n",
    "    \"\"\"\n",
    "    new_point = ????\n",
    "    return f(new_point)\n",
    "\n"
   ]
  },
  {
   "cell_type": "markdown",
   "id": "d65ad936",
   "metadata": {},
   "source": [
    "We plot the function."
   ]
  },
  {
   "cell_type": "code",
   "execution_count": null,
   "id": "638e6a76",
   "metadata": {},
   "outputs": [],
   "source": [
    "alpha_values = np.linspace(0, 2.5, 100)\n",
    "objective_values = [linesearch(alpha) for alpha in alpha_values]\n",
    "plt.plot(alpha_values, objective_values)\n",
    "plt.xlabel('Step alpha')\n",
    "plt.ylabel('Objective Function Value')\n",
    "plt.title('Line Search Plot')\n",
    "plt.grid(True)\n",
    "plt.ylim(top=4)\n",
    "plt.show()\n",
    "\n"
   ]
  },
  {
   "cell_type": "markdown",
   "id": "7d8a1de1",
   "metadata": {},
   "source": [
    "Consider the second Wolfe condition with $\\beta_2=0.7$.\n",
    "$$\n",
    "\\nabla f(x_\\alpha)^Td_N \\geq \\beta_2 \\nabla f(x_0)^Td_N.\n",
    "$$"
   ]
  },
  {
   "cell_type": "code",
   "execution_count": null,
   "id": "4e6e451a",
   "metadata": {},
   "outputs": [],
   "source": [
    "beta_2 = 0.7\n",
    "\n"
   ]
  },
  {
   "cell_type": "markdown",
   "id": "867408ee",
   "metadata": {},
   "source": [
    "Consider this equivalent version of the same condition.\n",
    "$$\n",
    "\\frac{\\nabla f(x_\\alpha)^Td_N}{\\nabla f(x_0)^Td_N} \\leq \\beta_2.\n",
    "$$\n",
    "Note that the inequality has changed because $\\nabla f(x_0)^Td_N < 0$.\n",
    "\n",
    "We defined the function calculating that ratio."
   ]
  },
  {
   "cell_type": "code",
   "execution_count": null,
   "id": "603f5500",
   "metadata": {},
   "outputs": [],
   "source": [
    "def second_wolfe(alpha: float) -> float:\n",
    "    \"\"\"\n",
    "    Second wolfe condition\n",
    "\n",
    "    :param alpha: step along the direction\n",
    "    :return: ratio of the second Wolfe condition\n",
    "    \"\"\"\n",
    "\n",
    "    numerator = ????\n",
    "\n",
    "\n",
    "    denominator = ????\n",
    "    return numerator / denominator\n",
    "\n"
   ]
  },
  {
   "cell_type": "markdown",
   "id": "5553589b",
   "metadata": {},
   "source": [
    "Plot the line."
   ]
  },
  {
   "cell_type": "code",
   "execution_count": null,
   "id": "911c4eae",
   "metadata": {},
   "outputs": [],
   "source": [
    "wolfe_values = [second_wolfe(alpha) for alpha in alpha_values]\n",
    "plt.plot(alpha_values, objective_values)\n",
    "plt.plot(alpha_values, wolfe_values)\n",
    "plt.axhline(y=beta_2, color='blue', linestyle='--')\n",
    "plt.text(\n",
    "    alpha_values[-1], beta_2, f'beta_2={beta_2}', color='blue', ha='right', va='bottom'\n",
    ")\n",
    "plt.xlabel('Step alpha')\n",
    "plt.ylabel('Objective Function Value')\n",
    "plt.title('Line Search Plot')\n",
    "plt.grid(True)\n",
    "plt.ylim(top=4)\n",
    "plt.show()\n"
   ]
  },
  {
   "cell_type": "markdown",
   "id": "91407c97",
   "metadata": {},
   "source": [
    "The line should intersect two points:\n",
    "\n",
    "- At $\\alpha=0$, it is equal to 1.\n",
    "- At $\\alpha$ corresponding to the minimum of the function, it is equal to 0. Indeed, the directional\n",
    "derivative is zero for this value of $\\alpha$."
   ]
  },
  {
   "cell_type": "markdown",
   "id": "ac61b889",
   "metadata": {},
   "source": [
    "What are the values of the step $\\alpha$ that verify the condition?"
   ]
  },
  {
   "cell_type": "markdown",
   "id": "ab5b60f9",
   "metadata": {},
   "source": [
    "We need to find the values of alpha such that the difference is positive"
   ]
  },
  {
   "cell_type": "code",
   "execution_count": null,
   "id": "dd4981e4",
   "metadata": {},
   "outputs": [],
   "source": [
    "def difference(alpha: float) -> float:\n",
    "    \"\"\"\n",
    "    Difference between the first wolfe condition and the function\n",
    "\n",
    "    :param alpha: step along the direction\n",
    "    :return: Wolfe condition\n",
    "    \"\"\"\n",
    "    return ????\n",
    "\n"
   ]
  },
  {
   "cell_type": "markdown",
   "id": "89ec9ff5",
   "metadata": {},
   "source": [
    "Find the root of that function. Use the function `fsolve` from `scipy`."
   ]
  },
  {
   "cell_type": "code",
   "execution_count": null,
   "id": "c54eb6b3",
   "metadata": {},
   "outputs": [],
   "source": [
    "\n",
    "root = ????\n",
    "print(f'Point where the ratio equals beta_2: {root:.2g}')\n"
   ]
  },
  {
   "cell_type": "markdown",
   "id": "e79567bf",
   "metadata": {},
   "source": [
    "Plot the function with the root."
   ]
  },
  {
   "cell_type": "code",
   "execution_count": null,
   "id": "65d3683b",
   "metadata": {},
   "outputs": [],
   "source": [
    "plt.plot(alpha_values, objective_values)\n",
    "plt.plot(alpha_values, wolfe_values)\n",
    "plt.axvline(root, color='red', linestyle='--')\n",
    "plt.axhline(y=beta_2, color='blue', linestyle='--')\n",
    "plt.text(\n",
    "    alpha_values[-1], beta_2, f'beta_2={beta_2}', color='blue', ha='right', va='bottom'\n",
    ")\n",
    "plt.text(\n",
    "    root, 2.5, f'alpha={root:.2g}', color='blue', ha='left', va='bottom', rotation=90\n",
    ")\n",
    "plt.xlabel('Step alpha')\n",
    "plt.ylabel('Objective Function Value')\n",
    "plt.title('Line Search Plot')\n",
    "plt.ylim(top=4)\n",
    "plt.show()\n",
    "\n",
    "\n"
   ]
  }
 ],
 "metadata": {},
 "nbformat": 4,
 "nbformat_minor": 5
}

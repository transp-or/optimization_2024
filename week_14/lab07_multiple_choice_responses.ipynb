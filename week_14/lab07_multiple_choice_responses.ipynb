{
 "cells": [
  {
   "cell_type": "markdown",
   "id": "a1b24cc4",
   "metadata": {},
   "source": [
    "# Non linear optimization: multiple choice questions\n",
    "\n",
    "## Introduction to optimization and operations research\n",
    "\n",
    "Michel Bierlaire\n"
   ]
  },
  {
   "cell_type": "code",
   "execution_count": null,
   "id": "fc1132f5",
   "metadata": {},
   "outputs": [],
   "source": [
    "\n",
    "import matplotlib.pyplot as plt\n",
    "import numpy as np\n"
   ]
  },
  {
   "cell_type": "markdown",
   "id": "b1e1bd48",
   "metadata": {},
   "source": [
    "# Question 1\n",
    "Suppose that $f: \\mathbb{R}^n \\rightarrow \\mathbb{R}$ is a differentiable nonlinear function,\n",
    "$x_k\\in\\mathbb{R}^n$ is a point and $d_k\\in\\mathbb{R}^n$ is a descent direction such that $\\nabla f(x_k)^T d_k < 0$,\n",
    "and that $f$ is bounded from below in the direction $d_k$. We write the two Wolfe's conditions as:\n",
    "$$\n",
    "f(x_k + \\alpha d_k) \\leq f(x_k) + \\alpha\\beta_1\\nabla f(x_k)^T d_k\n",
    "$$\n",
    "and\n",
    "$$\n",
    "\\frac{\\nabla f(x_k + \\alpha d_k)^T d_k}{\\nabla f(x_k)^Td_k} \\leq \\beta_2.\n",
    "$$\n",
    "Which condition should be satisfied by Wolfe's parameters $\\beta_1$ and $\\beta_2$ so that we can be sure that\n",
    "there exists a step size $\\alpha$ that satisfies both Wolfe's conditions?"
   ]
  },
  {
   "cell_type": "markdown",
   "id": "84644550",
   "metadata": {},
   "source": [
    "1. Such as  condition does not exist.\n",
    "2. $0 < \\beta_1 < \\beta_2 < 1$.\n",
    "3. $0 < \\beta_2 < \\beta_1 < 1$.\n",
    "4. $0 < \\beta_1 = \\beta_2 < 1$."
   ]
  },
  {
   "cell_type": "markdown",
   "id": "16fb3e9a",
   "metadata": {},
   "source": [
    "A sufficient condition for the Wolfe conditions to be compatible\n",
    "is that $0 < \\beta_1 < \\beta_2 < 1$. This is Theorem 11.9 in the book."
   ]
  },
  {
   "cell_type": "markdown",
   "id": "f2d28aff",
   "metadata": {},
   "source": [
    "# Question 2\n",
    "Suppose that $f: \\mathbb{R}^n \\rightarrow \\mathbb{R}$ is a\n",
    "differentiable nonlinear function, $x_k\\in\\mathbb{R}^n$ is a point\n",
    "and $d_k\\in\\mathbb{R}^n$ is a descent direction. Consider $\\alpha^*$\n",
    "the step that minimizes the function along $d_k$, that is\n",
    "$$\n",
    "f(x_k + \\alpha^* d_k ) \\leq f(x_k + \\alpha d_k), \\quad \\forall \\alpha \\geq 0\n",
    "$$\n",
    "What can be said about $\\alpha^*$?"
   ]
  },
  {
   "cell_type": "markdown",
   "id": "b3b84384",
   "metadata": {},
   "source": [
    "1. $\\alpha^*$ always verifies both Wolfe conditions.\n",
    "2. $\\alpha^*$ always verifies the first Wolfe condition, but not necessarily the second.\n",
    "3. $\\alpha^*$ verifies the second Wolfe condition, but not necessarily the first.\n",
    "4. Nothing can be said about the validity of the Wolfe conditions at $\\alpha^*$ in the general case."
   ]
  },
  {
   "cell_type": "markdown",
   "id": "26570900",
   "metadata": {},
   "source": [
    "The second Wolfe condition is\n",
    "$$\n",
    "\\frac{\\nabla f(x_k + \\alpha^* d_k)^T d_k}{\\nabla f(x_k)^T d_k} \\leq \\beta_2.\n",
    "$$\n",
    "As $\\alpha^*$ minimizes the function along $d_k$, the directional\n",
    "derivative at $\\alpha^*$ is zero, that is\n",
    "$$\n",
    "\\nabla f(x_k + \\alpha^* d_k)^Td_k = 0.\n",
    "$$\n",
    "As $\\beta_2 > 0$, the second Wolfe condition is verified.\n",
    "\n",
    "The first Wolfe condition is not necessarily verified. If the value\n",
    "of $\\beta_1$ is large, this condition allows only short steps. It\n",
    "is illustrated by the figure below, where\n",
    "$$\n",
    "f(x_k + \\alpha d_k) = 2 \\alpha^2 - 12 \\alpha + 55,\n",
    "$$\n",
    "and $\\beta_1=\\frac{2}{3}$.\n",
    "Therefore, the line defined by the first\n",
    "Wolfe condition is\n",
    "$$\n",
    "-8\\alpha + 55.\n",
    "$$\n",
    "It crosses the curve at $\\alpha_\\text{max}=2$, before its minimum $\\alpha^*=3$. Only steps\n",
    "shorter than $\\alpha_\\text{max}$ are accepted. And\n",
    "the step $\\alpha^*$, corresponding to the minimum, is rejected by the condition."
   ]
  },
  {
   "cell_type": "code",
   "execution_count": null,
   "id": "219e6d3a",
   "metadata": {},
   "outputs": [],
   "source": [
    "\n",
    "\n",
    "x = np.linspace(0, 5, 400)\n",
    "y1 = 2 * x**2 - 12 * x + 55\n",
    "y2 = 55 - 8 * x\n",
    "plt.figure(figsize=(8, 6))\n",
    "plt.plot(x, y1, label=r'$2 \\alpha^2 - 12 \\alpha + 55$', color='blue')\n",
    "plt.plot(x, y2, label=r'$55 - 8\\alpha$', color='red', linewidth=2)\n",
    "plt.xlim(0, 5)\n",
    "plt.ylim(35, 57)\n",
    "\n",
    "plt.xlabel(r'$\\alpha$')\n",
    "plt.xticks([2, 3], [r'$\\alpha_{\\mathrm{max}}=2$', r'$\\alpha^*=3$'])\n",
    "\n",
    "plt.legend()\n",
    "plt.grid(True)\n",
    "plt.show()"
   ]
  }
 ],
 "metadata": {},
 "nbformat": 4,
 "nbformat_minor": 5
}

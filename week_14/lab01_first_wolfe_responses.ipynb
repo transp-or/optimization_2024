{
 "cells": [
  {
   "cell_type": "markdown",
   "id": "642d15dc",
   "metadata": {},
   "source": [
    "# First Wolfe conditions\n",
    "\n",
    "## Introduction to optimization and operations research.\n",
    "\n",
    "Michel Bierlaire\n"
   ]
  },
  {
   "cell_type": "code",
   "execution_count": null,
   "id": "784dcd13",
   "metadata": {},
   "outputs": [],
   "source": [
    "\n",
    "import numpy as np\n",
    "from matplotlib import pyplot as plt\n",
    "from scipy.optimize import fsolve\n",
    "\n"
   ]
  },
  {
   "cell_type": "markdown",
   "id": "238eb6ad",
   "metadata": {},
   "source": [
    "Consider the unconstrained optimization problem\n",
    "$$\\min_{x \\in \\mathbb{R}^2} f(x)=4x_1^2-4x_1+x_2^2+2x_2,\n",
    "$$\n",
    "and the point $x_0=(0,0)^T$.\n",
    "\n",
    "- Calculate Newton's direction at $x_0$.\n",
    "- Verify that it is a descent direction.\n",
    "- Consider the first Wolfe condition with $\\beta_1=0.1$. What are\n",
    "the values of the step $\\alpha$ that verify the condition?"
   ]
  },
  {
   "cell_type": "markdown",
   "id": "d8deabb9",
   "metadata": {},
   "source": [
    "First, implement the function and its derivatives"
   ]
  },
  {
   "cell_type": "code",
   "execution_count": null,
   "id": "823f656c",
   "metadata": {},
   "outputs": [],
   "source": [
    "\n",
    "\n",
    "def f(x: np.array) -> float:\n",
    "    \"\"\"Objective function\"\"\"\n",
    "    # Python starts the numbering at zero\n",
    "    x_1 = x[0]\n",
    "    x_2 = x[1]\n",
    "    result = 4 * x_1 * x_1 - 4 * x_1 + x_2 * x_2 + 2 * x_2\n",
    "    return result\n",
    "\n"
   ]
  },
  {
   "cell_type": "code",
   "execution_count": null,
   "id": "0ba7f87c",
   "metadata": {},
   "outputs": [],
   "source": [
    "x_zero = np.array([0.0, 0.0])\n",
    "f_zero = f(x_zero)\n",
    "print(f'f({x_zero}) = {f_zero}')\n",
    "\n"
   ]
  },
  {
   "cell_type": "code",
   "execution_count": null,
   "id": "4e15d1e7",
   "metadata": {},
   "outputs": [],
   "source": [
    "def gradient(x: np.array) -> np.array:\n",
    "    \"\"\"Gradient of the objective function\"\"\"\n",
    "    x_1 = x[0]\n",
    "    x_2 = x[1]\n",
    "    g_1 = 8 * x_1 - 4\n",
    "    g_2 = 2 * x_2 + 2\n",
    "    return np.array([g_1, g_2])\n",
    "\n"
   ]
  },
  {
   "cell_type": "code",
   "execution_count": null,
   "id": "e0a84273",
   "metadata": {},
   "outputs": [],
   "source": [
    "g_zero = gradient(x_zero)\n",
    "print(f'Gradient of f({x_zero}) = {g_zero}')\n",
    "\n"
   ]
  },
  {
   "cell_type": "code",
   "execution_count": null,
   "id": "4dfb4d34",
   "metadata": {},
   "outputs": [],
   "source": [
    "def hessian(x: np.array) -> np.array:\n",
    "    \"\"\"Second derivative matrix of the objective function\"\"\"\n",
    "    # In this case, the hessian does not depend on x\n",
    "    x_1 = x[0]\n",
    "    x_2 = x[1]\n",
    "    h_1_1 = 8\n",
    "    h_1_2 = 0\n",
    "    h_2_1 = 0\n",
    "    h_2_2 = 2\n",
    "    h = np.array([[h_1_1, h_1_2], [h_2_1, h_2_2]])\n",
    "    return h\n",
    "\n"
   ]
  },
  {
   "cell_type": "code",
   "execution_count": null,
   "id": "8e7e14b0",
   "metadata": {},
   "outputs": [],
   "source": [
    "h_zero = hessian(x_zero)\n",
    "print(f'Hessian of f({x_zero}) =\\n{h_zero}')\n"
   ]
  },
  {
   "cell_type": "markdown",
   "id": "7de803da",
   "metadata": {},
   "source": [
    "Note that there exists Python packages for automatic differentiation,\n",
    "such as ``autograd``or ``jax``."
   ]
  },
  {
   "cell_type": "markdown",
   "id": "8c0e1752",
   "metadata": {},
   "source": [
    "Calculate Newton's direction"
   ]
  },
  {
   "cell_type": "code",
   "execution_count": null,
   "id": "a8df98b2",
   "metadata": {},
   "outputs": [],
   "source": [
    "newton_direction = np.linalg.solve(h_zero, -g_zero)\n",
    "print(f\"Newton's direction: {newton_direction}\")\n"
   ]
  },
  {
   "cell_type": "markdown",
   "id": "a70c7767",
   "metadata": {},
   "source": [
    "Verify that it is a descent direction.\n",
    "We calculate the directional derivative."
   ]
  },
  {
   "cell_type": "code",
   "execution_count": null,
   "id": "cadad1fb",
   "metadata": {},
   "outputs": [],
   "source": [
    "directional_derivative = np.inner(newton_direction, g_zero)\n",
    "print(f'Directional derivative: {directional_derivative}')\n"
   ]
  },
  {
   "cell_type": "markdown",
   "id": "c6f42e66",
   "metadata": {},
   "source": [
    "It must be negative."
   ]
  },
  {
   "cell_type": "code",
   "execution_count": null,
   "id": "ee00b26b",
   "metadata": {},
   "outputs": [],
   "source": [
    "if directional_derivative < 0:\n",
    "    print('Descent direction')\n",
    "else:\n",
    "    print('Not a descent direction')\n",
    "\n"
   ]
  },
  {
   "cell_type": "markdown",
   "id": "324df51a",
   "metadata": {},
   "source": [
    "Write the function that associates a step alpha along Newton's direction with the value of\n",
    "the objective function"
   ]
  },
  {
   "cell_type": "code",
   "execution_count": null,
   "id": "3b001fa3",
   "metadata": {},
   "outputs": [],
   "source": [
    "def linesearch(alpha: float) -> float:\n",
    "    \"\"\"\n",
    "\n",
    "    :param alpha: step along the direction\n",
    "    :return: value of the objective function\n",
    "    \"\"\"\n",
    "    new_point = x_zero + alpha * newton_direction\n",
    "    return f(new_point)\n",
    "\n"
   ]
  },
  {
   "cell_type": "markdown",
   "id": "a09a1625",
   "metadata": {},
   "source": [
    "We plot the function."
   ]
  },
  {
   "cell_type": "code",
   "execution_count": null,
   "id": "e6786fc8",
   "metadata": {},
   "outputs": [],
   "source": [
    "alpha_values = np.linspace(0, 2.5, 100)\n",
    "objective_values = [linesearch(alpha) for alpha in alpha_values]\n",
    "plt.plot(alpha_values, objective_values)\n",
    "plt.xlabel('Step alpha')\n",
    "plt.ylabel('Objective Function Value')\n",
    "plt.title('Line Search Plot')\n",
    "plt.grid(True)\n",
    "plt.show()\n"
   ]
  },
  {
   "cell_type": "markdown",
   "id": "fb979f4f",
   "metadata": {},
   "source": [
    "Consider the first Wolfe condition with $\\beta_1=0.1$.\n",
    "$$\n",
    "f(x_\\alpha)  \\leq f(x_0) + \\alpha \\beta_1\\nabla f(x_0)^Td_N.\n",
    "$$"
   ]
  },
  {
   "cell_type": "code",
   "execution_count": null,
   "id": "b6aa691b",
   "metadata": {},
   "outputs": [],
   "source": [
    "beta_1 = 0.1\n",
    "\n"
   ]
  },
  {
   "cell_type": "markdown",
   "id": "e057e3ad",
   "metadata": {},
   "source": [
    "Equation of the line defining the first Wolfe condition:\n",
    "$$\n",
    "y(\\alpha) = f(x_0) + \\alpha \\beta_1\\nabla f(x_0)^Td_N.\n",
    "$$"
   ]
  },
  {
   "cell_type": "code",
   "execution_count": null,
   "id": "d009441e",
   "metadata": {},
   "outputs": [],
   "source": [
    "def wolfe(alpha: float) -> float:\n",
    "    \"\"\"\n",
    "    First wolfe condition\n",
    "\n",
    "    :param alpha: step along the direction\n",
    "    :return: Wolfe condition\n",
    "    \"\"\"\n",
    "    result = f_zero + alpha * beta_1 * directional_derivative\n",
    "    return result\n",
    "\n"
   ]
  },
  {
   "cell_type": "markdown",
   "id": "d8858156",
   "metadata": {},
   "source": [
    "Plot the line."
   ]
  },
  {
   "cell_type": "code",
   "execution_count": null,
   "id": "103ae55c",
   "metadata": {},
   "outputs": [],
   "source": [
    "wolfe_values = [wolfe(alpha) for alpha in alpha_values]\n",
    "plt.plot(alpha_values, objective_values)\n",
    "plt.plot(alpha_values, wolfe_values)\n",
    "plt.xlabel('Step alpha')\n",
    "plt.ylabel('Objective Function Value')\n",
    "plt.title('Line Search Plot')\n",
    "plt.grid(True)\n",
    "plt.show()\n"
   ]
  },
  {
   "cell_type": "markdown",
   "id": "f3b42b78",
   "metadata": {},
   "source": [
    "What are the values of the step $\\alpha$ that verify the condition?"
   ]
  },
  {
   "cell_type": "markdown",
   "id": "151fe8e3",
   "metadata": {},
   "source": [
    "We need to find the values of alpha such that the difference is positive:\n",
    "$$\n",
    "\\text{diff}(\\alpha) = f(x_0) + \\alpha \\beta_1\\nabla f(x_0)^Td_N - f(x_\\alpha) \\geq 0.\n",
    "$$"
   ]
  },
  {
   "cell_type": "code",
   "execution_count": null,
   "id": "f2006934",
   "metadata": {},
   "outputs": [],
   "source": [
    "def difference(alpha: float) -> float:\n",
    "    \"\"\"\n",
    "    Difference between the first wolfe condition and the function\n",
    "\n",
    "    :param alpha: step along the direction\n",
    "    :return: Wolfe condition\n",
    "    \"\"\"\n",
    "    return wolfe(alpha) - linesearch(alpha)\n",
    "\n"
   ]
  },
  {
   "cell_type": "markdown",
   "id": "55fdaa1e",
   "metadata": {},
   "source": [
    "Find the root of that function. Use the function `fsolve` from `scipy`."
   ]
  },
  {
   "cell_type": "code",
   "execution_count": null,
   "id": "afb2a2b7",
   "metadata": {},
   "outputs": [],
   "source": [
    "guess = 1.5\n",
    "root = fsolve(difference, guess)[0]\n",
    "print(f'Intersection of the function and the Wolfe line: {root:.2g}')\n"
   ]
  },
  {
   "cell_type": "markdown",
   "id": "832c76b3",
   "metadata": {},
   "source": [
    "Plot the function with the root."
   ]
  },
  {
   "cell_type": "code",
   "execution_count": null,
   "id": "15698c7b",
   "metadata": {},
   "outputs": [],
   "source": [
    "plt.plot(alpha_values, objective_values)\n",
    "plt.plot(alpha_values, wolfe_values)\n",
    "plt.axvline(root, color='red', linestyle='--')\n",
    "plt.xlabel('Step alpha')\n",
    "plt.ylabel('Objective Function Value')\n",
    "plt.title('Line Search Plot')\n",
    "plt.show()\n"
   ]
  },
  {
   "cell_type": "markdown",
   "id": "609b5a43",
   "metadata": {},
   "source": [
    "The values of the step $\\alpha$ that verify the condition are\n",
    "$$ 0 < \\alpha \\leq 1.8$$."
   ]
  }
 ],
 "metadata": {},
 "nbformat": 4,
 "nbformat_minor": 5
}

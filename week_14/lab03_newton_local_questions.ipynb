{
 "cells": [
  {
   "cell_type": "markdown",
   "id": "a61a0e91",
   "metadata": {},
   "source": [
    "# Non linear optimization: Newton local\n",
    "\n",
    "## Introduction to optimization and operations research\n",
    "\n",
    "Michel Bierlaire\n"
   ]
  },
  {
   "cell_type": "code",
   "execution_count": null,
   "id": "3cba450d",
   "metadata": {},
   "outputs": [],
   "source": [
    "\n",
    "from collections.abc import Callable\n",
    "\n",
    "import numpy as np\n",
    "from matplotlib import pyplot as plt\n",
    "from mpl_toolkits.mplot3d import Axes3D\n"
   ]
  },
  {
   "cell_type": "markdown",
   "id": "bce2d6e9",
   "metadata": {},
   "source": [
    "Consider the function $f:\\mathbb{R}^2 \\to \\mathbb{R}$ defined as\n",
    "$$\n",
    "f(x)=\\frac{9}{2} x_1^2 + \\frac{1}{2}x_2^2.\n",
    "$$"
   ]
  },
  {
   "cell_type": "markdown",
   "id": "960d4b8d",
   "metadata": {},
   "source": [
    "#  Question 1\n",
    "Implement a Python function that calculates the function above, as well as its gradient and second derivatives\n",
    "matrix. Test it with $x=(1,1)^T$."
   ]
  },
  {
   "cell_type": "code",
   "execution_count": null,
   "id": "07e57fc9",
   "metadata": {},
   "outputs": [],
   "source": [
    "def objective_function(x: np.array) -> tuple[float, np.array, np.array]:\n",
    "    \"\"\"Calculates the objective function and its derivatives\n",
    "\n",
    "    :param x: an array of dimension 2\n",
    "    :return: a tuple with the value of the function, the gradient and the second derivatives matrix\n",
    "    \"\"\"\n",
    "    if len(x) != 2:\n",
    "        error_msg = f'A vector of size 2 is requested. Not {len(x)}'\n",
    "        raise ValueError(error_msg)\n",
    "\n",
    "    f = ????\n",
    "    g = ????\n",
    "    h = ????\n",
    "    return f, g, h\n",
    "\n"
   ]
  },
  {
   "cell_type": "markdown",
   "id": "5892a05d",
   "metadata": {},
   "source": [
    "Test the function"
   ]
  },
  {
   "cell_type": "code",
   "execution_count": null,
   "id": "2510cce3",
   "metadata": {},
   "outputs": [],
   "source": [
    "x = np.array([1, 1])\n",
    "function, gradient, hessian = objective_function(x)\n",
    "print(f'f(x)={function}')\n",
    "print(f'gradient(x)={gradient}')\n",
    "print(f'hessian(x)={hessian}')\n",
    "\n"
   ]
  },
  {
   "cell_type": "markdown",
   "id": "7bfceaa0",
   "metadata": {},
   "source": [
    "We implement a function that plots a function with two variables."
   ]
  },
  {
   "cell_type": "code",
   "execution_count": null,
   "id": "58cd0302",
   "metadata": {},
   "outputs": [],
   "source": [
    "def plot(a_function: Callable[[np.array], float]) -> None:\n",
    "    \"\"\"\n",
    "    Plot a function in 3D.\n",
    "\n",
    "    :param a_function: the function to plot\n",
    "    \"\"\"\n",
    "    x1_values = np.linspace(-10, 10, 100)\n",
    "    x2_values = np.linspace(-10, 10, 100)\n",
    "    X1, X2 = np.meshgrid(x1_values, x2_values)\n",
    "    Y = np.array(\n",
    "        [\n",
    "            [a_function(np.array([x1, x2])) for x1, x2 in zip(row_x1, row_x2)]\n",
    "            for row_x1, row_x2 in zip(X1, X2)\n",
    "        ]\n",
    "    )\n",
    "    fig = plt.figure(figsize=(10, 7))\n",
    "    ax = fig.add_subplot(111, projection='3d')\n",
    "    ax.plot_surface(X1, X2, Y, cmap='viridis')\n",
    "\n",
    "    ax.set_xlabel('x_1')\n",
    "    ax.set_ylabel('x_2')\n",
    "    plt.show()\n",
    "\n"
   ]
  },
  {
   "cell_type": "markdown",
   "id": "2a9c1f73",
   "metadata": {},
   "source": [
    "In order to plot, we need a function that returns only the value of the function, not the derivatives."
   ]
  },
  {
   "cell_type": "code",
   "execution_count": null,
   "id": "e7684e38",
   "metadata": {},
   "outputs": [],
   "source": [
    "def function_to_plot(x: np.array) -> float:\n",
    "    \"\"\"Function to be plotted. We ignore the derivatives\n",
    "\n",
    "    :param x: an array of dimension 2\n",
    "    :return: f(x)\n",
    "    \"\"\"\n",
    "    value, _, _ = objective_function(x)\n",
    "    return value\n",
    "\n"
   ]
  },
  {
   "cell_type": "code",
   "execution_count": null,
   "id": "171bdaa6",
   "metadata": {},
   "outputs": [],
   "source": [
    "plot(function_to_plot)\n",
    "\n"
   ]
  },
  {
   "cell_type": "markdown",
   "id": "4990e1d9",
   "metadata": {},
   "source": [
    "# Question 2\n",
    "Implement a Python function that calculates the quadratic model of the function at a point `x_plus`."
   ]
  },
  {
   "cell_type": "code",
   "execution_count": null,
   "id": "5eb00035",
   "metadata": {},
   "outputs": [],
   "source": [
    "def quadratic_model(x: np.array, x_plus: np.array) -> float:\n",
    "    \"\"\"Calculates the quadratic model around a point.\n",
    "\n",
    "    :param x: an array of dimension 2\n",
    "    :param x_plus: an array of dimension 2 with the point around which the model is built.\n",
    "    :return: the value of the quadratic model.\n",
    "    \"\"\"\n",
    "\n",
    "    the_model = ????\n",
    "\n",
    "\n",
    "\n",
    "\n",
    "    return the_model\n",
    "\n"
   ]
  },
  {
   "cell_type": "markdown",
   "id": "b9546189",
   "metadata": {},
   "source": [
    "We plot the model around the point $(1,1)$."
   ]
  },
  {
   "cell_type": "code",
   "execution_count": null,
   "id": "c4a9f9f0",
   "metadata": {},
   "outputs": [],
   "source": [
    "def model_to_plot(x: np.array) -> float:\n",
    "    \"\"\"Function to be plotted.\n",
    "\n",
    "    :param x: an array of dimension 2\n",
    "    :return: f(x)\n",
    "    \"\"\"\n",
    "    x_plus = np.array([1, 1])\n",
    "    value = quadratic_model(x, x_plus)\n",
    "    return value\n",
    "\n",
    "\n",
    "plot(model_to_plot)\n"
   ]
  },
  {
   "cell_type": "markdown",
   "id": "c9d4ef9b",
   "metadata": {},
   "source": [
    "# Question 3\n",
    "Calculates Newton's point at $(1, 1)$."
   ]
  },
  {
   "cell_type": "code",
   "execution_count": null,
   "id": "eb314a51",
   "metadata": {},
   "outputs": [],
   "source": [
    "x = np.array([1, 1])\n",
    "function, gradient, hessian = objective_function(x)\n",
    "\n",
    "\n",
    "\n",
    "\n",
    "\n",
    "\n"
   ]
  },
  {
   "cell_type": "code",
   "execution_count": null,
   "id": "527015bc",
   "metadata": {},
   "outputs": [],
   "source": [
    "newton_point = ????\n",
    "print(newton_point)\n"
   ]
  },
  {
   "cell_type": "markdown",
   "id": "280480ab",
   "metadata": {},
   "source": [
    "# Question 4\n",
    "Calculates Cauchy's point at $(1, 1)$."
   ]
  },
  {
   "cell_type": "code",
   "execution_count": null,
   "id": "74560a15",
   "metadata": {},
   "outputs": [],
   "source": [
    "cauchy_point = ????\n",
    "print(cauchy_point)\n"
   ]
  },
  {
   "cell_type": "markdown",
   "id": "960d4e3d",
   "metadata": {},
   "source": [
    "# Question 5\n",
    "Perform one iteration of Newton's local method."
   ]
  },
  {
   "cell_type": "markdown",
   "id": "4ba9cb02",
   "metadata": {},
   "source": [
    "An iteration of Newton's local method calculates Newton's\n",
    "point. We have already calculated it:\n",
    "$$\n",
    "x_N = \\left(\\begin{array}{c}0\\\\0\\end{array}\\right).\n",
    "$$"
   ]
  },
  {
   "cell_type": "code",
   "execution_count": null,
   "id": "7fa0ed97",
   "metadata": {},
   "outputs": [],
   "source": [
    "new_iterate = ????\n",
    "print(new_iterate)\n"
   ]
  },
  {
   "cell_type": "code",
   "execution_count": null,
   "id": "61510974",
   "metadata": {},
   "outputs": [],
   "source": [
    "f, gradient, hessian = objective_function(new_iterate)\n",
    "print(f'{f=}')\n",
    "print(f'{gradient=}')\n",
    "print(f'{hessian=}')\n",
    "\n",
    "\n",
    "\n",
    "\n",
    "\n",
    "\n"
   ]
  }
 ],
 "metadata": {},
 "nbformat": 4,
 "nbformat_minor": 5
}

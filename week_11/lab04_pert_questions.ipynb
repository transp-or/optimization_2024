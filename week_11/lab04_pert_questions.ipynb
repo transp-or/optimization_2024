{
 "cells": [
  {
   "cell_type": "markdown",
   "id": "92c10530",
   "metadata": {},
   "source": [
    "# Program Evaluation and Review Technique (PERT)\n",
    "\n",
    "## Introduction to optimization and operations research.\n",
    "\n",
    "Michel Bierlaire\n"
   ]
  },
  {
   "cell_type": "code",
   "execution_count": null,
   "id": "5f1b4501",
   "metadata": {},
   "outputs": [],
   "source": [
    "\n",
    "from typing import NamedTuple\n",
    "\n",
    "import pandas as pd\n",
    "from IPython.core.display_functions import display\n",
    "from matplotlib import pyplot as plt\n",
    "from networkx import DiGraph\n",
    "from teaching_optimization.networks import draw_network\n",
    "from teaching_optimization.networks.shortest_path_algorithm import ShortestPathAlgorithm\n",
    "\n"
   ]
  },
  {
   "cell_type": "markdown",
   "id": "c77df22f",
   "metadata": {},
   "source": [
    "The renovation of an apartment's living room breaks down into several\n",
    "tasks listed below. Precedence constraints have\n",
    "to be respected during the planning of the works. The duration of each task is given as well."
   ]
  },
  {
   "cell_type": "markdown",
   "id": "dad32078",
   "metadata": {},
   "source": [
    "The objective of this exercise is to\n",
    "\n",
    "- identify critical tasks that cannot suffer from any delay without delaying the project,\n",
    "- give the minimal timing of the duration of the work,\n",
    "- calculate the earliest starting dates of each task,\n",
    "- calculate the latest starting dates of each task."
   ]
  },
  {
   "cell_type": "markdown",
   "id": "0cbcd0ff",
   "metadata": {},
   "source": [
    "We first define a data structure for the tasks."
   ]
  },
  {
   "cell_type": "code",
   "execution_count": null,
   "id": "36d7eb5a",
   "metadata": {},
   "outputs": [],
   "source": [
    "class Task(NamedTuple):\n",
    "    name: str\n",
    "    description: str\n",
    "    precedence: list[str]\n",
    "    duration: float\n",
    "\n"
   ]
  },
  {
   "cell_type": "markdown",
   "id": "ed1b85db",
   "metadata": {},
   "source": [
    "Here is the list of tasks with the precedence constraints, and the duration."
   ]
  },
  {
   "cell_type": "code",
   "execution_count": null,
   "id": "5bd378ef",
   "metadata": {},
   "outputs": [],
   "source": [
    "tasks_list: list[Task] = [\n",
    "    Task('A', 'Door removal', [], 0.5),\n",
    "    Task('B', 'Sanding and painting doors', ['A'], 3),\n",
    "    Task('C', 'Hanging doors', ['B', 'J'], 0.5),\n",
    "    Task('D', 'Peeling off wallpapers', [], 1),\n",
    "    Task('E', 'Pulling electrical wires', ['D'], 1),\n",
    "    Task('F', 'Laying electrical outlet', ['E', 'H', 'I'], 0.5),\n",
    "    Task('G', 'Smoothing walls', ['E', 'A'], 2),\n",
    "    Task('H', 'Sanding of frames', ['G'], 2),\n",
    "    Task('I', 'Ceiling painting', ['G'], 3),\n",
    "    Task('J', 'Painting frames', ['H', 'I'], 1),\n",
    "    Task('K', 'Ripping off the carpet', ['H', 'I', 'J'], 0.5),\n",
    "    Task('L', 'Sanding parquet', ['K'], 1),\n",
    "    Task('M', 'Impregnation and drying of parquet', ['L', 'F'], 4),\n",
    "    Task('N', 'Balcony painting', [], 2),\n",
    "    Task('O', 'Change of solar protections', ['N'], 1),\n",
    "]\n",
    "\n"
   ]
  },
  {
   "cell_type": "markdown",
   "id": "5a37cb6c",
   "metadata": {},
   "source": [
    "Printing the list of tasks."
   ]
  },
  {
   "cell_type": "code",
   "execution_count": null,
   "id": "02c6920d",
   "metadata": {},
   "outputs": [],
   "source": [
    "for task in tasks_list:\n",
    "    print(task)\n"
   ]
  },
  {
   "cell_type": "markdown",
   "id": "a44b80c9",
   "metadata": {},
   "source": [
    "# Network representation"
   ]
  },
  {
   "cell_type": "markdown",
   "id": "87fdad10",
   "metadata": {},
   "source": [
    "We first need to provide a the_network representation of the problem."
   ]
  },
  {
   "cell_type": "markdown",
   "id": "25e659e6",
   "metadata": {},
   "source": [
    "We create a the_network where each node is a task.\n",
    "We also add one node \"b\" to represent the beginning of the project, and one node \"e\" to represent the end of the\n",
    "project. We also associate each node with a coordinate in order to display the the_network."
   ]
  },
  {
   "cell_type": "code",
   "execution_count": null,
   "id": "a24b7a84",
   "metadata": {},
   "outputs": [],
   "source": [
    "\n",
    "positions = {\n",
    "    'b': (0, 0),\n",
    "    'A': (1, 2),\n",
    "    'B': (2, 2),\n",
    "    'C': (6, 2),\n",
    "    'D': (1, 0),\n",
    "    'E': (2, 0),\n",
    "    'F': (5, -1),\n",
    "    'G': (3, 0),\n",
    "    'H': (4, 1),\n",
    "    'I': (4, 0),\n",
    "    'J': (5, 1.5),\n",
    "    'K': (6, 0),\n",
    "    'L': (7, 0),\n",
    "    'M': (8, 0),\n",
    "    'N': (1, -2),\n",
    "    'O': (5, -2),\n",
    "    'e': (9, 0),\n",
    "}\n",
    "\n",
    "nodes = list(positions.keys())\n"
   ]
  },
  {
   "cell_type": "markdown",
   "id": "bb8978f1",
   "metadata": {},
   "source": [
    "Now, generate the list of arcs of the the_network from the task description. Each arc is a tuple\n",
    "``(upstream_node, downstream_node, duration)``"
   ]
  },
  {
   "cell_type": "markdown",
   "id": "be869adb",
   "metadata": {},
   "source": [
    "First, we create a dict with the durations of the tasks."
   ]
  },
  {
   "cell_type": "code",
   "execution_count": null,
   "id": "ccf12d54",
   "metadata": {},
   "outputs": [],
   "source": [
    "tasks_duration: dict[str, float] = {task.name: task.duration for task in tasks_list}\n"
   ]
  },
  {
   "cell_type": "markdown",
   "id": "30462f1e",
   "metadata": {},
   "source": [
    "For each task $j$, we add an arc $(i,j)$ for each predecessor $i$."
   ]
  },
  {
   "cell_type": "code",
   "execution_count": null,
   "id": "33f30d8f",
   "metadata": {},
   "outputs": [],
   "source": [
    "list_1 = [\n",
    " ????\n",
    "\n",
    "\n",
    "]\n",
    "display(list_1)\n"
   ]
  },
  {
   "cell_type": "markdown",
   "id": "ccf3f952",
   "metadata": {},
   "source": [
    "For each task $j$ without predecessor, we define an arc $(b,j)$."
   ]
  },
  {
   "cell_type": "code",
   "execution_count": null,
   "id": "46194152",
   "metadata": {},
   "outputs": [],
   "source": [
    "list_2 = [\n",
    " ????\n",
    "]\n",
    "display(list_2)\n"
   ]
  },
  {
   "cell_type": "markdown",
   "id": "d5505fcd",
   "metadata": {},
   "source": [
    "For each task $i$ without successor, we define an arc $(i,e)$."
   ]
  },
  {
   "cell_type": "markdown",
   "id": "0b67686c",
   "metadata": {},
   "source": [
    "First, we identify the set of tasks without successor."
   ]
  },
  {
   "cell_type": "code",
   "execution_count": null,
   "id": "ad30eecb",
   "metadata": {},
   "outputs": [],
   "source": [
    "all_tasks = { ???? }\n",
    "task_with_successor = {\n",
    " ????\n",
    "}\n",
    "tasks_without_successor = all_tasks - task_with_successor\n",
    "display(tasks_without_successor)\n"
   ]
  },
  {
   "cell_type": "markdown",
   "id": "5aa04eaf",
   "metadata": {},
   "source": [
    "Then, we create the last list of arcs."
   ]
  },
  {
   "cell_type": "code",
   "execution_count": null,
   "id": "407ed1ba",
   "metadata": {},
   "outputs": [],
   "source": [
    "list_3 = [\n",
    " ????\n",
    "]\n",
    "display(list_3)\n"
   ]
  },
  {
   "cell_type": "markdown",
   "id": "35468210",
   "metadata": {},
   "source": [
    "We merge the three lists"
   ]
  },
  {
   "cell_type": "code",
   "execution_count": null,
   "id": "9d2112d0",
   "metadata": {},
   "outputs": [],
   "source": [
    "arcs = list_1 + list_2 + list_3\n",
    "display(arcs)\n"
   ]
  },
  {
   "cell_type": "markdown",
   "id": "a71655fc",
   "metadata": {},
   "source": [
    "We create and display the the_network"
   ]
  },
  {
   "cell_type": "code",
   "execution_count": null,
   "id": "217fb4a1",
   "metadata": {},
   "outputs": [],
   "source": [
    "pert_network: DiGraph = DiGraph()\n",
    "for node in nodes:\n",
    "    pert_network.add_node(node, pos=positions[node])\n",
    "pert_network.add_weighted_edges_from(arcs, weight='cost')\n"
   ]
  },
  {
   "cell_type": "code",
   "execution_count": null,
   "id": "8fdcf471",
   "metadata": {},
   "outputs": [],
   "source": [
    "fig, ax = plt.subplots(figsize=(8, 6))\n",
    "draw_network(the_network=pert_network, attr_edge_labels='cost', ax=ax)\n",
    "plt.show()\n"
   ]
  },
  {
   "cell_type": "markdown",
   "id": "c9f719e6",
   "metadata": {},
   "source": [
    "# Identification of the critical path"
   ]
  },
  {
   "cell_type": "markdown",
   "id": "561c0be3",
   "metadata": {},
   "source": [
    "We need to calculate the longest path from $b$ to $e$. To do that, we need\n",
    "to calculate the shortest path in a the_network where the cost is the negative of the duration."
   ]
  },
  {
   "cell_type": "markdown",
   "id": "677f408d",
   "metadata": {},
   "source": [
    "Change the sign of all the weights on the arcs"
   ]
  },
  {
   "cell_type": "code",
   "execution_count": null,
   "id": "bc93e39b",
   "metadata": {},
   "outputs": [],
   "source": [
    "for _, _, data in pert_network.edges(data=True):\n",
    "    data['cost'] = ????\n"
   ]
  },
  {
   "cell_type": "markdown",
   "id": "941e2185",
   "metadata": {},
   "source": [
    "We draw again the the_network with the new costs."
   ]
  },
  {
   "cell_type": "code",
   "execution_count": null,
   "id": "c73be9f0",
   "metadata": {},
   "outputs": [],
   "source": [
    "fig, ax = plt.subplots(figsize=(8, 6))\n",
    "draw_network(the_network=pert_network, attr_edge_labels='cost', ax=ax)\n",
    "plt.show()\n"
   ]
  },
  {
   "cell_type": "markdown",
   "id": "4a29204b",
   "metadata": {},
   "source": [
    "We now calculate the shortest paths."
   ]
  },
  {
   "cell_type": "markdown",
   "id": "064b8d98",
   "metadata": {},
   "source": [
    "Initialization"
   ]
  },
  {
   "cell_type": "code",
   "execution_count": null,
   "id": "8da035e1",
   "metadata": {},
   "outputs": [],
   "source": [
    "the_algorithm = ShortestPathAlgorithm(\n",
    "    the_network=????,\n",
    "    the_cost_name=????,\n",
    "    the_origin=????\n",
    ")\n"
   ]
  },
  {
   "cell_type": "markdown",
   "id": "766c0a5f",
   "metadata": {},
   "source": [
    "Running the algorithm"
   ]
  },
  {
   "cell_type": "code",
   "execution_count": null,
   "id": "bf2ca428",
   "metadata": {},
   "outputs": [],
   "source": [
    "the_algorithm.shortest_path_algorithm()\n",
    "display(the_algorithm.iterations)\n"
   ]
  },
  {
   "cell_type": "markdown",
   "id": "0885bfbe",
   "metadata": {},
   "source": [
    "Printing the shortest path from 'b' to 'e'."
   ]
  },
  {
   "cell_type": "markdown",
   "id": "5b4bcc1a",
   "metadata": {},
   "source": [
    "Each node along that path corresponds to a critical task."
   ]
  },
  {
   "cell_type": "code",
   "execution_count": null,
   "id": "1b3cda43",
   "metadata": {},
   "outputs": [],
   "source": [
    "print(the_algorithm.recursive_shortest_path(node='e'))\n"
   ]
  },
  {
   "cell_type": "markdown",
   "id": "c074e9bc",
   "metadata": {},
   "source": [
    "The minimal timing of the duration of the work."
   ]
  },
  {
   "cell_type": "markdown",
   "id": "83e9740f",
   "metadata": {},
   "source": [
    "Remember that the optimal labels are available at ``the_algorithm.labels``"
   ]
  },
  {
   "cell_type": "code",
   "execution_count": null,
   "id": "63769d7c",
   "metadata": {},
   "outputs": [],
   "source": [
    "\n",
    "\n",
    "minimal_timing = ????\n",
    "print(f'Minimal timing for the project: {minimal_timing} days')\n"
   ]
  },
  {
   "cell_type": "markdown",
   "id": "95174958",
   "metadata": {},
   "source": [
    "# Earliest starting dates of each task"
   ]
  },
  {
   "cell_type": "code",
   "execution_count": null,
   "id": "30201e46",
   "metadata": {},
   "outputs": [],
   "source": [
    "\n",
    "earliest_starting_day = {\n",
    "\n",
    "    task.name: ???? for task in tasks_list\n",
    "}\n",
    "print(f'Earliest starting day:')\n",
    "for task, earliest in earliest_starting_day.items():\n",
    "    print(f'Task {task}: {earliest} days.')\n"
   ]
  },
  {
   "cell_type": "markdown",
   "id": "4576f305",
   "metadata": {},
   "source": [
    "# Latest starting dates of each task"
   ]
  },
  {
   "cell_type": "markdown",
   "id": "26b362c4",
   "metadata": {},
   "source": [
    "In order to obtain the latest starting day for each task, we have to look at the problem from the end, and  not from\n",
    "the beginning. In order to start from the end and work backward, we need to\n",
    "invert the direction for each arc, and then calculate again the longest\n",
    "path, but from $e$ to $b$. All labels are then be interpreted as a number of days until the end of the project,\n",
    "instead of a number of days since the beginning."
   ]
  },
  {
   "cell_type": "code",
   "execution_count": null,
   "id": "d4b33a6d",
   "metadata": {},
   "outputs": [],
   "source": [
    "\n",
    "pert_reversed = DiGraph()\n",
    "pert_reversed.add_nodes_from(\n",
    "    pert_network.nodes(data=True)\n",
    ")  # Copy nodes with attributes\n",
    "for upstream, downstream, data in pert_network.edges(data=True):\n",
    "    pert_reversed.add_edge(\n",
    "        downstream, upstream, cost=data['cost']\n",
    "    )  # Reverse the direction of the arc\n"
   ]
  },
  {
   "cell_type": "markdown",
   "id": "e63090a0",
   "metadata": {},
   "source": [
    "We draw the updated the_network"
   ]
  },
  {
   "cell_type": "code",
   "execution_count": null,
   "id": "0da949f9",
   "metadata": {},
   "outputs": [],
   "source": [
    "fig, ax = plt.subplots(figsize=(8, 6))\n",
    "draw_network(the_network=pert_reversed, attr_edge_labels='cost', ax=ax)\n",
    "plt.show()\n"
   ]
  },
  {
   "cell_type": "markdown",
   "id": "43960279",
   "metadata": {},
   "source": [
    "We solve the shortest path problem in the new the_network, starting from the end of the project."
   ]
  },
  {
   "cell_type": "markdown",
   "id": "147502b1",
   "metadata": {},
   "source": [
    "Initialization"
   ]
  },
  {
   "cell_type": "code",
   "execution_count": null,
   "id": "c5b77aaa",
   "metadata": {},
   "outputs": [],
   "source": [
    "the_reversed_algorithm = ShortestPathAlgorithm(\n",
    "    the_network=????,\n",
    "    the_cost_name=????,\n",
    "    the_origin=????\n",
    ")\n"
   ]
  },
  {
   "cell_type": "markdown",
   "id": "537a065d",
   "metadata": {},
   "source": [
    "Running the algorithm"
   ]
  },
  {
   "cell_type": "code",
   "execution_count": null,
   "id": "ed6e2baf",
   "metadata": {},
   "outputs": [],
   "source": [
    "the_reversed_algorithm.shortest_path_algorithm()\n",
    "display(the_reversed_algorithm.iterations)\n"
   ]
  },
  {
   "cell_type": "markdown",
   "id": "ee3b9084",
   "metadata": {},
   "source": [
    "Printing the shortest path from 'e' to 'b'.\n",
    "This path involves the same nodes as before, corresponding to the critical tasks."
   ]
  },
  {
   "cell_type": "code",
   "execution_count": null,
   "id": "7285bec9",
   "metadata": {},
   "outputs": [],
   "source": [
    "print(the_reversed_algorithm.recursive_shortest_path(node='b'))\n"
   ]
  },
  {
   "cell_type": "markdown",
   "id": "4b3ce0da",
   "metadata": {},
   "source": [
    "The minimal timing of the duration of the work."
   ]
  },
  {
   "cell_type": "code",
   "execution_count": null,
   "id": "8ea4ecd0",
   "metadata": {},
   "outputs": [],
   "source": [
    "\n",
    "\n",
    "\n",
    "minimal_timing = ????\n",
    "print(f'Minimal timing for the project: {minimal_timing} days')\n"
   ]
  },
  {
   "cell_type": "markdown",
   "id": "b3157ea4",
   "metadata": {},
   "source": [
    "The (opposite of the) optimal labels of the \"reversed\" algorithm give us how many days before the end of the project should\n",
    "each task start at the latest.\n",
    "Consider task $O$ for instance. It does not precede\n",
    "any task, and lasts 1 day. Therefore, it can start at the latest one day before the end of the project,\n",
    "that is at day $13.5-1=12.5$, without delaying the project."
   ]
  },
  {
   "cell_type": "markdown",
   "id": "1b9c7b31",
   "metadata": {},
   "source": [
    "Therefore, to obtain the\n",
    "latest start for each task, we just need to deduce this quantity from the duration of the project."
   ]
  },
  {
   "cell_type": "code",
   "execution_count": null,
   "id": "eb19453b",
   "metadata": {},
   "outputs": [],
   "source": [
    "\n",
    "latest_starting_day = {\n",
    "    task.name: ????\n",
    "\n",
    "    for task in tasks_list\n",
    "}\n",
    "print(f'Latest starting days')\n",
    "print(latest_starting_day)\n",
    "\n"
   ]
  },
  {
   "cell_type": "markdown",
   "id": "79d7e115",
   "metadata": {},
   "source": [
    "# Summary\n",
    "For each task, we report the earliest and latest starting day. If they are equal, it is a\n",
    "critical task."
   ]
  },
  {
   "cell_type": "code",
   "execution_count": null,
   "id": "8db8bf56",
   "metadata": {},
   "outputs": [],
   "source": [
    "summary = []\n",
    "for task in tasks_list:\n",
    "    is_critical = earliest_starting_day[task.name] == latest_starting_day[task.name]\n",
    "    row = {\n",
    "        'Name': task.name,\n",
    "        'Description': task.description,\n",
    "        'Earliest start': earliest_starting_day[task.name],\n",
    "        'Latest start': latest_starting_day[task.name],\n",
    "        'Critical': 'YES' if is_critical else 'no',\n",
    "    }\n",
    "    summary.append(row)\n",
    "display(pd.DataFrame(summary))"
   ]
  }
 ],
 "metadata": {},
 "nbformat": 4,
 "nbformat_minor": 5
}

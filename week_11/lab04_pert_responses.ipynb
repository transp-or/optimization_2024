{
 "cells": [
  {
   "cell_type": "markdown",
   "id": "a6fcf362",
   "metadata": {},
   "source": [
    "# Program Evaluation and Review Technique (PERT)\n",
    "\n",
    "## Introduction to optimization and operations research.\n",
    "\n",
    "Michel Bierlaire\n"
   ]
  },
  {
   "cell_type": "code",
   "execution_count": null,
   "id": "6113585f",
   "metadata": {},
   "outputs": [],
   "source": [
    "\n",
    "from typing import NamedTuple\n",
    "\n",
    "import pandas as pd\n",
    "from IPython.core.display_functions import display\n",
    "from matplotlib import pyplot as plt\n",
    "from networkx import DiGraph\n",
    "from teaching_optimization.networks import draw_network\n",
    "from teaching_optimization.networks.shortest_path_algorithm import ShortestPathAlgorithm\n",
    "\n"
   ]
  },
  {
   "cell_type": "markdown",
   "id": "e9634a5c",
   "metadata": {},
   "source": [
    "The renovation of an apartment's living room breaks down into several\n",
    "tasks listed below. Precedence constraints have\n",
    "to be respected during the planning of the works. The duration of each task is given as well."
   ]
  },
  {
   "cell_type": "markdown",
   "id": "cff7e39a",
   "metadata": {},
   "source": [
    "The objective of this exercise is to\n",
    "\n",
    "- identify critical tasks that cannot suffer from any delay without delaying the project,\n",
    "- give the minimal timing of the duration of the work,\n",
    "- calculate the earliest starting dates of each task,\n",
    "- calculate the latest starting dates of each task."
   ]
  },
  {
   "cell_type": "markdown",
   "id": "014e02c8",
   "metadata": {},
   "source": [
    "We first define a data structure for the tasks."
   ]
  },
  {
   "cell_type": "code",
   "execution_count": null,
   "id": "875bcc96",
   "metadata": {},
   "outputs": [],
   "source": [
    "class Task(NamedTuple):\n",
    "    name: str\n",
    "    description: str\n",
    "    precedence: list[str]\n",
    "    duration: float\n",
    "\n"
   ]
  },
  {
   "cell_type": "markdown",
   "id": "a660f8fa",
   "metadata": {},
   "source": [
    "Here is the list of tasks with the precedence constraints, and the duration."
   ]
  },
  {
   "cell_type": "code",
   "execution_count": null,
   "id": "cf0c5de6",
   "metadata": {},
   "outputs": [],
   "source": [
    "tasks_list: list[Task] = [\n",
    "    Task('A', 'Door removal', [], 0.5),\n",
    "    Task('B', 'Sanding and painting doors', ['A'], 3),\n",
    "    Task('C', 'Hanging doors', ['B', 'J'], 0.5),\n",
    "    Task('D', 'Peeling off wallpapers', [], 1),\n",
    "    Task('E', 'Pulling electrical wires', ['D'], 1),\n",
    "    Task('F', 'Laying electrical outlet', ['E', 'H', 'I'], 0.5),\n",
    "    Task('G', 'Smoothing walls', ['E', 'A'], 2),\n",
    "    Task('H', 'Sanding of frames', ['G'], 2),\n",
    "    Task('I', 'Ceiling painting', ['G'], 3),\n",
    "    Task('J', 'Painting frames', ['H', 'I'], 1),\n",
    "    Task('K', 'Ripping off the carpet', ['H', 'I', 'J'], 0.5),\n",
    "    Task('L', 'Sanding parquet', ['K'], 1),\n",
    "    Task('M', 'Impregnation and drying of parquet', ['L', 'F'], 4),\n",
    "    Task('N', 'Balcony painting', [], 2),\n",
    "    Task('O', 'Change of solar protections', ['N'], 1),\n",
    "]\n",
    "\n"
   ]
  },
  {
   "cell_type": "markdown",
   "id": "fea9cf9c",
   "metadata": {},
   "source": [
    "Printing the list of tasks."
   ]
  },
  {
   "cell_type": "code",
   "execution_count": null,
   "id": "45cc956d",
   "metadata": {},
   "outputs": [],
   "source": [
    "for task in tasks_list:\n",
    "    print(task)\n"
   ]
  },
  {
   "cell_type": "markdown",
   "id": "c59b607d",
   "metadata": {},
   "source": [
    "# Network representation"
   ]
  },
  {
   "cell_type": "markdown",
   "id": "313c984f",
   "metadata": {},
   "source": [
    "We first need to provide a the_network representation of the problem."
   ]
  },
  {
   "cell_type": "markdown",
   "id": "6a6bbeb6",
   "metadata": {},
   "source": [
    "We create a the_network where each node is a task.\n",
    "We also add one node \"b\" to represent the beginning of the project, and one node \"e\" to represent the end of the\n",
    "project. We also associate each node with a coordinate in order to display the the_network."
   ]
  },
  {
   "cell_type": "code",
   "execution_count": null,
   "id": "0a6a78e7",
   "metadata": {},
   "outputs": [],
   "source": [
    "\n",
    "positions = {\n",
    "    'b': (0, 0),\n",
    "    'A': (1, 2),\n",
    "    'B': (2, 2),\n",
    "    'C': (6, 2),\n",
    "    'D': (1, 0),\n",
    "    'E': (2, 0),\n",
    "    'F': (5, -1),\n",
    "    'G': (3, 0),\n",
    "    'H': (4, 1),\n",
    "    'I': (4, 0),\n",
    "    'J': (5, 1.5),\n",
    "    'K': (6, 0),\n",
    "    'L': (7, 0),\n",
    "    'M': (8, 0),\n",
    "    'N': (1, -2),\n",
    "    'O': (5, -2),\n",
    "    'e': (9, 0),\n",
    "}\n",
    "\n",
    "nodes = list(positions.keys())\n"
   ]
  },
  {
   "cell_type": "markdown",
   "id": "bbe71250",
   "metadata": {},
   "source": [
    "Now, generate the list of arcs of the the_network from the task description. Each arc is a tuple\n",
    "``(upstream_node, downstream_node, duration)``"
   ]
  },
  {
   "cell_type": "markdown",
   "id": "0f1e5e68",
   "metadata": {},
   "source": [
    "First, we create a dict with the durations of the tasks."
   ]
  },
  {
   "cell_type": "code",
   "execution_count": null,
   "id": "79bd9189",
   "metadata": {},
   "outputs": [],
   "source": [
    "tasks_duration: dict[str, float] = {task.name: task.duration for task in tasks_list}\n"
   ]
  },
  {
   "cell_type": "markdown",
   "id": "fe359ae7",
   "metadata": {},
   "source": [
    "For each task $j$, we add an arc $(i,j)$ for each predecessor $i$."
   ]
  },
  {
   "cell_type": "code",
   "execution_count": null,
   "id": "30c688ff",
   "metadata": {},
   "outputs": [],
   "source": [
    "list_1 = [\n",
    "    (predecessor, task.name, tasks_duration[predecessor])\n",
    "    for task in tasks_list\n",
    "    for predecessor in task.precedence\n",
    "]\n",
    "display(list_1)\n"
   ]
  },
  {
   "cell_type": "markdown",
   "id": "ab55ec55",
   "metadata": {},
   "source": [
    "For each task $j$ without predecessor, we define an arc $(b,j)$."
   ]
  },
  {
   "cell_type": "code",
   "execution_count": null,
   "id": "4057c7a9",
   "metadata": {},
   "outputs": [],
   "source": [
    "list_2 = [\n",
    "    ('b', task.name, 0.0) for task in tasks_list if not task.precedence\n",
    "]\n",
    "display(list_2)\n"
   ]
  },
  {
   "cell_type": "markdown",
   "id": "10f1ab40",
   "metadata": {},
   "source": [
    "For each task $i$ without successor, we define an arc $(i,e)$."
   ]
  },
  {
   "cell_type": "markdown",
   "id": "2cd67ef8",
   "metadata": {},
   "source": [
    "First, we identify the set of tasks without successor."
   ]
  },
  {
   "cell_type": "code",
   "execution_count": null,
   "id": "32a06663",
   "metadata": {},
   "outputs": [],
   "source": [
    "all_tasks = {task.name for task in tasks_list}\n",
    "task_with_successor = {\n",
    "    predecessor for task in tasks_list for predecessor in task.precedence\n",
    "}\n",
    "tasks_without_successor = all_tasks - task_with_successor\n",
    "display(tasks_without_successor)\n"
   ]
  },
  {
   "cell_type": "markdown",
   "id": "b24710fd",
   "metadata": {},
   "source": [
    "Then, we create the last list of arcs."
   ]
  },
  {
   "cell_type": "code",
   "execution_count": null,
   "id": "8b040a7b",
   "metadata": {},
   "outputs": [],
   "source": [
    "list_3 = [\n",
    "    (task, 'e', tasks_duration[task]) for task in tasks_without_successor\n",
    "]\n",
    "display(list_3)\n"
   ]
  },
  {
   "cell_type": "markdown",
   "id": "700fd922",
   "metadata": {},
   "source": [
    "We merge the three lists"
   ]
  },
  {
   "cell_type": "code",
   "execution_count": null,
   "id": "d9a973d8",
   "metadata": {},
   "outputs": [],
   "source": [
    "arcs = list_1 + list_2 + list_3\n",
    "display(arcs)\n"
   ]
  },
  {
   "cell_type": "markdown",
   "id": "0dc4806f",
   "metadata": {},
   "source": [
    "We create and display the the_network"
   ]
  },
  {
   "cell_type": "code",
   "execution_count": null,
   "id": "93482a97",
   "metadata": {},
   "outputs": [],
   "source": [
    "pert_network: DiGraph = DiGraph()\n",
    "for node in nodes:\n",
    "    pert_network.add_node(node, pos=positions[node])\n",
    "pert_network.add_weighted_edges_from(arcs, weight='cost')\n"
   ]
  },
  {
   "cell_type": "code",
   "execution_count": null,
   "id": "f39e62cc",
   "metadata": {},
   "outputs": [],
   "source": [
    "fig, ax = plt.subplots(figsize=(8, 6))\n",
    "draw_network(the_network=pert_network, attr_edge_labels='cost', ax=ax)\n",
    "plt.show()\n"
   ]
  },
  {
   "cell_type": "markdown",
   "id": "2f137a1a",
   "metadata": {},
   "source": [
    "# Identification of the critical path"
   ]
  },
  {
   "cell_type": "markdown",
   "id": "b28c4835",
   "metadata": {},
   "source": [
    "We need to calculate the longest path from $b$ to $e$. To do that, we need\n",
    "to calculate the shortest path in a the_network where the cost is the negative of the duration."
   ]
  },
  {
   "cell_type": "markdown",
   "id": "922e34b5",
   "metadata": {},
   "source": [
    "Change the sign of all the weights on the arcs"
   ]
  },
  {
   "cell_type": "code",
   "execution_count": null,
   "id": "510d9824",
   "metadata": {},
   "outputs": [],
   "source": [
    "for _, _, data in pert_network.edges(data=True):\n",
    "    data['cost'] = -data['cost']\n"
   ]
  },
  {
   "cell_type": "markdown",
   "id": "5ed46948",
   "metadata": {},
   "source": [
    "We draw again the the_network with the new costs."
   ]
  },
  {
   "cell_type": "code",
   "execution_count": null,
   "id": "8d04b5be",
   "metadata": {},
   "outputs": [],
   "source": [
    "fig, ax = plt.subplots(figsize=(8, 6))\n",
    "draw_network(the_network=pert_network, attr_edge_labels='cost', ax=ax)\n",
    "plt.show()\n"
   ]
  },
  {
   "cell_type": "markdown",
   "id": "18d80855",
   "metadata": {},
   "source": [
    "We now calculate the shortest paths."
   ]
  },
  {
   "cell_type": "markdown",
   "id": "99a36053",
   "metadata": {},
   "source": [
    "Initialization"
   ]
  },
  {
   "cell_type": "code",
   "execution_count": null,
   "id": "606f7137",
   "metadata": {},
   "outputs": [],
   "source": [
    "the_algorithm = ShortestPathAlgorithm(\n",
    "    the_network=pert_network,\n",
    "    the_cost_name='cost',\n",
    "    the_origin='b',\n",
    ")\n"
   ]
  },
  {
   "cell_type": "markdown",
   "id": "5e2e42fd",
   "metadata": {},
   "source": [
    "Running the algorithm"
   ]
  },
  {
   "cell_type": "code",
   "execution_count": null,
   "id": "5885f12a",
   "metadata": {},
   "outputs": [],
   "source": [
    "the_algorithm.shortest_path_algorithm()\n",
    "display(the_algorithm.iterations)\n"
   ]
  },
  {
   "cell_type": "markdown",
   "id": "6a97d439",
   "metadata": {},
   "source": [
    "Printing the shortest path from 'b' to 'e'."
   ]
  },
  {
   "cell_type": "markdown",
   "id": "95af6635",
   "metadata": {},
   "source": [
    "Each node along that path corresponds to a critical task."
   ]
  },
  {
   "cell_type": "code",
   "execution_count": null,
   "id": "241508e8",
   "metadata": {},
   "outputs": [],
   "source": [
    "print(the_algorithm.recursive_shortest_path(node='e'))\n"
   ]
  },
  {
   "cell_type": "markdown",
   "id": "b642b4df",
   "metadata": {},
   "source": [
    "The minimal timing of the duration of the work."
   ]
  },
  {
   "cell_type": "markdown",
   "id": "5d92c235",
   "metadata": {},
   "source": [
    "Remember that the optimal labels are available at ``the_algorithm.labels``"
   ]
  },
  {
   "cell_type": "markdown",
   "id": "a1dbb2b5",
   "metadata": {},
   "source": [
    "It is given by the label of node 'e', with the opposite sign."
   ]
  },
  {
   "cell_type": "code",
   "execution_count": null,
   "id": "e7912be9",
   "metadata": {},
   "outputs": [],
   "source": [
    "minimal_timing = -the_algorithm.labels['e']\n",
    "print(f'Minimal timing for the project: {minimal_timing} days')\n"
   ]
  },
  {
   "cell_type": "markdown",
   "id": "06fb2d03",
   "metadata": {},
   "source": [
    "# Earliest starting dates of each task\n",
    "The optimal labels of the algorithm are the earliest start for each task, with the opposite sign."
   ]
  },
  {
   "cell_type": "code",
   "execution_count": null,
   "id": "cfbdafec",
   "metadata": {},
   "outputs": [],
   "source": [
    "earliest_starting_day = {\n",
    "    task.name: -the_algorithm.labels[task.name]\n",
    "    for task in tasks_list\n",
    "}\n",
    "print(f'Earliest starting day:')\n",
    "for task, earliest in earliest_starting_day.items():\n",
    "    print(f'Task {task}: {earliest} days.')\n"
   ]
  },
  {
   "cell_type": "markdown",
   "id": "d9ae98b6",
   "metadata": {},
   "source": [
    "# Latest starting dates of each task"
   ]
  },
  {
   "cell_type": "markdown",
   "id": "f3671e19",
   "metadata": {},
   "source": [
    "In order to obtain the latest starting day for each task, we have to look at the problem from the end, and  not from\n",
    "the beginning. In order to start from the end and work backward, we need to\n",
    "invert the direction for each arc, and then calculate again the longest\n",
    "path, but from $e$ to $b$. All labels are then be interpreted as a number of days until the end of the project,\n",
    "instead of a number of days since the beginning."
   ]
  },
  {
   "cell_type": "code",
   "execution_count": null,
   "id": "1cf56f3f",
   "metadata": {},
   "outputs": [],
   "source": [
    "\n",
    "pert_reversed = DiGraph()\n",
    "pert_reversed.add_nodes_from(\n",
    "    pert_network.nodes(data=True)\n",
    ")  # Copy nodes with attributes\n",
    "for upstream, downstream, data in pert_network.edges(data=True):\n",
    "    pert_reversed.add_edge(\n",
    "        downstream, upstream, cost=data['cost']\n",
    "    )  # Reverse the direction of the arc\n"
   ]
  },
  {
   "cell_type": "markdown",
   "id": "0a724f56",
   "metadata": {},
   "source": [
    "We draw the updated the_network"
   ]
  },
  {
   "cell_type": "code",
   "execution_count": null,
   "id": "64c04822",
   "metadata": {},
   "outputs": [],
   "source": [
    "fig, ax = plt.subplots(figsize=(8, 6))\n",
    "draw_network(the_network=pert_reversed, attr_edge_labels='cost', ax=ax)\n",
    "plt.show()\n"
   ]
  },
  {
   "cell_type": "markdown",
   "id": "e0a2fdb7",
   "metadata": {},
   "source": [
    "We solve the shortest path problem in the new the_network, starting from the end of the project."
   ]
  },
  {
   "cell_type": "markdown",
   "id": "1664f935",
   "metadata": {},
   "source": [
    "Initialization"
   ]
  },
  {
   "cell_type": "code",
   "execution_count": null,
   "id": "46760247",
   "metadata": {},
   "outputs": [],
   "source": [
    "the_reversed_algorithm = ShortestPathAlgorithm(\n",
    "    the_network=pert_reversed,\n",
    "    the_cost_name='cost',\n",
    "    the_origin='e',\n",
    ")\n"
   ]
  },
  {
   "cell_type": "markdown",
   "id": "e8c3e1bf",
   "metadata": {},
   "source": [
    "Running the algorithm"
   ]
  },
  {
   "cell_type": "code",
   "execution_count": null,
   "id": "81a7919b",
   "metadata": {},
   "outputs": [],
   "source": [
    "the_reversed_algorithm.shortest_path_algorithm()\n",
    "display(the_reversed_algorithm.iterations)\n"
   ]
  },
  {
   "cell_type": "markdown",
   "id": "c2fcd608",
   "metadata": {},
   "source": [
    "Printing the shortest path from 'e' to 'b'.\n",
    "This path involves the same nodes as before, corresponding to the critical tasks."
   ]
  },
  {
   "cell_type": "code",
   "execution_count": null,
   "id": "edf4230a",
   "metadata": {},
   "outputs": [],
   "source": [
    "print(the_reversed_algorithm.recursive_shortest_path(node='b'))\n"
   ]
  },
  {
   "cell_type": "markdown",
   "id": "fad2500b",
   "metadata": {},
   "source": [
    "The minimal timing of the duration of the work."
   ]
  },
  {
   "cell_type": "markdown",
   "id": "d40392da",
   "metadata": {},
   "source": [
    "It is given by the label of node 'b', with the opposite sign.\n",
    "It must be the same as before."
   ]
  },
  {
   "cell_type": "code",
   "execution_count": null,
   "id": "920f251d",
   "metadata": {},
   "outputs": [],
   "source": [
    "minimal_timing = -the_reversed_algorithm.labels['b']\n",
    "print(f'Minimal timing for the project: {minimal_timing} days')\n"
   ]
  },
  {
   "cell_type": "markdown",
   "id": "0223e63e",
   "metadata": {},
   "source": [
    "The (opposite of the) optimal labels of the \"reversed\" algorithm give us how many days before the end of the project should\n",
    "each task start at the latest.\n",
    "Consider task $O$ for instance. It does not precede\n",
    "any task, and lasts 1 day. Therefore, it can start at the latest one day before the end of the project,\n",
    "that is at day $13.5-1=12.5$, without delaying the project."
   ]
  },
  {
   "cell_type": "markdown",
   "id": "f8d86370",
   "metadata": {},
   "source": [
    "Therefore, to obtain the\n",
    "latest start for each task, we just need to deduce this quantity from the duration of the project."
   ]
  },
  {
   "cell_type": "code",
   "execution_count": null,
   "id": "4a006834",
   "metadata": {},
   "outputs": [],
   "source": [
    "\n",
    "latest_starting_day = {\n",
    "    task.name: minimal_timing\n",
    "    - (-the_reversed_algorithm.labels[task.name])\n",
    "    for task in tasks_list\n",
    "}\n",
    "print(f'Latest starting days')\n",
    "print(latest_starting_day)\n",
    "\n"
   ]
  },
  {
   "cell_type": "markdown",
   "id": "021cdce3",
   "metadata": {},
   "source": [
    "# Summary\n",
    "For each task, we report the earliest and latest starting day. If they are equal, it is a\n",
    "critical task."
   ]
  },
  {
   "cell_type": "code",
   "execution_count": null,
   "id": "fbe989b4",
   "metadata": {},
   "outputs": [],
   "source": [
    "summary = []\n",
    "for task in tasks_list:\n",
    "    is_critical = earliest_starting_day[task.name] == latest_starting_day[task.name]\n",
    "    row = {\n",
    "        'Name': task.name,\n",
    "        'Description': task.description,\n",
    "        'Earliest start': earliest_starting_day[task.name],\n",
    "        'Latest start': latest_starting_day[task.name],\n",
    "        'Critical': 'YES' if is_critical else 'no',\n",
    "    }\n",
    "    summary.append(row)\n",
    "display(pd.DataFrame(summary))"
   ]
  }
 ],
 "metadata": {},
 "nbformat": 4,
 "nbformat_minor": 5
}

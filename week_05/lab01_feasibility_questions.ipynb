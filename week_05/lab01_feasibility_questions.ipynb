{
 "cells": [
  {
   "cell_type": "markdown",
   "id": "521974c2",
   "metadata": {},
   "source": [
    "# Duality and feasibility\n",
    "\n",
    "## Introduction to optimization and operations research\n",
    "\n",
    "Michel Bierlaire\n"
   ]
  },
  {
   "cell_type": "markdown",
   "id": "4d324a88",
   "metadata": {},
   "source": [
    "This exercise does not require coding in Python"
   ]
  },
  {
   "cell_type": "markdown",
   "id": "bddafee5",
   "metadata": {},
   "source": [
    "Consider  the following optimization  problem.\n",
    "$$\\min_{x \\in \\mathbb{R}^2} 4x_1+2x_2$$\n",
    "subject to\n",
    "\\begin{align*}\n",
    "x_1+x_2 & \\geq 2,\\\\\n",
    "-x_1-x_2 & \\geq 1,\\\\\n",
    "x_1 & \\geq 0,\\\\\n",
    "x_2 & \\geq 0.\n",
    "\\end{align*}"
   ]
  },
  {
   "cell_type": "markdown",
   "id": "856782fd",
   "metadata": {},
   "source": [
    "- Assess if it has an optimal solution, if it is unbounded, or if it\n",
    "is infeasible.\n",
    "- Write the Lagrangian, the dual function and the dual problem.\n",
    "- Assess if the dual problem  has an optimal solution, if it is unbounded, or if it  is infeasible.\n",
    "\\end{itemize}\n",
    "\n",
    "Remember that the Lagrangian is defined as\n",
    "$$\n",
    "L(x,\\lambda,\\mu) =  f(x) + \\sum_{j=1}^m \\lambda_j h_i(x) + \\sum_{j=1}^p \\mu_j g_i(x),\n",
    "$$\n",
    "where $f$, $g$ and $h$ define the optimization problem, as follows:\n",
    "$$\n",
    "\\min f(x)\\;\\; [f:\\mathbb{R}^n\\to\\mathbb{R}]\n",
    "$$\n",
    "subject to\n",
    "$$\n",
    "\\begin{aligned}\n",
    "h(x) &= 0, &[h:\\mathbb{R}^n\\to \\mathbb{R}^m]\\\\\n",
    "g(x) & \\leq 0. &[g:\\mathbb{R}^n \\to \\mathbb{R}^p]\n",
    "\\end{aligned}\n",
    "$$"
   ]
  }
 ],
 "metadata": {},
 "nbformat": 4,
 "nbformat_minor": 5
}

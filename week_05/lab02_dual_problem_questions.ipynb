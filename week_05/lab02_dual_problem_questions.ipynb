{
 "cells": [
  {
   "cell_type": "markdown",
   "id": "ee92a35d",
   "metadata": {},
   "source": [
    "# Dual problem\n",
    "\n",
    "## Introduction to optimization and operations research\n",
    "\n",
    "Michel Bierlaire\n"
   ]
  },
  {
   "cell_type": "markdown",
   "id": "0124d5da",
   "metadata": {},
   "source": [
    "This exercise does not require coding in Python."
   ]
  },
  {
   "cell_type": "markdown",
   "id": "8fc5020b",
   "metadata": {},
   "source": [
    "Consider the optimization problem\n",
    "$$\\min_{x \\in \\mathbb{R}^2} x_1^2 + x_2^2$$\n",
    "subject to\n",
    "$$x_1=1.$$"
   ]
  },
  {
   "cell_type": "markdown",
   "id": "9b2454e5",
   "metadata": {},
   "source": [
    "- What is the optimal solution of this problem?"
   ]
  },
  {
   "cell_type": "markdown",
   "id": "b1da456c",
   "metadata": {},
   "source": [
    "- Write the Lagrangian of this problem."
   ]
  },
  {
   "cell_type": "markdown",
   "id": "3b5e077b",
   "metadata": {},
   "source": [
    "- Write the dual function."
   ]
  },
  {
   "cell_type": "markdown",
   "id": "db1069d6",
   "metadata": {},
   "source": [
    "- Write and solve the dual problem."
   ]
  }
 ],
 "metadata": {},
 "nbformat": 4,
 "nbformat_minor": 5
}

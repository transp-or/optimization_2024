{
 "cells": [
  {
   "cell_type": "markdown",
   "id": "942d6bfc",
   "metadata": {},
   "source": [
    "# Simplex tableau algorithm: phase I\n",
    "\n",
    "## Introduction to optimization and operations research\n",
    "\n",
    "Michel Bierlaire\n"
   ]
  },
  {
   "cell_type": "code",
   "execution_count": null,
   "id": "a2c6101d",
   "metadata": {},
   "outputs": [],
   "source": [
    "\n",
    "import numpy as np\n",
    "from teaching_optimization.simplex_tableau_phase_two import (\n",
    "    SimplexTableauPhaseTwo,\n",
    ")\n",
    "from teaching_optimization.tableau import SimplexTableau, RowColumn\n"
   ]
  },
  {
   "cell_type": "markdown",
   "id": "6bfd6672",
   "metadata": {},
   "source": [
    "We want to solve three optimization problems using the simplex algorithm.\n",
    "\n",
    "First, Example 16.15, p. 388 of\n",
    "[Bierlaire (2015)](https://transp-or.epfl.ch/books/optimization/html/OptimizationPrinciplesAlgorithms2018.pdf)\n",
    "\n",
    "$$\\min_{x \\in \\mathbb{R}^4} x_1 + x_2 + x_3 $$\n",
    "subject to\n",
    "$$ \\begin{align*}\n",
    "x_1 + 2x_2 + 3 x_3 &= 3, \\\\\n",
    "-x_1 + 2 x_2 + 6 x_3  &= 2, \\\\\n",
    "4 x_2 + 9 x_3 &= 5, \\\\\n",
    "3 x_3 + x_4 &= 1, \\\\\n",
    "x_1, x_2, x_3, x_4 & \\geq 0.\n",
    "\\end{align*} $$\n",
    "\n",
    "Data for the standard form:"
   ]
  },
  {
   "cell_type": "code",
   "execution_count": null,
   "id": "8893be6e",
   "metadata": {},
   "outputs": [],
   "source": [
    "objective_1 = np.array([1, 1, 1, 0])\n",
    "constraints_1 = np.array(\n",
    "    [[1, 2, 3, 0], [-1, 2, 6, 0], [0, 4, 9, 0], [0, 0, 3, 1]]\n",
    ")\n",
    "rhs_1 = np.array([3, 2, 5, 1])"
   ]
  },
  {
   "cell_type": "markdown",
   "id": "537a5191",
   "metadata": {},
   "source": [
    "\n",
    "Second, Example 16.15, .p. 392 of\n",
    "[Bierlaire (2015)](https://transp-or.epfl.ch/books/optimization/html/OptimizationPrinciplesAlgorithms2018.pdf)\n",
    "\n",
    "$$\\min_{x \\in \\mathbb{R}^5} 2 x_1 + 3 x_2 + 3 x_3 + x_4 - 2 x_5 $$\n",
    "subject to\n",
    "$$ \\begin{align*}\n",
    "-x_1 - 3x_2 - 4 x_4 - x_5 &= -2, \\\\\n",
    "x_1 + 2 x_2 - 3 x_4 + x_5 &= 2, \\\\\n",
    "-x_1 -4 x_2 + 3 x_3 &= 1, \\\\\n",
    "x_1, x_2, x_3, x_4, x_5 & \\geq 0.\n",
    "\\end{align*} $$\n",
    "\n",
    "Data for the standard form:"
   ]
  },
  {
   "cell_type": "code",
   "execution_count": null,
   "id": "45d6612d",
   "metadata": {},
   "outputs": [],
   "source": [
    "objective_2 = np.array([2, 3, 3, 1, -2])\n",
    "constraints_2 = np.array(\n",
    "    [[-1, -3, 0, -4, -1], [1, 2, 0, -3, 1], [-1, -4, 3, 0, 0]]\n",
    ")\n",
    "rhs_2 = np.array([-2, 2, 1])"
   ]
  },
  {
   "cell_type": "markdown",
   "id": "1c4d4f94",
   "metadata": {},
   "source": [
    "\n",
    "Finally, we will try to solve the following infeasible problem:\n",
    "$$ \\min_{x_1 \\in \\mathbb{R}}$$\n",
    "subject to\n",
    "$$ \\begin{align*}\n",
    "x_1 & \\leq -1, \\\\\n",
    "x_1 & \\geq 0.\n",
    "\\end{align*} $$\n",
    "\n",
    "Data in standard form:"
   ]
  },
  {
   "cell_type": "code",
   "execution_count": null,
   "id": "6b101e71",
   "metadata": {},
   "outputs": [],
   "source": [
    "objective_3 = np.array([1, 0])\n",
    "constraints_3 = np.array([1, 1])\n",
    "rhs_3 = np.array([-1])\n",
    "\n"
   ]
  },
  {
   "cell_type": "markdown",
   "id": "20e8689e",
   "metadata": {},
   "source": [
    "First, we need to prepare the initial tableau for Phase I:\n",
    "\n",
    "- By multiplying the relevant constraints by $-1$, modify the problem\n",
    "such that $b \\geq 0$.\n",
    "\n",
    "- Introduce the auxiliary variables $x^a_1,\\ldots, x^a_m$ and\n",
    "define $T_0$ as\n",
    "$$\n",
    "\\begin{array}{|c|c|c|}\n",
    "\\hline\n",
    "x_1  \\ldots  x_n & x^a_1  \\ldots  x^a_m & \\\\\n",
    "\\hline\n",
    "A & I & b \\\\\n",
    "\\hline\n",
    "-e^TA & 0 & -e^Tb\\\\\n",
    "\\hline\n",
    "\\end{array}\n",
    "$$\n",
    "where $e$ is the vector of $\\mathbb{R}^m$ for which all components are $1$."
   ]
  },
  {
   "cell_type": "markdown",
   "id": "63303299",
   "metadata": {},
   "source": [
    "Replace the ???? by valid code."
   ]
  },
  {
   "cell_type": "code",
   "execution_count": null,
   "id": "795a8021",
   "metadata": {},
   "outputs": [],
   "source": [
    "\n",
    "\n",
    "def initial_tableau_phase_one(\n",
    "    constraint_matrix: np.ndarray, right_hand_side: np.ndarray\n",
    ") -> SimplexTableau:\n",
    "    \"\"\"Generates the initial tableau for phase I\n",
    "\n",
    "    :param constraint_matrix: matrix containing the constraints coefficients.\n",
    "    :param right_hand_side: right hand side of the constraints.\n",
    "    :return: the first tableau for Phase I\n",
    "    \"\"\"\n",
    "    # We first make sure that the matrix is indeed stored as a matrix\n",
    "    constraint_matrix = np.atleast_2d(constraint_matrix)\n",
    "    n_constraints, n_variables = constraint_matrix.shape\n",
    "\n",
    "    # We need to make sure that all entries of the right hand side are non negative.\n",
    "    # Identify first the negative entries in the right hand side\n",
    "    negative_mask = right_hand_side < 0\n",
    "    # Then, if needed, multiply the corresponding entries and the corresponding constraints by -1.\n",
    "    constraint_matrix[negative_mask] *= -1\n",
    "    right_hand_side[negative_mask] *= -1\n",
    "\n",
    "    # We now build the tableau by define each component, and stacking them horizontally, then vertically.\n",
    "    # First row of components\n",
    "    left = constraint_matrix\n",
    "    middle = np.eye(n_constraints)  # Identity matrix of size m\n",
    "    # To be used with hstack, we need to add a new axis to the right hand side, to make it a matrix instead of a vector.\n",
    "    right = right_hand_side[:, np.newaxis]\n",
    "    first_row = np.hstack((left, middle, right))\n",
    "    # Second row components\n",
    "    e = np.ones(n_constraints)  # Vector of ones of size m\n",
    "    left = -np.dot(e, constraint_matrix)  # -e^T A\n",
    "    middle = np.zeros(n_constraints)  # m zeros\n",
    "    right = -np.dot(e, right_hand_side)  # -e^T b\n",
    "\n",
    "    second_row = np.hstack(\n",
    "        (\n",
    "            left,\n",
    "            middle,\n",
    "            right,\n",
    "        )\n",
    "    )\n",
    "\n",
    "    # Combine both rows\n",
    "    complete_tableau = np.vstack((first_row, second_row))\n",
    "    the_tableau = SimplexTableau(tableau=complete_tableau)\n",
    "    return the_tableau\n",
    "\n"
   ]
  },
  {
   "cell_type": "markdown",
   "id": "d6e6f136",
   "metadata": {},
   "source": [
    "We test the function with the first example"
   ]
  },
  {
   "cell_type": "code",
   "execution_count": null,
   "id": "253e7806",
   "metadata": {},
   "outputs": [],
   "source": [
    "initial_tableau_1 = initial_tableau_phase_one(\n",
    "    constraint_matrix=constraints_1, right_hand_side=rhs_1\n",
    ")\n"
   ]
  },
  {
   "cell_type": "markdown",
   "id": "a52292e1",
   "metadata": {},
   "source": [
    "Expected result:\n",
    "```\n",
    "[[ 1.   2.   3.   0.   1.   0.   0.   0.   3.]\n",
    "[ -1.   2.   6.   0.   0.   1.   0.   0.   2.]\n",
    "[  0.   4.   9.   0.   0.   0.   1.   0.   5.]\n",
    "[  0.   0.   3.   1.   0.   0.   0.   1.   1.]\n",
    "[ -0.  -8. -21.  -1.   0.   0.   0.   0. -11.]]\n",
    "```"
   ]
  },
  {
   "cell_type": "code",
   "execution_count": null,
   "id": "12da3c44",
   "metadata": {},
   "outputs": [],
   "source": [
    "print(initial_tableau_1)\n",
    "\n"
   ]
  },
  {
   "cell_type": "markdown",
   "id": "241a5b55",
   "metadata": {},
   "source": [
    "We now solve the auxiliary problem using the simplex algorithm.\n",
    "Add the condition that verifies if the problem is infeasible. In that case, None is returned."
   ]
  },
  {
   "cell_type": "code",
   "execution_count": null,
   "id": "c55f43f9",
   "metadata": {},
   "outputs": [],
   "source": [
    "def solve_phase_one(initial_tableau: SimplexTableau) -> SimplexTableau | None:\n",
    "    \"\"\"Solve the auxiliary problem, and clean the optimal tableau. If the original problem is not feasible,\n",
    "    return None\"\"\"\n",
    "\n",
    "    algorithm = SimplexTableauPhaseTwo(initial_tableau=initial_tableau)\n",
    "\n",
    "    optimal_tableau_phase_one = initial_tableau\n",
    "    for tableau in algorithm:\n",
    "        optimal_tableau_phase_one = tableau\n",
    "\n",
    "    if not np.isclose(\n",
    "        optimal_tableau_phase_one.value_objective_function, 0.0\n",
    "    ):\n",
    "        return None\n",
    "    return optimal_tableau_phase_one\n",
    "\n"
   ]
  },
  {
   "cell_type": "markdown",
   "id": "48eb545e",
   "metadata": {},
   "source": [
    "We test the function with the first example"
   ]
  },
  {
   "cell_type": "code",
   "execution_count": null,
   "id": "fef87f1c",
   "metadata": {},
   "outputs": [],
   "source": [
    "optimal_tableau_phase_one_1 = solve_phase_one(initial_tableau=initial_tableau_1)\n"
   ]
  },
  {
   "cell_type": "markdown",
   "id": "b738e297",
   "metadata": {},
   "source": [
    "Expected result\n",
    "```\n",
    "[[    1       0       0     0.5     0.5    -0.5       0     0.5       1]\n",
    "[     0       1       0   -0.75    0.25    0.25       0   -0.75     0.5]\n",
    "[     0       0       0       0      -1      -1       1       0       0]\n",
    "[     0       0       1   0.333       0       0       0   0.333   0.333]\n",
    "[     0       0       0       0       2       2       0       1       0]]\n",
    "```"
   ]
  },
  {
   "cell_type": "code",
   "execution_count": null,
   "id": "9381a8bb",
   "metadata": {},
   "outputs": [],
   "source": [
    "print(optimal_tableau_phase_one_1)\n",
    "\n"
   ]
  },
  {
   "cell_type": "markdown",
   "id": "a7f914e2",
   "metadata": {},
   "source": [
    "We now \"clean\" the tableau before starting Phase II. It consists in\n",
    "\n",
    "- moving auxiliary variables out of the basis,\n",
    "- removing redundant constraints,"
   ]
  },
  {
   "cell_type": "code",
   "execution_count": null,
   "id": "ee5a36b6",
   "metadata": {},
   "outputs": [],
   "source": [
    "def remove_auxiliary_variables_from_basis(\n",
    "    optimal_tableau_phase_one: SimplexTableau,\n",
    ") -> SimplexTableau:\n",
    "    \"\"\"Remove auxiliary variables and possibly redundant constraints from the optimal tableau\"\"\"\n",
    "\n",
    "    # We deduce from the number of variables in the tableau the number of variables in the original problem.\n",
    "    n_constraints = optimal_tableau_phase_one.n_constraints\n",
    "    n_total_variables = optimal_tableau_phase_one.n_variables\n",
    "    n_original_variables = n_total_variables - n_constraints\n",
    "\n",
    "    clean_tableau = False\n",
    "    while not clean_tableau:\n",
    "        basic_variables = optimal_tableau_phase_one.identify_basic_variables()\n",
    "        for basic_var in basic_variables:\n",
    "            # You can access to the index of the row and the index of the column using\n",
    "            # `basic_var.row` and `basic_var.column`.\n",
    "\n",
    "            # Check if the basic variable is auxiliary.\n",
    "            if (\n",
    "                basic_var.column >= n_original_variables\n",
    "            ) and (\n",
    "                basic_var.column < (n_original_variables + n_constraints)\n",
    "            ):\n",
    "                # Find the non zero elements in the corresponding part of the row, corresponding to original variables.\n",
    "                # First, define a \"slice\", that identifies elements of the row corresponding to original variables.\n",
    "                row_slice = optimal_tableau_phase_one.tableau[\n",
    "                    basic_var.row, :n_original_variables\n",
    "                ]\n",
    "                # Then, identify all non zero elements in that slice\n",
    "                nonzero_indices = (\n",
    "                    np.nonzero(row_slice)[0]\n",
    "                )\n",
    "\n",
    "                if len(nonzero_indices) == 0:\n",
    "                    \"\"\"No way to pivot. The constraint is redundant and must be removed\"\"\"\n",
    "                    optimal_tableau_phase_one = optimal_tableau_phase_one.remove_row(\n",
    "                        basic_var.row\n",
    "                    )\n",
    "                    break\n",
    "\n",
    "                # We pivot to remove the auxiliary variable out of the basis\n",
    "                pivot = RowColumn(row=basic_var.row, column=int(nonzero_indices[0]))\n",
    "                optimal_tableau_phase_one.pivoting(pivot=pivot)\n",
    "                break\n",
    "\n",
    "        else:\n",
    "            clean_tableau = True\n",
    "\n",
    "    return optimal_tableau_phase_one\n",
    "\n"
   ]
  },
  {
   "cell_type": "markdown",
   "id": "44c78069",
   "metadata": {},
   "source": [
    "We test the function with the first example"
   ]
  },
  {
   "cell_type": "code",
   "execution_count": null,
   "id": "e8c6a900",
   "metadata": {},
   "outputs": [],
   "source": [
    "pivoted_tableau_1 = remove_auxiliary_variables_from_basis(\n",
    "    optimal_tableau_phase_one=optimal_tableau_phase_one_1\n",
    ")\n"
   ]
  },
  {
   "cell_type": "markdown",
   "id": "b284299f",
   "metadata": {},
   "source": [
    "Expected result:\n",
    "```\n",
    "[[    1       0       0     0.5     0.5    -0.5       0     0.5       1]\n",
    "[     0       1       0   -0.75    0.25    0.25       0   -0.75     0.5]\n",
    "[     0       0       1   0.333       0       0       0   0.333   0.333]\n",
    "[     0       0       0       0       2       2       0       1       0]]\n",
    "```"
   ]
  },
  {
   "cell_type": "code",
   "execution_count": null,
   "id": "38ec643b",
   "metadata": {},
   "outputs": [],
   "source": [
    "print(pivoted_tableau_1)\n",
    "\n"
   ]
  },
  {
   "cell_type": "markdown",
   "id": "cac779c9",
   "metadata": {},
   "source": [
    "We can now prepare the tableau for Phase two. It involves:\n",
    "\n",
    "- remove columns corresponding to auxiliary variables, and,\n",
    "- calculate the reduced costs.\n"
   ]
  },
  {
   "cell_type": "code",
   "execution_count": null,
   "id": "edf6f9db",
   "metadata": {},
   "outputs": [],
   "source": [
    "def prepare_tableau_for_phase_two(\n",
    "    cost_vector: np.ndarray, cleaned_tableau: SimplexTableau\n",
    ") -> SimplexTableau:\n",
    "    \"\"\"Remove columns corresponding to auxiliary variables and calculate the reduced costs.\n",
    "\n",
    "    :param cost_vector: cost coefficients of the original problem\n",
    "    :param cleaned_tableau: tableau where all auxiliary variables have been removed from the basis\n",
    "    :return: initial tableau for phase II\n",
    "    \"\"\"\n",
    "    # Note that, after cleaning, the number of constraints may not correspond anymore to the number of auxialiary\n",
    "    # variables, as redundant constraints have been re moved.\n",
    "    n_total_variables = optimal_tableau_phase_one_1.n_variables\n",
    "    n_original_variables = len(cost_vector)\n",
    "\n",
    "    basic_variables = cleaned_tableau.identify_basic_variables()\n",
    "    for basic_var in basic_variables:\n",
    "        if basic_var.column >= n_original_variables and (\n",
    "            basic_var.column < n_total_variables\n",
    "        ):\n",
    "            error_msg = f'Auxiliary variable {basic_var.column} is in the basis. Tableau cannot be cleaned'\n",
    "            raise ValueError(error_msg)\n",
    "\n",
    "    # Delete the columns corresponding to the auxiliary variables.\n",
    "    # Remember that a slice includes the first element, but not the last\n",
    "    slice_to_delete = np.s_[\n",
    "        n_original_variables:n_total_variables\n",
    "    ]\n",
    "    new_array = np.delete(cleaned_tableau.tableau, slice_to_delete, axis=1)\n",
    "    phase_two_tableau = SimplexTableau(tableau=new_array)\n",
    "\n",
    "    # Calculate the reduced costs\n",
    "    phase_two_tableau.recalculate_reduced_costs(costs=cost_vector)\n",
    "\n",
    "    return phase_two_tableau\n",
    "\n"
   ]
  },
  {
   "cell_type": "markdown",
   "id": "56c3311f",
   "metadata": {},
   "source": [
    "We test the function with the first example"
   ]
  },
  {
   "cell_type": "code",
   "execution_count": null,
   "id": "7e5c7566",
   "metadata": {},
   "outputs": [],
   "source": [
    "initial_tableau_phase_two_1 = prepare_tableau_for_phase_two(\n",
    "    cost_vector=objective_1, cleaned_tableau=pivoted_tableau_1\n",
    ")\n"
   ]
  },
  {
   "cell_type": "markdown",
   "id": "cbd26510",
   "metadata": {},
   "source": [
    "Expected result:\n",
    "```\n",
    "[[    1       0       0     0.5       1]\n",
    "[     0       1       0   -0.75     0.5]\n",
    "[     0       0       1   0.333   0.333]\n",
    "[     0       0       0  -0.0833   -1.83]]\n",
    "```"
   ]
  },
  {
   "cell_type": "code",
   "execution_count": null,
   "id": "75094a72",
   "metadata": {},
   "outputs": [],
   "source": [
    "print(initial_tableau_phase_two_1)\n"
   ]
  },
  {
   "cell_type": "markdown",
   "id": "5b2f906f",
   "metadata": {},
   "source": [
    "Now that we have an initial tableau, we can solve Phase two."
   ]
  },
  {
   "cell_type": "code",
   "execution_count": null,
   "id": "4dae4281",
   "metadata": {},
   "outputs": [],
   "source": [
    "phase_two_1 = SimplexTableauPhaseTwo(initial_tableau=initial_tableau_phase_two_1)\n",
    "\n",
    "optimal_tableau_1 = None\n",
    "for tableau in phase_two_1:\n",
    "    optimal_tableau_1 = tableau\n"
   ]
  },
  {
   "cell_type": "markdown",
   "id": "68770a70",
   "metadata": {},
   "source": [
    "The reason why the algorithm stopped can be checked."
   ]
  },
  {
   "cell_type": "code",
   "execution_count": null,
   "id": "b6f3feb9",
   "metadata": {},
   "outputs": [],
   "source": [
    "stopping_cause = phase_two_1.stopping_cause\n",
    "print(stopping_cause)\n"
   ]
  },
  {
   "cell_type": "markdown",
   "id": "e6d67916",
   "metadata": {},
   "source": [
    "The optimal solution is"
   ]
  },
  {
   "cell_type": "code",
   "execution_count": null,
   "id": "b41c1a67",
   "metadata": {},
   "outputs": [],
   "source": [
    "print(phase_two_1.solution)\n"
   ]
  },
  {
   "cell_type": "markdown",
   "id": "e0a2e4e1",
   "metadata": {},
   "source": [
    "Expected optimal tableau:\n",
    "```\n",
    "[[    1       0    -1.5       0     0.5]\n",
    "[     0       1    2.25       0    1.25]\n",
    "[     0       0       3       1       1]\n",
    "[     0       0    0.25       0   -1.75]]\n",
    "```"
   ]
  },
  {
   "cell_type": "code",
   "execution_count": null,
   "id": "663d073d",
   "metadata": {},
   "outputs": [],
   "source": [
    "print(optimal_tableau_1)\n",
    "\n"
   ]
  },
  {
   "cell_type": "markdown",
   "id": "9fb870e7",
   "metadata": {},
   "source": [
    "# Second example.\n",
    "We now apply the same procedure to the second example.\n",
    "There is no need to code anymore. But verify that the output is as expected."
   ]
  },
  {
   "cell_type": "markdown",
   "id": "c89f331e",
   "metadata": {},
   "source": [
    "Initial tableau for phase one."
   ]
  },
  {
   "cell_type": "code",
   "execution_count": null,
   "id": "01ef82cd",
   "metadata": {},
   "outputs": [],
   "source": [
    "initial_tableau_2 = initial_tableau_phase_one(\n",
    "    constraint_matrix=constraints_2, right_hand_side=rhs_2\n",
    ")\n"
   ]
  },
  {
   "cell_type": "markdown",
   "id": "8acb14d2",
   "metadata": {},
   "source": [
    "Expected result:\n",
    "```\n",
    "[[    1       3       0       4       1       1       0       0       2]\n",
    "[     1       2       0      -3       1       0       1       0       2]\n",
    "[    -1      -4       3       0       0       0       0       1       1]\n",
    "[    -1      -1      -3      -1      -2       0       0       0      -5]]\n",
    "```"
   ]
  },
  {
   "cell_type": "code",
   "execution_count": null,
   "id": "dd6bda7a",
   "metadata": {},
   "outputs": [],
   "source": [
    "print(initial_tableau_2)\n"
   ]
  },
  {
   "cell_type": "markdown",
   "id": "9f575bba",
   "metadata": {},
   "source": [
    "Solving phase one."
   ]
  },
  {
   "cell_type": "code",
   "execution_count": null,
   "id": "549aa0ab",
   "metadata": {},
   "outputs": [],
   "source": [
    "optimal_tableau_phase_one_2 = solve_phase_one(initial_tableau=initial_tableau_2)\n"
   ]
  },
  {
   "cell_type": "markdown",
   "id": "61a42d21",
   "metadata": {},
   "source": [
    "Expected result:\n",
    "```\n",
    "[[    1       3       0       4       1       1       0       0       2]\n",
    "[     0      -1       0      -7       0      -1       1       0       0]\n",
    "[     0  -0.333       1    1.33   0.333   0.333       0   0.333       1]\n",
    "[     0       1       0       7       0       2       0       1       0]]\n",
    "```"
   ]
  },
  {
   "cell_type": "code",
   "execution_count": null,
   "id": "0bb058dc",
   "metadata": {},
   "outputs": [],
   "source": [
    "print(optimal_tableau_phase_one_2)\n"
   ]
  },
  {
   "cell_type": "markdown",
   "id": "373de85b",
   "metadata": {},
   "source": [
    "Remove auxiliary variables from the basis."
   ]
  },
  {
   "cell_type": "code",
   "execution_count": null,
   "id": "13803215",
   "metadata": {},
   "outputs": [],
   "source": [
    "pivoted_tableau_2 = remove_auxiliary_variables_from_basis(\n",
    "    optimal_tableau_phase_one=optimal_tableau_phase_one_2\n",
    ")\n"
   ]
  },
  {
   "cell_type": "markdown",
   "id": "34e5236e",
   "metadata": {},
   "source": [
    "Expected result:\n",
    "```\n",
    "[[    1       0       0     -17       1      -2       3       0       2]\n",
    "[    -0       1      -0       7      -0       1      -1      -0      -0]\n",
    "[     0       0       1    3.67   0.333   0.667  -0.333   0.333       1]\n",
    "[     0       0       0       0       0       1       1       1       0]]\n",
    "```"
   ]
  },
  {
   "cell_type": "code",
   "execution_count": null,
   "id": "820ba83f",
   "metadata": {},
   "outputs": [],
   "source": [
    "print(pivoted_tableau_2)\n"
   ]
  },
  {
   "cell_type": "markdown",
   "id": "7460be16",
   "metadata": {},
   "source": [
    "Prepare the tableau for phase two."
   ]
  },
  {
   "cell_type": "code",
   "execution_count": null,
   "id": "15300709",
   "metadata": {},
   "outputs": [],
   "source": [
    "initial_tableau_phase_two_2 = prepare_tableau_for_phase_two(\n",
    "    cost_vector=objective_2, cleaned_tableau=pivoted_tableau_2\n",
    ")\n"
   ]
  },
  {
   "cell_type": "markdown",
   "id": "88595d93",
   "metadata": {},
   "source": [
    "Expected result:\n",
    "```\n",
    "[[    1       0       0     -17       1       2]\n",
    "[    -0       1      -0       7      -0      -0]\n",
    "[     0       0       1    3.67   0.333       1]\n",
    "[     0       0       0       3      -5      -7]]\n",
    "```"
   ]
  },
  {
   "cell_type": "markdown",
   "id": "6e15b56e",
   "metadata": {},
   "source": [
    "And, finally, we solve phase two."
   ]
  },
  {
   "cell_type": "code",
   "execution_count": null,
   "id": "81aaf986",
   "metadata": {},
   "outputs": [],
   "source": [
    "phase_two_2 = SimplexTableauPhaseTwo(initial_tableau=initial_tableau_phase_two_2)\n",
    "\n",
    "optimal_tableau_2 = None\n",
    "for tableau in phase_two_2:\n",
    "    optimal_tableau_2 = tableau\n"
   ]
  },
  {
   "cell_type": "markdown",
   "id": "00752874",
   "metadata": {},
   "source": [
    "The reason why the algorithm stopped can be checked."
   ]
  },
  {
   "cell_type": "code",
   "execution_count": null,
   "id": "e4c2a36f",
   "metadata": {},
   "outputs": [],
   "source": [
    "print(phase_two_2.stopping_cause)\n"
   ]
  },
  {
   "cell_type": "markdown",
   "id": "3d12b51d",
   "metadata": {},
   "source": [
    "The optimal solution is"
   ]
  },
  {
   "cell_type": "code",
   "execution_count": null,
   "id": "f5107c15",
   "metadata": {},
   "outputs": [],
   "source": [
    "print(phase_two_2.solution)\n"
   ]
  },
  {
   "cell_type": "markdown",
   "id": "c3ba9c05",
   "metadata": {},
   "source": [
    "Expected optimal tableau:\n",
    "```\n",
    "[[     1    2.43       0       0       1       2]\n",
    "[     0   0.143       0       1       0       0]\n",
    "[-0.333   -1.33       1       0       0   0.333]\n",
    "[     5    11.7       0       0       0       3]]\n",
    "```"
   ]
  },
  {
   "cell_type": "code",
   "execution_count": null,
   "id": "9494aef9",
   "metadata": {},
   "outputs": [],
   "source": [
    "print(optimal_tableau_2)\n"
   ]
  },
  {
   "cell_type": "markdown",
   "id": "961681df",
   "metadata": {},
   "source": [
    "# Third example.\n",
    "We now apply the same procedure to the third example, which is an infeasible problem.\n",
    "There is no need to code anymore. But verify that the output is as expected."
   ]
  },
  {
   "cell_type": "markdown",
   "id": "8bff499d",
   "metadata": {},
   "source": [
    "Initial tableau for phase one."
   ]
  },
  {
   "cell_type": "code",
   "execution_count": null,
   "id": "42782f74",
   "metadata": {},
   "outputs": [],
   "source": [
    "initial_tableau_3 = initial_tableau_phase_one(\n",
    "    constraint_matrix=constraints_3, right_hand_side=rhs_3\n",
    ")\n"
   ]
  },
  {
   "cell_type": "markdown",
   "id": "38850440",
   "metadata": {},
   "source": [
    "Expected result:\n",
    "```\n",
    "[[   -1      -1       1       1]\n",
    "[     1       1       0      -1]]\n",
    "```"
   ]
  },
  {
   "cell_type": "markdown",
   "id": "ee4c457f",
   "metadata": {},
   "source": [
    "Solving phase one."
   ]
  },
  {
   "cell_type": "code",
   "execution_count": null,
   "id": "fbba43f6",
   "metadata": {},
   "outputs": [],
   "source": [
    "optimal_tableau_phase_one_3 = solve_phase_one(initial_tableau=initial_tableau_3)\n"
   ]
  },
  {
   "cell_type": "markdown",
   "id": "00cac568",
   "metadata": {},
   "source": [
    "As the problem is infeasible, the function must return None"
   ]
  },
  {
   "cell_type": "code",
   "execution_count": null,
   "id": "25d398ae",
   "metadata": {},
   "outputs": [],
   "source": [
    "print(optimal_tableau_phase_one_3)"
   ]
  }
 ],
 "metadata": {},
 "nbformat": 4,
 "nbformat_minor": 5
}

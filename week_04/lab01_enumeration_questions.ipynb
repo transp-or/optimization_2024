{
 "cells": [
  {
   "cell_type": "markdown",
   "id": "8787f795",
   "metadata": {},
   "source": [
    "# Vertex enumeration\n",
    "\n",
    "## Introduction to optimization and operations research\n",
    "\n",
    "Michel Bierlaire\n"
   ]
  },
  {
   "cell_type": "code",
   "execution_count": null,
   "id": "e6b463a2",
   "metadata": {},
   "outputs": [],
   "source": [
    "\n",
    "from itertools import combinations\n",
    "\n",
    "import numpy as np\n",
    "import pandas as pd\n",
    "from teaching_optimization.linear_constraints import (\n",
    "    draw_polyhedron_standard_form,\n",
    "    LabeledPoint,\n",
    ")\n",
    "from teaching_optimization.linear_optimization import LinearOptimization\n"
   ]
  },
  {
   "cell_type": "markdown",
   "id": "3356622f",
   "metadata": {},
   "source": [
    "Consider the following optimization problem:\n",
    "$$\n",
    "\\min_{x \\in \\mathbb{R}^2} 3x_1 + x_2\n",
    "$$\n",
    "subject to\n",
    "\\begin{align*}\n",
    "2x_1+2x_2 & \\geq 1,\\\\\n",
    "x_1+x_2 & \\leq 2,\\\\\n",
    "x_1 & \\geq 0,\\\\\n",
    "x_2 & \\geq 0.\n",
    "\\end{align*}\n",
    "\n",
    "We want to find the optimal solution using vertex enumeration.\n",
    "Hint: use the `LinearOptimization` class."
   ]
  },
  {
   "cell_type": "code",
   "execution_count": null,
   "id": "db014e6a",
   "metadata": {},
   "outputs": [],
   "source": [
    "help(LinearOptimization)\n"
   ]
  },
  {
   "cell_type": "markdown",
   "id": "d1808140",
   "metadata": {},
   "source": [
    "Here are examples of usage."
   ]
  },
  {
   "cell_type": "markdown",
   "id": "f0924c33",
   "metadata": {},
   "source": [
    "Constructor"
   ]
  },
  {
   "cell_type": "code",
   "execution_count": null,
   "id": "839c033a",
   "metadata": {},
   "outputs": [],
   "source": [
    "matrix_a = np.array([[1, 2, 3], [4, 5, 6]])\n",
    "vector_b = np.array([7, 8])\n",
    "vector_c = np.array([9, 10, 11])\n",
    "example_linear_optimization = LinearOptimization(\n",
    "    objective=vector_c, constraint_matrix=matrix_a, right_hand_side=vector_b\n",
    ")\n",
    "print(\n",
    "    f'{example_linear_optimization.n_variables} variables, {example_linear_optimization.n_constraints} constraints.'\n",
    ")\n"
   ]
  },
  {
   "cell_type": "markdown",
   "id": "463bd646",
   "metadata": {},
   "source": [
    "Specify the basic indices"
   ]
  },
  {
   "cell_type": "code",
   "execution_count": null,
   "id": "85680381",
   "metadata": {},
   "outputs": [],
   "source": [
    "example_linear_optimization.basic_indices = [0, 1]\n"
   ]
  },
  {
   "cell_type": "markdown",
   "id": "d07db9ff",
   "metadata": {},
   "source": [
    "Obtain the basic solution"
   ]
  },
  {
   "cell_type": "code",
   "execution_count": null,
   "id": "bd25e9e2",
   "metadata": {},
   "outputs": [],
   "source": [
    "print(example_linear_optimization.basic_solution)\n"
   ]
  },
  {
   "cell_type": "markdown",
   "id": "17528571",
   "metadata": {},
   "source": [
    "Check if it is feasible."
   ]
  },
  {
   "cell_type": "code",
   "execution_count": null,
   "id": "f07e1e7e",
   "metadata": {},
   "outputs": [],
   "source": [
    "print(example_linear_optimization.is_basic_solution_feasible)\n"
   ]
  },
  {
   "cell_type": "markdown",
   "id": "26ab1ee4",
   "metadata": {},
   "source": [
    "Obtain the value of the objective function at the vertex"
   ]
  },
  {
   "cell_type": "code",
   "execution_count": null,
   "id": "3e304c04",
   "metadata": {},
   "outputs": [],
   "source": [
    "print(example_linear_optimization.value_objective_at_vertex)\n"
   ]
  },
  {
   "cell_type": "markdown",
   "id": "95ad3ec7",
   "metadata": {},
   "source": [
    "You will also need the function `combinations` from `itertools`."
   ]
  },
  {
   "cell_type": "code",
   "execution_count": null,
   "id": "46aa87cb",
   "metadata": {},
   "outputs": [],
   "source": [
    "help(combinations)\n"
   ]
  },
  {
   "cell_type": "markdown",
   "id": "38928324",
   "metadata": {},
   "source": [
    "First, specify the data in standard form."
   ]
  },
  {
   "cell_type": "code",
   "execution_count": null,
   "id": "e461f3c8",
   "metadata": {},
   "outputs": [],
   "source": [
    "standard_a = ????\n",
    "standard_b = ????\n",
    "objective = ????\n"
   ]
  },
  {
   "cell_type": "markdown",
   "id": "ace0dff2",
   "metadata": {},
   "source": [
    "Create the LinearOptimization object"
   ]
  },
  {
   "cell_type": "code",
   "execution_count": null,
   "id": "fc1c34bd",
   "metadata": {},
   "outputs": [],
   "source": [
    "the_linear_optimization = LinearOptimization(\n",
    "    objective=the_objective, constraint_matrix=standard_a, right_hand_side=standard_b\n",
    ")\n"
   ]
  },
  {
   "cell_type": "markdown",
   "id": "9daf8b42",
   "metadata": {},
   "source": [
    "Draw the polyhedron"
   ]
  },
  {
   "cell_type": "code",
   "execution_count": null,
   "id": "4a59f4de",
   "metadata": {},
   "outputs": [],
   "source": [
    "draw_polyhedron_standard_form(matrix_a=standard_a, vector_b=standard_b)\n"
   ]
  },
  {
   "cell_type": "markdown",
   "id": "1ac1c575",
   "metadata": {},
   "source": [
    "Loop over all feasible basic solutions and remember the best one."
   ]
  },
  {
   "cell_type": "code",
   "execution_count": null,
   "id": "c45d6f34",
   "metadata": {},
   "outputs": [],
   "source": [
    "\n",
    "\n",
    "best_solution = None\n",
    "best_value = np.inf\n",
    "\n",
    "\n"
   ]
  },
  {
   "cell_type": "markdown",
   "id": "cb529877",
   "metadata": {},
   "source": [
    "Loop over all possible combinations of basic indices."
   ]
  },
  {
   "cell_type": "code",
   "execution_count": null,
   "id": "3df219ba",
   "metadata": {},
   "outputs": [],
   "source": [
    "for basic_indices in combinations(\n",
    " ????\n",
    "\n",
    "):\n",
    "    ????\n",
    "\n",
    "\n",
    "\n",
    "\n",
    "\n",
    "\n",
    "\n",
    "\n",
    "\n",
    "\n",
    "\n",
    "\n",
    "\n",
    "\n",
    "\n",
    "\n",
    "\n",
    "\n",
    "\n",
    "\n"
   ]
  },
  {
   "cell_type": "markdown",
   "id": "91049e2a",
   "metadata": {},
   "source": [
    "Optimal solution:"
   ]
  },
  {
   "cell_type": "code",
   "execution_count": null,
   "id": "7b38961e",
   "metadata": {},
   "outputs": [],
   "source": [
    "print(f'Optimal solution: {best_solution}')\n"
   ]
  },
  {
   "cell_type": "markdown",
   "id": "422d1cc4",
   "metadata": {},
   "source": [
    "Optimal value:"
   ]
  },
  {
   "cell_type": "code",
   "execution_count": null,
   "id": "e1ee274f",
   "metadata": {},
   "outputs": [],
   "source": [
    "print(f'Optimal value: {best_value}')\n"
   ]
  },
  {
   "cell_type": "markdown",
   "id": "0290451e",
   "metadata": {},
   "source": [
    "Draw the optimal solution"
   ]
  },
  {
   "cell_type": "code",
   "execution_count": null,
   "id": "d7fddf30",
   "metadata": {},
   "outputs": [],
   "source": [
    "draw_polyhedron_standard_form(\n",
    "    matrix_a=standard_a,\n",
    "    vector_b=standard_b,\n",
    "    objective_coefficients=the_objective,\n",
    "    level_lines=[-0.5, 0.5, 1.5, 2.5],\n",
    "    points=[LabeledPoint(coordinates=best_solution, label='Optimum')],\n",
    ")"
   ]
  }
 ],
 "metadata": {},
 "nbformat": 4,
 "nbformat_minor": 5
}

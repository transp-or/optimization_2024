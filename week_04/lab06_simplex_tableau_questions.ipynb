{
 "cells": [
  {
   "cell_type": "markdown",
   "id": "e75b0a6d",
   "metadata": {},
   "source": [
    "# Simplex tableau algorithm\n",
    "\n",
    "## Introduction to optimization and operations research\n",
    "\n",
    "Michel Bierlaire\n"
   ]
  },
  {
   "cell_type": "code",
   "execution_count": null,
   "id": "05bac591",
   "metadata": {},
   "outputs": [],
   "source": [
    "\n",
    "import sys\n",
    "from enum import Enum, auto\n",
    "\n",
    "import numpy as np\n",
    "from teaching_optimization.tableau import SimplexTableau, RowColumn\n"
   ]
  },
  {
   "cell_type": "markdown",
   "id": "789ae50b",
   "metadata": {},
   "source": [
    "Consider the following linear optimization problem\n",
    "$$\n",
    "\\max 4x_0 - 3x_1\n",
    "$$\n",
    "subject to\n",
    "\\begin{align*}\n",
    "2x_0  +  x_1 &\\leq  6,\\\\\n",
    "x_0 - x_1    &\\leq  2,\\\\\n",
    "x_{0}  ,  x_{1}  &\\geq  0. \\\\\n",
    "\\end{align*}\n",
    "\n",
    "The objective of this exercise is to implement the simplex tableau algorithm to find the optimal solution.\n"
   ]
  },
  {
   "cell_type": "markdown",
   "id": "a50cb5bf",
   "metadata": {},
   "source": [
    "First,  we write the problem in standard form:\n",
    "$$\n",
    "\\min - 4x_0 +3x_1\n",
    "$$\n",
    "subject to\n",
    "\\begin{align*}\n",
    "2x_0  +  x_1 + x_2 & =  6,\\\\\n",
    "x_0 - x_1 + x_3    & =  2,\\\\\n",
    "x_{0}  ,  x_{1}, x_2, x_3  &\\geq  0.\n",
    "\\end{align*}"
   ]
  },
  {
   "cell_type": "code",
   "execution_count": null,
   "id": "1022a338",
   "metadata": {},
   "outputs": [],
   "source": [
    "standard_a = np.array([[2, 1, 1, 0], [1, -1, 0, 1]])\n",
    "standard_b = np.array([6, 2])\n",
    "standard_c = np.array([-4, 3, 0, 0])\n"
   ]
  },
  {
   "cell_type": "markdown",
   "id": "232461ae",
   "metadata": {},
   "source": [
    "As the right hand side is non negative, we choose the slack variables as basic variables, so that the basic\n",
    "matrix is the identity matrix. The first tableau contains the data of the problem:\n",
    "\n",
    "$$ \\begin{array}{c|c} A & b \\\\ \\hline c^T & 0 \\end{array}$$"
   ]
  },
  {
   "cell_type": "code",
   "execution_count": null,
   "id": "a786c684",
   "metadata": {},
   "outputs": [],
   "source": [
    "\n",
    "\n",
    "\n",
    "\n",
    "\n",
    "\n",
    "\n",
    "initial_tableau: np.ndarray = ????\n"
   ]
  },
  {
   "cell_type": "code",
   "execution_count": null,
   "id": "2d8a81a2",
   "metadata": {},
   "outputs": [],
   "source": [
    "the_tableau = SimplexTableau(initial_tableau)\n"
   ]
  },
  {
   "cell_type": "markdown",
   "id": "2895afa9",
   "metadata": {},
   "source": [
    "First tableau"
   ]
  },
  {
   "cell_type": "code",
   "execution_count": null,
   "id": "2bd49bc2",
   "metadata": {},
   "outputs": [],
   "source": [
    "print(the_tableau)\n"
   ]
  },
  {
   "cell_type": "markdown",
   "id": "d69bcc47",
   "metadata": {},
   "source": [
    "Details"
   ]
  },
  {
   "cell_type": "code",
   "execution_count": null,
   "id": "f5b321da",
   "metadata": {},
   "outputs": [],
   "source": [
    "print(the_tableau.report())\n",
    "\n"
   ]
  },
  {
   "cell_type": "markdown",
   "id": "fa30a14c",
   "metadata": {},
   "source": [
    "Write a function that identifies a non-basic variable to enter the basis. Complete the ????"
   ]
  },
  {
   "cell_type": "code",
   "execution_count": null,
   "id": "c82d48ad",
   "metadata": {},
   "outputs": [],
   "source": [
    "def column_entering_basis(simplex_tableau: SimplexTableau) -> int | None:\n",
    "    \"\"\"\n",
    "    Function that identifies a non-basic index to enter the basis, or detect optimality\n",
    "    :param simplex simplex_tableau: object representing the tableau.\n",
    "    :return: a non-basic index corresponding to a negative reduced cost, or None if optimal.\n",
    "    \"\"\"\n",
    "    # the_tableau.tableau contains the numpy array with the entries of the tableau.\n",
    "\n",
    "\n",
    "\n",
    "\n",
    "\n",
    "\n",
    "\n",
    "\n",
    "\n",
    "\n",
    "\n",
    "\n",
    "    index = ????\n",
    "\n",
    "\n",
    "\n",
    "\n",
    "    return index\n",
    "\n"
   ]
  },
  {
   "cell_type": "markdown",
   "id": "8d0240ef",
   "metadata": {},
   "source": [
    "We test the function. Expected result: Entering variable: 0"
   ]
  },
  {
   "cell_type": "code",
   "execution_count": null,
   "id": "980a4d5a",
   "metadata": {},
   "outputs": [],
   "source": [
    "the_entering_column = column_entering_basis(simplex_tableau=the_tableau)\n",
    "print(f'Entering column: {the_entering_column}')\n"
   ]
  },
  {
   "cell_type": "markdown",
   "id": "c8b715bd",
   "metadata": {},
   "source": [
    "Verify the reduced cost for this variable. It must be negative."
   ]
  },
  {
   "cell_type": "code",
   "execution_count": null,
   "id": "08587573",
   "metadata": {},
   "outputs": [],
   "source": [
    "print(f'Reduced cost: {the_tableau.tableau[-1, the_entering_column]}')\n",
    "\n"
   ]
  },
  {
   "cell_type": "markdown",
   "id": "d18337ae",
   "metadata": {},
   "source": [
    "Write a function that identifies a basic index to leave the basis."
   ]
  },
  {
   "cell_type": "code",
   "execution_count": null,
   "id": "37f4a253",
   "metadata": {},
   "outputs": [],
   "source": [
    "def row_leaving_basis(\n",
    "    simplex_tableau: SimplexTableau,\n",
    "    column_entering: int,\n",
    ") -> int | None:\n",
    "    \"\"\"function that identifies a row corresponding to the basic variable leaving the basis, or identify an unbounded\n",
    "        problem.\n",
    "\n",
    "    :param simplex simplex_tableau: object representing the tableau.\n",
    "    :param column_entering: non-basic index entering the basis\n",
    "    :return: index of the variable leaving the basis, or None if unbounded\n",
    "    \"\"\"\n",
    "    # First, identify the rows with positive entries.\n",
    "    positive_row_indices = ????\n",
    "\n",
    "\n",
    "\n",
    "\n",
    "\n",
    "    # If there is no such entry, the problem is unbounded.\n",
    "    if positive_row_indices.size == 0:\n",
    "        return None\n",
    "\n",
    "    # Calculate the vector of alphas\n",
    "    vector_of_alphas = ????\n",
    "\n",
    "\n",
    "\n",
    "\n",
    "    # Find the index of the smallest alpha in vector_of_alphas\n",
    "    min_alpha_index = ????\n",
    "\n",
    "    # Map the local index of the smallest alpha to the global index in the_tableau.\n",
    "    row_index = ????\n",
    "\n",
    "    return row_index\n",
    "\n"
   ]
  },
  {
   "cell_type": "markdown",
   "id": "66a97e64",
   "metadata": {},
   "source": [
    "We test the function. Expected result: Exiting row: 1 (corresponding to variable $x_3$)."
   ]
  },
  {
   "cell_type": "code",
   "execution_count": null,
   "id": "4cbf1de5",
   "metadata": {},
   "outputs": [],
   "source": [
    "the_exiting_row = row_leaving_basis(\n",
    "    simplex_tableau=the_tableau,\n",
    "    column_entering=the_entering_column,\n",
    ")\n",
    "\n",
    "print(f'Exiting row: {the_exiting_row}')\n",
    "\n"
   ]
  },
  {
   "cell_type": "markdown",
   "id": "5bab7b59",
   "metadata": {},
   "source": [
    "We define a list of possible interruptions of the algorithm"
   ]
  },
  {
   "cell_type": "code",
   "execution_count": null,
   "id": "f8859d2f",
   "metadata": {},
   "outputs": [],
   "source": [
    "class CauseInterruptionIterations(Enum):\n",
    "    OPTIMAL = auto()\n",
    "    UNBOUNDED = auto()\n",
    "    INFEASIBLE = auto()\n",
    "\n",
    "    def __str__(self) -> str:\n",
    "        messages = {\n",
    "            self.OPTIMAL: 'Optimal basis found.',\n",
    "            self.UNBOUNDED: 'Optimization problem is unbounded.',\n",
    "            self.INFEASIBLE: 'Optimization problem is infeasible.',\n",
    "        }\n",
    "        return messages[self]\n",
    "\n"
   ]
  },
  {
   "cell_type": "markdown",
   "id": "c83c7856",
   "metadata": {},
   "source": [
    "Write a function that performs one iteration of the simplex algorithm."
   ]
  },
  {
   "cell_type": "code",
   "execution_count": null,
   "id": "6b8b128b",
   "metadata": {},
   "outputs": [],
   "source": [
    "def simplex_iteration(\n",
    "    simplex_tableau: SimplexTableau,\n",
    ") -> tuple[SimplexTableau | None, CauseInterruptionIterations | None]:\n",
    "    \"\"\"\n",
    "    Performs one iteration of the simplex algorithm.\n",
    "    :param simplex_tableau: object representing the first tableau.\n",
    "    :return: the new tableau, if successful. If None, a message explaining the reason.\n",
    "    \"\"\"\n",
    "    entering_column = column_entering_basis(simplex_tableau=simplex_tableau)\n",
    "    if entering_column is None:\n",
    "        # Optimal solution found.\n",
    "        return None, CauseInterruptionIterations.OPTIMAL\n",
    "\n",
    "    exiting_row = row_leaving_basis(\n",
    "        simplex_tableau=simplex_tableau,\n",
    "        column_entering=entering_column,\n",
    "    )\n",
    "    if exiting_row is None:\n",
    "        # Problem is unbounded.\n",
    "        return None, CauseInterruptionIterations.UNBOUNDED\n",
    "\n",
    "    pivot = RowColumn(row=exiting_row, column=entering_column)\n",
    "    simplex_tableau.pivoting(pivot=pivot)\n",
    "    return simplex_tableau, None\n",
    "\n"
   ]
  },
  {
   "cell_type": "markdown",
   "id": "b9ed9f1c",
   "metadata": {},
   "source": [
    "First iteration"
   ]
  },
  {
   "cell_type": "code",
   "execution_count": null,
   "id": "41cfc3c6",
   "metadata": {},
   "outputs": [],
   "source": [
    "tableau_1, interruption = simplex_iteration(\n",
    "    simplex_tableau=the_tableau,\n",
    ")\n",
    "if tableau_1 is None:\n",
    "    print(interruption)\n"
   ]
  },
  {
   "cell_type": "markdown",
   "id": "b4d86047",
   "metadata": {},
   "source": [
    "New tableau"
   ]
  },
  {
   "cell_type": "code",
   "execution_count": null,
   "id": "65affb71",
   "metadata": {},
   "outputs": [],
   "source": [
    "print(tableau_1)\n"
   ]
  },
  {
   "cell_type": "markdown",
   "id": "4c2400de",
   "metadata": {},
   "source": [
    "Details"
   ]
  },
  {
   "cell_type": "code",
   "execution_count": null,
   "id": "b04ebfef",
   "metadata": {},
   "outputs": [],
   "source": [
    "print(tableau_1.report())\n"
   ]
  },
  {
   "cell_type": "markdown",
   "id": "a628170e",
   "metadata": {},
   "source": [
    "Second iteration"
   ]
  },
  {
   "cell_type": "code",
   "execution_count": null,
   "id": "d97aa7b8",
   "metadata": {},
   "outputs": [],
   "source": [
    "tableau_2, interruption = simplex_iteration(simplex_tableau=tableau_1)\n",
    "if tableau_2 is None:\n",
    "    print(interruption)\n"
   ]
  },
  {
   "cell_type": "markdown",
   "id": "cf138166",
   "metadata": {},
   "source": [
    "New tableau"
   ]
  },
  {
   "cell_type": "code",
   "execution_count": null,
   "id": "c0af56a9",
   "metadata": {},
   "outputs": [],
   "source": [
    "print(tableau_2)\n"
   ]
  },
  {
   "cell_type": "markdown",
   "id": "f4baddba",
   "metadata": {},
   "source": [
    "Details"
   ]
  },
  {
   "cell_type": "code",
   "execution_count": null,
   "id": "4892298f",
   "metadata": {},
   "outputs": [],
   "source": [
    "print(tableau_2.report())\n"
   ]
  },
  {
   "cell_type": "markdown",
   "id": "7a9f89f3",
   "metadata": {},
   "source": [
    "Third iteration"
   ]
  },
  {
   "cell_type": "code",
   "execution_count": null,
   "id": "7be58818",
   "metadata": {},
   "outputs": [],
   "source": [
    "tableau_3, interruption = simplex_iteration(simplex_tableau=tableau_2)\n",
    "if tableau_3 is None:\n",
    "    print(interruption)"
   ]
  }
 ],
 "metadata": {},
 "nbformat": 4,
 "nbformat_minor": 5
}

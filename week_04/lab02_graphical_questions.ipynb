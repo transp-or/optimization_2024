{
 "cells": [
  {
   "cell_type": "markdown",
   "id": "8162c8d3",
   "metadata": {},
   "source": [
    "# Graphical method\n",
    "\n",
    "## Introduction to optimization and operations research\n",
    "\n",
    "Michel Bierlaire\n"
   ]
  },
  {
   "cell_type": "code",
   "execution_count": null,
   "id": "d15977bf",
   "metadata": {},
   "outputs": [],
   "source": [
    "\n",
    "from itertools import combinations\n",
    "\n",
    "import numpy as np\n",
    "from teaching_optimization.linear_constraints import (\n",
    "    draw_polyhedron_standard_form,\n",
    "    LabeledPoint,\n",
    ")\n",
    "from teaching_optimization.linear_optimization import LinearOptimization\n"
   ]
  },
  {
   "cell_type": "markdown",
   "id": "56f790e9",
   "metadata": {},
   "source": [
    "Consider the optimization problem $$\\min_{x \\in \\mathbb{R}^2} -x_1-\\frac{3}{2} x_2$$ subject to\n",
    "\\begin{align*}\n",
    "-x_1+2x_2 & \\geq 2,\\\\\n",
    "2x_1+3x_2 & \\leq 7,\\\\\n",
    "x_1,x_2 & \\geq 0.\n",
    "\\end{align*}\n",
    "\n",
    "- Find an optimal vertex using the graphical method.\n",
    "- Identify the corresponding basic indices.\n",
    "- Provides the feasible basic solution."
   ]
  },
  {
   "cell_type": "code",
   "execution_count": null,
   "id": "fdb37133",
   "metadata": {},
   "outputs": [],
   "source": [
    "standard_a = ????\n",
    "standard_b = ????\n",
    "standard_c = ????\n"
   ]
  },
  {
   "cell_type": "markdown",
   "id": "ed0a2bde",
   "metadata": {},
   "source": [
    "We prepare the optimization problem."
   ]
  },
  {
   "cell_type": "code",
   "execution_count": null,
   "id": "68e181a2",
   "metadata": {},
   "outputs": [],
   "source": [
    "the_optimization_problem = LinearOptimization(\n",
    "    objective=standard_c, constraint_matrix=standard_a, right_hand_side=standard_b\n",
    ")\n"
   ]
  },
  {
   "cell_type": "markdown",
   "id": "85b85471",
   "metadata": {},
   "source": [
    "We plot the polyhedron as well as some level lines."
   ]
  },
  {
   "cell_type": "code",
   "execution_count": null,
   "id": "143e7a73",
   "metadata": {},
   "outputs": [],
   "source": [
    "draw_polyhedron_standard_form(\n",
    "    matrix_a=standard_a,\n",
    "    vector_b=standard_b,\n",
    "    objective_coefficients=standard_c,\n",
    "    level_lines=[-2.5, -3, -3.5, -4],\n",
    ")\n",
    "\n",
    "\n",
    "\n",
    "\n",
    "\n",
    "\n",
    "\n",
    "\n",
    "\n",
    "\n"
   ]
  },
  {
   "cell_type": "code",
   "execution_count": null,
   "id": "94929eee",
   "metadata": {},
   "outputs": [],
   "source": [
    " We identify an optimal vertex:\n",
    "basic_indices_optimal_vertex = ????\n",
    "the_optimization_problem.basic_indices = basic_indices_optimal_vertex\n",
    "optimal_vertex = the_optimization_problem.basic_solution\n"
   ]
  },
  {
   "cell_type": "markdown",
   "id": "93a12869",
   "metadata": {},
   "source": [
    "We plot the polyhedron and the optimal vertex."
   ]
  },
  {
   "cell_type": "code",
   "execution_count": null,
   "id": "edc9b27c",
   "metadata": {},
   "outputs": [],
   "source": [
    "draw_polyhedron_standard_form(\n",
    "    matrix_a=standard_a,\n",
    "    vector_b=standard_b,\n",
    "    objective_coefficients=standard_c,\n",
    "    level_lines=[-2.5, -3, -3.5, -4],\n",
    "    points=[LabeledPoint(coordinates=optimal_vertex)],\n",
    ")\n",
    "\n",
    "\n",
    "\n",
    "\n",
    "\n",
    "\n",
    "\n",
    "\n",
    "\n",
    "\n",
    "\n",
    "\n",
    "\n",
    "\n",
    "\n",
    "\n",
    "\n"
   ]
  }
 ],
 "metadata": {},
 "nbformat": 4,
 "nbformat_minor": 5
}

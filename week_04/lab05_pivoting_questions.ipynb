{
 "cells": [
  {
   "cell_type": "markdown",
   "id": "6dc30af3",
   "metadata": {},
   "source": [
    "# Pivoting the simplex tableau\n",
    "\n",
    "## Introduction to optimization and operations research\n",
    "\n",
    "Michel Bierlaire\n"
   ]
  },
  {
   "cell_type": "code",
   "execution_count": null,
   "id": "177f2344",
   "metadata": {},
   "outputs": [],
   "source": [
    "\n",
    "import numpy as np\n",
    "\n"
   ]
  },
  {
   "cell_type": "markdown",
   "id": "2598e26a",
   "metadata": {},
   "source": [
    "The objective of this lab is to implement the pivoting of the simplex tableau."
   ]
  },
  {
   "cell_type": "markdown",
   "id": "16fa9a74",
   "metadata": {},
   "source": [
    "Consider the following simplex tableau."
   ]
  },
  {
   "cell_type": "code",
   "execution_count": null,
   "id": "d6707b79",
   "metadata": {},
   "outputs": [],
   "source": [
    "the_tableau = np.array(\n",
    "    [\n",
    "        [0, 1.5, 1, 1, -0.5, 0, 10],\n",
    "        [1, 0.5, 1, 0, 0.5, 0, 10],\n",
    "        [0, 1, -1, 0, -1, 1, 0],\n",
    "        [0, -7, -2, 0, 5, 0, 100],\n",
    "    ]\n",
    ")\n",
    "print(the_tableau)\n"
   ]
  },
  {
   "cell_type": "markdown",
   "id": "0917e0aa",
   "metadata": {},
   "source": [
    "We want to pivot the tableau around the following pivot."
   ]
  },
  {
   "cell_type": "code",
   "execution_count": null,
   "id": "ba0db585",
   "metadata": {},
   "outputs": [],
   "source": [
    "the_pivot_row: int = 2\n",
    "the_pivot_column: int = 1\n"
   ]
  },
  {
   "cell_type": "markdown",
   "id": "7247d828",
   "metadata": {},
   "source": [
    "What is the variable that enters the basis?\n"
   ]
  },
  {
   "cell_type": "markdown",
   "id": "8013ccb4",
   "metadata": {},
   "source": [
    "What is the variable that leaves the basis?\n"
   ]
  },
  {
   "cell_type": "markdown",
   "id": "e0cf0b16",
   "metadata": {},
   "source": [
    "What is the value of the pivot?"
   ]
  },
  {
   "cell_type": "code",
   "execution_count": null,
   "id": "31cc91b4",
   "metadata": {},
   "outputs": [],
   "source": [
    "the_pivot_value = ????\n",
    "\n",
    "\n",
    "print(the_pivot_value)\n"
   ]
  },
  {
   "cell_type": "markdown",
   "id": "57d9d653",
   "metadata": {},
   "source": [
    "What is the row of the pivot?"
   ]
  },
  {
   "cell_type": "code",
   "execution_count": null,
   "id": "e75fb137",
   "metadata": {},
   "outputs": [],
   "source": [
    "the_row_of_the_pivot =  ????\n",
    "\n",
    "\n",
    "print(the_row_of_the_pivot)\n"
   ]
  },
  {
   "cell_type": "markdown",
   "id": "629e8f5c",
   "metadata": {},
   "source": [
    "We want to apply the elementary row operation on row 0, so that the element at the column of the pivot becomes zero."
   ]
  },
  {
   "cell_type": "code",
   "execution_count": null,
   "id": "e18b4c2e",
   "metadata": {},
   "outputs": [],
   "source": [
    "the_processing_row = 0\n",
    "the_current_value = ????\n",
    "\n",
    "\n",
    "print(f'Current value @ row 0, pivot column: {the_current_value}')\n"
   ]
  },
  {
   "cell_type": "markdown",
   "id": "bfc2dd3f",
   "metadata": {},
   "source": [
    "We need to add a multiple of the pivot row to row 0."
   ]
  },
  {
   "cell_type": "code",
   "execution_count": null,
   "id": "7f7fa2a5",
   "metadata": {},
   "outputs": [],
   "source": [
    "the_multiplier = -the_current_value / the_pivot_value\n",
    "the_tableau[the_processing_row, :] += the_multiplier * the_row_of_the_pivot\n"
   ]
  },
  {
   "cell_type": "markdown",
   "id": "8f1a13c4",
   "metadata": {},
   "source": [
    "New row after operation"
   ]
  },
  {
   "cell_type": "code",
   "execution_count": null,
   "id": "16157337",
   "metadata": {},
   "outputs": [],
   "source": [
    "print(the_tableau[the_processing_row, :])\n",
    "\n"
   ]
  },
  {
   "cell_type": "markdown",
   "id": "0f2981bf",
   "metadata": {},
   "source": [
    "We now automatize the process for all rows.\n",
    "\n",
    "Fill the ????"
   ]
  },
  {
   "cell_type": "code",
   "execution_count": null,
   "id": "932edb21",
   "metadata": {},
   "outputs": [],
   "source": [
    "def pivoting(tableau: np.ndarray, pivot_row: int, pivot_column: int) -> np.ndarray:\n",
    "    \"\"\"Pivot the simplex tableau\n",
    "\n",
    "    :param tableau: original tableau.\n",
    "    :param pivot_row: index of the row of the pivot.\n",
    "    :param pivot_column: index of the column of the pivot.\n",
    "    :return: pivoted tableau.\n",
    "    \"\"\"\n",
    "    n_rows, n_columns = tableau.shape\n",
    "    if pivot_row < 0 or pivot_row >= n_rows:\n",
    "        error_msg = f'Row index {pivot_row} out of range [0, {n_rows-1}]'\n",
    "        raise ValueError(error_msg)\n",
    "    if pivot_column < 0 or pivot_column >= n_columns:\n",
    "        error_msg = f'Column index {pivot_column} out of range [0, {n_columns-1}]'\n",
    "        raise ValueError(error_msg)\n",
    "\n",
    "    pivot_value = ????\n",
    "    # Verify that the value is not close to zero\n",
    "    if np.isclose(pivot_value, 0.0):\n",
    "        error_msg = f'Pivot is numerically too close to zero: {pivot_value}'\n",
    "        raise ValueError(error_msg)\n",
    "\n",
    "    row_of_the_pivot = ????\n",
    "\n",
    "    # We treat first all rows except the row of the pivot.\n",
    "    for row in range(n_rows):\n",
    "        if row != pivot_row:\n",
    "            current_value = ????\n",
    "\n",
    "\n",
    "            multiplier = ????\n",
    "            tableau[row, :] += ????\n",
    "\n",
    "\n",
    "    # Finally, we treat the row of the pivot.\n",
    "    tableau[pivot_row, :] /= ????\n",
    "    return tableau\n",
    "\n"
   ]
  },
  {
   "cell_type": "markdown",
   "id": "fbdc9c55",
   "metadata": {},
   "source": [
    "Test the function"
   ]
  },
  {
   "cell_type": "code",
   "execution_count": null,
   "id": "304b0f97",
   "metadata": {},
   "outputs": [],
   "source": [
    "pivoted_tableau = pivoting(\n",
    "    tableau=the_tableau, pivot_row=the_pivot_row, pivot_column=the_pivot_column\n",
    ")\n",
    "print(pivoted_tableau)\n"
   ]
  },
  {
   "cell_type": "markdown",
   "id": "6632da11",
   "metadata": {},
   "source": [
    "The column of the pivot should be a column of the identity matrix, where 1 is at the row of the pivot."
   ]
  },
  {
   "cell_type": "code",
   "execution_count": null,
   "id": "8f332ff6",
   "metadata": {},
   "outputs": [],
   "source": [
    "print(f'Column of the pivot after pivoting: {pivoted_tableau[:, the_pivot_column]}')\n",
    "print(\n",
    "    f'New value at the position of the pivot: {pivoted_tableau[the_pivot_row, the_pivot_column]}'\n",
    ")\n"
   ]
  },
  {
   "cell_type": "markdown",
   "id": "80abff82",
   "metadata": {},
   "source": [
    "Let's pivot the tableau again."
   ]
  },
  {
   "cell_type": "code",
   "execution_count": null,
   "id": "c04989f1",
   "metadata": {},
   "outputs": [],
   "source": [
    "the_pivot_row: int = 0\n",
    "the_pivot_column: int = 2\n"
   ]
  },
  {
   "cell_type": "markdown",
   "id": "002ad7f0",
   "metadata": {},
   "source": [
    "What is the variable that enters the basis?\n"
   ]
  },
  {
   "cell_type": "markdown",
   "id": "faf50a2a",
   "metadata": {},
   "source": [
    "What is the variable that leaves the basis?\n"
   ]
  },
  {
   "cell_type": "markdown",
   "id": "777b7d76",
   "metadata": {},
   "source": [
    "What is the value of the pivot?"
   ]
  },
  {
   "cell_type": "code",
   "execution_count": null,
   "id": "93809fa2",
   "metadata": {},
   "outputs": [],
   "source": [
    "the_pivot_value = ????\n",
    "\n",
    "\n",
    "print(the_pivot_value)\n"
   ]
  },
  {
   "cell_type": "markdown",
   "id": "ae160f0e",
   "metadata": {},
   "source": [
    "What is the row of the pivot?"
   ]
  },
  {
   "cell_type": "code",
   "execution_count": null,
   "id": "a025c374",
   "metadata": {},
   "outputs": [],
   "source": [
    "the_row_of_the_pivot =  ????\n",
    "\n",
    "\n",
    "print(the_row_of_the_pivot)\n"
   ]
  },
  {
   "cell_type": "markdown",
   "id": "22c7c5e3",
   "metadata": {},
   "source": [
    "We apply the function again"
   ]
  },
  {
   "cell_type": "code",
   "execution_count": null,
   "id": "eefe3182",
   "metadata": {},
   "outputs": [],
   "source": [
    "re_pivoted_tableau = pivoting(\n",
    "    tableau=pivoted_tableau, pivot_row=the_pivot_row, pivot_column=the_pivot_column\n",
    ")\n",
    "print(re_pivoted_tableau)"
   ]
  }
 ],
 "metadata": {},
 "nbformat": 4,
 "nbformat_minor": 5
}

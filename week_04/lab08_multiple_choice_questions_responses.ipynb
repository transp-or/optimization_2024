{
 "cells": [
  {
   "cell_type": "markdown",
   "id": "e13261ac",
   "metadata": {},
   "source": [
    "# Simplex tableau: multiple choice questions\n",
    "\n",
    "## Introduction to optimization and operations research\n",
    "\n",
    "Michel Bierlaire\n"
   ]
  },
  {
   "cell_type": "markdown",
   "id": "25bae02f",
   "metadata": {},
   "source": [
    "This exercise does not require to code in Python."
   ]
  },
  {
   "cell_type": "markdown",
   "id": "6979ff65",
   "metadata": {},
   "source": [
    "# Question 1\n",
    "Consider the optimization problem in standard form characterized\n",
    "by the following data:\n",
    "$$\n",
    "A = \\left( \\begin{array}{rrrr}\n",
    "1 & -1 & 1 & 0 \\\\ 1 & 1 & 0 & 1\n",
    "\\end{array}\n",
    "\\right), \\; b=\\left( \\begin{array}{c} 2 \\\\ 6 \\end{array}\\right), \\; c = \\left( \\begin{array}{c}-2 \\\\ -1 \\\\ 0 \\\\ 0\\end{array}\\right),\n",
    "$$\n",
    "and the following simplex tableau representing a basic solution of the problem:"
   ]
  },
  {
   "cell_type": "markdown",
   "id": "caa8e70e",
   "metadata": {},
   "source": [
    "| $x_1$ | $x_2$ | $x_3$ | $x_4$  |    |\n",
    "|------:|------:|------:|-------:|---:|\n",
    "| 1     |  -1   |  1    |   0    | 2  |\n",
    "| 0     |   2   | -1    |   1    | 4  |\n",
    "| ---   | ---   | ---   |  ---   | ---|\n",
    "| 0     | -3    |  2    | 0      |  4 |"
   ]
  },
  {
   "cell_type": "markdown",
   "id": "90d7762b",
   "metadata": {},
   "source": [
    "\n",
    "What is the basic matrix $B$?"
   ]
  },
  {
   "cell_type": "markdown",
   "id": "434306ee",
   "metadata": {},
   "source": [
    "- $B_1=\\left( \\begin{array}{rr} -1 & 1 \\\\ 2 & -1 \\end{array}\\right)$.\n",
    "- $B_2=\\left( \\begin{array}{rr} 1  & 0 \\\\ 1 & 1 \\end{array}\\right)$.\n",
    "- $B_3=\\left( \\begin{array}{rr} -1 & 1 \\\\ 1 & 0 \\end{array}\\right)$.\n",
    "- $B_4=\\left( \\begin{array}{rr} 1 & 0 \\\\ 0 & 1 \\end{array}\\right)$."
   ]
  },
  {
   "cell_type": "markdown",
   "id": "a16ab909",
   "metadata": {},
   "source": [
    "The two variables in the basis are $x_1$ and $x_4$, as the\n",
    "corresponding columns in the upper part of the tableau are the\n",
    "columns of the identity matrix. Therefore, the basic matrix is\n",
    "composed of columns 1 and 4 of matrix $A$, that is\n",
    "$$\n",
    "B_2=\\left( \\begin{array}{rr} 1  & 0 \\\\ 1 & 1 \\end{array}\\right).\n",
    "$$"
   ]
  },
  {
   "cell_type": "markdown",
   "id": "17cc6376",
   "metadata": {},
   "source": [
    "# Question 2\n",
    "Consider the following simplex tableau representing a feasible\n",
    "basic solution of a linear minimization problem:"
   ]
  },
  {
   "cell_type": "markdown",
   "id": "f5c53f8c",
   "metadata": {},
   "source": [
    "| $x_1$ | $x_2$ | $x_3$ | $x_4$ | $x_5$ |   |\n",
    "|------:|------:|------:|------:|------:|---|\n",
    "|   1   |   0   |  -2   |  -1   |   0   |  2 |\n",
    "|   0   |   1   |   1   |   1   |   0   |  1 |\n",
    "|   0   |   0   |  -3   |  -2   |   1   |  0 |\n",
    "|-------|-------|-------|-------|-------|---|\n",
    "|   0   |   0   |   7   |   3   |   0   | -9 |"
   ]
  },
  {
   "cell_type": "markdown",
   "id": "2af5460b",
   "metadata": {},
   "source": [
    "Which of the following statements is true?"
   ]
  },
  {
   "cell_type": "markdown",
   "id": "09c6bcc8",
   "metadata": {},
   "source": [
    "1. The problem is unbounded.\n",
    "2. The feasible basic solution is degenerate.\n",
    "3. The feasible basic solution is not optimal.\n",
    "4. There are two basic variables and three non basic variables."
   ]
  },
  {
   "cell_type": "markdown",
   "id": "d51e71d0",
   "metadata": {},
   "source": [
    "First, we observe that the tableau is optimal, as all reduced\n",
    "costs are non negative.\n",
    "We comment on each statement. The one that should have been\n",
    "identified is displayed in bold.\n",
    "\n",
    "1. The problem is unbounded. Incorrect, as there is an optimal solution.\n",
    "2. **The feasible basic solution is degenerate.** This is correct, as\n",
    "one of the basic variables ($x_5$) is equal to zero.\n",
    "3. The feasible basic solution is not optimal. This is incorrect, as\n",
    "the tableau is optimal.\n",
    "4. There are two basic variables and three non basic\n",
    "variables. This is incorrect. There are three basic variables:\n",
    "$x_1$, $x_2$ and $x_5$, and two non basic variables: $x_3$ and $x_4$."
   ]
  },
  {
   "cell_type": "markdown",
   "id": "88de0e48",
   "metadata": {},
   "source": [
    "# Question 3\n",
    "The following tableau represents a basic solution for phase I of the\n",
    "simplex algorithm. $a_1$ and $a_2$ are the auxiliary variables\n",
    "associated with the two constraints of the linear optimization\n",
    "problem."
   ]
  },
  {
   "cell_type": "markdown",
   "id": "abc06b30",
   "metadata": {},
   "source": [
    "| $x_1$  | $x_2$ | $x_3$ | $x_4$  | $a_1$ | $a_2$ |   |\n",
    "|-------:|------:|------:|-------:|------:|------:|--:|\n",
    "| 2/3    | 1     | 0     | 1/3    | 0     | 1/3   | 6 |\n",
    "| -1/3   | 0     | 1     | 1/3    | -1    | 1/3   | 2 |\n",
    "|--------|-------|-------|--------|-------|-------|---|\n",
    "| 0      | 0     | 0     | 0      | 1     | 1     | 0 |"
   ]
  },
  {
   "cell_type": "markdown",
   "id": "224de446",
   "metadata": {},
   "source": [
    "One of the following statements is true. Identify that statement.\n",
    "\n",
    "1. The variable $a_1$ is a basic variable.\n",
    "2. There is a feasible solution for the original problem and there are no auxiliary variables in the basis.\n",
    "3. The variable $x_1$ must enter the basis in the next iteration of the algorithm.\n",
    "4. The corresponding solution is optimal for the auxiliary problem, but the original problem is infeasible."
   ]
  },
  {
   "cell_type": "markdown",
   "id": "6ad8e162",
   "metadata": {},
   "source": [
    "We comment on each statement. The one that should have been\n",
    "identified is displayed in bold.\n",
    "\n",
    "1. The variable $a_1$ is a basic variable. This is\n",
    "wrong. Indeed, basic variables correspond to the columns of\n",
    "the $m\\times m$ identity matrix in the upper part of the\n",
    "tableau, and are associated with zero reduced costs. This is\n",
    "not the case for $a_1$.\n",
    "2. **There is a feasible solution for the original\n",
    "problem and there are no auxiliary variables in the basis.**\n",
    "This is correct. The tableau is optimal as all reduced costs\n",
    "are non negative. The optimal value of the auxiliary problem\n",
    "is zero, which means that it corresponds to a feasible\n",
    "solution of the original problem. Both auxiliary variables,\n",
    "$a_1$ and $a_2$ are out of the basis.\n",
    "3. The variable $x_1$ must enter the basis in the next\n",
    "iteration of the algorithm. This is wrong. The tableau is\n",
    "optimal and all auxiliary variables are out of the\n",
    "basis. There is no need to enter $x_1$ in the basis.\n",
    "4. The corresponding solution is optimal for the auxiliary problem,\n",
    "but the original problem is infeasible. This is wrong. On\n",
    "the contrary, as the corresponding solution is optimal for\n",
    "the auxiliary problem, with optimal value zero, we have found a feasible solution for\n",
    "the original problem, which is therefore feasible."
   ]
  },
  {
   "cell_type": "markdown",
   "id": "a50b3635",
   "metadata": {},
   "source": [
    "# Question 4\n",
    "Consider the following valid simplex tableau:"
   ]
  },
  {
   "cell_type": "markdown",
   "id": "14a9cd2c",
   "metadata": {},
   "source": [
    "| $x_1$   | $x_2$   | $x_3$       | $x_4$   | $x_5$       |   |\n",
    "|--------:|--------:|------------:|--------:|------------:|--:|\n",
    "| 1       | -7      | $\\delta$    | 0       | $\\alpha$    | 10 |\n",
    "| 0       | 32      | -3          | 1       | 0           | $\\gamma$ |\n",
    "| $\\beta$ | -6      | 1           | 0       | $\\varepsilon$| 10 |\n",
    "|---------|---------|-------------|---------|-------------|---|\n",
    "| 0       | $\\lambda$| 4          | $\\theta$| $\\zeta$     | $\\pi$ |"
   ]
  },
  {
   "cell_type": "markdown",
   "id": "5b7ce513",
   "metadata": {},
   "source": [
    "In the tableau, $\\alpha$, $\\beta$, $\\gamma$, $\\delta$, $\\varepsilon$, $\\zeta$, $\\theta$, $\\lambda$ and $\\pi$\n",
    "are parameters.\n",
    "The objective function of the minimization problem is $c^T x$, where\n",
    "$c^T = \\begin{pmatrix} \\mu & \\rho & 0 & 0 & 0 \\end{pmatrix}$. $\\mu$ and $\\rho$ are also parameters."
   ]
  },
  {
   "cell_type": "markdown",
   "id": "af307db3",
   "metadata": {},
   "source": [
    "One of the following statements is false. Which one?"
   ]
  },
  {
   "cell_type": "markdown",
   "id": "71f77cbe",
   "metadata": {},
   "source": [
    "1. We must have $\\beta = 0$, $\\alpha = 0$ and $\\varepsilon = 1$.\n",
    "2.  The parameter $\\gamma$ must be non negative.\n",
    "3.  $\\pi=10 \\mu$.\n",
    "4. If the tableau is not optimal, then $x_2$ enters the basis in the next iteration."
   ]
  },
  {
   "cell_type": "markdown",
   "id": "95f27475",
   "metadata": {},
   "source": [
    "We comment on each statement. The one that should have been\n",
    "identified is displayed in bold."
   ]
  },
  {
   "cell_type": "markdown",
   "id": "0acfc1ab",
   "metadata": {},
   "source": [
    "1. We must have $\\beta = 0$, $\\alpha = 0$ and $\\varepsilon\n",
    "= 1$. This is correct. The only variables that can be in the\n",
    "basis are $x_1$, $x_4$ and $x_5$. The corresponding\n",
    "columns of the upper part of the tableau should contain only zeros, except for one entry\n",
    "which is one.\n",
    "2.The parameter $\\gamma$ must be non negative. This is\n",
    "correct. The last column of the upper part of the tableau\n",
    "contains $B^{-1}b$, the value of the basic variables of the current\n",
    "solution. As the tableau corresponds to a feasible basic\n",
    "solution, each entry must be non negative.\n",
    "3. **$\\pi=10 \\mu$.** This is incorrect. $\\pi$ is the\n",
    "value of the objective function, *with the opposite\n",
    "sign*:\n",
    "\\[\n",
    "\\pi = -c^Tx.\n",
    "\\]\n",
    "To\n",
    "calculate the value of the objective function, we need to\n",
    "know the value of $x_1$ and $x_2$. $x_1$ is in the basis,\n",
    "and corresponds to the first row. It value is 10. $x_2$ is\n",
    "not in the basis, and its value is zero. Therefore, the\n",
    "value of the objective function is $10\\mu$. The correct\n",
    "statement would have been $\\pi=-10\\mu$.\n",
    "4. If the tableau is not optimal, then $x_2$ enters the\n",
    "basis in the next iteration. This is correct. There are only\n",
    "two variables out of the basis: $x_2$ and $x_3$. As the\n",
    "tableau is not optimal, one of them is associated with a\n",
    "negative reduced cost. It can only be $x_2$, as the reduced\n",
    "cost for $x_3$ is 4. Therefore,\n",
    "$\\lambda <0$. This is also the only candidate to enter the\n",
    "basis in the next iteration."
   ]
  }
 ],
 "metadata": {},
 "nbformat": 4,
 "nbformat_minor": 5
}

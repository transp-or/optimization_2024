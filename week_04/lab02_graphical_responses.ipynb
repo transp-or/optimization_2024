{
 "cells": [
  {
   "cell_type": "markdown",
   "id": "98f8f025",
   "metadata": {},
   "source": [
    "# Graphical method\n",
    "\n",
    "## Introduction to optimization and operations research\n",
    "\n",
    "Michel Bierlaire\n"
   ]
  },
  {
   "cell_type": "code",
   "execution_count": null,
   "id": "b46f27e3",
   "metadata": {},
   "outputs": [],
   "source": [
    "\n",
    "from itertools import combinations\n",
    "\n",
    "import numpy as np\n",
    "from teaching_optimization.linear_constraints import (\n",
    "    draw_polyhedron_standard_form,\n",
    "    LabeledPoint,\n",
    ")\n",
    "from teaching_optimization.linear_optimization import LinearOptimization\n"
   ]
  },
  {
   "cell_type": "markdown",
   "id": "9cefcd90",
   "metadata": {},
   "source": [
    "Consider the optimization problem $$\\min_{x \\in \\mathbb{R}^2} -x_1-\\frac{3}{2} x_2$$ subject to\n",
    "\\begin{align*}\n",
    "-x_1+2x_2 & \\geq 2,\\\\\n",
    "2x_1+3x_2 & \\leq 7,\\\\\n",
    "x_1,x_2 & \\geq 0.\n",
    "\\end{align*}\n",
    "\n",
    "- Find an optimal vertex using the graphical method.\n",
    "- Identify the corresponding basic indices.\n",
    "- Provides the feasible basic solution."
   ]
  },
  {
   "cell_type": "markdown",
   "id": "e8ea8729",
   "metadata": {},
   "source": [
    "We first write the problem in standard form.\n",
    "$$\\min_{x \\in \\mathbb{R}^2} -x_1-\\frac{3}{2} x_2$$ subject to\n",
    "\\begin{align*}\n",
    "-x_1+2x_2-x_3 & = 2,\\\\\n",
    "2x_1+3x_2+x_4 & = 7,\\\\\n",
    "x_1,x_2, x_3, x_4 & \\geq 0.\n",
    "\\end{align*}"
   ]
  },
  {
   "cell_type": "code",
   "execution_count": null,
   "id": "e1b2bc5f",
   "metadata": {},
   "outputs": [],
   "source": [
    "standard_a = np.array([[-1, 2, -1, 0], [2, 3, 0, 1]])\n",
    "standard_b = np.array([2, 7])\n",
    "standard_c = np.array([-1, -3 / 2, 0, 0])\n"
   ]
  },
  {
   "cell_type": "markdown",
   "id": "d76388a4",
   "metadata": {},
   "source": [
    "We prepare the optimization problem."
   ]
  },
  {
   "cell_type": "code",
   "execution_count": null,
   "id": "5da82f6a",
   "metadata": {},
   "outputs": [],
   "source": [
    "the_optimization_problem = LinearOptimization(\n",
    "    objective=standard_c, constraint_matrix=standard_a, right_hand_side=standard_b\n",
    ")\n"
   ]
  },
  {
   "cell_type": "markdown",
   "id": "b436facc",
   "metadata": {},
   "source": [
    "We plot the polyhedron as well as some level lines."
   ]
  },
  {
   "cell_type": "code",
   "execution_count": null,
   "id": "4b8cb685",
   "metadata": {},
   "outputs": [],
   "source": [
    "draw_polyhedron_standard_form(\n",
    "    matrix_a=standard_a,\n",
    "    vector_b=standard_b,\n",
    "    objective_coefficients=standard_c,\n",
    "    level_lines=[-2.5, -3, -3.5, -4],\n",
    ")\n",
    "\n"
   ]
  },
  {
   "cell_type": "markdown",
   "id": "716c9589",
   "metadata": {},
   "source": [
    "It appears that the problem has an infinite number of optimal solutions. For any $0 \\leq \\alpha \\leq 1$,\n",
    "the solution $$ \\left(\\begin{array}{c} \\frac{8}{7}(1-\\alpha) \\\\ \\frac{7}{3} \\alpha +\n",
    "\\frac{11}{7} (1-\\alpha)\\end{array}\\right)$$ is optimal. Here, we need to identify optimal vertices.\n",
    "There are two of them, corresponding to $\\alpha=0$ and $\\alpha=1$."
   ]
  },
  {
   "cell_type": "markdown",
   "id": "580e38ed",
   "metadata": {},
   "source": [
    "For $\\alpha = 0$, the vertex is $$ \\left(\\begin{array}{c} \\frac{8}{7} \\\\\n",
    "\\frac{11}{7}\\end{array}\\right).$$ It means that the two variables that are active are the slack\n",
    "variables (variables 2 and 3), so that the other two variables are in the basis."
   ]
  },
  {
   "cell_type": "code",
   "execution_count": null,
   "id": "ec726959",
   "metadata": {},
   "outputs": [],
   "source": [
    "basic_indices_optimal_vertex = [0, 1]\n",
    "the_optimization_problem.basic_indices = basic_indices_optimal_vertex\n",
    "optimal_vertex = the_optimization_problem.basic_solution\n"
   ]
  },
  {
   "cell_type": "markdown",
   "id": "cfc4d00a",
   "metadata": {},
   "source": [
    "We plot the polyhedron and the optimal vertex."
   ]
  },
  {
   "cell_type": "code",
   "execution_count": null,
   "id": "671b75db",
   "metadata": {},
   "outputs": [],
   "source": [
    "draw_polyhedron_standard_form(\n",
    "    matrix_a=standard_a,\n",
    "    vector_b=standard_b,\n",
    "    objective_coefficients=standard_c,\n",
    "    level_lines=[-2.5, -3, -3.5, -4],\n",
    "    points=[LabeledPoint(coordinates=optimal_vertex)],\n",
    ")\n"
   ]
  },
  {
   "cell_type": "markdown",
   "id": "20c08f96",
   "metadata": {},
   "source": [
    "For $\\alpha = 1$, the vertex is $$ \\left(\\begin{array}{c} 0 \\\\\n",
    "\\frac{7}{3}\\end{array}\\right).$$ It means that the two variables that are active are the second slack\n",
    "variable (variable 3), and the first regular variable (variable 0) so that the other two variables are\n",
    "in the basis."
   ]
  },
  {
   "cell_type": "code",
   "execution_count": null,
   "id": "5a376e02",
   "metadata": {},
   "outputs": [],
   "source": [
    "basic_indices_optimal_vertex = [1, 2]\n",
    "the_optimization_problem.basic_indices = basic_indices_optimal_vertex\n",
    "optimal_vertex = the_optimization_problem.basic_solution\n"
   ]
  },
  {
   "cell_type": "markdown",
   "id": "cfe70d90",
   "metadata": {},
   "source": [
    "We plot the polyhedron and the optimal vertex."
   ]
  },
  {
   "cell_type": "code",
   "execution_count": null,
   "id": "18450db2",
   "metadata": {},
   "outputs": [],
   "source": [
    "draw_polyhedron_standard_form(\n",
    "    matrix_a=standard_a,\n",
    "    vector_b=standard_b,\n",
    "    objective_coefficients=standard_c,\n",
    "    level_lines=[-2.5, -3, -3.5, -4],\n",
    "    points=[LabeledPoint(coordinates=optimal_vertex)],\n",
    ")\n"
   ]
  }
 ],
 "metadata": {},
 "nbformat": 4,
 "nbformat_minor": 5
}

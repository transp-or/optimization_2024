{
 "cells": [
  {
   "cell_type": "markdown",
   "id": "3f739685",
   "metadata": {},
   "source": [
    "# Simplex tableau: multiple choice questions\n",
    "\n",
    "## Introduction to optimization and operations research\n",
    "\n",
    "Michel Bierlaire\n"
   ]
  },
  {
   "cell_type": "markdown",
   "id": "172ab1f0",
   "metadata": {},
   "source": [
    "This exercise does not require to code in Python."
   ]
  },
  {
   "cell_type": "markdown",
   "id": "16a0b38f",
   "metadata": {},
   "source": [
    "# Question 1\n",
    "Consider the optimization problem in standard form characterized\n",
    "by the following data:\n",
    "$$\n",
    "A = \\left( \\begin{array}{rrrr}\n",
    "1 & -1 & 1 & 0 \\\\ 1 & 1 & 0 & 1\n",
    "\\end{array}\n",
    "\\right), \\; b=\\left( \\begin{array}{c} 2 \\\\ 6 \\end{array}\\right), \\; c = \\left( \\begin{array}{c}-2 \\\\ -1 \\\\ 0 \\\\ 0\\end{array}\\right),\n",
    "$$\n",
    "and the following simplex tableau representing a basic solution of the problem:"
   ]
  },
  {
   "cell_type": "markdown",
   "id": "fe176ebb",
   "metadata": {},
   "source": [
    "| $x_1$ | $x_2$ | $x_3$ | $x_4$  |    |\n",
    "|------:|------:|------:|-------:|---:|\n",
    "| 1     |  -1   |  1    |   0    | 2  |\n",
    "| 0     |   2   | -1    |   1    | 4  |\n",
    "| ---   | ---   | ---   |  ---   | ---|\n",
    "| 0     | -3    |  2    | 0      |  4 |"
   ]
  },
  {
   "cell_type": "markdown",
   "id": "4f50d1f8",
   "metadata": {},
   "source": [
    "\n",
    "What is the basic matrix $B$?"
   ]
  },
  {
   "cell_type": "markdown",
   "id": "b1648009",
   "metadata": {},
   "source": [
    "- $B_1=\\left( \\begin{array}{rr} -1 & 1 \\\\ 2 & -1 \\end{array}\\right)$.\n",
    "- $B_2=\\left( \\begin{array}{rr} 1  & 0 \\\\ 1 & 1 \\end{array}\\right)$.\n",
    "- $B_3=\\left( \\begin{array}{rr} -1 & 1 \\\\ 1 & 0 \\end{array}\\right)$.\n",
    "- $B_4=\\left( \\begin{array}{rr} 1 & 0 \\\\ 0 & 1 \\end{array}\\right)$."
   ]
  },
  {
   "cell_type": "markdown",
   "id": "4e81931c",
   "metadata": {},
   "source": [
    "# Question 2\n",
    "Consider the following simplex tableau representing a feasible\n",
    "basic solution of a linear minimization problem:"
   ]
  },
  {
   "cell_type": "markdown",
   "id": "b19508c4",
   "metadata": {},
   "source": [
    "| $x_1$ | $x_2$ | $x_3$ | $x_4$ | $x_5$ |   |\n",
    "|------:|------:|------:|------:|------:|---|\n",
    "|   1   |   0   |  -2   |  -1   |   0   |  2 |\n",
    "|   0   |   1   |   1   |   1   |   0   |  1 |\n",
    "|   0   |   0   |  -3   |  -2   |   1   |  0 |\n",
    "|-------|-------|-------|-------|-------|---|\n",
    "|   0   |   0   |   7   |   3   |   0   | -9 |"
   ]
  },
  {
   "cell_type": "markdown",
   "id": "b8616a2c",
   "metadata": {},
   "source": [
    "Which of the following statements is true?"
   ]
  },
  {
   "cell_type": "markdown",
   "id": "ff1fd782",
   "metadata": {},
   "source": [
    "1. The problem is unbounded.\n",
    "2. The feasible basic solution is degenerate.\n",
    "3. The feasible basic solution is not optimal.\n",
    "4. There are two basic variables and three non basic variables."
   ]
  },
  {
   "cell_type": "markdown",
   "id": "cd1d13ce",
   "metadata": {},
   "source": [
    "# Question 3\n",
    "The following tableau represents a basic solution for phase I of the\n",
    "simplex algorithm. $a_1$ and $a_2$ are the auxiliary variables\n",
    "associated with the two constraints of the linear optimization\n",
    "problem."
   ]
  },
  {
   "cell_type": "markdown",
   "id": "1eb8a52f",
   "metadata": {},
   "source": [
    "| $x_1$  | $x_2$ | $x_3$ | $x_4$  | $a_1$ | $a_2$ |   |\n",
    "|-------:|------:|------:|-------:|------:|------:|--:|\n",
    "| 2/3    | 1     | 0     | 1/3    | 0     | 1/3   | 6 |\n",
    "| -1/3   | 0     | 1     | 1/3    | -1    | 1/3   | 2 |\n",
    "|--------|-------|-------|--------|-------|-------|---|\n",
    "| 0      | 0     | 0     | 0      | 1     | 1     | 0 |"
   ]
  },
  {
   "cell_type": "markdown",
   "id": "6adb69ec",
   "metadata": {},
   "source": [
    "One of the following statements is true. Identify that statement.\n",
    "\n",
    "1. The variable $a_1$ is a basic variable.\n",
    "2. There is a feasible solution for the original problem and there are no auxiliary variables in the basis.\n",
    "3. The variable $x_1$ must enter the basis in the next iteration of the algorithm.\n",
    "4. The corresponding solution is optimal for the auxiliary problem, but the original problem is infeasible."
   ]
  },
  {
   "cell_type": "markdown",
   "id": "e393315f",
   "metadata": {},
   "source": [
    "# Question 4\n",
    "Consider the following valid simplex tableau:"
   ]
  },
  {
   "cell_type": "markdown",
   "id": "53255578",
   "metadata": {},
   "source": [
    "| $x_1$   | $x_2$   | $x_3$       | $x_4$   | $x_5$       |   |\n",
    "|--------:|--------:|------------:|--------:|------------:|--:|\n",
    "| 1       | -7      | $\\delta$    | 0       | $\\alpha$    | 10 |\n",
    "| 0       | 32      | -3          | 1       | 0           | $\\gamma$ |\n",
    "| $\\beta$ | -6      | 1           | 0       | $\\varepsilon$| 10 |\n",
    "|---------|---------|-------------|---------|-------------|---|\n",
    "| 0       | $\\lambda$| 4          | $\\theta$| $\\zeta$     | $\\pi$ |"
   ]
  },
  {
   "cell_type": "markdown",
   "id": "6d811f0f",
   "metadata": {},
   "source": [
    "In the tableau, $\\alpha$, $\\beta$, $\\gamma$, $\\delta$, $\\varepsilon$, $\\zeta$, $\\theta$, $\\lambda$ and $\\pi$\n",
    "are parameters.\n",
    "The objective function of the minimization problem is $c^T x$, where\n",
    "$c^T = \\begin{pmatrix} \\mu & \\rho & 0 & 0 & 0 \\end{pmatrix}$. $\\mu$ and $\\rho$ are also parameters."
   ]
  },
  {
   "cell_type": "markdown",
   "id": "70682ab8",
   "metadata": {},
   "source": [
    "One of the following statements is false. Which one?"
   ]
  },
  {
   "cell_type": "markdown",
   "id": "32d3eecf",
   "metadata": {},
   "source": [
    "1. We must have $\\beta = 0$, $\\alpha = 0$ and $\\varepsilon = 1$.\n",
    "2.  The parameter $\\gamma$ must be non negative.\n",
    "3.  $\\pi=10 \\mu$.\n",
    "4. If the tableau is not optimal, then $x_2$ enters the basis in the next iteration."
   ]
  }
 ],
 "metadata": {},
 "nbformat": 4,
 "nbformat_minor": 5
}

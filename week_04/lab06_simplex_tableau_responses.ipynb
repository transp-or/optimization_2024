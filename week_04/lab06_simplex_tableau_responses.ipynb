{
 "cells": [
  {
   "cell_type": "markdown",
   "id": "d067497d",
   "metadata": {},
   "source": [
    "# Simplex tableau algorithm\n",
    "\n",
    "## Introduction to optimization and operations research\n",
    "\n",
    "Michel Bierlaire\n"
   ]
  },
  {
   "cell_type": "code",
   "execution_count": null,
   "id": "bcaa7bc2",
   "metadata": {},
   "outputs": [],
   "source": [
    "\n",
    "import sys\n",
    "from enum import Enum, auto\n",
    "\n",
    "import numpy as np\n",
    "from teaching_optimization.tableau import SimplexTableau, RowColumn\n"
   ]
  },
  {
   "cell_type": "markdown",
   "id": "6d3da6e3",
   "metadata": {},
   "source": [
    "Consider the following linear optimization problem\n",
    "$$\n",
    "\\max 4x_0 - 3x_1\n",
    "$$\n",
    "subject to\n",
    "\\begin{align*}\n",
    "2x_0  +  x_1 &\\leq  6,\\\\\n",
    "x_0 - x_1    &\\leq  2,\\\\\n",
    "x_{0}  ,  x_{1}  &\\geq  0. \\\\\n",
    "\\end{align*}\n",
    "\n",
    "The objective of this exercise is to implement the simplex tableau algorithm to find the optimal solution.\n"
   ]
  },
  {
   "cell_type": "markdown",
   "id": "886edeef",
   "metadata": {},
   "source": [
    "First,  we write the problem in standard form:\n",
    "$$\n",
    "\\min - 4x_0 +3x_1\n",
    "$$\n",
    "subject to\n",
    "\\begin{align*}\n",
    "2x_0  +  x_1 + x_2 & =  6,\\\\\n",
    "x_0 - x_1 + x_3    & =  2,\\\\\n",
    "x_{0}  ,  x_{1}, x_2, x_3  &\\geq  0.\n",
    "\\end{align*}"
   ]
  },
  {
   "cell_type": "code",
   "execution_count": null,
   "id": "55fa9d6c",
   "metadata": {},
   "outputs": [],
   "source": [
    "standard_a = np.array([[2, 1, 1, 0], [1, -1, 0, 1]])\n",
    "standard_b = np.array([6, 2])\n",
    "standard_c = np.array([-4, 3, 0, 0])\n"
   ]
  },
  {
   "cell_type": "markdown",
   "id": "b0ab8c2a",
   "metadata": {},
   "source": [
    "As the right hand side is non negative, we choose the slack variables as basic variables, so that the basic\n",
    "matrix is the identity matrix. The first tableau contains the data of the problem:\n",
    "\n",
    "$$ \\begin{array}{c|c} A & b \\\\ \\hline c^T & 0 \\end{array}$$"
   ]
  },
  {
   "cell_type": "markdown",
   "id": "57f123ed",
   "metadata": {},
   "source": [
    "We merge A and b horizontally"
   ]
  },
  {
   "cell_type": "code",
   "execution_count": null,
   "id": "b5412137",
   "metadata": {},
   "outputs": [],
   "source": [
    "Ab = np.column_stack((standard_a, standard_b))\n"
   ]
  },
  {
   "cell_type": "markdown",
   "id": "0863fe8a",
   "metadata": {},
   "source": [
    "Then we add the last row"
   ]
  },
  {
   "cell_type": "code",
   "execution_count": null,
   "id": "eb21e9c7",
   "metadata": {},
   "outputs": [],
   "source": [
    "initial_tableau = np.vstack(\n",
    "    (Ab, np.append(standard_c, 0))\n",
    ")\n"
   ]
  },
  {
   "cell_type": "code",
   "execution_count": null,
   "id": "7a16e06b",
   "metadata": {},
   "outputs": [],
   "source": [
    "the_tableau = SimplexTableau(initial_tableau)\n"
   ]
  },
  {
   "cell_type": "markdown",
   "id": "07b799b9",
   "metadata": {},
   "source": [
    "First tableau"
   ]
  },
  {
   "cell_type": "code",
   "execution_count": null,
   "id": "0bf1ff0c",
   "metadata": {},
   "outputs": [],
   "source": [
    "print(the_tableau)\n"
   ]
  },
  {
   "cell_type": "markdown",
   "id": "f2c58c9e",
   "metadata": {},
   "source": [
    "Details"
   ]
  },
  {
   "cell_type": "code",
   "execution_count": null,
   "id": "d593bfdb",
   "metadata": {},
   "outputs": [],
   "source": [
    "print(the_tableau.report())\n",
    "\n"
   ]
  },
  {
   "cell_type": "markdown",
   "id": "bcabfb7b",
   "metadata": {},
   "source": [
    "Write a function that identifies a non-basic variable to enter the basis. Complete the ????"
   ]
  },
  {
   "cell_type": "code",
   "execution_count": null,
   "id": "59a9efd6",
   "metadata": {},
   "outputs": [],
   "source": [
    "def column_entering_basis(simplex_tableau: SimplexTableau) -> int | None:\n",
    "    \"\"\"\n",
    "    Function that identifies a non-basic index to enter the basis, or detect optimality\n",
    "    :param simplex simplex_tableau: object representing the tableau.\n",
    "    :return: a non-basic index corresponding to a negative reduced cost, or None if optimal.\n",
    "    \"\"\"\n",
    "    # the_tableau.tableau contains the numpy array with the entries of the tableau.\n",
    "    # This can be done in one line using the following logic in numpy.\n",
    "    #\n",
    "    # - the_tableau.tableau[-1]: This selects the last row of the array.\n",
    "    # - the_tableau.tableau[-1] < 0: This creates a boolean array where each element is True if the corresponding\n",
    "    #   element in the last row of A is negative, and False otherwise.\n",
    "    # - np.where(the_tableau.tableau[-1] < 0)[0]: np.where returns the indices of the elements that are True.\n",
    "    #   The [0] extracts the first array of indices since np.where can potentially return a tuple\n",
    "    #   of arrays if used on a multi-dimensional array.\n",
    "    # - the second [0]: This selects the first index from the array of indices, which corresponds to\n",
    "    #   the left-most negative value.\n",
    "    # - if np.any(the_tableau.tableau[-1] < 0) else None: The if condition checks if there is any negative element\n",
    "    #   in the last row. If not, it returns None.\n",
    "    index = (\n",
    "        np.where(simplex_tableau.tableau[-1] < 0)[0][0]\n",
    "        if np.any(simplex_tableau.tableau[-1] < 0)\n",
    "        else None\n",
    "    )\n",
    "    return index\n",
    "\n"
   ]
  },
  {
   "cell_type": "markdown",
   "id": "217c1e52",
   "metadata": {},
   "source": [
    "We test the function. Expected result: Entering variable: 0"
   ]
  },
  {
   "cell_type": "code",
   "execution_count": null,
   "id": "94a5af7b",
   "metadata": {},
   "outputs": [],
   "source": [
    "the_entering_column = column_entering_basis(simplex_tableau=the_tableau)\n",
    "print(f'Entering column: {the_entering_column}')\n"
   ]
  },
  {
   "cell_type": "markdown",
   "id": "d9c8b4aa",
   "metadata": {},
   "source": [
    "Verify the reduced cost for this variable. It must be negative."
   ]
  },
  {
   "cell_type": "code",
   "execution_count": null,
   "id": "cd9a888c",
   "metadata": {},
   "outputs": [],
   "source": [
    "print(f'Reduced cost: {the_tableau.tableau[-1, the_entering_column]}')\n",
    "\n"
   ]
  },
  {
   "cell_type": "markdown",
   "id": "90f54af2",
   "metadata": {},
   "source": [
    "Write a function that identifies a basic index to leave the basis."
   ]
  },
  {
   "cell_type": "code",
   "execution_count": null,
   "id": "bc7349e8",
   "metadata": {},
   "outputs": [],
   "source": [
    "def row_leaving_basis(\n",
    "    simplex_tableau: SimplexTableau,\n",
    "    column_entering: int,\n",
    ") -> int | None:\n",
    "    \"\"\"function that identifies a row corresponding to the basic variable leaving the basis, or identify an unbounded\n",
    "        problem.\n",
    "\n",
    "    :param simplex simplex_tableau: object representing the tableau.\n",
    "    :param column_entering: non-basic index entering the basis\n",
    "    :return: index of the variable leaving the basis, or None if unbounded\n",
    "    \"\"\"\n",
    "    # First, identify the rows with positive entries.\n",
    "    positive_row_indices = np.where(\n",
    "        simplex_tableau.tableau[:, column_entering] > 0\n",
    "    )[\n",
    "        0\n",
    "    ]\n",
    "\n",
    "    # If there is no such entry, the problem is unbounded.\n",
    "    if positive_row_indices.size == 0:\n",
    "        return None\n",
    "\n",
    "    # Calculate the vector of alphas\n",
    "    vector_of_alphas = (\n",
    "        simplex_tableau.tableau[positive_row_indices, -1]\n",
    "        / simplex_tableau.tableau[positive_row_indices, column_entering]\n",
    "    )\n",
    "\n",
    "    # Find the index of the smallest alpha in vector_of_alphas\n",
    "    min_alpha_index = np.argmin(vector_of_alphas)\n",
    "\n",
    "    # Map the local index of the smallest alpha to the global index in the_tableau.\n",
    "    row_index = int(positive_row_indices[min_alpha_index])\n",
    "\n",
    "    return row_index\n",
    "\n"
   ]
  },
  {
   "cell_type": "markdown",
   "id": "77f5ce83",
   "metadata": {},
   "source": [
    "We test the function. Expected result: Exiting row: 1 (corresponding to variable $x_3$)."
   ]
  },
  {
   "cell_type": "code",
   "execution_count": null,
   "id": "1708c88c",
   "metadata": {},
   "outputs": [],
   "source": [
    "the_exiting_row = row_leaving_basis(\n",
    "    simplex_tableau=the_tableau,\n",
    "    column_entering=the_entering_column,\n",
    ")\n",
    "\n",
    "print(f'Exiting row: {the_exiting_row}')\n",
    "\n"
   ]
  },
  {
   "cell_type": "markdown",
   "id": "34f0372b",
   "metadata": {},
   "source": [
    "We define a list of possible interruptions of the algorithm"
   ]
  },
  {
   "cell_type": "code",
   "execution_count": null,
   "id": "f78d337e",
   "metadata": {},
   "outputs": [],
   "source": [
    "class CauseInterruptionIterations(Enum):\n",
    "    OPTIMAL = auto()\n",
    "    UNBOUNDED = auto()\n",
    "    INFEASIBLE = auto()\n",
    "\n",
    "    def __str__(self) -> str:\n",
    "        messages = {\n",
    "            self.OPTIMAL: 'Optimal basis found.',\n",
    "            self.UNBOUNDED: 'Optimization problem is unbounded.',\n",
    "            self.INFEASIBLE: 'Optimization problem is infeasible.',\n",
    "        }\n",
    "        return messages[self]\n",
    "\n"
   ]
  },
  {
   "cell_type": "markdown",
   "id": "efed781d",
   "metadata": {},
   "source": [
    "Write a function that performs one iteration of the simplex algorithm."
   ]
  },
  {
   "cell_type": "code",
   "execution_count": null,
   "id": "948f5645",
   "metadata": {},
   "outputs": [],
   "source": [
    "def simplex_iteration(\n",
    "    simplex_tableau: SimplexTableau,\n",
    ") -> tuple[SimplexTableau | None, CauseInterruptionIterations | None]:\n",
    "    \"\"\"\n",
    "    Performs one iteration of the simplex algorithm.\n",
    "    :param simplex_tableau: object representing the first tableau.\n",
    "    :return: the new tableau, if successful. If None, a message explaining the reason.\n",
    "    \"\"\"\n",
    "    entering_column = column_entering_basis(simplex_tableau=simplex_tableau)\n",
    "    if entering_column is None:\n",
    "        # Optimal solution found.\n",
    "        return None, CauseInterruptionIterations.OPTIMAL\n",
    "\n",
    "    exiting_row = row_leaving_basis(\n",
    "        simplex_tableau=simplex_tableau,\n",
    "        column_entering=entering_column,\n",
    "    )\n",
    "    if exiting_row is None:\n",
    "        # Problem is unbounded.\n",
    "        return None, CauseInterruptionIterations.UNBOUNDED\n",
    "\n",
    "    pivot = RowColumn(row=exiting_row, column=entering_column)\n",
    "    simplex_tableau.pivoting(pivot=pivot)\n",
    "    return simplex_tableau, None\n",
    "\n"
   ]
  },
  {
   "cell_type": "markdown",
   "id": "b5db0a7a",
   "metadata": {},
   "source": [
    "First iteration"
   ]
  },
  {
   "cell_type": "code",
   "execution_count": null,
   "id": "1d060ce7",
   "metadata": {},
   "outputs": [],
   "source": [
    "tableau_1, interruption = simplex_iteration(\n",
    "    simplex_tableau=the_tableau,\n",
    ")\n",
    "if tableau_1 is None:\n",
    "    print(interruption)\n"
   ]
  },
  {
   "cell_type": "markdown",
   "id": "506e8efb",
   "metadata": {},
   "source": [
    "New tableau"
   ]
  },
  {
   "cell_type": "code",
   "execution_count": null,
   "id": "1abf26f8",
   "metadata": {},
   "outputs": [],
   "source": [
    "print(tableau_1)\n"
   ]
  },
  {
   "cell_type": "markdown",
   "id": "adc77f6f",
   "metadata": {},
   "source": [
    "Details"
   ]
  },
  {
   "cell_type": "code",
   "execution_count": null,
   "id": "5675a310",
   "metadata": {},
   "outputs": [],
   "source": [
    "print(tableau_1.report())\n"
   ]
  },
  {
   "cell_type": "markdown",
   "id": "c824bf4a",
   "metadata": {},
   "source": [
    "Second iteration"
   ]
  },
  {
   "cell_type": "code",
   "execution_count": null,
   "id": "8af70452",
   "metadata": {},
   "outputs": [],
   "source": [
    "tableau_2, interruption = simplex_iteration(simplex_tableau=tableau_1)\n",
    "if tableau_2 is None:\n",
    "    print(interruption)\n"
   ]
  },
  {
   "cell_type": "markdown",
   "id": "1c069a18",
   "metadata": {},
   "source": [
    "New tableau"
   ]
  },
  {
   "cell_type": "code",
   "execution_count": null,
   "id": "9bf693c3",
   "metadata": {},
   "outputs": [],
   "source": [
    "print(tableau_2)\n"
   ]
  },
  {
   "cell_type": "markdown",
   "id": "d5c85324",
   "metadata": {},
   "source": [
    "Details"
   ]
  },
  {
   "cell_type": "code",
   "execution_count": null,
   "id": "e2fdfced",
   "metadata": {},
   "outputs": [],
   "source": [
    "print(tableau_2.report())\n"
   ]
  },
  {
   "cell_type": "markdown",
   "id": "b2ebdf97",
   "metadata": {},
   "source": [
    "Third iteration"
   ]
  },
  {
   "cell_type": "code",
   "execution_count": null,
   "id": "9f6dbb01",
   "metadata": {},
   "outputs": [],
   "source": [
    "tableau_3, interruption = simplex_iteration(simplex_tableau=tableau_2)\n",
    "if tableau_3 is None:\n",
    "    print(interruption)"
   ]
  }
 ],
 "metadata": {},
 "nbformat": 4,
 "nbformat_minor": 5
}

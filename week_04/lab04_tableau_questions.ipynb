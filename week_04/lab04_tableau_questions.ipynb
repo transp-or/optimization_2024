{
 "cells": [
  {
   "cell_type": "markdown",
   "id": "c751b028",
   "metadata": {},
   "source": [
    "# Simplex tableau\n",
    "\n",
    "## Introduction to optimization and operations research\n",
    "\n",
    "Michel Bierlaire\n"
   ]
  },
  {
   "cell_type": "code",
   "execution_count": null,
   "id": "b3648c20",
   "metadata": {},
   "outputs": [],
   "source": [
    "\n",
    "from dataclasses import dataclass\n",
    "\n",
    "import numpy as np\n",
    "from numpy.linalg import LinAlgError\n",
    "\n",
    "\n"
   ]
  },
  {
   "cell_type": "markdown",
   "id": "1391ac13",
   "metadata": {},
   "source": [
    "The objective of this lab is to extract information from a simplex tableau. We will be coding functions that\n",
    "can help solving the following exercise."
   ]
  },
  {
   "cell_type": "markdown",
   "id": "492874e4",
   "metadata": {},
   "source": [
    "Consider the optimization problem in standard form characterized by the\n",
    "following data:\n",
    "$$\n",
    "A=\n",
    "\\begin{pmatrix*}\n",
    "1&-1&1&0\\\\\n",
    "1&1&0&1\n",
    "\\end{pmatrix*}\n",
    ";\n",
    "b=\n",
    "\\begin{pmatrix*}\n",
    "2\\\\\n",
    "6\n",
    "\\end{pmatrix*}\n",
    ";\n",
    "c=\n",
    "\\begin{pmatrix*}\n",
    "-2\\\\\n",
    "-1\\\\\n",
    "0\\\\\n",
    "0\n",
    "\\end{pmatrix*}.\n",
    "$$\n",
    "Consider as well the following tableau:\n",
    "$$\n",
    "\\begin{array}{|c c c c | c |}\n",
    "\\hline\n",
    "x_0& x_1& x_2& x_3 & \\\\\n",
    "\\hline\n",
    "1&-1&1&0  &2\\\\\n",
    "0&2&-1&1  &4 \\\\\n",
    "\\hline\n",
    "0&-3&2&0  &4 \\\\\n",
    "\\hline\n",
    "\\end{array}\n",
    "$$\n"
   ]
  },
  {
   "cell_type": "markdown",
   "id": "1230f92a",
   "metadata": {},
   "source": [
    "1. What are the basic variables associated with this tableau?\n",
    "1. What are the variables corresponding to the each row of the\n",
    "tableau?\n",
    "1. What is the basic matrix $B$?\n",
    "1. Verify that the tableau is valid, in the sense that it corresponds to its definition.\n",
    "1. What is the vertex $x$ corresponding to this tableau?\n",
    "1. What is the value of the objective function at that vertex?\n",
    "1. What are the reduced costs of the non basic variables?\n",
    "1. What are the basic directions?\n",
    "1. Verify that the values of the reduced costs in the tableau are\n",
    "consistent with the basic directions."
   ]
  },
  {
   "cell_type": "markdown",
   "id": "d9f99ebd",
   "metadata": {},
   "source": [
    "Prepare the data"
   ]
  },
  {
   "cell_type": "code",
   "execution_count": null,
   "id": "83afb90b",
   "metadata": {},
   "outputs": [],
   "source": [
    "standard_a = ????\n",
    "standard_b = ????\n",
    "standard_c = ????\n"
   ]
  },
  {
   "cell_type": "code",
   "execution_count": null,
   "id": "ec60ef66",
   "metadata": {},
   "outputs": [],
   "source": [
    "the_tableau = ????\n",
    "\n",
    "\n",
    "print(the_tableau)\n",
    "\n"
   ]
  },
  {
   "cell_type": "markdown",
   "id": "a74f8cdc",
   "metadata": {},
   "source": [
    "We define a data structure that stores the row and column of an element of the matrix"
   ]
  },
  {
   "cell_type": "code",
   "execution_count": null,
   "id": "1beee4d9",
   "metadata": {},
   "outputs": [],
   "source": [
    "@dataclass\n",
    "class RowColumn:\n",
    "    row: int\n",
    "    column: int\n",
    "\n"
   ]
  },
  {
   "cell_type": "markdown",
   "id": "e560f99b",
   "metadata": {},
   "source": [
    "We create an element as follows:"
   ]
  },
  {
   "cell_type": "code",
   "execution_count": null,
   "id": "c2a24574",
   "metadata": {},
   "outputs": [],
   "source": [
    "element = RowColumn(row=3, column=5)\n",
    "print(element)\n"
   ]
  },
  {
   "cell_type": "markdown",
   "id": "5820e732",
   "metadata": {},
   "source": [
    "We can access the attributes as follows:"
   ]
  },
  {
   "cell_type": "code",
   "execution_count": null,
   "id": "42db23f8",
   "metadata": {},
   "outputs": [],
   "source": [
    "print(f'Row: {element.row}')\n",
    "print(f'Column: {element.column}')\n",
    "\n"
   ]
  },
  {
   "cell_type": "markdown",
   "id": "aa3ac774",
   "metadata": {},
   "source": [
    "We start by writing a function that identifies the column associated with the basic variables. They are the columns\n",
    "of the identity matrix. And the location of the only non zero element (1) identifies the corresponding row.\n",
    "\n",
    "Fill in the ????"
   ]
  },
  {
   "cell_type": "code",
   "execution_count": null,
   "id": "7db69d88",
   "metadata": {},
   "outputs": [],
   "source": [
    "def identify_basic_variables(tableau: np.ndarray) -> list[RowColumn]:\n",
    "    \"\"\"Function that identifies the column associated with the basic variables.\n",
    "\n",
    "    :param tableau: simplex tableau\n",
    "    :return: a list reporting the position of the 1's in the tableau corresponding to the basic variable.\n",
    "    \"\"\"\n",
    "    n_rows, n_columns = tableau.shape\n",
    "    # We need to identify where the columns of the identify matrix are, and where the ones in those columns are\n",
    "    # located.\n",
    "    ones = []\n",
    "    for col_index in range(n_columns):\n",
    "        column = tableau[:, col_index]\n",
    "        # Check if there's exactly one entry with 1 and the rest are 0\n",
    "        if ????:\n",
    "\n",
    "\n",
    "            # Find the index of the 1\n",
    "            row_index = ????\n",
    "\n",
    "\n",
    "            ones.append(RowColumn(row_index, col_index))\n",
    "    return ones\n",
    "\n"
   ]
  },
  {
   "cell_type": "markdown",
   "id": "72eec42a",
   "metadata": {},
   "source": [
    "Test the function."
   ]
  },
  {
   "cell_type": "code",
   "execution_count": null,
   "id": "c192ecff",
   "metadata": {},
   "outputs": [],
   "source": [
    "the_basic_variables = identify_basic_variables(the_tableau)\n",
    "the_basic_indices = [element.column for element in the_basic_variables]\n",
    "for element in the_basic_variables:\n",
    "    print(\n",
    "        f'Variable {element.column} is in the basis and corresponds to row {element.row}'\n",
    "    )\n"
   ]
  },
  {
   "cell_type": "markdown",
   "id": "61c77be0",
   "metadata": {},
   "source": [
    "The basic matrix is therefore:"
   ]
  },
  {
   "cell_type": "code",
   "execution_count": null,
   "id": "de71510c",
   "metadata": {},
   "outputs": [],
   "source": [
    "the_basic_matrix = standard_a[:, the_basic_indices]\n",
    "print(f'Basic matrix:\\n{the_basic_matrix}')\n",
    "\n"
   ]
  },
  {
   "cell_type": "markdown",
   "id": "528c6bbf",
   "metadata": {},
   "source": [
    "We write a function that builds the tableau using its definition:\n",
    "\n",
    "- Upper-left part: $B^{-1}A$.\n",
    "- Upper-right part: $B^{-1}b$.\n",
    "- Lower-left: $c^T - c_B^TB^{-1}A$.\n",
    "- Lower-right: $-c_B^TB^{-1}b$.\n",
    "\n",
    "Fill in the ????"
   ]
  },
  {
   "cell_type": "code",
   "execution_count": null,
   "id": "6a7d7124",
   "metadata": {},
   "outputs": [],
   "source": [
    "def build_tableau(\n",
    "    matrix: np.ndarray,\n",
    "    right_hand_side: np.ndarray,\n",
    "    objective: np.ndarray,\n",
    "    basic_indices: list[int],\n",
    ") -> np.ndarray | None:\n",
    "    \"\"\"Function that builds the tableau using its definition\n",
    "\n",
    "    :param matrix: constraint matrix (standard form)\n",
    "    :param right_hand_side: right hand side\n",
    "    :param objective: coefficients of the objective function\n",
    "    :return: simplex tableau\n",
    "    \"\"\"\n",
    "    n_constraints, n_variables = matrix.shape\n",
    "\n",
    "    if len(right_hand_side) != n_constraints:\n",
    "        error_msg = (\n",
    "            f'Inconsistent dimensions {len(right_hand_side)} and {n_constraints}'\n",
    "        )\n",
    "        raise ValueError(error_msg)\n",
    "\n",
    "    if len(objective) != n_variables:\n",
    "        error_msg = f'Inconsistent dimensions {len(objective)} and {n_variables}'\n",
    "        raise ValueError(error_msg)\n",
    "\n",
    "    if len(basic_indices) != n_constraints:\n",
    "        error_msg = f'Inconsistent dimensions {len(basic_indices)} and {n_constraints}'\n",
    "        raise ValueError(error_msg)\n",
    "\n",
    "    wrong_indices = [\n",
    "        index for index in basic_indices if index < 0 or index >= n_variables\n",
    "    ]\n",
    "    if wrong_indices:\n",
    "        error_msg = f'Wrong basic indices: {wrong_indices}'\n",
    "        raise ValueError(error_msg)\n",
    "\n",
    "    basic_matrix = ????\n",
    "    basic_costs = ????\n",
    "\n",
    "    upper_left = ????\n",
    "\n",
    "\n",
    "\n",
    "\n",
    "    upper_right = ????\n",
    "\n",
    "\n",
    "    lower_left = ????\n",
    "    lower_right = ????\n",
    "    tableau = np.empty((n_constraints + 1, n_variables + 1))\n",
    "    tableau[:n_constraints, :n_variables] = upper_left\n",
    "    tableau[:n_constraints, n_variables] = upper_right\n",
    "    tableau[n_constraints, :n_variables] = lower_left\n",
    "    tableau[n_constraints, n_variables] = lower_right\n",
    "    return tableau\n",
    "\n"
   ]
  },
  {
   "cell_type": "markdown",
   "id": "c4b94c4e",
   "metadata": {},
   "source": [
    "We test the function."
   ]
  },
  {
   "cell_type": "code",
   "execution_count": null,
   "id": "1be4add3",
   "metadata": {},
   "outputs": [],
   "source": [
    "built_tableau = build_tableau(\n",
    "    matrix=standard_a,\n",
    "    right_hand_side=standard_b,\n",
    "    objective=standard_c,\n",
    "    basic_indices=the_basic_indices,\n",
    ")\n",
    "print('The tableau built from its definition is:')\n",
    "print(built_tableau)\n",
    "print('It must correspond to the tableau provided as input.')\n",
    "print(the_tableau)\n",
    "\n"
   ]
  },
  {
   "cell_type": "markdown",
   "id": "46e6fb69",
   "metadata": {},
   "source": [
    "We now write a function that constructs the feasible basic solution corresponding to the tableau.\n",
    "Fill in the ????"
   ]
  },
  {
   "cell_type": "code",
   "execution_count": null,
   "id": "b922ac9f",
   "metadata": {},
   "outputs": [],
   "source": [
    "def feasible_basic_solution(tableau: np.ndarray) -> np.ndarray:\n",
    "    \"\"\"Function that constructs the feasible basic solution corresponding to the tableau.\n",
    "\n",
    "    :param tableau: simplex tableau\n",
    "    :return: feasible basic solution\n",
    "    \"\"\"\n",
    "    n_rows, n_columns = tableau.shape\n",
    "    n_variables = n_columns - 1\n",
    "    basic_variables = identify_basic_variables(tableau)\n",
    "    result = ????\n",
    "\n",
    "\n",
    "    return result\n",
    "\n"
   ]
  },
  {
   "cell_type": "markdown",
   "id": "470bd9be",
   "metadata": {},
   "source": [
    "Test the function"
   ]
  },
  {
   "cell_type": "code",
   "execution_count": null,
   "id": "58cb4182",
   "metadata": {},
   "outputs": [],
   "source": [
    "the_feasible_basic_solution = feasible_basic_solution(tableau=the_tableau)\n",
    "print(f'Solution: {the_feasible_basic_solution}')\n",
    "\n"
   ]
  },
  {
   "cell_type": "markdown",
   "id": "ef155459",
   "metadata": {},
   "source": [
    "Write a function that returns the value of the objective function at the vertex.\n",
    "Fill in the ????."
   ]
  },
  {
   "cell_type": "code",
   "execution_count": null,
   "id": "30bb6498",
   "metadata": {},
   "outputs": [],
   "source": [
    "def value_objective_function(tableau: np.ndarray) -> float:\n",
    "    \"\"\"\n",
    "    It is simply the opposite of the lower right cell of the tableau.\n",
    "    \"\"\"\n",
    "    return ????\n",
    "\n"
   ]
  },
  {
   "cell_type": "markdown",
   "id": "90fdd6f1",
   "metadata": {},
   "source": [
    "Test the function."
   ]
  },
  {
   "cell_type": "code",
   "execution_count": null,
   "id": "7570ebdb",
   "metadata": {},
   "outputs": [],
   "source": [
    "the_objective_value = value_objective_function(tableau=the_tableau)\n",
    "print(f'Value of the objective function: {the_objective_value}')\n",
    "\n"
   ]
  },
  {
   "cell_type": "markdown",
   "id": "015ab2d5",
   "metadata": {},
   "source": [
    "Write a function that calculates the reduced costs of the non basic variables.\n",
    "Fill in the ????."
   ]
  },
  {
   "cell_type": "code",
   "execution_count": null,
   "id": "ee7d67d6",
   "metadata": {},
   "outputs": [],
   "source": [
    "def reduced_costs(tableau: np.ndarray) -> dict[int, float]:\n",
    "    \"\"\"\n",
    "    Function that calculates the reduced costs of the non basic variables.\n",
    "    :param tableau: the simplex tableau\n",
    "    :return: a dict mapping the indices of the non basic variables and the reduced costs.\n",
    "    \"\"\"\n",
    "    n_rows, n_columns = tableau.shape\n",
    "    n_variables = n_columns - 1\n",
    "    basic_variables = identify_basic_variables(tableau)\n",
    "    non_basic_variables = list(\n",
    "        set(range(n_variables)) - set([element.column for element in basic_variables])\n",
    "    )\n",
    "    result = ????\n",
    "\n",
    "\n",
    "    return result\n",
    "\n"
   ]
  },
  {
   "cell_type": "markdown",
   "id": "64eb95ac",
   "metadata": {},
   "source": [
    "Test the function"
   ]
  },
  {
   "cell_type": "code",
   "execution_count": null,
   "id": "2f316fac",
   "metadata": {},
   "outputs": [],
   "source": [
    "the_reduced_costs = reduced_costs(tableau=the_tableau)\n",
    "print(f'Reduced costs: {the_reduced_costs}')\n",
    "\n"
   ]
  },
  {
   "cell_type": "markdown",
   "id": "1299368a",
   "metadata": {},
   "source": [
    "Write a function that builds the basic directions.\n",
    "Fill in the ????"
   ]
  },
  {
   "cell_type": "code",
   "execution_count": null,
   "id": "a20cf55f",
   "metadata": {},
   "outputs": [],
   "source": [
    "def extract_basic_directions(tableau: np.ndarray) -> dict[int, np.ndarray]:\n",
    "    \"\"\"\n",
    "    Each column of non basic variable corresponds to the opposite of the basic part of the basic directions.\n",
    "    :param tableau: simplex tableau.\n",
    "    :return: dict mapping the non basic variables with the basic directions.\n",
    "    \"\"\"\n",
    "    n_rows, n_columns = tableau.shape\n",
    "    n_variables = n_columns - 1\n",
    "    basic_variables = identify_basic_variables(tableau)\n",
    "    non_basic_variables = list(\n",
    "        set(range(n_variables)) - set([element.column for element in basic_variables])\n",
    "    )\n",
    "    result = ????\n",
    "\n",
    "\n",
    "\n",
    "\n",
    "\n",
    "\n",
    "\n",
    "    return result\n",
    "\n"
   ]
  },
  {
   "cell_type": "markdown",
   "id": "e700b2c6",
   "metadata": {},
   "source": [
    "Test the function"
   ]
  },
  {
   "cell_type": "code",
   "execution_count": null,
   "id": "6d054fdd",
   "metadata": {},
   "outputs": [],
   "source": [
    "the_basic_directions = extract_basic_directions(tableau=the_tableau)\n",
    "print(f'Basic directions: {the_basic_directions}')\n"
   ]
  },
  {
   "cell_type": "markdown",
   "id": "1a80d363",
   "metadata": {},
   "source": [
    "Finally, we need to verify that the values of the reduced costs in the tableau are\n",
    "consistent with the basic directions. It means that the reduced costs are the directional derivatives of the\n",
    "function in the direction of the basic directions.\n",
    "Fill in the ????."
   ]
  },
  {
   "cell_type": "code",
   "execution_count": null,
   "id": "d77444db",
   "metadata": {},
   "outputs": [],
   "source": [
    "\n",
    "for index, basic_direction in the_basic_directions.items():\n",
    "    reduced_cost = the_reduced_costs[index]\n",
    "    directional_derivative = ????\n",
    "\n",
    "\n",
    "    print(\n",
    "        f'Non basic variable {index}: reduced cost: {reduced_cost}, directional derivative: {directional_derivative}'\n",
    "    )"
   ]
  }
 ],
 "metadata": {},
 "nbformat": 4,
 "nbformat_minor": 5
}

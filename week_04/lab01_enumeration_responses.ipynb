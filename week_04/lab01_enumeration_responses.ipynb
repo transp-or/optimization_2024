{
 "cells": [
  {
   "cell_type": "markdown",
   "id": "45a9c390",
   "metadata": {},
   "source": [
    "# Vertex enumeration\n",
    "\n",
    "## Introduction to optimization and operations research\n",
    "\n",
    "Michel Bierlaire\n"
   ]
  },
  {
   "cell_type": "code",
   "execution_count": null,
   "id": "7e232fc4",
   "metadata": {},
   "outputs": [],
   "source": [
    "\n",
    "from itertools import combinations\n",
    "\n",
    "import numpy as np\n",
    "import pandas as pd\n",
    "from teaching_optimization.linear_constraints import (\n",
    "    draw_polyhedron_standard_form,\n",
    "    LabeledPoint,\n",
    ")\n",
    "from teaching_optimization.linear_optimization import LinearOptimization\n"
   ]
  },
  {
   "cell_type": "markdown",
   "id": "756ee30b",
   "metadata": {},
   "source": [
    "Consider the following optimization problem:\n",
    "$$\n",
    "\\min_{x \\in \\mathbb{R}^2} 3x_1 + x_2\n",
    "$$\n",
    "subject to\n",
    "\\begin{align*}\n",
    "2x_1+2x_2 & \\geq 1,\\\\\n",
    "x_1+x_2 & \\leq 2,\\\\\n",
    "x_1 & \\geq 0,\\\\\n",
    "x_2 & \\geq 0.\n",
    "\\end{align*}\n",
    "\n",
    "We want to find the optimal solution using vertex enumeration.\n",
    "Hint: use the `LinearOptimization` class."
   ]
  },
  {
   "cell_type": "code",
   "execution_count": null,
   "id": "c6314438",
   "metadata": {},
   "outputs": [],
   "source": [
    "help(LinearOptimization)\n"
   ]
  },
  {
   "cell_type": "markdown",
   "id": "ef992f2a",
   "metadata": {},
   "source": [
    "Here are examples of usage."
   ]
  },
  {
   "cell_type": "markdown",
   "id": "795d98d3",
   "metadata": {},
   "source": [
    "Constructor"
   ]
  },
  {
   "cell_type": "code",
   "execution_count": null,
   "id": "6c4cb41d",
   "metadata": {},
   "outputs": [],
   "source": [
    "matrix_a = np.array([[1, 2, 3], [4, 5, 6]])\n",
    "vector_b = np.array([7, 8])\n",
    "vector_c = np.array([9, 10, 11])\n",
    "example_linear_optimization = LinearOptimization(\n",
    "    objective=vector_c, constraint_matrix=matrix_a, right_hand_side=vector_b\n",
    ")\n",
    "print(\n",
    "    f'{example_linear_optimization.n_variables} variables, {example_linear_optimization.n_constraints} constraints.'\n",
    ")\n"
   ]
  },
  {
   "cell_type": "markdown",
   "id": "63d34172",
   "metadata": {},
   "source": [
    "Specify the basic indices"
   ]
  },
  {
   "cell_type": "code",
   "execution_count": null,
   "id": "82a60dcb",
   "metadata": {},
   "outputs": [],
   "source": [
    "example_linear_optimization.basic_indices = [0, 1]\n"
   ]
  },
  {
   "cell_type": "markdown",
   "id": "6cfe8d78",
   "metadata": {},
   "source": [
    "Obtain the basic solution"
   ]
  },
  {
   "cell_type": "code",
   "execution_count": null,
   "id": "57aa636f",
   "metadata": {},
   "outputs": [],
   "source": [
    "print(example_linear_optimization.basic_solution)\n"
   ]
  },
  {
   "cell_type": "markdown",
   "id": "fe8a4c1a",
   "metadata": {},
   "source": [
    "Check if it is feasible."
   ]
  },
  {
   "cell_type": "code",
   "execution_count": null,
   "id": "aa3888ec",
   "metadata": {},
   "outputs": [],
   "source": [
    "print(example_linear_optimization.is_basic_solution_feasible)\n"
   ]
  },
  {
   "cell_type": "markdown",
   "id": "c71209ef",
   "metadata": {},
   "source": [
    "Obtain the value of the objective function at the vertex"
   ]
  },
  {
   "cell_type": "code",
   "execution_count": null,
   "id": "26f33693",
   "metadata": {},
   "outputs": [],
   "source": [
    "print(example_linear_optimization.value_objective_at_vertex)\n"
   ]
  },
  {
   "cell_type": "markdown",
   "id": "d64ddfbe",
   "metadata": {},
   "source": [
    "You will also need the function `combinations` from `itertools`."
   ]
  },
  {
   "cell_type": "code",
   "execution_count": null,
   "id": "ff1b39ab",
   "metadata": {},
   "outputs": [],
   "source": [
    "help(combinations)\n"
   ]
  },
  {
   "cell_type": "markdown",
   "id": "0ba4a5f2",
   "metadata": {},
   "source": [
    "First, specify the data in standard form."
   ]
  },
  {
   "cell_type": "code",
   "execution_count": null,
   "id": "6cdd8d64",
   "metadata": {},
   "outputs": [],
   "source": [
    "standard_a = np.array([[-2, -2, 1, 0], [1, 1, 0, 1]])\n",
    "standard_b = np.array([-1, 2])\n",
    "the_objective = np.array([3, 1, 0, 0])\n"
   ]
  },
  {
   "cell_type": "markdown",
   "id": "3e1c271c",
   "metadata": {},
   "source": [
    "Create the LinearOptimization object"
   ]
  },
  {
   "cell_type": "code",
   "execution_count": null,
   "id": "fe609860",
   "metadata": {},
   "outputs": [],
   "source": [
    "the_linear_optimization = LinearOptimization(\n",
    "    objective=the_objective, constraint_matrix=standard_a, right_hand_side=standard_b\n",
    ")\n"
   ]
  },
  {
   "cell_type": "markdown",
   "id": "4341988f",
   "metadata": {},
   "source": [
    "Draw the polyhedron"
   ]
  },
  {
   "cell_type": "code",
   "execution_count": null,
   "id": "88c5d9ae",
   "metadata": {},
   "outputs": [],
   "source": [
    "draw_polyhedron_standard_form(matrix_a=standard_a, vector_b=standard_b)\n"
   ]
  },
  {
   "cell_type": "markdown",
   "id": "941456ae",
   "metadata": {},
   "source": [
    "Loop over all feasible basic solutions and remember the best one.\n",
    "For reporting, we store the output in a string matrix."
   ]
  },
  {
   "cell_type": "code",
   "execution_count": null,
   "id": "0b2248ee",
   "metadata": {},
   "outputs": [],
   "source": [
    "\n",
    "best_solution = None\n",
    "best_value = np.inf\n",
    "report = []\n",
    "headers = ['Basic indices', 'Vertex', 'Value', 'Feasible', 'Best value']\n"
   ]
  },
  {
   "cell_type": "markdown",
   "id": "9fd06ccd",
   "metadata": {},
   "source": [
    "Loop over all possible combinations of basic indices."
   ]
  },
  {
   "cell_type": "code",
   "execution_count": null,
   "id": "3ab8b4c9",
   "metadata": {},
   "outputs": [],
   "source": [
    "for basic_indices in combinations(\n",
    "    range(the_linear_optimization.n_variables),\n",
    "    the_linear_optimization.n_constraints,\n",
    "):\n",
    "    row = [f'{basic_indices}']\n",
    "    the_linear_optimization.basic_indices = basic_indices\n",
    "    if the_linear_optimization.basic_solution is None:\n",
    "        row += ['Not a vertex']\n",
    "    else:\n",
    "        row += [f'{the_linear_optimization.basic_solution}']\n",
    "    value: float = the_linear_optimization.value_objective_at_vertex\n",
    "    row += [f'{value}']\n",
    "    if the_linear_optimization.is_basic_solution_feasible:\n",
    "        row += ['Yes']\n",
    "        if value < best_value:\n",
    "            best_value = value\n",
    "            best_solution = the_linear_optimization.basic_solution\n",
    "    else:\n",
    "        row += ['No']\n",
    "    row += [f'{best_value}']\n",
    "    report.append(row)\n"
   ]
  },
  {
   "cell_type": "markdown",
   "id": "9b000c50",
   "metadata": {},
   "source": [
    "We print the results using Pandas"
   ]
  },
  {
   "cell_type": "code",
   "execution_count": null,
   "id": "01a344ac",
   "metadata": {},
   "outputs": [],
   "source": [
    "df = pd.DataFrame(report, columns=headers)\n",
    "df\n"
   ]
  },
  {
   "cell_type": "markdown",
   "id": "095295ef",
   "metadata": {},
   "source": [
    "Optimal solution:"
   ]
  },
  {
   "cell_type": "code",
   "execution_count": null,
   "id": "f75b6d50",
   "metadata": {},
   "outputs": [],
   "source": [
    "print(f'Optimal solution: {best_solution}')\n"
   ]
  },
  {
   "cell_type": "markdown",
   "id": "111d66bf",
   "metadata": {},
   "source": [
    "Optimal value:"
   ]
  },
  {
   "cell_type": "code",
   "execution_count": null,
   "id": "1c2629aa",
   "metadata": {},
   "outputs": [],
   "source": [
    "print(f'Optimal value: {best_value}')\n"
   ]
  },
  {
   "cell_type": "markdown",
   "id": "58c2fc23",
   "metadata": {},
   "source": [
    "Draw the optimal solution"
   ]
  },
  {
   "cell_type": "code",
   "execution_count": null,
   "id": "44fd2179",
   "metadata": {},
   "outputs": [],
   "source": [
    "draw_polyhedron_standard_form(\n",
    "    matrix_a=standard_a,\n",
    "    vector_b=standard_b,\n",
    "    objective_coefficients=the_objective,\n",
    "    level_lines=[-0.5, 0.5, 1.5, 2.5],\n",
    "    points=[LabeledPoint(coordinates=best_solution, label='Optimum')],\n",
    ")"
   ]
  }
 ],
 "metadata": {},
 "nbformat": 4,
 "nbformat_minor": 5
}

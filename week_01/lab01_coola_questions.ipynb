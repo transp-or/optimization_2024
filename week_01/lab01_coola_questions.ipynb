{
 "cells": [
  {
   "cell_type": "markdown",
   "id": "d6f98794",
   "metadata": {},
   "source": [
    "# Coola-Coola\n",
    "\n",
    "## Introduction to optimization and operations research.\n",
    "\n",
    "Michel Bierlaire\n"
   ]
  },
  {
   "cell_type": "markdown",
   "id": "5c71fb10",
   "metadata": {},
   "source": [
    "The company Coola-Coola Ltd. wants to design a can of soda of volume\n",
    "0.33 liters. They need to set the dimensions (in centimeters) of this\n",
    "can to use the minimum amount of aluminium, knowing that the form of the can is a\n",
    "perfect cylinder, and the thickness of the aluminium is the same\n",
    "everywhere. Write the problem as an optimization problem. Then, write a Python code to solve it, using the\n",
    "[scipy.minimize](https://docs.scipy.org/doc/scipy/reference/generated/scipy.optimize.minimize.html) function."
   ]
  },
  {
   "cell_type": "markdown",
   "id": "c51ad62d",
   "metadata": {},
   "source": [
    "Make sure to read the documentation first:\n",
    "[click here](https://docs.scipy.org/doc/scipy/reference/generated/scipy.optimize.minimize.html)"
   ]
  },
  {
   "cell_type": "markdown",
   "id": "96077150",
   "metadata": {},
   "source": [
    "Import necessary packages."
   ]
  },
  {
   "cell_type": "code",
   "execution_count": null,
   "id": "394d7b1b",
   "metadata": {},
   "outputs": [],
   "source": [
    "import numpy as np\n",
    "from scipy.optimize import minimize\n",
    "\n"
   ]
  },
  {
   "cell_type": "markdown",
   "id": "235e8e61",
   "metadata": {},
   "source": [
    "We first define a function calculating the surface. If $r$ is the radius, and $h$ the height, we have:\n",
    "\n",
    "- Each basis is a circle of radius $r$, so its surface is $\\pi r^2$.\n",
    "- The side of the can is a rectangle of area $2\\pi r h$.\n",
    "\n",
    "The total surface is $ 2 \\pi r^2 + 2 \\pi r h$."
   ]
  },
  {
   "cell_type": "code",
   "execution_count": null,
   "id": "2545eea9",
   "metadata": {},
   "outputs": [],
   "source": [
    "def surface(radius: float, height: float) -> float:\n",
    "    return 2 * np.pi * radius * (radius + height)\n",
    "\n"
   ]
  },
  {
   "cell_type": "markdown",
   "id": "1fba9d50",
   "metadata": {},
   "source": [
    "We then define a function calculating the volume, that is $\\pi r^2 h$."
   ]
  },
  {
   "cell_type": "code",
   "execution_count": null,
   "id": "04dd67cf",
   "metadata": {},
   "outputs": [],
   "source": [
    "def volume(radius: float, height: float) -> float:\n",
    "    return np.pi * radius * radius * height\n",
    "\n"
   ]
  },
  {
   "cell_type": "markdown",
   "id": "88ed2b58",
   "metadata": {},
   "source": [
    "Prepare the input for the optimization algorithm."
   ]
  },
  {
   "cell_type": "code",
   "execution_count": null,
   "id": "a66a0e24",
   "metadata": {},
   "outputs": [],
   "source": [
    "def objective_function(x: list[float]) -> float:\n",
    "    \"\"\"point[0]: radius, point[1]: height\"\"\"\n",
    "    return ???? [INSERT YOUR CODE HERE]\n",
    "\n",
    "\n",
    "\n",
    "\n",
    "def constraint(x: list[float]) -> float:\n",
    "    \"\"\"point[0]: radius, point[1]: height\n",
    "\n",
    "    \"\"\"\n",
    "    return ???? [INSERT YOUR CODE HERE]\n",
    "\n",
    "\n"
   ]
  },
  {
   "cell_type": "markdown",
   "id": "285b2cae",
   "metadata": {},
   "source": [
    "Lower bounds: 0. No upper bounds."
   ]
  },
  {
   "cell_type": "code",
   "execution_count": null,
   "id": "76dca42a",
   "metadata": {},
   "outputs": [],
   "source": [
    "bounds = ???? [INSERT YOUR CODE HERE]\n",
    "\n"
   ]
  },
  {
   "cell_type": "markdown",
   "id": "dd38a6d6",
   "metadata": {},
   "source": [
    "Starting point."
   ]
  },
  {
   "cell_type": "code",
   "execution_count": null,
   "id": "ccbc24a5",
   "metadata": {},
   "outputs": [],
   "source": [
    "x0 = ???? [INSERT YOUR CODE HERE]\n"
   ]
  },
  {
   "cell_type": "markdown",
   "id": "ca14893e",
   "metadata": {},
   "source": [
    "Run the algorithm. Check the documentation of the minimize function of `scipy`."
   ]
  },
  {
   "cell_type": "code",
   "execution_count": null,
   "id": "5c694a16",
   "metadata": {},
   "outputs": [],
   "source": [
    "optimization_result = ???? [INSERT YOUR CODE HERE]\n",
    "\n",
    "\n",
    "\n",
    "\n",
    "\n",
    "\n"
   ]
  },
  {
   "cell_type": "markdown",
   "id": "14ca6d04",
   "metadata": {},
   "source": [
    "Print the raw results."
   ]
  },
  {
   "cell_type": "code",
   "execution_count": null,
   "id": "cb8bfb1e",
   "metadata": {},
   "outputs": [],
   "source": [
    "print(optimization_result)\n"
   ]
  },
  {
   "cell_type": "markdown",
   "id": "6112d734",
   "metadata": {},
   "source": [
    "Print the solution with 3 significant digits. We expect:\n",
    "\n",
    "- Optimal radius: 3.74 cm.\n",
    "- Optimal height: 7.49 cm.\n",
    "- Surface: 264 cm2."
   ]
  },
  {
   "cell_type": "code",
   "execution_count": null,
   "id": "c3adde26",
   "metadata": {},
   "outputs": [],
   "source": [
    "print(f'Optimal radius: {optimization_result.x[0]:.3g} cm.')\n",
    "print(f'Optimal height: {optimization_result.x[1]:.3g} cm.')\n",
    "print(f'Surface: {optimization_result.fun:.3g} cm2.')\n"
   ]
  },
  {
   "cell_type": "markdown",
   "id": "ae90b3e2",
   "metadata": {},
   "source": [
    "Ask ChatGPT to write the Python code for you and compare the results with what you have done."
   ]
  }
 ],
 "metadata": {},
 "nbformat": 4,
 "nbformat_minor": 5
}

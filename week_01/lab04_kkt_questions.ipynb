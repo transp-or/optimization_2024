{
 "cells": [
  {
   "cell_type": "markdown",
   "id": "dceedc94",
   "metadata": {},
   "source": [
    "# Karush-Kuhn-Tucker\n",
    "\n",
    "## Introduction to optimization and operations research.\n",
    "\n",
    "Michel Bierlaire\n"
   ]
  },
  {
   "cell_type": "markdown",
   "id": "0095b1bf",
   "metadata": {},
   "source": [
    "Consider the constrained optimization problem:\n",
    "$$\n",
    "\\min_{x\\in \\mathbb{R}} x^2,\n",
    "$$\n",
    "subject to\n",
    "$$\n",
    "1 \\leq x \\leq 4.\n",
    "$$\n",
    "Show that $x^*=1$ verifies the first-order Karush-Kuhn-Tucker (KKT) optimality conditions.\n",
    "\n",
    "**Hint**: write first the problem in the general form used in the lecture:\n",
    "$$\n",
    "\\min_{x \\in \\mathbb{R}^n} f(x)\n",
    "$$\n",
    "subject to\n",
    "\\begin{align*}\n",
    "h(x) &= 0, \\;\\;  h:\\mathbb{R}^n \\to \\mathbb{R}^m, m \\geq 0, \\\\\n",
    "g(x) &\\leq 0, \\;\\; g:\\mathbb{R}^n \\to \\mathbb{R}^p, p \\geq 0. \\\\\n",
    "\\end{align*}"
   ]
  },
  {
   "cell_type": "markdown",
   "id": "87799973",
   "metadata": {},
   "source": [
    "Consider the problem written in the general form above, and the Lagrange multipliers involved in the KKT conditions.\n",
    "Write functions that calculate the value of the objective function, the constraints and the Lagrangian.\n",
    "Write also a function that verifies if a point is feasible, that is, if it verifies the constraints."
   ]
  },
  {
   "cell_type": "markdown",
   "id": "e122a5fc",
   "metadata": {},
   "source": [
    "Test those functions on the following values, and verify that it does not contradict the optimality of $x=1$.\n",
    "- $x = 0$,\n",
    "- $x = 1$,\n",
    "- $x = 3$."
   ]
  },
  {
   "cell_type": "markdown",
   "id": "696e3136",
   "metadata": {},
   "source": [
    "Objective function"
   ]
  },
  {
   "cell_type": "code",
   "execution_count": null,
   "id": "9ab72862",
   "metadata": {},
   "outputs": [],
   "source": [
    "def objective(x: float) -> float:\n",
    "    \"\"\"Objective function\"\"\"\n",
    "    return ????\n",
    "\n"
   ]
  },
  {
   "cell_type": "markdown",
   "id": "6a3aab38",
   "metadata": {},
   "source": [
    "First constraint"
   ]
  },
  {
   "cell_type": "code",
   "execution_count": null,
   "id": "77800dba",
   "metadata": {},
   "outputs": [],
   "source": [
    "def first_constraint(x: float) -> float:\n",
    "    \"\"\"First constraint\"\"\"\n",
    "    return ????\n",
    "\n"
   ]
  },
  {
   "cell_type": "markdown",
   "id": "0b704b94",
   "metadata": {},
   "source": [
    "Second constraint"
   ]
  },
  {
   "cell_type": "code",
   "execution_count": null,
   "id": "28f72760",
   "metadata": {},
   "outputs": [],
   "source": [
    "def second_constraint(x: float) -> float:\n",
    "    \"\"\"Second constraint\"\"\"\n",
    "    return ????\n",
    "\n"
   ]
  },
  {
   "cell_type": "markdown",
   "id": "acfc5526",
   "metadata": {},
   "source": [
    "Feasibility check"
   ]
  },
  {
   "cell_type": "code",
   "execution_count": null,
   "id": "d9ab7747",
   "metadata": {},
   "outputs": [],
   "source": [
    "def is_feasible(x: float) -> float:\n",
    "    \"\"\"Check feasibility\"\"\"\n",
    "    return ????\n",
    "\n"
   ]
  },
  {
   "cell_type": "markdown",
   "id": "755d1f95",
   "metadata": {},
   "source": [
    "Lagrangian"
   ]
  },
  {
   "cell_type": "code",
   "execution_count": null,
   "id": "e2c82f91",
   "metadata": {},
   "outputs": [],
   "source": [
    "def lagrangian(x: float, mu_1: float, mu_2: float) -> float:\n",
    "    \"\"\"Calculates the lagrangian of the problem\"\"\"\n",
    "    return ????\n",
    "\n",
    "\n",
    "\n"
   ]
  },
  {
   "cell_type": "code",
   "execution_count": null,
   "id": "827283ca",
   "metadata": {},
   "outputs": [],
   "source": [
    "mu_1 = ????\n",
    "mu_2 = ????\n"
   ]
  },
  {
   "cell_type": "code",
   "execution_count": null,
   "id": "a806399f",
   "metadata": {},
   "outputs": [],
   "source": [
    "x = 0\n"
   ]
  },
  {
   "cell_type": "markdown",
   "id": "8424ac13",
   "metadata": {},
   "source": [
    "Expected answer: f(0) = 0"
   ]
  },
  {
   "cell_type": "code",
   "execution_count": null,
   "id": "e8bfc820",
   "metadata": {},
   "outputs": [],
   "source": [
    "print(f'f({x}) = {objective(x)}')\n"
   ]
  },
  {
   "cell_type": "markdown",
   "id": "29c032ae",
   "metadata": {},
   "source": [
    "Expected answer: c1(0) = 1"
   ]
  },
  {
   "cell_type": "code",
   "execution_count": null,
   "id": "0846a192",
   "metadata": {},
   "outputs": [],
   "source": [
    "print(f'c1({x}) = {first_constraint(x)}')\n"
   ]
  },
  {
   "cell_type": "markdown",
   "id": "ba9bcbc7",
   "metadata": {},
   "source": [
    "Expected answer: c2(0) = -4"
   ]
  },
  {
   "cell_type": "code",
   "execution_count": null,
   "id": "99ef42e6",
   "metadata": {},
   "outputs": [],
   "source": [
    "print(f'c2({x}) = {second_constraint(x)}')\n"
   ]
  },
  {
   "cell_type": "markdown",
   "id": "455eda31",
   "metadata": {},
   "source": [
    "Expected answer: Is 0 feasible? False"
   ]
  },
  {
   "cell_type": "code",
   "execution_count": null,
   "id": "aea4717f",
   "metadata": {},
   "outputs": [],
   "source": [
    "print(f'Is {x} feasible? {is_feasible(x)}')\n"
   ]
  },
  {
   "cell_type": "markdown",
   "id": "6224b8b2",
   "metadata": {},
   "source": [
    "Expected answer: L(0, 2, 0) = 2"
   ]
  },
  {
   "cell_type": "code",
   "execution_count": null,
   "id": "db374cc6",
   "metadata": {},
   "outputs": [],
   "source": [
    "print(f'L({x}, {mu_1}, {mu_2}) = {lagrangian(x, mu_1, mu_2)}')\n"
   ]
  },
  {
   "cell_type": "code",
   "execution_count": null,
   "id": "84f62416",
   "metadata": {},
   "outputs": [],
   "source": [
    "x = 1\n"
   ]
  },
  {
   "cell_type": "markdown",
   "id": "95dbd0f9",
   "metadata": {},
   "source": [
    "Expected answer: f(1) = 1"
   ]
  },
  {
   "cell_type": "code",
   "execution_count": null,
   "id": "afaeeb9d",
   "metadata": {},
   "outputs": [],
   "source": [
    "print(f'f({x}) = {objective(x)}')\n"
   ]
  },
  {
   "cell_type": "markdown",
   "id": "ca677ad1",
   "metadata": {},
   "source": [
    "Expected answer: c1(1) = 0"
   ]
  },
  {
   "cell_type": "code",
   "execution_count": null,
   "id": "8ee084d5",
   "metadata": {},
   "outputs": [],
   "source": [
    "print(f'c1({x}) = {first_constraint(x)}')\n"
   ]
  },
  {
   "cell_type": "markdown",
   "id": "e834ed79",
   "metadata": {},
   "source": [
    "Expected answer: c2(1) = -3"
   ]
  },
  {
   "cell_type": "code",
   "execution_count": null,
   "id": "5ed51b67",
   "metadata": {},
   "outputs": [],
   "source": [
    "print(f'c2({x}) = {second_constraint(x)}')\n"
   ]
  },
  {
   "cell_type": "markdown",
   "id": "26e79448",
   "metadata": {},
   "source": [
    "Expected answer: Is 1 feasible? True"
   ]
  },
  {
   "cell_type": "code",
   "execution_count": null,
   "id": "5bf14652",
   "metadata": {},
   "outputs": [],
   "source": [
    "print(f'Is {x} feasible? {is_feasible(x)}')\n"
   ]
  },
  {
   "cell_type": "markdown",
   "id": "b556520f",
   "metadata": {},
   "source": [
    "Expected answer: L(1, 2, 0) = 1"
   ]
  },
  {
   "cell_type": "code",
   "execution_count": null,
   "id": "c23e5d3b",
   "metadata": {},
   "outputs": [],
   "source": [
    "print(f'L({x}, {mu_1}, {mu_2}) = {lagrangian(x, mu_1, mu_2)}')\n",
    "\n",
    "\n",
    "\n",
    "\n"
   ]
  },
  {
   "cell_type": "code",
   "execution_count": null,
   "id": "7c18da9d",
   "metadata": {},
   "outputs": [],
   "source": [
    "x = 3\n"
   ]
  },
  {
   "cell_type": "markdown",
   "id": "e758adc8",
   "metadata": {},
   "source": [
    "Expected answer: f(3) = 9"
   ]
  },
  {
   "cell_type": "code",
   "execution_count": null,
   "id": "98dd6b3a",
   "metadata": {},
   "outputs": [],
   "source": [
    "print(f'f({x}) = {objective(x)}')\n"
   ]
  },
  {
   "cell_type": "markdown",
   "id": "cbf30d23",
   "metadata": {},
   "source": [
    "Expected answer: c1(3) = -2"
   ]
  },
  {
   "cell_type": "code",
   "execution_count": null,
   "id": "76c031a7",
   "metadata": {},
   "outputs": [],
   "source": [
    "print(f'c1({x}) = {first_constraint(x)}')\n"
   ]
  },
  {
   "cell_type": "markdown",
   "id": "a374cd2e",
   "metadata": {},
   "source": [
    "Expected answer: c2(3) = -1"
   ]
  },
  {
   "cell_type": "code",
   "execution_count": null,
   "id": "4dc2c935",
   "metadata": {},
   "outputs": [],
   "source": [
    "print(f'c2({x}) = {second_constraint(x)}')\n"
   ]
  },
  {
   "cell_type": "markdown",
   "id": "e49308b4",
   "metadata": {},
   "source": [
    "Expected answer: Is 3 feasible? True"
   ]
  },
  {
   "cell_type": "code",
   "execution_count": null,
   "id": "bf4b0513",
   "metadata": {},
   "outputs": [],
   "source": [
    "print(f'Is {x} feasible? {is_feasible(x)}')\n"
   ]
  },
  {
   "cell_type": "markdown",
   "id": "188f4ced",
   "metadata": {},
   "source": [
    "Expected answer: L(3, 2, 0) = 5"
   ]
  },
  {
   "cell_type": "code",
   "execution_count": null,
   "id": "1bf8916e",
   "metadata": {},
   "outputs": [],
   "source": [
    "print(f'L({x}, {mu_1}, {mu_2}) = {lagrangian(x, mu_1, mu_2)}')\n",
    "\n",
    "\n"
   ]
  }
 ],
 "metadata": {},
 "nbformat": 4,
 "nbformat_minor": 5
}

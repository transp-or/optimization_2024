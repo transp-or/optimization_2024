{
 "cells": [
  {
   "cell_type": "markdown",
   "id": "1fa00806",
   "metadata": {},
   "source": [
    "# Karush-Kuhn-Tucker\n",
    "\n",
    "## Introduction to optimization and operations research.\n",
    "\n",
    "Michel Bierlaire\n"
   ]
  },
  {
   "cell_type": "markdown",
   "id": "f25feb26",
   "metadata": {},
   "source": [
    "Consider the constrained optimization problem:\n",
    "$$\n",
    "\\min_{x\\in \\mathbb{R}} x^2,\n",
    "$$\n",
    "subject to\n",
    "$$\n",
    "1 \\leq x \\leq 4.\n",
    "$$\n",
    "Show that $x^*=1$ verifies the first-order Karush-Kuhn-Tucker (KKT) optimality conditions.\n",
    "\n",
    "**Hint**: write first the problem in the general form used in the lecture:\n",
    "$$\n",
    "\\min_{x \\in \\mathbb{R}^n} f(x)\n",
    "$$\n",
    "subject to\n",
    "\\begin{align*}\n",
    "h(x) &= 0, \\;\\;  h:\\mathbb{R}^n \\to \\mathbb{R}^m, m \\geq 0, \\\\\n",
    "g(x) &\\leq 0, \\;\\; g:\\mathbb{R}^n \\to \\mathbb{R}^p, p \\geq 0. \\\\\n",
    "\\end{align*}"
   ]
  },
  {
   "cell_type": "markdown",
   "id": "46149c32",
   "metadata": {},
   "source": [
    "Consider the problem written in the general form above, and the Lagrange multipliers involved in the KKT conditions.\n",
    "Write functions that calculate the value of the objective function, the constraints and the Lagrangian.\n",
    "Write also a function that verifies if a point is feasible, that is, if it verifies the constraints."
   ]
  },
  {
   "cell_type": "markdown",
   "id": "f75dcb13",
   "metadata": {},
   "source": [
    "Test those functions on the following values, and verify that it does not contradict the optimality of $x=1$.\n",
    "- $x = 0$,\n",
    "- $x = 1$,\n",
    "- $x = 3$."
   ]
  },
  {
   "cell_type": "markdown",
   "id": "21b87593",
   "metadata": {},
   "source": [
    "Objective function"
   ]
  },
  {
   "cell_type": "code",
   "execution_count": null,
   "id": "a66e257a",
   "metadata": {},
   "outputs": [],
   "source": [
    "def objective(x: float) -> float:\n",
    "    \"\"\"Objective function\"\"\"\n",
    "    return ????\n",
    "\n"
   ]
  },
  {
   "cell_type": "markdown",
   "id": "4cfe8780",
   "metadata": {},
   "source": [
    "First constraint"
   ]
  },
  {
   "cell_type": "code",
   "execution_count": null,
   "id": "d4184ef4",
   "metadata": {},
   "outputs": [],
   "source": [
    "def first_constraint(x: float) -> float:\n",
    "    \"\"\"First constraint\"\"\"\n",
    "    return ????\n",
    "\n"
   ]
  },
  {
   "cell_type": "markdown",
   "id": "1244ce18",
   "metadata": {},
   "source": [
    "Second constraint"
   ]
  },
  {
   "cell_type": "code",
   "execution_count": null,
   "id": "b9666916",
   "metadata": {},
   "outputs": [],
   "source": [
    "def second_constraint(x: float) -> float:\n",
    "    \"\"\"Second constraint\"\"\"\n",
    "    return ????\n",
    "\n"
   ]
  },
  {
   "cell_type": "markdown",
   "id": "15ad1da4",
   "metadata": {},
   "source": [
    "Feasibility check"
   ]
  },
  {
   "cell_type": "code",
   "execution_count": null,
   "id": "baa82017",
   "metadata": {},
   "outputs": [],
   "source": [
    "def is_feasible(x: float) -> float:\n",
    "    \"\"\"Check feasibility\"\"\"\n",
    "    return ????\n",
    "\n"
   ]
  },
  {
   "cell_type": "markdown",
   "id": "f1a077be",
   "metadata": {},
   "source": [
    "Lagrangian"
   ]
  },
  {
   "cell_type": "code",
   "execution_count": null,
   "id": "2aa46f20",
   "metadata": {},
   "outputs": [],
   "source": [
    "def lagrangian(x: float, mu_1: float, mu_2: float) -> float:\n",
    "    \"\"\"Calculates the lagrangian of the problem\"\"\"\n",
    "    return ????\n",
    "\n",
    "\n",
    "\n"
   ]
  },
  {
   "cell_type": "code",
   "execution_count": null,
   "id": "befd372f",
   "metadata": {},
   "outputs": [],
   "source": [
    "mu_1 = ????\n",
    "mu_2 = ????\n"
   ]
  },
  {
   "cell_type": "code",
   "execution_count": null,
   "id": "c7afb9d3",
   "metadata": {},
   "outputs": [],
   "source": [
    "x = 0\n"
   ]
  },
  {
   "cell_type": "markdown",
   "id": "52f13fcc",
   "metadata": {},
   "source": [
    "Expected answer: f(0) = 0"
   ]
  },
  {
   "cell_type": "code",
   "execution_count": null,
   "id": "979776ae",
   "metadata": {},
   "outputs": [],
   "source": [
    "print(f'f({x}) = {objective(x)}')\n"
   ]
  },
  {
   "cell_type": "markdown",
   "id": "d4616e61",
   "metadata": {},
   "source": [
    "Expected answer: c1(0) = 1"
   ]
  },
  {
   "cell_type": "code",
   "execution_count": null,
   "id": "0db910e9",
   "metadata": {},
   "outputs": [],
   "source": [
    "print(f'c1({x}) = {first_constraint(x)}')\n"
   ]
  },
  {
   "cell_type": "markdown",
   "id": "100a71bf",
   "metadata": {},
   "source": [
    "Expected answer: c2(0) = -4"
   ]
  },
  {
   "cell_type": "code",
   "execution_count": null,
   "id": "a89733cb",
   "metadata": {},
   "outputs": [],
   "source": [
    "print(f'c2({x}) = {second_constraint(x)}')\n"
   ]
  },
  {
   "cell_type": "markdown",
   "id": "d8097f8d",
   "metadata": {},
   "source": [
    "Expected answer: Is 0 feasible? False"
   ]
  },
  {
   "cell_type": "code",
   "execution_count": null,
   "id": "597f6ce1",
   "metadata": {},
   "outputs": [],
   "source": [
    "print(f'Is {x} feasible? {is_feasible(x)}')\n"
   ]
  },
  {
   "cell_type": "markdown",
   "id": "563d87be",
   "metadata": {},
   "source": [
    "Expected answer: L(0, 2, 0) = 2"
   ]
  },
  {
   "cell_type": "code",
   "execution_count": null,
   "id": "3fd5c501",
   "metadata": {},
   "outputs": [],
   "source": [
    "print(f'L({x}, {mu_1}, {mu_2}) = {lagrangian(x, mu_1, mu_2)}')\n"
   ]
  },
  {
   "cell_type": "code",
   "execution_count": null,
   "id": "a88d230a",
   "metadata": {},
   "outputs": [],
   "source": [
    "x = 1\n"
   ]
  },
  {
   "cell_type": "markdown",
   "id": "6a0c4aca",
   "metadata": {},
   "source": [
    "Expected answer: f(1) = 1"
   ]
  },
  {
   "cell_type": "code",
   "execution_count": null,
   "id": "185745a9",
   "metadata": {},
   "outputs": [],
   "source": [
    "print(f'f({x}) = {objective(x)}')\n"
   ]
  },
  {
   "cell_type": "markdown",
   "id": "42ffac9c",
   "metadata": {},
   "source": [
    "Expected answer: c1(1) = 0"
   ]
  },
  {
   "cell_type": "code",
   "execution_count": null,
   "id": "eb029326",
   "metadata": {},
   "outputs": [],
   "source": [
    "print(f'c1({x}) = {first_constraint(x)}')\n"
   ]
  },
  {
   "cell_type": "markdown",
   "id": "f0ae5426",
   "metadata": {},
   "source": [
    "Expected answer: c2(1) = -3"
   ]
  },
  {
   "cell_type": "code",
   "execution_count": null,
   "id": "23fc9fd1",
   "metadata": {},
   "outputs": [],
   "source": [
    "print(f'c2({x}) = {second_constraint(x)}')\n"
   ]
  },
  {
   "cell_type": "markdown",
   "id": "e3ff0ef2",
   "metadata": {},
   "source": [
    "Expected answer: Is 1 feasible? True"
   ]
  },
  {
   "cell_type": "code",
   "execution_count": null,
   "id": "d8853b50",
   "metadata": {},
   "outputs": [],
   "source": [
    "print(f'Is {x} feasible? {is_feasible(x)}')\n"
   ]
  },
  {
   "cell_type": "markdown",
   "id": "6cfe88bd",
   "metadata": {},
   "source": [
    "Expected answer: L(1, 2, 0) = 1"
   ]
  },
  {
   "cell_type": "code",
   "execution_count": null,
   "id": "bbc2751f",
   "metadata": {},
   "outputs": [],
   "source": [
    "print(f'L({x}, {mu_1}, {mu_2}) = {lagrangian(x, mu_1, mu_2)}')\n",
    "\n",
    "\n",
    "\n",
    "\n"
   ]
  },
  {
   "cell_type": "code",
   "execution_count": null,
   "id": "54feadef",
   "metadata": {},
   "outputs": [],
   "source": [
    "x = 3\n"
   ]
  },
  {
   "cell_type": "markdown",
   "id": "c26f1028",
   "metadata": {},
   "source": [
    "Expected answer: f(3) = 9"
   ]
  },
  {
   "cell_type": "code",
   "execution_count": null,
   "id": "a64f7bae",
   "metadata": {},
   "outputs": [],
   "source": [
    "print(f'f({x}) = {objective(x)}')\n"
   ]
  },
  {
   "cell_type": "markdown",
   "id": "813ab617",
   "metadata": {},
   "source": [
    "Expected answer: c1(3) = -2"
   ]
  },
  {
   "cell_type": "code",
   "execution_count": null,
   "id": "0d44b358",
   "metadata": {},
   "outputs": [],
   "source": [
    "print(f'c1({x}) = {first_constraint(x)}')\n"
   ]
  },
  {
   "cell_type": "markdown",
   "id": "6dcecba8",
   "metadata": {},
   "source": [
    "Expected answer: c2(3) = -1"
   ]
  },
  {
   "cell_type": "code",
   "execution_count": null,
   "id": "a071bcff",
   "metadata": {},
   "outputs": [],
   "source": [
    "print(f'c2({x}) = {second_constraint(x)}')\n"
   ]
  },
  {
   "cell_type": "markdown",
   "id": "89c1b3bc",
   "metadata": {},
   "source": [
    "Expected answer: Is 3 feasible? True"
   ]
  },
  {
   "cell_type": "code",
   "execution_count": null,
   "id": "5fd97237",
   "metadata": {},
   "outputs": [],
   "source": [
    "print(f'Is {x} feasible? {is_feasible(x)}')\n"
   ]
  },
  {
   "cell_type": "markdown",
   "id": "47d23f35",
   "metadata": {},
   "source": [
    "Expected answer: L(3, 2, 0) = 5"
   ]
  },
  {
   "cell_type": "code",
   "execution_count": null,
   "id": "4edf87ac",
   "metadata": {},
   "outputs": [],
   "source": [
    "print(f'L({x}, {mu_1}, {mu_2}) = {lagrangian(x, mu_1, mu_2)}')\n",
    "\n",
    "\n"
   ]
  }
 ],
 "metadata": {},
 "nbformat": 4,
 "nbformat_minor": 5
}

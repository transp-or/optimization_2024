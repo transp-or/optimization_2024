{
 "cells": [
  {
   "cell_type": "markdown",
   "id": "7783b5bc",
   "metadata": {},
   "source": [
    "# Projectile\n",
    "\n",
    "Introduction to optimization and operations research\n",
    "Michel Bierlaire\n"
   ]
  },
  {
   "cell_type": "code",
   "execution_count": null,
   "id": "8cf1acc0",
   "metadata": {},
   "outputs": [],
   "source": [
    "\n",
    "from matplotlib import pyplot as plt\n"
   ]
  },
  {
   "cell_type": "markdown",
   "id": "d2419757",
   "metadata": {},
   "source": [
    "A projectile is launched vertically at a rate of 50 meters per second in the absence of wind. After how long and\n",
    "at which altitude does it start to fall?  Write a Python code to solve it, using the\n",
    "[scipy.minimize](https://docs.scipy.org/doc/scipy/reference/generated/scipy.optimize.minimize.html) function."
   ]
  },
  {
   "cell_type": "markdown",
   "id": "94db9255",
   "metadata": {},
   "source": [
    "Import necessary packages."
   ]
  },
  {
   "cell_type": "code",
   "execution_count": null,
   "id": "541659d6",
   "metadata": {},
   "outputs": [],
   "source": [
    "from scipy.optimize import minimize\n",
    "\n",
    "from teaching_optimization.plot_function import plot_function\n",
    "\n"
   ]
  },
  {
   "cell_type": "markdown",
   "id": "cd07c966",
   "metadata": {},
   "source": [
    "First implement the calculation of the altitude of the projectile using the formula for uniformly accelerated\n",
    "movement:  $$f(t) = x_o + v_0 t -\\frac{g}{2} t^2,$$\n",
    "where $x_0$ is the initial altitude, $v_0$ the initial speed, and $g$ the acceleration due\n",
    "to gravity."
   ]
  },
  {
   "cell_type": "markdown",
   "id": "51c37a6b",
   "metadata": {},
   "source": [
    "Define a constant."
   ]
  },
  {
   "cell_type": "code",
   "execution_count": null,
   "id": "dcc405aa",
   "metadata": {},
   "outputs": [],
   "source": [
    "GRAVITY = 9.81\n",
    "\n"
   ]
  },
  {
   "cell_type": "markdown",
   "id": "bd141194",
   "metadata": {},
   "source": [
    "Write a function to calculate the height of the projectile, using the formula."
   ]
  },
  {
   "cell_type": "code",
   "execution_count": null,
   "id": "809ea3fe",
   "metadata": {},
   "outputs": [],
   "source": [
    "def height(time: float, initial_altitude: float, initial_speed: float) -> float:\n",
    "    \"\"\"\n",
    "    Calculate the height of the projectile, using the formula.\n",
    "\n",
    "    :param time: time at which we need the height.\n",
    "    :param initial_altitude: initial altitude x_0.\n",
    "    :param initial_speed: initial speed v_0.\n",
    "    :return: height.\n",
    "    \"\"\"\n",
    "    return ????\n",
    "\n",
    "\n",
    "\n"
   ]
  },
  {
   "cell_type": "markdown",
   "id": "a8cee209",
   "metadata": {},
   "source": [
    "Define the objective function. The \"decision\" variable is the time."
   ]
  },
  {
   "cell_type": "code",
   "execution_count": null,
   "id": "b615c851",
   "metadata": {},
   "outputs": [],
   "source": [
    "def objective_function(point: float) -> float:\n",
    "    \"\"\"Objective function of the optimization problem.\n",
    "\n",
    "\n",
    "    :param point: decision variable.\n",
    "    \"\"\"\n",
    "    return -height(\n",
    "        time=point, initial_altitude=0, initial_speed=50\n",
    "\n"
   ]
  },
  {
   "cell_type": "markdown",
   "id": "ad668107",
   "metadata": {},
   "source": [
    "Plot the objective function."
   ]
  },
  {
   "cell_type": "code",
   "execution_count": null,
   "id": "b68918bc",
   "metadata": {},
   "outputs": [],
   "source": [
    "plot_function(\n",
    "    my_function=objective_function,\n",
    "    label='Negative altitude',\n",
    "    x_label='Time (sec.)',\n",
    "    y_label='Altitude with opposite sign (m.)',\n",
    "    x_min=0,\n",
    "    x_max=12,\n",
    "    y_min=-150,\n",
    "    y_max=0,\n",
    ")\n",
    "plt.show()\n"
   ]
  },
  {
   "cell_type": "markdown",
   "id": "3d697e20",
   "metadata": {},
   "source": [
    "Initial solution"
   ]
  },
  {
   "cell_type": "code",
   "execution_count": null,
   "id": "5db3f66e",
   "metadata": {},
   "outputs": [],
   "source": [
    "x0 = ????\n"
   ]
  },
  {
   "cell_type": "markdown",
   "id": "5cbd5a7f",
   "metadata": {},
   "source": [
    "Run the algorithm."
   ]
  },
  {
   "cell_type": "code",
   "execution_count": null,
   "id": "cbfd8833",
   "metadata": {},
   "outputs": [],
   "source": [
    "optimization_result = ????\n",
    "\n",
    "\n"
   ]
  },
  {
   "cell_type": "markdown",
   "id": "449c67b2",
   "metadata": {},
   "source": [
    "Print the raw results. Note that 'success' is set to True."
   ]
  },
  {
   "cell_type": "code",
   "execution_count": null,
   "id": "2509b2d1",
   "metadata": {},
   "outputs": [],
   "source": [
    "print(optimization_result)\n"
   ]
  },
  {
   "cell_type": "markdown",
   "id": "60b75f20",
   "metadata": {},
   "source": [
    "Print the solution with 3 significant digits. We expect:\n",
    "\n",
    "- Elapsed time:     5.1 sec.\n",
    "- Altitude reached: 127 m."
   ]
  },
  {
   "cell_type": "code",
   "execution_count": null,
   "id": "b5b2e9b7",
   "metadata": {},
   "outputs": [],
   "source": [
    "print(f'Elapsed time:     {optimization_result.x[0]:.3g} sec.')\n",
    "print(f'Altitude reached: {-optimization_result.fun:.3g} m.')"
   ]
  }
 ],
 "metadata": {},
 "nbformat": 4,
 "nbformat_minor": 5
}

{
 "cells": [
  {
   "cell_type": "markdown",
   "id": "4fe011cb",
   "metadata": {},
   "source": [
    "# Standard form\n",
    "\n",
    "## Introduction to optimization and operations research.\n",
    "\n",
    "Michel Bierlaire\n"
   ]
  },
  {
   "cell_type": "code",
   "execution_count": null,
   "id": "2e187e7b",
   "metadata": {},
   "outputs": [],
   "source": [
    "\n",
    "import numpy as np\n"
   ]
  },
  {
   "cell_type": "markdown",
   "id": "35124608",
   "metadata": {},
   "source": [
    "In linear optimization, a problem in standard form is"
   ]
  },
  {
   "cell_type": "markdown",
   "id": "e662bedd",
   "metadata": {},
   "source": [
    "- a minimization problem,\n",
    "- where each constraint $j$ is an equality constraint of the form\n",
    "$$\n",
    "\\sum_i a_{ij} x_i =  b_j,\n",
    "$$\n",
    "- all variables are non negative."
   ]
  },
  {
   "cell_type": "markdown",
   "id": "fd5728c2",
   "metadata": {},
   "source": [
    "It is written as:\n",
    "$$\n",
    "\\min_{x \\in \\mathbb{R}^n} c^T x\n",
    "$$\n",
    "subject to\n",
    "\\begin{align*}\n",
    "Ax &= b, \\\\\n",
    "x &\\geq 0,\n",
    "\\end{align*}\n",
    "where $A \\in \\mathbb{R}^{m \\times n}$, $b \\in \\mathbb{R}^m$, and $c \\in \\mathbb{R}^n$. Equivalently,\n",
    "$$\n",
    "\\min_{x \\in \\mathbb{R}^n} \\sum_{i=1}^n c_i x_i\n",
    "$$\n",
    "subject to\n",
    "\\begin{align*}\n",
    "\\sum_{i=1}^n a_{ij} x_i &= b_j, & j=1, \\ldots, m, \\\\\n",
    "x_i &\\geq 0, & i = 1, \\ldots, n.\n",
    "\\end{align*}\n",
    "\n",
    "\n",
    "Write the following problem in standard form :\n",
    "$$\n",
    "\\max_{x \\in \\mathbb{R}^4} -2x_1 + 5x_2 - 7x_3 + 4x_4\n",
    "$$\n",
    "subject to\n",
    "\\begin{align*}\n",
    "2x_1 + 4x_2 - 6x_3 & \\geq 7,\\\\\n",
    "8x_1 - 5x_3 + 3x_4 & \\leq 8,\\\\\n",
    "-2x_2 - 5x_3 + 4x_4 & \\leq -6,\\\\\n",
    "1 \\leq x_1&\\leq 4,\\\\\n",
    "x_2 & \\geq -3,\\\\\n",
    "x_3 &\\in \\mathbb{R},\\\\\n",
    "x_4 &\\leq 0.\n",
    "\\end{align*}"
   ]
  },
  {
   "cell_type": "markdown",
   "id": "85a3e78c",
   "metadata": {},
   "source": [
    "Store in a `numpy array` the data of the problem, that is, the matrix $A$, and the vectors $b$ and $c$.\n",
    "What are the values of $m$ and $n$? Verify the shapes of the arrays."
   ]
  },
  {
   "cell_type": "markdown",
   "id": "80450203",
   "metadata": {},
   "source": [
    "In order to transform the problem into a minimization problem, recall\n",
    "that $\\max f(x)$ is equivalent to $-\\min -f(x)$.  In practice, it is\n",
    "common to consider the problem $\\min -f(x)$ instead, and ignore the first\n",
    "``minus''.  Therefore, we can consider the problem with the\n",
    "objective function:\n",
    "\\begin{equation*}\n",
    "\\min_{x\\in\\mathbb{R}^4} 2x_1 - 5x_2 + 7x_3 - 4 x_4.\n",
    "\\end{equation*}\n",
    "\n",
    "We now reformulate all the constraints of the problem such that we obtain\n",
    "$Ax =b, x \\geq 0$.\n",
    "\n",
    "Consider the first three constraints:\n",
    "\\begin{align*}\n",
    "2x_1 + 4x_2 - 6x_3 & \\geq 7,\\\\\n",
    "8x_1 - 5x_3 + 3x_4 & \\leq 8,\\\\\n",
    "-2x_2 - 5x_3 + 4x_4 & \\leq -6.\\\\\n",
    "\\end{align*}\n",
    "They can  be transformed into equality constraints by introducing\n",
    "slack variables $e_1, e_2, e_3 \\geq 0$ as follows:\n",
    "\\begin{align*}\n",
    "2x_1 + 4x_2 - 6x_3 - e_1 & = 7,  \\\\\n",
    "8x_1 - 5x_3 + 3x_4 + e_2 & = 8,   \\\\\n",
    "-2x_2 -5x_3+4x_4 + e_3 & = -6.\n",
    "\\end{align*}\n",
    "Note that the slack variable $e_1$ is associated with a negative sign,\n",
    "because it is introduced in a $\\geq$ constraint.\n",
    "\n",
    "\n",
    "The next constraint\n",
    "$$\n",
    "1 \\leq x_1 \\leq 4\n",
    "$$\n",
    "is equivalent to the two following constraints\n",
    "\\begin{align*}\n",
    "x_1 \\geq 1, \\\\\n",
    "x_1 \\leq 4.\n",
    "\\end{align*}\n",
    "Here we use a change of variable:\n",
    "$$\n",
    "x_1'= x_1 - 1.\n",
    "$$\n",
    "The constraint  $x_1 \\geq 1$ becomes\n",
    "$$\n",
    "x_1' + 1 \\geq 1\n",
    "\\Longleftrightarrow x_1' \\geq 0.\n",
    "$$\n",
    "This is a non negativity\n",
    "constraint on $ x_1 '$. Therefore, we are left only with   a lower\n",
    "inequality constraint, that is, $x_1 \\leq 4 $, which becomes\n",
    "$$\n",
    "x_1' + 1 \\leq 4 \\Longleftrightarrow x_1' \\leq 3.\n",
    "$$\n",
    "We now introduce the slack variable $e_4 \\geq 0$ in order to transform this constraint into an equality\n",
    "constraint:\n",
    "$$\n",
    "x_1' + e_4 = 3.\n",
    "$$\n",
    "\n",
    "It remains to replace $x_1$ with $x'_1+1$ in the objective function and all the constraints.\n",
    "For the last constraint, $x_2 \\geq -3$, we also use a change of\n",
    "variable. We define a new variable\n",
    "$x'_2 \\geq 0$ as follows\n",
    "$$\n",
    "x'_2 = x_2 + 3.\n",
    "$$\n",
    "\n",
    "A non-negativity constraint on $x'_2$ ensures that $x_2 \\geq -3$.\n",
    "We replace $x_2$ with ($x'_2-3$) in the objective function and all the constraints.\n",
    "\n",
    "In standard form, all variables must be non negative. However, in the\n",
    "original problem, the variable $x_3$ can take any real value, positive\n",
    "or negative.  Therefore, we introduce two new non negative variables\n",
    "$x_3^+ \\geq0 $ and $x_3^- \\geq 0$, representing respectively the\n",
    "positive and negative part of $x_3$. The change of variable is given\n",
    "by\n",
    "$$\n",
    "x_3 = x_3^+ - x_3^-.\n",
    "$$\n",
    "We replace $ x_3 $ with ($ x_3 ^ + - x_3 ^ - $)  in the objective function and all the constraints.\n",
    "\n",
    "In the original problem, $x_4$ must be non positive: $ x_4 \\leq 0$. To\n",
    "comply with the specification of the standard form, we introduce  a\n",
    "new variable $ x'_4 \\geq 0 $ defined as\n",
    "$$\n",
    "x'_4 = -x_4.\n",
    "$$\n",
    "We replace $ x_4 $ with $ -x'_4 $ in the objective function and all the constraints.\n",
    "The vector of decision variables is now\n",
    "$$\n",
    "x = \\left(\\begin{array}{c} x_1' \\\\ x_2' \\\\ x_3^+ \\\\ x_3^- \\\\ x_4' \\\\ e_1 \\\\ e_2 \\\\ e_3\n",
    "\\\\ e_4 \\end{array} \\right)\\in \\mathbb{R}^9,\n",
    "$$\n",
    "all of them being non negative.\n",
    "\n",
    "By putting  everything  together, the problem in standard form is:\n",
    "$$\n",
    "\\min_{x\\in\\mathbb{R}^9}  2 (x'_1+1)- 5(x_2'-3) + 7(x_3^+ - x_3^-)- 4(- x_4')\n",
    "$$\n",
    "subject to\n",
    "\\begin{align*}\n",
    "2 (x'_1+1) + 4(x_2'-3) - 6(x_3^+-x_3^-) - e_1 & = 7,  \\\\\n",
    "8 (x'_1+1) - 5(x_3^+-x_3^-) + 3(- x_4') + e_2 & = 8,   \\\\\n",
    "-2(x_2'-3) -5(x_3^+-x_3^-) + 4(- x_4') + e_3 & = -6,   \\\\\n",
    "x'_1  + e_4 &= 3,   \\\\\n",
    "x'_1, x'_2, x^+_3, x^-_3, x'_4, e_1, e_2, e_3, e_4 &\\geq 0,\n",
    "\\end{align*}\n",
    "that is\n",
    "$$\n",
    "\\min_{x\\in\\mathbb{R}^9!} 2x'_1 - 5x_2' + 7x_3^+ - 7x_3^-  + 4x_4' + 17\n",
    "$$\n",
    "\\begin{align*}\n",
    "2x'_1 + 4x_2' - 6x_3^+ + 6x_3^- - e_1 & = 17, \\\\\n",
    "8x'_1 - 5x_3^+ + 5x_3^- - 3x_4' + e_2 & = 0,  \\\\\n",
    "-2x_2' -5x_3^+ + 5x_3^- - 4x_4' + e_3 & = -12,  \\\\\n",
    "x'_1 + e_4 &= 3, \\\\\n",
    "x'_1, x'_2, x^+_3, x^-_3, x'_4, e_1, e_2, e_3, e_4 &\\geq 0.\n",
    "\\end{align*}\n",
    "\n",
    "\n",
    "**Note**:\n",
    "\n",
    "There is another method to handle the constraint  $  1 \\leq x_1\\leq 4$.\n",
    "Indeed, we can  introduce slack variables, $e_5, e_6 \\geq 0$ as follows:\n",
    "\\begin{align*}\n",
    "x_1 - e_5 = 1,   \\\\\n",
    "x_1 + e_6 = 4.\n",
    "\\end{align*}\n",
    "Note that the non negativity constraint  on $ x_1 $  is redundant with\n",
    "the constraint $ x_1 - e_5 = 1 $. Indeed, since $e_5 \\geq 0 $, $x_1 =\n",
    "e_5 + 1 $ is necessarily non negative. However,  in standard form all\n",
    "variables must be non negative. Even if it is redundant."
   ]
  },
  {
   "cell_type": "markdown",
   "id": "e07d651c",
   "metadata": {},
   "source": [
    "The dimensions of the problem in standard form are:"
   ]
  },
  {
   "cell_type": "markdown",
   "id": "1ee902cb",
   "metadata": {},
   "source": [
    "Number of variables:"
   ]
  },
  {
   "cell_type": "code",
   "execution_count": null,
   "id": "e57af19d",
   "metadata": {},
   "outputs": [],
   "source": [
    "n = 9\n"
   ]
  },
  {
   "cell_type": "markdown",
   "id": "a6b80cdb",
   "metadata": {},
   "source": [
    "Number of constraints:"
   ]
  },
  {
   "cell_type": "code",
   "execution_count": null,
   "id": "0d2264af",
   "metadata": {},
   "outputs": [],
   "source": [
    "m = 4\n",
    "\n"
   ]
  },
  {
   "cell_type": "markdown",
   "id": "102dcc6e",
   "metadata": {},
   "source": [
    "Matrix $A$"
   ]
  },
  {
   "cell_type": "markdown",
   "id": "8d926f4a",
   "metadata": {},
   "source": [
    "In order to store the data, we need to associate each variable with a coefficient."
   ]
  },
  {
   "cell_type": "markdown",
   "id": "63685b0a",
   "metadata": {},
   "source": [
    "\n",
    "| $x'_1$ | $x'_2$ | $x^+_3$ | $x^-_3$ | $x'_4$ | $e_1$ | $e_2$ | $e_3$ | $e_4$ |\n",
    "| -------|--------|---------|---------|--------|-------|-------|-------|-------|\n",
    "| 2      |  4     | -6      | 6       |   0    | -1    |  0    |  0    |  0    |\n",
    "| 8      |  0     | -5      | 5       |  -3    |  0    |  1    |  0    |  0    |\n",
    "| 0      | -2     | -5      | 5       |  -4    |  0    |  0    |  1    |  0    |\n",
    "| 1      |  0     |   0     | 0       |   0    |  0    |  0    |  0    |  1    |"
   ]
  },
  {
   "cell_type": "code",
   "execution_count": null,
   "id": "14f188c0",
   "metadata": {},
   "outputs": [],
   "source": [
    "\n",
    "A = np.array(\n",
    "    [\n",
    "        [2, 4, -6, 6, 0, -1, 0, 0, 0],\n",
    "        [8, 0, -5, 5, -3, 0, 1, 0, 0],\n",
    "        [0, -2, -5, 5, -4, 0, 0, 1, 0],\n",
    "        [1, 0, 0, 0, 0, 0, 0, 0, 1],\n",
    "    ]\n",
    ")\n"
   ]
  },
  {
   "cell_type": "markdown",
   "id": "bf25e068",
   "metadata": {},
   "source": [
    "Dimensions of the matrix"
   ]
  },
  {
   "cell_type": "code",
   "execution_count": null,
   "id": "1f40350e",
   "metadata": {},
   "outputs": [],
   "source": [
    "number_of_rows = A.shape[0]\n",
    "print(f'Number of rows: {number_of_rows}')\n",
    "number_of_columns = A.shape[1]\n",
    "print(f'Number of columns: {number_of_columns}')\n"
   ]
  },
  {
   "cell_type": "markdown",
   "id": "db0803b7",
   "metadata": {},
   "source": [
    "The number of rows should be m"
   ]
  },
  {
   "cell_type": "code",
   "execution_count": null,
   "id": "b8d398b0",
   "metadata": {},
   "outputs": [],
   "source": [
    "assert number_of_rows == m\n"
   ]
  },
  {
   "cell_type": "markdown",
   "id": "f736418d",
   "metadata": {},
   "source": [
    "The number of columns should be n"
   ]
  },
  {
   "cell_type": "code",
   "execution_count": null,
   "id": "d2940bed",
   "metadata": {},
   "outputs": [],
   "source": [
    "assert number_of_columns == n\n"
   ]
  },
  {
   "cell_type": "markdown",
   "id": "8f827cbb",
   "metadata": {},
   "source": [
    "Vector $c$."
   ]
  },
  {
   "cell_type": "markdown",
   "id": "a10aab78",
   "metadata": {},
   "source": [
    "| $x'_1$ | $x'_2$ | $x^+_3$ | $x^-_3$ | $x'_4$ | $e_1$ | $e_2$ | $e_3$ | $e_4$ |\n",
    "| -------|--------|---------|---------|--------|-------|-------|-------|-------|\n",
    "|  2     | - 5    |   7     |  - 7    |   4    |   0   |   0   |    0  |   0   |"
   ]
  },
  {
   "cell_type": "markdown",
   "id": "e9dfbb66",
   "metadata": {},
   "source": [
    "Note that the constant 17 does not play any role in the optimization problem and can be ignored."
   ]
  },
  {
   "cell_type": "code",
   "execution_count": null,
   "id": "09b15853",
   "metadata": {},
   "outputs": [],
   "source": [
    "c = np.array([2, -5, 7, -7, 4, 0, 0, 0, 0])\n"
   ]
  },
  {
   "cell_type": "markdown",
   "id": "397f747f",
   "metadata": {},
   "source": [
    "Verify the length of the array."
   ]
  },
  {
   "cell_type": "code",
   "execution_count": null,
   "id": "1b349a3b",
   "metadata": {},
   "outputs": [],
   "source": [
    "assert len(c) == n\n"
   ]
  },
  {
   "cell_type": "markdown",
   "id": "8df641b6",
   "metadata": {},
   "source": [
    "Vector $b$"
   ]
  },
  {
   "cell_type": "markdown",
   "id": "6ac7d30b",
   "metadata": {},
   "source": [
    "Finally, the vector b is the right hand side of the constraints:"
   ]
  },
  {
   "cell_type": "code",
   "execution_count": null,
   "id": "fbf61b55",
   "metadata": {},
   "outputs": [],
   "source": [
    "b = np.array([7, 8, -6, 3])\n"
   ]
  },
  {
   "cell_type": "markdown",
   "id": "06396276",
   "metadata": {},
   "source": [
    "Verify the length of the array."
   ]
  },
  {
   "cell_type": "code",
   "execution_count": null,
   "id": "13d3a148",
   "metadata": {},
   "outputs": [],
   "source": [
    "assert len(b) == m"
   ]
  }
 ],
 "metadata": {},
 "nbformat": 4,
 "nbformat_minor": 5
}

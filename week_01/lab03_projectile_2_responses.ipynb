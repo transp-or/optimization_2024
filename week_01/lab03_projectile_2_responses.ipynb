{
 "cells": [
  {
   "cell_type": "markdown",
   "id": "ba78ce6c",
   "metadata": {},
   "source": [
    "# Projectile\n",
    "## Second exercise\n",
    "\n",
    "## Introduction to optimization and operations research.\n",
    "\n",
    "Michel Bierlaire\n"
   ]
  },
  {
   "cell_type": "markdown",
   "id": "0d91b0a9",
   "metadata": {},
   "source": [
    "A projectile is launched vertically at a rate of 50 meters per second in the absence of wind. After how long will it\n",
    "reach again the ground, that is, its **lowest** altitude?"
   ]
  },
  {
   "cell_type": "markdown",
   "id": "0f09407a",
   "metadata": {},
   "source": [
    "Import necessary packages."
   ]
  },
  {
   "cell_type": "code",
   "execution_count": null,
   "id": "3d8bb2b2",
   "metadata": {},
   "outputs": [],
   "source": [
    "from scipy.optimize import minimize, OptimizeResult\n",
    "\n",
    "from teaching_optimization.plot_function import plot_function\n",
    "\n"
   ]
  },
  {
   "cell_type": "markdown",
   "id": "719adab3",
   "metadata": {},
   "source": [
    "First implement the calculation of the altitude of the projectile using the formula for uniformly accelerated\n",
    "movement:  $$f(t) = x_o + v_0 t -\\frac{g}{2} t^2,$$\n",
    "where $x_0$ is the initial altitude, $v_0$ the initial speed, and $g$ the acceleration due\n",
    "to gravity."
   ]
  },
  {
   "cell_type": "markdown",
   "id": "c6252308",
   "metadata": {},
   "source": [
    "Define a constant."
   ]
  },
  {
   "cell_type": "code",
   "execution_count": null,
   "id": "2849d225",
   "metadata": {},
   "outputs": [],
   "source": [
    "GRAVITY = 9.81\n",
    "\n"
   ]
  },
  {
   "cell_type": "markdown",
   "id": "605d167b",
   "metadata": {},
   "source": [
    "Write a function to calculate the height of the projectile, using the formula."
   ]
  },
  {
   "cell_type": "code",
   "execution_count": null,
   "id": "fb2afbfe",
   "metadata": {},
   "outputs": [],
   "source": [
    "def height(time: float, initial_altitude: float, initial_speed: float) -> float:\n",
    "    \"\"\"\n",
    "    Calculate the height of the projectile, using the formula.\n",
    "\n",
    "    :param time: time at which we need the height.\n",
    "    :param initial_altitude: initial altitude x_0.\n",
    "    :param initial_speed: initial speed v_0.\n",
    "    :return: height.\n",
    "    \"\"\"\n",
    "    return (\n",
    "        initial_altitude + initial_speed * time - GRAVITY * time * time / 2\n",
    "    )\n",
    "\n"
   ]
  },
  {
   "cell_type": "markdown",
   "id": "21cd6b29",
   "metadata": {},
   "source": [
    "Define the objective function. The \"decision\" variable is the time."
   ]
  },
  {
   "cell_type": "code",
   "execution_count": null,
   "id": "e7494428",
   "metadata": {},
   "outputs": [],
   "source": [
    "def objective_function(x: float) -> float:\n",
    "    \"\"\"Objective function of the optimization problem.\n",
    "    Here, the \"decision\" variable is the time. Here, we do not change the sign of\n",
    "    the objective function as we need to solve a minimization problem.\n",
    "    \"\"\"\n",
    "    return height(time=x, initial_altitude=0, initial_speed=50)\n",
    "\n"
   ]
  },
  {
   "cell_type": "markdown",
   "id": "2edde4f3",
   "metadata": {},
   "source": [
    "Plot the objective function. Make a visual guess of the solution."
   ]
  },
  {
   "cell_type": "code",
   "execution_count": null,
   "id": "41588f9d",
   "metadata": {},
   "outputs": [],
   "source": [
    "plot_function(\n",
    "    my_function=objective_function,\n",
    "    label='Altitude',\n",
    "    x_label='Time (sec.)',\n",
    "    y_label='Altitude (m.)',\n",
    "    x_min=0,\n",
    "    x_max=12,\n",
    "    y_min=0,\n",
    "    y_max=150,\n",
    ")\n"
   ]
  },
  {
   "cell_type": "markdown",
   "id": "9cbb62da",
   "metadata": {},
   "source": [
    "According to the plot, the solution we are looking for should be something slightly larger than 10 sec."
   ]
  },
  {
   "cell_type": "markdown",
   "id": "c582470c",
   "metadata": {},
   "source": [
    "Initial solution"
   ]
  },
  {
   "cell_type": "code",
   "execution_count": null,
   "id": "f4480dc8",
   "metadata": {},
   "outputs": [],
   "source": [
    "x0 = 0.0\n"
   ]
  },
  {
   "cell_type": "markdown",
   "id": "bd564475",
   "metadata": {},
   "source": [
    "Run the algorithm."
   ]
  },
  {
   "cell_type": "code",
   "execution_count": null,
   "id": "0f320a28",
   "metadata": {},
   "outputs": [],
   "source": [
    "the_result = minimize(fun=objective_function, x0=x0)\n",
    "\n"
   ]
  },
  {
   "cell_type": "markdown",
   "id": "7c530afe",
   "metadata": {},
   "source": [
    "Function that prints the results."
   ]
  },
  {
   "cell_type": "code",
   "execution_count": null,
   "id": "d687095c",
   "metadata": {},
   "outputs": [],
   "source": [
    "def print_results(optimization_result: OptimizeResult) -> None:\n",
    "    # Print the raw results.\n",
    "    print(optimization_result)\n",
    "    print()\n",
    "    # Print the solution with 3 significant digits.\n",
    "    print(f'Elapsed time:     {optimization_result.x[0]:.3g} sec.')\n",
    "    print(f'Altitude reached: {optimization_result.fun:.3g} m.')\n",
    "\n"
   ]
  },
  {
   "cell_type": "markdown",
   "id": "91dc7684",
   "metadata": {},
   "source": [
    "Expected results:\n",
    "\n",
    "- Elapsed time:     10.2 sec.\n",
    "- Altitude reached: 0 m."
   ]
  },
  {
   "cell_type": "code",
   "execution_count": null,
   "id": "cc16b710",
   "metadata": {},
   "outputs": [],
   "source": [
    "print_results(optimization_result=the_result)\n"
   ]
  },
  {
   "cell_type": "markdown",
   "id": "f3e14456",
   "metadata": {},
   "source": [
    "Those results do not make sense.\n",
    "Try to fix the problem by:\n",
    "\n",
    "- defining constraints,\n",
    "- changing the starting point\n",
    "\n",
    "Actually, the above optimization problem is **unbounded** and no solution exists. Our formulation is incomplete.\n",
    "Time can only go forward, and therefore must be non-negative.\n",
    "And altitude cannot be negative either. This has to be mentioned to the algorithm."
   ]
  },
  {
   "cell_type": "markdown",
   "id": "cecb03e1",
   "metadata": {},
   "source": [
    "First, we impose a lower bound on the variable."
   ]
  },
  {
   "cell_type": "code",
   "execution_count": null,
   "id": "c77d6ed8",
   "metadata": {},
   "outputs": [],
   "source": [
    "bounds = [(0, None)]\n",
    "\n"
   ]
  },
  {
   "cell_type": "markdown",
   "id": "f98a7a14",
   "metadata": {},
   "source": [
    "\n",
    "\n",
    "Second, we introduce a constraint on the altitude. In ``scipy``, inequality constraints are coded\n",
    "as :math:`c(point) \\geq 0`. In our case, :math:`c(point)` represents the altitude."
   ]
  },
  {
   "cell_type": "code",
   "execution_count": null,
   "id": "94868360",
   "metadata": {},
   "outputs": [],
   "source": [
    "def inequality_constraint(x: float) -> float:\n",
    "    \"\"\"Altitude of the projectile\"\"\"\n",
    "    return height(time=x, initial_altitude=0, initial_speed=50)\n",
    "\n"
   ]
  },
  {
   "cell_type": "markdown",
   "id": "11a64c07",
   "metadata": {},
   "source": [
    "\n",
    "\n",
    "Run the algorithm."
   ]
  },
  {
   "cell_type": "code",
   "execution_count": null,
   "id": "1a38d16d",
   "metadata": {},
   "outputs": [],
   "source": [
    "x0 = 0\n",
    "the_result = minimize(\n",
    "    fun=objective_function,\n",
    "    x0=x0,\n",
    "    constraints={'type': 'ineq', 'fun': inequality_constraint},\n",
    "    bounds=bounds,\n",
    ")"
   ]
  },
  {
   "cell_type": "markdown",
   "id": "8acdb9c2",
   "metadata": {},
   "source": [
    "\n",
    "Note that 'success' is set to True."
   ]
  },
  {
   "cell_type": "code",
   "execution_count": null,
   "id": "84aa911d",
   "metadata": {},
   "outputs": [],
   "source": [
    "print_results(optimization_result=the_result)"
   ]
  },
  {
   "cell_type": "markdown",
   "id": "beece164",
   "metadata": {},
   "source": [
    "\n",
    "The algorithm has returned a solution which is now correct. But this is not the one that we needed.\n",
    "We know from the previous exercise that the projectile reaches its highest altitude after 5.1 sec. Therefore, we can\n",
    "impose, without loss of generality, that the time should be at least 1 sec."
   ]
  },
  {
   "cell_type": "code",
   "execution_count": null,
   "id": "22eed84e",
   "metadata": {},
   "outputs": [],
   "source": [
    "x0 = 0\n",
    "bounds = [(1, None)]\n",
    "the_result = minimize(\n",
    "    fun=objective_function,\n",
    "    x0=x0,\n",
    "    constraints={'type': 'ineq', 'fun': inequality_constraint},\n",
    "    bounds=bounds,\n",
    ")"
   ]
  },
  {
   "cell_type": "markdown",
   "id": "06d66878",
   "metadata": {},
   "source": [
    "\n",
    "Note that 'success' is set to True."
   ]
  },
  {
   "cell_type": "code",
   "execution_count": null,
   "id": "6f0a1016",
   "metadata": {},
   "outputs": [],
   "source": [
    "print_results(optimization_result=the_result)"
   ]
  },
  {
   "cell_type": "markdown",
   "id": "f074a65c",
   "metadata": {},
   "source": [
    "\n",
    "This is again incorrect. According to the plot, the solution should be something larger than 10 sec.\n",
    "The problem is that the algorithm has been blocked in a local optimum. In order to escape from it, we change the\n",
    "starting point,"
   ]
  },
  {
   "cell_type": "code",
   "execution_count": null,
   "id": "03078f19",
   "metadata": {},
   "outputs": [],
   "source": [
    "x0 = 6.0\n",
    "bounds = [(1, None)]\n",
    "the_result = minimize(\n",
    "    fun=objective_function,\n",
    "    x0=x0,\n",
    "    constraints={'type': 'ineq', 'fun': inequality_constraint},\n",
    "    bounds=bounds,\n",
    ")"
   ]
  },
  {
   "cell_type": "markdown",
   "id": "6129ba04",
   "metadata": {},
   "source": [
    "\n",
    "Note that 'success' is set to True."
   ]
  },
  {
   "cell_type": "code",
   "execution_count": null,
   "id": "3f0285df",
   "metadata": {},
   "outputs": [],
   "source": [
    "print_results(optimization_result=the_result)"
   ]
  },
  {
   "cell_type": "markdown",
   "id": "e016023f",
   "metadata": {},
   "source": [
    "\n",
    "This is the expected result. Note that the altitude is not exactly zero, but a number very close to zero.\n",
    "Such \"numerical features\" are happening often in optimization."
   ]
  }
 ],
 "metadata": {},
 "nbformat": 4,
 "nbformat_minor": 5
}

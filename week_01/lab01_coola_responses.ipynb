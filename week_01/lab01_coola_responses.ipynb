{
 "cells": [
  {
   "cell_type": "markdown",
   "id": "92d0b21a",
   "metadata": {},
   "source": [
    "# Coola-Coola\n",
    "\n",
    "## Introduction to optimization and operations research.\n",
    "\n",
    "Michel Bierlaire\n"
   ]
  },
  {
   "cell_type": "markdown",
   "id": "dfbf707c",
   "metadata": {},
   "source": [
    "The company Coola-Coola Ltd. wants to design a can of soda of volume\n",
    "0.33 liters. They need to set the dimensions (in centimeters) of this\n",
    "can to use the minimum amount of aluminium, knowing that the form of the can is a\n",
    "perfect cylinder, and the thickness of the aluminium is the same\n",
    "everywhere. Write the problem as an optimization problem. Then, write a Python code to solve it, using the\n",
    "[scipy.minimize](https://docs.scipy.org/doc/scipy/reference/generated/scipy.optimize.minimize.html) function."
   ]
  },
  {
   "cell_type": "markdown",
   "id": "7d3aaace",
   "metadata": {},
   "source": [
    "Make sure to read the documentation first:\n",
    "[click here](https://docs.scipy.org/doc/scipy/reference/generated/scipy.optimize.minimize.html)"
   ]
  },
  {
   "cell_type": "markdown",
   "id": "d30b8899",
   "metadata": {},
   "source": [
    "Import necessary packages."
   ]
  },
  {
   "cell_type": "code",
   "execution_count": null,
   "id": "23a5f4ff",
   "metadata": {},
   "outputs": [],
   "source": [
    "import numpy as np\n",
    "from scipy.optimize import minimize\n",
    "\n"
   ]
  },
  {
   "cell_type": "markdown",
   "id": "c6254eb3",
   "metadata": {},
   "source": [
    "We first define a function calculating the surface. If $r$ is the radius, and $h$ the height, we have:\n",
    "\n",
    "- Each basis is a circle of radius $r$, so its surface is $\\pi r^2$.\n",
    "- The side of the can is a rectangle of area $2\\pi r h$.\n",
    "\n",
    "The total surface is $ 2 \\pi r^2 + 2 \\pi r h$."
   ]
  },
  {
   "cell_type": "code",
   "execution_count": null,
   "id": "c233b753",
   "metadata": {},
   "outputs": [],
   "source": [
    "def surface(radius: float, height: float) -> float:\n",
    "    return 2 * np.pi * radius * (radius + height)\n",
    "\n"
   ]
  },
  {
   "cell_type": "markdown",
   "id": "dcf8c5a3",
   "metadata": {},
   "source": [
    "We then define a function calculating the volume, that is $\\pi r^2 h$."
   ]
  },
  {
   "cell_type": "code",
   "execution_count": null,
   "id": "e926596e",
   "metadata": {},
   "outputs": [],
   "source": [
    "def volume(radius: float, height: float) -> float:\n",
    "    return np.pi * radius * radius * height\n",
    "\n"
   ]
  },
  {
   "cell_type": "markdown",
   "id": "cb347026",
   "metadata": {},
   "source": [
    "Prepare the input for the optimization algorithm."
   ]
  },
  {
   "cell_type": "code",
   "execution_count": null,
   "id": "fbda80e8",
   "metadata": {},
   "outputs": [],
   "source": [
    "def objective_function(x: list[float]) -> float:\n",
    "    \"\"\"point[0]: radius, point[1]: height\"\"\"\n",
    "    return surface(\n",
    "        radius=x[0], height=x[1]\n",
    "    )\n",
    "\n",
    "\n",
    "def constraint(x: list[float]) -> float:\n",
    "    \"\"\"point[0]: radius, point[1]: height\n",
    "    volume = 330\n",
    "    \"\"\"\n",
    "    the_volume = 330\n",
    "    return volume(radius=x[0], height=x[1]) - the_volume\n",
    "\n"
   ]
  },
  {
   "cell_type": "markdown",
   "id": "ad4cc774",
   "metadata": {},
   "source": [
    "Lower bounds: 0. No upper bounds."
   ]
  },
  {
   "cell_type": "code",
   "execution_count": null,
   "id": "c9ce4554",
   "metadata": {},
   "outputs": [],
   "source": [
    "bounds = [(0, None), (0, None)]\n",
    "\n"
   ]
  },
  {
   "cell_type": "markdown",
   "id": "20b157fc",
   "metadata": {},
   "source": [
    "Starting point."
   ]
  },
  {
   "cell_type": "code",
   "execution_count": null,
   "id": "113fb39b",
   "metadata": {},
   "outputs": [],
   "source": [
    "x0 = [1.0, 1.0]\n"
   ]
  },
  {
   "cell_type": "markdown",
   "id": "3947bfe5",
   "metadata": {},
   "source": [
    "Run the algorithm. Check the documentation of the minimize function of `scipy`."
   ]
  },
  {
   "cell_type": "code",
   "execution_count": null,
   "id": "beb8f92a",
   "metadata": {},
   "outputs": [],
   "source": [
    "optimization_result = minimize(\n",
    "    fun=objective_function,\n",
    "    x0=np.array(x0),\n",
    "    constraints={'type': 'eq', 'fun': constraint},\n",
    "    bounds=bounds,\n",
    ")\n",
    "\n"
   ]
  },
  {
   "cell_type": "markdown",
   "id": "4bb45ef7",
   "metadata": {},
   "source": [
    "Print the raw results. Note that 'success' is set to True."
   ]
  },
  {
   "cell_type": "code",
   "execution_count": null,
   "id": "fbfe52d2",
   "metadata": {},
   "outputs": [],
   "source": [
    "print(optimization_result)\n"
   ]
  },
  {
   "cell_type": "markdown",
   "id": "b494dfad",
   "metadata": {},
   "source": [
    "Print the solution with 3 significant digits. We expect:\n",
    "\n",
    "- Optimal radius: 3.74 cm.\n",
    "- Optimal height: 7.49 cm.\n",
    "- Surface: 264 cm2."
   ]
  },
  {
   "cell_type": "code",
   "execution_count": null,
   "id": "245d90f6",
   "metadata": {},
   "outputs": [],
   "source": [
    "print(f'Optimal radius: {optimization_result.x[0]:.3g} cm.')\n",
    "print(f'Optimal height: {optimization_result.x[1]:.3g} cm.')\n",
    "print(f'Surface: {optimization_result.fun:.3g} cm2.')\n"
   ]
  },
  {
   "cell_type": "markdown",
   "id": "73f14fda",
   "metadata": {},
   "source": [
    "Ask ChatGPT to write the Python code for you and compare the results with what you have done."
   ]
  },
  {
   "cell_type": "markdown",
   "id": "fc61b4f2",
   "metadata": {},
   "source": [
    "## Here is the code that ChatGPT has created."
   ]
  },
  {
   "cell_type": "code",
   "execution_count": null,
   "id": "6513bebd",
   "metadata": {},
   "outputs": [],
   "source": [
    "\n",
    "import numpy as np\n",
    "from scipy.optimize import minimize\n",
    "\n",
    "\n"
   ]
  },
  {
   "cell_type": "markdown",
   "id": "130caf65",
   "metadata": {},
   "source": [
    "Define the objective function: surface area of the cylinder"
   ]
  },
  {
   "cell_type": "code",
   "execution_count": null,
   "id": "7e4c6eca",
   "metadata": {},
   "outputs": [],
   "source": [
    "def surface_area(r):\n",
    "    return 2 * np.pi * r**2 + 660 / r  # 660 comes from 2 * 330\n",
    "\n",
    "\n"
   ]
  },
  {
   "cell_type": "markdown",
   "id": "a70e9ce7",
   "metadata": {},
   "source": [
    "Initial guess for the radius"
   ]
  },
  {
   "cell_type": "code",
   "execution_count": null,
   "id": "21f33af2",
   "metadata": {},
   "outputs": [],
   "source": [
    "initial_radius = [5]  # in cm, just a rough guess\n"
   ]
  },
  {
   "cell_type": "markdown",
   "id": "f99386b6",
   "metadata": {},
   "source": [
    "Minimize the surface area function"
   ]
  },
  {
   "cell_type": "code",
   "execution_count": null,
   "id": "80d17570",
   "metadata": {},
   "outputs": [],
   "source": [
    "result = minimize(surface_area, initial_radius, method='BFGS')\n"
   ]
  },
  {
   "cell_type": "markdown",
   "id": "7d1d4b23",
   "metadata": {},
   "source": [
    "Optimal radius"
   ]
  },
  {
   "cell_type": "code",
   "execution_count": null,
   "id": "6795a92e",
   "metadata": {},
   "outputs": [],
   "source": [
    "r_optimal = result.x[0]\n"
   ]
  },
  {
   "cell_type": "markdown",
   "id": "cf8ce8af",
   "metadata": {},
   "source": [
    "Calculate the corresponding height using the volume constraint"
   ]
  },
  {
   "cell_type": "code",
   "execution_count": null,
   "id": "4c98f6b3",
   "metadata": {},
   "outputs": [],
   "source": [
    "h_optimal = 330 / (np.pi * r_optimal**2)\n",
    "\n",
    "print(f\"Optimal radius: {r_optimal:.4f} cm\")\n",
    "print(f\"Optimal height: {h_optimal:.4f} cm\")\n"
   ]
  }
 ],
 "metadata": {},
 "nbformat": 4,
 "nbformat_minor": 5
}

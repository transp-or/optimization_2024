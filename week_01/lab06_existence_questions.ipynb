{
 "cells": [
  {
   "cell_type": "markdown",
   "id": "31efa08d",
   "metadata": {},
   "source": [
    "# Existence\n",
    "\n",
    "## Introduction to optimization and operations research.\n",
    "\n",
    "Michel Bierlaire\n"
   ]
  },
  {
   "cell_type": "markdown",
   "id": "8165c998",
   "metadata": {},
   "source": [
    "Consider the function $f:\\mathbb{R} \\to \\mathbb{R}$ defined as\n",
    "$$\n",
    "f(x) = ax + b,\n",
    "$$\n",
    "where $a$, $b \\in \\mathbb{R}$ are parameters.\n",
    "\n",
    "For each of the following optimization problems, discuss the existence\n",
    "of an optimal solution as a function of the parameters $a$ and $b$."
   ]
  },
  {
   "cell_type": "markdown",
   "id": "93a86f3a",
   "metadata": {},
   "source": [
    "$$\n",
    "\\min_{x \\in \\mathbb{R}} ax + b.\n",
    "$$"
   ]
  },
  {
   "cell_type": "markdown",
   "id": "6b94324c",
   "metadata": {},
   "source": [
    "$$\n",
    "\\min_{x \\in \\mathbb{R}} ax + b\n",
    "$$\n",
    "subject to\n",
    "$$\n",
    "x + 2 = 1.\n",
    "$$"
   ]
  },
  {
   "cell_type": "markdown",
   "id": "575d5595",
   "metadata": {},
   "source": [
    "$$\n",
    "\\min_{x \\in \\mathbb{R}} ax + b\n",
    "$$\n",
    "subject to\n",
    "$$\n",
    "x \\leq 0.\n",
    "$$"
   ]
  },
  {
   "cell_type": "markdown",
   "id": "871610e8",
   "metadata": {},
   "source": [
    "$$\n",
    "\\min_{x \\in \\mathbb{R}} ax + b\n",
    "$$\n",
    "subject to\n",
    "$$\n",
    "x^2 \\leq 1.\n",
    "$$"
   ]
  }
 ],
 "metadata": {},
 "nbformat": 4,
 "nbformat_minor": 5
}

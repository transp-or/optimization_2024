{
 "cells": [
  {
   "cell_type": "markdown",
   "id": "75d58dd2",
   "metadata": {},
   "source": [
    "# Karush-Kuhn-Tucker\n",
    "\n",
    "## Introduction to optimization and operations research.\n",
    "\n",
    "Michel Bierlaire\n"
   ]
  },
  {
   "cell_type": "markdown",
   "id": "92607df4",
   "metadata": {},
   "source": [
    "Consider the constrained optimization problem:\n",
    "$$\n",
    "\\min_{x\\in \\mathbb{R}} x^2,\n",
    "$$\n",
    "subject to\n",
    "$$\n",
    "1 \\leq x \\leq 4.\n",
    "$$\n",
    "Show that $x^*=1$ verifies the first-order Karush-Kuhn-Tucker (KKT) optimality conditions.\n",
    "\n",
    "**Hint**: write first the problem in the general form used in the lecture:\n",
    "$$\n",
    "\\min_{x \\in \\mathbb{R}^n} f(x)\n",
    "$$\n",
    "subject to\n",
    "\\begin{align*}\n",
    "h(x) &= 0, \\;\\;  h:\\mathbb{R}^n \\to \\mathbb{R}^m, m \\geq 0, \\\\\n",
    "g(x) &\\leq 0, \\;\\; g:\\mathbb{R}^n \\to \\mathbb{R}^p, p \\geq 0. \\\\\n",
    "\\end{align*}"
   ]
  },
  {
   "cell_type": "markdown",
   "id": "07c266c4",
   "metadata": {},
   "source": [
    "Consider the problem written in the general form above, and the Lagrange multipliers involved in the KKT conditions.\n",
    "Write functions that calculate the value of the objective function, the constraints and the Lagrangian.\n",
    "Write also a function that verifies if a point is feasible, that is, if it verifies the constraints."
   ]
  },
  {
   "cell_type": "markdown",
   "id": "0b9fccdf",
   "metadata": {},
   "source": [
    "Test those functions on the following values, and verify that it does not contradict the optimality of $x=1$.\n",
    "- $x = 0$,\n",
    "- $x = 1$,\n",
    "- $x = 3$."
   ]
  },
  {
   "cell_type": "markdown",
   "id": "6e8b45cc",
   "metadata": {},
   "source": [
    "We first write the optimization problem in the general form. As there is only one variable, $n=1$.\n",
    "As there is no equality constraint, $m=0$. As there are two inequality constraints, $p=2$.\n",
    "$$\n",
    "\\min_{x \\in \\mathbb{R}} x^2\n",
    "$$\n",
    "subject to\n",
    "\\begin{align*}\n",
    "1-x & \\leq 0, \\\\\n",
    "x -4 & \\leq 0.\n",
    "\\end{align*}"
   ]
  },
  {
   "cell_type": "markdown",
   "id": "17e90ea1",
   "metadata": {},
   "source": [
    "We associate a Lagrange multiplier with each constraint, and write the Lagrangian:\n",
    "$$\n",
    "L(x, \\mu_1, \\mu_2) = x^2 + \\mu_1(1-x) + \\mu_2(x-4).\n",
    "$$\n",
    "We first verify the conditions  $g_i(x^*) \\mu^*_i = 0$, where $x^*=1$. For $i=1$, we have\n",
    "$$\n",
    "(1-x^*) \\mu^*_1 = (1-1) \\mu^*_1 = 0,\n",
    "$$\n",
    "irrespectively of the value of $\\mu^*_1$. Indeed, the first constraint is *active* at $x^*$. For $i=2$, we have\n",
    "$$\n",
    "(x^*-4) \\mu^*_2 = -3 \\mu^*_2 = 0,\n",
    "$$\n",
    "that establishes that $\\mu^*_2=0$. Indeed, the second constraint is *not active* at $x^*$.\n",
    "The derivative of the Lagrangian must be equal to zero.\n",
    "$$\n",
    "\\frac{\\partial L}{\\partial x}(x^*, \\mu^*_1, \\mu^*_2) = 2 x^* - \\mu_1^* + \\mu_2^* = 2 - \\mu_1^* = 0.\n",
    "$$\n",
    "Therefore, $\\mu_1^* = 2$, which is non negative, so that the first-order necessary conditions are verified."
   ]
  },
  {
   "cell_type": "markdown",
   "id": "db793737",
   "metadata": {},
   "source": [
    "Objective function"
   ]
  },
  {
   "cell_type": "code",
   "execution_count": null,
   "id": "e6e6f6be",
   "metadata": {},
   "outputs": [],
   "source": [
    "def objective(x: float) -> float:\n",
    "    \"\"\"Objective function\"\"\"\n",
    "    return x * x\n",
    "\n"
   ]
  },
  {
   "cell_type": "markdown",
   "id": "7500c37f",
   "metadata": {},
   "source": [
    "First constraint"
   ]
  },
  {
   "cell_type": "code",
   "execution_count": null,
   "id": "98a7e549",
   "metadata": {},
   "outputs": [],
   "source": [
    "def first_constraint(x: float) -> float:\n",
    "    \"\"\"First constraint\"\"\"\n",
    "    return 1 - x\n",
    "\n"
   ]
  },
  {
   "cell_type": "markdown",
   "id": "7c216fc6",
   "metadata": {},
   "source": [
    "Second constraint"
   ]
  },
  {
   "cell_type": "code",
   "execution_count": null,
   "id": "46e6e890",
   "metadata": {},
   "outputs": [],
   "source": [
    "def second_constraint(x: float) -> float:\n",
    "    \"\"\"Second constraint\"\"\"\n",
    "    return x - 4\n",
    "\n"
   ]
  },
  {
   "cell_type": "markdown",
   "id": "d7cf563c",
   "metadata": {},
   "source": [
    "Feasibility check"
   ]
  },
  {
   "cell_type": "code",
   "execution_count": null,
   "id": "02dbfab3",
   "metadata": {},
   "outputs": [],
   "source": [
    "def is_feasible(x: float) -> float:\n",
    "    \"\"\"Check feasibility\"\"\"\n",
    "    return first_constraint(x) <= 0 and second_constraint(x) <= 0\n",
    "\n"
   ]
  },
  {
   "cell_type": "markdown",
   "id": "29aedcbf",
   "metadata": {},
   "source": [
    "Lagrangian"
   ]
  },
  {
   "cell_type": "code",
   "execution_count": null,
   "id": "fbb8d008",
   "metadata": {},
   "outputs": [],
   "source": [
    "def lagrangian(x: float, mu_1: float, mu_2: float) -> float:\n",
    "    \"\"\"Calculates the lagrangian of the problem\"\"\"\n",
    "    return (\n",
    "        objective(x) + mu_1 * first_constraint(x) + mu_2 * second_constraint(x)\n",
    "    )\n",
    "\n"
   ]
  },
  {
   "cell_type": "code",
   "execution_count": null,
   "id": "57545065",
   "metadata": {},
   "outputs": [],
   "source": [
    "mu_1 = 2\n",
    "mu_2 = 0\n"
   ]
  },
  {
   "cell_type": "code",
   "execution_count": null,
   "id": "1e896720",
   "metadata": {},
   "outputs": [],
   "source": [
    "x = 0\n"
   ]
  },
  {
   "cell_type": "markdown",
   "id": "3facfcc4",
   "metadata": {},
   "source": [
    "Expected answer: f(0) = 0"
   ]
  },
  {
   "cell_type": "code",
   "execution_count": null,
   "id": "5ea6ab18",
   "metadata": {},
   "outputs": [],
   "source": [
    "print(f'f({x}) = {objective(x)}')\n"
   ]
  },
  {
   "cell_type": "markdown",
   "id": "73efa1dc",
   "metadata": {},
   "source": [
    "Expected answer: c1(0) = 1"
   ]
  },
  {
   "cell_type": "code",
   "execution_count": null,
   "id": "6e49bc5f",
   "metadata": {},
   "outputs": [],
   "source": [
    "print(f'c1({x}) = {first_constraint(x)}')\n"
   ]
  },
  {
   "cell_type": "markdown",
   "id": "fad48853",
   "metadata": {},
   "source": [
    "Expected answer: c2(0) = -4"
   ]
  },
  {
   "cell_type": "code",
   "execution_count": null,
   "id": "6607fa8b",
   "metadata": {},
   "outputs": [],
   "source": [
    "print(f'c2({x}) = {second_constraint(x)}')\n"
   ]
  },
  {
   "cell_type": "markdown",
   "id": "dc52736a",
   "metadata": {},
   "source": [
    "Expected answer: Is 0 feasible? False"
   ]
  },
  {
   "cell_type": "code",
   "execution_count": null,
   "id": "e3d5e003",
   "metadata": {},
   "outputs": [],
   "source": [
    "print(f'Is {x} feasible? {is_feasible(x)}')\n"
   ]
  },
  {
   "cell_type": "markdown",
   "id": "80a348d6",
   "metadata": {},
   "source": [
    "Expected answer: L(0, 2, 0) = 2"
   ]
  },
  {
   "cell_type": "code",
   "execution_count": null,
   "id": "3712f3d6",
   "metadata": {},
   "outputs": [],
   "source": [
    "print(f'L({x}, {mu_1}, {mu_2}) = {lagrangian(x, mu_1, mu_2)}')\n"
   ]
  },
  {
   "cell_type": "code",
   "execution_count": null,
   "id": "c48f5826",
   "metadata": {},
   "outputs": [],
   "source": [
    "x = 1\n"
   ]
  },
  {
   "cell_type": "markdown",
   "id": "a2e7ae7e",
   "metadata": {},
   "source": [
    "Expected answer: f(1) = 1"
   ]
  },
  {
   "cell_type": "code",
   "execution_count": null,
   "id": "f37a95ca",
   "metadata": {},
   "outputs": [],
   "source": [
    "print(f'f({x}) = {objective(x)}')\n"
   ]
  },
  {
   "cell_type": "markdown",
   "id": "2c416d03",
   "metadata": {},
   "source": [
    "Expected answer: c1(1) = 0"
   ]
  },
  {
   "cell_type": "code",
   "execution_count": null,
   "id": "29466771",
   "metadata": {},
   "outputs": [],
   "source": [
    "print(f'c1({x}) = {first_constraint(x)}')\n"
   ]
  },
  {
   "cell_type": "markdown",
   "id": "8c68a67a",
   "metadata": {},
   "source": [
    "Expected answer: c2(1) = -3"
   ]
  },
  {
   "cell_type": "code",
   "execution_count": null,
   "id": "c40c07fd",
   "metadata": {},
   "outputs": [],
   "source": [
    "print(f'c2({x}) = {second_constraint(x)}')\n"
   ]
  },
  {
   "cell_type": "markdown",
   "id": "124ff897",
   "metadata": {},
   "source": [
    "Expected answer: Is 1 feasible? True"
   ]
  },
  {
   "cell_type": "code",
   "execution_count": null,
   "id": "32b723c5",
   "metadata": {},
   "outputs": [],
   "source": [
    "print(f'Is {x} feasible? {is_feasible(x)}')\n"
   ]
  },
  {
   "cell_type": "markdown",
   "id": "cb174f5f",
   "metadata": {},
   "source": [
    "Expected answer: L(1, 2, 0) = 1"
   ]
  },
  {
   "cell_type": "code",
   "execution_count": null,
   "id": "4855a3b0",
   "metadata": {},
   "outputs": [],
   "source": [
    "print(f'L({x}, {mu_1}, {mu_2}) = {lagrangian(x, mu_1, mu_2)}')\n"
   ]
  },
  {
   "cell_type": "markdown",
   "id": "61f4109c",
   "metadata": {},
   "source": [
    "Compared to $x=0$, the value $x=1$ has a larger value for the objective function. But, as $x=0$ is\n",
    "not feasible, this does not contradict the optimality of $x=1$. When we compare the values of the\n",
    "Lagrangian, it is lower at $x=1$ than at $x=0$, consistently with the KKT theorem."
   ]
  },
  {
   "cell_type": "code",
   "execution_count": null,
   "id": "e7fd78b6",
   "metadata": {},
   "outputs": [],
   "source": [
    "x = 3\n"
   ]
  },
  {
   "cell_type": "markdown",
   "id": "deee7686",
   "metadata": {},
   "source": [
    "Expected answer: f(3) = 9"
   ]
  },
  {
   "cell_type": "code",
   "execution_count": null,
   "id": "53f63aeb",
   "metadata": {},
   "outputs": [],
   "source": [
    "print(f'f({x}) = {objective(x)}')\n"
   ]
  },
  {
   "cell_type": "markdown",
   "id": "ad477d58",
   "metadata": {},
   "source": [
    "Expected answer: c1(3) = -2"
   ]
  },
  {
   "cell_type": "code",
   "execution_count": null,
   "id": "88a252aa",
   "metadata": {},
   "outputs": [],
   "source": [
    "print(f'c1({x}) = {first_constraint(x)}')\n"
   ]
  },
  {
   "cell_type": "markdown",
   "id": "e68a648a",
   "metadata": {},
   "source": [
    "Expected answer: c2(3) = -1"
   ]
  },
  {
   "cell_type": "code",
   "execution_count": null,
   "id": "fd668218",
   "metadata": {},
   "outputs": [],
   "source": [
    "print(f'c2({x}) = {second_constraint(x)}')\n"
   ]
  },
  {
   "cell_type": "markdown",
   "id": "7648af60",
   "metadata": {},
   "source": [
    "Expected answer: Is 3 feasible? True"
   ]
  },
  {
   "cell_type": "code",
   "execution_count": null,
   "id": "87dbb996",
   "metadata": {},
   "outputs": [],
   "source": [
    "print(f'Is {x} feasible? {is_feasible(x)}')\n"
   ]
  },
  {
   "cell_type": "markdown",
   "id": "68924b29",
   "metadata": {},
   "source": [
    "Expected answer: L(3, 2, 0) = 5"
   ]
  },
  {
   "cell_type": "code",
   "execution_count": null,
   "id": "407d5ade",
   "metadata": {},
   "outputs": [],
   "source": [
    "print(f'L({x}, {mu_1}, {mu_2}) = {lagrangian(x, mu_1, mu_2)}')\n"
   ]
  },
  {
   "cell_type": "markdown",
   "id": "cfd726e5",
   "metadata": {},
   "source": [
    "Compared to $x=1$, $x=3$ (which is feasible) has a larger value both for the objective function and\n",
    "the Lagrangian."
   ]
  }
 ],
 "metadata": {},
 "nbformat": 4,
 "nbformat_minor": 5
}

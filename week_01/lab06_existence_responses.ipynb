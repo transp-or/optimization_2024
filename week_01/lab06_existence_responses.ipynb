{
 "cells": [
  {
   "cell_type": "markdown",
   "id": "e008404a",
   "metadata": {},
   "source": [
    "# Existence\n",
    "\n",
    "## Introduction to optimization and operations research.\n",
    "\n",
    "Michel Bierlaire\n"
   ]
  },
  {
   "cell_type": "markdown",
   "id": "e6c0b74d",
   "metadata": {},
   "source": [
    "Consider the function $f:\\mathbb{R} \\to \\mathbb{R}$ defined as\n",
    "$$\n",
    "f(x) = ax + b,\n",
    "$$\n",
    "where $a$, $b \\in \\mathbb{R}$ are parameters.\n",
    "\n",
    "For each of the following optimization problems, discuss the existence\n",
    "of an optimal solution as a function of the parameters $a$ and $b$."
   ]
  },
  {
   "cell_type": "markdown",
   "id": "bbd30d9b",
   "metadata": {},
   "source": [
    "$$\n",
    "\\min_{x \\in \\mathbb{R}} ax + b.\n",
    "$$"
   ]
  },
  {
   "cell_type": "markdown",
   "id": "56a07d27",
   "metadata": {},
   "source": [
    "If $a\\neq 0$, the problem is not bounded from below, and the problem\n",
    "has no infimum, and no optimum.\n",
    "The problem is bounded from below  if $a=0$. In that case, the\n",
    "infimum is equal to $b$:\n",
    "$$\n",
    "\\text{If } a=0,\\; \\inf_{x\\in\\mathbb{R}} f(x) = b.\n",
    "$$\n",
    "For any $x\\in\\mathbb{R}$, we have $f(x)=b$. Therefore, any $x\\in\\mathbb{R}$ is a\n",
    "global optimum of the problem."
   ]
  },
  {
   "cell_type": "markdown",
   "id": "96d92a8d",
   "metadata": {},
   "source": [
    "$$\n",
    "\\min_{x \\in \\mathbb{R}} ax + b\n",
    "$$\n",
    "subject to\n",
    "$$\n",
    "x + 2 = 1.\n",
    "$$"
   ]
  },
  {
   "cell_type": "markdown",
   "id": "abe59eaf",
   "metadata": {},
   "source": [
    "The only feasible point is $x=-1$, for any value of $a$ and $b$. It is also the optimum."
   ]
  },
  {
   "cell_type": "markdown",
   "id": "34244727",
   "metadata": {},
   "source": [
    "$$\n",
    "\\min_{x \\in \\mathbb{R}} ax + b\n",
    "$$\n",
    "subject to\n",
    "$$\n",
    "x \\leq 0.\n",
    "$$"
   ]
  },
  {
   "cell_type": "markdown",
   "id": "8b9710a2",
   "metadata": {},
   "source": [
    "- If $a > 0$, the problem is unbounded. Indeed, decreasing the value of\n",
    "$x$ also decreases the value of the objective function.\n",
    "- If $a = 0$, the function is constant, and any feasible $x$ is\n",
    "optimum (see the discussion of the previous case).\n",
    "- If $a < 0$, $b$ is the best lower bound, that is the infimum. As\n",
    "$f(0)=b$, $x=0$ is the optimum solution."
   ]
  },
  {
   "cell_type": "markdown",
   "id": "f19e78b7",
   "metadata": {},
   "source": [
    "$$\n",
    "\\min_{x \\in \\mathbb{R}} ax + b\n",
    "$$\n",
    "subject to\n",
    "$$\n",
    "x^2 \\leq 1.\n",
    "$$"
   ]
  },
  {
   "cell_type": "markdown",
   "id": "a9f59908",
   "metadata": {},
   "source": [
    "The constraint $x^2 \\leq 1$ is equivalent to impose that $-1 \\leq x\n",
    "\\leq 1$. In this case the feasible set is compact, and Weierstrass\n",
    "theorem guarantees the existence of a minimum."
   ]
  },
  {
   "cell_type": "markdown",
   "id": "c9d7bc6e",
   "metadata": {},
   "source": [
    "- If $a=0$,  the function is constant, and any feasible $x$ is\n",
    "optimum (see the discussion above).\n",
    "- If $a > 0$, the infimum is $b-a$, and the optimum solution is $x=-1$.\n",
    "- If $a < 0$, the infimum is $b+a$, and the optimum solution is $x=1$."
   ]
  }
 ],
 "metadata": {},
 "nbformat": 4,
 "nbformat_minor": 5
}

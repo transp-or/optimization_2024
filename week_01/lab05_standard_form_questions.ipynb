{
 "cells": [
  {
   "cell_type": "markdown",
   "id": "49240836",
   "metadata": {},
   "source": [
    "# Standard form\n",
    "\n",
    "## Introduction to optimization and operations research.\n",
    "\n",
    "Michel Bierlaire\n"
   ]
  },
  {
   "cell_type": "code",
   "execution_count": null,
   "id": "4fd479e7",
   "metadata": {},
   "outputs": [],
   "source": [
    "\n",
    "import numpy as np\n"
   ]
  },
  {
   "cell_type": "markdown",
   "id": "b9da0515",
   "metadata": {},
   "source": [
    "In linear optimization, a problem in standard form is"
   ]
  },
  {
   "cell_type": "markdown",
   "id": "c00156d0",
   "metadata": {},
   "source": [
    "- a minimization problem,\n",
    "- where each constraint $j$ is an equality constraint of the form\n",
    "$$\n",
    "\\sum_i a_{ij} x_i =  b_j,\n",
    "$$\n",
    "- all variables are non negative."
   ]
  },
  {
   "cell_type": "markdown",
   "id": "b17b15d6",
   "metadata": {},
   "source": [
    "It is written as:\n",
    "$$\n",
    "\\min_{x \\in \\mathbb{R}^n} c^T x\n",
    "$$\n",
    "subject to\n",
    "\\begin{align*}\n",
    "Ax &= b, \\\\\n",
    "x &\\geq 0,\n",
    "\\end{align*}\n",
    "where $A \\in \\mathbb{R}^{m \\times n}$, $b \\in \\mathbb{R}^m$, and $c \\in \\mathbb{R}^n$. Equivalently,\n",
    "$$\n",
    "\\min_{x \\in \\mathbb{R}^n} \\sum_{i=1}^n c_i x_i\n",
    "$$\n",
    "subject to\n",
    "\\begin{align*}\n",
    "\\sum_{i=1}^n a_{ij} x_i &= b_j, & j=1, \\ldots, m, \\\\\n",
    "x_i &\\geq 0, & i = 1, \\ldots, n.\n",
    "\\end{align*}\n",
    "\n",
    "\n",
    "Write the following problem in standard form :\n",
    "$$\n",
    "\\max_{x \\in \\mathbb{R}^4} -2x_1 + 5x_2 - 7x_3 + 4x_4\n",
    "$$\n",
    "subject to\n",
    "\\begin{align*}\n",
    "2x_1 + 4x_2 - 6x_3 & \\geq 7,\\\\\n",
    "8x_1 - 5x_3 + 3x_4 & \\leq 8,\\\\\n",
    "-2x_2 - 5x_3 + 4x_4 & \\leq -6,\\\\\n",
    "1 \\leq x_1&\\leq 4,\\\\\n",
    "x_2 & \\geq -3,\\\\\n",
    "x_3 &\\in \\mathbb{R},\\\\\n",
    "x_4 &\\leq 0.\n",
    "\\end{align*}"
   ]
  },
  {
   "cell_type": "markdown",
   "id": "85467ec4",
   "metadata": {},
   "source": [
    "Store in a `numpy array` the data of the problem, that is, the matrix $A$, and the vectors $b$ and $c$.\n",
    "What are the values of $m$ and $n$? Verify the shapes of the arrays."
   ]
  },
  {
   "cell_type": "markdown",
   "id": "e726d48c",
   "metadata": {},
   "source": [
    "The dimensions of the problem in standard form are:"
   ]
  },
  {
   "cell_type": "markdown",
   "id": "94c050eb",
   "metadata": {},
   "source": [
    "Number of variables:"
   ]
  },
  {
   "cell_type": "code",
   "execution_count": null,
   "id": "e184e5de",
   "metadata": {},
   "outputs": [],
   "source": [
    "n = ????\n"
   ]
  },
  {
   "cell_type": "markdown",
   "id": "eecabb34",
   "metadata": {},
   "source": [
    "Number of constraints:"
   ]
  },
  {
   "cell_type": "code",
   "execution_count": null,
   "id": "0e4bcb5f",
   "metadata": {},
   "outputs": [],
   "source": [
    "m = ????\n",
    "\n"
   ]
  },
  {
   "cell_type": "markdown",
   "id": "74d20f65",
   "metadata": {},
   "source": [
    "Matrix $A$"
   ]
  },
  {
   "cell_type": "code",
   "execution_count": null,
   "id": "45585167",
   "metadata": {},
   "outputs": [],
   "source": [
    "\n",
    "\n",
    "\n",
    "\n",
    "\n",
    "\n",
    "\n",
    "\n",
    "\n",
    "\n",
    "\n",
    "A = ????\n",
    "\n",
    "\n",
    "\n",
    "\n",
    "\n",
    "\n",
    "\n"
   ]
  },
  {
   "cell_type": "markdown",
   "id": "8e972572",
   "metadata": {},
   "source": [
    "Dimensions of the matrix"
   ]
  },
  {
   "cell_type": "code",
   "execution_count": null,
   "id": "46ff24cd",
   "metadata": {},
   "outputs": [],
   "source": [
    "number_of_rows = A.shape[0]\n",
    "print(f'Number of rows: {number_of_rows}')\n",
    "number_of_columns = A.shape[1]\n",
    "print(f'Number of columns: {number_of_columns}')\n"
   ]
  },
  {
   "cell_type": "markdown",
   "id": "7802da9f",
   "metadata": {},
   "source": [
    "The number of rows should be m"
   ]
  },
  {
   "cell_type": "code",
   "execution_count": null,
   "id": "b9d273b0",
   "metadata": {},
   "outputs": [],
   "source": [
    "assert number_of_rows == m\n"
   ]
  },
  {
   "cell_type": "markdown",
   "id": "f84f2668",
   "metadata": {},
   "source": [
    "The number of columns should be n"
   ]
  },
  {
   "cell_type": "code",
   "execution_count": null,
   "id": "e42ea063",
   "metadata": {},
   "outputs": [],
   "source": [
    "assert number_of_columns == n\n"
   ]
  },
  {
   "cell_type": "markdown",
   "id": "2712ae94",
   "metadata": {},
   "source": [
    "Vector $c$."
   ]
  },
  {
   "cell_type": "code",
   "execution_count": null,
   "id": "3d182c39",
   "metadata": {},
   "outputs": [],
   "source": [
    "\n",
    "\n",
    "\n",
    "\n",
    "\n",
    "\n",
    "c = ????\n"
   ]
  },
  {
   "cell_type": "markdown",
   "id": "8af62006",
   "metadata": {},
   "source": [
    "Verify the length of the array."
   ]
  },
  {
   "cell_type": "code",
   "execution_count": null,
   "id": "a8a3c20a",
   "metadata": {},
   "outputs": [],
   "source": [
    "assert len(c) == n\n"
   ]
  },
  {
   "cell_type": "markdown",
   "id": "4d925b63",
   "metadata": {},
   "source": [
    "Vector $b$"
   ]
  },
  {
   "cell_type": "code",
   "execution_count": null,
   "id": "069cc3c4",
   "metadata": {},
   "outputs": [],
   "source": [
    "\n",
    "\n",
    "b = ????\n"
   ]
  },
  {
   "cell_type": "markdown",
   "id": "bdabea65",
   "metadata": {},
   "source": [
    "Verify the length of the array."
   ]
  },
  {
   "cell_type": "code",
   "execution_count": null,
   "id": "363a3ed8",
   "metadata": {},
   "outputs": [],
   "source": [
    "assert len(b) == m"
   ]
  }
 ],
 "metadata": {},
 "nbformat": 4,
 "nbformat_minor": 5
}

{
 "cells": [
  {
   "cell_type": "markdown",
   "id": "025a6855",
   "metadata": {},
   "source": [
    "# Standard form\n",
    "\n",
    "## Introduction to optimization and operations research.\n",
    "\n",
    "Michel Bierlaire\n"
   ]
  },
  {
   "cell_type": "code",
   "execution_count": null,
   "id": "a3d50992",
   "metadata": {},
   "outputs": [],
   "source": [
    "\n",
    "import numpy as np\n"
   ]
  },
  {
   "cell_type": "markdown",
   "id": "a6af128e",
   "metadata": {},
   "source": [
    "In linear optimization, a problem in standard form is"
   ]
  },
  {
   "cell_type": "markdown",
   "id": "24110f0e",
   "metadata": {},
   "source": [
    "- a minimization problem,\n",
    "- where each constraint $j$ is an equality constraint of the form\n",
    "$$\n",
    "\\sum_i a_{ij} x_i =  b_j,\n",
    "$$\n",
    "- all variables are non negative."
   ]
  },
  {
   "cell_type": "markdown",
   "id": "a9141760",
   "metadata": {},
   "source": [
    "It is written as:\n",
    "$$\n",
    "\\min_{x \\in \\mathbb{R}^n} c^T x\n",
    "$$\n",
    "subject to\n",
    "\\begin{align*}\n",
    "Ax &= b, \\\\\n",
    "x &\\geq 0,\n",
    "\\end{align*}\n",
    "where $A \\in \\mathbb{R}^{m \\times n}$, $b \\in \\mathbb{R}^m$, and $c \\in \\mathbb{R}^n$. Equivalently,\n",
    "$$\n",
    "\\min_{x \\in \\mathbb{R}^n} \\sum_{i=1}^n c_i x_i\n",
    "$$\n",
    "subject to\n",
    "\\begin{align*}\n",
    "\\sum_{i=1}^n a_{ij} x_i &= b_j, & j=1, \\ldots, m, \\\\\n",
    "x_i &\\geq 0, & i = 1, \\ldots, n.\n",
    "\\end{align*}\n",
    "\n",
    "\n",
    "Write the following problem in standard form :\n",
    "$$\n",
    "\\max_{x \\in \\mathbb{R}^4} -2x_1 + 5x_2 - 7x_3 + 4x_4\n",
    "$$\n",
    "subject to\n",
    "\\begin{align*}\n",
    "2x_1 + 4x_2 - 6x_3 & \\geq 7,\\\\\n",
    "8x_1 - 5x_3 + 3x_4 & \\leq 8,\\\\\n",
    "-2x_2 - 5x_3 + 4x_4 & \\leq -6,\\\\\n",
    "1 \\leq x_1&\\leq 4,\\\\\n",
    "x_2 & \\geq -3,\\\\\n",
    "x_3 &\\in \\mathbb{R},\\\\\n",
    "x_4 &\\leq 0.\n",
    "\\end{align*}"
   ]
  },
  {
   "cell_type": "markdown",
   "id": "3f639dbe",
   "metadata": {},
   "source": [
    "Store in a `numpy array` the data of the problem, that is, the matrix $A$, and the vectors $b$ and $c$.\n",
    "What are the values of $m$ and $n$? Verify the shapes of the arrays."
   ]
  },
  {
   "cell_type": "markdown",
   "id": "eb446f92",
   "metadata": {},
   "source": [
    "The dimensions of the problem in standard form are:"
   ]
  },
  {
   "cell_type": "markdown",
   "id": "7c5ffb30",
   "metadata": {},
   "source": [
    "Number of variables:"
   ]
  },
  {
   "cell_type": "code",
   "execution_count": null,
   "id": "3bfaf55b",
   "metadata": {},
   "outputs": [],
   "source": [
    "n = ????\n"
   ]
  },
  {
   "cell_type": "markdown",
   "id": "55be0426",
   "metadata": {},
   "source": [
    "Number of constraints:"
   ]
  },
  {
   "cell_type": "code",
   "execution_count": null,
   "id": "9d20231a",
   "metadata": {},
   "outputs": [],
   "source": [
    "m = ????\n",
    "\n"
   ]
  },
  {
   "cell_type": "markdown",
   "id": "bb14bfe8",
   "metadata": {},
   "source": [
    "Matrix $A$"
   ]
  },
  {
   "cell_type": "code",
   "execution_count": null,
   "id": "d4e6c28b",
   "metadata": {},
   "outputs": [],
   "source": [
    "\n",
    "\n",
    "\n",
    "\n",
    "\n",
    "\n",
    "\n",
    "\n",
    "\n",
    "\n",
    "\n",
    "A = ????\n",
    "\n",
    "\n",
    "\n",
    "\n",
    "\n",
    "\n",
    "\n"
   ]
  },
  {
   "cell_type": "markdown",
   "id": "d6711c34",
   "metadata": {},
   "source": [
    "Dimensions of the matrix"
   ]
  },
  {
   "cell_type": "code",
   "execution_count": null,
   "id": "5d6d16d3",
   "metadata": {},
   "outputs": [],
   "source": [
    "number_of_rows = A.shape[0]\n",
    "print(f'Number of rows: {number_of_rows}')\n",
    "number_of_columns = A.shape[1]\n",
    "print(f'Number of columns: {number_of_columns}')\n"
   ]
  },
  {
   "cell_type": "markdown",
   "id": "4906e8a0",
   "metadata": {},
   "source": [
    "The number of rows should be m"
   ]
  },
  {
   "cell_type": "code",
   "execution_count": null,
   "id": "3cdb594c",
   "metadata": {},
   "outputs": [],
   "source": [
    "assert number_of_rows == m\n"
   ]
  },
  {
   "cell_type": "markdown",
   "id": "699c8174",
   "metadata": {},
   "source": [
    "The number of columns should be n"
   ]
  },
  {
   "cell_type": "code",
   "execution_count": null,
   "id": "4fcae65e",
   "metadata": {},
   "outputs": [],
   "source": [
    "assert number_of_columns == n\n"
   ]
  },
  {
   "cell_type": "markdown",
   "id": "c7f2e324",
   "metadata": {},
   "source": [
    "Vector $c$."
   ]
  },
  {
   "cell_type": "code",
   "execution_count": null,
   "id": "90546aa0",
   "metadata": {},
   "outputs": [],
   "source": [
    "\n",
    "\n",
    "\n",
    "\n",
    "\n",
    "\n",
    "c = ????\n"
   ]
  },
  {
   "cell_type": "markdown",
   "id": "d99b78a3",
   "metadata": {},
   "source": [
    "Verify the length of the array."
   ]
  },
  {
   "cell_type": "code",
   "execution_count": null,
   "id": "e0cb7781",
   "metadata": {},
   "outputs": [],
   "source": [
    "assert len(c) == n\n"
   ]
  },
  {
   "cell_type": "markdown",
   "id": "76624b49",
   "metadata": {},
   "source": [
    "Vector $b$"
   ]
  },
  {
   "cell_type": "code",
   "execution_count": null,
   "id": "ee0feb7a",
   "metadata": {},
   "outputs": [],
   "source": [
    "\n",
    "\n",
    "b = ????\n"
   ]
  },
  {
   "cell_type": "markdown",
   "id": "ea1fa088",
   "metadata": {},
   "source": [
    "Verify the length of the array."
   ]
  },
  {
   "cell_type": "code",
   "execution_count": null,
   "id": "29dcf915",
   "metadata": {},
   "outputs": [],
   "source": [
    "assert len(b) == m"
   ]
  }
 ],
 "metadata": {},
 "nbformat": 4,
 "nbformat_minor": 5
}

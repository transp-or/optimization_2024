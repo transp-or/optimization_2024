{
 "cells": [
  {
   "cell_type": "markdown",
   "id": "3a4e41c5",
   "metadata": {},
   "source": [
    "# Projectile\n",
    "## Second exercise\n",
    "\n",
    "## Introduction to optimization and operations research.\n",
    "\n",
    "Michel Bierlaire\n"
   ]
  },
  {
   "cell_type": "markdown",
   "id": "ddebe692",
   "metadata": {},
   "source": [
    "A projectile is launched vertically at a rate of 50 meters per second in the absence of wind. After how long will it\n",
    "reach again the ground, that is, its **lowest** altitude?"
   ]
  },
  {
   "cell_type": "markdown",
   "id": "2f159a43",
   "metadata": {},
   "source": [
    "Import necessary packages."
   ]
  },
  {
   "cell_type": "code",
   "execution_count": null,
   "id": "5eb500c5",
   "metadata": {},
   "outputs": [],
   "source": [
    "from scipy.optimize import minimize, OptimizeResult\n",
    "\n",
    "from teaching_optimization.plot_function import plot_function\n",
    "\n"
   ]
  },
  {
   "cell_type": "markdown",
   "id": "8c952c72",
   "metadata": {},
   "source": [
    "First implement the calculation of the altitude of the projectile using the formula for uniformly accelerated\n",
    "movement:  $$f(t) = x_o + v_0 t -\\frac{g}{2} t^2,$$\n",
    "where $x_0$ is the initial altitude, $v_0$ the initial speed, and $g$ the acceleration due\n",
    "to gravity."
   ]
  },
  {
   "cell_type": "markdown",
   "id": "a286d8fc",
   "metadata": {},
   "source": [
    "Define a constant."
   ]
  },
  {
   "cell_type": "code",
   "execution_count": null,
   "id": "90eed181",
   "metadata": {},
   "outputs": [],
   "source": [
    "GRAVITY = 9.81\n",
    "\n"
   ]
  },
  {
   "cell_type": "markdown",
   "id": "1ac82f5b",
   "metadata": {},
   "source": [
    "Write a function to calculate the height of the projectile, using the formula."
   ]
  },
  {
   "cell_type": "code",
   "execution_count": null,
   "id": "b8aa22e3",
   "metadata": {},
   "outputs": [],
   "source": [
    "def height(time: float, initial_altitude: float, initial_speed: float) -> float:\n",
    "    \"\"\"\n",
    "    Calculate the height of the projectile, using the formula.\n",
    "\n",
    "    :param time: time at which we need the height.\n",
    "    :param initial_altitude: initial altitude x_0.\n",
    "    :param initial_speed: initial speed v_0.\n",
    "    :return: height.\n",
    "    \"\"\"\n",
    "    return ????\n",
    "\n",
    "\n",
    "\n"
   ]
  },
  {
   "cell_type": "markdown",
   "id": "7d1a224c",
   "metadata": {},
   "source": [
    "Define the objective function. The \"decision\" variable is the time."
   ]
  },
  {
   "cell_type": "code",
   "execution_count": null,
   "id": "9f2126a4",
   "metadata": {},
   "outputs": [],
   "source": [
    "def objective_function(x: float) -> float:\n",
    "    \"\"\"Objective function of the optimization problem.\n",
    "\n",
    "\n",
    "    \"\"\"\n",
    "    return ????\n",
    "\n"
   ]
  },
  {
   "cell_type": "markdown",
   "id": "2eb412e1",
   "metadata": {},
   "source": [
    "Plot the objective function. Make a visual guess of the solution."
   ]
  },
  {
   "cell_type": "code",
   "execution_count": null,
   "id": "68f3750d",
   "metadata": {},
   "outputs": [],
   "source": [
    "plot_function(\n",
    "    my_function=objective_function,\n",
    "    label='Altitude',\n",
    "    x_label='Time (sec.)',\n",
    "    y_label='Altitude (m.)',\n",
    "    x_min=0,\n",
    "    x_max=12,\n",
    "    y_min=0,\n",
    "    y_max=150,\n",
    ")\n"
   ]
  },
  {
   "cell_type": "markdown",
   "id": "95503de2",
   "metadata": {},
   "source": [
    "According to the plot, the solution we are looking for should be something slightly larger than 10 sec."
   ]
  },
  {
   "cell_type": "markdown",
   "id": "3802a3d9",
   "metadata": {},
   "source": [
    "Initial solution"
   ]
  },
  {
   "cell_type": "code",
   "execution_count": null,
   "id": "1e58bd2f",
   "metadata": {},
   "outputs": [],
   "source": [
    " x0 = ????\n"
   ]
  },
  {
   "cell_type": "markdown",
   "id": "e52a54dd",
   "metadata": {},
   "source": [
    "Run the algorithm."
   ]
  },
  {
   "cell_type": "code",
   "execution_count": null,
   "id": "849f38ad",
   "metadata": {},
   "outputs": [],
   "source": [
    "the_result = minimize(????)\n",
    "\n"
   ]
  },
  {
   "cell_type": "markdown",
   "id": "b5b9857e",
   "metadata": {},
   "source": [
    "Function that prints the results."
   ]
  },
  {
   "cell_type": "code",
   "execution_count": null,
   "id": "642d436b",
   "metadata": {},
   "outputs": [],
   "source": [
    "def print_results(optimization_result: OptimizeResult) -> None:\n",
    "    # Print the raw results.\n",
    "    print(optimization_result)\n",
    "    print()\n",
    "    # Print the solution with 3 significant digits.\n",
    "    print(f'Elapsed time:     {optimization_result.x[0]:.3g} sec.')\n",
    "    print(f'Altitude reached: {optimization_result.fun:.3g} m.')\n",
    "\n"
   ]
  },
  {
   "cell_type": "markdown",
   "id": "be6a9047",
   "metadata": {},
   "source": [
    "Expected results:\n",
    "\n",
    "- Elapsed time:     10.2 sec.\n",
    "- Altitude reached: 0 m."
   ]
  },
  {
   "cell_type": "code",
   "execution_count": null,
   "id": "542dcd3e",
   "metadata": {},
   "outputs": [],
   "source": [
    "print_results(optimization_result=the_result)\n",
    "\n",
    "\n"
   ]
  }
 ],
 "metadata": {},
 "nbformat": 4,
 "nbformat_minor": 5
}

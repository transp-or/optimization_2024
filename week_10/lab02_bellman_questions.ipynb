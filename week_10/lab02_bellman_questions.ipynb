{
 "cells": [
  {
   "cell_type": "markdown",
   "id": "f65aff6c",
   "metadata": {},
   "source": [
    "# The Bellman subnetwork\n",
    "\n",
    "## Introduction to optimization and operations research.\n",
    "\n",
    "Michel Bierlaire\n"
   ]
  },
  {
   "cell_type": "code",
   "execution_count": null,
   "id": "e9716da8",
   "metadata": {},
   "outputs": [],
   "source": [
    "\n",
    "import itertools\n",
    "from typing import Any\n",
    "\n",
    "import numpy as np\n",
    "from IPython.core.display_functions import display\n",
    "from matplotlib import pyplot as plt\n",
    "from networkx import DiGraph\n",
    "from teaching_optimization.networks import draw_network\n",
    "from teaching_optimization.networks.shortest_path_algorithm import ShortestPathAlgorithm\n"
   ]
  },
  {
   "cell_type": "markdown",
   "id": "fab1ec3b",
   "metadata": {},
   "source": [
    "The objective of this exercise is to construct Bellman subnetworks from the optimal labels of the\n",
    "shortest path algorithm."
   ]
  },
  {
   "cell_type": "markdown",
   "id": "67f0e1ac",
   "metadata": {},
   "source": [
    "Bellman's equation is defined as\n",
    "\n",
    "$$\\lambda_j = \\min_{(i,j)\\in \\mathcal{A}} (\\lambda_i + c_{ij}).$$"
   ]
  },
  {
   "cell_type": "markdown",
   "id": "cc8b1fd1",
   "metadata": {},
   "source": [
    "Bellman's subnetwork consists in selecting for each node except the origin one arc that verifies\n",
    "Bellman's equation."
   ]
  },
  {
   "cell_type": "markdown",
   "id": "f0f29956",
   "metadata": {},
   "source": [
    "If every cycle in the network has positive length, that is, if there is no cycle of cost zero, each\n",
    "Bellman subnetwork is a tree called the *shortest path tree*.\n",
    "We will try below to enumerate all Bellman subnetworks."
   ]
  },
  {
   "cell_type": "code",
   "execution_count": null,
   "id": "284a2dad",
   "metadata": {},
   "outputs": [],
   "source": [
    "\n",
    "positions = {\n",
    "    'a': (0, 0),\n",
    "    'b': (2, 1.5),\n",
    "    'c': (2, -1.5),\n",
    "    'd': (4, 0),\n",
    "}\n",
    "\n",
    "nodes = list(positions.keys())\n",
    "\n",
    "arcs = [\n",
    "    ('a', 'b', 1),\n",
    "    ('a', 'c', 1),\n",
    "    ('b', 'd', 1),\n",
    "    ('c', 'd', 1),\n",
    "    ('b', 'c', 0),\n",
    "]\n",
    "\n",
    "first_network: DiGraph = DiGraph()\n",
    "for node in nodes:\n",
    "    first_network.add_node(node, pos=positions[node])\n",
    "first_network.add_weighted_edges_from(arcs, weight='cost')\n",
    "fig, ax = plt.subplots(figsize=(8, 6))\n",
    "draw_network(the_network=first_network, attr_edge_labels='cost', ax=ax)\n",
    "plt.show()\n"
   ]
  },
  {
   "cell_type": "markdown",
   "id": "70220478",
   "metadata": {},
   "source": [
    "We first solve the shortest path problem."
   ]
  },
  {
   "cell_type": "markdown",
   "id": "3fb517d3",
   "metadata": {},
   "source": [
    "Initialization"
   ]
  },
  {
   "cell_type": "code",
   "execution_count": null,
   "id": "848e14d1",
   "metadata": {},
   "outputs": [],
   "source": [
    "the_algorithm = ShortestPathAlgorithm(\n",
    "    the_network=first_network, the_cost_name='cost', the_origin='a'\n",
    ")\n"
   ]
  },
  {
   "cell_type": "markdown",
   "id": "4419ff78",
   "metadata": {},
   "source": [
    "Run the algorithm.  If the output is `True`, it managed to find the optimal labels."
   ]
  },
  {
   "cell_type": "code",
   "execution_count": null,
   "id": "d91dd443",
   "metadata": {},
   "outputs": [],
   "source": [
    "the_algorithm.shortest_path_algorithm()\n"
   ]
  },
  {
   "cell_type": "markdown",
   "id": "d68ebfc9",
   "metadata": {},
   "source": [
    "Optimal labels"
   ]
  },
  {
   "cell_type": "code",
   "execution_count": null,
   "id": "5303770a",
   "metadata": {},
   "outputs": [],
   "source": [
    "display(the_algorithm.labels)\n",
    "\n"
   ]
  },
  {
   "cell_type": "markdown",
   "id": "f1e805fe",
   "metadata": {},
   "source": [
    "We now write a function that identifies the Bellman arcs for a given node.\n",
    "When comparing two real numbers, it is better to use the `numpy`function `isclose` instead\n",
    "of the standard `==` operator."
   ]
  },
  {
   "cell_type": "code",
   "execution_count": null,
   "id": "a796ca74",
   "metadata": {},
   "outputs": [],
   "source": [
    "\n",
    "\n",
    "def bellman_arcs(\n",
    "    a_network: DiGraph, a_node: Any, labels: dict[Any, float], cost_name: str\n",
    ") -> list[tuple[Any, Any]]:\n",
    "    \"\"\"Identifies the Bellman arcs of a node\n",
    "\n",
    "    :param a_network: network object\n",
    "    :param a_node: the node under interest\n",
    "    :param labels: the optimal labels\n",
    "    :param cost_name: name of the cost attribute\n",
    "    :return: a list of arcs\n",
    "    \"\"\"\n",
    "    optimal_arcs = ????\n",
    "\n",
    "\n",
    "\n",
    "\n",
    "\n",
    "\n",
    "\n",
    "    return optimal_arcs\n",
    "\n"
   ]
  },
  {
   "cell_type": "markdown",
   "id": "d99f9f12",
   "metadata": {},
   "source": [
    "We identify the Bellman arcs for each node\n",
    "The expected result is as follows:"
   ]
  },
  {
   "cell_type": "code",
   "execution_count": null,
   "id": "e0ffd09a",
   "metadata": {},
   "outputs": [],
   "source": [
    "expected_result = {\n",
    "    'a': [],\n",
    "    'b': [('a', 'b')],\n",
    "    'c': [('a', 'c'), ('b', 'c')],\n",
    "    'd': [('b', 'd'), ('c', 'd')],\n",
    "}\n",
    "display(expected_result)\n"
   ]
  },
  {
   "cell_type": "code",
   "execution_count": null,
   "id": "b4437321",
   "metadata": {},
   "outputs": [],
   "source": [
    "the_bellman_arcs = {\n",
    "    node: bellman_arcs(\n",
    "        a_network=first_network,\n",
    "        a_node=node,\n",
    "        labels=the_algorithm.labels,\n",
    "        cost_name='cost',\n",
    "    )\n",
    "    for node in first_network.nodes\n",
    "}\n",
    "display(the_bellman_arcs)\n"
   ]
  },
  {
   "cell_type": "markdown",
   "id": "977f202e",
   "metadata": {},
   "source": [
    "Let's print the result."
   ]
  },
  {
   "cell_type": "code",
   "execution_count": null,
   "id": "3a8acaee",
   "metadata": {},
   "outputs": [],
   "source": [
    "for node, arcs in the_bellman_arcs.items():\n",
    "    print(f'Bellman arcs for node {node}: {arcs}')\n"
   ]
  },
  {
   "cell_type": "markdown",
   "id": "1bba43c6",
   "metadata": {},
   "source": [
    "In order to plot the Bellman subnetworks, we need to consider all possible combinations\n",
    "of Bellman arcs."
   ]
  },
  {
   "cell_type": "code",
   "execution_count": null,
   "id": "9e4be40c",
   "metadata": {},
   "outputs": [],
   "source": [
    "all_lists = [a_list for a_list in the_bellman_arcs.values() if a_list]\n",
    "all_combinations = list(itertools.product(*all_lists))\n",
    "for one_instance in all_combinations:\n",
    "    print(one_instance)\n"
   ]
  },
  {
   "cell_type": "markdown",
   "id": "2f37cb17",
   "metadata": {},
   "source": [
    "Let's plot all Bellman's subnetworks. ALl of them have the same set of nodes, and a different set\n",
    "of Bellman arcs."
   ]
  },
  {
   "cell_type": "code",
   "execution_count": null,
   "id": "b072a0d2",
   "metadata": {},
   "outputs": [],
   "source": [
    "for one_instance in all_combinations:\n",
    "    # Create a directed graph\n",
    "    a_graph: DiGraph = DiGraph()\n",
    "\n",
    "    # Add nodes to the graph\n",
    "    a_graph.add_nodes_from(first_network.nodes(data=True))\n",
    "\n",
    "    # Add arcs to the graph\n",
    "    a_graph.add_edges_from(one_instance)\n",
    "\n",
    "    fig, ax = plt.subplots(figsize=(8, 6))\n",
    "    draw_network(the_network=a_graph, ax=ax)\n",
    "    plt.show()\n",
    "\n"
   ]
  },
  {
   "cell_type": "markdown",
   "id": "c83cbd47",
   "metadata": {},
   "source": [
    "# Second example"
   ]
  },
  {
   "cell_type": "markdown",
   "id": "db2b5bcd",
   "metadata": {},
   "source": [
    "We investigate the Bellman subnetworks for another example."
   ]
  },
  {
   "cell_type": "code",
   "execution_count": null,
   "id": "3ce9fdf7",
   "metadata": {},
   "outputs": [],
   "source": [
    "\n",
    "positions = {\n",
    "    'a': (0, 1),\n",
    "    'b': (1, 2),\n",
    "    'c': (1, 0),\n",
    "    'f': (2, 0),\n",
    "    'd': (2, 2),\n",
    "    'e': (3, 1),\n",
    "    'h': (4, 0),\n",
    "    'g': (4, 2),\n",
    "    'i': (5, 1),\n",
    "}\n",
    "\n",
    "nodes = list(positions.keys())\n",
    "\n",
    "arcs = [\n",
    "    ('a', 'b', 10),\n",
    "    ('a', 'c', 12),\n",
    "    ('b', 'd', -12),\n",
    "    ('b', 'f', 4),\n",
    "    ('c', 'd', 7),\n",
    "    ('c', 'b', 8),\n",
    "    ('c', 'f', 6),\n",
    "    ('d', 'g', 16),\n",
    "    ('d', 'e', -3),\n",
    "    ('f', 'd', 7),\n",
    "    ('e', 'g', 7),\n",
    "    ('e', 'i', -1),\n",
    "    ('e', 'h', 6),\n",
    "    ('e', 'f', -4),\n",
    "    ('f', 'h', 15),\n",
    "    ('g', 'i', 8),\n",
    "    ('h', 'i', 5),\n",
    "]\n",
    "\n",
    "second_network: DiGraph = DiGraph()\n",
    "for node in nodes:\n",
    "    second_network.add_node(node, pos=positions[node])\n",
    "second_network.add_weighted_edges_from(arcs, weight='cost')\n",
    "fig, ax = plt.subplots(figsize=(8, 6))\n",
    "draw_network(the_network=second_network, attr_edge_labels='cost', ax=ax)\n",
    "plt.show()\n"
   ]
  },
  {
   "cell_type": "markdown",
   "id": "663e7963",
   "metadata": {},
   "source": [
    "We solve the shortest path problem."
   ]
  },
  {
   "cell_type": "markdown",
   "id": "8ab32a24",
   "metadata": {},
   "source": [
    "Initialization"
   ]
  },
  {
   "cell_type": "code",
   "execution_count": null,
   "id": "e614fbb0",
   "metadata": {},
   "outputs": [],
   "source": [
    "the_algorithm = ShortestPathAlgorithm(\n",
    "    the_network=second_network, the_cost_name='cost', the_origin='a'\n",
    ")\n"
   ]
  },
  {
   "cell_type": "markdown",
   "id": "7250f5cd",
   "metadata": {},
   "source": [
    "Run the algorithm.  If the output is `True`, it managed to find the optimal labels."
   ]
  },
  {
   "cell_type": "code",
   "execution_count": null,
   "id": "4cd8b9f0",
   "metadata": {},
   "outputs": [],
   "source": [
    "the_algorithm.shortest_path_algorithm()\n"
   ]
  },
  {
   "cell_type": "markdown",
   "id": "b4aee09c",
   "metadata": {},
   "source": [
    "Optimal labels"
   ]
  },
  {
   "cell_type": "code",
   "execution_count": null,
   "id": "2513e3ff",
   "metadata": {},
   "outputs": [],
   "source": [
    "display(the_algorithm.labels)\n",
    "\n"
   ]
  },
  {
   "cell_type": "markdown",
   "id": "faefb0e3",
   "metadata": {},
   "source": [
    "We identify the Bellman arcs for each node"
   ]
  },
  {
   "cell_type": "code",
   "execution_count": null,
   "id": "47697019",
   "metadata": {},
   "outputs": [],
   "source": [
    "the_bellman_arcs = {\n",
    "    node: bellman_arcs(\n",
    "        a_network=second_network,\n",
    "        a_node=node,\n",
    "        labels=the_algorithm.labels,\n",
    "        cost_name='cost',\n",
    "    )\n",
    "    for node in second_network.nodes\n",
    "}\n"
   ]
  },
  {
   "cell_type": "code",
   "execution_count": null,
   "id": "cfb77f41",
   "metadata": {},
   "outputs": [],
   "source": [
    "for node, arcs in the_bellman_arcs.items():\n",
    "    print(f'Bellman arcs for node {node}: {arcs}')\n"
   ]
  },
  {
   "cell_type": "markdown",
   "id": "7f6460dc",
   "metadata": {},
   "source": [
    "Consider all possible combinations"
   ]
  },
  {
   "cell_type": "code",
   "execution_count": null,
   "id": "68a3d92c",
   "metadata": {},
   "outputs": [],
   "source": [
    "all_lists = [a_list for a_list in the_bellman_arcs.values() if a_list]\n",
    "all_combinations = list(itertools.product(*all_lists))\n",
    "for one_instance in all_combinations:\n",
    "    print(one_instance)\n"
   ]
  },
  {
   "cell_type": "markdown",
   "id": "2731f456",
   "metadata": {},
   "source": [
    "Let's plot all Bellman's subnetworks"
   ]
  },
  {
   "cell_type": "code",
   "execution_count": null,
   "id": "94b39573",
   "metadata": {},
   "outputs": [],
   "source": [
    "for one_instance in all_combinations:\n",
    "    # Create a directed graph\n",
    "    a_graph: DiGraph = DiGraph()\n",
    "\n",
    "    # Add nodes to the graph\n",
    "    a_graph.add_nodes_from(second_network.nodes(data=True))\n",
    "\n",
    "    # Add arcs to the graph\n",
    "    a_graph.add_edges_from(one_instance)\n",
    "\n",
    "    fig, ax = plt.subplots(figsize=(8, 6))\n",
    "    draw_network(the_network=a_graph, ax=ax)\n",
    "    plt.show()\n",
    "\n",
    "\n"
   ]
  }
 ],
 "metadata": {},
 "nbformat": 4,
 "nbformat_minor": 5
}

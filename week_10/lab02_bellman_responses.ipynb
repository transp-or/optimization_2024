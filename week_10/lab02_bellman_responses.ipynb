{
 "cells": [
  {
   "cell_type": "markdown",
   "id": "854a0fff",
   "metadata": {},
   "source": [
    "# The Bellman subnetwork\n",
    "\n",
    "## Introduction to optimization and operations research.\n",
    "\n",
    "Michel Bierlaire\n"
   ]
  },
  {
   "cell_type": "code",
   "execution_count": null,
   "id": "e02de407",
   "metadata": {},
   "outputs": [],
   "source": [
    "\n",
    "import itertools\n",
    "from typing import Any\n",
    "\n",
    "import numpy as np\n",
    "from IPython.core.display_functions import display\n",
    "from matplotlib import pyplot as plt\n",
    "from networkx import DiGraph\n",
    "from teaching_optimization.networks import draw_network\n",
    "from teaching_optimization.networks.shortest_path_algorithm import ShortestPathAlgorithm\n"
   ]
  },
  {
   "cell_type": "markdown",
   "id": "497e1ada",
   "metadata": {},
   "source": [
    "The objective of this exercise is to construct Bellman subnetworks from the optimal labels of the\n",
    "shortest path algorithm."
   ]
  },
  {
   "cell_type": "markdown",
   "id": "57a874fe",
   "metadata": {},
   "source": [
    "Bellman's equation is defined as\n",
    "\n",
    "$$\\lambda_j = \\min_{(i,j)\\in \\mathcal{A}} (\\lambda_i + c_{ij}).$$"
   ]
  },
  {
   "cell_type": "markdown",
   "id": "f265cfbe",
   "metadata": {},
   "source": [
    "Bellman's subnetwork consists in selecting for each node except the origin one arc that verifies\n",
    "Bellman's equation."
   ]
  },
  {
   "cell_type": "markdown",
   "id": "bcea299f",
   "metadata": {},
   "source": [
    "If every cycle in the the_network has positive length, that is, if there is no cycle of cost zero, each\n",
    "Bellman subnetwork is a graph called the *shortest path graph*.\n",
    "We will try below to enumerate all Bellman subnetworks."
   ]
  },
  {
   "cell_type": "code",
   "execution_count": null,
   "id": "440cf997",
   "metadata": {},
   "outputs": [],
   "source": [
    "\n",
    "positions = {\n",
    "    'a': (0, 0),\n",
    "    'b': (2, 1.5),\n",
    "    'c': (2, -1.5),\n",
    "    'd': (4, 0),\n",
    "}\n",
    "\n",
    "nodes = list(positions.keys())\n",
    "\n",
    "arcs = [\n",
    "    ('a', 'b', 1),\n",
    "    ('a', 'c', 1),\n",
    "    ('b', 'd', 1),\n",
    "    ('c', 'd', 1),\n",
    "    ('b', 'c', 0),\n",
    "]\n",
    "\n",
    "first_network: DiGraph = DiGraph()\n",
    "for node in nodes:\n",
    "    first_network.add_node(node, pos=positions[node])\n",
    "first_network.add_weighted_edges_from(arcs, weight='cost')\n",
    "fig, ax = plt.subplots(figsize=(8, 6))\n",
    "draw_network(the_network=first_network, attr_edge_labels='cost', ax=ax)\n",
    "plt.show()\n"
   ]
  },
  {
   "cell_type": "markdown",
   "id": "07597a05",
   "metadata": {},
   "source": [
    "We first solve the shortest path problem."
   ]
  },
  {
   "cell_type": "markdown",
   "id": "a2c58fb6",
   "metadata": {},
   "source": [
    "Initialization"
   ]
  },
  {
   "cell_type": "code",
   "execution_count": null,
   "id": "4d9c0e58",
   "metadata": {},
   "outputs": [],
   "source": [
    "the_algorithm = ShortestPathAlgorithm(\n",
    "    the_network=first_network, the_cost_name='cost', the_origin='a'\n",
    ")\n"
   ]
  },
  {
   "cell_type": "markdown",
   "id": "678c46a9",
   "metadata": {},
   "source": [
    "Run the algorithm.  If the output is `True`, it managed to find the optimal labels."
   ]
  },
  {
   "cell_type": "code",
   "execution_count": null,
   "id": "0a60b214",
   "metadata": {},
   "outputs": [],
   "source": [
    "the_algorithm.shortest_path_algorithm()\n"
   ]
  },
  {
   "cell_type": "markdown",
   "id": "9ba9d24c",
   "metadata": {},
   "source": [
    "Optimal labels"
   ]
  },
  {
   "cell_type": "code",
   "execution_count": null,
   "id": "90f721c3",
   "metadata": {},
   "outputs": [],
   "source": [
    "display(the_algorithm.labels)\n",
    "\n"
   ]
  },
  {
   "cell_type": "markdown",
   "id": "d2071d49",
   "metadata": {},
   "source": [
    "We now write a function that identifies the Bellman arcs for a given node.\n",
    "When comparing two real numbers, it is better to use the `numpy`function `isclose` instead\n",
    "of the standard `==` operator."
   ]
  },
  {
   "cell_type": "code",
   "execution_count": null,
   "id": "f93dcba5",
   "metadata": {},
   "outputs": [],
   "source": [
    "\n",
    "\n",
    "def bellman_arcs(\n",
    "    a_network: DiGraph, a_node: Any, labels: dict[Any, float], cost_name: str\n",
    ") -> list[tuple[Any, Any]]:\n",
    "    \"\"\"Identifies the Bellman arcs of a node\n",
    "\n",
    "    :param a_network: the_network object\n",
    "    :param a_node: the node under interest\n",
    "    :param labels: the optimal labels\n",
    "    :param cost_name: name of the cost attribute\n",
    "    :return: a list of arcs\n",
    "    \"\"\"\n",
    "    optimal_arcs = [\n",
    "        (upstream, a_node)\n",
    "        for upstream, _ in a_network.in_edges(a_node)\n",
    "        if np.isclose(\n",
    "            labels[upstream] + a_network[upstream][a_node][cost_name],\n",
    "            labels[a_node],\n",
    "        )\n",
    "    ]\n",
    "    return optimal_arcs\n",
    "\n"
   ]
  },
  {
   "cell_type": "markdown",
   "id": "10d5fd56",
   "metadata": {},
   "source": [
    "We identify the Bellman arcs for each node\n",
    "The expected result is as follows:"
   ]
  },
  {
   "cell_type": "code",
   "execution_count": null,
   "id": "4b6bfa67",
   "metadata": {},
   "outputs": [],
   "source": [
    "expected_result = {\n",
    "    'a': [],\n",
    "    'b': [('a', 'b')],\n",
    "    'c': [('a', 'c'), ('b', 'c')],\n",
    "    'd': [('b', 'd'), ('c', 'd')],\n",
    "}\n",
    "display(expected_result)\n"
   ]
  },
  {
   "cell_type": "code",
   "execution_count": null,
   "id": "60a776a5",
   "metadata": {},
   "outputs": [],
   "source": [
    "the_bellman_arcs = {\n",
    "    node: bellman_arcs(\n",
    "        a_network=first_network,\n",
    "        a_node=node,\n",
    "        labels=the_algorithm.labels,\n",
    "        cost_name='cost',\n",
    "    )\n",
    "    for node in first_network.nodes\n",
    "}\n",
    "display(the_bellman_arcs)\n"
   ]
  },
  {
   "cell_type": "markdown",
   "id": "216894c7",
   "metadata": {},
   "source": [
    "Let's print the result."
   ]
  },
  {
   "cell_type": "code",
   "execution_count": null,
   "id": "169125e6",
   "metadata": {},
   "outputs": [],
   "source": [
    "for node, arcs in the_bellman_arcs.items():\n",
    "    print(f'Bellman arcs for node {node}: {arcs}')\n"
   ]
  },
  {
   "cell_type": "markdown",
   "id": "e8f707a4",
   "metadata": {},
   "source": [
    "In order to plot the Bellman subnetworks, we need to consider all possible combinations\n",
    "of Bellman arcs."
   ]
  },
  {
   "cell_type": "code",
   "execution_count": null,
   "id": "0915d048",
   "metadata": {},
   "outputs": [],
   "source": [
    "all_lists = [a_list for a_list in the_bellman_arcs.values() if a_list]\n",
    "all_combinations = list(itertools.product(*all_lists))\n",
    "for one_instance in all_combinations:\n",
    "    print(one_instance)\n"
   ]
  },
  {
   "cell_type": "markdown",
   "id": "c4989613",
   "metadata": {},
   "source": [
    "Let's plot all Bellman's subnetworks. ALl of them have the same set of nodes, and a different set\n",
    "of Bellman arcs."
   ]
  },
  {
   "cell_type": "code",
   "execution_count": null,
   "id": "7214d887",
   "metadata": {},
   "outputs": [],
   "source": [
    "for one_instance in all_combinations:\n",
    "    # Create a directed graph\n",
    "    a_graph: DiGraph = DiGraph()\n",
    "\n",
    "    # Add nodes to the graph\n",
    "    a_graph.add_nodes_from(first_network.nodes(data=True))\n",
    "\n",
    "    # Add arcs to the graph\n",
    "    a_graph.add_edges_from(one_instance)\n",
    "\n",
    "    fig, ax = plt.subplots(figsize=(8, 6))\n",
    "    draw_network(the_network=a_graph, ax=ax)\n",
    "    plt.show()\n",
    "\n"
   ]
  },
  {
   "cell_type": "markdown",
   "id": "ff0fa68d",
   "metadata": {},
   "source": [
    "# Second example"
   ]
  },
  {
   "cell_type": "markdown",
   "id": "143f79e3",
   "metadata": {},
   "source": [
    "We investigate the Bellman subnetworks for another example."
   ]
  },
  {
   "cell_type": "code",
   "execution_count": null,
   "id": "1ae7f4bc",
   "metadata": {},
   "outputs": [],
   "source": [
    "\n",
    "positions = {\n",
    "    'a': (0, 1),\n",
    "    'b': (1, 2),\n",
    "    'c': (1, 0),\n",
    "    'f': (2, 0),\n",
    "    'd': (2, 2),\n",
    "    'e': (3, 1),\n",
    "    'h': (4, 0),\n",
    "    'g': (4, 2),\n",
    "    'i': (5, 1),\n",
    "}\n",
    "\n",
    "nodes = list(positions.keys())\n",
    "\n",
    "arcs = [\n",
    "    ('a', 'b', 10),\n",
    "    ('a', 'c', 12),\n",
    "    ('b', 'd', -12),\n",
    "    ('b', 'f', 4),\n",
    "    ('c', 'd', 7),\n",
    "    ('c', 'b', 8),\n",
    "    ('c', 'f', 6),\n",
    "    ('d', 'g', 16),\n",
    "    ('d', 'e', -3),\n",
    "    ('f', 'd', 7),\n",
    "    ('e', 'g', 7),\n",
    "    ('e', 'i', -1),\n",
    "    ('e', 'h', 6),\n",
    "    ('e', 'f', -4),\n",
    "    ('f', 'h', 15),\n",
    "    ('g', 'i', 8),\n",
    "    ('h', 'i', 5),\n",
    "]\n",
    "\n",
    "second_network: DiGraph = DiGraph()\n",
    "for node in nodes:\n",
    "    second_network.add_node(node, pos=positions[node])\n",
    "second_network.add_weighted_edges_from(arcs, weight='cost')\n",
    "fig, ax = plt.subplots(figsize=(8, 6))\n",
    "draw_network(the_network=second_network, attr_edge_labels='cost', ax=ax)\n",
    "plt.show()\n"
   ]
  },
  {
   "cell_type": "markdown",
   "id": "f21d6d03",
   "metadata": {},
   "source": [
    "We solve the shortest path problem."
   ]
  },
  {
   "cell_type": "markdown",
   "id": "bdef3e23",
   "metadata": {},
   "source": [
    "Initialization"
   ]
  },
  {
   "cell_type": "code",
   "execution_count": null,
   "id": "d7f3cb91",
   "metadata": {},
   "outputs": [],
   "source": [
    "the_algorithm = ShortestPathAlgorithm(\n",
    "    the_network=second_network, the_cost_name='cost', the_origin='a'\n",
    ")\n"
   ]
  },
  {
   "cell_type": "markdown",
   "id": "07a7e89d",
   "metadata": {},
   "source": [
    "Run the algorithm.  If the output is `True`, it managed to find the optimal labels."
   ]
  },
  {
   "cell_type": "code",
   "execution_count": null,
   "id": "90000756",
   "metadata": {},
   "outputs": [],
   "source": [
    "the_algorithm.shortest_path_algorithm()\n"
   ]
  },
  {
   "cell_type": "markdown",
   "id": "cd8b71fc",
   "metadata": {},
   "source": [
    "Optimal labels"
   ]
  },
  {
   "cell_type": "code",
   "execution_count": null,
   "id": "47254b95",
   "metadata": {},
   "outputs": [],
   "source": [
    "display(the_algorithm.labels)\n",
    "\n"
   ]
  },
  {
   "cell_type": "markdown",
   "id": "e67c2fb1",
   "metadata": {},
   "source": [
    "We identify the Bellman arcs for each node"
   ]
  },
  {
   "cell_type": "code",
   "execution_count": null,
   "id": "dddf7ba4",
   "metadata": {},
   "outputs": [],
   "source": [
    "the_bellman_arcs = {\n",
    "    node: bellman_arcs(\n",
    "        a_network=second_network,\n",
    "        a_node=node,\n",
    "        labels=the_algorithm.labels,\n",
    "        cost_name='cost',\n",
    "    )\n",
    "    for node in second_network.nodes\n",
    "}\n"
   ]
  },
  {
   "cell_type": "code",
   "execution_count": null,
   "id": "4b66ff6d",
   "metadata": {},
   "outputs": [],
   "source": [
    "for node, arcs in the_bellman_arcs.items():\n",
    "    print(f'Bellman arcs for node {node}: {arcs}')\n"
   ]
  },
  {
   "cell_type": "markdown",
   "id": "3f015301",
   "metadata": {},
   "source": [
    "Consider all possible combinations"
   ]
  },
  {
   "cell_type": "code",
   "execution_count": null,
   "id": "3871c94e",
   "metadata": {},
   "outputs": [],
   "source": [
    "all_lists = [a_list for a_list in the_bellman_arcs.values() if a_list]\n",
    "all_combinations = list(itertools.product(*all_lists))\n",
    "for one_instance in all_combinations:\n",
    "    print(one_instance)\n"
   ]
  },
  {
   "cell_type": "markdown",
   "id": "e35715ec",
   "metadata": {},
   "source": [
    "Let's plot all Bellman's subnetworks"
   ]
  },
  {
   "cell_type": "code",
   "execution_count": null,
   "id": "e2003395",
   "metadata": {},
   "outputs": [],
   "source": [
    "for one_instance in all_combinations:\n",
    "    # Create a directed graph\n",
    "    a_graph: DiGraph = DiGraph()\n",
    "\n",
    "    # Add nodes to the graph\n",
    "    a_graph.add_nodes_from(second_network.nodes(data=True))\n",
    "\n",
    "    # Add arcs to the graph\n",
    "    a_graph.add_edges_from(one_instance)\n",
    "\n",
    "    fig, ax = plt.subplots(figsize=(8, 6))\n",
    "    draw_network(the_network=a_graph, ax=ax)\n",
    "    plt.show()\n"
   ]
  },
  {
   "cell_type": "markdown",
   "id": "e058ec17",
   "metadata": {},
   "source": [
    "Note that the last one is not a graph. This may happen if the the_network contains a cycle with zero cost,\n",
    "which is the case of the cycle `d -> e -> f -> d`"
   ]
  }
 ],
 "metadata": {},
 "nbformat": 4,
 "nbformat_minor": 5
}

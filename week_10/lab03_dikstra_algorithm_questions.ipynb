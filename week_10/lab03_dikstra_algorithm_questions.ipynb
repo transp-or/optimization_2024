{
 "cells": [
  {
   "cell_type": "markdown",
   "id": "e579a4e6",
   "metadata": {},
   "source": [
    "# Dijkstra's shortest path algorithm.\n",
    "\n",
    "## Introduction to optimization and operations research.\n",
    "\n",
    "Michel Bierlaire\n"
   ]
  },
  {
   "cell_type": "code",
   "execution_count": null,
   "id": "6869ad17",
   "metadata": {},
   "outputs": [],
   "source": [
    "\n",
    "from typing import Any\n",
    "\n",
    "import numpy as np\n",
    "import pandas as pd\n",
    "from IPython.core.display_functions import display\n",
    "from matplotlib import pyplot as plt\n",
    "from networkx import DiGraph, set_node_attributes\n",
    "from teaching_optimization.networks import draw_network\n",
    "\n",
    "\n",
    "\n"
   ]
  },
  {
   "cell_type": "markdown",
   "id": "3441726d",
   "metadata": {},
   "source": [
    "The objective of this exercise is to implement and apply Dijkstra's shortest path algorithm to identify the shortest\n",
    "paths from a node to all other nodes."
   ]
  },
  {
   "cell_type": "markdown",
   "id": "2ccdacbb",
   "metadata": {},
   "source": [
    "# Some useful functions"
   ]
  },
  {
   "cell_type": "markdown",
   "id": "c41d9dba",
   "metadata": {},
   "source": [
    "Before implementing the algorithm, we investigate some useful functions of the network representation\n",
    "and illustrate them on an example."
   ]
  },
  {
   "cell_type": "markdown",
   "id": "0e6774d2",
   "metadata": {},
   "source": [
    "We define a first network example."
   ]
  },
  {
   "cell_type": "code",
   "execution_count": null,
   "id": "ae4fe455",
   "metadata": {},
   "outputs": [],
   "source": [
    "positions = {\n",
    "    'a': (2, 0),\n",
    "    'b': (4, -1),\n",
    "    'c': (4, 1),\n",
    "    'd': (8, 3),\n",
    "    'e': (8, 1),\n",
    "    'f': (8, -1),\n",
    "    'g': (8, -3),\n",
    "    'h': (11, -2),\n",
    "    'i': (12, 2),\n",
    "}\n",
    "\n",
    "\n",
    "nodes = list(positions.keys())\n",
    "\n",
    "arcs = [\n",
    "    ('a', 'c', 4),\n",
    "    ('a', 'b', 3),\n",
    "    ('c', 'd', 8),\n",
    "    ('c', 'e', 7),\n",
    "    ('b', 'c', 0.5),\n",
    "    ('b', 'f', 3.5),\n",
    "    ('b', 'g', 6),\n",
    "    ('e', 'd', 0.5),\n",
    "    ('d', 'h', 4.5),\n",
    "    ('d', 'i', 10),\n",
    "    ('e', 'f', 4.5),\n",
    "    ('f', 'h', 11),\n",
    "    ('e', 'i', 2.5),\n",
    "    ('g', 'i', 5.5),\n",
    "    ('g', 'h', 7.5),\n",
    "    ('i', 'h', 2),\n",
    "]\n",
    "\n",
    "\n",
    "first_network: DiGraph = DiGraph()\n",
    "for node in nodes:\n",
    "    first_network.add_node(node, pos=positions[node])\n",
    "first_network.add_weighted_edges_from(arcs, weight='cost')\n",
    "fig, ax = plt.subplots(figsize=(8, 6))\n",
    "draw_network(the_network=first_network, attr_edge_labels='cost', ax=ax)\n",
    "plt.show()\n"
   ]
  },
  {
   "cell_type": "markdown",
   "id": "084d903e",
   "metadata": {},
   "source": [
    "Here is how to obtain the list of arcs and associated data (here, the cost)."
   ]
  },
  {
   "cell_type": "code",
   "execution_count": null,
   "id": "661385b1",
   "metadata": {},
   "outputs": [],
   "source": [
    "first_arcs = first_network.edges(data=True)\n",
    "for arc in first_arcs:\n",
    "    print(arc)\n"
   ]
  },
  {
   "cell_type": "markdown",
   "id": "b57fd220",
   "metadata": {},
   "source": [
    "It means that, in order to access the information about an arc, you need to perform the\n",
    "following statements."
   ]
  },
  {
   "cell_type": "code",
   "execution_count": null,
   "id": "d6f2efd6",
   "metadata": {},
   "outputs": [],
   "source": [
    "\n",
    "for arc in first_arcs:\n",
    "    # For the upstream node\n",
    "    upstream_node_arc = arc[0]\n",
    "    # For the downstream node\n",
    "    downstream_node_arc = arc[1]\n",
    "    # For the cost\n",
    "    cost_arc = arc[2]['cost']\n",
    "    print(f'Cost {upstream_node_arc} -> {downstream_node_arc} = {cost_arc}')\n"
   ]
  },
  {
   "cell_type": "markdown",
   "id": "06757ae2",
   "metadata": {},
   "source": [
    "Here is how to obtain the list of nodes and associated data (here, the position)."
   ]
  },
  {
   "cell_type": "code",
   "execution_count": null,
   "id": "d052f209",
   "metadata": {},
   "outputs": [],
   "source": [
    "first_nodes = first_network.nodes(data=True)\n",
    "for node in first_nodes:\n",
    "    print(node)\n"
   ]
  },
  {
   "cell_type": "markdown",
   "id": "3c65c840",
   "metadata": {},
   "source": [
    "The data is accessed as follows."
   ]
  },
  {
   "cell_type": "code",
   "execution_count": null,
   "id": "86c8599f",
   "metadata": {},
   "outputs": [],
   "source": [
    "for node in first_nodes:\n",
    "    node_name = node[0]\n",
    "    node_position = node[1]['pos']\n",
    "    print(f'Coordinates of {node_name}: {node_position}')\n"
   ]
  },
  {
   "cell_type": "markdown",
   "id": "bce95702",
   "metadata": {},
   "source": [
    "Given a node, we can obtain the list of outgoing arcs."
   ]
  },
  {
   "cell_type": "markdown",
   "id": "6c63a922",
   "metadata": {},
   "source": [
    "From node 'a'"
   ]
  },
  {
   "cell_type": "code",
   "execution_count": null,
   "id": "e5d9af3d",
   "metadata": {},
   "outputs": [],
   "source": [
    "outgoing_arcs_from_a = first_network.out_edges('a', data=True)\n",
    "for arc in outgoing_arcs_from_a:\n",
    "    print(arc)\n"
   ]
  },
  {
   "cell_type": "markdown",
   "id": "5a6eea2a",
   "metadata": {},
   "source": [
    "From node 'd'"
   ]
  },
  {
   "cell_type": "code",
   "execution_count": null,
   "id": "0829b2ce",
   "metadata": {},
   "outputs": [],
   "source": [
    "outgoing_arcs_from_d = first_network.out_edges('d', data=True)\n",
    "for arc in outgoing_arcs_from_d:\n",
    "    print(arc)\n",
    "\n"
   ]
  },
  {
   "cell_type": "markdown",
   "id": "d2aec01b",
   "metadata": {},
   "source": [
    "# Dijkstra's shortest path algorithm"
   ]
  },
  {
   "cell_type": "markdown",
   "id": "6e4ec850",
   "metadata": {},
   "source": [
    "Now we implement Dijkstra's shortest path algorithm. Replace the `????`"
   ]
  },
  {
   "cell_type": "code",
   "execution_count": null,
   "id": "47614268",
   "metadata": {},
   "outputs": [],
   "source": [
    "\n",
    "\n",
    "def dijkstra_algorithm(\n",
    "    the_network: DiGraph, the_cost: str, the_origin: Any\n",
    ") -> tuple[dict[Any:float] | None, dict[Any, Any | None] | None, pd.DataFrame]:\n",
    "    \"\"\"\n",
    "\n",
    "    :param the_network: network representation\n",
    "    :param the_cost: name of the cost parameter\n",
    "    :param the_origin: node at the origin.\n",
    "    :return:a dict associated each node with their optimal label (or None if problem is unbounded), a dict associating\n",
    "        each node with its predecessor in the shortest path (or None if the problem is unbounded)\n",
    "        and a data frame describing the iterations\n",
    "    \"\"\"\n",
    "\n",
    "    # Initialize the labels and the predecessors\n",
    "    labels = {name: np.inf for name in the_network.nodes}\n",
    "    labels[the_origin] = 0\n",
    "    predecessors = {name: None for name in the_network.nodes}\n",
    "    the_arcs = the_network.edges(data=True)\n",
    "    # Identify the lowest cost in order to establish a lower bound on the labels\n",
    "    arc_with_lowest_cost = min(the_arcs, key=lambda x: x[2][the_cost])\n",
    "    lowest_cost = arc_with_lowest_cost[2][the_cost]\n",
    "    if lowest_cost < 0:\n",
    "        error_msg = (\n",
    "            f\"Dijkstra's algorithm cannot be used when some arcs have a negative cost. Here, arc \"\n",
    "            f\"{arc_with_lowest_cost} has cost {lowest_cost}\"\n",
    "        )\n",
    "        raise ValueError(error_msg)\n",
    "\n",
    "    # Initialize the set of nodes to be treated\n",
    "    nodes_to_be_treated = {the_origin}\n",
    "\n",
    "    iteration_number = 0\n",
    "\n",
    "    reporting_iteration: list[dict[str:Any]] = list()\n",
    "\n",
    "    # Loop until the set of nodes is empty.\n",
    "    while nodes_to_be_treated:\n",
    "        row = {\n",
    "            'Iteration': iteration_number,\n",
    "            'Set': str(nodes_to_be_treated),\n",
    "        }\n",
    "        # Select the node to be treated during this iteration, and remove it from the set.\n",
    "\n",
    "        current_node = ????\n",
    "\n",
    "\n",
    "\n",
    "        row['Node'] = current_node\n",
    "        for node, label in labels.items():\n",
    "            row[node] = label\n",
    "        reporting_iteration.append(row)\n",
    "        # Consider the list of outgoing arc\n",
    "        outgoing_arcs = ????\n",
    "\n",
    "\n",
    "        for arc in outgoing_arcs:\n",
    "            upstream_node = arc[0]\n",
    "            downstream_node = arc[1]\n",
    "            cost = arc[2][the_cost]\n",
    "            # Check if the label must be updated\n",
    "            if ????:\n",
    "\n",
    "\n",
    "                # Update the label\n",
    "                labels[????] = ????\n",
    "\n",
    "\n",
    "                # Update the predecessor\n",
    "                predecessors[????] = ????\n",
    "\n",
    "\n",
    "                # Update the set of nodes to be treated\n",
    "                nodes_to_be_treated.add(????)\n",
    "\n",
    "\n",
    "        iteration_number += 1\n",
    "\n",
    "    row = {'Iteration': iteration_number, 'Set': '{}', 'Node': ''}\n",
    "    for node, label in labels.items():\n",
    "        row[node] = label\n",
    "    reporting_iteration.append(row)\n",
    "    return labels, predecessors, pd.DataFrame(reporting_iteration)\n",
    "\n"
   ]
  },
  {
   "cell_type": "markdown",
   "id": "f1e8029e",
   "metadata": {},
   "source": [
    "# First example\n",
    "We run the algorithm on the example above."
   ]
  },
  {
   "cell_type": "code",
   "execution_count": null,
   "id": "beee9950",
   "metadata": {},
   "outputs": [],
   "source": [
    "optimal_labels, predecessors, iterations = dijkstra_algorithm(\n",
    "    the_network=first_network, the_cost='cost', the_origin='a'\n",
    ")\n"
   ]
  },
  {
   "cell_type": "markdown",
   "id": "e97af2c9",
   "metadata": {},
   "source": [
    "Optimal labels"
   ]
  },
  {
   "cell_type": "code",
   "execution_count": null,
   "id": "92221c3b",
   "metadata": {},
   "outputs": [],
   "source": [
    "display(optimal_labels)\n"
   ]
  },
  {
   "cell_type": "markdown",
   "id": "9fa62d13",
   "metadata": {},
   "source": [
    "Predecessors"
   ]
  },
  {
   "cell_type": "code",
   "execution_count": null,
   "id": "06a7d909",
   "metadata": {},
   "outputs": [],
   "source": [
    "display(predecessors)\n"
   ]
  },
  {
   "cell_type": "markdown",
   "id": "7005ae14",
   "metadata": {},
   "source": [
    "We add the optimal labels as attributes of the nodes"
   ]
  },
  {
   "cell_type": "code",
   "execution_count": null,
   "id": "3221837a",
   "metadata": {},
   "outputs": [],
   "source": [
    "set_node_attributes(first_network, optimal_labels, 'label')\n"
   ]
  },
  {
   "cell_type": "markdown",
   "id": "6c05b738",
   "metadata": {},
   "source": [
    "Description of the iterations"
   ]
  },
  {
   "cell_type": "code",
   "execution_count": null,
   "id": "4bf76f24",
   "metadata": {},
   "outputs": [],
   "source": [
    "display(iterations)\n",
    "\n"
   ]
  },
  {
   "cell_type": "markdown",
   "id": "80e957cc",
   "metadata": {},
   "source": [
    "We now write a recursive function to identify the shortest paths"
   ]
  },
  {
   "cell_type": "code",
   "execution_count": null,
   "id": "aa94206e",
   "metadata": {},
   "outputs": [],
   "source": [
    "def shortest_path(node: Any, the_predecessors: dict[Any, Any | None]) -> str:\n",
    "    \"\"\"Print the shortest path to a given node, recursively\"\"\"\n",
    "\n",
    "    # First case: if there is  no predecessor, it means that the path is the node itself.\n",
    "    if the_predecessors[node] is None:\n",
    "        return str(node)\n",
    "\n",
    "    # If there is a predecessor, with merge the path to the predecessor with the current node.\n",
    "    return f'{shortest_path(node=the_predecessors[node], the_predecessors=the_predecessors)} -> {str(node)}'\n",
    "\n"
   ]
  },
  {
   "cell_type": "markdown",
   "id": "3ba0aa43",
   "metadata": {},
   "source": [
    "Print the shortest paths"
   ]
  },
  {
   "cell_type": "code",
   "execution_count": null,
   "id": "58589370",
   "metadata": {},
   "outputs": [],
   "source": [
    "for node in first_network.nodes:\n",
    "    print(shortest_path(node=node, the_predecessors=predecessors))\n"
   ]
  },
  {
   "cell_type": "markdown",
   "id": "6e3aea0a",
   "metadata": {},
   "source": [
    "We create and plot the shortest path graph"
   ]
  },
  {
   "cell_type": "code",
   "execution_count": null,
   "id": "482e1f23",
   "metadata": {},
   "outputs": [],
   "source": [
    "shortest_path_arcs = [\n",
    "    (upstream, downstream)\n",
    "    for downstream, upstream in predecessors.items()\n",
    "    if upstream is not None\n",
    "]\n",
    "\n",
    "shortest_path_tree: DiGraph = DiGraph()\n",
    "for node in nodes:\n",
    "    shortest_path_tree.add_node(node, pos=positions[node])\n",
    "shortest_path_tree.add_edges_from(shortest_path_arcs)\n",
    "fig, ax = plt.subplots(figsize=(8, 6))\n",
    "draw_network(the_network=shortest_path_tree, ax=ax)\n",
    "plt.show()\n",
    "\n"
   ]
  },
  {
   "cell_type": "markdown",
   "id": "ab73c39d",
   "metadata": {},
   "source": [
    "# Second example"
   ]
  },
  {
   "cell_type": "code",
   "execution_count": null,
   "id": "4b18e35f",
   "metadata": {},
   "outputs": [],
   "source": [
    "positions = {\n",
    "    'a': (0, 0),\n",
    "    'b': (2, 1.5),\n",
    "    'c': (2, -1.5),\n",
    "    'd': (4, 1.5),\n",
    "    'e': (4, -1.5),\n",
    "    'f': (6, 0),\n",
    "    'g': (8, 1.5),\n",
    "    'h': (10, 0),\n",
    "    'i': (8, -1.5),\n",
    "}\n",
    "\n",
    "\n",
    "nodes = list(positions.keys())\n",
    "\n",
    "arcs = [\n",
    "    ('a', 'b', 8),\n",
    "    ('a', 'c', 14),\n",
    "    ('b', 'd', 9),\n",
    "    ('b', 'e', 7),\n",
    "    ('b', 'c', 4),\n",
    "    ('c', 'e', 11),\n",
    "    ('d', 'e', 12),\n",
    "    ('d', 'f', 17),\n",
    "    ('e', 'f', 3),\n",
    "    ('e', 'i', 8),\n",
    "    ('f', 'h', 9),\n",
    "    ('f', 'g', 5),\n",
    "    ('g', 'h', 3),\n",
    "    ('i', 'h', 9),\n",
    "]\n",
    "\n"
   ]
  },
  {
   "cell_type": "markdown",
   "id": "c55dad14",
   "metadata": {},
   "source": [
    "We plot the network"
   ]
  },
  {
   "cell_type": "code",
   "execution_count": null,
   "id": "57a4e26e",
   "metadata": {},
   "outputs": [],
   "source": [
    "second_network: DiGraph = DiGraph()\n",
    "for node in nodes:\n",
    "    second_network.add_node(node, pos=positions[node])\n",
    "second_network.add_weighted_edges_from(arcs, weight='cost')\n",
    "fig, ax = plt.subplots(figsize=(8, 6))\n",
    "draw_network(the_network=second_network, attr_edge_labels='cost', ax=ax)\n",
    "plt.show()\n"
   ]
  },
  {
   "cell_type": "code",
   "execution_count": null,
   "id": "e0919499",
   "metadata": {},
   "outputs": [],
   "source": [
    "optimal_labels, predecessors, iterations = dijkstra_algorithm(\n",
    "    the_network=second_network, the_cost='cost', the_origin='a'\n",
    ")\n"
   ]
  },
  {
   "cell_type": "markdown",
   "id": "ae9b1a4e",
   "metadata": {},
   "source": [
    "Optimal labels"
   ]
  },
  {
   "cell_type": "code",
   "execution_count": null,
   "id": "303b5132",
   "metadata": {},
   "outputs": [],
   "source": [
    "display(optimal_labels)\n"
   ]
  },
  {
   "cell_type": "markdown",
   "id": "71afe5b8",
   "metadata": {},
   "source": [
    "Predecessors"
   ]
  },
  {
   "cell_type": "code",
   "execution_count": null,
   "id": "755fb1cb",
   "metadata": {},
   "outputs": [],
   "source": [
    "display(predecessors)\n"
   ]
  },
  {
   "cell_type": "markdown",
   "id": "a92b064f",
   "metadata": {},
   "source": [
    "We add the optimal labels as attributes of the nodes"
   ]
  },
  {
   "cell_type": "code",
   "execution_count": null,
   "id": "b3bd73ec",
   "metadata": {},
   "outputs": [],
   "source": [
    "if optimal_labels is not None:\n",
    "    set_node_attributes(second_network, optimal_labels, 'label')\n"
   ]
  },
  {
   "cell_type": "markdown",
   "id": "feb068ff",
   "metadata": {},
   "source": [
    "Description of the iterations"
   ]
  },
  {
   "cell_type": "code",
   "execution_count": null,
   "id": "d1daa87e",
   "metadata": {},
   "outputs": [],
   "source": [
    "display(iterations)\n"
   ]
  },
  {
   "cell_type": "markdown",
   "id": "43ecba62",
   "metadata": {},
   "source": [
    "Print the shortest paths"
   ]
  },
  {
   "cell_type": "code",
   "execution_count": null,
   "id": "eddeeb92",
   "metadata": {},
   "outputs": [],
   "source": [
    "for node in second_network.nodes:\n",
    "    print(shortest_path(node=node, the_predecessors=predecessors))\n"
   ]
  },
  {
   "cell_type": "markdown",
   "id": "b81bb5c9",
   "metadata": {},
   "source": [
    "We create and plot the shortest path graph"
   ]
  },
  {
   "cell_type": "code",
   "execution_count": null,
   "id": "c8b20243",
   "metadata": {},
   "outputs": [],
   "source": [
    "shortest_path_arcs = [\n",
    "    (upstream, downstream)\n",
    "    for downstream, upstream in predecessors.items()\n",
    "    if upstream is not None\n",
    "]\n",
    "\n",
    "shortest_path_tree: DiGraph = DiGraph()\n",
    "for node in nodes:\n",
    "    shortest_path_tree.add_node(node, pos=positions[node])\n",
    "shortest_path_tree.add_edges_from(shortest_path_arcs)\n",
    "fig, ax = plt.subplots(figsize=(8, 6))\n",
    "draw_network(the_network=shortest_path_tree, ax=ax)\n",
    "plt.show()\n"
   ]
  },
  {
   "cell_type": "markdown",
   "id": "08075953",
   "metadata": {},
   "source": [
    "For future exercises, it is possible to perform the same tasks using the package."
   ]
  },
  {
   "cell_type": "markdown",
   "id": "68cd5efe",
   "metadata": {},
   "source": [
    "Initialization"
   ]
  },
  {
   "cell_type": "code",
   "execution_count": null,
   "id": "06002674",
   "metadata": {},
   "outputs": [],
   "source": [
    "the_algorithm = ShortestPathAlgorithm(\n",
    "    the_network=second_network, the_cost_name='cost', the_origin='a'\n",
    ")\n"
   ]
  },
  {
   "cell_type": "markdown",
   "id": "ef6f7ba9",
   "metadata": {},
   "source": [
    "Running the algorithm"
   ]
  },
  {
   "cell_type": "code",
   "execution_count": null,
   "id": "195ffdc7",
   "metadata": {},
   "outputs": [],
   "source": [
    "the_algorithm.shortest_path_algorithm()\n"
   ]
  },
  {
   "cell_type": "markdown",
   "id": "1220d475",
   "metadata": {},
   "source": [
    "Printing the shortest paths"
   ]
  },
  {
   "cell_type": "code",
   "execution_count": null,
   "id": "223c2a5f",
   "metadata": {},
   "outputs": [],
   "source": [
    "the_shortest_paths = the_algorithm.list_of_shortest_paths()\n"
   ]
  },
  {
   "cell_type": "markdown",
   "id": "98fbe850",
   "metadata": {},
   "source": [
    "Plotting the results"
   ]
  },
  {
   "cell_type": "code",
   "execution_count": null,
   "id": "4d969c20",
   "metadata": {},
   "outputs": [],
   "source": [
    "the_algorithm.plot_shortest_path_tree()\n"
   ]
  },
  {
   "cell_type": "markdown",
   "id": "e5b0ad2b",
   "metadata": {},
   "source": [
    "# Third example."
   ]
  },
  {
   "cell_type": "code",
   "execution_count": null,
   "id": "0ee4af22",
   "metadata": {},
   "outputs": [],
   "source": [
    "positions = {\n",
    "    'a': (0, 0),\n",
    "    'b': (2, 1.5),\n",
    "    'c': (2, -1.5),\n",
    "    'd': (4, 1.5),\n",
    "    'e': (4, -1.5),\n",
    "    'f': (6, 0),\n",
    "    'g': (8, 1.5),\n",
    "    'h': (10, 0),\n",
    "    'i': (8, -1.5),\n",
    "}\n",
    "\n",
    "\n",
    "nodes = list(positions.keys())\n",
    "\n",
    "arcs = [\n",
    "    ('a', 'b', 8),\n",
    "    ('a', 'c', 14),\n",
    "    ('b', 'd', 9),\n",
    "    ('b', 'e', 7),\n",
    "    ('b', 'c', 4),\n",
    "    ('c', 'e', -11),\n",
    "    ('d', 'e', 12),\n",
    "    ('d', 'f', 17),\n",
    "    ('e', 'f', 3),\n",
    "    ('e', 'i', 8),\n",
    "    ('f', 'h', 9),\n",
    "    ('f', 'g', 5),\n",
    "    ('g', 'h', 3),\n",
    "    ('i', 'h', 9),\n",
    "]\n"
   ]
  },
  {
   "cell_type": "markdown",
   "id": "f24e8792",
   "metadata": {},
   "source": [
    "We plot the network"
   ]
  },
  {
   "cell_type": "code",
   "execution_count": null,
   "id": "908fdc78",
   "metadata": {},
   "outputs": [],
   "source": [
    "third_network: DiGraph = DiGraph()\n",
    "for node in nodes:\n",
    "    third_network.add_node(node, pos=positions[node])\n",
    "third_network.add_weighted_edges_from(arcs, weight='cost')\n",
    "fig, ax = plt.subplots(figsize=(8, 6))\n",
    "draw_network(the_network=third_network, attr_edge_labels='cost', ax=ax)\n",
    "plt.show()\n"
   ]
  },
  {
   "cell_type": "markdown",
   "id": "4d367872",
   "metadata": {},
   "source": [
    "We try to run the algorithm"
   ]
  },
  {
   "cell_type": "code",
   "execution_count": null,
   "id": "4d5080c4",
   "metadata": {},
   "outputs": [],
   "source": [
    "try:\n",
    "    optimal_labels, predecessors, iterations = dijkstra_algorithm(\n",
    "        the_network=third_network, the_cost='cost', the_origin='a'\n",
    "    )\n",
    "except ValueError as e:\n",
    "    print('Algorithm failed.', e)"
   ]
  }
 ],
 "metadata": {},
 "nbformat": 4,
 "nbformat_minor": 5
}

{
 "cells": [
  {
   "cell_type": "markdown",
   "id": "02695c58",
   "metadata": {},
   "source": [
    "# Transhipment: standard form\n",
    "\n",
    "## Introduction to optimization and operations research\n",
    "\n",
    "Michel Bierlaire\n"
   ]
  },
  {
   "cell_type": "code",
   "execution_count": null,
   "id": "358b267a",
   "metadata": {},
   "outputs": [],
   "source": [
    "\n",
    "import sys\n",
    "from typing import Any\n",
    "\n",
    "import numpy as np\n",
    "from matplotlib import pyplot as plt\n",
    "from networkx import (\n",
    "    DiGraph,\n",
    "    draw_networkx_edges,\n",
    "    draw_networkx_nodes,\n",
    "    draw_networkx_labels,\n",
    "    draw_networkx_edge_labels,\n",
    "    Graph,\n",
    ")\n",
    "from teaching_optimization.simplex_tableau import SimplexAlgorithmTableau\n",
    "from teaching_optimization.tableau import SimplexTableau\n"
   ]
  },
  {
   "cell_type": "markdown",
   "id": "90b633bf",
   "metadata": {},
   "source": [
    "A node in the_network can be of any type. In this script, we use str."
   ]
  },
  {
   "cell_type": "code",
   "execution_count": null,
   "id": "46c40f2a",
   "metadata": {},
   "outputs": [],
   "source": [
    "Node = Any\n"
   ]
  },
  {
   "cell_type": "markdown",
   "id": "66ae9f92",
   "metadata": {},
   "source": [
    "Consider three factories which produce honey in Boston, New York and\n",
    "Los Angeles, whose supplies are 200 units, 250 units and 300 units per\n",
    "day, respectively. Customers have a demand of 250 units per day in\n",
    "each city. The costs for transporting one unit are the following:"
   ]
  },
  {
   "cell_type": "markdown",
   "id": "b7b24074",
   "metadata": {},
   "source": [
    "- from Los Angeles to Boston is \\$1,\n",
    "- from Los Angeles to New York is \\$0.5,\n",
    "- from New York to Boston is \\$0.8."
   ]
  },
  {
   "cell_type": "markdown",
   "id": "6b719ba4",
   "metadata": {},
   "source": [
    "A maximum of 40 units per day can be transported from one city to\n",
    "another. Moreover, due to a specific contract with the shipping\n",
    "company, we have to transport at least 20 units from New-York to\n",
    "Boston.  We want to find the cheapest way to transport the honey from\n",
    "the factories to the customers.\n",
    "\n",
    "\n",
    "# Question 1\n",
    "Represent the problem as a the_network.  Notify the supply/demand\n",
    "data $s_i$ next to the name of each node $i$. Next to each arc $(i,j)$, notify\n",
    "the cost and the capacities using the notation $c_{ij} (\\ell_{ij},\n",
    "u_{ij})$."
   ]
  },
  {
   "cell_type": "markdown",
   "id": "aaf5992e",
   "metadata": {},
   "source": [
    "Create a directed graph"
   ]
  },
  {
   "cell_type": "code",
   "execution_count": null,
   "id": "3258ecd6",
   "metadata": {},
   "outputs": [],
   "source": [
    "original_network = DiGraph()\n"
   ]
  },
  {
   "cell_type": "markdown",
   "id": "fec13d9d",
   "metadata": {},
   "source": [
    "Supply and demand at each factory"
   ]
  },
  {
   "cell_type": "code",
   "execution_count": null,
   "id": "ae5e1023",
   "metadata": {},
   "outputs": [],
   "source": [
    "original_network.add_node('Los Angeles', supply=300 - 250)\n",
    "original_network.add_node('New York', supply=250 - 250)\n",
    "original_network.add_node('Boston', supply=200 - 250)\n"
   ]
  },
  {
   "cell_type": "markdown",
   "id": "71beea64",
   "metadata": {},
   "source": [
    "Add arcs with cost, and capacity (lower and upper bound)"
   ]
  },
  {
   "cell_type": "code",
   "execution_count": null,
   "id": "07d127dd",
   "metadata": {},
   "outputs": [],
   "source": [
    "original_network.add_edge(\n",
    "    'Los Angeles', 'Boston', cost=1, lower_bound=0, upper_bound=40\n",
    ")\n",
    "original_network.add_edge(\n",
    "    'Los Angeles', 'New York', cost=0.5, lower_bound=0, upper_bound=40\n",
    ")\n",
    "original_network.add_edge(\n",
    "    'New York', 'Boston', cost=0.8, lower_bound=20, upper_bound=40\n",
    ")\n"
   ]
  },
  {
   "cell_type": "markdown",
   "id": "9e6e4946",
   "metadata": {},
   "source": [
    "Define coordinates for the plot."
   ]
  },
  {
   "cell_type": "code",
   "execution_count": null,
   "id": "4eff84a4",
   "metadata": {},
   "outputs": [],
   "source": [
    "pos = {'Los Angeles': (0, 3), 'New York': (-3, 0), 'Boston': (3, 0)}\n",
    "\n"
   ]
  },
  {
   "cell_type": "markdown",
   "id": "bebf5671",
   "metadata": {},
   "source": [
    "Function to plot the the_network"
   ]
  },
  {
   "cell_type": "code",
   "execution_count": null,
   "id": "57e4ef3c",
   "metadata": {},
   "outputs": [],
   "source": [
    "def plot_network(network: Graph, positions: dict[Node, tuple[float, float]]) -> None:\n",
    "    \"\"\"Plot the the_network and its data.\n",
    "\n",
    "    :param network: the_network to plot.\n",
    "    :param positions: coordinate sof the nodes\n",
    "    \"\"\"\n",
    "\n",
    "    # Figure size\n",
    "    plt.figure(figsize=(10, 10))\n",
    "\n",
    "    # Draw the nodes\n",
    "    draw_networkx_nodes(\n",
    "        network, positions, node_size=5000, node_color='lightblue', alpha=0.5\n",
    "    )\n",
    "\n",
    "    # Draw the node labels (supply/demand)\n",
    "    node_labels = {}\n",
    "    for node, data in network.nodes(data=True):\n",
    "        supply = data['supply']\n",
    "        node_labels[node] = f'{node} [{supply}]'\n",
    "\n",
    "    shifted_positions = {\n",
    "        node: (coord[0], coord[1] - 0.2) for node, coord in positions.items()\n",
    "    }\n",
    "    draw_networkx_labels(\n",
    "        network, shifted_positions, labels=node_labels, font_size=12, font_weight='bold'\n",
    "    )\n",
    "\n",
    "    # Draw the arcs with labels\n",
    "    edge_labels = {}\n",
    "    for u, v, data in network.edges(data=True):\n",
    "        lower_bound = data['lower_bound']\n",
    "        upper_bound = data['upper_bound']\n",
    "        cost = data['cost']\n",
    "        label = f'{cost} ({lower_bound},{upper_bound})'\n",
    "        edge_labels[(u, v)] = label\n",
    "\n",
    "    draw_networkx_edges(network, positions, arrowstyle='->', arrowsize=20)\n",
    "    draw_networkx_edge_labels(network, positions, edge_labels=edge_labels, font_size=10)\n",
    "\n",
    "    # Display the graph\n",
    "    plt.title(\"Transhipment the_network with costs and capacities\")\n",
    "    plt.axis('off')\n",
    "    plt.show()\n",
    "\n",
    "\n",
    "plot_network(network=original_network, positions=pos)\n"
   ]
  },
  {
   "cell_type": "markdown",
   "id": "cab72e6b",
   "metadata": {},
   "source": [
    "# Question 2\n",
    "Write the transhipment problem as a linear optimization problem."
   ]
  },
  {
   "cell_type": "markdown",
   "id": "981ad46d",
   "metadata": {},
   "source": [
    "The transhipment problem is defined as follows.\n",
    "$$\n",
    "\\min_{x \\in \\mathbb{R}^3} 0.5 x_{LN} + x_{LB} + 0.8 x_{NB}\n",
    "$$\n",
    "where the decision variables are the flow on each arc, subject to the\n",
    "flow conservation constraints for each node:\n",
    "\\begin{align*}\n",
    "x_{LN} + x_{LB} &= 50, \\\\ x_{NB} - x_{LN} &= 0, \\\\ -x_{LB} - x_{NB}\n",
    "= -50,\n",
    "\\end{align*}\n",
    "and subject to the capacity constraints for each arc:\n",
    "\\begin{align*}\n",
    "0 &\\leq x_{LN} \\leq 40, \\\\ 0 &\\leq x_{LB} \\leq 40, \\\\ 20 &\\leq x_{NB}\n",
    "\\leq 40. \\\\\n",
    "\\end{align*}"
   ]
  },
  {
   "cell_type": "markdown",
   "id": "f2f25762",
   "metadata": {},
   "source": [
    "# Question 3\n",
    "Identify the data $A\\in\\mathbb{R}^{m \\times n}$, $b \\in \\mathbb{R}^m$, $c \\in\n",
    "\\mathbb{R}^n$ of the transhipment problem in standard form:\n",
    "$$\n",
    "\\min_{x \\in \\mathbb{R}^n} c^Tx\n",
    "$$\n",
    "subject to\n",
    "\\begin{align*}\n",
    "Ax &= b, \\\\ x & \\geq 0,\n",
    "\\end{align*}\n",
    "where the matrix $A$ is such that there are only two non zeros entries\n",
    "in each column: 1 and -1.\n",
    "Follow the procedure in the book pp. 531-533.\n",
    "[Optimization Principles and Algorithms (2018)](https://transp-or.epfl.ch/books/optimization/html/OptimizationPrinciplesAlgorithms2018.pdf)"
   ]
  },
  {
   "cell_type": "markdown",
   "id": "632c7707",
   "metadata": {},
   "source": [
    "## Set the lower bounds to 0."
   ]
  },
  {
   "cell_type": "markdown",
   "id": "27da3f05",
   "metadata": {},
   "source": [
    "We advise you to do it first by hand to understand the process."
   ]
  },
  {
   "cell_type": "markdown",
   "id": "b37a041f",
   "metadata": {},
   "source": [
    "We first set the lower bounds to\n",
    "zero by a change of variables $x_{ij}' = x_{ij}- \\ell_{ij}$. We\n",
    "define\n",
    "\\begin{align*}\n",
    "x'_{LN} &= x_{LN}, \\\\ x'_{LB} &= x_{LB}, \\\\ x'_{NB} &= x_{NB} -\n",
    "20. \\\\\n",
    "\\end{align*}\n",
    "The problem becomes\n",
    "$$\n",
    "\\min_{x \\in \\R^3} 0.5 x'_{LN} + x'_{LB} + 0.8 x'_{NB} + 16\n",
    "$$\n",
    "subject to the flow conservation constraints for each node:\n",
    "\\begin{align*}\n",
    "x'_{LN} + x'_{LB} &= 50, \\\\ x'_{NB} - x'_{LN} &= -20, \\\\ -x'_{LB} -\n",
    "x'_{NB} &= -30,\n",
    "\\end{align*}\n",
    "\\begin{align*}\n",
    "0 &\\leq x'_{LN} \\leq 40, \\\\ 0 &\\leq x'_{LB} \\leq 40, \\\\ 0 &\\leq\n",
    "x'_{NB} \\leq 20. \\\\\n",
    "\\end{align*}\n",
    "Note that the constant term in the objective function (16) can be\n",
    "ignored."
   ]
  },
  {
   "cell_type": "markdown",
   "id": "096e315e",
   "metadata": {},
   "source": [
    "Now implement the modification. Create a new the_network, with the same topology of the original one, but\n",
    "with new supply/demand values defined by:\n",
    "$$\n",
    "\\sum_{j | (i,j) \\in \\mathcal{A}} x'_{ij} - \\sum_{k | (k,i) \\in\n",
    "\\mathcal{A}} x'_{ki}  = s_i +  \\sum_{k | (k,i) \\in\n",
    "\\mathcal{A}} \\ell_{ki} - \\sum_{j | (i,j) \\in \\mathcal{A}} \\ell_{ij} ,  \\; \\forall i \\in \\mathcal{C},\n",
    "$$"
   ]
  },
  {
   "cell_type": "code",
   "execution_count": null,
   "id": "72a20b6c",
   "metadata": {},
   "outputs": [],
   "source": [
    "shifted_network = original_network.copy()\n",
    "\n",
    "for node, node_data in shifted_network.nodes(data=True):\n",
    "    correction = 0\n",
    "    for u, v, edge_data in shifted_network.in_edges(node, data=True):\n",
    "        correction += edge_data['lower_bound']\n",
    "    for u, v, edge_data in shifted_network.out_edges(node, data=True):\n",
    "        correction -= edge_data['lower_bound']\n",
    "    node_data['supply'] += correction\n"
   ]
  },
  {
   "cell_type": "markdown",
   "id": "a292f32c",
   "metadata": {},
   "source": [
    "We also modify the bounds on the variables:\n",
    "$$\n",
    "0 \\leq x'_{ij} \\leq u_{ij}- \\ell_{ij}, \\; \\forall (i,j) \\in \\mathcal{A}.\n",
    "$$"
   ]
  },
  {
   "cell_type": "code",
   "execution_count": null,
   "id": "daae0685",
   "metadata": {},
   "outputs": [],
   "source": [
    "\n",
    "for u, v, data in shifted_network.edges(data=True):\n",
    "    lower_bound = data['lower_bound']\n",
    "    upper_bound = data['upper_bound']\n",
    "    data['lower_bound'] = 0\n",
    "    data['upper_bound'] = upper_bound - lower_bound\n"
   ]
  },
  {
   "cell_type": "markdown",
   "id": "7a968bb2",
   "metadata": {},
   "source": [
    "We plot the shifted the_network."
   ]
  },
  {
   "cell_type": "code",
   "execution_count": null,
   "id": "eab2efe1",
   "metadata": {},
   "outputs": [],
   "source": [
    "plot_network(network=shifted_network, positions=pos)\n"
   ]
  },
  {
   "cell_type": "markdown",
   "id": "f90d1d8b",
   "metadata": {},
   "source": [
    "## Introduce slack variables as additional nodes and arcs."
   ]
  },
  {
   "cell_type": "markdown",
   "id": "c33a7e45",
   "metadata": {},
   "source": [
    "We create a new the_network where:\n",
    "- each node of the original the_network is included,\n",
    "- each arc of the original the_network is associated with a new node in the new the_network,\n",
    "as illustrated in Figure 22.2 in the book."
   ]
  },
  {
   "cell_type": "code",
   "execution_count": null,
   "id": "375bb6f4",
   "metadata": {},
   "outputs": [],
   "source": [
    "\n",
    "new_network = DiGraph()\n",
    "new_pos = {}\n",
    "for node, node_data in shifted_network.nodes(data=True):\n",
    "    # For each node of the shifted the_network, we create a  node in the new the_network, with a different supply data.\n",
    "    supply = node_data['supply']\n",
    "    # For each outgoing arc, we deduce the upper bound.\n",
    "    for u, v, edge_data in shifted_network.out_edges(node, data=True):\n",
    "        supply -= edge_data['upper_bound']\n",
    "\n",
    "    new_network.add_node(node, supply=supply)\n",
    "    new_pos[node] = pos[node]\n",
    "\n",
    "for u, v, edge_data in shifted_network.edges(data=True):\n",
    "    # For each arc of the shifted the_network, we create a node in the new the_network, and two arcs: one corresponding to the\n",
    "    # original arc, and one corresponding to the slack variable.\n",
    "\n",
    "    # We define the name of the new node.\n",
    "    slack_node = f'slack_{u}_{v}'\n",
    "    # The supply of the new node is the upper bound of the corresponding arc.\n",
    "    supply_new_node = edge_data['upper_bound']\n",
    "    new_network.add_node(slack_node, supply=supply_new_node)\n",
    "\n",
    "    # We add an arc between the new node and the downstream node\n",
    "\n",
    "    # The lower bound is 0\n",
    "    lower_bound_down_arc = 0\n",
    "    # The upper bound is not needed anymore. We set it to $\\infty$.\n",
    "    upper_bound_down_arc = np.inf\n",
    "    # The cost of the new arc is the cost of the corresponding arc, as it plays the role of the original arc.\n",
    "    cost_down_arc = edge_data['cost']\n",
    "    new_network.add_edge(\n",
    "        slack_node,\n",
    "        v,\n",
    "        cost=cost_down_arc,\n",
    "        lower_bound=lower_bound_down_arc,\n",
    "        upper_bound=upper_bound_down_arc,\n",
    "    )\n",
    "\n",
    "    # We also add an arc between the new node and the upstream node\n",
    "\n",
    "    # The lower bound is 0\n",
    "    lower_bound_up_arc = 0\n",
    "    # The upper bound is not needed anymore. We set it to $\\infty$.\n",
    "    upper_bound_up_arc = np.inf\n",
    "    # The cost of the new arc is 0, as it corresponds to the slack variable.\n",
    "    cost_up_arc = 0\n",
    "    new_network.add_edge(\n",
    "        slack_node,\n",
    "        u,\n",
    "        cost=cost_up_arc,\n",
    "        lower_bound=lower_bound_up_arc,\n",
    "        upper_bound=upper_bound_up_arc,\n",
    "    )\n",
    "    # We position the new node in the middle of the corresponding arc.\n",
    "    coord_u_x, coord_u_y = pos[u]\n",
    "    coord_v_x, coord_v_y = pos[v]\n",
    "    new_pos[slack_node] = (0.5 * (coord_u_x + coord_v_x), 0.5 * (coord_u_y + coord_v_y))\n"
   ]
  },
  {
   "cell_type": "markdown",
   "id": "7fcbba22",
   "metadata": {},
   "source": [
    "We plot the new the_network."
   ]
  },
  {
   "cell_type": "code",
   "execution_count": null,
   "id": "86f68a89",
   "metadata": {},
   "outputs": [],
   "source": [
    "plot_network(network=new_network, positions=new_pos)\n"
   ]
  },
  {
   "cell_type": "markdown",
   "id": "1334190b",
   "metadata": {},
   "source": [
    "Now, we can extract the data of the problem."
   ]
  },
  {
   "cell_type": "markdown",
   "id": "f2218501",
   "metadata": {},
   "source": [
    "First, we calculate the incidence matrix."
   ]
  },
  {
   "cell_type": "markdown",
   "id": "8e902e40",
   "metadata": {},
   "source": [
    "Extract the incidence matrix of the the_network, column by column.\n",
    "Note: networkx includes a function that calculates the incidence matrix, but uses the opposite convention for\n",
    "the 1 and -1. If you decide to use it, make sure to change all the signs. If not, the transhipment\n",
    "problem will be infeasible."
   ]
  },
  {
   "cell_type": "code",
   "execution_count": null,
   "id": "5c205697",
   "metadata": {},
   "outputs": [],
   "source": [
    "list_of_nodes = list(new_network.nodes())\n",
    "list_of_columns = []\n",
    "for u, v in new_network.edges():\n",
    "    the_column = [0] * len(list_of_nodes)\n",
    "    upstream_index = list_of_nodes.index(u)\n",
    "    downstream_index = list_of_nodes.index(v)\n",
    "    the_column[upstream_index] = 1\n",
    "    the_column[downstream_index] = -1\n",
    "    list_of_columns.append(the_column)\n",
    "\n",
    "\n",
    "incidence_matrix = np.array(list_of_columns).T\n",
    "\n",
    "n_rows = incidence_matrix.shape[0]\n",
    "n_columns = incidence_matrix.shape[1]\n",
    "print(f'The incidence matrix has {n_rows} rows and {n_columns} columns')\n",
    "print(incidence_matrix)\n",
    "\n"
   ]
  },
  {
   "cell_type": "markdown",
   "id": "b4c1aebf",
   "metadata": {},
   "source": [
    "The matrix $A$ of the optimization problem"
   ]
  },
  {
   "cell_type": "code",
   "execution_count": null,
   "id": "11e25246",
   "metadata": {},
   "outputs": [],
   "source": [
    "matrix_a = incidence_matrix\n"
   ]
  },
  {
   "cell_type": "markdown",
   "id": "5c00bf3f",
   "metadata": {},
   "source": [
    "The cost vector $c$"
   ]
  },
  {
   "cell_type": "code",
   "execution_count": null,
   "id": "f27ea8a2",
   "metadata": {},
   "outputs": [],
   "source": [
    "vector_c = np.array(\n",
    "    [edge_data['cost'] for _, _, edge_data in new_network.edges(data=True)]\n",
    ")\n"
   ]
  },
  {
   "cell_type": "markdown",
   "id": "91885f55",
   "metadata": {},
   "source": [
    "The right-hand-side $b$"
   ]
  },
  {
   "cell_type": "code",
   "execution_count": null,
   "id": "a92136ad",
   "metadata": {},
   "outputs": [],
   "source": [
    "vector_b = np.array(\n",
    "    [node_data['supply'] for _, node_data in new_network.nodes(data=True)]\n",
    ")\n",
    "\n"
   ]
  },
  {
   "cell_type": "markdown",
   "id": "2a3591ad",
   "metadata": {},
   "source": [
    "# Question 4\n",
    "What is the rank of the matrix $A$? Is the matrix full rank?"
   ]
  },
  {
   "cell_type": "code",
   "execution_count": null,
   "id": "a3517bc8",
   "metadata": {},
   "outputs": [],
   "source": [
    "rank = np.linalg.matrix_rank(incidence_matrix)\n",
    "print(f'Its rank is {rank}')\n"
   ]
  },
  {
   "cell_type": "markdown",
   "id": "87c86e02",
   "metadata": {},
   "source": [
    "We note that the rank is deficient. It is normal, as the sum of all the rows is the null vector. Indeed,\n",
    "each column contains exactly one 1 and one -1."
   ]
  },
  {
   "cell_type": "code",
   "execution_count": null,
   "id": "6322ee1f",
   "metadata": {},
   "outputs": [],
   "source": [
    "row_sums = np.sum(incidence_matrix, axis=0)\n",
    "print(row_sums)\n"
   ]
  },
  {
   "cell_type": "markdown",
   "id": "d02481bd",
   "metadata": {},
   "source": [
    "# Question 5\n",
    "Solve the problem with the simplex algorithm."
   ]
  },
  {
   "cell_type": "markdown",
   "id": "3587453c",
   "metadata": {},
   "source": [
    "We create the algorithm"
   ]
  },
  {
   "cell_type": "code",
   "execution_count": null,
   "id": "9a3a9362",
   "metadata": {},
   "outputs": [],
   "source": [
    "the_algorithm = SimplexAlgorithmTableau(\n",
    "    objective=vector_c,\n",
    "    constraint_matrix=matrix_a,\n",
    "    right_hand_side=vector_b,\n",
    ")\n"
   ]
  },
  {
   "cell_type": "markdown",
   "id": "4ec90691",
   "metadata": {},
   "source": [
    "We solve the problem"
   ]
  },
  {
   "cell_type": "code",
   "execution_count": null,
   "id": "a7832f3a",
   "metadata": {},
   "outputs": [],
   "source": [
    "optimal_tableau: SimplexTableau = the_algorithm.solve()\n"
   ]
  },
  {
   "cell_type": "markdown",
   "id": "3f2689ba",
   "metadata": {},
   "source": [
    "Check if the problem is feasible"
   ]
  },
  {
   "cell_type": "code",
   "execution_count": null,
   "id": "583a602e",
   "metadata": {},
   "outputs": [],
   "source": [
    "if optimal_tableau is None:\n",
    "    print(f'Optimization problem is infeasible.')\n",
    "    sys.exit()\n"
   ]
  },
  {
   "cell_type": "markdown",
   "id": "f110c828",
   "metadata": {},
   "source": [
    "Optimal solution"
   ]
  },
  {
   "cell_type": "code",
   "execution_count": null,
   "id": "b237075d",
   "metadata": {},
   "outputs": [],
   "source": [
    "print(optimal_tableau.feasible_basic_solution)\n"
   ]
  },
  {
   "cell_type": "markdown",
   "id": "83ef1456",
   "metadata": {},
   "source": [
    "We construct the optimal flows from the solution."
   ]
  },
  {
   "cell_type": "code",
   "execution_count": null,
   "id": "edd005e8",
   "metadata": {},
   "outputs": [],
   "source": [
    "optimal_flows_new_network = {\n",
    "    (u, v): optimal_tableau.feasible_basic_solution[index]\n",
    "    for index, (u, v, edge_data) in enumerate(new_network.edges(data=True))\n",
    "}\n",
    "for edge, flow in optimal_flows_new_network.items():\n",
    "    print(f'{edge}: {flow}')\n",
    "\n"
   ]
  },
  {
   "cell_type": "markdown",
   "id": "f273fc28",
   "metadata": {},
   "source": [
    "Optimal value"
   ]
  },
  {
   "cell_type": "code",
   "execution_count": null,
   "id": "ff87e171",
   "metadata": {},
   "outputs": [],
   "source": [
    "print(f'{optimal_tableau.value_objective_function:.3g}')\n"
   ]
  },
  {
   "cell_type": "markdown",
   "id": "ff611d80",
   "metadata": {},
   "source": [
    "We can now reconstruct the optimal flow in the original the_network."
   ]
  },
  {
   "cell_type": "markdown",
   "id": "92a79d15",
   "metadata": {},
   "source": [
    "First, we calculate the optimal flows in the shifted the_network"
   ]
  },
  {
   "cell_type": "code",
   "execution_count": null,
   "id": "5517c0dc",
   "metadata": {},
   "outputs": [],
   "source": [
    "optimal_flows_shifted_network = {}\n",
    "for u, v in shifted_network.edges():\n",
    "    corresponding_edge = (f'slack_{u}_{v}', v)\n",
    "    optimal_flows_shifted_network[(u, v)] = optimal_flows_new_network[\n",
    "        corresponding_edge\n",
    "    ]\n",
    "for edge, flow in optimal_flows_shifted_network.items():\n",
    "    print(f'{edge}: {flow}')\n"
   ]
  },
  {
   "cell_type": "markdown",
   "id": "6b0f4a01",
   "metadata": {},
   "source": [
    "And then, we calculate the optimal flows for the original the_network."
   ]
  },
  {
   "cell_type": "code",
   "execution_count": null,
   "id": "c2ac45a0",
   "metadata": {},
   "outputs": [],
   "source": [
    "optimal_flows_original_network = {}\n",
    "for u, v, edge_data in original_network.edges(data=True):\n",
    "    optimal_flows_original_network[(u, v)] = (\n",
    "        optimal_flows_shifted_network[(u, v)] + edge_data['lower_bound']\n",
    "    )\n",
    "\n",
    "for edge, flow in optimal_flows_original_network.items():\n",
    "    print(f'{edge}: {flow}')"
   ]
  }
 ],
 "metadata": {},
 "nbformat": 4,
 "nbformat_minor": 5
}

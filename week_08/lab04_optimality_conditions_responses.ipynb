{
 "cells": [
  {
   "cell_type": "markdown",
   "id": "791d6855",
   "metadata": {},
   "source": [
    "# Transhipment: optimality conditions\n",
    "\n",
    "## Introduction to optimization and operations research\n",
    "\n",
    "Michel Bierlaire\n"
   ]
  },
  {
   "cell_type": "code",
   "execution_count": null,
   "id": "a7cdfe3d",
   "metadata": {},
   "outputs": [],
   "source": [
    "\n",
    "from itertools import chain\n",
    "from typing import Any\n",
    "\n",
    "import numpy as np\n",
    "from matplotlib import pyplot as plt\n",
    "from networkx import (\n",
    "    DiGraph,\n",
    "    Graph,\n",
    "    draw_networkx_nodes,\n",
    "    draw_networkx_labels,\n",
    "    draw_networkx_edges,\n",
    "    draw_networkx_edge_labels,\n",
    ")\n"
   ]
  },
  {
   "cell_type": "markdown",
   "id": "beeff61e",
   "metadata": {},
   "source": [
    "A node in the_network can be of any type. In this script, we use str."
   ]
  },
  {
   "cell_type": "code",
   "execution_count": null,
   "id": "5e02e6c1",
   "metadata": {},
   "outputs": [],
   "source": [
    "Node = Any\n"
   ]
  },
  {
   "cell_type": "markdown",
   "id": "8fbc2c1c",
   "metadata": {},
   "source": [
    "Consider three factories producing electric cars in Boston, New-York\n",
    "and Los Angeles, with supplies 200 units, 250 units and 300 units per\n",
    "day respectively. The demand is 250 cars per day and per city. The\n",
    "cost for transporting one car:"
   ]
  },
  {
   "cell_type": "markdown",
   "id": "dd3481f9",
   "metadata": {},
   "source": [
    "- from Los Angeles to Boston is \\$100.\n",
    "- from Los Angeles to New-York is \\$50.\n",
    "- from New-York to Boston is \\$80."
   ]
  },
  {
   "cell_type": "markdown",
   "id": "9e3cb7db",
   "metadata": {},
   "source": [
    "No more than 40 cars can be transported between two cities per day."
   ]
  },
  {
   "cell_type": "markdown",
   "id": "b0dff01b",
   "metadata": {},
   "source": [
    "Create a directed graph"
   ]
  },
  {
   "cell_type": "code",
   "execution_count": null,
   "id": "9410a50c",
   "metadata": {},
   "outputs": [],
   "source": [
    "original_network = DiGraph()\n"
   ]
  },
  {
   "cell_type": "markdown",
   "id": "bb4ce5e0",
   "metadata": {},
   "source": [
    "Supply and demand at each factory"
   ]
  },
  {
   "cell_type": "code",
   "execution_count": null,
   "id": "a33274e3",
   "metadata": {},
   "outputs": [],
   "source": [
    "original_network.add_node('LA', supply=300 - 250)\n",
    "original_network.add_node('NY', supply=250 - 250)\n",
    "original_network.add_node('B', supply=200 - 250)\n"
   ]
  },
  {
   "cell_type": "markdown",
   "id": "334a33c8",
   "metadata": {},
   "source": [
    "Add arcs with cost, and capacity (lower and upper bound)"
   ]
  },
  {
   "cell_type": "code",
   "execution_count": null,
   "id": "8b5eb440",
   "metadata": {},
   "outputs": [],
   "source": [
    "original_network.add_edge('LA', 'B', cost=100, lower_bound=0, upper_bound=40)\n",
    "original_network.add_edge('LA', 'NY', cost=50, lower_bound=0, upper_bound=40)\n",
    "original_network.add_edge('NY', 'B', cost=80, lower_bound=0, upper_bound=40)\n"
   ]
  },
  {
   "cell_type": "markdown",
   "id": "c37e6735",
   "metadata": {},
   "source": [
    "Define coordinates for the plot."
   ]
  },
  {
   "cell_type": "code",
   "execution_count": null,
   "id": "5ada2444",
   "metadata": {},
   "outputs": [],
   "source": [
    "pos = {'LA': (0, 3), 'NY': (-3, 0), 'B': (3, 0)}\n",
    "\n"
   ]
  },
  {
   "cell_type": "markdown",
   "id": "dec32a00",
   "metadata": {},
   "source": [
    "Function to plot the the_network"
   ]
  },
  {
   "cell_type": "code",
   "execution_count": null,
   "id": "5ddc949e",
   "metadata": {},
   "outputs": [],
   "source": [
    "def plot_network(network: Graph, positions: dict[Node, tuple[float, float]]) -> None:\n",
    "    \"\"\"Plot the the_network and its data.\n",
    "\n",
    "    :param network: the_network to plot.\n",
    "    :param positions: coordinate sof the nodes\n",
    "    \"\"\"\n",
    "\n",
    "    # Figure size\n",
    "    plt.figure(figsize=(10, 10))\n",
    "\n",
    "    # Draw the nodes\n",
    "    draw_networkx_nodes(\n",
    "        network, positions, node_size=5000, node_color='lightblue', alpha=0.5\n",
    "    )\n",
    "\n",
    "    # Draw the node labels (supply/demand)\n",
    "    node_labels = {}\n",
    "    for node, data in network.nodes(data=True):\n",
    "        supply = data['supply']\n",
    "        node_labels[node] = f'{node} [{supply}]'\n",
    "\n",
    "    shifted_positions = {\n",
    "        node: (coord[0], coord[1] - 0.2) for node, coord in positions.items()\n",
    "    }\n",
    "    draw_networkx_labels(\n",
    "        network, shifted_positions, labels=node_labels, font_size=12, font_weight='bold'\n",
    "    )\n",
    "\n",
    "    # Draw the arcs with labels\n",
    "    edge_labels = {}\n",
    "    for u, v, data in network.edges(data=True):\n",
    "        lower_bound = data['lower_bound']\n",
    "        upper_bound = data['upper_bound']\n",
    "        cost = data['cost']\n",
    "        label = f'{cost} ({lower_bound},{upper_bound})'\n",
    "        edge_labels[(u, v)] = label\n",
    "\n",
    "    draw_networkx_edges(network, positions, arrowstyle='->', arrowsize=20)\n",
    "    draw_networkx_edge_labels(network, positions, edge_labels=edge_labels, font_size=10)\n",
    "\n",
    "    # Display the graph\n",
    "    plt.title('Transhipment the_network with costs and capacities')\n",
    "    plt.axis('off')\n",
    "    plt.show()\n",
    "\n",
    "\n",
    "plot_network(network=original_network, positions=pos)\n"
   ]
  },
  {
   "cell_type": "markdown",
   "id": "a6ff8b70",
   "metadata": {},
   "source": [
    "It corresponds to the following transhipment problem:\n",
    "$$\\min_{x \\in \\R^3} 100 x_{LA,B} + 50 x_{LA,NY} + 80\n",
    "x_{NY,B}$$ subject to\n",
    "\\begin{align*}\n",
    "x_{LA,NY}+x_{LA,B}&=50, \\\\ x_{NY,B} - x_{LA,NY}&=0,\n",
    "\\\\ -x_{NY,B}-x_{LA,B}&=-50, \\\\ 0 \\leq x_{LA,NY},x_{LA,B},x_{NY,B}\n",
    "&\\leq 40.\n",
    "\\end{align*}"
   ]
  },
  {
   "cell_type": "markdown",
   "id": "154fa99c",
   "metadata": {},
   "source": [
    "In order to obtain a formulation in standard form, we apply the procedure used in the previous exercise."
   ]
  },
  {
   "cell_type": "markdown",
   "id": "3879235d",
   "metadata": {},
   "source": [
    "Shifted the_network"
   ]
  },
  {
   "cell_type": "code",
   "execution_count": null,
   "id": "724daf74",
   "metadata": {},
   "outputs": [],
   "source": [
    "shifted_network = original_network.copy()\n",
    "\n",
    "for node, node_data in shifted_network.nodes(data=True):\n",
    "    correction = 0\n",
    "    for u, v, edge_data in shifted_network.in_edges(node, data=True):\n",
    "        correction += edge_data['lower_bound']\n",
    "    for u, v, edge_data in shifted_network.out_edges(node, data=True):\n",
    "        correction -= edge_data['lower_bound']\n",
    "    node_data['supply'] += correction\n",
    "\n",
    "for u, v, data in shifted_network.edges(data=True):\n",
    "    lower_bound = data['lower_bound']\n",
    "    upper_bound = data['upper_bound']\n",
    "    data['lower_bound'] = 0\n",
    "    data['upper_bound'] = upper_bound - lower_bound\n"
   ]
  },
  {
   "cell_type": "markdown",
   "id": "fd25dec5",
   "metadata": {},
   "source": [
    "Standard form the_network."
   ]
  },
  {
   "cell_type": "code",
   "execution_count": null,
   "id": "cc85c2ce",
   "metadata": {},
   "outputs": [],
   "source": [
    "standard_form_network = DiGraph()\n",
    "new_pos = {}\n",
    "for node, node_data in shifted_network.nodes(data=True):\n",
    "    # For each node of the shifted the_network, we create a  node in the new the_network, with a different supply data.\n",
    "    supply = node_data['supply']\n",
    "    # For each outgoing arc, we deduce the upper bound.\n",
    "    for u, v, edge_data in shifted_network.out_edges(node, data=True):\n",
    "        supply -= edge_data['upper_bound']\n",
    "\n",
    "    standard_form_network.add_node(node, supply=supply)\n",
    "    new_pos[node] = pos[node]\n",
    "\n",
    "for u, v, edge_data in shifted_network.edges(data=True):\n",
    "    # For each arc of the shifted the_network, we create a node in the new the_network, and two arcs: one corresponding to the\n",
    "    # original arc, and one corresponding to the slack variable.\n",
    "\n",
    "    # We define the name of the new node.\n",
    "    slack_node = f'slack_{u}_{v}'\n",
    "    # The supply of the new node is the upper bound of the corresponding arc.\n",
    "    supply_new_node = edge_data['upper_bound']\n",
    "    standard_form_network.add_node(slack_node, supply=supply_new_node)\n",
    "\n",
    "    # We add an arc between the new node and the downstream node\n",
    "\n",
    "    # The lower bound is 0\n",
    "    lower_bound_down_arc = 0\n",
    "    # The upper bound is not needed anymore. We set it to $\\infty$.\n",
    "    upper_bound_down_arc = np.inf\n",
    "    # The cost of the new arc is the cost of the corresponding arc, as it plays the role of the original arc.\n",
    "    cost_down_arc = edge_data['cost']\n",
    "    standard_form_network.add_edge(\n",
    "        slack_node,\n",
    "        v,\n",
    "        cost=cost_down_arc,\n",
    "        lower_bound=lower_bound_down_arc,\n",
    "        upper_bound=upper_bound_down_arc,\n",
    "    )\n",
    "\n",
    "    # We also add an arc between the new node and the upstream node\n",
    "\n",
    "    # The lower bound is 0\n",
    "    lower_bound_up_arc = 0\n",
    "    # The upper bound is not needed anymore. We set it to $\\infty$.\n",
    "    upper_bound_up_arc = np.inf\n",
    "    # The cost of the new arc is 0, as it corresponds to the slack variable.\n",
    "    cost_up_arc = 0\n",
    "    standard_form_network.add_edge(\n",
    "        slack_node,\n",
    "        u,\n",
    "        cost=cost_up_arc,\n",
    "        lower_bound=lower_bound_up_arc,\n",
    "        upper_bound=upper_bound_up_arc,\n",
    "    )\n",
    "    # We position the new node in the middle of the corresponding arc.\n",
    "    coord_u_x, coord_u_y = pos[u]\n",
    "    coord_v_x, coord_v_y = pos[v]\n",
    "    new_pos[slack_node] = (0.5 * (coord_u_x + coord_v_x), 0.5 * (coord_u_y + coord_v_y))\n"
   ]
  },
  {
   "cell_type": "markdown",
   "id": "6106ce37",
   "metadata": {},
   "source": [
    "We plot the new the_network."
   ]
  },
  {
   "cell_type": "code",
   "execution_count": null,
   "id": "686e5aa4",
   "metadata": {},
   "outputs": [],
   "source": [
    "plot_network(network=standard_form_network, positions=new_pos)\n",
    "\n"
   ]
  },
  {
   "cell_type": "markdown",
   "id": "928bcb88",
   "metadata": {},
   "source": [
    "The corresponding linear optimization problem in standard form\n",
    "is: $$\\min_{x\\in{\\mathbb{R}^6}} 100 x_{2,B} + 80 x_{3,B} + 50 x_{1,NY}$$ subject to\n",
    "\\begin{align*}\n",
    "-x_{1,LA}-x_{2,LA} &= -30,\\\\ x_{1,LA}+x_{1,NY} &=\n",
    "40,\\\\ -x_{1,NY}-x_{3,NY} &= -40,\\\\ x_{3,NY}+x_{3,B} &=\n",
    "40,\\\\ -x_{2,B}-x_{3,B} &= -50,\\\\ x_{2,LA}+x_{2,B} &=\n",
    "40,\\\\ x_{1,LA},x_{1,NY},x_{2,LA},x_{2,B},x_{3,NY},x_{3,B} & \\geq 0.\n",
    "\\end{align*}"
   ]
  },
  {
   "cell_type": "markdown",
   "id": "b4821de5",
   "metadata": {},
   "source": [
    "For the readability of the indices, we have used:\n",
    "- index 1 for slack_LA_NY\n",
    "- index 2 for slack_LA_B\n",
    "- index 3 for slack_NY_B"
   ]
  },
  {
   "cell_type": "markdown",
   "id": "519d267b",
   "metadata": {},
   "source": [
    "# Question 1\n",
    "Write the dual problem using the Lagrangian method."
   ]
  },
  {
   "cell_type": "markdown",
   "id": "40b07b40",
   "metadata": {},
   "source": [
    "A dual variable $\\lambda_i$ is associated with each node of the\n",
    "transformed the_network, and a dual variable $\\mu_{ij}$ is associated\n",
    "with each arc of the transformed the_network.  The Lagrangian is"
   ]
  },
  {
   "cell_type": "markdown",
   "id": "3c4bb1bf",
   "metadata": {},
   "source": [
    "$$L(x,\\lambda,\\mu) = \\sum_{(i,j) \\in \\mathcal{A}} c_{ij} x_{ij} +\n",
    "\\sum_i \\lambda_i (\\sum_{(i,j) \\in \\mathcal{A}} x_{ij} - \\sum_{(k,i)\n",
    "\\in \\mathcal{A}} x_{ki} -s_i) - \\sum_{(i,j) \\in \\mathcal{A}}\n",
    "\\mu_{ij} x_{ij},$$ that is"
   ]
  },
  {
   "cell_type": "markdown",
   "id": "a4a08f4b",
   "metadata": {},
   "source": [
    "\\begin{align*}\n",
    "L(x,\\lambda,\\mu) = & 100 x_{2,B} + 50 x_{1,NY} + 80 x_{3,B} \\\\ &+\n",
    "\\lambda_\\text{LA}(-x_{1,LA}-x_{2,LA}+30) + \\lambda_1(x_{1,NY} +\n",
    "x_{1,LA}-40)\\\\ &+ \\lambda_\\text{NY}(-x_{3,NY} - x_{1,NY}+40)\n",
    "+\\lambda_2 (x_{2,LA} + x_{2,B}-40)\\\\ &+\n",
    "\\lambda_{B}(-x_{2,B}-x_{3,B}+50) +\\lambda_3 (x_{3,NY} +\n",
    "x_{3,B}-40) \\\\ &- \\mu_{1,NY}x_{1,NY}- \\mu_{1,LA}x_{1,LA}-\n",
    "\\mu_{2,LA}x_{2,LA}\\\\ &- \\mu_{2,B}x_{2,B}- \\mu_{3,B}x_{3,B}-\n",
    "\\mu_{3,NY}x_{3,NY}\\\\ = &\n",
    "x_{1,LA}(-\\lambda_\\text{LA}+\\lambda_1-\\mu_{1,LA}) +\n",
    "x_{1,NY}(50-\\lambda_\\text{NY}+\\lambda_1-\\mu_{1,NY}) \\\\ &+\n",
    "x_{2,LA}(-\\lambda_\\text{LA}+\\lambda_2-\\mu_{2,LA}) +\n",
    "x_{2,B}(100-\\lambda_B + \\lambda_2-\\mu_{2,B})\\\\ &+\n",
    "x_{3,NY}(-\\lambda_\\text{NY}+\\lambda_3-\\mu_{3,NY})+ x_{3,B} (80 -\n",
    "\\lambda_B +\\lambda_3 -\n",
    "\\mu_{3,B})\\\\ &+30\\lambda_\\text{LA}+40\\lambda_\\text{NY}+50\\lambda_B-40\\lambda_1-40\\lambda_2-40\\lambda_3.\n",
    "\\end{align*}"
   ]
  },
  {
   "cell_type": "markdown",
   "id": "4e62930b",
   "metadata": {},
   "source": [
    "The coefficient of each flow variable must be zero to get a bounded\n",
    "dual problem:\n",
    "\\begin{align*}\n",
    "-\\lambda_\\text{LA}+\\lambda_1 &= \\mu_{1,LA},\n",
    "\\\\ 50-\\lambda_\\text{NY}+\\lambda_1 &=\\mu_{1,NY},\n",
    "\\\\ -\\lambda_\\text{LA}+\\lambda_2 &=\\mu_{2,LA}, \\\\ 100-\\lambda_B +\n",
    "\\lambda_2 &=\\mu_{2,B}, \\\\ -\\lambda_\\text{NY}+\\lambda_3 &=\n",
    "\\mu_{3,NY}, \\\\ 80 - \\lambda_B +\\lambda_3 &= \\mu_{3,B}. \\\\\n",
    "\\end{align*}"
   ]
  },
  {
   "cell_type": "markdown",
   "id": "1d000e30",
   "metadata": {},
   "source": [
    "Moreover since $\\mu_{ij} \\geq 0, \\quad \\forall i,j$, we can\n",
    "eliminate the $\\mu$'s, and we obtain the following set of\n",
    "constraints:"
   ]
  },
  {
   "cell_type": "markdown",
   "id": "b22555f3",
   "metadata": {},
   "source": [
    "\\begin{align*}\n",
    "-\\lambda_\\text{LA}+\\lambda_1 & \\geq\n",
    "0,\\\\ \\lambda_\\text{NY}-\\lambda_1 & \\leq\n",
    "50,\\\\ -\\lambda_\\text{LA}+\\lambda_2 & \\geq 0,\\\\ \\lambda_B -\n",
    "\\lambda_2 & \\leq 100,\\\\ -\\lambda_\\text{NY}+\\lambda_3 & \\geq\n",
    "0,\\\\ \\lambda_B - \\lambda_3 & \\leq 80.\n",
    "\\end{align*}"
   ]
  },
  {
   "cell_type": "markdown",
   "id": "a47ac7f4",
   "metadata": {},
   "source": [
    "The objective function is:\n",
    "$$q(\\lambda)=30\\lambda_\\text{LA}+40\\lambda_\\text{NY}+50\\lambda_B-40\\lambda_1-40\\lambda_2-40\\lambda_3.$$"
   ]
  },
  {
   "cell_type": "markdown",
   "id": "1aeb0357",
   "metadata": {},
   "source": [
    "The dual problem is therefore:\n",
    "$$\\max\n",
    "30\\lambda_\\text{LA}+40\\lambda_\\text{NY}+50\\lambda_B-40\\lambda_1-40\\lambda_2-40\\lambda_3$$\n",
    "subject to\n",
    "\\begin{align*}\n",
    "-\\lambda_\\text{LA}+\\lambda_1 & \\geq\n",
    "0,\\\\ \\lambda_\\text{NY}-\\lambda_1 & \\leq\n",
    "50,\\\\ -\\lambda_\\text{LA}+\\lambda_2 & \\geq 0,\\\\ \\lambda_B -\n",
    "\\lambda_2 & \\leq 100,\\\\ -\\lambda_\\text{NY}+\\lambda_3 & \\geq\n",
    "0,\\\\ \\lambda_B - \\lambda_3 & \\leq 80.\n",
    "\\end{align*}"
   ]
  },
  {
   "cell_type": "markdown",
   "id": "9bfed2aa",
   "metadata": {},
   "source": [
    "# Question 2\n",
    "Solve the dual using optimality conditions.  The procedure\n",
    "consists in treating all nodes of the the_network in a systematic\n",
    "way. The set of nodes that must be treated at a given iteration is\n",
    "denoted by $\\mathcal{S}$. The treatment of one node consists in\n",
    "considering all arcs incident to the node, and updating the value of\n",
    "the dual variable of the other incident node using the optimality\n",
    "conditions."
   ]
  },
  {
   "cell_type": "markdown",
   "id": "5d3d8424",
   "metadata": {},
   "source": [
    "- Select one arbitrary node $i$, set $\\lambda_i=0$ and\n",
    "$\\mathcal{S}=\\{i\\}$.\n",
    "- If $\\mathcal{S} \\neq \\emptyset$, perform\n",
    "the following:\n",
    "\n",
    "1. Select a node $i$ in $\\mathcal{S}$.\n",
    "2. For each outgoing arc $(i, j)$, if $\\lambda_j$ is not\n",
    "defined yet, or if it violates the optimality conditions, update\n",
    "its value:\n",
    "$$\n",
    "\\text{If } \\lambda_j > \\lambda_i + c_{ij}, \\text{ then }\n",
    "\\lambda_j=\\lambda_i + c_{ij} \\text { and } \\mathcal{S} =\n",
    "\\mathcal{S} \\cup \\{ j\\}.\n",
    "$$\n",
    "3. For each ingoing arc $(j, i)$, if $\\lambda_j$ is not defined\n",
    "yet, or if it violates the optimality conditions, update its\n",
    "value:\n",
    "$$\n",
    "\\text{If } \\lambda_j < \\lambda_i - c_{ji}, \\text{ then }\n",
    "\\lambda_j=\\lambda_i - c_{ji} \\text { and } \\mathcal{S} =\n",
    "\\mathcal{S} \\cup \\{ j\\}.\n",
    "$$\n",
    "\n",
    "4. Remove $i$ from $\\mathcal{S}$ and start again."
   ]
  },
  {
   "cell_type": "markdown",
   "id": "d5e9a63a",
   "metadata": {},
   "source": [
    "- If $\\mathcal{S} = \\emptyset$, stop."
   ]
  },
  {
   "cell_type": "markdown",
   "id": "91e7b43f",
   "metadata": {},
   "source": [
    "We suggest to initialize the process with node slack_LA_NY, and then process\n",
    "each node in a counter-clockwise way, that is: slack_LA_NY, NY, slack_NY_B, B, slack_LA_B, LA."
   ]
  },
  {
   "cell_type": "markdown",
   "id": "08a4205b",
   "metadata": {},
   "source": [
    "We initialize the dual variables"
   ]
  },
  {
   "cell_type": "code",
   "execution_count": null,
   "id": "8bcc806b",
   "metadata": {},
   "outputs": [],
   "source": [
    "dual_variables: dict[Node, float | None] = {\n",
    "    node: None for node in standard_form_network.nodes()\n",
    "}"
   ]
  },
  {
   "cell_type": "markdown",
   "id": "c2b5a2db",
   "metadata": {},
   "source": [
    "We initialize the set of nodes to be treated"
   ]
  },
  {
   "cell_type": "code",
   "execution_count": null,
   "id": "2e091161",
   "metadata": {},
   "outputs": [],
   "source": [
    "set_of_nodes_s = set()\n",
    "\n"
   ]
  },
  {
   "cell_type": "markdown",
   "id": "53ffb970",
   "metadata": {},
   "source": [
    "We define the procedure that treats a node"
   ]
  },
  {
   "cell_type": "code",
   "execution_count": null,
   "id": "52debf3a",
   "metadata": {},
   "outputs": [],
   "source": [
    "def treat_node(node_to_be_treated: Node) -> None:\n",
    "    \"\"\"Apply the procedure to calculate the dual variables\n",
    "    :param node_to_be_treated: self explanatory...\n",
    "    \"\"\"\n",
    "    print(f'*** Treating node {node_to_be_treated} ***')\n",
    "    # We treat each arc leaving the node and apply the optimality conditions\n",
    "    for u, v, edge_data in standard_form_network.out_edges(\n",
    "        node_to_be_treated, data=True\n",
    "    ):\n",
    "        if dual_variables[v] is None:\n",
    "            # No value has been set yet. We initialize it with the optimality condition\n",
    "            print(f'Dual variable of {v} is not defined.')\n",
    "            dual_variables[v] = (\n",
    "                dual_variables[u] + edge_data['cost']\n",
    "            )\n",
    "            # We add the node to the set in order to treat it later.\n",
    "            set_of_nodes_s.add(v)\n",
    "        elif (\n",
    "            dual_variables[u] + edge_data['cost'] < dual_variables[v]\n",
    "        ):\n",
    "            # The optimality condition is violated. We update the dual variable.\n",
    "            print(f'Optimality condition violated for edge {(u, v)}')\n",
    "            dual_variables[v] = (\n",
    "                dual_variables[u] + edge_data['cost']\n",
    "            )\n",
    "            # We add the node to the set in order to treat it later.\n",
    "            set_of_nodes_s.add(v)\n",
    "        else:\n",
    "            # The optimality condition is verified. There is nothing to do.\n",
    "            print(f'Optimality condition verified for edge {(u, v)}')\n",
    "\n",
    "    # We treat each arc entering the node and apply the optimality conditions.\n",
    "    # Keep in mind that the role of u and v change here.\n",
    "    for u, v, edge_data in standard_form_network.in_edges(\n",
    "        node_to_be_treated, data=True\n",
    "    ):\n",
    "        if dual_variables[u] is None:\n",
    "            # No value has been set yet. We initialize it with the optimality condition\n",
    "            print(f'Dual variable of {u} is not defined.')\n",
    "            dual_variables[u] = (\n",
    "                dual_variables[v] - edge_data['cost']\n",
    "            )\n",
    "            # We add the node to the set in order to treat it later.\n",
    "            set_of_nodes_s.add(u)\n",
    "        elif (\n",
    "            dual_variables[u] + edge_data['cost'] < dual_variables[v]\n",
    "        ):\n",
    "            # The optimality condition is violated. We update the dual variable.\n",
    "            print(f'Optimality condition violated for edge {(u, v)}')\n",
    "            dual_variables[u] = (\n",
    "                dual_variables[v] - edge_data['cost']\n",
    "            )\n",
    "            # We add the node to the set in order to treat it later.\n",
    "            set_of_nodes_s.add(u)\n",
    "        else:\n",
    "            # The optimality condition is verified. There is nothing to do.\n",
    "            print(f'Optimality condition verified for edge {(u, v)}')\n",
    "    set_of_nodes_s.remove(node_to_be_treated)\n",
    "\n"
   ]
  },
  {
   "cell_type": "markdown",
   "id": "35e3b110",
   "metadata": {},
   "source": [
    "We now apply the procedure node by node."
   ]
  },
  {
   "cell_type": "markdown",
   "id": "741b5875",
   "metadata": {},
   "source": [
    "We start with node slack_LA_NY"
   ]
  },
  {
   "cell_type": "code",
   "execution_count": null,
   "id": "74fc0daa",
   "metadata": {},
   "outputs": [],
   "source": [
    "treated_node = 'slack_LA_NY'\n",
    "set_of_nodes_s.add(treated_node)\n",
    "dual_variables[treated_node] = 0\n"
   ]
  },
  {
   "cell_type": "markdown",
   "id": "b14cc0db",
   "metadata": {},
   "source": [
    "Dual variables"
   ]
  },
  {
   "cell_type": "code",
   "execution_count": null,
   "id": "4b2861ee",
   "metadata": {},
   "outputs": [],
   "source": [
    "print(dual_variables)\n"
   ]
  },
  {
   "cell_type": "markdown",
   "id": "accd0f63",
   "metadata": {},
   "source": [
    "Set of nodes"
   ]
  },
  {
   "cell_type": "code",
   "execution_count": null,
   "id": "838b7e39",
   "metadata": {},
   "outputs": [],
   "source": [
    "print(set_of_nodes_s)\n"
   ]
  },
  {
   "cell_type": "markdown",
   "id": "42ffabf4",
   "metadata": {},
   "source": [
    "We treat the node"
   ]
  },
  {
   "cell_type": "code",
   "execution_count": null,
   "id": "5270e9a7",
   "metadata": {},
   "outputs": [],
   "source": [
    "treat_node(node_to_be_treated=treated_node)\n"
   ]
  },
  {
   "cell_type": "markdown",
   "id": "e43a1de7",
   "metadata": {},
   "source": [
    "Dual variables"
   ]
  },
  {
   "cell_type": "code",
   "execution_count": null,
   "id": "e605fdeb",
   "metadata": {},
   "outputs": [],
   "source": [
    "print(dual_variables)\n"
   ]
  },
  {
   "cell_type": "markdown",
   "id": "f36240ab",
   "metadata": {},
   "source": [
    "Set of nodes"
   ]
  },
  {
   "cell_type": "code",
   "execution_count": null,
   "id": "af2e0164",
   "metadata": {},
   "outputs": [],
   "source": [
    "print(set_of_nodes_s)\n"
   ]
  },
  {
   "cell_type": "markdown",
   "id": "96429312",
   "metadata": {},
   "source": [
    "We now treat the node 'NY', which is in the set."
   ]
  },
  {
   "cell_type": "code",
   "execution_count": null,
   "id": "7eab70b6",
   "metadata": {},
   "outputs": [],
   "source": [
    "treat_node(node_to_be_treated='NY')\n"
   ]
  },
  {
   "cell_type": "markdown",
   "id": "0150fa8d",
   "metadata": {},
   "source": [
    "Dual variables"
   ]
  },
  {
   "cell_type": "code",
   "execution_count": null,
   "id": "7476e454",
   "metadata": {},
   "outputs": [],
   "source": [
    "print(dual_variables)\n"
   ]
  },
  {
   "cell_type": "markdown",
   "id": "aa11d58f",
   "metadata": {},
   "source": [
    "Set of nodes"
   ]
  },
  {
   "cell_type": "code",
   "execution_count": null,
   "id": "08aeeba4",
   "metadata": {},
   "outputs": [],
   "source": [
    "print(set_of_nodes_s)\n"
   ]
  },
  {
   "cell_type": "markdown",
   "id": "f854b910",
   "metadata": {},
   "source": [
    "We now treat the node 'slack_NY_B', which is in the set."
   ]
  },
  {
   "cell_type": "code",
   "execution_count": null,
   "id": "e5127b82",
   "metadata": {},
   "outputs": [],
   "source": [
    "treat_node(node_to_be_treated='slack_NY_B')\n"
   ]
  },
  {
   "cell_type": "markdown",
   "id": "0c4b773e",
   "metadata": {},
   "source": [
    "Dual variables"
   ]
  },
  {
   "cell_type": "code",
   "execution_count": null,
   "id": "df55ddee",
   "metadata": {},
   "outputs": [],
   "source": [
    "print(dual_variables)\n"
   ]
  },
  {
   "cell_type": "markdown",
   "id": "c620681a",
   "metadata": {},
   "source": [
    "Set of nodes"
   ]
  },
  {
   "cell_type": "code",
   "execution_count": null,
   "id": "d56bdd38",
   "metadata": {},
   "outputs": [],
   "source": [
    "print(set_of_nodes_s)\n"
   ]
  },
  {
   "cell_type": "markdown",
   "id": "d95eb557",
   "metadata": {},
   "source": [
    "We now treat the node 'B', which is in the set."
   ]
  },
  {
   "cell_type": "code",
   "execution_count": null,
   "id": "78cef5c7",
   "metadata": {},
   "outputs": [],
   "source": [
    "treat_node(node_to_be_treated='B')\n"
   ]
  },
  {
   "cell_type": "markdown",
   "id": "91924b41",
   "metadata": {},
   "source": [
    "Dual variables"
   ]
  },
  {
   "cell_type": "code",
   "execution_count": null,
   "id": "81798bc3",
   "metadata": {},
   "outputs": [],
   "source": [
    "print(dual_variables)\n"
   ]
  },
  {
   "cell_type": "markdown",
   "id": "f018007b",
   "metadata": {},
   "source": [
    "Set of nodes"
   ]
  },
  {
   "cell_type": "code",
   "execution_count": null,
   "id": "67397a54",
   "metadata": {},
   "outputs": [],
   "source": [
    "print(set_of_nodes_s)\n"
   ]
  },
  {
   "cell_type": "markdown",
   "id": "0e792987",
   "metadata": {},
   "source": [
    "We now treat the node 'slack_LA_B', which is in the set."
   ]
  },
  {
   "cell_type": "code",
   "execution_count": null,
   "id": "4a71e7eb",
   "metadata": {},
   "outputs": [],
   "source": [
    "treat_node(node_to_be_treated='slack_LA_B')\n"
   ]
  },
  {
   "cell_type": "markdown",
   "id": "9432d497",
   "metadata": {},
   "source": [
    "Dual variables"
   ]
  },
  {
   "cell_type": "code",
   "execution_count": null,
   "id": "d4a4d72b",
   "metadata": {},
   "outputs": [],
   "source": [
    "print(dual_variables)\n"
   ]
  },
  {
   "cell_type": "markdown",
   "id": "a050ff62",
   "metadata": {},
   "source": [
    "Set of nodes"
   ]
  },
  {
   "cell_type": "code",
   "execution_count": null,
   "id": "14c152a8",
   "metadata": {},
   "outputs": [],
   "source": [
    "print(set_of_nodes_s)\n"
   ]
  },
  {
   "cell_type": "markdown",
   "id": "f4793f91",
   "metadata": {},
   "source": [
    "We now treat the node 'LA', which is in the set."
   ]
  },
  {
   "cell_type": "code",
   "execution_count": null,
   "id": "06854f7f",
   "metadata": {},
   "outputs": [],
   "source": [
    "treat_node(node_to_be_treated='LA')\n"
   ]
  },
  {
   "cell_type": "markdown",
   "id": "ed1aa4a5",
   "metadata": {},
   "source": [
    "Dual variables"
   ]
  },
  {
   "cell_type": "code",
   "execution_count": null,
   "id": "47af91b4",
   "metadata": {},
   "outputs": [],
   "source": [
    "print(dual_variables)\n"
   ]
  },
  {
   "cell_type": "markdown",
   "id": "2d563313",
   "metadata": {},
   "source": [
    "Set of nodes"
   ]
  },
  {
   "cell_type": "code",
   "execution_count": null,
   "id": "9bb616d6",
   "metadata": {},
   "outputs": [],
   "source": [
    "print(set_of_nodes_s)\n",
    "\n"
   ]
  },
  {
   "cell_type": "markdown",
   "id": "744ffae8",
   "metadata": {},
   "source": [
    "The set is now empty. We have found the optimal values for the dual variables.\n",
    "Indeed, the optimality conditions are verified on each arc."
   ]
  },
  {
   "cell_type": "code",
   "execution_count": null,
   "id": "b261f239",
   "metadata": {},
   "outputs": [],
   "source": [
    "def verify_optimality(the_dual_variables: dict[Node, float]) -> bool:\n",
    "    \"\"\"Check the optimality of the dual variables\n",
    "\n",
    "    :param the_dual_variables: dict of value for the dual variables.\n",
    "    :return: True if verified. False otherwise.\n",
    "    \"\"\"\n",
    "    for u, v, edge_data in standard_form_network.edges(data=True):\n",
    "        optimality_condition = (\n",
    "            edge_data['cost'] + the_dual_variables[u] - the_dual_variables[v]\n",
    "        )\n",
    "        print(\n",
    "            f'Arc {(u,v)}: {optimality_condition}. Verified? {optimality_condition >= 0}'\n",
    "        )\n",
    "    return optimality_condition >= 0\n",
    "\n"
   ]
  },
  {
   "cell_type": "markdown",
   "id": "5bb38a4a",
   "metadata": {},
   "source": [
    "We check the optimality of the dual variables."
   ]
  },
  {
   "cell_type": "code",
   "execution_count": null,
   "id": "94d0424d",
   "metadata": {},
   "outputs": [],
   "source": [
    "check = verify_optimality(the_dual_variables=dual_variables)\n",
    "print(f'Are all optimality conditions verified? {check}')\n"
   ]
  },
  {
   "cell_type": "markdown",
   "id": "e18265cc",
   "metadata": {},
   "source": [
    "## Question 3"
   ]
  },
  {
   "cell_type": "markdown",
   "id": "7f2f8037",
   "metadata": {},
   "source": [
    "Consider another solution for the dual variables."
   ]
  },
  {
   "cell_type": "code",
   "execution_count": null,
   "id": "e6f05544",
   "metadata": {},
   "outputs": [],
   "source": [
    "other_dual_variables = {\n",
    "    'LA': 100,\n",
    "    'NY': 150,\n",
    "    'B': 230,\n",
    "    'slack_LA_B': 130,\n",
    "    'slack_LA_NY': 100,\n",
    "    'slack_NY_B': 150,\n",
    "}\n"
   ]
  },
  {
   "cell_type": "markdown",
   "id": "29a3912c",
   "metadata": {},
   "source": [
    "Check if it is an optimal solution."
   ]
  },
  {
   "cell_type": "code",
   "execution_count": null,
   "id": "86244065",
   "metadata": {},
   "outputs": [],
   "source": [
    "check = verify_optimality(the_dual_variables=other_dual_variables)\n",
    "print(f'Are all optimality conditions verified? {check}')\n"
   ]
  },
  {
   "cell_type": "markdown",
   "id": "c8082cbb",
   "metadata": {},
   "source": [
    "It is also an optimal solution. Actually, in the optimality conditions, only the difference of the dual\n",
    "variables matter. Therefore, if you add a constant to each variable (here, 100), you obtain another\n",
    "optimal solution."
   ]
  },
  {
   "cell_type": "markdown",
   "id": "168bd1c2",
   "metadata": {},
   "source": [
    "## Question 4"
   ]
  },
  {
   "cell_type": "markdown",
   "id": "1d0993e0",
   "metadata": {},
   "source": [
    "Use the complementarity slackness theorem and the flow conservation constraints to find the optimal flow, that is,\n",
    "the optimal values of the primal variables."
   ]
  },
  {
   "cell_type": "markdown",
   "id": "b63d2473",
   "metadata": {},
   "source": [
    "For the readability of the indices, we use again:\n",
    "- index 1 for slack_LA_NY\n",
    "- index 2 for slack_LA_B\n",
    "- index 3 for slack_NY_B"
   ]
  },
  {
   "cell_type": "markdown",
   "id": "c34c2068",
   "metadata": {},
   "source": [
    "We note that the arc (slack_LA_B, LA) is the only one where the\n",
    "inequality is strict. Therefore, we now that this arc carries no\n",
    "flow:\n",
    "$$\n",
    "x^*_{2,\\text{LA}} = 0.\n",
    "$$\n",
    "\n",
    "Therefore, in order to verify the flow conservation constraints at\n",
    "node LA, the demand must be served by the arc $(1,\\text{LA})$, so\n",
    "that\n",
    "$$\n",
    "x^*_{1,\\text{LA}} = 30.\n",
    "$$\n",
    "At node 1, the flow conservation constraints are verified if\n",
    "$$\n",
    "x^*_{1,\\text{NY}} = 10.\n",
    "$$\n",
    "Applying the flow conservation constraints are node NY, we obtain\n",
    "$$\n",
    "x^*_{3,\\text{NY}} = 30.\n",
    "$$\n",
    "At node 3, we obtain\n",
    "$$\n",
    "x^*_{3,B} = 10.\n",
    "$$\n",
    "At node B, we obtain\n",
    "$$\n",
    "x^*_{2,B} = 40.\n",
    "$$\n",
    "And we can check that the flow conservation constraints are verified\n",
    "at node 2 (slack_LA_B). If we now ignore the slack variables, and come back to\n",
    "the original formulation, this can be interpreted as:"
   ]
  },
  {
   "cell_type": "markdown",
   "id": "1edc6b22",
   "metadata": {},
   "source": [
    "- sending 10 units of flow from LA to NY, for a total cost of 500,\n",
    "- sending 40 units of flow from LA to B, for a total cost of 4000,\n",
    "- sending 10 units of flow from NY to B, for a total cost of 800."
   ]
  },
  {
   "cell_type": "markdown",
   "id": "92af82e6",
   "metadata": {},
   "source": [
    "The total cost is therefore 5300. Note that the objective function\n",
    "of the dual is\n",
    "\\begin{align*}\n",
    "q(\\lambda)&=30\\lambda_\\text{LA}+40\\lambda_\\text{NY}+50\\lambda_B-40\\lambda_1-40\\lambda_2-40\\lambda_3,\n",
    "\\\\ &= 0 +2000+6500+0-1200-2000 \\\\ &= 5300,\n",
    "\\end{align*}\n",
    "consistently with the strong duality theorem."
   ]
  }
 ],
 "metadata": {},
 "nbformat": 4,
 "nbformat_minor": 5
}

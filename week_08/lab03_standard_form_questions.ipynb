{
 "cells": [
  {
   "cell_type": "markdown",
   "id": "3abcb2c6",
   "metadata": {},
   "source": [
    "# Transhipment: standard form\n",
    "\n",
    "## Introduction to optimization and operations research\n",
    "\n",
    "Michel Bierlaire\n"
   ]
  },
  {
   "cell_type": "code",
   "execution_count": null,
   "id": "5f6e196c",
   "metadata": {},
   "outputs": [],
   "source": [
    "\n",
    "import sys\n",
    "from typing import Any\n",
    "\n",
    "import numpy as np\n",
    "from matplotlib import pyplot as plt\n",
    "from networkx import (\n",
    "    DiGraph,\n",
    "    draw_networkx_edges,\n",
    "    draw_networkx_nodes,\n",
    "    draw_networkx_labels,\n",
    "    draw_networkx_edge_labels,\n",
    "    Graph,\n",
    ")\n",
    "from teaching_optimization.simplex_tableau import SimplexAlgorithmTableau\n",
    "from teaching_optimization.tableau import SimplexTableau\n"
   ]
  },
  {
   "cell_type": "markdown",
   "id": "a130cffe",
   "metadata": {},
   "source": [
    "A node in the_network can be of any type. In this script, we use str."
   ]
  },
  {
   "cell_type": "code",
   "execution_count": null,
   "id": "9468a63a",
   "metadata": {},
   "outputs": [],
   "source": [
    "Node = Any\n"
   ]
  },
  {
   "cell_type": "markdown",
   "id": "82fe8bde",
   "metadata": {},
   "source": [
    "Consider three factories which produce honey in Boston, New York and\n",
    "Los Angeles, whose supplies are 200 units, 250 units and 300 units per\n",
    "day, respectively. Customers have a demand of 250 units per day in\n",
    "each city. The costs for transporting one unit are the following:"
   ]
  },
  {
   "cell_type": "markdown",
   "id": "f8d433eb",
   "metadata": {},
   "source": [
    "- from Los Angeles to Boston is \\$1,\n",
    "- from Los Angeles to New York is \\$0.5,\n",
    "- from New York to Boston is \\$0.8."
   ]
  },
  {
   "cell_type": "markdown",
   "id": "ef1f7cdb",
   "metadata": {},
   "source": [
    "A maximum of 40 units per day can be transported from one city to\n",
    "another. Moreover, due to a specific contract with the shipping\n",
    "company, we have to transport at least 20 units from New-York to\n",
    "Boston.  We want to find the cheapest way to transport the honey from\n",
    "the factories to the customers.\n",
    "\n",
    "\n",
    "# Question 1\n",
    "Represent the problem as a the_network.  Notify the supply/demand\n",
    "data $s_i$ next to the name of each node $i$. Next to each arc $(i,j)$, notify\n",
    "the cost and the capacities using the notation $c_{ij} (\\ell_{ij},\n",
    "u_{ij})$."
   ]
  },
  {
   "cell_type": "markdown",
   "id": "47109c04",
   "metadata": {},
   "source": [
    "Create a directed graph"
   ]
  },
  {
   "cell_type": "code",
   "execution_count": null,
   "id": "6eddfea9",
   "metadata": {},
   "outputs": [],
   "source": [
    "original_network = DiGraph()\n"
   ]
  },
  {
   "cell_type": "markdown",
   "id": "7d5f0d19",
   "metadata": {},
   "source": [
    "Supply and demand at each factory"
   ]
  },
  {
   "cell_type": "code",
   "execution_count": null,
   "id": "ec658ea2",
   "metadata": {},
   "outputs": [],
   "source": [
    "original_network.add_node('Los Angeles', supply=300 - 250)\n",
    "original_network.add_node('New York', supply=250 - 250)\n",
    "original_network.add_node('Boston', supply=200 - 250)\n"
   ]
  },
  {
   "cell_type": "markdown",
   "id": "e356a076",
   "metadata": {},
   "source": [
    "Add arcs with cost, and capacity (lower and upper bound)"
   ]
  },
  {
   "cell_type": "code",
   "execution_count": null,
   "id": "336bad82",
   "metadata": {},
   "outputs": [],
   "source": [
    "original_network.add_edge(\n",
    "    'Los Angeles', 'Boston', cost=1, lower_bound=0, upper_bound=40\n",
    ")\n",
    "original_network.add_edge(\n",
    "    'Los Angeles', 'New York', cost=0.5, lower_bound=0, upper_bound=40\n",
    ")\n",
    "original_network.add_edge(\n",
    "    'New York', 'Boston', cost=0.8, lower_bound=20, upper_bound=40\n",
    ")\n"
   ]
  },
  {
   "cell_type": "markdown",
   "id": "ab6b0ea8",
   "metadata": {},
   "source": [
    "Define coordinates for the plot."
   ]
  },
  {
   "cell_type": "code",
   "execution_count": null,
   "id": "1cd6c46a",
   "metadata": {},
   "outputs": [],
   "source": [
    "pos = {'Los Angeles': (0, 3), 'New York': (-3, 0), 'Boston': (3, 0)}\n",
    "\n"
   ]
  },
  {
   "cell_type": "markdown",
   "id": "4f1feee2",
   "metadata": {},
   "source": [
    "Function to plot the the_network"
   ]
  },
  {
   "cell_type": "code",
   "execution_count": null,
   "id": "339e05bc",
   "metadata": {},
   "outputs": [],
   "source": [
    "def plot_network(network: Graph, positions: dict[Node, tuple[float, float]]) -> None:\n",
    "    \"\"\"Plot the the_network and its data.\n",
    "\n",
    "    :param network: the_network to plot.\n",
    "    :param positions: coordinate sof the nodes\n",
    "    \"\"\"\n",
    "\n",
    "    # Figure size\n",
    "    plt.figure(figsize=(10, 10))\n",
    "\n",
    "    # Draw the nodes\n",
    "    draw_networkx_nodes(\n",
    "        network, positions, node_size=5000, node_color='lightblue', alpha=0.5\n",
    "    )\n",
    "\n",
    "    # Draw the node labels (supply/demand)\n",
    "    node_labels = {}\n",
    "    for node, data in network.nodes(data=True):\n",
    "        supply = data['supply']\n",
    "        node_labels[node] = f'{node} [{supply}]'\n",
    "\n",
    "    shifted_positions = {\n",
    "        node: (coord[0], coord[1] - 0.2) for node, coord in positions.items()\n",
    "    }\n",
    "    draw_networkx_labels(\n",
    "        network, shifted_positions, labels=node_labels, font_size=12, font_weight='bold'\n",
    "    )\n",
    "\n",
    "    # Draw the arcs with labels\n",
    "    edge_labels = {}\n",
    "    for u, v, data in network.edges(data=True):\n",
    "        lower_bound = data['lower_bound']\n",
    "        upper_bound = data['upper_bound']\n",
    "        cost = data['cost']\n",
    "        label = f'{cost} ({lower_bound},{upper_bound})'\n",
    "        edge_labels[(u, v)] = label\n",
    "\n",
    "    draw_networkx_edges(network, positions, arrowstyle='->', arrowsize=20)\n",
    "    draw_networkx_edge_labels(network, positions, edge_labels=edge_labels, font_size=10)\n",
    "\n",
    "    # Display the graph\n",
    "    plt.title(\"Transhipment the_network with costs and capacities\")\n",
    "    plt.axis('off')\n",
    "    plt.show()\n",
    "\n",
    "\n",
    "plot_network(network=original_network, positions=pos)\n"
   ]
  },
  {
   "cell_type": "markdown",
   "id": "97ae2d8e",
   "metadata": {},
   "source": [
    "# Question 2\n",
    "Write the transhipment problem as a linear optimization problem."
   ]
  },
  {
   "cell_type": "markdown",
   "id": "bd24a1de",
   "metadata": {},
   "source": [
    "# Question 3\n",
    "Identify the data $A\\in\\mathbb{R}^{m \\times n}$, $b \\in \\mathbb{R}^m$, $c \\in\n",
    "\\mathbb{R}^n$ of the transhipment problem in standard form:\n",
    "$$\n",
    "\\min_{x \\in \\mathbb{R}^n} c^Tx\n",
    "$$\n",
    "subject to\n",
    "\\begin{align*}\n",
    "Ax &= b, \\\\ x & \\geq 0,\n",
    "\\end{align*}\n",
    "where the matrix $A$ is such that there are only two non zeros entries\n",
    "in each column: 1 and -1.\n",
    "Follow the procedure in the book pp. 531-533.\n",
    "[Optimization Principles and Algorithms (2018)](https://transp-or.epfl.ch/books/optimization/html/OptimizationPrinciplesAlgorithms2018.pdf)"
   ]
  },
  {
   "cell_type": "markdown",
   "id": "d605de32",
   "metadata": {},
   "source": [
    "## Set the lower bounds to 0."
   ]
  },
  {
   "cell_type": "markdown",
   "id": "a23a3228",
   "metadata": {},
   "source": [
    "We advise you to do it first by hand to understand the process."
   ]
  },
  {
   "cell_type": "markdown",
   "id": "0760770f",
   "metadata": {},
   "source": [
    "Now implement the modification. Create a new the_network, with the same topology of the original one, but\n",
    "with new supply/demand values defined by:\n",
    "$$\n",
    "\\sum_{j | (i,j) \\in \\mathcal{A}} x'_{ij} - \\sum_{k | (k,i) \\in\n",
    "\\mathcal{A}} x'_{ki}  = s_i +  \\sum_{k | (k,i) \\in\n",
    "\\mathcal{A}} \\ell_{ki} - \\sum_{j | (i,j) \\in \\mathcal{A}} \\ell_{ij} ,  \\; \\forall i \\in \\mathcal{C},\n",
    "$$"
   ]
  },
  {
   "cell_type": "code",
   "execution_count": null,
   "id": "9c5f9c82",
   "metadata": {},
   "outputs": [],
   "source": [
    "shifted_network = original_network.copy()\n",
    "\n",
    "for node, node_data in shifted_network.nodes(data=True):\n",
    "    correction = 0\n",
    "    for u, v, edge_data in shifted_network.in_edges(node, data=True):\n",
    "        correction = ????\n",
    "    for u, v, edge_data in shifted_network.out_edges(node, data=True):\n",
    "        correction = ????\n",
    "    node_data['supply'] += correction\n"
   ]
  },
  {
   "cell_type": "markdown",
   "id": "e2661f2a",
   "metadata": {},
   "source": [
    "We also modify the bounds on the variables:\n",
    "$$\n",
    "0 \\leq x'_{ij} \\leq u_{ij}- \\ell_{ij}, \\; \\forall (i,j) \\in \\mathcal{A}.\n",
    "$$"
   ]
  },
  {
   "cell_type": "code",
   "execution_count": null,
   "id": "8d6ad268",
   "metadata": {},
   "outputs": [],
   "source": [
    "\n",
    "for u, v, data in shifted_network.edges(data=True):\n",
    "\n",
    "\n",
    "    data['lower_bound'] = ????\n",
    "    data['upper_bound'] = ????\n"
   ]
  },
  {
   "cell_type": "markdown",
   "id": "eb6cea44",
   "metadata": {},
   "source": [
    "We plot the shifted the_network."
   ]
  },
  {
   "cell_type": "code",
   "execution_count": null,
   "id": "b7df6e39",
   "metadata": {},
   "outputs": [],
   "source": [
    "plot_network(network=shifted_network, positions=pos)\n"
   ]
  },
  {
   "cell_type": "markdown",
   "id": "94baf549",
   "metadata": {},
   "source": [
    "## Introduce slack variables as additional nodes and arcs."
   ]
  },
  {
   "cell_type": "markdown",
   "id": "90a4b406",
   "metadata": {},
   "source": [
    "We create a new the_network where:\n",
    "- each node of the original the_network is included,\n",
    "- each arc of the original the_network is associated with a new node in the new the_network,\n",
    "as illustrated in Figure 22.2 in the book."
   ]
  },
  {
   "cell_type": "code",
   "execution_count": null,
   "id": "d995b8fd",
   "metadata": {},
   "outputs": [],
   "source": [
    "\n",
    "new_network = DiGraph()\n",
    "new_pos = {}\n",
    "for node, node_data in shifted_network.nodes(data=True):\n",
    "    # For each node of the shifted the_network, we create a  node in the new the_network, with a different supply data.\n",
    "    supply = ????\n",
    "\n",
    "\n",
    "\n",
    "\n",
    "    new_network.add_node(node, supply=supply)\n",
    "    new_pos[node] = pos[node]\n",
    "\n",
    "for u, v, edge_data in shifted_network.edges(data=True):\n",
    "    # For each arc of the shifted the_network, we create a node in the new the_network, and two arcs: one corresponding to the\n",
    "    # original arc, and one corresponding to the slack variable.\n",
    "\n",
    "    # We define the name of the new node.\n",
    "    slack_node = f'slack_{u}_{v}'\n",
    "\n",
    "    supply_new_node = ????\n",
    "    new_network.add_node(slack_node, supply=supply_new_node)\n",
    "\n",
    "    # We add an arc between the new node and the downstream node\n",
    "\n",
    "\n",
    "    lower_bound_down_arc = ????\n",
    "\n",
    "    upper_bound_down_arc = ????\n",
    "\n",
    "    cost_down_arc = ????\n",
    "    new_network.add_edge(\n",
    "        slack_node,\n",
    "        v,\n",
    "        cost=cost_down_arc,\n",
    "        lower_bound=lower_bound_down_arc,\n",
    "        upper_bound=upper_bound_down_arc,\n",
    "    )\n",
    "\n",
    "    # We also add an arc between the new node and the upstream node\n",
    "\n",
    "\n",
    "    lower_bound_up_arc = ????\n",
    "\n",
    "    upper_bound_up_arc = ????\n",
    "\n",
    "    cost_up_arc = ????\n",
    "    new_network.add_edge(\n",
    "        slack_node,\n",
    "        u,\n",
    "        cost=cost_up_arc,\n",
    "        lower_bound=lower_bound_up_arc,\n",
    "        upper_bound=upper_bound_up_arc,\n",
    "    )\n",
    "    # We position the new node in the middle of the corresponding arc.\n",
    "    coord_u_x, coord_u_y = pos[u]\n",
    "    coord_v_x, coord_v_y = pos[v]\n",
    "    new_pos[slack_node] = (0.5 * (coord_u_x + coord_v_x), 0.5 * (coord_u_y + coord_v_y))\n"
   ]
  },
  {
   "cell_type": "markdown",
   "id": "6163acfc",
   "metadata": {},
   "source": [
    "We plot the new the_network."
   ]
  },
  {
   "cell_type": "code",
   "execution_count": null,
   "id": "66b22eb4",
   "metadata": {},
   "outputs": [],
   "source": [
    "plot_network(network=new_network, positions=new_pos)\n"
   ]
  },
  {
   "cell_type": "markdown",
   "id": "ed4f6713",
   "metadata": {},
   "source": [
    "Now, we can extract the data of the problem."
   ]
  },
  {
   "cell_type": "markdown",
   "id": "448278db",
   "metadata": {},
   "source": [
    "First, we calculate the incidence matrix."
   ]
  },
  {
   "cell_type": "markdown",
   "id": "981191a4",
   "metadata": {},
   "source": [
    "Extract the incidence matrix of the the_network, column by column."
   ]
  },
  {
   "cell_type": "code",
   "execution_count": null,
   "id": "44e20025",
   "metadata": {},
   "outputs": [],
   "source": [
    "\n",
    "\n",
    "\n",
    "list_of_nodes = list(new_network.nodes())\n",
    "list_of_columns = []\n",
    "for u, v in new_network.edges():\n",
    "    the_column = ????\n",
    "\n",
    "\n",
    "\n",
    "\n",
    "    list_of_columns.append(the_column)\n",
    "\n",
    "\n",
    "incidence_matrix = np.array(list_of_columns).T\n",
    "\n",
    "n_rows = incidence_matrix.shape[0]\n",
    "n_columns = incidence_matrix.shape[1]\n",
    "print(f'The incidence matrix has {n_rows} rows and {n_columns} columns')\n",
    "print(incidence_matrix)\n",
    "\n"
   ]
  },
  {
   "cell_type": "markdown",
   "id": "186aea86",
   "metadata": {},
   "source": [
    "The matrix $A$ of the optimization problem"
   ]
  },
  {
   "cell_type": "code",
   "execution_count": null,
   "id": "48019e17",
   "metadata": {},
   "outputs": [],
   "source": [
    "matrix_a = ????\n"
   ]
  },
  {
   "cell_type": "markdown",
   "id": "52f657d3",
   "metadata": {},
   "source": [
    "The cost vector $c$"
   ]
  },
  {
   "cell_type": "code",
   "execution_count": null,
   "id": "f8cd46cc",
   "metadata": {},
   "outputs": [],
   "source": [
    "vector_c = ????\n",
    "\n",
    "\n"
   ]
  },
  {
   "cell_type": "markdown",
   "id": "623ba529",
   "metadata": {},
   "source": [
    "The right-hand-side $b$"
   ]
  },
  {
   "cell_type": "code",
   "execution_count": null,
   "id": "b1158fe0",
   "metadata": {},
   "outputs": [],
   "source": [
    "vector_b = ????\n",
    "\n",
    "\n",
    "\n"
   ]
  },
  {
   "cell_type": "markdown",
   "id": "ae4897b8",
   "metadata": {},
   "source": [
    "# Question 4\n",
    "What is the rank of the matrix $A$? Is the matrix full rank?"
   ]
  },
  {
   "cell_type": "code",
   "execution_count": null,
   "id": "c532602c",
   "metadata": {},
   "outputs": [],
   "source": [
    "rank = ????\n",
    "print(f'Its rank is {rank}')\n",
    "\n",
    "\n",
    "\n",
    "\n",
    "\n"
   ]
  },
  {
   "cell_type": "markdown",
   "id": "c5a853d3",
   "metadata": {},
   "source": [
    "# Question 5\n",
    "Solve the problem with the simplex algorithm."
   ]
  },
  {
   "cell_type": "markdown",
   "id": "7719acc5",
   "metadata": {},
   "source": [
    "We create the algorithm"
   ]
  },
  {
   "cell_type": "code",
   "execution_count": null,
   "id": "d5e165c5",
   "metadata": {},
   "outputs": [],
   "source": [
    "the_algorithm = SimplexAlgorithmTableau(\n",
    "    objective=vector_c,\n",
    "    constraint_matrix=matrix_a,\n",
    "    right_hand_side=vector_b,\n",
    ")\n"
   ]
  },
  {
   "cell_type": "markdown",
   "id": "bde1ebb6",
   "metadata": {},
   "source": [
    "We solve the problem"
   ]
  },
  {
   "cell_type": "code",
   "execution_count": null,
   "id": "ba988c03",
   "metadata": {},
   "outputs": [],
   "source": [
    "optimal_tableau: SimplexTableau = the_algorithm.solve()\n"
   ]
  },
  {
   "cell_type": "markdown",
   "id": "810e8f9f",
   "metadata": {},
   "source": [
    "Check if the problem is feasible"
   ]
  },
  {
   "cell_type": "code",
   "execution_count": null,
   "id": "d53a100f",
   "metadata": {},
   "outputs": [],
   "source": [
    "if optimal_tableau is None:\n",
    "    print(f'Optimization problem is infeasible.')\n",
    "    sys.exit()\n"
   ]
  },
  {
   "cell_type": "markdown",
   "id": "37699740",
   "metadata": {},
   "source": [
    "Optimal solution"
   ]
  },
  {
   "cell_type": "code",
   "execution_count": null,
   "id": "43247873",
   "metadata": {},
   "outputs": [],
   "source": [
    "print(optimal_tableau.feasible_basic_solution)\n"
   ]
  },
  {
   "cell_type": "markdown",
   "id": "48c79a31",
   "metadata": {},
   "source": [
    "We construct the optimal flows from the solution."
   ]
  },
  {
   "cell_type": "code",
   "execution_count": null,
   "id": "d6babb4f",
   "metadata": {},
   "outputs": [],
   "source": [
    "optimal_flows_new_network = {\n",
    "    (u, v): optimal_tableau.feasible_basic_solution[index]\n",
    "    for index, (u, v, edge_data) in enumerate(new_network.edges(data=True))\n",
    "}\n",
    "for edge, flow in optimal_flows_new_network.items():\n",
    "    print(f'{edge}: {flow}')\n",
    "\n"
   ]
  },
  {
   "cell_type": "markdown",
   "id": "ff7180ef",
   "metadata": {},
   "source": [
    "Optimal value"
   ]
  },
  {
   "cell_type": "code",
   "execution_count": null,
   "id": "fd8e1131",
   "metadata": {},
   "outputs": [],
   "source": [
    "print(f'{optimal_tableau.value_objective_function:.3g}')\n"
   ]
  },
  {
   "cell_type": "markdown",
   "id": "30b09781",
   "metadata": {},
   "source": [
    "We can now reconstruct the optimal flow in the original the_network."
   ]
  },
  {
   "cell_type": "markdown",
   "id": "8aacbcc6",
   "metadata": {},
   "source": [
    "First, we calculate the optimal flows in the shifted the_network"
   ]
  },
  {
   "cell_type": "code",
   "execution_count": null,
   "id": "4e157993",
   "metadata": {},
   "outputs": [],
   "source": [
    "optimal_flows_shifted_network = {}\n",
    "for u, v in shifted_network.edges():\n",
    "    corresponding_edge = (f'slack_{u}_{v}', v)\n",
    "    optimal_flows_shifted_network[(u, v)] = optimal_flows_new_network[\n",
    "        corresponding_edge\n",
    "    ]\n",
    "for edge, flow in optimal_flows_shifted_network.items():\n",
    "    print(f'{edge}: {flow}')\n"
   ]
  },
  {
   "cell_type": "markdown",
   "id": "b8efa196",
   "metadata": {},
   "source": [
    "And then, we calculate the optimal flows for the original the_network."
   ]
  },
  {
   "cell_type": "code",
   "execution_count": null,
   "id": "a29dc1fd",
   "metadata": {},
   "outputs": [],
   "source": [
    "optimal_flows_original_network = {}\n",
    "for u, v, edge_data in original_network.edges(data=True):\n",
    "    optimal_flows_original_network[(u, v)] = (\n",
    "        optimal_flows_shifted_network[(u, v)] + edge_data['lower_bound']\n",
    "    )\n",
    "\n",
    "for edge, flow in optimal_flows_original_network.items():\n",
    "    print(f'{edge}: {flow}')"
   ]
  }
 ],
 "metadata": {},
 "nbformat": 4,
 "nbformat_minor": 5
}

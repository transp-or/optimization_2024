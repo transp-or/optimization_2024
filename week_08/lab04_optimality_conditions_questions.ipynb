{
 "cells": [
  {
   "cell_type": "markdown",
   "id": "162246c3",
   "metadata": {},
   "source": [
    "# Transhipment: optimality conditions\n",
    "\n",
    "## Introduction to optimization and operations research\n",
    "\n",
    "Michel Bierlaire\n"
   ]
  },
  {
   "cell_type": "code",
   "execution_count": null,
   "id": "13592274",
   "metadata": {},
   "outputs": [],
   "source": [
    "\n",
    "from itertools import chain\n",
    "from typing import Any\n",
    "\n",
    "import numpy as np\n",
    "from matplotlib import pyplot as plt\n",
    "from networkx import (\n",
    "    DiGraph,\n",
    "    Graph,\n",
    "    draw_networkx_nodes,\n",
    "    draw_networkx_labels,\n",
    "    draw_networkx_edges,\n",
    "    draw_networkx_edge_labels,\n",
    ")\n"
   ]
  },
  {
   "cell_type": "markdown",
   "id": "73246589",
   "metadata": {},
   "source": [
    "A node in the_network can be of any type. In this script, we use str."
   ]
  },
  {
   "cell_type": "code",
   "execution_count": null,
   "id": "b871b7ec",
   "metadata": {},
   "outputs": [],
   "source": [
    "Node = Any\n"
   ]
  },
  {
   "cell_type": "markdown",
   "id": "23d0941e",
   "metadata": {},
   "source": [
    "Consider three factories producing electric cars in Boston, New-York\n",
    "and Los Angeles, with supplies 200 units, 250 units and 300 units per\n",
    "day respectively. The demand is 250 cars per day and per city. The\n",
    "cost for transporting one car:"
   ]
  },
  {
   "cell_type": "markdown",
   "id": "b27834f6",
   "metadata": {},
   "source": [
    "- from Los Angeles to Boston is \\$100.\n",
    "- from Los Angeles to New-York is \\$50.\n",
    "- from New-York to Boston is \\$80."
   ]
  },
  {
   "cell_type": "markdown",
   "id": "a8ad17b4",
   "metadata": {},
   "source": [
    "No more than 40 cars can be transported between two cities per day."
   ]
  },
  {
   "cell_type": "markdown",
   "id": "20b02bf0",
   "metadata": {},
   "source": [
    "Create a directed graph"
   ]
  },
  {
   "cell_type": "code",
   "execution_count": null,
   "id": "d4b4e6e9",
   "metadata": {},
   "outputs": [],
   "source": [
    "original_network = DiGraph()\n"
   ]
  },
  {
   "cell_type": "markdown",
   "id": "d3e14b4b",
   "metadata": {},
   "source": [
    "Supply and demand at each factory"
   ]
  },
  {
   "cell_type": "code",
   "execution_count": null,
   "id": "6c9a0657",
   "metadata": {},
   "outputs": [],
   "source": [
    "original_network.add_node('LA', supply=300 - 250)\n",
    "original_network.add_node('NY', supply=250 - 250)\n",
    "original_network.add_node('B', supply=200 - 250)\n"
   ]
  },
  {
   "cell_type": "markdown",
   "id": "988bad11",
   "metadata": {},
   "source": [
    "Add arcs with cost, and capacity (lower and upper bound)"
   ]
  },
  {
   "cell_type": "code",
   "execution_count": null,
   "id": "44dc8941",
   "metadata": {},
   "outputs": [],
   "source": [
    "original_network.add_edge('LA', 'B', cost=100, lower_bound=0, upper_bound=40)\n",
    "original_network.add_edge('LA', 'NY', cost=50, lower_bound=0, upper_bound=40)\n",
    "original_network.add_edge('NY', 'B', cost=80, lower_bound=0, upper_bound=40)\n"
   ]
  },
  {
   "cell_type": "markdown",
   "id": "39b7bfb5",
   "metadata": {},
   "source": [
    "Define coordinates for the plot."
   ]
  },
  {
   "cell_type": "code",
   "execution_count": null,
   "id": "e51db38e",
   "metadata": {},
   "outputs": [],
   "source": [
    "pos = {'LA': (0, 3), 'NY': (-3, 0), 'B': (3, 0)}\n",
    "\n"
   ]
  },
  {
   "cell_type": "markdown",
   "id": "ba6a4da0",
   "metadata": {},
   "source": [
    "Function to plot the the_network"
   ]
  },
  {
   "cell_type": "code",
   "execution_count": null,
   "id": "2bb88347",
   "metadata": {},
   "outputs": [],
   "source": [
    "def plot_network(network: Graph, positions: dict[Node, tuple[float, float]]) -> None:\n",
    "    \"\"\"Plot the the_network and its data.\n",
    "\n",
    "    :param network: the_network to plot.\n",
    "    :param positions: coordinate sof the nodes\n",
    "    \"\"\"\n",
    "\n",
    "    # Figure size\n",
    "    plt.figure(figsize=(10, 10))\n",
    "\n",
    "    # Draw the nodes\n",
    "    draw_networkx_nodes(\n",
    "        network, positions, node_size=5000, node_color='lightblue', alpha=0.5\n",
    "    )\n",
    "\n",
    "    # Draw the node labels (supply/demand)\n",
    "    node_labels = {}\n",
    "    for node, data in network.nodes(data=True):\n",
    "        supply = data['supply']\n",
    "        node_labels[node] = f'{node} [{supply}]'\n",
    "\n",
    "    shifted_positions = {\n",
    "        node: (coord[0], coord[1] - 0.2) for node, coord in positions.items()\n",
    "    }\n",
    "    draw_networkx_labels(\n",
    "        network, shifted_positions, labels=node_labels, font_size=12, font_weight='bold'\n",
    "    )\n",
    "\n",
    "    # Draw the arcs with labels\n",
    "    edge_labels = {}\n",
    "    for u, v, data in network.edges(data=True):\n",
    "        lower_bound = data['lower_bound']\n",
    "        upper_bound = data['upper_bound']\n",
    "        cost = data['cost']\n",
    "        label = f'{cost} ({lower_bound},{upper_bound})'\n",
    "        edge_labels[(u, v)] = label\n",
    "\n",
    "    draw_networkx_edges(network, positions, arrowstyle='->', arrowsize=20)\n",
    "    draw_networkx_edge_labels(network, positions, edge_labels=edge_labels, font_size=10)\n",
    "\n",
    "    # Display the graph\n",
    "    plt.title('Transhipment the_network with costs and capacities')\n",
    "    plt.axis('off')\n",
    "    plt.show()\n",
    "\n",
    "\n",
    "plot_network(network=original_network, positions=pos)\n"
   ]
  },
  {
   "cell_type": "markdown",
   "id": "882e46bb",
   "metadata": {},
   "source": [
    "It corresponds to the following transhipment problem:\n",
    "$$\\min_{x \\in \\R^3} 100 x_{LA,B} + 50 x_{LA,NY} + 80\n",
    "x_{NY,B}$$ subject to\n",
    "\\begin{align*}\n",
    "x_{LA,NY}+x_{LA,B}&=50, \\\\ x_{NY,B} - x_{LA,NY}&=0,\n",
    "\\\\ -x_{NY,B}-x_{LA,B}&=-50, \\\\ 0 \\leq x_{LA,NY},x_{LA,B},x_{NY,B}\n",
    "&\\leq 40.\n",
    "\\end{align*}"
   ]
  },
  {
   "cell_type": "markdown",
   "id": "7577920d",
   "metadata": {},
   "source": [
    "In order to obtain a formulation in standard form, we apply the procedure used in the previous exercise."
   ]
  },
  {
   "cell_type": "markdown",
   "id": "3275f510",
   "metadata": {},
   "source": [
    "Shifted the_network"
   ]
  },
  {
   "cell_type": "code",
   "execution_count": null,
   "id": "8005419a",
   "metadata": {},
   "outputs": [],
   "source": [
    "shifted_network = original_network.copy()\n",
    "\n",
    "for node, node_data in shifted_network.nodes(data=True):\n",
    "    correction = 0\n",
    "    for u, v, edge_data in shifted_network.in_edges(node, data=True):\n",
    "        correction += edge_data['lower_bound']\n",
    "    for u, v, edge_data in shifted_network.out_edges(node, data=True):\n",
    "        correction -= edge_data['lower_bound']\n",
    "    node_data['supply'] += correction\n",
    "\n",
    "for u, v, data in shifted_network.edges(data=True):\n",
    "    lower_bound = data['lower_bound']\n",
    "    upper_bound = data['upper_bound']\n",
    "    data['lower_bound'] = 0\n",
    "    data['upper_bound'] = upper_bound - lower_bound\n"
   ]
  },
  {
   "cell_type": "markdown",
   "id": "4eefc50c",
   "metadata": {},
   "source": [
    "Standard form the_network."
   ]
  },
  {
   "cell_type": "code",
   "execution_count": null,
   "id": "ec26895c",
   "metadata": {},
   "outputs": [],
   "source": [
    "standard_form_network = DiGraph()\n",
    "new_pos = {}\n",
    "for node, node_data in shifted_network.nodes(data=True):\n",
    "    # For each node of the shifted the_network, we create a  node in the new the_network, with a different supply data.\n",
    "    supply = node_data['supply']\n",
    "    # For each outgoing arc, we deduce the upper bound.\n",
    "    for u, v, edge_data in shifted_network.out_edges(node, data=True):\n",
    "        supply -= edge_data['upper_bound']\n",
    "\n",
    "    standard_form_network.add_node(node, supply=supply)\n",
    "    new_pos[node] = pos[node]\n",
    "\n",
    "for u, v, edge_data in shifted_network.edges(data=True):\n",
    "    # For each arc of the shifted the_network, we create a node in the new the_network, and two arcs: one corresponding to the\n",
    "    # original arc, and one corresponding to the slack variable.\n",
    "\n",
    "    # We define the name of the new node.\n",
    "    slack_node = f'slack_{u}_{v}'\n",
    "    # The supply of the new node is the upper bound of the corresponding arc.\n",
    "    supply_new_node = edge_data['upper_bound']\n",
    "    standard_form_network.add_node(slack_node, supply=supply_new_node)\n",
    "\n",
    "    # We add an arc between the new node and the downstream node\n",
    "\n",
    "    # The lower bound is 0\n",
    "    lower_bound_down_arc = 0\n",
    "    # The upper bound is not needed anymore. We set it to $\\infty$.\n",
    "    upper_bound_down_arc = np.inf\n",
    "    # The cost of the new arc is the cost of the corresponding arc, as it plays the role of the original arc.\n",
    "    cost_down_arc = edge_data['cost']\n",
    "    standard_form_network.add_edge(\n",
    "        slack_node,\n",
    "        v,\n",
    "        cost=cost_down_arc,\n",
    "        lower_bound=lower_bound_down_arc,\n",
    "        upper_bound=upper_bound_down_arc,\n",
    "    )\n",
    "\n",
    "    # We also add an arc between the new node and the upstream node\n",
    "\n",
    "    # The lower bound is 0\n",
    "    lower_bound_up_arc = 0\n",
    "    # The upper bound is not needed anymore. We set it to $\\infty$.\n",
    "    upper_bound_up_arc = np.inf\n",
    "    # The cost of the new arc is 0, as it corresponds to the slack variable.\n",
    "    cost_up_arc = 0\n",
    "    standard_form_network.add_edge(\n",
    "        slack_node,\n",
    "        u,\n",
    "        cost=cost_up_arc,\n",
    "        lower_bound=lower_bound_up_arc,\n",
    "        upper_bound=upper_bound_up_arc,\n",
    "    )\n",
    "    # We position the new node in the middle of the corresponding arc.\n",
    "    coord_u_x, coord_u_y = pos[u]\n",
    "    coord_v_x, coord_v_y = pos[v]\n",
    "    new_pos[slack_node] = (0.5 * (coord_u_x + coord_v_x), 0.5 * (coord_u_y + coord_v_y))\n"
   ]
  },
  {
   "cell_type": "markdown",
   "id": "bc426291",
   "metadata": {},
   "source": [
    "We plot the new the_network."
   ]
  },
  {
   "cell_type": "code",
   "execution_count": null,
   "id": "591fd3dc",
   "metadata": {},
   "outputs": [],
   "source": [
    "plot_network(network=standard_form_network, positions=new_pos)\n",
    "\n"
   ]
  },
  {
   "cell_type": "markdown",
   "id": "0e6d89c4",
   "metadata": {},
   "source": [
    "The corresponding linear optimization problem in standard form\n",
    "is: $$\\min_{x\\in{\\mathbb{R}^6}} 100 x_{2,B} + 80 x_{3,B} + 50 x_{1,NY}$$ subject to\n",
    "\\begin{align*}\n",
    "-x_{1,LA}-x_{2,LA} &= -30,\\\\ x_{1,LA}+x_{1,NY} &=\n",
    "40,\\\\ -x_{1,NY}-x_{3,NY} &= -40,\\\\ x_{3,NY}+x_{3,B} &=\n",
    "40,\\\\ -x_{2,B}-x_{3,B} &= -50,\\\\ x_{2,LA}+x_{2,B} &=\n",
    "40,\\\\ x_{1,LA},x_{1,NY},x_{2,LA},x_{2,B},x_{3,NY},x_{3,B} & \\geq 0.\n",
    "\\end{align*}"
   ]
  },
  {
   "cell_type": "markdown",
   "id": "86f5ae2a",
   "metadata": {},
   "source": [
    "For the readability of the indices, we have used:\n",
    "- index 1 for slack_LA_NY\n",
    "- index 2 for slack_LA_B\n",
    "- index 3 for slack_NY_B"
   ]
  },
  {
   "cell_type": "markdown",
   "id": "9f85b422",
   "metadata": {},
   "source": [
    "# Question 1\n",
    "Write the dual problem using the Lagrangian method."
   ]
  },
  {
   "cell_type": "markdown",
   "id": "33b39953",
   "metadata": {},
   "source": [
    "# Question 2\n",
    "Solve the dual using optimality conditions.  The procedure\n",
    "consists in treating all nodes of the the_network in a systematic\n",
    "way. The set of nodes that must be treated at a given iteration is\n",
    "denoted by $\\mathcal{S}$. The treatment of one node consists in\n",
    "considering all arcs incident to the node, and updating the value of\n",
    "the dual variable of the other incident node using the optimality\n",
    "conditions."
   ]
  },
  {
   "cell_type": "markdown",
   "id": "692b368b",
   "metadata": {},
   "source": [
    "- Select one arbitrary node $i$, set $\\lambda_i=0$ and\n",
    "$\\mathcal{S}=\\{i\\}$.\n",
    "- If $\\mathcal{S} \\neq \\emptyset$, perform\n",
    "the following:\n",
    "\n",
    "1. Select a node $i$ in $\\mathcal{S}$.\n",
    "2. For each outgoing arc $(i, j)$, if $\\lambda_j$ is not\n",
    "defined yet, or if it violates the optimality conditions, update\n",
    "its value:\n",
    "$$\n",
    "\\text{If } \\lambda_j > \\lambda_i + c_{ij}, \\text{ then }\n",
    "\\lambda_j=\\lambda_i + c_{ij} \\text { and } \\mathcal{S} =\n",
    "\\mathcal{S} \\cup \\{ j\\}.\n",
    "$$\n",
    "3. For each ingoing arc $(j, i)$, if $\\lambda_j$ is not defined\n",
    "yet, or if it violates the optimality conditions, update its\n",
    "value:\n",
    "$$\n",
    "\\text{If } \\lambda_j < \\lambda_i - c_{ji}, \\text{ then }\n",
    "\\lambda_j=\\lambda_i - c_{ji} \\text { and } \\mathcal{S} =\n",
    "\\mathcal{S} \\cup \\{ j\\}.\n",
    "$$\n",
    "\n",
    "4. Remove $i$ from $\\mathcal{S}$ and start again."
   ]
  },
  {
   "cell_type": "markdown",
   "id": "9bf78a93",
   "metadata": {},
   "source": [
    "- If $\\mathcal{S} = \\emptyset$, stop."
   ]
  },
  {
   "cell_type": "markdown",
   "id": "fe819d17",
   "metadata": {},
   "source": [
    "We suggest to initialize the process with node slack_LA_NY, and then process\n",
    "each node in a counter-clockwise way, that is: slack_LA_NY, NY, slack_NY_B, B, slack_LA_B, LA."
   ]
  },
  {
   "cell_type": "markdown",
   "id": "2ddbfc03",
   "metadata": {},
   "source": [
    "We initialize the dual variables"
   ]
  },
  {
   "cell_type": "code",
   "execution_count": null,
   "id": "fbe6d7d9",
   "metadata": {},
   "outputs": [],
   "source": [
    "dual_variables: dict[Node, float | None] = {\n",
    "    node: None for node in standard_form_network.nodes()\n",
    "}"
   ]
  },
  {
   "cell_type": "markdown",
   "id": "e52d8bc7",
   "metadata": {},
   "source": [
    "We initialize the set of nodes to be treated"
   ]
  },
  {
   "cell_type": "code",
   "execution_count": null,
   "id": "847c3ba5",
   "metadata": {},
   "outputs": [],
   "source": [
    "set_of_nodes_s = set()\n",
    "\n"
   ]
  },
  {
   "cell_type": "markdown",
   "id": "aa30bdca",
   "metadata": {},
   "source": [
    "We define the procedure that treats a node"
   ]
  },
  {
   "cell_type": "code",
   "execution_count": null,
   "id": "e8ad36e8",
   "metadata": {},
   "outputs": [],
   "source": [
    "def treat_node(node_to_be_treated: Node) -> None:\n",
    "    \"\"\"Apply the procedure to calculate the dual variables\n",
    "    :param node_to_be_treated: self explanatory...\n",
    "    \"\"\"\n",
    "    print(f'*** Treating node {node_to_be_treated} ***')\n",
    "    # We treat each arc leaving the node and apply the optimality conditions\n",
    "    for u, v, edge_data in standard_form_network.out_edges(\n",
    "        node_to_be_treated, data=True\n",
    "    ):\n",
    "        if dual_variables[v] is None:\n",
    "            # No value has been set yet. We initialize it with the optimality condition\n",
    "            print(f'Dual variable of {v} is not defined.')\n",
    "            dual_variables[v] = ????\n",
    "\n",
    "\n",
    "            # We add the node to the set in order to treat it later.\n",
    "            set_of_nodes_s.add(v)\n",
    "        elif ????:\n",
    "\n",
    "\n",
    "            # The optimality condition is violated. We update the dual variable.\n",
    "            print(f'Optimality condition violated for edge {(u, v)}')\n",
    "            dual_variables[v] = ????\n",
    "\n",
    "\n",
    "            # We add the node to the set in order to treat it later.\n",
    "            set_of_nodes_s.add(v)\n",
    "        else:\n",
    "            # The optimality condition is verified. There is nothing to do.\n",
    "            print(f'Optimality condition verified for edge {(u, v)}')\n",
    "\n",
    "    # We treat each arc entering the node and apply the optimality conditions.\n",
    "    # Keep in mind that the role of u and v change here.\n",
    "    for u, v, edge_data in standard_form_network.in_edges(\n",
    "        node_to_be_treated, data=True\n",
    "    ):\n",
    "        if dual_variables[u] is None:\n",
    "            # No value has been set yet. We initialize it with the optimality condition\n",
    "            print(f'Dual variable of {u} is not defined.')\n",
    "            dual_variables[u] = ????\n",
    "\n",
    "\n",
    "            # We add the node to the set in order to treat it later.\n",
    "            set_of_nodes_s.add(u)\n",
    "        elif ????:\n",
    "\n",
    "\n",
    "            # The optimality condition is violated. We update the dual variable.\n",
    "            print(f'Optimality condition violated for edge {(u, v)}')\n",
    "            dual_variables[u] = ????\n",
    "\n",
    "\n",
    "            # We add the node to the set in order to treat it later.\n",
    "            set_of_nodes_s.add(u)\n",
    "        else:\n",
    "            # The optimality condition is verified. There is nothing to do.\n",
    "            print(f'Optimality condition verified for edge {(u, v)}')\n",
    "    set_of_nodes_s.remove(node_to_be_treated)\n",
    "\n"
   ]
  },
  {
   "cell_type": "markdown",
   "id": "33ec2494",
   "metadata": {},
   "source": [
    "We now apply the procedure node by node."
   ]
  },
  {
   "cell_type": "markdown",
   "id": "9ad6708a",
   "metadata": {},
   "source": [
    "We start with node slack_LA_NY"
   ]
  },
  {
   "cell_type": "code",
   "execution_count": null,
   "id": "efe7c32d",
   "metadata": {},
   "outputs": [],
   "source": [
    "treated_node = 'slack_LA_NY'\n",
    "set_of_nodes_s.add(treated_node)\n",
    "dual_variables[treated_node] = 0\n"
   ]
  },
  {
   "cell_type": "markdown",
   "id": "b4fb1cb4",
   "metadata": {},
   "source": [
    "Dual variables"
   ]
  },
  {
   "cell_type": "code",
   "execution_count": null,
   "id": "6802a815",
   "metadata": {},
   "outputs": [],
   "source": [
    "print(dual_variables)\n"
   ]
  },
  {
   "cell_type": "markdown",
   "id": "f5e69dc8",
   "metadata": {},
   "source": [
    "Set of nodes"
   ]
  },
  {
   "cell_type": "code",
   "execution_count": null,
   "id": "0a189501",
   "metadata": {},
   "outputs": [],
   "source": [
    "print(set_of_nodes_s)\n"
   ]
  },
  {
   "cell_type": "markdown",
   "id": "df165cc6",
   "metadata": {},
   "source": [
    "We treat the node"
   ]
  },
  {
   "cell_type": "code",
   "execution_count": null,
   "id": "986ee5f1",
   "metadata": {},
   "outputs": [],
   "source": [
    "treat_node(node_to_be_treated=treated_node)\n"
   ]
  },
  {
   "cell_type": "markdown",
   "id": "2d7aaf8b",
   "metadata": {},
   "source": [
    "Dual variables"
   ]
  },
  {
   "cell_type": "code",
   "execution_count": null,
   "id": "e1ba5aa1",
   "metadata": {},
   "outputs": [],
   "source": [
    "print(dual_variables)\n"
   ]
  },
  {
   "cell_type": "markdown",
   "id": "676d220f",
   "metadata": {},
   "source": [
    "Set of nodes"
   ]
  },
  {
   "cell_type": "code",
   "execution_count": null,
   "id": "88272110",
   "metadata": {},
   "outputs": [],
   "source": [
    "print(set_of_nodes_s)\n"
   ]
  },
  {
   "cell_type": "markdown",
   "id": "d132ff5d",
   "metadata": {},
   "source": [
    "We now treat the node 'NY', which is in the set."
   ]
  },
  {
   "cell_type": "code",
   "execution_count": null,
   "id": "5fa59b18",
   "metadata": {},
   "outputs": [],
   "source": [
    "treat_node(node_to_be_treated='NY')\n"
   ]
  },
  {
   "cell_type": "markdown",
   "id": "f1a87008",
   "metadata": {},
   "source": [
    "Dual variables"
   ]
  },
  {
   "cell_type": "code",
   "execution_count": null,
   "id": "53f68620",
   "metadata": {},
   "outputs": [],
   "source": [
    "print(dual_variables)\n"
   ]
  },
  {
   "cell_type": "markdown",
   "id": "004eea34",
   "metadata": {},
   "source": [
    "Set of nodes"
   ]
  },
  {
   "cell_type": "code",
   "execution_count": null,
   "id": "dd197b7f",
   "metadata": {},
   "outputs": [],
   "source": [
    "print(set_of_nodes_s)\n"
   ]
  },
  {
   "cell_type": "markdown",
   "id": "7769f0cf",
   "metadata": {},
   "source": [
    "We now treat the node 'slack_NY_B', which is in the set."
   ]
  },
  {
   "cell_type": "code",
   "execution_count": null,
   "id": "e34f870a",
   "metadata": {},
   "outputs": [],
   "source": [
    "treat_node(node_to_be_treated='slack_NY_B')\n"
   ]
  },
  {
   "cell_type": "markdown",
   "id": "1c2c6d5d",
   "metadata": {},
   "source": [
    "Dual variables"
   ]
  },
  {
   "cell_type": "code",
   "execution_count": null,
   "id": "6e455816",
   "metadata": {},
   "outputs": [],
   "source": [
    "print(dual_variables)\n"
   ]
  },
  {
   "cell_type": "markdown",
   "id": "8c8f3af8",
   "metadata": {},
   "source": [
    "Set of nodes"
   ]
  },
  {
   "cell_type": "code",
   "execution_count": null,
   "id": "867242ab",
   "metadata": {},
   "outputs": [],
   "source": [
    "print(set_of_nodes_s)\n"
   ]
  },
  {
   "cell_type": "markdown",
   "id": "711c6967",
   "metadata": {},
   "source": [
    "We now treat the node 'B', which is in the set."
   ]
  },
  {
   "cell_type": "code",
   "execution_count": null,
   "id": "c5f23b90",
   "metadata": {},
   "outputs": [],
   "source": [
    "treat_node(node_to_be_treated='B')\n"
   ]
  },
  {
   "cell_type": "markdown",
   "id": "bc7c1647",
   "metadata": {},
   "source": [
    "Dual variables"
   ]
  },
  {
   "cell_type": "code",
   "execution_count": null,
   "id": "d62c5b1f",
   "metadata": {},
   "outputs": [],
   "source": [
    "print(dual_variables)\n"
   ]
  },
  {
   "cell_type": "markdown",
   "id": "52da0639",
   "metadata": {},
   "source": [
    "Set of nodes"
   ]
  },
  {
   "cell_type": "code",
   "execution_count": null,
   "id": "1154f378",
   "metadata": {},
   "outputs": [],
   "source": [
    "print(set_of_nodes_s)\n"
   ]
  },
  {
   "cell_type": "markdown",
   "id": "10746fa4",
   "metadata": {},
   "source": [
    "We now treat the node 'slack_LA_B', which is in the set."
   ]
  },
  {
   "cell_type": "code",
   "execution_count": null,
   "id": "64541e7e",
   "metadata": {},
   "outputs": [],
   "source": [
    "treat_node(node_to_be_treated='slack_LA_B')\n"
   ]
  },
  {
   "cell_type": "markdown",
   "id": "4e5a2f99",
   "metadata": {},
   "source": [
    "Dual variables"
   ]
  },
  {
   "cell_type": "code",
   "execution_count": null,
   "id": "699d48d2",
   "metadata": {},
   "outputs": [],
   "source": [
    "print(dual_variables)\n"
   ]
  },
  {
   "cell_type": "markdown",
   "id": "6697fe07",
   "metadata": {},
   "source": [
    "Set of nodes"
   ]
  },
  {
   "cell_type": "code",
   "execution_count": null,
   "id": "81007d50",
   "metadata": {},
   "outputs": [],
   "source": [
    "print(set_of_nodes_s)\n"
   ]
  },
  {
   "cell_type": "markdown",
   "id": "f6d5c6e0",
   "metadata": {},
   "source": [
    "We now treat the node 'LA', which is in the set."
   ]
  },
  {
   "cell_type": "code",
   "execution_count": null,
   "id": "a70c2d1e",
   "metadata": {},
   "outputs": [],
   "source": [
    "treat_node(node_to_be_treated='LA')\n"
   ]
  },
  {
   "cell_type": "markdown",
   "id": "04abc00c",
   "metadata": {},
   "source": [
    "Dual variables"
   ]
  },
  {
   "cell_type": "code",
   "execution_count": null,
   "id": "5822d696",
   "metadata": {},
   "outputs": [],
   "source": [
    "print(dual_variables)\n"
   ]
  },
  {
   "cell_type": "markdown",
   "id": "cf66aec7",
   "metadata": {},
   "source": [
    "Set of nodes"
   ]
  },
  {
   "cell_type": "code",
   "execution_count": null,
   "id": "cb671951",
   "metadata": {},
   "outputs": [],
   "source": [
    "print(set_of_nodes_s)\n",
    "\n"
   ]
  },
  {
   "cell_type": "markdown",
   "id": "886d3467",
   "metadata": {},
   "source": [
    "The set is now empty. We have found the optimal values for the dual variables.\n",
    "Indeed, the optimality conditions are verified on each arc."
   ]
  },
  {
   "cell_type": "code",
   "execution_count": null,
   "id": "1245f082",
   "metadata": {},
   "outputs": [],
   "source": [
    "def verify_optimality(the_dual_variables: dict[Node, float]) -> bool:\n",
    "    \"\"\"Check the optimality of the dual variables\n",
    "\n",
    "    :param the_dual_variables: dict of value for the dual variables.\n",
    "    :return: True if verified. False otherwise.\n",
    "    \"\"\"\n",
    "    for u, v, edge_data in standard_form_network.edges(data=True):\n",
    "        optimality_condition = (\n",
    "            edge_data['cost'] + the_dual_variables[u] - the_dual_variables[v]\n",
    "        )\n",
    "        print(\n",
    "            f'Arc {(u,v)}: {optimality_condition}. Verified? {optimality_condition >= 0}'\n",
    "        )\n",
    "    return optimality_condition >= 0\n",
    "\n"
   ]
  },
  {
   "cell_type": "markdown",
   "id": "21c041fa",
   "metadata": {},
   "source": [
    "We check the optimality of the dual variables."
   ]
  },
  {
   "cell_type": "code",
   "execution_count": null,
   "id": "5d4fa73c",
   "metadata": {},
   "outputs": [],
   "source": [
    "check = verify_optimality(the_dual_variables=dual_variables)\n",
    "print(f'Are all optimality conditions verified? {check}')\n"
   ]
  },
  {
   "cell_type": "markdown",
   "id": "6bfc6748",
   "metadata": {},
   "source": [
    "## Question 3"
   ]
  },
  {
   "cell_type": "markdown",
   "id": "96eee344",
   "metadata": {},
   "source": [
    "Consider another solution for the dual variables."
   ]
  },
  {
   "cell_type": "code",
   "execution_count": null,
   "id": "06c273d4",
   "metadata": {},
   "outputs": [],
   "source": [
    "other_dual_variables = {\n",
    "    'LA': 100,\n",
    "    'NY': 150,\n",
    "    'B': 230,\n",
    "    'slack_LA_B': 130,\n",
    "    'slack_LA_NY': 100,\n",
    "    'slack_NY_B': 150,\n",
    "}\n"
   ]
  },
  {
   "cell_type": "markdown",
   "id": "b7f93d00",
   "metadata": {},
   "source": [
    "Check if it is an optimal solution."
   ]
  },
  {
   "cell_type": "code",
   "execution_count": null,
   "id": "33334ea7",
   "metadata": {},
   "outputs": [],
   "source": [
    "check = verify_optimality(the_dual_variables=other_dual_variables)\n",
    "print(f'Are all optimality conditions verified? {check}')\n",
    "\n",
    "\n",
    "\n",
    "\n"
   ]
  },
  {
   "cell_type": "markdown",
   "id": "4c13bb6d",
   "metadata": {},
   "source": [
    "## Question 4"
   ]
  },
  {
   "cell_type": "markdown",
   "id": "bc15b18f",
   "metadata": {},
   "source": [
    "Use the complementarity slackness theorem and the flow conservation constraints to find the optimal flow, that is,\n",
    "the optimal values of the primal variables."
   ]
  }
 ],
 "metadata": {},
 "nbformat": 4,
 "nbformat_minor": 5
}

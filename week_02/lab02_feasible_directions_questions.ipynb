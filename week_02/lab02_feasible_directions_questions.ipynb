{
 "cells": [
  {
   "cell_type": "markdown",
   "id": "edaea704",
   "metadata": {},
   "source": [
    "# Feasible directions\n",
    "\n",
    "## Introduction to optimization and operations research.\n",
    "\n",
    "Michel Bierlaire\n"
   ]
  },
  {
   "cell_type": "code",
   "execution_count": null,
   "id": "0c592000",
   "metadata": {},
   "outputs": [],
   "source": [
    "\n",
    "import numpy as np\n",
    "from teaching_optimization.linear_constraints import (\n",
    "    AllConstraints,\n",
    "    StandardCanonicalForms,\n",
    "    draw_polyhedron_canonical_form,\n",
    "    LabeledDirection,\n",
    ")\n"
   ]
  },
  {
   "cell_type": "markdown",
   "id": "0bd5a25d",
   "metadata": {},
   "source": [
    "Consider the polyhedron defined as follows:\n",
    "$$\n",
    "\\mathcal{P} = \\{x \\in \\mathbb{R}^2 \\mid -x_0 + x_1 \\leq 2, x_0 + x_1 \\leq 4, x_0 \\geq 0, x_1 \\geq 0\\}.\n",
    "$$\n",
    "\n",
    "Determine whether a given directions $\\tilde{d} \\in \\mathbb{R}^2$  is feasible for the given feasible points\n",
    "$\\tilde{x}$ of $\\mathcal{P}$.\n",
    "\n",
    "**Hints**:\n",
    "\n",
    "1. If the polyhedron is written in standard form, a direction $d$ is feasible if the\n",
    "following conditions are verified:\n",
    "\n",
    "- $Ad = 0$, and\n",
    "- $d_i \\geq 0$ when $x_i = 0$.\n",
    "2. To obtain a vector $x$ in standard form, you must calculate the values of the slack variables.\n",
    "3. To obtain a _direction_ $d$ in standard form, you need to consider $y = x + d$. If $x^s$ and $y^s$ are\n",
    "the corresponding vectors in standard form (including the slack variables), the direction in standard form is\n",
    "$$d^s = y^s - x^s.$$\n"
   ]
  },
  {
   "cell_type": "markdown",
   "id": "b1229282",
   "metadata": {},
   "source": [
    "Constraints of the canonical form (for the plot)"
   ]
  },
  {
   "cell_type": "markdown",
   "id": "616571f1",
   "metadata": {},
   "source": [
    "$$\\begin{array}{rrrr}\n",
    "-x_0 &+ x_1 &<=& 2, \\\\\n",
    "+x_0 &+ x_1 &<=& 4, \\\\\n",
    "-x_0 &      &<=& 0, \\\\\n",
    "& -x_1 &<=& 0.\n",
    "\\end{array}$$"
   ]
  },
  {
   "cell_type": "code",
   "execution_count": null,
   "id": "581fceae",
   "metadata": {},
   "outputs": [],
   "source": [
    "\n",
    "canonical_a = np.array([[-1, 1], [1, 1], [-1, 0], [0, -1]])\n",
    "canonical_b = np.array([2, 4, 0, 0])\n"
   ]
  },
  {
   "cell_type": "markdown",
   "id": "c1d81305",
   "metadata": {},
   "source": [
    "Create a polyhedron object for plotting"
   ]
  },
  {
   "cell_type": "code",
   "execution_count": null,
   "id": "5d0df30d",
   "metadata": {},
   "outputs": [],
   "source": [
    "polyhedron = AllConstraints.from_canonical_form(matrix=canonical_a, vector=canonical_b)\n",
    "print(polyhedron)\n"
   ]
  },
  {
   "cell_type": "markdown",
   "id": "6cd24bd7",
   "metadata": {},
   "source": [
    "Create an object managing the standard and canonical forms."
   ]
  },
  {
   "cell_type": "code",
   "execution_count": null,
   "id": "19aa4e4a",
   "metadata": {},
   "outputs": [],
   "source": [
    "polyhedron_forms = StandardCanonicalForms(constraints=polyhedron)\n"
   ]
  },
  {
   "cell_type": "markdown",
   "id": "177c8315",
   "metadata": {},
   "source": [
    "Canonical form"
   ]
  },
  {
   "cell_type": "code",
   "execution_count": null,
   "id": "d2268b7f",
   "metadata": {},
   "outputs": [],
   "source": [
    "print(polyhedron_forms.canonical_form)\n"
   ]
  },
  {
   "cell_type": "markdown",
   "id": "13c98e99",
   "metadata": {},
   "source": [
    "Plot the polyhedron"
   ]
  },
  {
   "cell_type": "code",
   "execution_count": null,
   "id": "c73cdc87",
   "metadata": {},
   "outputs": [],
   "source": [
    "draw_polyhedron_canonical_form(matrix_a=canonical_a, vector_b=canonical_b)\n"
   ]
  },
  {
   "cell_type": "code",
   "execution_count": null,
   "id": "5335679d",
   "metadata": {},
   "outputs": [],
   "source": [
    "print(polyhedron_forms.standard_form)\n"
   ]
  },
  {
   "cell_type": "markdown",
   "id": "0998591e",
   "metadata": {},
   "source": [
    "Input the standard form data"
   ]
  },
  {
   "cell_type": "code",
   "execution_count": null,
   "id": "e05770c6",
   "metadata": {},
   "outputs": [],
   "source": [
    "standard_a = np.array(????)\n",
    "\n",
    "\n",
    "standard_b = np.array(????)\n",
    "\n"
   ]
  },
  {
   "cell_type": "markdown",
   "id": "defeeed7",
   "metadata": {},
   "source": [
    "Function checking the feasibility of the direction with the standard form."
   ]
  },
  {
   "cell_type": "code",
   "execution_count": null,
   "id": "37d11b03",
   "metadata": {},
   "outputs": [],
   "source": [
    "def is_direction_feasible_standard(\n",
    "    standard_matrix: np.ndarray,\n",
    "    vector_x: np.ndarray,\n",
    "    direction: np.ndarray,\n",
    "):\n",
    "    \"\"\"Function checking the feasibility of the direction with the standard form.\n",
    "\n",
    "    :param standard_matrix: matrix of the standard form representation.\n",
    "    :param vector_x: point where to start the direction.\n",
    "    :param direction: direction to follow.\n",
    "    \"\"\"\n",
    "    # Verify the dimensions\n",
    "    n_rows, n_columns = standard_matrix.shape\n",
    "    if len(vector_x) != n_columns:\n",
    "        error_msg = f'Incompatible dimension of vector_x: {len(vector_x)} instead of {n_columns}.'\n",
    "        raise ValueError(error_msg)\n",
    "    if len(direction) != n_columns:\n",
    "        error_msg = f'Incompatible dimension of direction: {len(direction)} instead of {n_columns}.'\n",
    "        raise ValueError(error_msg)\n",
    "\n",
    "\n",
    "\n",
    "\n",
    "\n",
    "\n",
    "\n",
    "\n",
    "\n",
    "    return ????\n",
    "\n"
   ]
  },
  {
   "cell_type": "markdown",
   "id": "07629ddd",
   "metadata": {},
   "source": [
    "We now apply the function on various examples. Note that the data is provided for the canonical form,\n",
    "and must be transformed first."
   ]
  },
  {
   "cell_type": "markdown",
   "id": "7e17e860",
   "metadata": {},
   "source": [
    "# Question 1\n",
    "\n",
    "$\\tilde{x}_a = \\left(\\begin{array}{r} 0 \\\\ 2 \\end{array}\\right)$,\n",
    "$\\tilde{d}_a = \\left(\\begin{array}{r} 1 \\\\ 0 \\end{array}\\right);$"
   ]
  },
  {
   "cell_type": "code",
   "execution_count": null,
   "id": "af1c5048",
   "metadata": {},
   "outputs": [],
   "source": [
    "\n",
    "canonical_x_a = np.array([0, 2])\n",
    "canonical_d_a = np.array([1, 0])\n"
   ]
  },
  {
   "cell_type": "markdown",
   "id": "f5aee1b6",
   "metadata": {},
   "source": [
    "Provide the values of the vector in standard form."
   ]
  },
  {
   "cell_type": "code",
   "execution_count": null,
   "id": "22213208",
   "metadata": {},
   "outputs": [],
   "source": [
    "standard_x_a = np.array(????)\n"
   ]
  },
  {
   "cell_type": "markdown",
   "id": "fc67b606",
   "metadata": {},
   "source": [
    "Provide the values of the direction in standard form."
   ]
  },
  {
   "cell_type": "code",
   "execution_count": null,
   "id": "d3e60c80",
   "metadata": {},
   "outputs": [],
   "source": [
    "standard_direction_a = np.array(????)\n",
    "\n",
    "\n"
   ]
  },
  {
   "cell_type": "markdown",
   "id": "d6b6b6da",
   "metadata": {},
   "source": [
    "Check feasibility. Expected output: True."
   ]
  },
  {
   "cell_type": "code",
   "execution_count": null,
   "id": "91c58ea3",
   "metadata": {},
   "outputs": [],
   "source": [
    "print(\n",
    "    is_direction_feasible_standard(\n",
    "        standard_matrix=standard_a,\n",
    "        vector_x=standard_x_a,\n",
    "        direction=standard_direction_a,\n",
    "    )\n",
    ")\n"
   ]
  },
  {
   "cell_type": "markdown",
   "id": "fc19151f",
   "metadata": {},
   "source": [
    "Plot the polyhedron"
   ]
  },
  {
   "cell_type": "code",
   "execution_count": null,
   "id": "3c19af46",
   "metadata": {},
   "outputs": [],
   "source": [
    "draw_polyhedron_canonical_form(\n",
    "    matrix_a=canonical_a,\n",
    "    vector_b=canonical_b,\n",
    "    directions=[\n",
    "        LabeledDirection(start=canonical_x_a, direction=canonical_d_a, label='d_a')\n",
    "    ],\n",
    ")\n"
   ]
  },
  {
   "cell_type": "markdown",
   "id": "d9a819e0",
   "metadata": {},
   "source": [
    "# Question 2\n",
    "$\\tilde{x}_b = \\left(\\begin{array}{r} 0 \\\\ 2 \\end{array}\\right)$,\n",
    "$\\tilde{d}_b = \\left(\\begin{array}{r} -1 \\\\ 0 \\end{array}\\right);$"
   ]
  },
  {
   "cell_type": "code",
   "execution_count": null,
   "id": "f600b376",
   "metadata": {},
   "outputs": [],
   "source": [
    "\n",
    "canonical_x_b = np.array([0, 2])\n",
    "canonical_d_b = np.array([-1, 0])\n"
   ]
  },
  {
   "cell_type": "code",
   "execution_count": null,
   "id": "49888b80",
   "metadata": {},
   "outputs": [],
   "source": [
    "\n",
    "standard_x_b = np.array(????)\n",
    "standard_direction_b = np.array(????)\n",
    "\n",
    "\n"
   ]
  },
  {
   "cell_type": "markdown",
   "id": "cc01096a",
   "metadata": {},
   "source": [
    "Check feasibility. Expected output: False."
   ]
  },
  {
   "cell_type": "code",
   "execution_count": null,
   "id": "1036fcc5",
   "metadata": {},
   "outputs": [],
   "source": [
    "print(\n",
    "    is_direction_feasible_standard(\n",
    "        standard_matrix=standard_a,\n",
    "        vector_x=standard_x_b,\n",
    "        direction=standard_direction_b,\n",
    "    )\n",
    ")\n"
   ]
  },
  {
   "cell_type": "markdown",
   "id": "036b30fd",
   "metadata": {},
   "source": [
    "Plot the polyhedron"
   ]
  },
  {
   "cell_type": "code",
   "execution_count": null,
   "id": "2f2cfed0",
   "metadata": {},
   "outputs": [],
   "source": [
    "draw_polyhedron_canonical_form(\n",
    "    matrix_a=canonical_a,\n",
    "    vector_b=canonical_b,\n",
    "    directions=[\n",
    "        LabeledDirection(start=canonical_x_b, direction=canonical_d_b, label='d_b')\n",
    "    ],\n",
    ")\n"
   ]
  },
  {
   "cell_type": "markdown",
   "id": "dc774f8e",
   "metadata": {},
   "source": [
    "# Question 3"
   ]
  },
  {
   "cell_type": "markdown",
   "id": "ef07ea69",
   "metadata": {},
   "source": [
    "$\\tilde{x}_c = \\left(\\begin{array}{r} 2 \\\\ 2 \\end{array}\\right)$,\n",
    "$\\tilde{d}_c = \\left(\\begin{array}{r} 0 \\\\ 2 \\end{array}\\right);$"
   ]
  },
  {
   "cell_type": "code",
   "execution_count": null,
   "id": "16c013c8",
   "metadata": {},
   "outputs": [],
   "source": [
    "\n",
    "canonical_x_c = np.array([2, 2])\n",
    "canonical_d_c = np.array([0, 2])\n"
   ]
  },
  {
   "cell_type": "code",
   "execution_count": null,
   "id": "5e0fe1fb",
   "metadata": {},
   "outputs": [],
   "source": [
    "\n",
    "standard_x_c = np.array(????)\n",
    "standard_direction_c = np.array(????)\n",
    "\n",
    "\n"
   ]
  },
  {
   "cell_type": "markdown",
   "id": "648f8ce8",
   "metadata": {},
   "source": [
    "Check feasibility. Expected output: False."
   ]
  },
  {
   "cell_type": "code",
   "execution_count": null,
   "id": "5f26e116",
   "metadata": {},
   "outputs": [],
   "source": [
    "print(\n",
    "    is_direction_feasible_standard(\n",
    "        standard_matrix=standard_a,\n",
    "        vector_x=standard_x_c,\n",
    "        direction=standard_direction_c,\n",
    "    )\n",
    ")\n"
   ]
  },
  {
   "cell_type": "markdown",
   "id": "32364766",
   "metadata": {},
   "source": [
    "Plot the polyhedron"
   ]
  },
  {
   "cell_type": "code",
   "execution_count": null,
   "id": "1907d9e0",
   "metadata": {},
   "outputs": [],
   "source": [
    "draw_polyhedron_canonical_form(\n",
    "    matrix_a=canonical_a,\n",
    "    vector_b=canonical_b,\n",
    "    directions=[\n",
    "        LabeledDirection(start=canonical_x_c, direction=canonical_d_c, label='d_c')\n",
    "    ],\n",
    ")\n",
    "\n"
   ]
  },
  {
   "cell_type": "markdown",
   "id": "403357cd",
   "metadata": {},
   "source": [
    "# Question 4\n",
    "$\\tilde{x}_d = \\left(\\begin{array}{r} 3 \\\\ 0 \\end{array}\\right)$,\n",
    "$\\tilde{d}_d = \\left(\\begin{array}{r} 0 \\\\ 2 \\end{array}\\right).$"
   ]
  },
  {
   "cell_type": "code",
   "execution_count": null,
   "id": "4f1da751",
   "metadata": {},
   "outputs": [],
   "source": [
    "\n",
    "canonical_x_d = np.array([3, 0])\n",
    "canonical_d_d = np.array([0, 2])\n"
   ]
  },
  {
   "cell_type": "code",
   "execution_count": null,
   "id": "927538a1",
   "metadata": {},
   "outputs": [],
   "source": [
    "\n",
    "standard_x_d = np.array(????)\n",
    "standard_direction_d = np.array(????)\n",
    "\n",
    "\n"
   ]
  },
  {
   "cell_type": "markdown",
   "id": "2fe7ffeb",
   "metadata": {},
   "source": [
    "Check feasibility. Expected output: True."
   ]
  },
  {
   "cell_type": "code",
   "execution_count": null,
   "id": "59641dfe",
   "metadata": {},
   "outputs": [],
   "source": [
    "print(\n",
    "    is_direction_feasible_standard(\n",
    "        standard_matrix=standard_a,\n",
    "        vector_x=standard_x_d,\n",
    "        direction=standard_direction_d,\n",
    "    )\n",
    ")\n"
   ]
  },
  {
   "cell_type": "markdown",
   "id": "73356f73",
   "metadata": {},
   "source": [
    "Plot the polyhedron"
   ]
  },
  {
   "cell_type": "code",
   "execution_count": null,
   "id": "4fa6fcde",
   "metadata": {},
   "outputs": [],
   "source": [
    "draw_polyhedron_canonical_form(\n",
    "    matrix_a=canonical_a,\n",
    "    vector_b=canonical_b,\n",
    "    directions=[\n",
    "        LabeledDirection(start=canonical_x_d, direction=canonical_d_d, label='d_d')\n",
    "    ],\n",
    ")"
   ]
  }
 ],
 "metadata": {},
 "nbformat": 4,
 "nbformat_minor": 5
}

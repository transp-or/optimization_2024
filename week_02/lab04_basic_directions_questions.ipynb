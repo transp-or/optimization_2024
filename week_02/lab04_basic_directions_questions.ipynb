{
 "cells": [
  {
   "cell_type": "markdown",
   "id": "05948d37",
   "metadata": {},
   "source": [
    "# Basic directions\n",
    "\n",
    "## Introduction to optimization and operations research\n",
    "\n",
    "Michel Bierlaire\n"
   ]
  },
  {
   "cell_type": "code",
   "execution_count": null,
   "id": "e15d291a",
   "metadata": {},
   "outputs": [],
   "source": [
    "\n",
    "import numpy as np\n",
    "from teaching_optimization.linear_constraints import (\n",
    "    draw_polyhedron_standard_form,\n",
    "    StandardForm,\n",
    "    LabeledDirection,\n",
    ")\n"
   ]
  },
  {
   "cell_type": "markdown",
   "id": "98c4b4ef",
   "metadata": {},
   "source": [
    "The objective of this exercise is to calculate the basic direction corresponding to a non-basic variable.\n",
    "\n",
    "We will implement the following functions:\n",
    "\n",
    "- a function that calculates the basic part of the direction by solving the system $B d_B = -A_i$,\n",
    "- a function that builds the direction in the full space,\n",
    "- a function that calls all the previous ones to obtain a basic direction.\n",
    "\n",
    "We will apply it to identify the vertices of the following polyhedrons.\n",
    "\n",
    "## Polyhedron 1\n",
    "$$P = \\left\\{\n",
    "\\begin{pmatrix}\n",
    "x_1\\\\\n",
    "x_2\n",
    "\\end{pmatrix} \\in \\mathbb{R}^2\n",
    "| x_1+x_2  \\geq 1,\n",
    "x_1+x_2  \\leq 2,\n",
    "x_1  \\geq 0,\n",
    "x_2  \\geq 0. \\right\\}.$$"
   ]
  },
  {
   "cell_type": "markdown",
   "id": "b6813cfb",
   "metadata": {},
   "source": [
    "## Polyhedron 2\n",
    "$$ P = \\left\\{\n",
    "\\begin{pmatrix}\n",
    "x_1\\\\\n",
    "x_2\n",
    "\\end{pmatrix} \\in \\mathbb{R}^2\n",
    "| x_1+x_2 \\leq 1,\n",
    "-x_1+2x_2 \\leq 2, x_1 \\geq 0, x_2 \\geq 0 \\right\\}.$$"
   ]
  },
  {
   "cell_type": "markdown",
   "id": "775966d5",
   "metadata": {},
   "source": [
    "Prepare first polyhedron 1 so that we can use it for testing each function. It must first be written in standard form."
   ]
  },
  {
   "cell_type": "markdown",
   "id": "aaca5a0e",
   "metadata": {},
   "source": [
    "Provide the values of the matrix of the problem in standard form."
   ]
  },
  {
   "cell_type": "code",
   "execution_count": null,
   "id": "b088150e",
   "metadata": {},
   "outputs": [],
   "source": [
    "standard_a = ????\n",
    "print(standard_a)\n"
   ]
  },
  {
   "cell_type": "code",
   "execution_count": null,
   "id": "223048bf",
   "metadata": {},
   "outputs": [],
   "source": [
    "n_constraints, n_variables = standard_a.shape\n",
    "print(f'{n_variables} variables, {n_constraints} constraints.')\n"
   ]
  },
  {
   "cell_type": "markdown",
   "id": "442cb6c8",
   "metadata": {},
   "source": [
    "Provide the values of the right-hand side of the problem in standard form."
   ]
  },
  {
   "cell_type": "code",
   "execution_count": null,
   "id": "05bc5dfb",
   "metadata": {},
   "outputs": [],
   "source": [
    "standard_b = ????\n",
    "print(standard_b)\n"
   ]
  },
  {
   "cell_type": "markdown",
   "id": "de0b12d5",
   "metadata": {},
   "source": [
    "We select a feasible basic solution. We create the `StandardForm` object to have easy access to the feasible\n",
    "basic solution."
   ]
  },
  {
   "cell_type": "code",
   "execution_count": null,
   "id": "b2d3dfe6",
   "metadata": {},
   "outputs": [],
   "source": [
    "the_basic_indices = [1, 2]\n",
    "the_standard_form = StandardForm(matrix=standard_a, vector=standard_b)\n",
    "the_standard_form.basic_indices = the_basic_indices\n"
   ]
  },
  {
   "cell_type": "markdown",
   "id": "d4e29e86",
   "metadata": {},
   "source": [
    "Draw the polyhedron."
   ]
  },
  {
   "cell_type": "code",
   "execution_count": null,
   "id": "17cf2dcf",
   "metadata": {},
   "outputs": [],
   "source": [
    "draw_polyhedron_standard_form(matrix_a=standard_a, vector_b=standard_b)\n"
   ]
  },
  {
   "cell_type": "markdown",
   "id": "147cc9ec",
   "metadata": {},
   "source": [
    "## Function that calculates the basic part of the direction by solving the system $B d_B = -A_i$.\n",
    "Complete it by replacing the ????."
   ]
  },
  {
   "cell_type": "code",
   "execution_count": null,
   "id": "38870483",
   "metadata": {},
   "outputs": [],
   "source": [
    "\n",
    "\n",
    "def basic_part_basic_direction(\n",
    "    constraint_matrix: np.ndarray, basic_indices: list[int], non_basic_index: int\n",
    ") -> np.ndarray | None:\n",
    "    \"\"\"\n",
    "    Function that calculates the basic part of the direction\n",
    "    :param constraint_matrix: A numpy ndarray representing the constraint matrix.\n",
    "    :param basic_indices: A list of integers representing the column indices to form the basis.\n",
    "    :param non_basic_index: index of the non-basic variable associated with the basic direction.\n",
    "    :return:\n",
    "    \"\"\"\n",
    "    n_rows, n_columns = constraint_matrix.shape\n",
    "    # Verify that the number of indices matches the number of rows in the matrix.\n",
    "    if len(basic_indices) != n_rows:\n",
    "        raise ValueError(\n",
    "            f'The number of basic indices [{len(basic_indices)}] must match the number of '\n",
    "            f'rows in the matrix [{n_rows}].'\n",
    "        )\n",
    "\n",
    "    # Verify each index is a valid column index of the matrix.\n",
    "    max_index = n_columns - 1\n",
    "    if not all(0 <= index <= max_index for index in basic_indices + [non_basic_index]):\n",
    "        raise ValueError(\n",
    "            'One or more indices are out of the valid column index range of the matrix.'\n",
    "        )\n",
    "\n",
    "    # Verify that the non-basic index is not in the basic list.\n",
    "    if non_basic_index in basic_indices:\n",
    "        raise ValueError(\n",
    "            f'Non basic index {non_basic_index} also appears in the list of basic indices.'\n",
    "        )\n",
    "\n",
    "    # Extract the columns corresponding to the basic indices, in the provided order.\n",
    "    basic_matrix = ????\n",
    "\n",
    "    # Extract the column corresponding to the non-basic variable\n",
    "    non_basic_column = ????\n",
    "\n",
    "\n",
    "\n",
    "    # Solve the linear system and return the solution, if it exists.\n",
    "    ????\n",
    "\n",
    "\n",
    "\n",
    "\n",
    "\n",
    "\n"
   ]
  },
  {
   "cell_type": "markdown",
   "id": "7174f15a",
   "metadata": {},
   "source": [
    "Test the function.  Expected result: $$\\left(\\begin{array}{c}-1 \\\\ 0  \\end{array}\\right).$$"
   ]
  },
  {
   "cell_type": "code",
   "execution_count": null,
   "id": "a0f2e444",
   "metadata": {},
   "outputs": [],
   "source": [
    "non_basic_index_1 = 0\n",
    "basic_part_1 = basic_part_basic_direction(\n",
    "    constraint_matrix=standard_a,\n",
    "    basic_indices=the_basic_indices,\n",
    "    non_basic_index=non_basic_index_1,\n",
    ")\n",
    "print(f'Basic part of d_{non_basic_index_1} = {basic_part_1}.')\n"
   ]
  },
  {
   "cell_type": "markdown",
   "id": "8914b189",
   "metadata": {},
   "source": [
    "Test again the function.  Expected result: $$\\left(\\begin{array}{c}-1 \\\\ -1  \\end{array}\\right).$$"
   ]
  },
  {
   "cell_type": "code",
   "execution_count": null,
   "id": "7a80101b",
   "metadata": {},
   "outputs": [],
   "source": [
    "non_basic_index_2 = 3\n",
    "basic_part_2 = basic_part_basic_direction(\n",
    "    constraint_matrix=standard_a,\n",
    "    basic_indices=the_basic_indices,\n",
    "    non_basic_index=non_basic_index_2,\n",
    ")\n",
    "print(f'Basic part of d_{non_basic_index_2} = {basic_part_2}.')\n",
    "\n"
   ]
  },
  {
   "cell_type": "markdown",
   "id": "844c7821",
   "metadata": {},
   "source": [
    "## Function that builds the direction in the full space,\n",
    "In a space of dimension $n$, we have a vector $d_B$ of dimension $m \\leq n$, identified\n",
    "by their indices. This function builds the vector in dimension $n$ where all non-basic entries are zero,\n",
    "except one which is one.\n",
    "Complete it by replacing the ????."
   ]
  },
  {
   "cell_type": "code",
   "execution_count": null,
   "id": "44f099f8",
   "metadata": {},
   "outputs": [],
   "source": [
    "def build_basic_direction(\n",
    "    number_of_variables: int,\n",
    "    basic_part: np.ndarray,\n",
    "    basic_indices: list[int],\n",
    "    non_basic_index: int,\n",
    ") -> np.ndarray:\n",
    "    \"\"\"\n",
    "    Builds the vector in dimension n where all non-basic entries are zero, except one.\n",
    "\n",
    "    :param number_of_variables: dimension n.\n",
    "    :param basic_part: vector with the basic part of the direction.\n",
    "    :param basic_indices: indices of basic variables in the space of dimension n.\n",
    "    :param non_basic_index: index of the non-basic variable.\n",
    "    :return: complete basic direction.\n",
    "    \"\"\"\n",
    "    # Check that the number of basic variables is less or equal to n\n",
    "    if len(basic_part) > number_of_variables:\n",
    "        raise ValueError(\n",
    "            f'The number of basic variables [{len(basic_part)}] must be less than or equal '\n",
    "            f'to the dimension [{number_of_variables}].'\n",
    "        )\n",
    "\n",
    "    # Check that the two vectors have the same dimension\n",
    "    if len(basic_part) != len(basic_indices):\n",
    "        raise ValueError(\n",
    "            f'The dimensions of the basic variables [{len(basic_part)}] and their '\n",
    "            f'indices [{len(basic_indices)}] must match.'\n",
    "        )\n",
    "\n",
    "    # Check that all indices are valid\n",
    "    if not all(\n",
    "        0 <= index < number_of_variables for index in basic_indices + [non_basic_index]\n",
    "    ):\n",
    "        raise ValueError('All indices must be valid, that is between 0 and n-1.')\n",
    "\n",
    "\n",
    "    complete_solution = ????\n",
    "\n",
    "\n",
    "\n",
    "\n",
    "\n",
    "\n",
    "\n",
    "    return complete_solution\n",
    "\n"
   ]
  },
  {
   "cell_type": "markdown",
   "id": "c7844e42",
   "metadata": {},
   "source": [
    "Test the function.  Expected result: $$\\left(\\begin{array}{c}1 \\\\ -1 \\\\ 0\\\\ 0  \\end{array}\\right).$$"
   ]
  },
  {
   "cell_type": "code",
   "execution_count": null,
   "id": "75217505",
   "metadata": {},
   "outputs": [],
   "source": [
    "full_direction_1 = build_basic_direction(\n",
    "    number_of_variables=n_variables,\n",
    "    basic_part=basic_part_1,\n",
    "    basic_indices=the_basic_indices,\n",
    "    non_basic_index=non_basic_index_1,\n",
    ")\n",
    "print(f'Basic direction d_{non_basic_index_1} = {full_direction_1}.')\n"
   ]
  },
  {
   "cell_type": "markdown",
   "id": "dde2828f",
   "metadata": {},
   "source": [
    "We draw the polyhedron and the direction."
   ]
  },
  {
   "cell_type": "code",
   "execution_count": null,
   "id": "b9cb315b",
   "metadata": {},
   "outputs": [],
   "source": [
    "draw_polyhedron_standard_form(\n",
    "    matrix_a=standard_a,\n",
    "    vector_b=standard_b,\n",
    "    directions=[\n",
    "        LabeledDirection(\n",
    "            start=the_standard_form.basic_solution,\n",
    "            direction=full_direction_1,\n",
    "            width=0.05,\n",
    "        )\n",
    "    ],\n",
    ")\n"
   ]
  },
  {
   "cell_type": "markdown",
   "id": "a58367b8",
   "metadata": {},
   "source": [
    "Test again the function.  Expected result: $$\\left(\\begin{array}{c}0 \\\\ -1 \\\\ -1\\\\ 1  \\end{array}\\right).$$"
   ]
  },
  {
   "cell_type": "code",
   "execution_count": null,
   "id": "b5fce37e",
   "metadata": {},
   "outputs": [],
   "source": [
    "full_direction_2 = build_basic_direction(\n",
    "    number_of_variables=n_variables,\n",
    "    basic_part=basic_part_2,\n",
    "    basic_indices=the_basic_indices,\n",
    "    non_basic_index=non_basic_index_2,\n",
    ")\n",
    "print(f'Basic direction d_{non_basic_index_2} = {full_direction_2}.')\n"
   ]
  },
  {
   "cell_type": "markdown",
   "id": "cd372899",
   "metadata": {},
   "source": [
    "We draw the polyhedron and the direction."
   ]
  },
  {
   "cell_type": "code",
   "execution_count": null,
   "id": "6c74e942",
   "metadata": {},
   "outputs": [],
   "source": [
    "\n",
    "draw_polyhedron_standard_form(\n",
    "    matrix_a=standard_a,\n",
    "    vector_b=standard_b,\n",
    "    directions=[\n",
    "        LabeledDirection(\n",
    "            start=the_standard_form.basic_solution,\n",
    "            direction=full_direction_2,\n",
    "            width=0.05,\n",
    "        )\n",
    "    ],\n",
    ")\n",
    "\n"
   ]
  },
  {
   "cell_type": "markdown",
   "id": "fffbf050",
   "metadata": {},
   "source": [
    "## Function that calls all the previous ones to obtain a basic direction.\n",
    "Nothing needs to be done.The implementation is complete."
   ]
  },
  {
   "cell_type": "code",
   "execution_count": null,
   "id": "e15e610a",
   "metadata": {},
   "outputs": [],
   "source": [
    "def basic_direction(\n",
    "    constraint_matrix: np.ndarray, basic_indices: list[int], non_basic_index: int\n",
    ") -> np.ndarray | None:\n",
    "    \"\"\"\n",
    "\n",
    "    :param constraint_matrix: A numpy ndarray representing the constraint matrix.\n",
    "    :param basic_indices: A list of integers representing the column indices to form the basis.\n",
    "    :param non_basic_index: index of the non-basic variable.\n",
    "    :return: the basic direction.\n",
    "    \"\"\"\n",
    "    n_constraints, n_variables = constraint_matrix.shape\n",
    "    basic_part = basic_part_basic_direction(\n",
    "        constraint_matrix=constraint_matrix,\n",
    "        basic_indices=basic_indices,\n",
    "        non_basic_index=non_basic_index,\n",
    "    )\n",
    "    if basic_part is None:\n",
    "        print('Impossible to calculate the basic direction. Basic matrix is singular')\n",
    "        return None\n",
    "\n",
    "    full_direction = build_basic_direction(\n",
    "        number_of_variables=n_variables,\n",
    "        basic_part=basic_part,\n",
    "        basic_indices=basic_indices,\n",
    "        non_basic_index=non_basic_index,\n",
    "    )\n",
    "    return full_direction\n",
    "\n"
   ]
  },
  {
   "cell_type": "markdown",
   "id": "8fe9d3d5",
   "metadata": {},
   "source": [
    "We test it on the same polyhedron, with a different basis."
   ]
  },
  {
   "cell_type": "code",
   "execution_count": null,
   "id": "a6764729",
   "metadata": {},
   "outputs": [],
   "source": [
    "the_basic_indices = [1, 3]\n",
    "the_standard_form.basic_indices = the_basic_indices\n"
   ]
  },
  {
   "cell_type": "markdown",
   "id": "ee86b02c",
   "metadata": {},
   "source": [
    "We select the non basic variable."
   ]
  },
  {
   "cell_type": "code",
   "execution_count": null,
   "id": "132bcc38",
   "metadata": {},
   "outputs": [],
   "source": [
    "non_basic_index_1 = 0\n",
    "full_direction_1 = basic_direction(\n",
    "    constraint_matrix=standard_a,\n",
    "    basic_indices=the_basic_indices,\n",
    "    non_basic_index=non_basic_index_1,\n",
    ")\n",
    "print(full_direction_1)\n"
   ]
  },
  {
   "cell_type": "markdown",
   "id": "e8f74822",
   "metadata": {},
   "source": [
    "We draw the polyhedron and the direction."
   ]
  },
  {
   "cell_type": "code",
   "execution_count": null,
   "id": "c8a17d47",
   "metadata": {},
   "outputs": [],
   "source": [
    "\n",
    "draw_polyhedron_standard_form(\n",
    "    matrix_a=standard_a,\n",
    "    vector_b=standard_b,\n",
    "    directions=[\n",
    "        LabeledDirection(\n",
    "            start=the_standard_form.basic_solution,\n",
    "            direction=full_direction_1,\n",
    "            width=0.05,\n",
    "        )\n",
    "    ],\n",
    ")\n"
   ]
  },
  {
   "cell_type": "markdown",
   "id": "391b9726",
   "metadata": {},
   "source": [
    "We select another non basic variable."
   ]
  },
  {
   "cell_type": "code",
   "execution_count": null,
   "id": "e2fb9d31",
   "metadata": {},
   "outputs": [],
   "source": [
    "non_basic_index_2 = 2\n",
    "full_direction_2 = basic_direction(\n",
    "    constraint_matrix=standard_a,\n",
    "    basic_indices=the_basic_indices,\n",
    "    non_basic_index=non_basic_index_2,\n",
    ")\n",
    "print(full_direction_2)\n"
   ]
  },
  {
   "cell_type": "markdown",
   "id": "9a36f58b",
   "metadata": {},
   "source": [
    "We draw the polyhedron and the direction."
   ]
  },
  {
   "cell_type": "code",
   "execution_count": null,
   "id": "1881d83e",
   "metadata": {},
   "outputs": [],
   "source": [
    "\n",
    "draw_polyhedron_standard_form(\n",
    "    matrix_a=standard_a,\n",
    "    vector_b=standard_b,\n",
    "    directions=[\n",
    "        LabeledDirection(\n",
    "            start=the_standard_form.basic_solution,\n",
    "            direction=full_direction_2,\n",
    "            width=0.05,\n",
    "        )\n",
    "    ],\n",
    ")\n"
   ]
  },
  {
   "cell_type": "markdown",
   "id": "ea7182bb",
   "metadata": {},
   "source": [
    "## Polyhedron 2\n",
    "We now investigate the second polyhedron.\n",
    "$$ P = \\left\\{\n",
    "\\begin{pmatrix}\n",
    "x_1\\\\\n",
    "x_2\n",
    "\\end{pmatrix} \\in \\mathbb{R}^2\n",
    "| x_1+x_2 \\leq 1,\n",
    "-x_1+2x_2 \\leq 2, x_1 \\geq 0, x_2 \\geq 0 \\right\\}.$$"
   ]
  },
  {
   "cell_type": "markdown",
   "id": "9b3da607",
   "metadata": {},
   "source": [
    "Data in standard form."
   ]
  },
  {
   "cell_type": "code",
   "execution_count": null,
   "id": "08e31d15",
   "metadata": {},
   "outputs": [],
   "source": [
    "standard_a = ????\n",
    "standard_b = ????\n"
   ]
  },
  {
   "cell_type": "code",
   "execution_count": null,
   "id": "8e894861",
   "metadata": {},
   "outputs": [],
   "source": [
    "n_constraints, n_variables = standard_a.shape\n",
    "print(f'{n_variables} variables, {n_constraints} constraints.')\n"
   ]
  },
  {
   "cell_type": "markdown",
   "id": "5f0d71d9",
   "metadata": {},
   "source": [
    "Draw the polyhedron."
   ]
  },
  {
   "cell_type": "code",
   "execution_count": null,
   "id": "768d200e",
   "metadata": {},
   "outputs": [],
   "source": [
    "draw_polyhedron_standard_form(matrix_a=standard_a, vector_b=standard_b)\n"
   ]
  },
  {
   "cell_type": "markdown",
   "id": "8ed8eb66",
   "metadata": {},
   "source": [
    "We select a basis."
   ]
  },
  {
   "cell_type": "code",
   "execution_count": null,
   "id": "d81f429b",
   "metadata": {},
   "outputs": [],
   "source": [
    "the_basic_indices = [0, 1]\n",
    "the_standard_form = StandardForm(matrix=standard_a, vector=standard_b)\n",
    "the_standard_form.basic_indices = the_basic_indices\n"
   ]
  },
  {
   "cell_type": "markdown",
   "id": "dd69eb7e",
   "metadata": {},
   "source": [
    "Calculate the basic direction corresponding to non basic variable 2."
   ]
  },
  {
   "cell_type": "code",
   "execution_count": null,
   "id": "cb606509",
   "metadata": {},
   "outputs": [],
   "source": [
    "non_basic_index_2 = 2\n",
    "basic_direction_2 = basic_direction(\n",
    "    constraint_matrix=standard_a,\n",
    "    basic_indices=the_basic_indices,\n",
    "    non_basic_index=non_basic_index_2,\n",
    ")\n"
   ]
  },
  {
   "cell_type": "code",
   "execution_count": null,
   "id": "071f352b",
   "metadata": {},
   "outputs": [],
   "source": [
    "print(f'Feasible basic solution: {the_standard_form.basic_solution}')\n",
    "print(f'Basic direction:         {basic_direction_2}')\n"
   ]
  },
  {
   "cell_type": "markdown",
   "id": "09f7bcaa",
   "metadata": {},
   "source": [
    "If we move along the direction with a step $\\alpha$, we obtain the point"
   ]
  },
  {
   "cell_type": "code",
   "execution_count": null,
   "id": "4c4eacf5",
   "metadata": {},
   "outputs": [],
   "source": [
    "new_point = [\n",
    "    f'{x:.3g} + {d:.3g} alpha'\n",
    "    for x, d in zip(the_standard_form.basic_solution, basic_direction_2)\n",
    "]\n",
    "print(f'New point = [{\", \".join(new_point)}]')\n"
   ]
  },
  {
   "cell_type": "markdown",
   "id": "be865a1e",
   "metadata": {},
   "source": [
    "Note that, for any positive value of $\\alpha$, the first coordinate is negative, and the point is infeasible.\n",
    "Therefore, the basic direction is infeasible.\n",
    "If we draw the polyhedron. We observe that the basic direction is indeed infeasible. It may happen\n",
    "if the basic solution is degenerate, like in this example."
   ]
  },
  {
   "cell_type": "code",
   "execution_count": null,
   "id": "e546c75c",
   "metadata": {},
   "outputs": [],
   "source": [
    "draw_polyhedron_standard_form(\n",
    "    matrix_a=standard_a,\n",
    "    vector_b=standard_b,\n",
    "    directions=[\n",
    "        LabeledDirection(\n",
    "            start=the_standard_form.basic_solution,\n",
    "            direction=basic_direction_2,\n",
    "            width=0.05,\n",
    "        )\n",
    "    ],\n",
    ")\n"
   ]
  },
  {
   "cell_type": "markdown",
   "id": "2a42c917",
   "metadata": {},
   "source": [
    "Calculate the basic direction corresponding to non basic variable 3."
   ]
  },
  {
   "cell_type": "code",
   "execution_count": null,
   "id": "fe769461",
   "metadata": {},
   "outputs": [],
   "source": [
    "non_basic_index_3 = 3\n",
    "basic_direction_3 = basic_direction(\n",
    "    constraint_matrix=standard_a,\n",
    "    basic_indices=the_basic_indices,\n",
    "    non_basic_index=non_basic_index_3,\n",
    ")\n"
   ]
  },
  {
   "cell_type": "code",
   "execution_count": null,
   "id": "0173c387",
   "metadata": {},
   "outputs": [],
   "source": [
    "print(f'Feasible basic solution: {the_standard_form.basic_solution}')\n",
    "print(f'Basic direction:         {basic_direction_3}')\n"
   ]
  },
  {
   "cell_type": "markdown",
   "id": "bea1df9f",
   "metadata": {},
   "source": [
    "If we move along the direction with a step $\\alpha$, we obtain the point"
   ]
  },
  {
   "cell_type": "code",
   "execution_count": null,
   "id": "44f5b208",
   "metadata": {},
   "outputs": [],
   "source": [
    "new_point = [\n",
    "    f'{x:.3g} + {d:.3g} alpha'\n",
    "    for x, d in zip(the_standard_form.basic_solution, basic_direction_3)\n",
    "]\n",
    "print(f'New point = [{\", \".join(new_point)}]')\n"
   ]
  },
  {
   "cell_type": "markdown",
   "id": "fbbbe769",
   "metadata": {},
   "source": [
    "Draw the polyhedron. We observe that this basic direction is feasible."
   ]
  },
  {
   "cell_type": "code",
   "execution_count": null,
   "id": "e7ac381c",
   "metadata": {},
   "outputs": [],
   "source": [
    "draw_polyhedron_standard_form(\n",
    "    matrix_a=standard_a,\n",
    "    vector_b=standard_b,\n",
    "    directions=[\n",
    "        LabeledDirection(\n",
    "            start=the_standard_form.basic_solution,\n",
    "            direction=basic_direction_3,\n",
    "            width=0.05,\n",
    "        )\n",
    "    ],\n",
    ")\n"
   ]
  }
 ],
 "metadata": {},
 "nbformat": 4,
 "nbformat_minor": 5
}

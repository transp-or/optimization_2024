{
 "cells": [
  {
   "cell_type": "markdown",
   "id": "be7df219",
   "metadata": {},
   "source": [
    "# Basic solutions\n",
    "\n",
    "## Introduction to optimization and operations research\n",
    "\n",
    "Michel Bierlaire\n"
   ]
  },
  {
   "cell_type": "code",
   "execution_count": null,
   "id": "d2186448",
   "metadata": {},
   "outputs": [],
   "source": [
    "\n",
    "from itertools import combinations\n",
    "from typing import Iterable\n",
    "\n",
    "import numpy as np\n",
    "from teaching_optimization.linear_constraints import (\n",
    "    draw_polyhedron_standard_form,\n",
    "    LabeledPoint,\n",
    "    BoundingBox,\n",
    "    StandardForm,\n",
    ")\n"
   ]
  },
  {
   "cell_type": "markdown",
   "id": "7d1e96ee",
   "metadata": {},
   "source": [
    "The objective of this exercise is to associate the choice of basic and non basic variables with a vertex of\n",
    "the polyhedron. We will proceed step by step.\n",
    "\n",
    "We will implement the following functions:\n",
    "\n",
    "- a function that extracts and returns a basic matrix from the given constraint matrix,\n",
    "- a function that calculates the basic variables by solving the system $B x_B = b$,\n",
    "- a function that checks if the basic variables $x_B$ are feasible,\n",
    "- a function that builds the vector in the full space,\n",
    "- a function that calls all the previous ones to obtain a basic solution,\n",
    "- a function that checks if the basic solution is degenerate.\n",
    "\n",
    "We will apply it to identify the vertices of the following polyhedrons.\n",
    "\n",
    "## Polyhedron 1\n",
    "$$P = \\left\\{\n",
    "\\begin{pmatrix}\n",
    "x_1\\\\\n",
    "x_2\n",
    "\\end{pmatrix} \\in \\mathbb{R}^2\n",
    "| x_1+x_2  \\geq 1,\n",
    "x_1+x_2  \\leq 2,\n",
    "x_1  \\geq 0,\n",
    "x_2  \\geq 0. \\right\\}.$$"
   ]
  },
  {
   "cell_type": "markdown",
   "id": "49c4bc8f",
   "metadata": {},
   "source": [
    "## Polyhedron 2\n",
    "$$P = \\left\\{\n",
    "\\begin{pmatrix}\n",
    "x_1\\\\\n",
    "x_2\n",
    "\\end{pmatrix}\\in \\mathbb{R}^2\n",
    "| x_1 + x_2 \\leq 1, 3 x_1 + 10 x_2 \\leq 15, x_1 \\geq 0, x_2 \\geq 0 \\right\\}.$$"
   ]
  },
  {
   "cell_type": "markdown",
   "id": "b13dc80e",
   "metadata": {},
   "source": [
    "## Polyhedron 3\n",
    "$$ P = \\left\\{\n",
    "\\begin{pmatrix}\n",
    "x_1\\\\\n",
    "x_2\n",
    "\\end{pmatrix} \\in \\mathbb{R}^2\n",
    "| x_1+x_2 \\leq 1,\n",
    "-x_1+2x_2 \\leq 2, x_1 \\geq 0, x_2 \\geq 0 \\right\\}.$$"
   ]
  },
  {
   "cell_type": "markdown",
   "id": "f1beafb6",
   "metadata": {},
   "source": [
    "Prepare first polyhedron 1 so that we can use it for testing each function. It must first be written in standard form."
   ]
  },
  {
   "cell_type": "markdown",
   "id": "30525702",
   "metadata": {},
   "source": [
    "The polyhedron can be written in standard form by introducing non\n",
    "negative slack variables, and rewriting the constraints in the form of equality constraints:\n",
    "\n",
    "\\begin{align*}\n",
    "-x_1-x_2+x_3 & =-1,\\\\\n",
    "x_1+x_2+x_4 &=2,\\\\\n",
    "x_1,x_2,x_3,x_4 & \\geq 0.\n",
    "\\end{align*}\n",
    "\n",
    "The equality constraints in matrix form are\n",
    "$$\n",
    "Ax= b,\n",
    "\\text{ where }\n",
    "A \\in \\mathbb{R}^{2\\times 4},\\; b \\in \\mathbb{R}^2,\\; x \\in \\mathbb{R}^4,\n",
    "$$\n",
    "$$\n",
    "A =\n",
    "\\begin{pmatrix*}[r]\n",
    "-1&-1&1&0\\\\\n",
    "1&1&0&1\n",
    "\\end{pmatrix*},\\;\n",
    "b =\n",
    "\\begin{pmatrix*}[r]\n",
    "-1\\\\\n",
    "2\n",
    "\\end{pmatrix*}.\n",
    "$$"
   ]
  },
  {
   "cell_type": "markdown",
   "id": "768ab861",
   "metadata": {},
   "source": [
    "Provide the values of the matrix of the problem in standard form."
   ]
  },
  {
   "cell_type": "code",
   "execution_count": null,
   "id": "bc3541ef",
   "metadata": {},
   "outputs": [],
   "source": [
    "standard_a = np.array([[-1, -1, 1, 0], [1, 1, 0, 1]])\n",
    "print(standard_a)\n"
   ]
  },
  {
   "cell_type": "code",
   "execution_count": null,
   "id": "5db729f2",
   "metadata": {},
   "outputs": [],
   "source": [
    "n_constraints, n_variables = standard_a.shape\n",
    "print(f'{n_variables} variables, {n_constraints} constraints.')\n"
   ]
  },
  {
   "cell_type": "markdown",
   "id": "4c194d42",
   "metadata": {},
   "source": [
    "Provide the values of the right-hand side of the problem in standard form."
   ]
  },
  {
   "cell_type": "code",
   "execution_count": null,
   "id": "e7434828",
   "metadata": {},
   "outputs": [],
   "source": [
    "standard_b = np.array([-1, 2])\n",
    "print(standard_b)\n"
   ]
  },
  {
   "cell_type": "markdown",
   "id": "dda50f7e",
   "metadata": {},
   "source": [
    "Draw the polyhedron."
   ]
  },
  {
   "cell_type": "code",
   "execution_count": null,
   "id": "6e6aef7d",
   "metadata": {},
   "outputs": [],
   "source": [
    "draw_polyhedron_standard_form(matrix_a=standard_a, vector_b=standard_b)\n",
    "\n"
   ]
  },
  {
   "cell_type": "markdown",
   "id": "2aa58984",
   "metadata": {},
   "source": [
    "## Function that extracts and returns a basic matrix from the given constraint matrix\n",
    "Complete it by replacing the ????."
   ]
  },
  {
   "cell_type": "code",
   "execution_count": null,
   "id": "c02ad697",
   "metadata": {},
   "outputs": [],
   "source": [
    "def extract_basic_matrix(\n",
    "    constraint_matrix: np.ndarray, basic_indices: list[int]\n",
    ") -> np.ndarray:\n",
    "    \"\"\"\n",
    "    Extracts and returns a basic matrix from the given constraint matrix\n",
    "    using the specified basic indices.\n",
    "\n",
    "    :param constraint_matrix: A numpy ndarray representing the constraint matrix.\n",
    "    :param basic_indices: A list of integers representing the column indices to form the basis.\n",
    "    :return: A numpy ndarray representing the basic matrix.\n",
    "    \"\"\"\n",
    "    n_rows, n_columns = constraint_matrix.shape\n",
    "    # Verify that the number of indices matches the number of rows in the matrix.\n",
    "    if len(basic_indices) != n_rows:\n",
    "        raise ValueError(\n",
    "            f'The number of basic indices [{len(basic_indices)}] must match the number of '\n",
    "            f'rows in the matrix [{n_rows}].'\n",
    "        )\n",
    "\n",
    "    # Verify each index is a valid column index of the matrix.\n",
    "    max_index = n_columns - 1\n",
    "    if not all(0 <= index <= max_index for index in basic_indices):\n",
    "        raise ValueError(\n",
    "            'One or more indices are out of the valid column index range of the matrix.'\n",
    "        )\n",
    "\n",
    "    # Extract the columns corresponding to the indices, in the provided order.\n",
    "    basis = constraint_matrix[:, basic_indices]\n",
    "\n",
    "    # Return the resulting square matrix.\n",
    "    return basis\n",
    "\n"
   ]
  },
  {
   "cell_type": "markdown",
   "id": "8cf62e49",
   "metadata": {},
   "source": [
    "Test the function on the example. Remember that, in Python, the numbering starts at 0."
   ]
  },
  {
   "cell_type": "code",
   "execution_count": null,
   "id": "e1b8ac33",
   "metadata": {},
   "outputs": [],
   "source": [
    "print(standard_a)\n",
    "\n",
    "basic_indices_1 = [0, 1]"
   ]
  },
  {
   "cell_type": "markdown",
   "id": "dc269611",
   "metadata": {},
   "source": [
    "Expected result: $$\\begin{pmatrix} -1 & -1 \\\\ 1 & 1 \\end{pmatrix}.$$"
   ]
  },
  {
   "cell_type": "code",
   "execution_count": null,
   "id": "33f0e902",
   "metadata": {},
   "outputs": [],
   "source": [
    "\n",
    "basic_matrix_1 = extract_basic_matrix(\n",
    "    constraint_matrix=standard_a, basic_indices=basic_indices_1\n",
    ")\n",
    "print(basic_matrix_1)\n"
   ]
  },
  {
   "cell_type": "markdown",
   "id": "edafbade",
   "metadata": {},
   "source": [
    "Test the function with a different set of indices. Note the order..."
   ]
  },
  {
   "cell_type": "code",
   "execution_count": null,
   "id": "6135325e",
   "metadata": {},
   "outputs": [],
   "source": [
    "basic_indices_2 = [3, 2]"
   ]
  },
  {
   "cell_type": "markdown",
   "id": "d498169e",
   "metadata": {},
   "source": [
    "Expected result: $$\\begin{pmatrix} 0 & 1 \\\\ 1 & 0 \\end{pmatrix}.$$"
   ]
  },
  {
   "cell_type": "code",
   "execution_count": null,
   "id": "f3189054",
   "metadata": {},
   "outputs": [],
   "source": [
    "\n",
    "basic_matrix_2 = extract_basic_matrix(\n",
    "    constraint_matrix=standard_a, basic_indices=basic_indices_2\n",
    ")\n",
    "print(basic_matrix_2)\n",
    "\n"
   ]
  },
  {
   "cell_type": "markdown",
   "id": "3b354611",
   "metadata": {},
   "source": [
    "## Function that calculates the basic variables by solving the system $B x_B = b$.\n",
    "Complete it by replacing the ????."
   ]
  },
  {
   "cell_type": "code",
   "execution_count": null,
   "id": "e225ef20",
   "metadata": {},
   "outputs": [],
   "source": [
    "def calculate_basic_variables(\n",
    "    basic_matrix: np.ndarray, right_hand_side: np.ndarray\n",
    ") -> np.ndarray | None:\n",
    "    \"\"\"\n",
    "    Solves the system $B x_B = b$.\n",
    "\n",
    "    :param basic_matrix: matrix $B$.\n",
    "    :param right_hand_side: vector $b$.\n",
    "    :return: if the system has a solution, returns $x_B$. If not, returns None.\n",
    "    \"\"\"\n",
    "    # Check if the basic matrix is square\n",
    "    n_rows, n_columns = basic_matrix.shape\n",
    "    if n_rows != n_columns:\n",
    "        raise ValueError(\n",
    "            f'The basic matrix must be square, and not {n_rows} x {n_columns}.'\n",
    "        )\n",
    "\n",
    "    # Check if the length of the right-hand side matches the dimensions of the matrix\n",
    "    if n_rows != len(right_hand_side):\n",
    "        raise ValueError(\n",
    "            f'The length of the right-hand side [{len(right_hand_side)}] must match '\n",
    "            f'the dimensions of the matrix [{n_rows}].'\n",
    "        )\n",
    "\n",
    "    # Solve the system B x_B = b, if possible, using `np.linalg.solve`.\n",
    "\n",
    "    try:\n",
    "        basic_variables = np.linalg.solve(basic_matrix, right_hand_side)\n",
    "        return basic_variables\n",
    "    except np.linalg.LinAlgError:\n",
    "        # The system does not have a solution, as the matrix is not invertible.\n",
    "        return None\n",
    "\n"
   ]
  },
  {
   "cell_type": "markdown",
   "id": "9d92e8c7",
   "metadata": {},
   "source": [
    "Test the function. Expected result: None."
   ]
  },
  {
   "cell_type": "code",
   "execution_count": null,
   "id": "5d0b41f0",
   "metadata": {},
   "outputs": [],
   "source": [
    "basic_variables_1 = calculate_basic_variables(\n",
    "    basic_matrix=basic_matrix_1, right_hand_side=standard_b\n",
    ")\n",
    "print(basic_variables_1)\n"
   ]
  },
  {
   "cell_type": "markdown",
   "id": "f5d30ce4",
   "metadata": {},
   "source": [
    "The system indeed has no solution:"
   ]
  },
  {
   "cell_type": "code",
   "execution_count": null,
   "id": "8a075a63",
   "metadata": {},
   "outputs": [],
   "source": [
    "try:\n",
    "    basic_variables_1 = np.linalg.solve(basic_matrix_1, standard_b)\n",
    "except np.linalg.LinAlgError as error:\n",
    "    print(error)"
   ]
  },
  {
   "cell_type": "code",
   "execution_count": null,
   "id": "5024c944",
   "metadata": {},
   "outputs": [],
   "source": [
    "print(basic_matrix_1)\n"
   ]
  },
  {
   "cell_type": "markdown",
   "id": "77bffb05",
   "metadata": {},
   "source": [
    "Test again the function. Expected result: $$\\left(\\begin{array}{c}2 \\\\ -1 \\end{array}\\right).$$"
   ]
  },
  {
   "cell_type": "code",
   "execution_count": null,
   "id": "6fd57d54",
   "metadata": {},
   "outputs": [],
   "source": [
    "basic_variables_2 = calculate_basic_variables(\n",
    "    basic_matrix=basic_matrix_2, right_hand_side=standard_b\n",
    ")\n",
    "print(basic_variables_2)\n",
    "\n"
   ]
  },
  {
   "cell_type": "markdown",
   "id": "ccb23014",
   "metadata": {},
   "source": [
    "## Function that checks if the basic variables $x_B$ are feasible.\n",
    "Complete it by replacing the ????."
   ]
  },
  {
   "cell_type": "code",
   "execution_count": null,
   "id": "7735d417",
   "metadata": {},
   "outputs": [],
   "source": [
    "def check_feasibility(basic_variables: np.ndarray) -> bool:\n",
    "    \"\"\"\n",
    "    Check if the basic variables $x_B$ are feasible.\n",
    "\n",
    "    :param basic_variables: basic variables $x_B$.\n",
    "    :return: True if feasible. False otherwise,\n",
    "    \"\"\"\n",
    "    is_feasible: bool = np.all(basic_variables >= 0)\n",
    "    return is_feasible\n",
    "\n"
   ]
  },
  {
   "cell_type": "markdown",
   "id": "1d636400",
   "metadata": {},
   "source": [
    "Test the function. Expected result: False"
   ]
  },
  {
   "cell_type": "code",
   "execution_count": null,
   "id": "830f2a5e",
   "metadata": {},
   "outputs": [],
   "source": [
    "is_basis_2_feasible = check_feasibility(basic_variables=basic_variables_2)\n",
    "print(is_basis_2_feasible)\n",
    "\n"
   ]
  },
  {
   "cell_type": "markdown",
   "id": "342edf90",
   "metadata": {},
   "source": [
    "## Function that checks if the basic variables $x_B$ are degenerate.\n",
    "Complete it by replacing the ????."
   ]
  },
  {
   "cell_type": "code",
   "execution_count": null,
   "id": "620a5f85",
   "metadata": {},
   "outputs": [],
   "source": [
    "def check_degeneracy(basic_variables: np.ndarray) -> bool:\n",
    "    \"\"\"\n",
    "    Check if the basic variables $x_B$ are degenerate.\n",
    "\n",
    "    :param basic_variables: basic variables $x_B$.\n",
    "    :return: True if degenerate. False otherwise,\n",
    "    \"\"\"\n",
    "    is_degenerate: bool = np.any(\n",
    "        basic_variables == 0\n",
    "    )\n",
    "    return is_degenerate\n",
    "\n"
   ]
  },
  {
   "cell_type": "markdown",
   "id": "616282f0",
   "metadata": {},
   "source": [
    "Test the function. Expected result: False"
   ]
  },
  {
   "cell_type": "code",
   "execution_count": null,
   "id": "c73efa77",
   "metadata": {},
   "outputs": [],
   "source": [
    "is_basis_2_degenerate = check_degeneracy(basic_variables=basic_variables_2)\n",
    "print(is_basis_2_degenerate)\n",
    "\n"
   ]
  },
  {
   "cell_type": "markdown",
   "id": "d7e3fc7b",
   "metadata": {},
   "source": [
    "## Function that builds the vector in the full space.\n",
    "In a space of dimension $n$, we have a vector $x_B$ of basic variables of dimension $m \\leq n$, identified\n",
    "by their indices. This function builds the vector in dimension $n$ where all non basic variables are zero.\n",
    "Complete it by replacing the ????."
   ]
  },
  {
   "cell_type": "code",
   "execution_count": null,
   "id": "87e754e8",
   "metadata": {},
   "outputs": [],
   "source": [
    "def build_solution(\n",
    "    number_of_variables: int, basic_variables: np.ndarray, basic_indices: Iterable[int]\n",
    ") -> np.ndarray:\n",
    "    \"\"\"\n",
    "    Builds the vector in dimension n where all non basic variables are zero.\n",
    "\n",
    "    :param number_of_variables: dimension n.\n",
    "    :param basic_variables: vector of basic variables.\n",
    "    :param basic_indices: indices of basic variables in the space of dimension n.\n",
    "    :return: complete solution.\n",
    "    \"\"\"\n",
    "    # Check that the number of basic variables is less or equal to n\n",
    "    basic_indices = list(basic_indices)\n",
    "    if len(basic_variables) > number_of_variables:\n",
    "        raise ValueError(\n",
    "            f'The number of basic variables [{len(basic_variables)}] must be less than or equal '\n",
    "            f'to the dimension [{number_of_variables}].'\n",
    "        )\n",
    "\n",
    "    # Check that the two vectors have the same dimension\n",
    "    if len(basic_variables) != len(basic_indices):\n",
    "        raise ValueError(\n",
    "            f'The dimensions of the basic variables [{len(basic_variables)}] and their '\n",
    "            f'indices [{len(basic_indices)}] must match.'\n",
    "        )\n",
    "\n",
    "    # Check that all indices are valid\n",
    "    if not all(0 <= index < number_of_variables for index in basic_indices):\n",
    "        raise ValueError('All indices must be valid, that is between 0 and n-1.')\n",
    "\n",
    "    # Initialize the complete solution vector with zeros\n",
    "    complete_solution = np.zeros(number_of_variables)\n",
    "\n",
    "    # Assign the values of basic variables to their corresponding positions\n",
    "    complete_solution[basic_indices] = basic_variables\n",
    "\n",
    "    return complete_solution\n",
    "\n"
   ]
  },
  {
   "cell_type": "markdown",
   "id": "76d8b7f4",
   "metadata": {},
   "source": [
    "Test the function. Expected result: $$\\left(\\begin{array}{c}0 \\\\ 0  \\\\ -1 \\\\ 2 \\end{array}\\right).$$"
   ]
  },
  {
   "cell_type": "code",
   "execution_count": null,
   "id": "a0249fd8",
   "metadata": {},
   "outputs": [],
   "source": [
    "\n",
    "solution_2 = build_solution(\n",
    "    number_of_variables=n_variables,\n",
    "    basic_variables=basic_variables_2,\n",
    "    basic_indices=basic_indices_2,\n",
    ")\n",
    "print(solution_2)\n",
    "\n"
   ]
  },
  {
   "cell_type": "markdown",
   "id": "d6a6fd3f",
   "metadata": {},
   "source": [
    "## Function that calls all the previous ones to obtain a basic solution.\n",
    "Nothing to be completed."
   ]
  },
  {
   "cell_type": "code",
   "execution_count": null,
   "id": "9d9eb11e",
   "metadata": {},
   "outputs": [],
   "source": [
    "def calculate_basic_solution(\n",
    "    constraint_matrix: np.ndarray, right_hand_side: np.ndarray, basic_indices: list[int]\n",
    ") -> tuple[np.ndarray | None, bool, bool]:\n",
    "    \"\"\"\n",
    "    Consider a polyhedron in standard form characterized by the $m \\times n$ matrix $A$ and the vector $b$.\n",
    "    Given the list of indices of basic variables, calculate the basic solution in standard form, and check feasibility.\n",
    "\n",
    "    :param constraint_matrix: matrix $A$.\n",
    "    :param right_hand_side: vector $b$.\n",
    "    :param basic_indices: list of indices of basic variables.\n",
    "    :return: the basic vector (or None if it does not exist),  its feasibility status, and its degeneracy status.\n",
    "    \"\"\"\n",
    "    n_rows, n_columns = constraint_matrix.shape\n",
    "\n",
    "    # Check the matrix is m x n such that n >= m\n",
    "    if n_columns < n_rows:\n",
    "        raise ValueError(\n",
    "            f'Validation failed: The number of columns [{n_columns}] must be greater than or '\n",
    "            f'equal to the number of rows [{n_rows}].'\n",
    "        )\n",
    "\n",
    "    # Check the vector has m elements\n",
    "    if len(right_hand_side) != n_rows:\n",
    "        raise ValueError(\n",
    "            f'The rhs must have the same number of elements as there are rows in the '\n",
    "            f'matrix [{len(right_hand_side)} != {n_rows}].'\n",
    "        )\n",
    "\n",
    "    # Check the list of indices\n",
    "    if len(basic_indices) != n_rows:\n",
    "        raise ValueError(\n",
    "            f'The list of indices must be of the same length as there are rows in the '\n",
    "            f'matrix [{len(basic_indices)} != {n_rows}].'\n",
    "        )\n",
    "\n",
    "    # Check all indices are between 0 and n-1\n",
    "    if not all(0 <= index < n_columns for index in basic_indices):\n",
    "        raise ValueError(\n",
    "            f'Validation failed: All indices must be between 0 and {n_columns-1}.'\n",
    "        )\n",
    "\n",
    "    # Extract the basic matrix\n",
    "    the_basic_matrix: np.ndarray = extract_basic_matrix(\n",
    "        constraint_matrix=constraint_matrix, basic_indices=basic_indices\n",
    "    )\n",
    "\n",
    "    # Calculate the basic variables\n",
    "    the_basic_variables: np.ndarray | None = calculate_basic_variables(\n",
    "        basic_matrix=the_basic_matrix, right_hand_side=right_hand_side\n",
    "    )\n",
    "\n",
    "    # Check if the basic solution exists.\n",
    "    if the_basic_variables is None:\n",
    "        # The is no basic solution.\n",
    "        return None, False, False\n",
    "\n",
    "    feasibility: bool = check_feasibility(basic_variables=the_basic_variables)\n",
    "    degeneracy: bool = check_degeneracy(basic_variables=the_basic_variables)\n",
    "\n",
    "    the_basic_solution: np.ndarray = build_solution(\n",
    "        number_of_variables=n_columns,\n",
    "        basic_variables=the_basic_variables,\n",
    "        basic_indices=basic_indices,\n",
    "    )\n",
    "\n",
    "    return the_basic_solution, feasibility, degeneracy\n",
    "\n"
   ]
  },
  {
   "cell_type": "markdown",
   "id": "36748858",
   "metadata": {},
   "source": [
    "We test the function on all possible bases."
   ]
  },
  {
   "cell_type": "markdown",
   "id": "9e8c517a",
   "metadata": {},
   "source": [
    "We need to consider all combinations of basic variables."
   ]
  },
  {
   "cell_type": "code",
   "execution_count": null,
   "id": "07c3a0dd",
   "metadata": {},
   "outputs": [],
   "source": [
    "all_bases: list[int] = list(combinations(range(n_variables), n_constraints))\n",
    "print(f'There are {len(all_bases)} potential bases.')\n",
    "\n"
   ]
  },
  {
   "cell_type": "markdown",
   "id": "9003a5b1",
   "metadata": {},
   "source": [
    "To avoid repeating the code, we define a function that performs the analysis and the reporting for a given\n",
    "list of indices."
   ]
  },
  {
   "cell_type": "code",
   "execution_count": null,
   "id": "8f75ad8a",
   "metadata": {},
   "outputs": [],
   "source": [
    "def print_info(basic_indices: Iterable[int] | int) -> np.ndarray:\n",
    "    \"\"\"Print the information related to the list of indices.\n",
    "\n",
    "    :param basic_indices: list of basic indices.\n",
    "    :return: the basic solution\n",
    "    \"\"\"\n",
    "    basic_solution, feasible, degenerate = calculate_basic_solution(\n",
    "        constraint_matrix=standard_a,\n",
    "        right_hand_side=standard_b,\n",
    "        basic_indices=list(basic_indices),\n",
    "    )\n",
    "    print(f' *** Basic indices: {basic_indices}')\n",
    "    if basic_solution is None:\n",
    "        print('No basic solution')\n",
    "    else:\n",
    "        feasible_text = '[feasible]' if feasible else '[non feasible]'\n",
    "        degenerate_text = '[degenerate]' if degenerate else '[not degenerate]'\n",
    "        print(f'Basic solution: {basic_solution} {feasible_text} {degenerate_text}')\n",
    "    return basic_solution\n",
    "\n"
   ]
  },
  {
   "cell_type": "markdown",
   "id": "b209810b",
   "metadata": {},
   "source": [
    "## For each potential base below, verify that the outcome of the function is correct."
   ]
  },
  {
   "cell_type": "markdown",
   "id": "daaed51c",
   "metadata": {},
   "source": [
    "### Potential base number 0"
   ]
  },
  {
   "cell_type": "code",
   "execution_count": null,
   "id": "0da51201",
   "metadata": {},
   "outputs": [],
   "source": [
    "basic_indices_0 = all_bases[0]\n",
    "basic_solution_0 = print_info(basic_indices_0)\n"
   ]
  },
  {
   "cell_type": "markdown",
   "id": "cbdd1f62",
   "metadata": {},
   "source": [
    "Plot the vertex"
   ]
  },
  {
   "cell_type": "code",
   "execution_count": null,
   "id": "274265ce",
   "metadata": {},
   "outputs": [],
   "source": [
    "if basic_solution_0 is not None:\n",
    "    draw_polyhedron_standard_form(\n",
    "        matrix_a=standard_a,\n",
    "        vector_b=standard_b,\n",
    "        points=[LabeledPoint(coordinates=basic_solution_0)],\n",
    "    )\n"
   ]
  },
  {
   "cell_type": "markdown",
   "id": "4a30beb4",
   "metadata": {},
   "source": [
    "### Potential base number 1"
   ]
  },
  {
   "cell_type": "code",
   "execution_count": null,
   "id": "c7409fce",
   "metadata": {},
   "outputs": [],
   "source": [
    "basic_indices_1 = all_bases[1]\n",
    "basic_solution_1 = print_info(basic_indices_1)\n"
   ]
  },
  {
   "cell_type": "markdown",
   "id": "81c9d070",
   "metadata": {},
   "source": [
    "Plot the vertex"
   ]
  },
  {
   "cell_type": "code",
   "execution_count": null,
   "id": "8c9f9e70",
   "metadata": {},
   "outputs": [],
   "source": [
    "if basic_solution_1 is not None:\n",
    "    draw_polyhedron_standard_form(\n",
    "        matrix_a=standard_a,\n",
    "        vector_b=standard_b,\n",
    "        points=[LabeledPoint(coordinates=basic_solution_1)],\n",
    "    )\n"
   ]
  },
  {
   "cell_type": "markdown",
   "id": "d1eaf6c2",
   "metadata": {},
   "source": [
    "### Potential base number 2"
   ]
  },
  {
   "cell_type": "code",
   "execution_count": null,
   "id": "27958809",
   "metadata": {},
   "outputs": [],
   "source": [
    "basic_indices_2 = all_bases[2]\n",
    "basic_solution_2 = print_info(basic_indices_2)\n"
   ]
  },
  {
   "cell_type": "markdown",
   "id": "4bbd9809",
   "metadata": {},
   "source": [
    "Plot the vertex"
   ]
  },
  {
   "cell_type": "code",
   "execution_count": null,
   "id": "302d9754",
   "metadata": {},
   "outputs": [],
   "source": [
    "if basic_solution_2 is not None:\n",
    "    draw_polyhedron_standard_form(\n",
    "        matrix_a=standard_a,\n",
    "        vector_b=standard_b,\n",
    "        points=[LabeledPoint(coordinates=basic_solution_2)],\n",
    "    )"
   ]
  },
  {
   "cell_type": "markdown",
   "id": "9aa89138",
   "metadata": {},
   "source": [
    "### Potential base number 3"
   ]
  },
  {
   "cell_type": "code",
   "execution_count": null,
   "id": "d8c186d0",
   "metadata": {},
   "outputs": [],
   "source": [
    "basic_indices_3 = all_bases[3]\n",
    "basic_solution_3 = print_info(basic_indices_3)\n"
   ]
  },
  {
   "cell_type": "markdown",
   "id": "a8408b04",
   "metadata": {},
   "source": [
    "Plot the vertex"
   ]
  },
  {
   "cell_type": "code",
   "execution_count": null,
   "id": "10426a84",
   "metadata": {},
   "outputs": [],
   "source": [
    "if basic_solution_3 is not None:\n",
    "    draw_polyhedron_standard_form(\n",
    "        matrix_a=standard_a,\n",
    "        vector_b=standard_b,\n",
    "        points=[LabeledPoint(coordinates=basic_solution_3)],\n",
    "    )"
   ]
  },
  {
   "cell_type": "markdown",
   "id": "3b7e2063",
   "metadata": {},
   "source": [
    "### Potential base number 4"
   ]
  },
  {
   "cell_type": "code",
   "execution_count": null,
   "id": "9d43d7b5",
   "metadata": {},
   "outputs": [],
   "source": [
    "basic_indices_4 = all_bases[4]\n",
    "basic_solution_4 = print_info(basic_indices_4)\n"
   ]
  },
  {
   "cell_type": "markdown",
   "id": "77724a45",
   "metadata": {},
   "source": [
    "Plot the vertex"
   ]
  },
  {
   "cell_type": "code",
   "execution_count": null,
   "id": "44ad5cbc",
   "metadata": {},
   "outputs": [],
   "source": [
    "if basic_solution_4 is not None:\n",
    "    draw_polyhedron_standard_form(\n",
    "        matrix_a=standard_a,\n",
    "        vector_b=standard_b,\n",
    "        points=[LabeledPoint(coordinates=basic_solution_4)],\n",
    "    )"
   ]
  },
  {
   "cell_type": "markdown",
   "id": "c5b8f7a4",
   "metadata": {},
   "source": [
    "### Potential base number 5"
   ]
  },
  {
   "cell_type": "code",
   "execution_count": null,
   "id": "dd0f4661",
   "metadata": {},
   "outputs": [],
   "source": [
    "basic_indices_5 = all_bases[5]\n",
    "basic_solution_5 = print_info(basic_indices_5)\n"
   ]
  },
  {
   "cell_type": "markdown",
   "id": "4caa1c80",
   "metadata": {},
   "source": [
    "Plot the vertex"
   ]
  },
  {
   "cell_type": "code",
   "execution_count": null,
   "id": "92abd35e",
   "metadata": {},
   "outputs": [],
   "source": [
    "if basic_solution_5 is not None:\n",
    "    draw_polyhedron_standard_form(\n",
    "        matrix_a=standard_a,\n",
    "        vector_b=standard_b,\n",
    "        points=[LabeledPoint(coordinates=basic_solution_5)],\n",
    "    )\n"
   ]
  },
  {
   "cell_type": "markdown",
   "id": "2ea89b39",
   "metadata": {},
   "source": [
    "Among the 6 potential bases, only 5 exist: 4 feasible ane 1unfeasible. The 4 feasible basic solutions\n",
    "correspond to the 4 vertices of the polyhedron."
   ]
  },
  {
   "cell_type": "markdown",
   "id": "b6e62994",
   "metadata": {},
   "source": [
    "## Polyhedron 2\n",
    "$$P = \\left\\{\n",
    "\\begin{pmatrix}\n",
    "x_1\\\\\n",
    "x_2\n",
    "\\end{pmatrix}\\in \\mathbb{R}^2\n",
    "| x_1 + x_2 \\leq 1, 3 x_1 + 10 x_2 \\leq 15, x_1 \\geq 0, x_2 \\geq 0 \\right\\}.$$"
   ]
  },
  {
   "cell_type": "markdown",
   "id": "f5c94d25",
   "metadata": {},
   "source": [
    "Data in standard form."
   ]
  },
  {
   "cell_type": "code",
   "execution_count": null,
   "id": "311ab8b1",
   "metadata": {},
   "outputs": [],
   "source": [
    "standard_a = np.array([[1, 1, 1, 0], [3, 10, 0, 1]])\n",
    "standard_b = np.array([1, 15])\n"
   ]
  },
  {
   "cell_type": "code",
   "execution_count": null,
   "id": "25b2c0bd",
   "metadata": {},
   "outputs": [],
   "source": [
    "n_constraints, n_variables = standard_a.shape\n",
    "print(f'{n_variables} variables, {n_constraints} constraints.')\n"
   ]
  },
  {
   "cell_type": "markdown",
   "id": "fdae7783",
   "metadata": {},
   "source": [
    "Draw the polyhedron. We specify the bounding box in order to display all bases, even the unfeasible ones."
   ]
  },
  {
   "cell_type": "code",
   "execution_count": null,
   "id": "afff24cd",
   "metadata": {},
   "outputs": [],
   "source": [
    "bounding_box = BoundingBox(x_min=-1.5, x_max=5.5, y_min=-0.5, y_max=2)\n",
    "draw_polyhedron_standard_form(\n",
    "    matrix_a=standard_a, vector_b=standard_b, bounding_box=bounding_box\n",
    ")"
   ]
  },
  {
   "cell_type": "markdown",
   "id": "d3a286dd",
   "metadata": {},
   "source": [
    "We test the function on all possible bases."
   ]
  },
  {
   "cell_type": "markdown",
   "id": "8515ffbf",
   "metadata": {},
   "source": [
    "We need to consider all combinations of basic variables."
   ]
  },
  {
   "cell_type": "code",
   "execution_count": null,
   "id": "cff57753",
   "metadata": {},
   "outputs": [],
   "source": [
    "all_bases = list(combinations(range(n_variables), n_constraints))\n",
    "print(f'There are {len(all_bases)} potential bases.')\n"
   ]
  },
  {
   "cell_type": "markdown",
   "id": "48203e98",
   "metadata": {},
   "source": [
    "## For each potential base below, verify that the outcome of the function is correct."
   ]
  },
  {
   "cell_type": "markdown",
   "id": "fa4c107e",
   "metadata": {},
   "source": [
    "### Potential base number 0"
   ]
  },
  {
   "cell_type": "code",
   "execution_count": null,
   "id": "9a348cbc",
   "metadata": {},
   "outputs": [],
   "source": [
    "basic_indices_0 = all_bases[0]\n",
    "basic_solution_0 = print_info(basic_indices_0)\n"
   ]
  },
  {
   "cell_type": "markdown",
   "id": "ab1f0eab",
   "metadata": {},
   "source": [
    "Plot the vertex"
   ]
  },
  {
   "cell_type": "code",
   "execution_count": null,
   "id": "12e2021a",
   "metadata": {},
   "outputs": [],
   "source": [
    "if basic_solution_0 is not None:\n",
    "    draw_polyhedron_standard_form(\n",
    "        matrix_a=standard_a,\n",
    "        vector_b=standard_b,\n",
    "        bounding_box=bounding_box,\n",
    "        points=[LabeledPoint(coordinates=basic_solution_0)],\n",
    "    )\n"
   ]
  },
  {
   "cell_type": "markdown",
   "id": "5e6206c8",
   "metadata": {},
   "source": [
    "### Potential base number 1"
   ]
  },
  {
   "cell_type": "code",
   "execution_count": null,
   "id": "9bf0ed2c",
   "metadata": {},
   "outputs": [],
   "source": [
    "basic_indices_1 = all_bases[1]\n",
    "basic_solution_1 = print_info(basic_indices_1)\n"
   ]
  },
  {
   "cell_type": "markdown",
   "id": "d198062c",
   "metadata": {},
   "source": [
    "Plot the vertex"
   ]
  },
  {
   "cell_type": "code",
   "execution_count": null,
   "id": "c6c57052",
   "metadata": {},
   "outputs": [],
   "source": [
    "if basic_solution_1 is not None:\n",
    "    draw_polyhedron_standard_form(\n",
    "        matrix_a=standard_a,\n",
    "        vector_b=standard_b,\n",
    "        bounding_box=bounding_box,\n",
    "        points=[LabeledPoint(coordinates=basic_solution_1)],\n",
    "    )\n"
   ]
  },
  {
   "cell_type": "markdown",
   "id": "0b683f84",
   "metadata": {},
   "source": [
    "### Potential base number 2"
   ]
  },
  {
   "cell_type": "code",
   "execution_count": null,
   "id": "899f57a8",
   "metadata": {},
   "outputs": [],
   "source": [
    "basic_indices_2 = all_bases[2]\n",
    "basic_solution_2 = print_info(basic_indices_2)\n"
   ]
  },
  {
   "cell_type": "markdown",
   "id": "1408f84e",
   "metadata": {},
   "source": [
    "Plot the vertex"
   ]
  },
  {
   "cell_type": "code",
   "execution_count": null,
   "id": "c097cb6a",
   "metadata": {},
   "outputs": [],
   "source": [
    "if basic_solution_2 is not None:\n",
    "    draw_polyhedron_standard_form(\n",
    "        matrix_a=standard_a,\n",
    "        vector_b=standard_b,\n",
    "        bounding_box=bounding_box,\n",
    "        points=[LabeledPoint(coordinates=basic_solution_2)],\n",
    "    )"
   ]
  },
  {
   "cell_type": "markdown",
   "id": "ccec3d3b",
   "metadata": {},
   "source": [
    "### Potential base number 3"
   ]
  },
  {
   "cell_type": "code",
   "execution_count": null,
   "id": "bda77d8f",
   "metadata": {},
   "outputs": [],
   "source": [
    "basic_indices_3 = all_bases[3]\n",
    "basic_solution_3 = print_info(basic_indices_3)\n"
   ]
  },
  {
   "cell_type": "markdown",
   "id": "a100d69c",
   "metadata": {},
   "source": [
    "Plot the vertex"
   ]
  },
  {
   "cell_type": "code",
   "execution_count": null,
   "id": "d733935c",
   "metadata": {},
   "outputs": [],
   "source": [
    "if basic_solution_3 is not None:\n",
    "    draw_polyhedron_standard_form(\n",
    "        matrix_a=standard_a,\n",
    "        vector_b=standard_b,\n",
    "        bounding_box=bounding_box,\n",
    "        points=[LabeledPoint(coordinates=basic_solution_3)],\n",
    "    )"
   ]
  },
  {
   "cell_type": "markdown",
   "id": "f0488c1d",
   "metadata": {},
   "source": [
    "### Potential base number 4"
   ]
  },
  {
   "cell_type": "code",
   "execution_count": null,
   "id": "04486302",
   "metadata": {},
   "outputs": [],
   "source": [
    "basic_indices_4 = all_bases[4]\n",
    "basic_solution_4 = print_info(basic_indices_4)\n"
   ]
  },
  {
   "cell_type": "markdown",
   "id": "e4470ec8",
   "metadata": {},
   "source": [
    "Plot the vertex"
   ]
  },
  {
   "cell_type": "code",
   "execution_count": null,
   "id": "b07ede6c",
   "metadata": {},
   "outputs": [],
   "source": [
    "if basic_solution_4 is not None:\n",
    "    draw_polyhedron_standard_form(\n",
    "        matrix_a=standard_a,\n",
    "        vector_b=standard_b,\n",
    "        bounding_box=bounding_box,\n",
    "        points=[LabeledPoint(coordinates=basic_solution_4)],\n",
    "    )"
   ]
  },
  {
   "cell_type": "markdown",
   "id": "da8156f9",
   "metadata": {},
   "source": [
    "### Potential base number 5"
   ]
  },
  {
   "cell_type": "code",
   "execution_count": null,
   "id": "43ae3ee4",
   "metadata": {},
   "outputs": [],
   "source": [
    "basic_indices_5 = all_bases[5]\n",
    "basic_solution_5 = print_info(basic_indices_5)\n"
   ]
  },
  {
   "cell_type": "markdown",
   "id": "a9ed1aa2",
   "metadata": {},
   "source": [
    "Plot the vertex"
   ]
  },
  {
   "cell_type": "code",
   "execution_count": null,
   "id": "7020701f",
   "metadata": {},
   "outputs": [],
   "source": [
    "if basic_solution_5 is not None:\n",
    "    draw_polyhedron_standard_form(\n",
    "        matrix_a=standard_a,\n",
    "        vector_b=standard_b,\n",
    "        bounding_box=bounding_box,\n",
    "        points=[LabeledPoint(coordinates=basic_solution_5)],\n",
    "    )\n"
   ]
  },
  {
   "cell_type": "markdown",
   "id": "b2cb44dd",
   "metadata": {},
   "source": [
    "All 6 potential bases exist. Only 3 are feasible They correspond to the 3 vertices of the polyhedron."
   ]
  },
  {
   "cell_type": "markdown",
   "id": "0fae5cdc",
   "metadata": {},
   "source": [
    "## Polyhedron 3\n",
    "$$ P = \\left\\{\n",
    "\\begin{pmatrix}\n",
    "x_1\\\\\n",
    "x_2\n",
    "\\end{pmatrix} \\in \\mathbb{R}^2\n",
    "| x_1+x_2 \\leq 1,\n",
    "-x_1+2x_2 \\leq 2, x_1 \\geq 0, x_2 \\geq 0 \\right\\}.$$"
   ]
  },
  {
   "cell_type": "markdown",
   "id": "414b946a",
   "metadata": {},
   "source": [
    "Data in standard form."
   ]
  },
  {
   "cell_type": "code",
   "execution_count": null,
   "id": "5794022b",
   "metadata": {},
   "outputs": [],
   "source": [
    "standard_a = np.array([[1, 1, 1, 0], [-1, 2, 0, 1]])\n",
    "standard_b = np.array([1, 2])\n"
   ]
  },
  {
   "cell_type": "code",
   "execution_count": null,
   "id": "ee6da291",
   "metadata": {},
   "outputs": [],
   "source": [
    "n_constraints, n_variables = standard_a.shape\n",
    "print(f'{n_variables} variables, {n_constraints} constraints.')\n"
   ]
  },
  {
   "cell_type": "markdown",
   "id": "4ea3ee72",
   "metadata": {},
   "source": [
    "Draw the polyhedron. We specify the bounding box in order to display all bases, even the unfeasible ones."
   ]
  },
  {
   "cell_type": "code",
   "execution_count": null,
   "id": "b4ce94e2",
   "metadata": {},
   "outputs": [],
   "source": [
    "bounding_box = BoundingBox(x_min=-2.5, x_max=1.5, y_min=-0.5, y_max=1.5)\n",
    "draw_polyhedron_standard_form(\n",
    "    matrix_a=standard_a, vector_b=standard_b, bounding_box=bounding_box\n",
    ")"
   ]
  },
  {
   "cell_type": "markdown",
   "id": "a9a88ac6",
   "metadata": {},
   "source": [
    "We test the function on all possible bases."
   ]
  },
  {
   "cell_type": "markdown",
   "id": "77efe7be",
   "metadata": {},
   "source": [
    "We need to consider all combinations of basic variables."
   ]
  },
  {
   "cell_type": "code",
   "execution_count": null,
   "id": "d2966a07",
   "metadata": {},
   "outputs": [],
   "source": [
    "all_bases = list(combinations(range(n_variables), n_constraints))\n",
    "print(f'There are {len(all_bases)} potential bases.')\n"
   ]
  },
  {
   "cell_type": "markdown",
   "id": "87758f2b",
   "metadata": {},
   "source": [
    "## For each potential base below, verify that the outcome of the function is correct."
   ]
  },
  {
   "cell_type": "markdown",
   "id": "c0a06c00",
   "metadata": {},
   "source": [
    "### Potential base number 0"
   ]
  },
  {
   "cell_type": "code",
   "execution_count": null,
   "id": "ab4ee626",
   "metadata": {},
   "outputs": [],
   "source": [
    "basic_indices_0 = all_bases[0]\n",
    "basic_solution_0 = print_info(basic_indices_0)\n"
   ]
  },
  {
   "cell_type": "markdown",
   "id": "43f956e6",
   "metadata": {},
   "source": [
    "Plot the vertex"
   ]
  },
  {
   "cell_type": "code",
   "execution_count": null,
   "id": "7c4339bb",
   "metadata": {},
   "outputs": [],
   "source": [
    "if basic_solution_0 is not None:\n",
    "    draw_polyhedron_standard_form(\n",
    "        matrix_a=standard_a,\n",
    "        vector_b=standard_b,\n",
    "        bounding_box=bounding_box,\n",
    "        points=[LabeledPoint(coordinates=basic_solution_0)],\n",
    "    )\n"
   ]
  },
  {
   "cell_type": "markdown",
   "id": "9c2f0401",
   "metadata": {},
   "source": [
    "### Potential base number 1"
   ]
  },
  {
   "cell_type": "code",
   "execution_count": null,
   "id": "b14cadbb",
   "metadata": {},
   "outputs": [],
   "source": [
    "basic_indices_1 = all_bases[1]\n",
    "basic_solution_1 = print_info(basic_indices_1)\n"
   ]
  },
  {
   "cell_type": "markdown",
   "id": "aa01879f",
   "metadata": {},
   "source": [
    "Plot the vertex"
   ]
  },
  {
   "cell_type": "code",
   "execution_count": null,
   "id": "bf804736",
   "metadata": {},
   "outputs": [],
   "source": [
    "if basic_solution_1 is not None:\n",
    "    draw_polyhedron_standard_form(\n",
    "        matrix_a=standard_a,\n",
    "        vector_b=standard_b,\n",
    "        bounding_box=bounding_box,\n",
    "        points=[LabeledPoint(coordinates=basic_solution_1)],\n",
    "    )\n"
   ]
  },
  {
   "cell_type": "markdown",
   "id": "67b1b224",
   "metadata": {},
   "source": [
    "### Potential base number 2"
   ]
  },
  {
   "cell_type": "code",
   "execution_count": null,
   "id": "0066ba64",
   "metadata": {},
   "outputs": [],
   "source": [
    "basic_indices_2 = all_bases[2]\n",
    "basic_solution_2 = print_info(basic_indices_2)\n"
   ]
  },
  {
   "cell_type": "markdown",
   "id": "470f4513",
   "metadata": {},
   "source": [
    "Plot the vertex"
   ]
  },
  {
   "cell_type": "code",
   "execution_count": null,
   "id": "60c2134c",
   "metadata": {},
   "outputs": [],
   "source": [
    "if basic_solution_2 is not None:\n",
    "    draw_polyhedron_standard_form(\n",
    "        matrix_a=standard_a,\n",
    "        vector_b=standard_b,\n",
    "        bounding_box=bounding_box,\n",
    "        points=[LabeledPoint(coordinates=basic_solution_2)],\n",
    "    )"
   ]
  },
  {
   "cell_type": "markdown",
   "id": "e1b75120",
   "metadata": {},
   "source": [
    "### Potential base number 3"
   ]
  },
  {
   "cell_type": "code",
   "execution_count": null,
   "id": "e349569f",
   "metadata": {},
   "outputs": [],
   "source": [
    "basic_indices_3 = all_bases[3]\n",
    "basic_solution_3 = print_info(basic_indices_3)\n"
   ]
  },
  {
   "cell_type": "markdown",
   "id": "4367c086",
   "metadata": {},
   "source": [
    "Plot the vertex"
   ]
  },
  {
   "cell_type": "code",
   "execution_count": null,
   "id": "091a4dfd",
   "metadata": {},
   "outputs": [],
   "source": [
    "if basic_solution_3 is not None:\n",
    "    draw_polyhedron_standard_form(\n",
    "        matrix_a=standard_a,\n",
    "        vector_b=standard_b,\n",
    "        bounding_box=bounding_box,\n",
    "        points=[LabeledPoint(coordinates=basic_solution_3)],\n",
    "    )"
   ]
  },
  {
   "cell_type": "markdown",
   "id": "1bb86db4",
   "metadata": {},
   "source": [
    "### Potential base number 4"
   ]
  },
  {
   "cell_type": "code",
   "execution_count": null,
   "id": "35de39f8",
   "metadata": {},
   "outputs": [],
   "source": [
    "basic_indices_4 = all_bases[4]\n",
    "basic_solution_4 = print_info(basic_indices_4)\n"
   ]
  },
  {
   "cell_type": "markdown",
   "id": "6f30b71e",
   "metadata": {},
   "source": [
    "Plot the vertex"
   ]
  },
  {
   "cell_type": "code",
   "execution_count": null,
   "id": "a13e3a1d",
   "metadata": {},
   "outputs": [],
   "source": [
    "if basic_solution_4 is not None:\n",
    "    draw_polyhedron_standard_form(\n",
    "        matrix_a=standard_a,\n",
    "        vector_b=standard_b,\n",
    "        bounding_box=bounding_box,\n",
    "        points=[LabeledPoint(coordinates=basic_solution_4)],\n",
    "    )"
   ]
  },
  {
   "cell_type": "markdown",
   "id": "591acc73",
   "metadata": {},
   "source": [
    "### Potential base number 5"
   ]
  },
  {
   "cell_type": "code",
   "execution_count": null,
   "id": "d32857fc",
   "metadata": {},
   "outputs": [],
   "source": [
    "basic_indices_5 = all_bases[5]\n",
    "basic_solution_5 = print_info(basic_indices_5)\n"
   ]
  },
  {
   "cell_type": "markdown",
   "id": "34829068",
   "metadata": {},
   "source": [
    "Plot the vertex"
   ]
  },
  {
   "cell_type": "code",
   "execution_count": null,
   "id": "6d8b5307",
   "metadata": {},
   "outputs": [],
   "source": [
    "if basic_solution_5 is not None:\n",
    "    draw_polyhedron_standard_form(\n",
    "        matrix_a=standard_a,\n",
    "        vector_b=standard_b,\n",
    "        bounding_box=bounding_box,\n",
    "        points=[LabeledPoint(coordinates=basic_solution_5)],\n",
    "    )\n"
   ]
  },
  {
   "cell_type": "markdown",
   "id": "7998ed3e",
   "metadata": {},
   "source": [
    "All 6 potential bases exist, and 5 of them are feasible. However, the polyhedron has only 3 vertices.\n",
    "Indeed, feasible basic solutions 0, 3 and 4 correspond to the exact same vertex of the\n",
    "polyhedron. Such basic solutions are said to be **degenerate**."
   ]
  },
  {
   "cell_type": "markdown",
   "id": "345198fb",
   "metadata": {},
   "source": [
    "# Future usage.\n",
    "These functions are implemented in the package, so that they can be reused in the future. Here is the syntax."
   ]
  },
  {
   "cell_type": "markdown",
   "id": "8b2813a7",
   "metadata": {},
   "source": [
    "First, we create an object using the data:"
   ]
  },
  {
   "cell_type": "code",
   "execution_count": null,
   "id": "2664ef46",
   "metadata": {},
   "outputs": [],
   "source": [
    "the_standard_form = StandardForm(matrix=standard_a, vector=standard_b)\n"
   ]
  },
  {
   "cell_type": "markdown",
   "id": "8950edfc",
   "metadata": {},
   "source": [
    "Then, we set the basic indices."
   ]
  },
  {
   "cell_type": "code",
   "execution_count": null,
   "id": "67ad2701",
   "metadata": {},
   "outputs": [],
   "source": [
    "the_basic_indices = [1, 2]\n",
    "the_standard_form.basic_indices = the_basic_indices\n"
   ]
  },
  {
   "cell_type": "markdown",
   "id": "dc6a9da4",
   "metadata": {},
   "source": [
    "The basic matrix is readily available."
   ]
  },
  {
   "cell_type": "code",
   "execution_count": null,
   "id": "caf21c00",
   "metadata": {},
   "outputs": [],
   "source": [
    "print(the_standard_form.basic_matrix)\n"
   ]
  },
  {
   "cell_type": "markdown",
   "id": "58255f62",
   "metadata": {},
   "source": [
    "As well as the basic solution:"
   ]
  },
  {
   "cell_type": "code",
   "execution_count": null,
   "id": "f1bfd2ac",
   "metadata": {},
   "outputs": [],
   "source": [
    "print(the_standard_form.basic_solution)\n"
   ]
  },
  {
   "cell_type": "markdown",
   "id": "51c9bbc3",
   "metadata": {},
   "source": [
    "If you need only the basic part of the basic solution, it is available as well."
   ]
  },
  {
   "cell_type": "code",
   "execution_count": null,
   "id": "7c4ae973",
   "metadata": {},
   "outputs": [],
   "source": [
    "print(the_standard_form.basic_part_basic_solution)\n"
   ]
  },
  {
   "cell_type": "markdown",
   "id": "5eee9e08",
   "metadata": {},
   "source": [
    "To change the basis, redefine the basic indices."
   ]
  },
  {
   "cell_type": "code",
   "execution_count": null,
   "id": "b39fcb43",
   "metadata": {},
   "outputs": [],
   "source": [
    "the_basic_indices = [0, 3]\n",
    "the_standard_form.basic_indices = the_basic_indices\n"
   ]
  },
  {
   "cell_type": "markdown",
   "id": "67f875a0",
   "metadata": {},
   "source": [
    "The basic matrix is readily available."
   ]
  },
  {
   "cell_type": "code",
   "execution_count": null,
   "id": "6d67f0a7",
   "metadata": {},
   "outputs": [],
   "source": [
    "print(the_standard_form.basic_matrix)\n"
   ]
  },
  {
   "cell_type": "markdown",
   "id": "373b99a4",
   "metadata": {},
   "source": [
    "As well as the basic solution:"
   ]
  },
  {
   "cell_type": "code",
   "execution_count": null,
   "id": "fb6a6cbb",
   "metadata": {},
   "outputs": [],
   "source": [
    "print(the_standard_form.basic_solution)\n"
   ]
  },
  {
   "cell_type": "markdown",
   "id": "d686d6da",
   "metadata": {},
   "source": [
    "If you need only the basic part of the basic solution, it is available as well."
   ]
  },
  {
   "cell_type": "code",
   "execution_count": null,
   "id": "69ed262f",
   "metadata": {},
   "outputs": [],
   "source": [
    "print(the_standard_form.basic_part_basic_solution)\n"
   ]
  }
 ],
 "metadata": {},
 "nbformat": 4,
 "nbformat_minor": 5
}

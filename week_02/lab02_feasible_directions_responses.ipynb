{
 "cells": [
  {
   "cell_type": "markdown",
   "id": "5f7c2319",
   "metadata": {},
   "source": [
    "# Feasible directions\n",
    "\n",
    "## Introduction to optimization and operations research.\n",
    "\n",
    "Michel Bierlaire\n"
   ]
  },
  {
   "cell_type": "code",
   "execution_count": null,
   "id": "e10270cc",
   "metadata": {},
   "outputs": [],
   "source": [
    "\n",
    "import numpy as np\n",
    "from teaching_optimization.linear_constraints import (\n",
    "    AllConstraints,\n",
    "    StandardCanonicalForms,\n",
    "    draw_polyhedron_canonical_form,\n",
    "    LabeledDirection,\n",
    ")\n"
   ]
  },
  {
   "cell_type": "markdown",
   "id": "51e2efe0",
   "metadata": {},
   "source": [
    "Consider the polyhedron defined as follows:\n",
    "$$\n",
    "\\mathcal{P} = \\{x \\in \\mathbb{R}^2 \\mid -x_0 + x_1 \\leq 2, x_0 + x_1 \\leq 4, x_0 \\geq 0, x_1 \\geq 0\\}.\n",
    "$$\n",
    "\n",
    "Determine whether a given directions $\\tilde{d} \\in \\mathbb{R}^2$  is feasible for the given feasible points\n",
    "$\\tilde{x}$ of $\\mathcal{P}$.\n",
    "\n",
    "**Hints**:\n",
    "\n",
    "1. If the polyhedron is written in standard form, a direction $d$ is feasible if the\n",
    "following conditions are verified:\n",
    "\n",
    "- $Ad = 0$, and\n",
    "- $d_i \\geq 0$ when $x_i = 0$.\n",
    "2. To obtain a vector $x$ in standard form, you must calculate the values of the slack variables.\n",
    "3. To obtain a _direction_ $d$ in standard form, you need to consider $y = x + d$. If $x^s$ and $y^s$ are\n",
    "the corresponding vectors in standard form (including the slack variables), the direction in standard form is\n",
    "$$d^s = y^s - x^s.$$\n"
   ]
  },
  {
   "cell_type": "markdown",
   "id": "a7d428f9",
   "metadata": {},
   "source": [
    "Constraints of the canonical form (for the plot)"
   ]
  },
  {
   "cell_type": "markdown",
   "id": "13bb9dee",
   "metadata": {},
   "source": [
    "$$\\begin{array}{rrrr}\n",
    "-x_0 &+ x_1 &<=& 2, \\\\\n",
    "+x_0 &+ x_1 &<=& 4, \\\\\n",
    "-x_0 &      &<=& 0, \\\\\n",
    "& -x_1 &<=& 0.\n",
    "\\end{array}$$"
   ]
  },
  {
   "cell_type": "code",
   "execution_count": null,
   "id": "6d684462",
   "metadata": {},
   "outputs": [],
   "source": [
    "\n",
    "canonical_a = np.array([[-1, 1], [1, 1], [-1, 0], [0, -1]])\n",
    "canonical_b = np.array([2, 4, 0, 0])\n"
   ]
  },
  {
   "cell_type": "markdown",
   "id": "43d4f5b0",
   "metadata": {},
   "source": [
    "Create a polyhedron object for plotting"
   ]
  },
  {
   "cell_type": "code",
   "execution_count": null,
   "id": "b2cf9233",
   "metadata": {},
   "outputs": [],
   "source": [
    "polyhedron = AllConstraints.from_canonical_form(matrix=canonical_a, vector=canonical_b)\n",
    "print(polyhedron)\n"
   ]
  },
  {
   "cell_type": "markdown",
   "id": "9bc48a11",
   "metadata": {},
   "source": [
    "Create an object managing the standard and canonical forms."
   ]
  },
  {
   "cell_type": "code",
   "execution_count": null,
   "id": "f4ce640c",
   "metadata": {},
   "outputs": [],
   "source": [
    "polyhedron_forms = StandardCanonicalForms(constraints=polyhedron)\n"
   ]
  },
  {
   "cell_type": "markdown",
   "id": "17e53c03",
   "metadata": {},
   "source": [
    "Canonical form"
   ]
  },
  {
   "cell_type": "code",
   "execution_count": null,
   "id": "6dc1f4b4",
   "metadata": {},
   "outputs": [],
   "source": [
    "print(polyhedron_forms.canonical_form)\n"
   ]
  },
  {
   "cell_type": "markdown",
   "id": "00f3264d",
   "metadata": {},
   "source": [
    "Plot the polyhedron"
   ]
  },
  {
   "cell_type": "code",
   "execution_count": null,
   "id": "8966965c",
   "metadata": {},
   "outputs": [],
   "source": [
    "draw_polyhedron_canonical_form(matrix_a=canonical_a, vector_b=canonical_b)\n"
   ]
  },
  {
   "cell_type": "markdown",
   "id": "d3bd8865",
   "metadata": {},
   "source": [
    "\n",
    "Constraints of the standard form:\n",
    "$$\\begin{array}{rrrrrr}\n",
    "- x_0  & + x_1  & + s_0  &        &=& 2, \\\\\n",
    "+ x_0  & + x_1  &        & + s_1  &=& 4, \\\\\n",
    "+ x_0  &        &        &        &>=& 0, \\\\\n",
    "& + x_1  &        &        &>=& 0, \\\\\n",
    "&        & + s_0  &        &>=& 0, \\\\\n",
    "&        &        &+ s_1   &>=& 0.\n",
    "\\end{array}$$\n"
   ]
  },
  {
   "cell_type": "code",
   "execution_count": null,
   "id": "5bd82c9b",
   "metadata": {},
   "outputs": [],
   "source": [
    "print(polyhedron_forms.standard_form)\n"
   ]
  },
  {
   "cell_type": "markdown",
   "id": "ee0f15ce",
   "metadata": {},
   "source": [
    "Input the standard form data"
   ]
  },
  {
   "cell_type": "code",
   "execution_count": null,
   "id": "b9df8f0b",
   "metadata": {},
   "outputs": [],
   "source": [
    "standard_a = np.array(\n",
    "    [[-1.0, 1.0, 1.0, 0.0], [1.0, 1.0, 0.0, 1.0]]\n",
    ")\n",
    "standard_b = np.array([2, 4])\n",
    "\n"
   ]
  },
  {
   "cell_type": "markdown",
   "id": "a705cf55",
   "metadata": {},
   "source": [
    "Function checking the feasibility of the direction with the standard form."
   ]
  },
  {
   "cell_type": "code",
   "execution_count": null,
   "id": "5770a03e",
   "metadata": {},
   "outputs": [],
   "source": [
    "def is_direction_feasible_standard(\n",
    "    standard_matrix: np.ndarray,\n",
    "    vector_x: np.ndarray,\n",
    "    direction: np.ndarray,\n",
    "):\n",
    "    \"\"\"Function checking the feasibility of the direction with the standard form.\n",
    "\n",
    "    :param standard_matrix: matrix of the standard form representation.\n",
    "    :param vector_x: point where to start the direction.\n",
    "    :param direction: direction to follow.\n",
    "    \"\"\"\n",
    "    # Verify the dimensions\n",
    "    n_rows, n_columns = standard_matrix.shape\n",
    "    if len(vector_x) != n_columns:\n",
    "        error_msg = f'Incompatible dimension of vector_x: {len(vector_x)} instead of {n_columns}.'\n",
    "        raise ValueError(error_msg)\n",
    "    if len(direction) != n_columns:\n",
    "        error_msg = f'Incompatible dimension of direction: {len(direction)} instead of {n_columns}.'\n",
    "        raise ValueError(error_msg)\n",
    "\n",
    "    # Verify first that the direction is in the kernel of the matrix.\n",
    "    if not np.allclose(standard_matrix @ direction, np.zeros(n_rows)):\n",
    "        return False\n",
    "\n",
    "    # Identify the entries of point that are zero\n",
    "    zero_mask = vector_x == 0.0\n",
    "\n",
    "    # Verify that the corresponding entries of the direction are non-negative.\n",
    "    return np.all(direction[zero_mask] >= 0)\n",
    "\n"
   ]
  },
  {
   "cell_type": "markdown",
   "id": "33a1ce19",
   "metadata": {},
   "source": [
    "We now apply the function on various examples. Note that the data is provided for the canonical form,\n",
    "and must be transformed first."
   ]
  },
  {
   "cell_type": "markdown",
   "id": "d905b22e",
   "metadata": {},
   "source": [
    "# Question 1\n",
    "\n",
    "$\\tilde{x}_a = \\left(\\begin{array}{r} 0 \\\\ 2 \\end{array}\\right)$,\n",
    "$\\tilde{d}_a = \\left(\\begin{array}{r} 1 \\\\ 0 \\end{array}\\right);$"
   ]
  },
  {
   "cell_type": "code",
   "execution_count": null,
   "id": "c631da03",
   "metadata": {},
   "outputs": [],
   "source": [
    "\n",
    "canonical_x_a = np.array([0, 2])\n",
    "canonical_d_a = np.array([1, 0])\n"
   ]
  },
  {
   "cell_type": "markdown",
   "id": "3aedc986",
   "metadata": {},
   "source": [
    "\n",
    "After calculating the slack variables, we obtain the vector in standard form,\n",
    "$\\tilde{x}^s_a = \\left(\\begin{array}{r} 0 \\\\ 2 \\\\ 0 \\\\ 2\\end{array}\\right)$.\n",
    "We do the same for the vector $\\tilde{x}_a+\\tilde{d}_a = \\left(\\begin{array}{r} 1\\\\ 2 \\end{array}\\right)$.\n",
    "In standard form, it is $\\left(\\begin{array}{r} 1\\\\ 2 \\\\ 1 \\\\ 1 \\end{array}\\right)$.\n",
    "Therefore, the direction in standard form is\n",
    "$\\left(\\begin{array}{r} 1\\\\ 2 \\\\ 1 \\\\ 1 \\end{array}\\right)-\n",
    "\\left(\\begin{array}{r} 0 \\\\ 2 \\\\ 0 \\\\ 2\\end{array}\\right) =\n",
    "\\left(\\begin{array}{r} 1\\\\ 0 \\\\ 1 \\\\ -1 \\end{array}\\right)$.\n"
   ]
  },
  {
   "cell_type": "markdown",
   "id": "d784a295",
   "metadata": {},
   "source": [
    "Provide the values of the vector in standard form."
   ]
  },
  {
   "cell_type": "code",
   "execution_count": null,
   "id": "b942ea31",
   "metadata": {},
   "outputs": [],
   "source": [
    "standard_x_a = np.array([0.0, 2.0, 0.0, 2.0])\n"
   ]
  },
  {
   "cell_type": "markdown",
   "id": "dca9d074",
   "metadata": {},
   "source": [
    "Provide the values of the direction in standard form."
   ]
  },
  {
   "cell_type": "code",
   "execution_count": null,
   "id": "239e474a",
   "metadata": {},
   "outputs": [],
   "source": [
    "standard_direction_a = np.array(\n",
    "    [1.0, 0.0, 1.0, -1.0]\n",
    ")\n"
   ]
  },
  {
   "cell_type": "markdown",
   "id": "27596923",
   "metadata": {},
   "source": [
    "Check feasibility. Expected output: True."
   ]
  },
  {
   "cell_type": "code",
   "execution_count": null,
   "id": "ded3f4d9",
   "metadata": {},
   "outputs": [],
   "source": [
    "print(\n",
    "    is_direction_feasible_standard(\n",
    "        standard_matrix=standard_a,\n",
    "        vector_x=standard_x_a,\n",
    "        direction=standard_direction_a,\n",
    "    )\n",
    ")\n"
   ]
  },
  {
   "cell_type": "markdown",
   "id": "5ad36b19",
   "metadata": {},
   "source": [
    "Plot the polyhedron"
   ]
  },
  {
   "cell_type": "code",
   "execution_count": null,
   "id": "2c2f37bb",
   "metadata": {},
   "outputs": [],
   "source": [
    "draw_polyhedron_canonical_form(\n",
    "    matrix_a=canonical_a,\n",
    "    vector_b=canonical_b,\n",
    "    directions=[\n",
    "        LabeledDirection(start=canonical_x_a, direction=canonical_d_a, label='d_a')\n",
    "    ],\n",
    ")\n"
   ]
  },
  {
   "cell_type": "markdown",
   "id": "201f27a3",
   "metadata": {},
   "source": [
    "# Question 2\n",
    "$\\tilde{x}_b = \\left(\\begin{array}{r} 0 \\\\ 2 \\end{array}\\right)$,\n",
    "$\\tilde{d}_b = \\left(\\begin{array}{r} -1 \\\\ 0 \\end{array}\\right);$"
   ]
  },
  {
   "cell_type": "code",
   "execution_count": null,
   "id": "6cec406f",
   "metadata": {},
   "outputs": [],
   "source": [
    "\n",
    "canonical_x_b = np.array([0, 2])\n",
    "canonical_d_b = np.array([-1, 0])\n"
   ]
  },
  {
   "cell_type": "markdown",
   "id": "a64ce819",
   "metadata": {},
   "source": [
    "\n",
    "After calculating the slack variables, we obtain the vector in standard form,\n",
    "$\\tilde{x}^s_b = \\left(\\begin{array}{r} 0 \\\\ 2 \\\\ 0 \\\\ 2\\end{array}\\right)$.\n",
    "We do the same for the vector $\\tilde{x}_b+\\tilde{d}_b = \\left(\\begin{array}{r} -1\\\\ 2 \\end{array}\\right)$.\n",
    "In standard form, it is $\\left(\\begin{array}{r} -1\\\\ 2 \\\\ -1 \\\\ 3 \\end{array}\\right)$.\n",
    "Therefore, the direction in standard form is\n",
    "$\\left(\\begin{array}{r} -1\\\\ 2 \\\\ -1 \\\\ 3 \\end{array}\\right)-\n",
    "\\left(\\begin{array}{r} 0 \\\\ 2 \\\\ 0 \\\\ 2\\end{array}\\right) =\n",
    "\\left(\\begin{array}{r} -1\\\\ 0 \\\\ -1 \\\\ 1 \\end{array}\\right)$.\n"
   ]
  },
  {
   "cell_type": "code",
   "execution_count": null,
   "id": "330bccda",
   "metadata": {},
   "outputs": [],
   "source": [
    "\n",
    "standard_x_b = np.array([0.0, 2.0, 0.0, 2.0])\n",
    "standard_direction_b = np.array(\n",
    "    [-1.0, 0.0, -1.0, 1.0]\n",
    ")\n"
   ]
  },
  {
   "cell_type": "markdown",
   "id": "ad5d7ffb",
   "metadata": {},
   "source": [
    "Check feasibility. Expected output: False."
   ]
  },
  {
   "cell_type": "code",
   "execution_count": null,
   "id": "4f554c49",
   "metadata": {},
   "outputs": [],
   "source": [
    "print(\n",
    "    is_direction_feasible_standard(\n",
    "        standard_matrix=standard_a,\n",
    "        vector_x=standard_x_b,\n",
    "        direction=standard_direction_b,\n",
    "    )\n",
    ")\n"
   ]
  },
  {
   "cell_type": "markdown",
   "id": "97aa3f60",
   "metadata": {},
   "source": [
    "Plot the polyhedron"
   ]
  },
  {
   "cell_type": "code",
   "execution_count": null,
   "id": "35e8ce42",
   "metadata": {},
   "outputs": [],
   "source": [
    "draw_polyhedron_canonical_form(\n",
    "    matrix_a=canonical_a,\n",
    "    vector_b=canonical_b,\n",
    "    directions=[\n",
    "        LabeledDirection(start=canonical_x_b, direction=canonical_d_b, label='d_b')\n",
    "    ],\n",
    ")\n"
   ]
  },
  {
   "cell_type": "markdown",
   "id": "9943719e",
   "metadata": {},
   "source": [
    "# Question 3"
   ]
  },
  {
   "cell_type": "markdown",
   "id": "51f8ee8b",
   "metadata": {},
   "source": [
    "$\\tilde{x}_c = \\left(\\begin{array}{r} 2 \\\\ 2 \\end{array}\\right)$,\n",
    "$\\tilde{d}_c = \\left(\\begin{array}{r} 0 \\\\ 2 \\end{array}\\right);$"
   ]
  },
  {
   "cell_type": "code",
   "execution_count": null,
   "id": "2cff719d",
   "metadata": {},
   "outputs": [],
   "source": [
    "\n",
    "canonical_x_c = np.array([2, 2])\n",
    "canonical_d_c = np.array([0, 2])\n"
   ]
  },
  {
   "cell_type": "markdown",
   "id": "ab709816",
   "metadata": {},
   "source": [
    "\n",
    "After calculating the slack variables, we obtain the vector in standard form,\n",
    "$\\tilde{x}^s_c = \\left(\\begin{array}{r} 2 \\\\ 2 \\\\ 2 \\\\ 0\\end{array}\\right)$.\n",
    "We do the same for the vector $\\tilde{x}_c+\\tilde{d}_c = \\left(\\begin{array}{r} 2\\\\ 4 \\end{array}\\right)$.\n",
    "In standard form, it is $\\left(\\begin{array}{r} 2\\\\ 4 \\\\ 0 \\\\ -2 \\end{array}\\right)$.\n",
    "Therefore, the direction in standard form is\n",
    "$\\left(\\begin{array}{r} 2\\\\ 4 \\\\ 0 \\\\ -2 \\end{array}\\right)-\n",
    "\\left(\\begin{array}{r} 2 \\\\ 2 \\\\ 2 \\\\ 0\\end{array}\\right) =\n",
    "\\left(\\begin{array}{r} 0\\\\ 2 \\\\ -2 \\\\ -2 \\end{array}\\right)$.\n"
   ]
  },
  {
   "cell_type": "code",
   "execution_count": null,
   "id": "3c8452ce",
   "metadata": {},
   "outputs": [],
   "source": [
    "\n",
    "standard_x_c = np.array([2.0, 2.0, 2.0, 0.0])\n",
    "standard_direction_c = np.array(\n",
    "    [0.0, 2.0, -2.0, -2.0]\n",
    ")\n"
   ]
  },
  {
   "cell_type": "markdown",
   "id": "080b5a4d",
   "metadata": {},
   "source": [
    "Check feasibility. Expected output: False."
   ]
  },
  {
   "cell_type": "code",
   "execution_count": null,
   "id": "18fa270d",
   "metadata": {},
   "outputs": [],
   "source": [
    "print(\n",
    "    is_direction_feasible_standard(\n",
    "        standard_matrix=standard_a,\n",
    "        vector_x=standard_x_c,\n",
    "        direction=standard_direction_c,\n",
    "    )\n",
    ")\n"
   ]
  },
  {
   "cell_type": "markdown",
   "id": "e3b600cd",
   "metadata": {},
   "source": [
    "Plot the polyhedron"
   ]
  },
  {
   "cell_type": "code",
   "execution_count": null,
   "id": "11597933",
   "metadata": {},
   "outputs": [],
   "source": [
    "draw_polyhedron_canonical_form(\n",
    "    matrix_a=canonical_a,\n",
    "    vector_b=canonical_b,\n",
    "    directions=[\n",
    "        LabeledDirection(start=canonical_x_c, direction=canonical_d_c, label='d_c')\n",
    "    ],\n",
    ")\n",
    "\n"
   ]
  },
  {
   "cell_type": "markdown",
   "id": "10e5b3c2",
   "metadata": {},
   "source": [
    "# Question 4\n",
    "$\\tilde{x}_d = \\left(\\begin{array}{r} 3 \\\\ 0 \\end{array}\\right)$,\n",
    "$\\tilde{d}_d = \\left(\\begin{array}{r} 0 \\\\ 2 \\end{array}\\right).$"
   ]
  },
  {
   "cell_type": "code",
   "execution_count": null,
   "id": "0629e57c",
   "metadata": {},
   "outputs": [],
   "source": [
    "\n",
    "canonical_x_d = np.array([3, 0])\n",
    "canonical_d_d = np.array([0, 2])\n"
   ]
  },
  {
   "cell_type": "markdown",
   "id": "4175bab3",
   "metadata": {},
   "source": [
    "\n",
    "After calculating the slack variables, we obtain the vector in standard form,\n",
    "$\\tilde{x}^s_d = \\left(\\begin{array}{r} 3 \\\\ 0 \\\\ 5 \\\\ 1\\end{array}\\right)$.\n",
    "\n"
   ]
  },
  {
   "cell_type": "code",
   "execution_count": null,
   "id": "cd0255c2",
   "metadata": {},
   "outputs": [],
   "source": [
    "\n",
    "standard_x_d = np.array([3.0, 0.0, 5.0, 1.0])\n",
    "standard_direction_d = np.array(\n",
    "    [0.0, 2.0, -2.0, -2.0]\n",
    ")\n"
   ]
  },
  {
   "cell_type": "markdown",
   "id": "a6068179",
   "metadata": {},
   "source": [
    "Check feasibility. Expected output: True."
   ]
  },
  {
   "cell_type": "code",
   "execution_count": null,
   "id": "0bc42852",
   "metadata": {},
   "outputs": [],
   "source": [
    "print(\n",
    "    is_direction_feasible_standard(\n",
    "        standard_matrix=standard_a,\n",
    "        vector_x=standard_x_d,\n",
    "        direction=standard_direction_d,\n",
    "    )\n",
    ")\n"
   ]
  },
  {
   "cell_type": "markdown",
   "id": "d7c80f67",
   "metadata": {},
   "source": [
    "Plot the polyhedron"
   ]
  },
  {
   "cell_type": "code",
   "execution_count": null,
   "id": "746bb2e4",
   "metadata": {},
   "outputs": [],
   "source": [
    "draw_polyhedron_canonical_form(\n",
    "    matrix_a=canonical_a,\n",
    "    vector_b=canonical_b,\n",
    "    directions=[\n",
    "        LabeledDirection(start=canonical_x_d, direction=canonical_d_d, label='d_d')\n",
    "    ],\n",
    ")"
   ]
  }
 ],
 "metadata": {},
 "nbformat": 4,
 "nbformat_minor": 5
}

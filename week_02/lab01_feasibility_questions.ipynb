{
 "cells": [
  {
   "cell_type": "markdown",
   "id": "87c3fef1",
   "metadata": {},
   "source": [
    "# Feasibility\n",
    "\n",
    "## Introduction to optimization and operations research\n",
    "\n",
    "Michel Bierlaire\n"
   ]
  },
  {
   "cell_type": "code",
   "execution_count": null,
   "id": "004f7ae8",
   "metadata": {},
   "outputs": [],
   "source": [
    "\n",
    "import numpy as np\n",
    "from teaching_optimization.linear_constraints import (\n",
    "    AllConstraints,\n",
    "    draw_polyhedron_canonical_form,\n",
    "    LabeledPoint,\n",
    ")\n",
    "\n"
   ]
  },
  {
   "cell_type": "markdown",
   "id": "0ecfaa81",
   "metadata": {},
   "source": [
    "In $\\mathbb{R}^2$, we are interested in points in the non-negative orthant such that the sum of their\n",
    "coordinates is lesser or equal to 1. They form a polyhedron\n",
    "\n",
    "$$\\{x \\in \\mathbb{R}^2 | Ax \\leq b\\}.$$\n"
   ]
  },
  {
   "cell_type": "markdown",
   "id": "22dc17e0",
   "metadata": {},
   "source": [
    "# Question 1.\n",
    "What are the matrix $A$ and the vector $b$ for this case?\n",
    "\n",
    "\n",
    "\n",
    "\n",
    "\n",
    "\n",
    "\n",
    "\n",
    "\n",
    "\n",
    "\n",
    "\n",
    "\n",
    "\n",
    "\n",
    "\n",
    "\n",
    "\n",
    "\n",
    "\n",
    "\n"
   ]
  },
  {
   "cell_type": "code",
   "execution_count": null,
   "id": "567c6497",
   "metadata": {},
   "outputs": [],
   "source": [
    "\n",
    "\n",
    "A = np.array(????)\n",
    "b = np.array(????)\n"
   ]
  },
  {
   "cell_type": "markdown",
   "id": "0014424e",
   "metadata": {},
   "source": [
    "We create the polyhedron object."
   ]
  },
  {
   "cell_type": "code",
   "execution_count": null,
   "id": "0b46591c",
   "metadata": {},
   "outputs": [],
   "source": [
    "polyhedron = AllConstraints.from_canonical_form(matrix=A, vector=b)\n",
    "print(polyhedron)\n"
   ]
  },
  {
   "cell_type": "markdown",
   "id": "9f2e2172",
   "metadata": {},
   "source": [
    "Plot the polyhedron"
   ]
  },
  {
   "cell_type": "code",
   "execution_count": null,
   "id": "c865f50e",
   "metadata": {},
   "outputs": [],
   "source": [
    "draw_polyhedron_canonical_form(\n",
    "    matrix_a=A,\n",
    "    vector_b=b,\n",
    ")\n"
   ]
  },
  {
   "cell_type": "markdown",
   "id": "addc0899",
   "metadata": {},
   "source": [
    "# Question 2.\n",
    "Write a Python function that establishes if a point is feasible or not.\n",
    "We recommend to consider the `numpy` function\n",
    "[`all`](https://numpy.org/doc/stable/reference/generated/numpy.all.html)"
   ]
  },
  {
   "cell_type": "code",
   "execution_count": null,
   "id": "2b8b4b59",
   "metadata": {},
   "outputs": [],
   "source": [
    "\n",
    "\n",
    "def check_feasibility_for_x(\n",
    "    matrix_a: np.ndarray, vector_b: np.ndarray, vector_x: np.ndarray\n",
    ") -> bool:\n",
    "    \"\"\"Verifies if point belongs to the the_polyhedron defined by matrix_a and vector_b\n",
    "\n",
    "    :param matrix_a: matrix of the the_polyhedron.\n",
    "    :param vector_b: right hand side of the the_polyhedron.\n",
    "    :param vector_x: vector to check.\n",
    "    :return: True if feasible. False otherwise.\n",
    "    \"\"\"\n",
    "    n_variables = len(vector_x)\n",
    "    n_constraints = len(vector_b)\n",
    "    n_rows, n_columns = matrix_a.shape\n",
    "    if n_rows != n_constraints:\n",
    "        error_msg = (\n",
    "            f'Incompatible dimensions. {n_rows} rows for the matrix, '\n",
    "            f'{n_constraints} element for the right hand side'\n",
    "        )\n",
    "        raise ValueError(error_msg)\n",
    "    if n_columns != n_variables:\n",
    "        error_msg = (\n",
    "            f'Incompatible dimensions. {n_columns} columns for the matrix, '\n",
    "            f'{n_variables} rows for vector_x'\n",
    "        )\n",
    "        raise ValueError(error_msg)\n",
    "    return ????\n",
    "\n"
   ]
  },
  {
   "cell_type": "markdown",
   "id": "f89db2da",
   "metadata": {},
   "source": [
    "# Question 3.\n",
    "Test it on the following points:"
   ]
  },
  {
   "cell_type": "markdown",
   "id": "a128a094",
   "metadata": {},
   "source": [
    "## Point 1\n",
    "$$\\left( \\begin{array}{r} 0 \\\\ 0 \\end{array} \\right).$$\n",
    "Expected output: True"
   ]
  },
  {
   "cell_type": "code",
   "execution_count": null,
   "id": "884ea3c6",
   "metadata": {},
   "outputs": [],
   "source": [
    "\n",
    "x = np.array([0, 0])\n",
    "print(check_feasibility_for_x(matrix_a=A, vector_b=b, vector_x=x))\n",
    "\n"
   ]
  },
  {
   "cell_type": "markdown",
   "id": "74a4cf9a",
   "metadata": {},
   "source": [
    "Plot the polyhedron"
   ]
  },
  {
   "cell_type": "code",
   "execution_count": null,
   "id": "67b67386",
   "metadata": {},
   "outputs": [],
   "source": [
    "draw_polyhedron_canonical_form(\n",
    "    matrix_a=A, vector_b=b, points=[LabeledPoint(coordinates=x)]\n",
    ")\n",
    "\n"
   ]
  },
  {
   "cell_type": "markdown",
   "id": "9305e255",
   "metadata": {},
   "source": [
    "## Point 2\n",
    "$$\\left( \\begin{array}{r} -1 \\\\ 0.5 \\end{array} \\right).$$\n",
    "Expected output: False"
   ]
  },
  {
   "cell_type": "code",
   "execution_count": null,
   "id": "2d787438",
   "metadata": {},
   "outputs": [],
   "source": [
    "\n",
    "x = np.array([-1, 0.5])\n",
    "print(check_feasibility_for_x(matrix_a=A, vector_b=b, vector_x=x))\n"
   ]
  },
  {
   "cell_type": "markdown",
   "id": "663a351f",
   "metadata": {},
   "source": [
    "Plot the polyhedron"
   ]
  },
  {
   "cell_type": "code",
   "execution_count": null,
   "id": "2f8cdff1",
   "metadata": {},
   "outputs": [],
   "source": [
    "draw_polyhedron_canonical_form(\n",
    "    matrix_a=A, vector_b=b, points=[LabeledPoint(coordinates=x)]\n",
    ")\n"
   ]
  },
  {
   "cell_type": "markdown",
   "id": "0735aa68",
   "metadata": {},
   "source": [
    "## Point 3\n",
    "$$\\left( \\begin{array}{r} 0 \\\\ -0.5 \\end{array} \\right).$$\n",
    "Expected output: False"
   ]
  },
  {
   "cell_type": "code",
   "execution_count": null,
   "id": "fdc066a3",
   "metadata": {},
   "outputs": [],
   "source": [
    "\n",
    "x = np.array([0, -0.5])\n",
    "print(check_feasibility_for_x(matrix_a=A, vector_b=b, vector_x=x))\n"
   ]
  },
  {
   "cell_type": "markdown",
   "id": "4cdaa674",
   "metadata": {},
   "source": [
    "Plot the polyhedron"
   ]
  },
  {
   "cell_type": "code",
   "execution_count": null,
   "id": "6229c334",
   "metadata": {},
   "outputs": [],
   "source": [
    "draw_polyhedron_canonical_form(\n",
    "    matrix_a=A, vector_b=b, points=[LabeledPoint(coordinates=x)]\n",
    ")\n"
   ]
  },
  {
   "cell_type": "markdown",
   "id": "140d790f",
   "metadata": {},
   "source": [
    "## Point 4\n",
    "$$\\left( \\begin{array}{r} 0.6 \\\\ 0.5 \\end{array} \\right).$$\n",
    "Expected output: False"
   ]
  },
  {
   "cell_type": "code",
   "execution_count": null,
   "id": "1c48716b",
   "metadata": {},
   "outputs": [],
   "source": [
    "\n",
    "x = np.array([0.6, 0.5])\n",
    "print(check_feasibility_for_x(matrix_a=A, vector_b=b, vector_x=x))\n"
   ]
  },
  {
   "cell_type": "markdown",
   "id": "71e2e93c",
   "metadata": {},
   "source": [
    "Plot the polyhedron"
   ]
  },
  {
   "cell_type": "code",
   "execution_count": null,
   "id": "51a5c883",
   "metadata": {},
   "outputs": [],
   "source": [
    "draw_polyhedron_canonical_form(\n",
    "    matrix_a=A, vector_b=b, points=[LabeledPoint(coordinates=x)]\n",
    ")\n"
   ]
  },
  {
   "cell_type": "markdown",
   "id": "281ecfce",
   "metadata": {},
   "source": [
    "## Point 5\n",
    "$$\\left( \\begin{array}{r} 0.4 \\\\ 0.6 \\end{array} \\right).$$\n",
    "Expected output: True"
   ]
  },
  {
   "cell_type": "code",
   "execution_count": null,
   "id": "19b8eb80",
   "metadata": {},
   "outputs": [],
   "source": [
    "x = np.array([0.4, 0.6])\n",
    "print(check_feasibility_for_x(matrix_a=A, vector_b=b, vector_x=x))\n"
   ]
  },
  {
   "cell_type": "markdown",
   "id": "2d94364e",
   "metadata": {},
   "source": [
    "Plot the polyhedron"
   ]
  },
  {
   "cell_type": "code",
   "execution_count": null,
   "id": "e3170a80",
   "metadata": {},
   "outputs": [],
   "source": [
    "draw_polyhedron_canonical_form(\n",
    "    matrix_a=A, vector_b=b, points=[LabeledPoint(coordinates=x)]\n",
    ")"
   ]
  }
 ],
 "metadata": {},
 "nbformat": 4,
 "nbformat_minor": 5
}

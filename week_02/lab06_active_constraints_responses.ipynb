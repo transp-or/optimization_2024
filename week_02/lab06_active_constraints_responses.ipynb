{
 "cells": [
  {
   "cell_type": "markdown",
   "id": "76c7203f",
   "metadata": {},
   "source": [
    "# Active constraints\n",
    "\n",
    "## Introduction to optimization and operations research.\n",
    "\n",
    "Michel Bierlaire\n"
   ]
  },
  {
   "cell_type": "code",
   "execution_count": null,
   "id": "166e1686",
   "metadata": {},
   "outputs": [],
   "source": [
    "\n",
    "import numpy as np\n",
    "\n"
   ]
  },
  {
   "cell_type": "markdown",
   "id": "0c9b8cda",
   "metadata": {},
   "source": [
    "Consider the following linear optimization problem:\n",
    "\\begin{align*}\n",
    "& \\min_{x \\in \\mathbb{R}^2} 2 x_1 + x_2 \\\\\n",
    "\\text{subject to} & \\\\\n",
    "& x_1 + x_2 \\geq 3, \\\\\n",
    "& x_1 + 2 x_2 \\leq 6, \\\\\n",
    "& x_1 \\geq 1, \\\\\n",
    "& x_2 \\geq 1.\n",
    "\\end{align*}\n"
   ]
  },
  {
   "cell_type": "markdown",
   "id": "e942d5ac",
   "metadata": {},
   "source": [
    "For each constraint, implement a function that checks if it is verified by a point $x=(x_1, x_2)$, and another one\n",
    "that verifies if it is active at a pont $x$."
   ]
  },
  {
   "cell_type": "markdown",
   "id": "6e82438d",
   "metadata": {},
   "source": [
    "Remember that, in Python, the arrays are numbered starting from 0 and not 1"
   ]
  },
  {
   "cell_type": "markdown",
   "id": "b97988a9",
   "metadata": {},
   "source": [
    "First constraint"
   ]
  },
  {
   "cell_type": "markdown",
   "id": "b7d1051c",
   "metadata": {},
   "source": [
    "Feasible?"
   ]
  },
  {
   "cell_type": "code",
   "execution_count": null,
   "id": "78711b97",
   "metadata": {},
   "outputs": [],
   "source": [
    "def is_c1_feasible(x: np.array) -> bool:\n",
    "    \"\"\"Check of the first constraint is feasible\"\"\"\n",
    "    x_1 = x[0]\n",
    "    x_2 = x[1]\n",
    "    return x_1 + x_2 >= 3\n",
    "\n"
   ]
  },
  {
   "cell_type": "markdown",
   "id": "ef6d8876",
   "metadata": {},
   "source": [
    "Active?"
   ]
  },
  {
   "cell_type": "code",
   "execution_count": null,
   "id": "6a67afa3",
   "metadata": {},
   "outputs": [],
   "source": [
    "def is_c1_active(x: np.array) -> bool:\n",
    "    \"\"\"Check of the first constraint is feasible\"\"\"\n",
    "    x_1 = x[0]\n",
    "    x_2 = x[1]\n",
    "    return x_1 + x_2 == 3\n",
    "\n"
   ]
  },
  {
   "cell_type": "markdown",
   "id": "495846d5",
   "metadata": {},
   "source": [
    "Second constraint"
   ]
  },
  {
   "cell_type": "markdown",
   "id": "371b259c",
   "metadata": {},
   "source": [
    "Feasible?"
   ]
  },
  {
   "cell_type": "code",
   "execution_count": null,
   "id": "ecfb591c",
   "metadata": {},
   "outputs": [],
   "source": [
    "def is_c2_feasible(x: np.array) -> bool:\n",
    "    \"\"\"Check of the first constraint is feasible\"\"\"\n",
    "    x_1 = x[0]\n",
    "    x_2 = x[1]\n",
    "    return x_1 + 2 * x_2 <= 6\n",
    "\n"
   ]
  },
  {
   "cell_type": "markdown",
   "id": "7246c617",
   "metadata": {},
   "source": [
    "Active?"
   ]
  },
  {
   "cell_type": "code",
   "execution_count": null,
   "id": "9ea47698",
   "metadata": {},
   "outputs": [],
   "source": [
    "def is_c2_active(x: np.array) -> bool:\n",
    "    \"\"\"Check of the first constraint is feasible\"\"\"\n",
    "    x_1 = x[0]\n",
    "    x_2 = x[1]\n",
    "    return x_1 + 2 * x_2 == 6\n",
    "\n"
   ]
  },
  {
   "cell_type": "markdown",
   "id": "18182046",
   "metadata": {},
   "source": [
    "Third constraint"
   ]
  },
  {
   "cell_type": "markdown",
   "id": "9c58657e",
   "metadata": {},
   "source": [
    "Feasible?"
   ]
  },
  {
   "cell_type": "code",
   "execution_count": null,
   "id": "ecdb9fe3",
   "metadata": {},
   "outputs": [],
   "source": [
    "def is_c3_feasible(x: np.array) -> bool:\n",
    "    \"\"\"Check of the first constraint is feasible\"\"\"\n",
    "    x_1 = x[0]\n",
    "    return x_1 >= 1\n",
    "\n"
   ]
  },
  {
   "cell_type": "markdown",
   "id": "bf3ab701",
   "metadata": {},
   "source": [
    "Active?"
   ]
  },
  {
   "cell_type": "code",
   "execution_count": null,
   "id": "f6b452b3",
   "metadata": {},
   "outputs": [],
   "source": [
    "def is_c3_active(x: np.array) -> bool:\n",
    "    \"\"\"Check of the first constraint is feasible\"\"\"\n",
    "    x_1 = x[0]\n",
    "    return x_1 == 1\n",
    "\n"
   ]
  },
  {
   "cell_type": "markdown",
   "id": "5652a849",
   "metadata": {},
   "source": [
    "Fourth constraint"
   ]
  },
  {
   "cell_type": "markdown",
   "id": "f9a59cf7",
   "metadata": {},
   "source": [
    "Feasible?"
   ]
  },
  {
   "cell_type": "code",
   "execution_count": null,
   "id": "716f6669",
   "metadata": {},
   "outputs": [],
   "source": [
    "def is_c4_feasible(x: np.array) -> bool:\n",
    "    \"\"\"Check of the first constraint is feasible\"\"\"\n",
    "    x_2 = x[1]\n",
    "    return x_2 >= 1\n",
    "\n"
   ]
  },
  {
   "cell_type": "markdown",
   "id": "3295bd53",
   "metadata": {},
   "source": [
    "Active?"
   ]
  },
  {
   "cell_type": "code",
   "execution_count": null,
   "id": "b9b3d021",
   "metadata": {},
   "outputs": [],
   "source": [
    "def is_c4_active(x: np.array) -> bool:\n",
    "    \"\"\"Check of the first constraint is feasible\"\"\"\n",
    "    x_2 = x[1]\n",
    "    return x_2 == 1\n",
    "\n"
   ]
  },
  {
   "cell_type": "markdown",
   "id": "83826a8b",
   "metadata": {},
   "source": [
    "Use the functions defined above to answer the following questions."
   ]
  },
  {
   "cell_type": "markdown",
   "id": "153d583c",
   "metadata": {},
   "source": [
    "Does the solution $x_1^* = 1$, $x_2^* = 2$ verify all the constraints of the problem?"
   ]
  },
  {
   "cell_type": "code",
   "execution_count": null,
   "id": "68e1fd18",
   "metadata": {},
   "outputs": [],
   "source": [
    "x_star = np.array([1, 2])\n",
    "is_feasible = (\n",
    "    is_c1_feasible(x_star)\n",
    "    and is_c2_feasible(x_star)\n",
    "    and is_c3_feasible(x_star)\n",
    "    and is_c4_feasible(x_star)\n",
    ")\n"
   ]
  },
  {
   "cell_type": "markdown",
   "id": "07994e6f",
   "metadata": {},
   "source": [
    "Solution: True"
   ]
  },
  {
   "cell_type": "code",
   "execution_count": null,
   "id": "67755b35",
   "metadata": {},
   "outputs": [],
   "source": [
    "print(f'Is the solution feasible? {is_feasible}')\n"
   ]
  },
  {
   "cell_type": "markdown",
   "id": "facd8c9d",
   "metadata": {},
   "source": [
    "Which constraints are active at $(x_1^*, x_2^*)$?"
   ]
  },
  {
   "cell_type": "markdown",
   "id": "2c37954f",
   "metadata": {},
   "source": [
    "Solution: True"
   ]
  },
  {
   "cell_type": "code",
   "execution_count": null,
   "id": "291b32dc",
   "metadata": {},
   "outputs": [],
   "source": [
    "c1_active = is_c1_active(x_star)\n",
    "print(f'Is constraint c1 active? {c1_active}')\n"
   ]
  },
  {
   "cell_type": "markdown",
   "id": "3930b0fb",
   "metadata": {},
   "source": [
    "Solution: False"
   ]
  },
  {
   "cell_type": "code",
   "execution_count": null,
   "id": "ac975016",
   "metadata": {},
   "outputs": [],
   "source": [
    "c2_active = is_c2_active(x_star)\n",
    "print(f'Is constraint c2 active? {c2_active}')\n"
   ]
  },
  {
   "cell_type": "markdown",
   "id": "c38546c4",
   "metadata": {},
   "source": [
    "Solution: True"
   ]
  },
  {
   "cell_type": "code",
   "execution_count": null,
   "id": "c107eae0",
   "metadata": {},
   "outputs": [],
   "source": [
    "c3_active = is_c3_active(x_star)\n",
    "print(f'Is constraint c3 active? {c3_active}')\n"
   ]
  },
  {
   "cell_type": "markdown",
   "id": "bd941133",
   "metadata": {},
   "source": [
    "Solution: False"
   ]
  },
  {
   "cell_type": "code",
   "execution_count": null,
   "id": "55359670",
   "metadata": {},
   "outputs": [],
   "source": [
    "c4_active = is_c4_active(x_star)\n",
    "print(f'Is constraint c4 active? {c4_active}')\n"
   ]
  },
  {
   "cell_type": "markdown",
   "id": "b762e0e3",
   "metadata": {},
   "source": [
    "Answer the same questions with $x_1^* = 2$, $x_2^* = 1.5$."
   ]
  },
  {
   "cell_type": "code",
   "execution_count": null,
   "id": "190131c0",
   "metadata": {},
   "outputs": [],
   "source": [
    "\n",
    "x_star = np.array([2, 1.5])\n",
    "is_feasible = (\n",
    "    is_c1_feasible(x_star)\n",
    "    and is_c2_feasible(x_star)\n",
    "    and is_c3_feasible(x_star)\n",
    "    and is_c4_feasible(x_star)\n",
    ")\n"
   ]
  },
  {
   "cell_type": "markdown",
   "id": "a30d9957",
   "metadata": {},
   "source": [
    "Solution: True"
   ]
  },
  {
   "cell_type": "code",
   "execution_count": null,
   "id": "5cc78c5b",
   "metadata": {},
   "outputs": [],
   "source": [
    "print(f'Is the solution feasible? {is_feasible}')\n"
   ]
  },
  {
   "cell_type": "markdown",
   "id": "9c10938a",
   "metadata": {},
   "source": [
    "Which constraints are active at $(x_1^*, x_2^*)$?"
   ]
  },
  {
   "cell_type": "markdown",
   "id": "7058f37e",
   "metadata": {},
   "source": [
    "Solution:_ False"
   ]
  },
  {
   "cell_type": "code",
   "execution_count": null,
   "id": "b115528a",
   "metadata": {},
   "outputs": [],
   "source": [
    "c1_active = is_c1_active(x_star)\n",
    "print(f'Is constraint c1 active? {c1_active}')\n"
   ]
  },
  {
   "cell_type": "markdown",
   "id": "066dd39d",
   "metadata": {},
   "source": [
    "Solution: False"
   ]
  },
  {
   "cell_type": "code",
   "execution_count": null,
   "id": "4183bca1",
   "metadata": {},
   "outputs": [],
   "source": [
    "c2_active = is_c2_active(x_star)\n",
    "print(f'Is constraint c2 active? {c2_active}')\n"
   ]
  },
  {
   "cell_type": "markdown",
   "id": "9cff19b5",
   "metadata": {},
   "source": [
    "Solution: False"
   ]
  },
  {
   "cell_type": "code",
   "execution_count": null,
   "id": "b199b122",
   "metadata": {},
   "outputs": [],
   "source": [
    "c3_active = is_c3_active(x_star)\n",
    "print(f'Is constraint c3 active? {c3_active}')\n"
   ]
  },
  {
   "cell_type": "markdown",
   "id": "06d1468c",
   "metadata": {},
   "source": [
    "Solution: False"
   ]
  },
  {
   "cell_type": "code",
   "execution_count": null,
   "id": "ce913a93",
   "metadata": {},
   "outputs": [],
   "source": [
    "c4_active = is_c4_active(x_star)\n",
    "print(f'Is constraint c4 active? {c4_active}')\n",
    "\n"
   ]
  },
  {
   "cell_type": "markdown",
   "id": "934773e5",
   "metadata": {},
   "source": [
    "Answer the same questions with $x_1^* = 1$, $x_2^* = 1$."
   ]
  },
  {
   "cell_type": "code",
   "execution_count": null,
   "id": "d2415024",
   "metadata": {},
   "outputs": [],
   "source": [
    "x_star = np.array([1, 1])\n",
    "is_feasible = (\n",
    "    is_c1_feasible(x_star)\n",
    "    and is_c2_feasible(x_star)\n",
    "    and is_c3_feasible(x_star)\n",
    "    and is_c4_feasible(x_star)\n",
    ")\n"
   ]
  },
  {
   "cell_type": "markdown",
   "id": "c3b7f846",
   "metadata": {},
   "source": [
    "Solution: False"
   ]
  },
  {
   "cell_type": "code",
   "execution_count": null,
   "id": "0ed85dc0",
   "metadata": {},
   "outputs": [],
   "source": [
    "print(f'Is the solution feasible? {is_feasible}')\n"
   ]
  },
  {
   "cell_type": "markdown",
   "id": "176ce3c1",
   "metadata": {},
   "source": [
    "Which constraints are active at $(x_1^*, x_2^*)$?"
   ]
  },
  {
   "cell_type": "markdown",
   "id": "f876aa45",
   "metadata": {},
   "source": [
    "Solution: False"
   ]
  },
  {
   "cell_type": "code",
   "execution_count": null,
   "id": "79b77346",
   "metadata": {},
   "outputs": [],
   "source": [
    "c1_active = is_c1_active(x_star)\n",
    "print(f'Is constraint c1 active? {c1_active}')\n"
   ]
  },
  {
   "cell_type": "markdown",
   "id": "5022c461",
   "metadata": {},
   "source": [
    "Solution: False"
   ]
  },
  {
   "cell_type": "code",
   "execution_count": null,
   "id": "379c6670",
   "metadata": {},
   "outputs": [],
   "source": [
    "c2_active = is_c2_active(x_star)\n",
    "print(f'Is constraint c2 active? {c2_active}')\n"
   ]
  },
  {
   "cell_type": "markdown",
   "id": "7ab4f6f2",
   "metadata": {},
   "source": [
    "Solution: True"
   ]
  },
  {
   "cell_type": "code",
   "execution_count": null,
   "id": "58e3db28",
   "metadata": {},
   "outputs": [],
   "source": [
    "c3_active = is_c3_active(x_star)\n",
    "print(f'Is constraint c3 active? {c3_active}')\n"
   ]
  },
  {
   "cell_type": "markdown",
   "id": "88459f23",
   "metadata": {},
   "source": [
    "Solution: True"
   ]
  },
  {
   "cell_type": "code",
   "execution_count": null,
   "id": "94201399",
   "metadata": {},
   "outputs": [],
   "source": [
    "c4_active = is_c4_active(x_star)\n",
    "print(f'Is constraint c4 active? {c4_active}')"
   ]
  }
 ],
 "metadata": {},
 "nbformat": 4,
 "nbformat_minor": 5
}

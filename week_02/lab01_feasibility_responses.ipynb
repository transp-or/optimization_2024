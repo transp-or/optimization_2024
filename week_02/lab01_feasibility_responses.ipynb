{
 "cells": [
  {
   "cell_type": "markdown",
   "id": "20b0a0ff",
   "metadata": {},
   "source": [
    "# Feasibility\n",
    "\n",
    "## Introduction to optimization and operations research\n",
    "\n",
    "Michel Bierlaire\n"
   ]
  },
  {
   "cell_type": "code",
   "execution_count": null,
   "id": "9e136c1a",
   "metadata": {},
   "outputs": [],
   "source": [
    "\n",
    "import numpy as np\n",
    "from teaching_optimization.linear_constraints import (\n",
    "    AllConstraints,\n",
    "    draw_polyhedron_canonical_form,\n",
    "    LabeledPoint,\n",
    ")\n",
    "\n"
   ]
  },
  {
   "cell_type": "markdown",
   "id": "6bc93e06",
   "metadata": {},
   "source": [
    "In $\\mathbb{R}^2$, we are interested in points in the non-negative orthant such that the sum of their\n",
    "coordinates is lesser or equal to 1. They form a polyhedron\n",
    "\n",
    "$$\\{x \\in \\mathbb{R}^2 | Ax \\leq b\\}.$$\n"
   ]
  },
  {
   "cell_type": "markdown",
   "id": "c18b4bbb",
   "metadata": {},
   "source": [
    "# Question 1.\n",
    "What are the matrix $A$ and the vector $b$ for this case?\n",
    "\n",
    "## Solution:\n",
    "Feasible points must verify the following constraints:\n",
    "\n",
    "$$\\begin{align}\n",
    "x_1 &\\geq 0, \\\\\n",
    "x_2 &\\geq 0, \\\\\n",
    "x_1 +x_2&\\leq 1, \\\\\n",
    "\\end{align}$$\n",
    "\n",
    "or, equivalently,\n",
    "\n",
    "$$\\begin{align}\n",
    "-x_1 &\\leq 0, \\\\\n",
    "-x_2 &\\leq 0, \\\\\n",
    "x_1 +x_2&\\leq 1, \\\\\n",
    "\\end{align}$$\n",
    "\n",
    "Therefore, we have\n",
    "\n",
    "$$A = \\left(\\begin{array}{rr} -1 & 0 \\\\ 0 & -1 \\\\ 1 & 1\\end{array}\\right),\n",
    "b = \\left(\\begin{array}{r} 0 \\\\ 0  \\\\ 1\\end{array}\\right).$$"
   ]
  },
  {
   "cell_type": "code",
   "execution_count": null,
   "id": "efccc3cc",
   "metadata": {},
   "outputs": [],
   "source": [
    "\n",
    "\n",
    "A = np.array([[-1, 0], [0, -1], [1, 1]])\n",
    "b = np.array([0, 0, 1])\n"
   ]
  },
  {
   "cell_type": "markdown",
   "id": "304a8e81",
   "metadata": {},
   "source": [
    "We create the polyhedron object."
   ]
  },
  {
   "cell_type": "code",
   "execution_count": null,
   "id": "8f9b13b2",
   "metadata": {},
   "outputs": [],
   "source": [
    "polyhedron = AllConstraints.from_canonical_form(matrix=A, vector=b)\n",
    "print(polyhedron)\n"
   ]
  },
  {
   "cell_type": "markdown",
   "id": "ccc517eb",
   "metadata": {},
   "source": [
    "Plot the polyhedron"
   ]
  },
  {
   "cell_type": "code",
   "execution_count": null,
   "id": "9672652e",
   "metadata": {},
   "outputs": [],
   "source": [
    "draw_polyhedron_canonical_form(\n",
    "    matrix_a=A,\n",
    "    vector_b=b,\n",
    ")\n"
   ]
  },
  {
   "cell_type": "markdown",
   "id": "0b45f75c",
   "metadata": {},
   "source": [
    "# Question 2.\n",
    "Write a Python function that establishes if a point is feasible or not.\n",
    "We recommend to consider the `numpy` function\n",
    "[`all`](https://numpy.org/doc/stable/reference/generated/numpy.all.html)"
   ]
  },
  {
   "cell_type": "code",
   "execution_count": null,
   "id": "2ddda640",
   "metadata": {},
   "outputs": [],
   "source": [
    "\n",
    "\n",
    "def check_feasibility_for_x(\n",
    "    matrix_a: np.ndarray, vector_b: np.ndarray, vector_x: np.ndarray\n",
    ") -> bool:\n",
    "    \"\"\"Verifies if point belongs to the the_polyhedron defined by matrix_a and vector_b\n",
    "\n",
    "    :param matrix_a: matrix of the the_polyhedron.\n",
    "    :param vector_b: right hand side of the the_polyhedron.\n",
    "    :param vector_x: vector to check.\n",
    "    :return: True if feasible. False otherwise.\n",
    "    \"\"\"\n",
    "    n_variables = len(vector_x)\n",
    "    n_constraints = len(vector_b)\n",
    "    n_rows, n_columns = matrix_a.shape\n",
    "    if n_rows != n_constraints:\n",
    "        error_msg = (\n",
    "            f'Incompatible dimensions. {n_rows} rows for the matrix, '\n",
    "            f'{n_constraints} element for the right hand side'\n",
    "        )\n",
    "        raise ValueError(error_msg)\n",
    "    if n_columns != n_variables:\n",
    "        error_msg = (\n",
    "            f'Incompatible dimensions. {n_columns} columns for the matrix, '\n",
    "            f'{n_variables} rows for vector_x'\n",
    "        )\n",
    "        raise ValueError(error_msg)\n",
    "    return np.all(matrix_a @ vector_x <= vector_b)\n",
    "\n"
   ]
  },
  {
   "cell_type": "markdown",
   "id": "42d3a762",
   "metadata": {},
   "source": [
    "# Question 3.\n",
    "Test it on the following points:"
   ]
  },
  {
   "cell_type": "markdown",
   "id": "b21c5cd2",
   "metadata": {},
   "source": [
    "## Point 1\n",
    "$$\\left( \\begin{array}{r} 0 \\\\ 0 \\end{array} \\right).$$\n",
    "Expected output: True"
   ]
  },
  {
   "cell_type": "code",
   "execution_count": null,
   "id": "53ee80f0",
   "metadata": {},
   "outputs": [],
   "source": [
    "\n",
    "x = np.array([0, 0])\n",
    "print(check_feasibility_for_x(matrix_a=A, vector_b=b, vector_x=x))\n",
    "\n"
   ]
  },
  {
   "cell_type": "markdown",
   "id": "eeb536a0",
   "metadata": {},
   "source": [
    "Plot the polyhedron"
   ]
  },
  {
   "cell_type": "code",
   "execution_count": null,
   "id": "e3f524fd",
   "metadata": {},
   "outputs": [],
   "source": [
    "draw_polyhedron_canonical_form(\n",
    "    matrix_a=A, vector_b=b, points=[LabeledPoint(coordinates=x)]\n",
    ")\n",
    "\n"
   ]
  },
  {
   "cell_type": "markdown",
   "id": "1fcc1e4f",
   "metadata": {},
   "source": [
    "## Point 2\n",
    "$$\\left( \\begin{array}{r} -1 \\\\ 0.5 \\end{array} \\right).$$\n",
    "Expected output: False"
   ]
  },
  {
   "cell_type": "code",
   "execution_count": null,
   "id": "ee8549bd",
   "metadata": {},
   "outputs": [],
   "source": [
    "\n",
    "x = np.array([-1, 0.5])\n",
    "print(check_feasibility_for_x(matrix_a=A, vector_b=b, vector_x=x))\n"
   ]
  },
  {
   "cell_type": "markdown",
   "id": "7f868a17",
   "metadata": {},
   "source": [
    "Plot the polyhedron"
   ]
  },
  {
   "cell_type": "code",
   "execution_count": null,
   "id": "bb81dafd",
   "metadata": {},
   "outputs": [],
   "source": [
    "draw_polyhedron_canonical_form(\n",
    "    matrix_a=A, vector_b=b, points=[LabeledPoint(coordinates=x)]\n",
    ")\n"
   ]
  },
  {
   "cell_type": "markdown",
   "id": "54032388",
   "metadata": {},
   "source": [
    "## Point 3\n",
    "$$\\left( \\begin{array}{r} 0 \\\\ -0.5 \\end{array} \\right).$$\n",
    "Expected output: False"
   ]
  },
  {
   "cell_type": "code",
   "execution_count": null,
   "id": "64a80ac1",
   "metadata": {},
   "outputs": [],
   "source": [
    "\n",
    "x = np.array([0, -0.5])\n",
    "print(check_feasibility_for_x(matrix_a=A, vector_b=b, vector_x=x))\n"
   ]
  },
  {
   "cell_type": "markdown",
   "id": "66abcacc",
   "metadata": {},
   "source": [
    "Plot the polyhedron"
   ]
  },
  {
   "cell_type": "code",
   "execution_count": null,
   "id": "43e32735",
   "metadata": {},
   "outputs": [],
   "source": [
    "draw_polyhedron_canonical_form(\n",
    "    matrix_a=A, vector_b=b, points=[LabeledPoint(coordinates=x)]\n",
    ")\n"
   ]
  },
  {
   "cell_type": "markdown",
   "id": "655f9ab5",
   "metadata": {},
   "source": [
    "## Point 4\n",
    "$$\\left( \\begin{array}{r} 0.6 \\\\ 0.5 \\end{array} \\right).$$\n",
    "Expected output: False"
   ]
  },
  {
   "cell_type": "code",
   "execution_count": null,
   "id": "1bd100f5",
   "metadata": {},
   "outputs": [],
   "source": [
    "\n",
    "x = np.array([0.6, 0.5])\n",
    "print(check_feasibility_for_x(matrix_a=A, vector_b=b, vector_x=x))\n"
   ]
  },
  {
   "cell_type": "markdown",
   "id": "913c7228",
   "metadata": {},
   "source": [
    "Plot the polyhedron"
   ]
  },
  {
   "cell_type": "code",
   "execution_count": null,
   "id": "d1a303a2",
   "metadata": {},
   "outputs": [],
   "source": [
    "draw_polyhedron_canonical_form(\n",
    "    matrix_a=A, vector_b=b, points=[LabeledPoint(coordinates=x)]\n",
    ")\n"
   ]
  },
  {
   "cell_type": "markdown",
   "id": "2d928c52",
   "metadata": {},
   "source": [
    "## Point 5\n",
    "$$\\left( \\begin{array}{r} 0.4 \\\\ 0.6 \\end{array} \\right).$$\n",
    "Expected output: True"
   ]
  },
  {
   "cell_type": "code",
   "execution_count": null,
   "id": "6710b815",
   "metadata": {},
   "outputs": [],
   "source": [
    "x = np.array([0.4, 0.6])\n",
    "print(check_feasibility_for_x(matrix_a=A, vector_b=b, vector_x=x))\n"
   ]
  },
  {
   "cell_type": "markdown",
   "id": "cd93d651",
   "metadata": {},
   "source": [
    "Plot the polyhedron"
   ]
  },
  {
   "cell_type": "code",
   "execution_count": null,
   "id": "12025007",
   "metadata": {},
   "outputs": [],
   "source": [
    "draw_polyhedron_canonical_form(\n",
    "    matrix_a=A, vector_b=b, points=[LabeledPoint(coordinates=x)]\n",
    ")"
   ]
  }
 ],
 "metadata": {},
 "nbformat": 4,
 "nbformat_minor": 5
}

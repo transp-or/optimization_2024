{
 "cells": [
  {
   "cell_type": "markdown",
   "id": "984de55d",
   "metadata": {},
   "source": [
    "# Active constraints\n",
    "\n",
    "## Introduction to optimization and operations research.\n",
    "\n",
    "Michel Bierlaire\n"
   ]
  },
  {
   "cell_type": "code",
   "execution_count": null,
   "id": "2ac64891",
   "metadata": {},
   "outputs": [],
   "source": [
    "\n",
    "import numpy as np\n",
    "\n"
   ]
  },
  {
   "cell_type": "markdown",
   "id": "009a82b3",
   "metadata": {},
   "source": [
    "Consider the following linear optimization problem:\n",
    "\\begin{align*}\n",
    "& \\min_{x \\in \\mathbb{R}^2} 2 x_1 + x_2 \\\\\n",
    "\\text{subject to} & \\\\\n",
    "& x_1 + x_2 \\geq 3, \\\\\n",
    "& x_1 + 2 x_2 \\leq 6, \\\\\n",
    "& x_1 \\geq 1, \\\\\n",
    "& x_2 \\geq 1.\n",
    "\\end{align*}\n"
   ]
  },
  {
   "cell_type": "markdown",
   "id": "452a129e",
   "metadata": {},
   "source": [
    "For each constraint, implement a function that checks if it is verified by a point $x=(x_1, x_2)$, and another one\n",
    "that verifies if it is active at a pont $x$."
   ]
  },
  {
   "cell_type": "markdown",
   "id": "552fc22f",
   "metadata": {},
   "source": [
    "Remember that, in Python, the arrays are numbered starting from 0 and not 1"
   ]
  },
  {
   "cell_type": "markdown",
   "id": "3f77eb21",
   "metadata": {},
   "source": [
    "First constraint"
   ]
  },
  {
   "cell_type": "markdown",
   "id": "f29f3c71",
   "metadata": {},
   "source": [
    "Feasible?"
   ]
  },
  {
   "cell_type": "code",
   "execution_count": null,
   "id": "27dd787a",
   "metadata": {},
   "outputs": [],
   "source": [
    "def is_c1_feasible(x: np.array) -> bool:\n",
    "    \"\"\"Check of the first constraint is feasible\"\"\"\n",
    "    x_1 = x[0]\n",
    "    x_2 = x[1]\n",
    "    return ????\n",
    "\n"
   ]
  },
  {
   "cell_type": "markdown",
   "id": "59a89fad",
   "metadata": {},
   "source": [
    "Active?"
   ]
  },
  {
   "cell_type": "code",
   "execution_count": null,
   "id": "54c2ca18",
   "metadata": {},
   "outputs": [],
   "source": [
    "def is_c1_active(x: np.array) -> bool:\n",
    "    \"\"\"Check of the first constraint is feasible\"\"\"\n",
    "    x_1 = x[0]\n",
    "    x_2 = x[1]\n",
    "    return ????\n",
    "\n"
   ]
  },
  {
   "cell_type": "markdown",
   "id": "ff833b65",
   "metadata": {},
   "source": [
    "Second constraint"
   ]
  },
  {
   "cell_type": "markdown",
   "id": "1e2f0eb1",
   "metadata": {},
   "source": [
    "Feasible?"
   ]
  },
  {
   "cell_type": "code",
   "execution_count": null,
   "id": "a8e277b9",
   "metadata": {},
   "outputs": [],
   "source": [
    "def is_c2_feasible(x: np.array) -> bool:\n",
    "    \"\"\"Check of the first constraint is feasible\"\"\"\n",
    "    x_1 = x[0]\n",
    "    x_2 = x[1]\n",
    "    return ????\n",
    "\n"
   ]
  },
  {
   "cell_type": "markdown",
   "id": "7b0a865d",
   "metadata": {},
   "source": [
    "Active?"
   ]
  },
  {
   "cell_type": "code",
   "execution_count": null,
   "id": "3b178092",
   "metadata": {},
   "outputs": [],
   "source": [
    "def is_c2_active(x: np.array) -> bool:\n",
    "    \"\"\"Check of the first constraint is feasible\"\"\"\n",
    "    x_1 = x[0]\n",
    "    x_2 = x[1]\n",
    "     return ????\n",
    "\n"
   ]
  },
  {
   "cell_type": "markdown",
   "id": "9957971b",
   "metadata": {},
   "source": [
    "Third constraint"
   ]
  },
  {
   "cell_type": "markdown",
   "id": "addf8fa1",
   "metadata": {},
   "source": [
    "Feasible?"
   ]
  },
  {
   "cell_type": "code",
   "execution_count": null,
   "id": "1da92047",
   "metadata": {},
   "outputs": [],
   "source": [
    "def is_c3_feasible(x: np.array) -> bool:\n",
    "    \"\"\"Check of the first constraint is feasible\"\"\"\n",
    "    x_1 = x[0]\n",
    "    return ????\n",
    "\n"
   ]
  },
  {
   "cell_type": "markdown",
   "id": "9cbceda9",
   "metadata": {},
   "source": [
    "Active?"
   ]
  },
  {
   "cell_type": "code",
   "execution_count": null,
   "id": "26ae8084",
   "metadata": {},
   "outputs": [],
   "source": [
    "def is_c3_active(x: np.array) -> bool:\n",
    "    \"\"\"Check of the first constraint is feasible\"\"\"\n",
    "    x_1 = x[0]\n",
    "    return ????\n",
    "\n"
   ]
  },
  {
   "cell_type": "markdown",
   "id": "7883449d",
   "metadata": {},
   "source": [
    "Fourth constraint"
   ]
  },
  {
   "cell_type": "markdown",
   "id": "a89148dc",
   "metadata": {},
   "source": [
    "Feasible?"
   ]
  },
  {
   "cell_type": "code",
   "execution_count": null,
   "id": "1b273211",
   "metadata": {},
   "outputs": [],
   "source": [
    "def is_c4_feasible(x: np.array) -> bool:\n",
    "    \"\"\"Check of the first constraint is feasible\"\"\"\n",
    "    x_2 = x[1]\n",
    "    return ????\n",
    "\n"
   ]
  },
  {
   "cell_type": "markdown",
   "id": "bde696a2",
   "metadata": {},
   "source": [
    "Active?"
   ]
  },
  {
   "cell_type": "code",
   "execution_count": null,
   "id": "05be2262",
   "metadata": {},
   "outputs": [],
   "source": [
    "def is_c4_active(x: np.array) -> bool:\n",
    "    \"\"\"Check of the first constraint is feasible\"\"\"\n",
    "    x_2 = x[1]\n",
    "    return ????\n",
    "\n"
   ]
  },
  {
   "cell_type": "markdown",
   "id": "68a1d227",
   "metadata": {},
   "source": [
    "Use the functions defined above to answer the following questions."
   ]
  },
  {
   "cell_type": "markdown",
   "id": "404b426e",
   "metadata": {},
   "source": [
    "Does the solution $x_1^* = 1$, $x_2^* = 2$ verify all the constraints of the problem?"
   ]
  },
  {
   "cell_type": "code",
   "execution_count": null,
   "id": "fc82e78e",
   "metadata": {},
   "outputs": [],
   "source": [
    "\n",
    "is_feasible = ????\n",
    "\n",
    "\n",
    "\n",
    "\n",
    "\n"
   ]
  },
  {
   "cell_type": "markdown",
   "id": "107071cb",
   "metadata": {},
   "source": [
    "Solution: True"
   ]
  },
  {
   "cell_type": "code",
   "execution_count": null,
   "id": "f646a9f8",
   "metadata": {},
   "outputs": [],
   "source": [
    "print(f'Is the solution feasible? {is_feasible}')\n"
   ]
  },
  {
   "cell_type": "markdown",
   "id": "13a0e044",
   "metadata": {},
   "source": [
    "Which constraints are active at $(x_1^*, x_2^*)$?"
   ]
  },
  {
   "cell_type": "markdown",
   "id": "7b00f0ca",
   "metadata": {},
   "source": [
    "Solution: True"
   ]
  },
  {
   "cell_type": "code",
   "execution_count": null,
   "id": "b667d3d8",
   "metadata": {},
   "outputs": [],
   "source": [
    "c1_active = ????\n",
    "print(f'Is constraint c1 active? {c1_active}')\n"
   ]
  },
  {
   "cell_type": "markdown",
   "id": "51556310",
   "metadata": {},
   "source": [
    "Solution: False"
   ]
  },
  {
   "cell_type": "code",
   "execution_count": null,
   "id": "6d5203f5",
   "metadata": {},
   "outputs": [],
   "source": [
    "c2_active = ????\n",
    "print(f'Is constraint c2 active? {c2_active}')\n"
   ]
  },
  {
   "cell_type": "markdown",
   "id": "7ae88d77",
   "metadata": {},
   "source": [
    "Solution: True"
   ]
  },
  {
   "cell_type": "code",
   "execution_count": null,
   "id": "48312c02",
   "metadata": {},
   "outputs": [],
   "source": [
    "c3_active = ????\n",
    "print(f'Is constraint c3 active? {c3_active}')\n"
   ]
  },
  {
   "cell_type": "markdown",
   "id": "b2b1eb48",
   "metadata": {},
   "source": [
    "Solution: False"
   ]
  },
  {
   "cell_type": "code",
   "execution_count": null,
   "id": "87c1171e",
   "metadata": {},
   "outputs": [],
   "source": [
    "c4_active = ????\n",
    "print(f'Is constraint c4 active? {c4_active}')\n"
   ]
  },
  {
   "cell_type": "markdown",
   "id": "aa29fc99",
   "metadata": {},
   "source": [
    "Answer the same questions with $x_1^* = 2$, $x_2^* = 1.5$."
   ]
  },
  {
   "cell_type": "code",
   "execution_count": null,
   "id": "087f6f6a",
   "metadata": {},
   "outputs": [],
   "source": [
    "\n",
    "\n",
    "is_feasible = ????\n",
    "\n",
    "\n",
    "\n",
    "\n",
    "\n"
   ]
  },
  {
   "cell_type": "markdown",
   "id": "bfcff999",
   "metadata": {},
   "source": [
    "Solution: True"
   ]
  },
  {
   "cell_type": "code",
   "execution_count": null,
   "id": "47c1af27",
   "metadata": {},
   "outputs": [],
   "source": [
    "print(f'Is the solution feasible? {is_feasible}')\n"
   ]
  },
  {
   "cell_type": "markdown",
   "id": "918e2ce2",
   "metadata": {},
   "source": [
    "Which constraints are active at $(x_1^*, x_2^*)$?"
   ]
  },
  {
   "cell_type": "markdown",
   "id": "fe5fe340",
   "metadata": {},
   "source": [
    "Solution:_ False"
   ]
  },
  {
   "cell_type": "code",
   "execution_count": null,
   "id": "c39ada40",
   "metadata": {},
   "outputs": [],
   "source": [
    "c1_active = ????\n",
    "print(f'Is constraint c1 active? {c1_active}')\n"
   ]
  },
  {
   "cell_type": "markdown",
   "id": "251f1fb7",
   "metadata": {},
   "source": [
    "Solution: False"
   ]
  },
  {
   "cell_type": "code",
   "execution_count": null,
   "id": "700e34b7",
   "metadata": {},
   "outputs": [],
   "source": [
    "c2_active = ????\n",
    "print(f'Is constraint c2 active? {c2_active}')\n"
   ]
  },
  {
   "cell_type": "markdown",
   "id": "067ed7a4",
   "metadata": {},
   "source": [
    "Solution: False"
   ]
  },
  {
   "cell_type": "code",
   "execution_count": null,
   "id": "c01f52b5",
   "metadata": {},
   "outputs": [],
   "source": [
    "c3_active = ????\n",
    "print(f'Is constraint c3 active? {c3_active}')\n"
   ]
  },
  {
   "cell_type": "markdown",
   "id": "9b2d23bf",
   "metadata": {},
   "source": [
    "Solution: False"
   ]
  },
  {
   "cell_type": "code",
   "execution_count": null,
   "id": "f28c33ad",
   "metadata": {},
   "outputs": [],
   "source": [
    "c4_active = ????\n",
    "print(f'Is constraint c4 active? {c4_active}')\n",
    "\n"
   ]
  },
  {
   "cell_type": "markdown",
   "id": "41dc68f8",
   "metadata": {},
   "source": [
    "Answer the same questions with $x_1^* = 1$, $x_2^* = 1$."
   ]
  },
  {
   "cell_type": "code",
   "execution_count": null,
   "id": "89946a2a",
   "metadata": {},
   "outputs": [],
   "source": [
    "\n",
    "is_feasible = ????\n",
    "\n",
    "\n",
    "\n",
    "\n",
    "\n"
   ]
  },
  {
   "cell_type": "markdown",
   "id": "51d533d4",
   "metadata": {},
   "source": [
    "Solution: False"
   ]
  },
  {
   "cell_type": "code",
   "execution_count": null,
   "id": "d390dea8",
   "metadata": {},
   "outputs": [],
   "source": [
    "print(f'Is the solution feasible? {is_feasible}')\n"
   ]
  },
  {
   "cell_type": "markdown",
   "id": "3809c327",
   "metadata": {},
   "source": [
    "Which constraints are active at $(x_1^*, x_2^*)$?"
   ]
  },
  {
   "cell_type": "markdown",
   "id": "b227caf4",
   "metadata": {},
   "source": [
    "Solution: False"
   ]
  },
  {
   "cell_type": "code",
   "execution_count": null,
   "id": "f5575293",
   "metadata": {},
   "outputs": [],
   "source": [
    "c1_active = ????\n",
    "print(f'Is constraint c1 active? {c1_active}')\n"
   ]
  },
  {
   "cell_type": "markdown",
   "id": "88accd77",
   "metadata": {},
   "source": [
    "Solution: False"
   ]
  },
  {
   "cell_type": "code",
   "execution_count": null,
   "id": "01d375d7",
   "metadata": {},
   "outputs": [],
   "source": [
    "c2_active = ????\n",
    "print(f'Is constraint c2 active? {c2_active}')\n"
   ]
  },
  {
   "cell_type": "markdown",
   "id": "b775f5bb",
   "metadata": {},
   "source": [
    "Solution: True"
   ]
  },
  {
   "cell_type": "code",
   "execution_count": null,
   "id": "2817c769",
   "metadata": {},
   "outputs": [],
   "source": [
    "c3_active = ????\n",
    "print(f'Is constraint c3 active? {c3_active}')\n"
   ]
  },
  {
   "cell_type": "markdown",
   "id": "d9fe2038",
   "metadata": {},
   "source": [
    "Solution: True"
   ]
  },
  {
   "cell_type": "code",
   "execution_count": null,
   "id": "f3e8ca9a",
   "metadata": {},
   "outputs": [],
   "source": [
    "c4_active = ????\n",
    "print(f'Is constraint c4 active? {c4_active}')"
   ]
  }
 ],
 "metadata": {},
 "nbformat": 4,
 "nbformat_minor": 5
}

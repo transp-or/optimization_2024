{
 "cells": [
  {
   "cell_type": "markdown",
   "id": "e713e4f7",
   "metadata": {},
   "source": [
    "# Flows and divergences\n",
    "\n",
    "## Introduction to optimization and operations research.\n",
    "\n",
    "Michel Bierlaire\n"
   ]
  },
  {
   "cell_type": "code",
   "execution_count": null,
   "id": "721f67b8",
   "metadata": {},
   "outputs": [],
   "source": [
    "\n",
    "import matplotlib.pyplot as plt\n",
    "import networkx as nx\n",
    "from matplotlib.patches import Rectangle\n",
    "from networkx.classes.digraph import DiGraph\n",
    "from teaching_optimization.networks.draw_network import draw_network\n"
   ]
  },
  {
   "cell_type": "markdown",
   "id": "fdbacb45",
   "metadata": {},
   "source": [
    "# Definition of the the_network"
   ]
  },
  {
   "cell_type": "markdown",
   "id": "d93f0306",
   "metadata": {},
   "source": [
    "Nodes:"
   ]
  },
  {
   "cell_type": "code",
   "execution_count": null,
   "id": "bdb70915",
   "metadata": {},
   "outputs": [],
   "source": [
    "nodes = ['n_1', 'n_2', 'n_3', 'n_4', 'n_5', 'n_6', 'n_7']\n"
   ]
  },
  {
   "cell_type": "markdown",
   "id": "e96b0f2e",
   "metadata": {},
   "source": [
    "We assign coordinates to nodes. This is used only for drawing."
   ]
  },
  {
   "cell_type": "code",
   "execution_count": null,
   "id": "ebfde3b7",
   "metadata": {},
   "outputs": [],
   "source": [
    "positions = {\n",
    "    'n_1': (-1, 0),\n",
    "    'n_2': (2, 3),\n",
    "    'n_3': (2, -3),\n",
    "    'n_4': (5, 3),\n",
    "    'n_5': (5, -3),\n",
    "    'n_6': (8, 3),\n",
    "    'n_7': (8, -3),\n",
    "}\n"
   ]
  },
  {
   "cell_type": "markdown",
   "id": "61b1bc7b",
   "metadata": {},
   "source": [
    "Arcs"
   ]
  },
  {
   "cell_type": "code",
   "execution_count": null,
   "id": "94e873ac",
   "metadata": {},
   "outputs": [],
   "source": [
    "arcs = [\n",
    "    ('n_1', 'n_2', 2.3),\n",
    "    ('n_1', 'n_3', 4),\n",
    "    ('n_2', 'n_3', -1),\n",
    "    ('n_3', 'n_5', 4.5),\n",
    "    ('n_2', 'n_4', 3),\n",
    "    ('n_4', 'n_2', -2.1),\n",
    "    ('n_4', 'n_5', -5),\n",
    "    ('n_5', 'n_4', -5),\n",
    "    ('n_6', 'n_7', 2.5),\n",
    "    ('n_7', 'n_6', 3),\n",
    "]\n"
   ]
  },
  {
   "cell_type": "markdown",
   "id": "b2a884f8",
   "metadata": {},
   "source": [
    "# Network object\n",
    "We create a directed graph:"
   ]
  },
  {
   "cell_type": "code",
   "execution_count": null,
   "id": "00a66d8c",
   "metadata": {},
   "outputs": [],
   "source": [
    "G: DiGraph = DiGraph()\n"
   ]
  },
  {
   "cell_type": "markdown",
   "id": "864a4b15",
   "metadata": {},
   "source": [
    "We add nodes with position attributes"
   ]
  },
  {
   "cell_type": "code",
   "execution_count": null,
   "id": "cf476daf",
   "metadata": {},
   "outputs": [],
   "source": [
    "for node in nodes:\n",
    "    G.add_node(node, pos=positions[node])\n"
   ]
  },
  {
   "cell_type": "markdown",
   "id": "1bf47d43",
   "metadata": {},
   "source": [
    "We add arcs with weights"
   ]
  },
  {
   "cell_type": "code",
   "execution_count": null,
   "id": "9c6bfe84",
   "metadata": {},
   "outputs": [],
   "source": [
    "for arc in arcs:\n",
    "    G.add_edge(arc[0], arc[1], flow=arc[2])\n",
    "\n",
    "edge_labels = nx.get_edge_attributes(G, name='flow')\n"
   ]
  },
  {
   "cell_type": "markdown",
   "id": "ab4aaf84",
   "metadata": {},
   "source": [
    "We plot the the_network, as well as two gray areas defining a cut."
   ]
  },
  {
   "cell_type": "code",
   "execution_count": null,
   "id": "fea4ce71",
   "metadata": {},
   "outputs": [],
   "source": [
    "fig, ax = plt.subplots(figsize=(8, 6))\n",
    "ax = draw_network(\n",
    "    the_network=G, attr_edge_labels='flow', ax=ax\n",
    ")  # Add transparent gray rectangles covering specific nodes\n",
    "gray_areas = [('n_1', 'n_2', 'n_3'), ('n_4', 'n_5', 'n_6', 'n_7')]\n",
    "\n",
    "for i, nodes in enumerate(gray_areas):\n",
    "    x_values = [positions[node][0] for node in nodes]\n",
    "    y_values = [positions[node][1] for node in nodes]\n",
    "    min_x, max_x = min(x_values), max(x_values)\n",
    "    min_y, max_y = min(y_values), max(y_values)\n",
    "    enlargement_factor = 1.2\n",
    "    width = (max_x - min_x) * enlargement_factor\n",
    "    height = (max_y - min_y) * enlargement_factor\n",
    "    rect = Rectangle(\n",
    "        (min_x - (width - (max_x - min_x)) / 2, min_y - (height - (max_y - min_y)) / 2),\n",
    "        width,\n",
    "        height,\n",
    "        alpha=0.3,\n",
    "        color='gray',\n",
    "    )\n",
    "\n",
    "    ax.add_patch(rect)\n",
    "    if i == 0:\n",
    "        ax.text(\n",
    "            min_x - (width - (max_x - min_x)) / 2 + 0.1 * width,\n",
    "            min_y - (height - (max_y - min_y)) / 2 + 0.9 * height,\n",
    "            \"M\",\n",
    "            fontsize=12,\n",
    "            fontweight='bold',\n",
    "            color='black',\n",
    "        )\n",
    "\n",
    "\n",
    "plt.show()\n"
   ]
  },
  {
   "cell_type": "markdown",
   "id": "5b5f1ab4",
   "metadata": {},
   "source": [
    "# Questions"
   ]
  },
  {
   "cell_type": "markdown",
   "id": "37eca671",
   "metadata": {},
   "source": [
    "Now, use the functionalities of the `networkx` package in general, and the `G` object in particular to answer\n",
    "the following questions."
   ]
  },
  {
   "cell_type": "markdown",
   "id": "b3ea70fd",
   "metadata": {},
   "source": [
    "For each node, calculate the divergence.\n",
    "Expected answers:\n",
    "\n",
    "- `Divergence of node n_1 = 6.3`\n",
    "- `Divergence of node n_2 = 1.8`\n",
    "- `Divergence of node n_3 = 1.5`\n",
    "- `Divergence of node n_4 = -5.1`\n",
    "- `Divergence of node n_5 = -4.5`\n",
    "- `Divergence of node n_6 = -0.5`\n",
    "- `Divergence of node n_7 = 0.5`"
   ]
  },
  {
   "cell_type": "code",
   "execution_count": null,
   "id": "73e7ee27",
   "metadata": {},
   "outputs": [],
   "source": [
    "divergences = {}\n",
    "for node in G.nodes():\n",
    "    in_flow = ????\n",
    "\n",
    "\n",
    "    out_flow = ????\n",
    "\n",
    "\n",
    "    divergence = ????\n",
    "    divergences[node] = divergence\n",
    "    print(f'Divergence of node {node} = {divergence:.2g}')\n",
    "\n"
   ]
  },
  {
   "cell_type": "markdown",
   "id": "9af9a6cc",
   "metadata": {},
   "source": [
    "Identify if the node is a supply, demand or transit node.\n",
    "Expected answers:\n",
    "\n",
    "- `Type of node n_1: Supply`\n",
    "- `Type of node n_2: Supply`\n",
    "- `Type of node n_3: Supply`\n",
    "- `Type of node n_4: Demand`\n",
    "- `Type of node n_5: Demand`\n",
    "- `Type of node n_6: Demand`\n",
    "- `Type of node n_7: Supply`"
   ]
  },
  {
   "cell_type": "code",
   "execution_count": null,
   "id": "d8dfa3b3",
   "metadata": {},
   "outputs": [],
   "source": [
    "node_types = {}\n",
    "for node, divergence in divergences.items():\n",
    "    if ????:\n",
    "        node_types[node] = 'Supply'\n",
    "    elif ????:\n",
    "        node_types[node] = 'Demand'\n",
    "    else:\n",
    "        node_types[node] = 'Transit'\n",
    "    print(f'Type of node {node}: {node_types[node]}')\n"
   ]
  },
  {
   "cell_type": "markdown",
   "id": "4ff96402",
   "metadata": {},
   "source": [
    "What is the total divergence in the the_network?"
   ]
  },
  {
   "cell_type": "code",
   "execution_count": null,
   "id": "b51d88a6",
   "metadata": {},
   "outputs": [],
   "source": [
    "\n",
    "total_divergence = ????\n",
    "print(f'Total divergence = {total_divergence}')\n"
   ]
  },
  {
   "cell_type": "markdown",
   "id": "985e2477",
   "metadata": {},
   "source": [
    "Write the cut $\\Gamma =(M, N \\setminus M)$ defined by the gray areas."
   ]
  },
  {
   "cell_type": "code",
   "execution_count": null,
   "id": "52fc5e48",
   "metadata": {},
   "outputs": [],
   "source": [
    "left_nodes = (????)\n",
    "right_nodes = (????)\n"
   ]
  },
  {
   "cell_type": "markdown",
   "id": "c81eb452",
   "metadata": {},
   "source": [
    "Identify the forward and backward arcs of the cut. Replace the ??? by the appropriate conditions"
   ]
  },
  {
   "cell_type": "code",
   "execution_count": null,
   "id": "d3f38917",
   "metadata": {},
   "outputs": [],
   "source": [
    "forward_cut_edges = [\n",
    "    edge\n",
    "    for edge in G.edges()\n",
    "    if ????\n",
    "    and ????\n",
    "]\n",
    "backward_cut_edges = [\n",
    "    edge\n",
    "    for edge in G.edges()\n",
    "    if ????\n",
    "    and ????\n",
    "]\n",
    "print(f'Forward arcs of the cut: {forward_cut_edges}')\n",
    "print(f'Backward arcs of the cut: {backward_cut_edges}')\n"
   ]
  },
  {
   "cell_type": "markdown",
   "id": "f45a8538",
   "metadata": {},
   "source": [
    "Calculate the forward flow through that cut $\\Gamma$.\n",
    "Expected answer: `Forward flow: 7.5`"
   ]
  },
  {
   "cell_type": "code",
   "execution_count": null,
   "id": "928f558c",
   "metadata": {},
   "outputs": [],
   "source": [
    "forward_flow = ????\n",
    "\n",
    "\n",
    "print(f'Forward flow: {forward_flow}')\n",
    "\n"
   ]
  },
  {
   "cell_type": "markdown",
   "id": "f1c77f69",
   "metadata": {},
   "source": [
    "Calculate the backward flow through that cut $\\Gamma$.\n",
    "Expected answer: `Backward flow: -2.1`"
   ]
  },
  {
   "cell_type": "code",
   "execution_count": null,
   "id": "dd6d8c6a",
   "metadata": {},
   "outputs": [],
   "source": [
    "backward_flow = ????\n",
    "\n",
    "\n",
    "print(f'Backward flow: {backward_flow}')\n"
   ]
  },
  {
   "cell_type": "markdown",
   "id": "96110fec",
   "metadata": {},
   "source": [
    "Calculate the total flow through that cut $\\Gamma$.\n",
    "Expected answer: `Flow through the cut: 9.6`"
   ]
  },
  {
   "cell_type": "code",
   "execution_count": null,
   "id": "3af75b1c",
   "metadata": {},
   "outputs": [],
   "source": [
    "cut_flow = ????\n",
    "print(f'Flow through the cut: {cut_flow}')\n"
   ]
  },
  {
   "cell_type": "markdown",
   "id": "6acb2ec7",
   "metadata": {},
   "source": [
    "Calculate the sum of the divergences of the nodes belonging to $\\mathcal{M}$. What do you remark?"
   ]
  },
  {
   "cell_type": "code",
   "execution_count": null,
   "id": "519ac4f0",
   "metadata": {},
   "outputs": [],
   "source": [
    "sum_divergence_m = ????\n",
    "\n",
    "\n",
    "print(f'The sum of the divergences of the nodes belonging to M: {sum_divergence_m}')\n",
    "\n",
    "\n"
   ]
  }
 ],
 "metadata": {},
 "nbformat": 4,
 "nbformat_minor": 5
}

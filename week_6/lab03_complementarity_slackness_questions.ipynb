{
 "cells": [
  {
   "cell_type": "markdown",
   "id": "ce089757",
   "metadata": {},
   "source": [
    "# Complementarity slackness\n",
    "\n",
    "## Introduction to optimization and operations research\n",
    "\n",
    "Michel Bierlaire\n"
   ]
  },
  {
   "cell_type": "code",
   "execution_count": null,
   "id": "23b7d9ca",
   "metadata": {},
   "outputs": [],
   "source": [
    "\n",
    "import numpy as np\n",
    "from teaching_optimization.linear_constraints import (\n",
    "    AllConstraints,\n",
    "    draw_polyhedron_canonical_form,\n",
    "    StandardCanonicalForms,\n",
    ")\n",
    "from teaching_optimization.simplex_tableau import SimplexAlgorithmTableau\n",
    "from teaching_optimization.tableau import SimplexTableau\n"
   ]
  },
  {
   "cell_type": "markdown",
   "id": "09f3a518",
   "metadata": {},
   "source": [
    "Consider the optimization problem $$\\min_{x \\in\\mathbb{R}^2} -3x_1 - 4x_2$$ subject to\n",
    "\\begin{align*}\n",
    "-x_1+x_2 & \\leq 2,\\\\\n",
    "3x_1-2x_2 & \\leq 5,\\\\\n",
    "x_1+x_2 & \\leq 4,\\\\\n",
    "x_1,x_2 & \\geq 0.\n",
    "\\end{align*}"
   ]
  },
  {
   "cell_type": "code",
   "execution_count": null,
   "id": "255af251",
   "metadata": {},
   "outputs": [],
   "source": [
    "\n",
    "A_canonical = np.array([[-1, 1], [3, -2], [1, 1], [-1, 0], [0, -1]])\n",
    "b_canonical = np.array([2, 5, 4, 0, 0])\n",
    "polyhedron = AllConstraints.from_canonical_form(matrix=A_canonical, vector=b_canonical)\n",
    "print(polyhedron)\n"
   ]
  },
  {
   "cell_type": "markdown",
   "id": "64b7cc86",
   "metadata": {},
   "source": [
    "Plot the polyhedron"
   ]
  },
  {
   "cell_type": "code",
   "execution_count": null,
   "id": "9cdf5ea4",
   "metadata": {},
   "outputs": [],
   "source": [
    "draw_polyhedron_canonical_form(\n",
    "    matrix_a=A_canonical,\n",
    "    vector_b=b_canonical,\n",
    ")\n"
   ]
  },
  {
   "cell_type": "markdown",
   "id": "20e05403",
   "metadata": {},
   "source": [
    "Transform the constraints in standard form"
   ]
  },
  {
   "cell_type": "code",
   "execution_count": null,
   "id": "b88d1ed0",
   "metadata": {},
   "outputs": [],
   "source": [
    "standard_canonical = StandardCanonicalForms(constraints=polyhedron)\n"
   ]
  },
  {
   "cell_type": "markdown",
   "id": "859c4d0c",
   "metadata": {},
   "source": [
    "Solve the problem with the simplex algorithm"
   ]
  },
  {
   "cell_type": "code",
   "execution_count": null,
   "id": "9dc14623",
   "metadata": {},
   "outputs": [],
   "source": [
    "objective = np.array([-3, -4, 0, 0, 0])\n",
    "the_algorithm = SimplexAlgorithmTableau(\n",
    "    objective=objective,\n",
    "    constraint_matrix=standard_canonical.standard_matrix,\n",
    "    right_hand_side=standard_canonical.standard_vector,\n",
    ")\n"
   ]
  },
  {
   "cell_type": "markdown",
   "id": "ad8408db",
   "metadata": {},
   "source": [
    "Solving the problem"
   ]
  },
  {
   "cell_type": "code",
   "execution_count": null,
   "id": "f3cbcb1c",
   "metadata": {},
   "outputs": [],
   "source": [
    "optimal_tableau: SimplexTableau = the_algorithm.solve()\n"
   ]
  },
  {
   "cell_type": "markdown",
   "id": "8c0305d7",
   "metadata": {},
   "source": [
    "Optimal solution"
   ]
  },
  {
   "cell_type": "code",
   "execution_count": null,
   "id": "ea71870d",
   "metadata": {},
   "outputs": [],
   "source": [
    "print(optimal_tableau.feasible_basic_solution)\n",
    "x_1 = optimal_tableau.feasible_basic_solution[0]\n",
    "print(f'x_1 = {x_1:.3g}')\n",
    "x_2 = optimal_tableau.feasible_basic_solution[1]\n",
    "print(f'x_2 = {x_2:.3g}')\n"
   ]
  },
  {
   "cell_type": "markdown",
   "id": "5001cb5d",
   "metadata": {},
   "source": [
    "Note that, for numerical reasons, the actual value of $x_1$ stored in the computer is not exactly 1:"
   ]
  },
  {
   "cell_type": "code",
   "execution_count": null,
   "id": "08e63d55",
   "metadata": {},
   "outputs": [],
   "source": [
    "print(x_1)\n"
   ]
  },
  {
   "cell_type": "markdown",
   "id": "5f9de649",
   "metadata": {},
   "source": [
    "Optimal value"
   ]
  },
  {
   "cell_type": "code",
   "execution_count": null,
   "id": "7abbec59",
   "metadata": {},
   "outputs": [],
   "source": [
    "print(f'{optimal_tableau.value_objective_function:.3g}')\n"
   ]
  },
  {
   "cell_type": "markdown",
   "id": "e987c460",
   "metadata": {},
   "source": [
    "Identify the active constraints at the optimal solution. Warning: for the numerical reasons mentioned above,\n",
    "never check if two float numbers are equal. Instead, use the numpy function `isclose`."
   ]
  },
  {
   "cell_type": "code",
   "execution_count": null,
   "id": "ed83014e",
   "metadata": {},
   "outputs": [],
   "source": [
    "first_constraint_active = ????\n",
    "print(f'First constraint: {first_constraint_active}')\n",
    "second_constraint_active = ????\n",
    "\n",
    "\n",
    "print(f'Second constraint: {second_constraint_active}')\n",
    "third_constraint_active = ????\n",
    "print(f'Third constraint: {third_constraint_active}')\n"
   ]
  },
  {
   "cell_type": "markdown",
   "id": "f2293339",
   "metadata": {},
   "source": [
    "# Write the dual of this problem."
   ]
  },
  {
   "cell_type": "markdown",
   "id": "8e4ab0c0",
   "metadata": {},
   "source": [
    "# Use the complementarity slackness conditions to solve the dual."
   ]
  },
  {
   "cell_type": "markdown",
   "id": "638a188f",
   "metadata": {},
   "source": [
    "# Solve the dual with the simplex algorithm to verify the result."
   ]
  }
 ],
 "metadata": {},
 "nbformat": 4,
 "nbformat_minor": 5
}

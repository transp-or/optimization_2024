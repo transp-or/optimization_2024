{
 "cells": [
  {
   "cell_type": "markdown",
   "id": "01c8cc00",
   "metadata": {},
   "source": [
    "# Trees\n",
    "\n",
    "## Introduction to optimization and operations research\n",
    "\n",
    "Michel Bierlaire\n"
   ]
  },
  {
   "cell_type": "code",
   "execution_count": null,
   "id": "98927fd1",
   "metadata": {},
   "outputs": [],
   "source": [
    "\n",
    "import random\n",
    "from itertools import combinations\n",
    "from typing import Any\n",
    "\n",
    "import numpy as np\n",
    "from networkx import (\n",
    "    Graph,\n",
    "    random_tree,\n",
    "    spring_layout,\n",
    "    draw,\n",
    "    find_cycle,\n",
    "    NetworkXNoCycle,\n",
    "    is_connected,\n",
    "    connected_components,\n",
    ")\n",
    "from matplotlib import pyplot as plt\n"
   ]
  },
  {
   "cell_type": "markdown",
   "id": "7933a328",
   "metadata": {},
   "source": [
    "A node in the_network can be of any type. In this script, we use int."
   ]
  },
  {
   "cell_type": "code",
   "execution_count": null,
   "id": "7817acf7",
   "metadata": {},
   "outputs": [],
   "source": [
    "Node = Any\n",
    "Edge = tuple[Node, Node]\n",
    "\n"
   ]
  },
  {
   "cell_type": "markdown",
   "id": "033ef8d2",
   "metadata": {},
   "source": [
    "Here is a function to plot a graph."
   ]
  },
  {
   "cell_type": "code",
   "execution_count": null,
   "id": "9055f5fc",
   "metadata": {},
   "outputs": [],
   "source": [
    "def visualize_graph(graph: Graph, positions: dict[Node, np.array]) -> None:\n",
    "    \"\"\"Plot a graph\n",
    "\n",
    "    :param graph: graph to be plotted.\n",
    "    :param positions: coordinates of the nodes.\n",
    "    \"\"\"\n",
    "    draw(\n",
    "        graph,\n",
    "        positions,\n",
    "        with_labels=True,\n",
    "        node_color='lightblue',\n",
    "        node_size=500,\n",
    "        font_size=10,\n",
    "        edge_color='gray',\n",
    "    )\n",
    "    plt.title(\"Random Tree\")\n",
    "    plt.show()\n",
    "\n"
   ]
  },
  {
   "cell_type": "markdown",
   "id": "e24c1405",
   "metadata": {},
   "source": [
    "Example: Create a random tree with 10 nodes"
   ]
  },
  {
   "cell_type": "code",
   "execution_count": null,
   "id": "36d02c7f",
   "metadata": {},
   "outputs": [],
   "source": [
    "n = 10\n",
    "tree: Graph = random_tree(n)\n",
    "pos = spring_layout(tree)\n",
    "\n"
   ]
  },
  {
   "cell_type": "markdown",
   "id": "c582a1f6",
   "metadata": {},
   "source": [
    "Visualize the graph"
   ]
  },
  {
   "cell_type": "code",
   "execution_count": null,
   "id": "abc8d5af",
   "metadata": {},
   "outputs": [],
   "source": [
    "visualize_graph(tree, pos)\n",
    "\n"
   ]
  },
  {
   "cell_type": "markdown",
   "id": "150fc67c",
   "metadata": {},
   "source": [
    "Implement a function that detects a cycle in a graph"
   ]
  },
  {
   "cell_type": "code",
   "execution_count": null,
   "id": "ba74fb48",
   "metadata": {},
   "outputs": [],
   "source": [
    "def detect_cycle(graph: Graph) -> list[Edge] | None:\n",
    "    \"\"\"Detect if a graph contains a cycle\n",
    "\n",
    "    :param graph: graph to analyze\n",
    "    :param graph: graph to analyze\n",
    "    :return: the list of arcs in the cycle, or None if None has been found.\n",
    "    \"\"\"\n",
    "    try:\n",
    "        # This will return a list of cycles\n",
    "        a_cycle = find_cycle(graph, orientation=\"ignore\")\n",
    "        return a_cycle\n",
    "    except NetworkXNoCycle:\n",
    "        return None\n",
    "\n"
   ]
  },
  {
   "cell_type": "markdown",
   "id": "84efd7eb",
   "metadata": {},
   "source": [
    "Check if the tree contains a cycle.\n",
    "By definition, a tree never contains any cycle."
   ]
  },
  {
   "cell_type": "code",
   "execution_count": null,
   "id": "02ea7ea3",
   "metadata": {},
   "outputs": [],
   "source": [
    "cycle = detect_cycle(tree)\n",
    "if cycle:\n",
    "    print(f'A cycle was detected: {cycle}')\n",
    "else:\n",
    "    print('No cycle was detected.')\n",
    "\n"
   ]
  },
  {
   "cell_type": "markdown",
   "id": "c4173c0b",
   "metadata": {},
   "source": [
    "Implement a function that checks if the graph is connected.\n",
    "If not, identify two connected components, and return one node from each."
   ]
  },
  {
   "cell_type": "code",
   "execution_count": null,
   "id": "e6f312fc",
   "metadata": {},
   "outputs": [],
   "source": [
    "def is_graph_connected(graph: Graph) -> tuple[Node, Node] | None:\n",
    "    \"\"\"\n",
    "    Determines if the given graph is connected.\n",
    "\n",
    "    :param graph: an undirected graph (Graph)\n",
    "    :return: two disconnected nodes, or None if the graph is disconnected.\n",
    "    \"\"\"\n",
    "    if is_connected(graph):\n",
    "        return None\n",
    "\n",
    "    # Find the connected components\n",
    "    components = list(connected_components(graph))\n",
    "\n",
    "    # Get two nodes from different components\n",
    "    # Choose the first node from the first component and the first node from the second component\n",
    "    node1 = next(iter(components[0]))\n",
    "    node2 = next(iter(components[1]))\n",
    "    return node1, node2\n",
    "\n"
   ]
  },
  {
   "cell_type": "markdown",
   "id": "c9d64430",
   "metadata": {},
   "source": [
    "Check if the tree is connected.\n",
    "By definition, a tree is always connected."
   ]
  },
  {
   "cell_type": "code",
   "execution_count": null,
   "id": "b7113564",
   "metadata": {},
   "outputs": [],
   "source": [
    "result = is_graph_connected(tree)\n",
    "message = (\n",
    "    'The graph is connected'\n",
    "    if result is None\n",
    "    else f'Nodes {result[0]} and {result[1]} are not connected'\n",
    ")\n",
    "print(message)\n",
    "\n"
   ]
  },
  {
   "cell_type": "markdown",
   "id": "ab60e538",
   "metadata": {},
   "source": [
    "Now, write a function that adds a random arc to a graph"
   ]
  },
  {
   "cell_type": "code",
   "execution_count": null,
   "id": "973875e2",
   "metadata": {},
   "outputs": [],
   "source": [
    "def add_edge(graph: Graph) -> Edge:\n",
    "    \"\"\"Add a random arc in a graph\n",
    "\n",
    "    :param graph: graph to complete.\n",
    "    :return: added arc.\n",
    "    \"\"\"\n",
    "    # First, check the missing arcs in the graph.\n",
    "    nodes = list(graph.nodes)\n",
    "    missing_edges = list()\n",
    "    for upstream_node, downstream_node in combinations(nodes, 2):\n",
    "        if not graph.has_edge(upstream_node, downstream_node):\n",
    "            missing_edges.append((upstream_node, downstream_node))\n",
    "    if not missing_edges:\n",
    "        print(f'The graph is complete. No arc can be added.')\n",
    "\n",
    "    # Choose randomly a missing arc and add it to the graph\n",
    "    up_stream_node, downstream_node = (\n",
    "        random.choice(missing_edges)\n",
    "    )\n",
    "    # Add the selected arc to the graph.\n",
    "    graph.add_edge(up_stream_node, downstream_node)\n",
    "    return up_stream_node, downstream_node\n",
    "\n"
   ]
  },
  {
   "cell_type": "markdown",
   "id": "f4666a94",
   "metadata": {},
   "source": [
    "Let's add an arc to the tree"
   ]
  },
  {
   "cell_type": "code",
   "execution_count": null,
   "id": "f99ad904",
   "metadata": {},
   "outputs": [],
   "source": [
    "u, v = add_edge(tree)\n",
    "print(f'An arc between nodes {u} and {v} has been added.')\n"
   ]
  },
  {
   "cell_type": "markdown",
   "id": "fd951b9c",
   "metadata": {},
   "source": [
    "We plot the modified tree"
   ]
  },
  {
   "cell_type": "code",
   "execution_count": null,
   "id": "4b02df19",
   "metadata": {},
   "outputs": [],
   "source": [
    "visualize_graph(tree, pos)\n"
   ]
  },
  {
   "cell_type": "markdown",
   "id": "d3f5b99d",
   "metadata": {},
   "source": [
    "Check the presence of a cycle, and the connectivity of the modified tree.\n",
    "Cycle:\n",
    "In a tree, adding a single arc always creates a cycle."
   ]
  },
  {
   "cell_type": "code",
   "execution_count": null,
   "id": "0a9a2f27",
   "metadata": {},
   "outputs": [],
   "source": [
    "cycle = detect_cycle(tree)\n",
    "if cycle:\n",
    "    print(f'A cycle was detected: {cycle}')\n",
    "else:\n",
    "    print('No cycle was detected.')\n"
   ]
  },
  {
   "cell_type": "markdown",
   "id": "82c2c89f",
   "metadata": {},
   "source": [
    "Connectivity:\n",
    "As the graph was connected, adding an arc cannot disconnect the graph."
   ]
  },
  {
   "cell_type": "code",
   "execution_count": null,
   "id": "82c32220",
   "metadata": {},
   "outputs": [],
   "source": [
    "result = is_graph_connected(tree)\n",
    "message = (\n",
    "    'The graph is connected'\n",
    "    if result is None\n",
    "    else f'Nodes {result[0]} and {result[1]} are not connected'\n",
    ")\n",
    "print(message)\n",
    "\n"
   ]
  },
  {
   "cell_type": "markdown",
   "id": "cd9940e1",
   "metadata": {},
   "source": [
    "Now, write a function that removes a random arc to a graph"
   ]
  },
  {
   "cell_type": "code",
   "execution_count": null,
   "id": "09fde7fa",
   "metadata": {},
   "outputs": [],
   "source": [
    "def remove_edge(graph: Graph) -> Edge | None:\n",
    "    \"\"\"\n",
    "    Removes a random arc from the given graph.\n",
    "\n",
    "    :param graph: A NetworkX graph\n",
    "    \"\"\"\n",
    "    if graph.number_of_edges() == 0:\n",
    "        print('The graph has no arc to remove.')\n",
    "        return None\n",
    "\n",
    "    # Select a random arc\n",
    "    random_edge: Edge = random.choice(\n",
    "        list(graph.edges)\n",
    "    )\n",
    "    # Remove the selected arc. Note that the `*random_edge` unpacks the tuple into its two components.\n",
    "    graph.remove_edge(*random_edge)\n",
    "    print(f'Edge {random_edge} removed.')\n",
    "    return random_edge\n",
    "\n"
   ]
  },
  {
   "cell_type": "markdown",
   "id": "627884cd",
   "metadata": {},
   "source": [
    "We generate another random tree"
   ]
  },
  {
   "cell_type": "code",
   "execution_count": null,
   "id": "04c22fb0",
   "metadata": {},
   "outputs": [],
   "source": [
    "tree = random_tree(n)\n",
    "pos = spring_layout(tree)\n",
    "visualize_graph(tree, pos)\n"
   ]
  },
  {
   "cell_type": "markdown",
   "id": "442abe5d",
   "metadata": {},
   "source": [
    "Check the presence of a cycle, and the connectivity of the modified tree."
   ]
  },
  {
   "cell_type": "markdown",
   "id": "6d177f7c",
   "metadata": {},
   "source": [
    "Cycle:\n",
    "By definition of a tree, it does not contain any cycle."
   ]
  },
  {
   "cell_type": "code",
   "execution_count": null,
   "id": "d06b44bd",
   "metadata": {},
   "outputs": [],
   "source": [
    "cycle = detect_cycle(tree)\n",
    "if cycle:\n",
    "    print(f'A cycle was detected: {cycle}')\n",
    "else:\n",
    "    print('No cycle was detected.')\n"
   ]
  },
  {
   "cell_type": "markdown",
   "id": "41a29d7b",
   "metadata": {},
   "source": [
    "Connectivity:\n",
    "By definition of a tree, it is connected."
   ]
  },
  {
   "cell_type": "code",
   "execution_count": null,
   "id": "3aea44a6",
   "metadata": {},
   "outputs": [],
   "source": [
    "result = is_graph_connected(tree)\n",
    "message = (\n",
    "    'The graph is connected'\n",
    "    if result is None\n",
    "    else f'Nodes {result[0]} and {result[1]} are not connected'\n",
    ")\n",
    "print(message)\n"
   ]
  },
  {
   "cell_type": "markdown",
   "id": "64abea0a",
   "metadata": {},
   "source": [
    "We now remove a random arc."
   ]
  },
  {
   "cell_type": "code",
   "execution_count": null,
   "id": "a1117cab",
   "metadata": {},
   "outputs": [],
   "source": [
    "u, v = remove_edge(tree)\n",
    "print(f'Edge between ({u}, {v}) has been removed.')\n",
    "visualize_graph(tree, pos)\n"
   ]
  },
  {
   "cell_type": "markdown",
   "id": "e1a804e1",
   "metadata": {},
   "source": [
    "Check the presence of a cycle, and the connectivity of the modified tree."
   ]
  },
  {
   "cell_type": "markdown",
   "id": "ef0b83d3",
   "metadata": {},
   "source": [
    "Cycle:\n",
    "Removing an arc cannot create a cycle if there were none before."
   ]
  },
  {
   "cell_type": "code",
   "execution_count": null,
   "id": "29d9c58f",
   "metadata": {},
   "outputs": [],
   "source": [
    "cycle = detect_cycle(tree)\n",
    "if cycle:\n",
    "    print(f'A cycle was detected: {cycle}')\n",
    "else:\n",
    "    print('No cycle was detected.')\n"
   ]
  },
  {
   "cell_type": "markdown",
   "id": "c8d9f67b",
   "metadata": {},
   "source": [
    "Connectivity:\n",
    "In a tree, removing a single arc disconnects the tree."
   ]
  },
  {
   "cell_type": "code",
   "execution_count": null,
   "id": "82aefeb4",
   "metadata": {},
   "outputs": [],
   "source": [
    "result = is_graph_connected(tree)\n",
    "message = (\n",
    "    'The graph is connected'\n",
    "    if result is None\n",
    "    else f'Nodes {result[0]} and {result[1]} are not connected'\n",
    ")\n",
    "print(message)"
   ]
  }
 ],
 "metadata": {},
 "nbformat": 4,
 "nbformat_minor": 5
}

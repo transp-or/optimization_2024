{
 "cells": [
  {
   "cell_type": "markdown",
   "id": "8f9b9cf7",
   "metadata": {},
   "source": [
    "# Complementarity slackness\n",
    "\n",
    "## Introduction to optimization and operations research\n",
    "\n",
    "Michel Bierlaire\n"
   ]
  },
  {
   "cell_type": "code",
   "execution_count": null,
   "id": "656d1d06",
   "metadata": {},
   "outputs": [],
   "source": [
    "\n",
    "import numpy as np\n",
    "from teaching_optimization.linear_constraints import (\n",
    "    AllConstraints,\n",
    "    draw_polyhedron_canonical_form,\n",
    "    StandardCanonicalForms,\n",
    ")\n",
    "from teaching_optimization.simplex_tableau import SimplexAlgorithmTableau\n",
    "from teaching_optimization.tableau import SimplexTableau\n"
   ]
  },
  {
   "cell_type": "markdown",
   "id": "13ef10ad",
   "metadata": {},
   "source": [
    "Consider the optimization problem $$\\min_{x \\in\\mathbb{R}^2} -3x_1 - 4x_2$$ subject to\n",
    "\\begin{align*}\n",
    "-x_1+x_2 & \\leq 2,\\\\\n",
    "3x_1-2x_2 & \\leq 5,\\\\\n",
    "x_1+x_2 & \\leq 4,\\\\\n",
    "x_1,x_2 & \\geq 0.\n",
    "\\end{align*}"
   ]
  },
  {
   "cell_type": "code",
   "execution_count": null,
   "id": "9ebd7e93",
   "metadata": {},
   "outputs": [],
   "source": [
    "\n",
    "A_canonical = np.array([[-1, 1], [3, -2], [1, 1], [-1, 0], [0, -1]])\n",
    "b_canonical = np.array([2, 5, 4, 0, 0])\n",
    "polyhedron = AllConstraints.from_canonical_form(matrix=A_canonical, vector=b_canonical)\n",
    "print(polyhedron)\n"
   ]
  },
  {
   "cell_type": "markdown",
   "id": "c899e008",
   "metadata": {},
   "source": [
    "Plot the polyhedron"
   ]
  },
  {
   "cell_type": "code",
   "execution_count": null,
   "id": "57b2266b",
   "metadata": {},
   "outputs": [],
   "source": [
    "draw_polyhedron_canonical_form(\n",
    "    matrix_a=A_canonical,\n",
    "    vector_b=b_canonical,\n",
    ")\n"
   ]
  },
  {
   "cell_type": "markdown",
   "id": "0e23bb4a",
   "metadata": {},
   "source": [
    "Transform the constraints in standard form"
   ]
  },
  {
   "cell_type": "code",
   "execution_count": null,
   "id": "c5ff73d1",
   "metadata": {},
   "outputs": [],
   "source": [
    "standard_canonical = StandardCanonicalForms(constraints=polyhedron)\n"
   ]
  },
  {
   "cell_type": "markdown",
   "id": "54464973",
   "metadata": {},
   "source": [
    "Solve the problem with the simplex algorithm"
   ]
  },
  {
   "cell_type": "code",
   "execution_count": null,
   "id": "9b9a563a",
   "metadata": {},
   "outputs": [],
   "source": [
    "objective = np.array([-3, -4, 0, 0, 0])\n",
    "the_algorithm = SimplexAlgorithmTableau(\n",
    "    objective=objective,\n",
    "    constraint_matrix=standard_canonical.standard_matrix,\n",
    "    right_hand_side=standard_canonical.standard_vector,\n",
    ")\n"
   ]
  },
  {
   "cell_type": "markdown",
   "id": "e769a2f8",
   "metadata": {},
   "source": [
    "Solving the problem"
   ]
  },
  {
   "cell_type": "code",
   "execution_count": null,
   "id": "8e76a261",
   "metadata": {},
   "outputs": [],
   "source": [
    "optimal_tableau: SimplexTableau = the_algorithm.solve()\n"
   ]
  },
  {
   "cell_type": "markdown",
   "id": "620cfabb",
   "metadata": {},
   "source": [
    "Optimal solution"
   ]
  },
  {
   "cell_type": "code",
   "execution_count": null,
   "id": "472958db",
   "metadata": {},
   "outputs": [],
   "source": [
    "print(optimal_tableau.feasible_basic_solution)\n",
    "x_1 = optimal_tableau.feasible_basic_solution[0]\n",
    "print(f'x_1 = {x_1:.3g}')\n",
    "x_2 = optimal_tableau.feasible_basic_solution[1]\n",
    "print(f'x_2 = {x_2:.3g}')\n"
   ]
  },
  {
   "cell_type": "markdown",
   "id": "33e330bc",
   "metadata": {},
   "source": [
    "Note that, for numerical reasons, the actual value of $x_1$ stored in the computer is not exactly 1:"
   ]
  },
  {
   "cell_type": "code",
   "execution_count": null,
   "id": "ab2fa93f",
   "metadata": {},
   "outputs": [],
   "source": [
    "print(x_1)\n"
   ]
  },
  {
   "cell_type": "markdown",
   "id": "c8a28f2b",
   "metadata": {},
   "source": [
    "Optimal value"
   ]
  },
  {
   "cell_type": "code",
   "execution_count": null,
   "id": "2e159b7f",
   "metadata": {},
   "outputs": [],
   "source": [
    "print(f'{optimal_tableau.value_objective_function:.3g}')\n"
   ]
  },
  {
   "cell_type": "markdown",
   "id": "a70ae39c",
   "metadata": {},
   "source": [
    "Identify the active constraints at the optimal solution. Warning: for the numerical reasons mentioned above,\n",
    "never check if two float numbers are equal. Instead, use the numpy function `isclose`."
   ]
  },
  {
   "cell_type": "code",
   "execution_count": null,
   "id": "80e2bced",
   "metadata": {},
   "outputs": [],
   "source": [
    "first_constraint_active = np.isclose(-x_1 + x_2, 2)\n",
    "print(f'First constraint: {first_constraint_active}')\n",
    "second_constraint_active = np.isclose(\n",
    "    3 * x_1 - 2 * x_2, 5\n",
    ")\n",
    "print(f'Second constraint: {second_constraint_active}')\n",
    "third_constraint_active = np.isclose(x_1 + x_2, 4)\n",
    "print(f'Third constraint: {third_constraint_active}')\n"
   ]
  },
  {
   "cell_type": "markdown",
   "id": "a110ffd4",
   "metadata": {},
   "source": [
    "# Write the dual of this problem."
   ]
  },
  {
   "cell_type": "markdown",
   "id": "098c00fc",
   "metadata": {},
   "source": [
    "The Lagrangian is"
   ]
  },
  {
   "cell_type": "markdown",
   "id": "5ca75614",
   "metadata": {},
   "source": [
    "$$\n",
    "L(x_1, x_2, \\mu_1, \\mu_2, \\mu_3, \\mu_4, \\mu_5) = -3 x_1 - 4 x_2 - \\mu_1 x_1 + \\mu_1 x_2 - 2 \\mu_1\n",
    "+ 3 \\mu_2 x_1 - 2 \\mu_2 x_2 - 5 \\mu_2\n",
    "+ \\mu_3 x_1 + \\mu_3 x_2 - 4 \\mu_3\n",
    "- \\mu_4 x_1\n",
    "- \\mu_5 x_2\n",
    "$$\n",
    "where $\\mu_1, \\mu_2, \\mu_3, \\mu_4, \\mu_5 \\geq 0$."
   ]
  },
  {
   "cell_type": "markdown",
   "id": "5f2f604b",
   "metadata": {},
   "source": [
    "For the Lagrangian to be bounded, we need to impose the following constraints:"
   ]
  },
  {
   "cell_type": "markdown",
   "id": "17ddf44d",
   "metadata": {},
   "source": [
    "The coefficient of $x_1$ must be zero:\n",
    "$$ -3 -\\mu_1  + 3 \\mu_2 + \\mu_3 - \\mu_4 = 0, $$\n",
    "and the coefficient of $x_2$ must be zero:\n",
    "$$ -4 + \\mu_1 - 2 \\mu_2  + \\mu_3 - \\mu_5 = 0.$$"
   ]
  },
  {
   "cell_type": "markdown",
   "id": "02b514bc",
   "metadata": {},
   "source": [
    "The Lagrangian therefore simplifies to\n",
    "$$L(x_1, x_2, \\mu_1, \\mu_2, \\mu_3, \\mu_4, \\mu_5) = -2 \\mu_1 -5 \\mu_2  - 4 \\mu_3. $$"
   ]
  },
  {
   "cell_type": "markdown",
   "id": "d43181bc",
   "metadata": {},
   "source": [
    "Eliminating $\\mu_4$ and $\\mu_5$, we can write the dual problem as"
   ]
  },
  {
   "cell_type": "markdown",
   "id": "3039be32",
   "metadata": {},
   "source": [
    "$$ \\max_{\\mu \\in \\mathbb{R}^3} -2 \\mu_1 -5 \\mu_2  - 4 \\mu_3$$\n",
    "subject to\n",
    "$$-\\mu_1  + 3 \\mu_2 + \\mu_3 \\geq 3, $$\n",
    "$$\\mu_1 - 2 \\mu_2  + \\mu_3 \\geq 4,$$\n",
    "$$\\mu_1, \\mu_2, \\mu_3 \\geq 0.$$"
   ]
  },
  {
   "cell_type": "markdown",
   "id": "b1671d03",
   "metadata": {},
   "source": [
    "# Use the complementarity slackness conditions to solve the dual."
   ]
  },
  {
   "cell_type": "markdown",
   "id": "f5de532c",
   "metadata": {},
   "source": [
    "If  a variable is non zero, the corresponding\n",
    "constraint in the dual problem must be active. And if a constraint is\n",
    "not active, the corresponding variable must be zero.\n",
    "Here, as the second constraint of the primal is not active, the corresponding\n",
    "dual variable must be zero: $\\mu^*_2=0$.\n",
    "Also, as the two primal variables $x^*_1$ and $x_2^*$ are non zero, the\n",
    "corresponding dual constraints must be active, and we have the following\n",
    "equations:\n",
    "$$-\\mu^*_1  + 3 \\mu^*_2 + \\mu^*_3 = 3, $$\n",
    "$$\\mu^*_1 - 2 \\mu^*_2  + \\mu^*_3 = 4.$$"
   ]
  },
  {
   "cell_type": "markdown",
   "id": "24b9d0ab",
   "metadata": {},
   "source": [
    "As $\\mu^*_2=0$, they simplify to\n",
    "$$-\\mu^*_1 + \\mu^*_3 = 3, $$\n",
    "$$\\mu^*_1 + \\mu^*_3 = 4.$$"
   ]
  },
  {
   "cell_type": "markdown",
   "id": "f1628e1a",
   "metadata": {},
   "source": [
    "The solution is $\\mu^*_1=1/2$ and $\\mu^*_3=7/2$."
   ]
  },
  {
   "cell_type": "markdown",
   "id": "4cf00f66",
   "metadata": {},
   "source": [
    "The value of the objective function is $-15$, as expected from the strong duality theorem."
   ]
  },
  {
   "cell_type": "markdown",
   "id": "7773ceb7",
   "metadata": {},
   "source": [
    "# Solve the dual with the simplex algorithm to verify the result."
   ]
  },
  {
   "cell_type": "markdown",
   "id": "96878f4b",
   "metadata": {},
   "source": [
    "The problem in canonical form is"
   ]
  },
  {
   "cell_type": "markdown",
   "id": "3221e51f",
   "metadata": {},
   "source": [
    "$$ \\min_{\\mu \\in \\mathbb{R}^3} 2 \\mu_1 +5 \\mu_2  + 4 \\mu_3$$\n",
    "subject to\n",
    "$$\\mu_1  - 3 \\mu_2 - \\mu_3 \\leq -3, $$\n",
    "$$-\\mu_1 + 2 \\mu_2  - \\mu_3 \\leq -4,$$\n",
    "$$\\mu_1, \\mu_2, \\mu_3 \\geq 0$$."
   ]
  },
  {
   "cell_type": "code",
   "execution_count": null,
   "id": "63ce1a3c",
   "metadata": {},
   "outputs": [],
   "source": [
    "dual_A_canonical = np.array(\n",
    "    [[1, -3, -1], [-1, 2, -1], [-1, 0, 0], [0, -1, 0], [0, 0, -1]]\n",
    ")\n",
    "dual_b_canonical = np.array([-3, -4, 0, 0, 0])\n",
    "dual_polyhedron = AllConstraints.from_canonical_form(\n",
    "    matrix=dual_A_canonical, vector=dual_b_canonical\n",
    ")\n",
    "print(polyhedron)\n",
    "\n"
   ]
  },
  {
   "cell_type": "markdown",
   "id": "cfd322d3",
   "metadata": {},
   "source": [
    "Transform the constraints in standard form"
   ]
  },
  {
   "cell_type": "code",
   "execution_count": null,
   "id": "8cc7def5",
   "metadata": {},
   "outputs": [],
   "source": [
    "dual_standard_canonical = StandardCanonicalForms(constraints=dual_polyhedron)\n"
   ]
  },
  {
   "cell_type": "markdown",
   "id": "f5b4d352",
   "metadata": {},
   "source": [
    "Solve the problem with the simplex algorithm"
   ]
  },
  {
   "cell_type": "code",
   "execution_count": null,
   "id": "bc640778",
   "metadata": {},
   "outputs": [],
   "source": [
    "dual_objective = np.array([2, 5, 4, 0, 0])\n",
    "the_dual_algorithm = SimplexAlgorithmTableau(\n",
    "    objective=dual_objective,\n",
    "    constraint_matrix=dual_standard_canonical.standard_matrix,\n",
    "    right_hand_side=dual_standard_canonical.standard_vector,\n",
    ")\n"
   ]
  },
  {
   "cell_type": "markdown",
   "id": "405744bf",
   "metadata": {},
   "source": [
    "Solving the problem"
   ]
  },
  {
   "cell_type": "code",
   "execution_count": null,
   "id": "c0812c1a",
   "metadata": {},
   "outputs": [],
   "source": [
    "dual_optimal_tableau: SimplexTableau = the_dual_algorithm.solve()\n"
   ]
  },
  {
   "cell_type": "markdown",
   "id": "558b520f",
   "metadata": {},
   "source": [
    "Optimal solution"
   ]
  },
  {
   "cell_type": "code",
   "execution_count": null,
   "id": "86d65023",
   "metadata": {},
   "outputs": [],
   "source": [
    "print(dual_optimal_tableau.feasible_basic_solution)\n"
   ]
  },
  {
   "cell_type": "code",
   "execution_count": null,
   "id": "78c69904",
   "metadata": {},
   "outputs": [],
   "source": [
    "mu_1 = dual_optimal_tableau.feasible_basic_solution[0]\n",
    "print(f'{mu_1=:.3g}')\n",
    "mu_2 = dual_optimal_tableau.feasible_basic_solution[1]\n",
    "print(f'{mu_2=:.3g}')\n",
    "mu_3 = dual_optimal_tableau.feasible_basic_solution[2]\n",
    "print(f'{mu_3=:.3g}')\n"
   ]
  },
  {
   "cell_type": "markdown",
   "id": "db36fec3",
   "metadata": {},
   "source": [
    "Optimal value"
   ]
  },
  {
   "cell_type": "code",
   "execution_count": null,
   "id": "c2816f57",
   "metadata": {},
   "outputs": [],
   "source": [
    "print(\n",
    "    f'Optimal value of the minimization problem: {dual_optimal_tableau.value_objective_function:.3g}'\n",
    ")\n",
    "print(\n",
    "    f'Optimal value of the maximization problem: {-dual_optimal_tableau.value_objective_function:.3g}'\n",
    ")"
   ]
  },
  {
   "cell_type": "markdown",
   "id": "d6c7d4af",
   "metadata": {},
   "source": [
    "It confirms the above results."
   ]
  }
 ],
 "metadata": {},
 "nbformat": 4,
 "nbformat_minor": 5
}

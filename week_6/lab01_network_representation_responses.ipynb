{
 "cells": [
  {
   "cell_type": "markdown",
   "id": "89766e44",
   "metadata": {},
   "source": [
    "# Network representation\n",
    "\n",
    "## Introduction to optimization and operations research.\n",
    "\n",
    "Michel Bierlaire\n"
   ]
  },
  {
   "cell_type": "code",
   "execution_count": null,
   "id": "a995e734",
   "metadata": {},
   "outputs": [],
   "source": [
    "\n",
    "import matplotlib.pyplot as plt\n",
    "import networkx as nx\n",
    "from networkx.classes.digraph import DiGraph, Graph\n",
    "from teaching_optimization.networks import draw_network\n"
   ]
  },
  {
   "cell_type": "markdown",
   "id": "f6f3c574",
   "metadata": {},
   "source": [
    "Before working on this assignment, consult the documentation of the `networkx`\n",
    "package: [click here](https://networkx.org)."
   ]
  },
  {
   "cell_type": "markdown",
   "id": "ce310d91",
   "metadata": {},
   "source": [
    "# Definition of the the_network"
   ]
  },
  {
   "cell_type": "markdown",
   "id": "296a03be",
   "metadata": {},
   "source": [
    "Nodes"
   ]
  },
  {
   "cell_type": "code",
   "execution_count": null,
   "id": "5d1ef1b1",
   "metadata": {},
   "outputs": [],
   "source": [
    "nodes = ['a', 'b', 'c', 'd', 'e', 'f', 'g']\n"
   ]
  },
  {
   "cell_type": "markdown",
   "id": "26ea8c5f",
   "metadata": {},
   "source": [
    "We assign coordinates to nodes. This is used only for drawing."
   ]
  },
  {
   "cell_type": "code",
   "execution_count": null,
   "id": "24ca00cd",
   "metadata": {},
   "outputs": [],
   "source": [
    "positions = {\n",
    "    'a': (0, 0),\n",
    "    'b': (2, -2),\n",
    "    'c': (2, 2),\n",
    "    'd': (4, -2),\n",
    "    'e': (4, 2),\n",
    "    'f': (6, 0),\n",
    "    'g': (8, 0),\n",
    "}\n"
   ]
  },
  {
   "cell_type": "markdown",
   "id": "28dd9177",
   "metadata": {},
   "source": [
    "Arcs with  flows"
   ]
  },
  {
   "cell_type": "code",
   "execution_count": null,
   "id": "6848acc3",
   "metadata": {},
   "outputs": [],
   "source": [
    "arcs = [\n",
    "    ('a', 'c', 1),\n",
    "    ('a', 'b', 3),\n",
    "    ('c', 'b', 5),\n",
    "    ('b', 'd', -1),\n",
    "    ('c', 'e', 0),\n",
    "    ('d', 'c', 1),\n",
    "    ('e', 'd', 2),\n",
    "    ('e', 'g', 4),\n",
    "    ('e', 'f', -3),\n",
    "    ('d', 'f', 1),\n",
    "    ('d', 'g', 1),\n",
    "    ('f', 'g', -2),\n",
    "]\n"
   ]
  },
  {
   "cell_type": "markdown",
   "id": "208f4c86",
   "metadata": {},
   "source": [
    "We create a directed graph:"
   ]
  },
  {
   "cell_type": "code",
   "execution_count": null,
   "id": "c9350f7e",
   "metadata": {},
   "outputs": [],
   "source": [
    "G: DiGraph = DiGraph()\n"
   ]
  },
  {
   "cell_type": "markdown",
   "id": "0d5d16fb",
   "metadata": {},
   "source": [
    "We add the nodes:"
   ]
  },
  {
   "cell_type": "code",
   "execution_count": null,
   "id": "e7d1ebd7",
   "metadata": {},
   "outputs": [],
   "source": [
    "for node in nodes:\n",
    "    G.add_node(node, pos=positions[node])\n"
   ]
  },
  {
   "cell_type": "markdown",
   "id": "c89c51c1",
   "metadata": {},
   "source": [
    "We add the arcs:"
   ]
  },
  {
   "cell_type": "code",
   "execution_count": null,
   "id": "2b561e7b",
   "metadata": {},
   "outputs": [],
   "source": [
    "G.add_weighted_edges_from(arcs, weight='flow')\n"
   ]
  },
  {
   "cell_type": "markdown",
   "id": "6db7324f",
   "metadata": {},
   "source": [
    "We plot the the_network."
   ]
  },
  {
   "cell_type": "code",
   "execution_count": null,
   "id": "c51863f1",
   "metadata": {},
   "outputs": [],
   "source": [
    "fig, ax = plt.subplots(figsize=(8, 6))\n",
    "draw_network(the_network=G, attr_edge_labels='flow', ax=ax)\n",
    "plt.show()\n",
    "\n"
   ]
  },
  {
   "cell_type": "markdown",
   "id": "c0f11856",
   "metadata": {},
   "source": [
    "Now, use the functionalities of the `networkx` package in general, and the `G` object in particular to answer\n",
    "the following questions.\n",
    "\n",
    "# Degree\n",
    "What is the indegree, the outdegree and the degree of each node?"
   ]
  },
  {
   "cell_type": "markdown",
   "id": "ad4d44db",
   "metadata": {},
   "source": [
    "Note that the degree should be the sum of the indegree and outdegree. However, do not calculate it that way.\n",
    "That property is used to check the validity of the output."
   ]
  },
  {
   "cell_type": "code",
   "execution_count": null,
   "id": "53469384",
   "metadata": {},
   "outputs": [],
   "source": [
    "\n",
    "\n",
    "for node in G.nodes:\n",
    "    indegree = G.in_degree(node)\n",
    "    outdegree = G.out_degree(node)\n",
    "    degree = G.degree(node)\n",
    "    assert indegree + outdegree == degree\n",
    "    print(\n",
    "        f'Node {node}: Indegree = {indegree}, Outdegree = {outdegree}, Degree = {degree}'\n",
    "    )\n"
   ]
  },
  {
   "cell_type": "markdown",
   "id": "5bce9bba",
   "metadata": {},
   "source": [
    "# Adjacency matrix\n",
    "Give the adjacency matrix of the the_network."
   ]
  },
  {
   "cell_type": "markdown",
   "id": "02e90c71",
   "metadata": {},
   "source": [
    "First, create a dictionary associating each node with an index."
   ]
  },
  {
   "cell_type": "code",
   "execution_count": null,
   "id": "73d0135a",
   "metadata": {},
   "outputs": [],
   "source": [
    "node_index = {node: idx for idx, node in enumerate(G.nodes)}\n"
   ]
  },
  {
   "cell_type": "markdown",
   "id": "ac160814",
   "metadata": {},
   "source": [
    "Second, initialize the matrix with zero's."
   ]
  },
  {
   "cell_type": "code",
   "execution_count": null,
   "id": "28fe19a4",
   "metadata": {},
   "outputs": [],
   "source": [
    "adjacency_matrix = [[0] * G.number_of_nodes() for _ in range(G.number_of_nodes())]\n"
   ]
  },
  {
   "cell_type": "markdown",
   "id": "13a9f179",
   "metadata": {},
   "source": [
    "Finally, fill in the matrix."
   ]
  },
  {
   "cell_type": "code",
   "execution_count": null,
   "id": "1981b8c5",
   "metadata": {},
   "outputs": [],
   "source": [
    "for node_1 in nodes:\n",
    "    for node_2 in nodes:\n",
    "        if G.has_edge(node_1, node_2):\n",
    "            i, j = node_index[node_1], node_index[node_2]\n",
    "            adjacency_matrix[i][j] = 1\n"
   ]
  },
  {
   "cell_type": "markdown",
   "id": "753d7cf2",
   "metadata": {},
   "source": [
    "Expected result:\n",
    "```\n",
    "[0, 1, 1, 0, 0, 0, 0]\n",
    "[0, 0, 0, 1, 0, 0, 0]\n",
    "[0, 1, 0, 0, 1, 0, 0]\n",
    "[0, 0, 1, 0, 0, 1, 1]\n",
    "[0, 0, 0, 1, 0, 1, 1]\n",
    "[0, 0, 0, 0, 0, 0, 1]\n",
    "[0, 0, 0, 0, 0, 0, 0]\n",
    "```"
   ]
  },
  {
   "cell_type": "code",
   "execution_count": null,
   "id": "b8134e0d",
   "metadata": {},
   "outputs": [],
   "source": [
    "for row in adjacency_matrix:\n",
    "    print(row)\n"
   ]
  },
  {
   "cell_type": "markdown",
   "id": "297f5e61",
   "metadata": {},
   "source": [
    "It is possible to obtain the matrix directly from `networkx`."
   ]
  },
  {
   "cell_type": "code",
   "execution_count": null,
   "id": "93c89384",
   "metadata": {},
   "outputs": [],
   "source": [
    "adj_matrix = nx.adjacency_matrix(G).todense()\n",
    "print('Adjacency Matrix:')\n",
    "print(adj_matrix)\n"
   ]
  },
  {
   "cell_type": "markdown",
   "id": "a93df0f9",
   "metadata": {},
   "source": [
    "# Adjacency list\n",
    "Represent the the_network using an adjacency list that also stores the flows."
   ]
  },
  {
   "cell_type": "markdown",
   "id": "40a3a306",
   "metadata": {},
   "source": [
    "First, build a dict associating each node with the list of adjacent nodes."
   ]
  },
  {
   "cell_type": "code",
   "execution_count": null,
   "id": "44585a04",
   "metadata": {},
   "outputs": [],
   "source": [
    "adj_list: dict[str : list[str]] = {\n",
    "    node: list(G.adj[node]) for node in G.nodes\n",
    "}\n"
   ]
  },
  {
   "cell_type": "markdown",
   "id": "046a4f16",
   "metadata": {},
   "source": [
    "Expected result:\n",
    "```\n",
    "{\n",
    "'a': ['c', 'b'],\n",
    "'b': ['d'],\n",
    "'c': ['b', 'e'],\n",
    "'d': ['c', 'f', 'g'],\n",
    "'e': ['d', 'g', 'f'],\n",
    "'f': ['g'],\n",
    "'g': [],\n",
    "}\n",
    "```"
   ]
  },
  {
   "cell_type": "code",
   "execution_count": null,
   "id": "19e38a7b",
   "metadata": {},
   "outputs": [],
   "source": [
    "\n",
    "print(adj_list)\n"
   ]
  },
  {
   "cell_type": "markdown",
   "id": "7a8ee892",
   "metadata": {},
   "source": [
    "Second, build a similar dict, with a list of tuple containing the downstream node and the flow."
   ]
  },
  {
   "cell_type": "code",
   "execution_count": null,
   "id": "ac5f29d0",
   "metadata": {},
   "outputs": [],
   "source": [
    "adj_list_flows: dict[str : list[tuple[str, float]]] = {\n",
    "    upstream_node: list(\n",
    "        (downstream_node, G[upstream_node][downstream_node]['flow'])\n",
    "        for downstream_node in arcs\n",
    "    )\n",
    "    for upstream_node, arcs in adj_list.items()\n",
    "}\n"
   ]
  },
  {
   "cell_type": "markdown",
   "id": "1d6f68dc",
   "metadata": {},
   "source": [
    "Expected result:\n",
    "```\n",
    "{\n",
    "'a': [('c', 1), ('b', 3)],\n",
    "'b': [('d', -1)],\n",
    "'c': [('b', 5), ('e', 0)],\n",
    "'d': [('c', 1), ('f', 1), ('g', 1)],\n",
    "'e': [('d', 2), ('g', 4), ('f', -3)],\n",
    "'f': [('g', -2)],\n",
    "'g': [],\n",
    "}\n",
    "```"
   ]
  },
  {
   "cell_type": "code",
   "execution_count": null,
   "id": "1474f8e1",
   "metadata": {},
   "outputs": [],
   "source": [
    "print(adj_list_flows)\n"
   ]
  },
  {
   "cell_type": "markdown",
   "id": "c5879d1d",
   "metadata": {},
   "source": [
    "Let's print it in a more readable way."
   ]
  },
  {
   "cell_type": "code",
   "execution_count": null,
   "id": "f8fe8879",
   "metadata": {},
   "outputs": [],
   "source": [
    "for up_stream_node, adjacency_list in adj_list_flows.items():\n",
    "    for down_stream_node, flow in adjacency_list:\n",
    "        print(f'Arc {up_stream_node} -> {down_stream_node}: {flow}')\n",
    "\n"
   ]
  },
  {
   "cell_type": "markdown",
   "id": "1eb89c0a",
   "metadata": {},
   "source": [
    "# Connectivity\n",
    "Is the the_network strongly connected?"
   ]
  },
  {
   "cell_type": "markdown",
   "id": "350f7aef",
   "metadata": {},
   "source": [
    "We  implement a function that verifies the property."
   ]
  },
  {
   "cell_type": "code",
   "execution_count": null,
   "id": "f621aca3",
   "metadata": {},
   "outputs": [],
   "source": [
    "def check_strong_connectivity(G: Graph) -> tuple[bool, set[tuple[str, str]]]:\n",
    "    \"\"\"\n",
    "\n",
    "    :param G: the graph\n",
    "    :return: a tuple containing a boolean that is True if the graph is strongly connected, False otherwise, and a\n",
    "        set of pairs of nodes that cause the property not to be verified. If the bool is True, the set is empty.\n",
    "    \"\"\"\n",
    "    disconnected_nodes = set()\n",
    "    for node1 in G.nodes:\n",
    "        for node2 in G.nodes:\n",
    "            if node1 != node2:\n",
    "                if not nx.has_path(G, node1, node2):\n",
    "                    disconnected_nodes.add((node1, node2))\n",
    "                if not nx.has_path(G, node2, node1):\n",
    "                    disconnected_nodes.add((node2, node1))\n",
    "\n",
    "    return not bool(disconnected_nodes), disconnected_nodes\n",
    "\n"
   ]
  },
  {
   "cell_type": "markdown",
   "id": "35ffbc5e",
   "metadata": {},
   "source": [
    "We apply the function on the directed graph."
   ]
  },
  {
   "cell_type": "code",
   "execution_count": null,
   "id": "89c23f68",
   "metadata": {},
   "outputs": [],
   "source": [
    "is_strongly_connected, disconnected_nodes = check_strong_connectivity(G)\n",
    "if is_strongly_connected:\n",
    "    print('The the_network is strongly connected.')\n",
    "else:\n",
    "    print(\n",
    "        'The the_network is not strongly connected. The following pairs of nodes are disconnected:'\n",
    "    )\n",
    "    for pair in disconnected_nodes:\n",
    "        print(pair)\n"
   ]
  },
  {
   "cell_type": "markdown",
   "id": "3695543b",
   "metadata": {},
   "source": [
    "Note that a function is available in the networkx package:"
   ]
  },
  {
   "cell_type": "code",
   "execution_count": null,
   "id": "f7b41e5b",
   "metadata": {},
   "outputs": [],
   "source": [
    "is_G_strongly_connected = nx.is_strongly_connected(G)\n",
    "print(f'The the_network is strongly connected? {is_G_strongly_connected}')\n",
    "\n"
   ]
  },
  {
   "cell_type": "markdown",
   "id": "a3464c8f",
   "metadata": {},
   "source": [
    "Is the the_network connected?"
   ]
  },
  {
   "cell_type": "markdown",
   "id": "4d5c828c",
   "metadata": {},
   "source": [
    "Remember that, in this case, we need to ignore the directions of the arcs. Therefore, we use an undirected version\n",
    "of the graph. Check the `networkx`documentation to see how to do that."
   ]
  },
  {
   "cell_type": "code",
   "execution_count": null,
   "id": "b861bd36",
   "metadata": {},
   "outputs": [],
   "source": [
    "\n",
    "\n",
    "def check_connectivity(G: DiGraph) -> tuple[bool, set[tuple[str, str]]]:\n",
    "    undirected_G = G.to_undirected()\n",
    "    return check_strong_connectivity(undirected_G)\n",
    "\n"
   ]
  },
  {
   "cell_type": "markdown",
   "id": "7a696205",
   "metadata": {},
   "source": [
    "We apply the function on the directed graph."
   ]
  },
  {
   "cell_type": "code",
   "execution_count": null,
   "id": "aef7d8e5",
   "metadata": {},
   "outputs": [],
   "source": [
    "is_connected, disconnected_nodes = check_connectivity(G)\n",
    "if is_connected:\n",
    "    print('The the_network is connected.')\n",
    "else:\n",
    "    print(\n",
    "        'The the_network is not connected. The following pairs of nodes are disconnected:'\n",
    "    )\n",
    "    for pair in disconnected_nodes:\n",
    "        print(pair)\n"
   ]
  },
  {
   "cell_type": "markdown",
   "id": "4916f386",
   "metadata": {},
   "source": [
    "Note that a function is available in the networkx package:"
   ]
  },
  {
   "cell_type": "code",
   "execution_count": null,
   "id": "3bbda891",
   "metadata": {},
   "outputs": [],
   "source": [
    "is_G_connected = nx.is_weakly_connected(G)\n",
    "print(f'The the_network is connected (ignoring direction)? {is_G_connected}')\n"
   ]
  },
  {
   "cell_type": "markdown",
   "id": "3d1675cf",
   "metadata": {},
   "source": [
    "# Paths\n",
    "Enumerate all simple forward paths from node $a$ to node $g$."
   ]
  },
  {
   "cell_type": "code",
   "execution_count": null,
   "id": "5245e900",
   "metadata": {},
   "outputs": [],
   "source": [
    "\n",
    "\n",
    "def enumerate_paths(\n",
    "    G: DiGraph, origin: str, destination: str, current_path: list[str] = None\n",
    ") -> list[list[str]]:\n",
    "    \"\"\"Enumerate simple paths between two nodes.\n",
    "\n",
    "    :param G: the directed graph.\n",
    "    :param origin: origin node.\n",
    "    :param destination: destination node.\n",
    "    :param current_path: current path that needs to be extended.\n",
    "    :return: a list of paths connecting the origin to the destination\n",
    "    \"\"\"\n",
    "    if current_path is None:\n",
    "        current_path = []\n",
    "\n",
    "    # Add the start node to the current path\n",
    "    current_path = current_path + [origin]\n",
    "\n",
    "    # If the start node is the end, return the path as a completed path\n",
    "    if origin == destination:\n",
    "        return [current_path]\n",
    "\n",
    "    # Initialize a set to store all paths\n",
    "    all_paths = []\n",
    "\n",
    "    # Explore each adjacent node that has not been visited in the current path\n",
    "    for node in G.successors(origin):\n",
    "        # We need to check that the node has not already been visited, as we need simple paths.\n",
    "        if node not in current_path:\n",
    "            new_paths = enumerate_paths(\n",
    "                G, node, destination, current_path\n",
    "            )\n",
    "            for new_path in new_paths:\n",
    "                all_paths.append(new_path)\n",
    "\n",
    "    return all_paths\n",
    "\n"
   ]
  },
  {
   "cell_type": "markdown",
   "id": "e0dc6481",
   "metadata": {},
   "source": [
    "Let's apply the function."
   ]
  },
  {
   "cell_type": "code",
   "execution_count": null,
   "id": "01e6c43d",
   "metadata": {},
   "outputs": [],
   "source": [
    "all_paths = enumerate_paths(G, origin='a', destination='g')\n"
   ]
  },
  {
   "cell_type": "markdown",
   "id": "5ae8ca52",
   "metadata": {},
   "source": [
    "Expected results:\n",
    "```\n",
    "['a', 'c', 'b', 'd', 'f', 'g']\n",
    "['a', 'c', 'b', 'd', 'g']\n",
    "['a', 'c', 'e', 'd', 'f', 'g']\n",
    "['a', 'c', 'e', 'd', 'g']\n",
    "['a', 'c', 'e', 'g']\n",
    "['a', 'c', 'e', 'f', 'g']\n",
    "['a', 'b', 'd', 'c', 'e', 'g']\n",
    "['a', 'b', 'd', 'c', 'e', 'f', 'g']\n",
    "['a', 'b', 'd', 'f', 'g']\n",
    "['a', 'b', 'd', 'g']\n",
    "```"
   ]
  },
  {
   "cell_type": "code",
   "execution_count": null,
   "id": "c374ea49",
   "metadata": {},
   "outputs": [],
   "source": [
    "print(\"All simple paths from 'a' to 'g':\")\n",
    "for path in all_paths:\n",
    "    print(path)\n"
   ]
  },
  {
   "cell_type": "markdown",
   "id": "376916ca",
   "metadata": {},
   "source": [
    "A function performing the same task is available from the networkx package."
   ]
  },
  {
   "cell_type": "code",
   "execution_count": null,
   "id": "daf59f73",
   "metadata": {},
   "outputs": [],
   "source": [
    "paths = list(nx.all_simple_paths(G, source='a', target='g'))\n",
    "print(\"All simple paths from 'a' to 'g':\")\n",
    "for path in paths:\n",
    "    print(path)\n"
   ]
  },
  {
   "cell_type": "markdown",
   "id": "916de084",
   "metadata": {},
   "source": [
    "# Divergence\n",
    "Give the divergence of the flow vector of each node. What are the supply nodes? What are the demand nodes?"
   ]
  },
  {
   "cell_type": "markdown",
   "id": "0c6caa38",
   "metadata": {},
   "source": [
    "We implement a function calculating the divergence of a node."
   ]
  },
  {
   "cell_type": "code",
   "execution_count": null,
   "id": "9bcfadce",
   "metadata": {},
   "outputs": [],
   "source": [
    "def divergence(G: DiGraph, node: str) -> float:\n",
    "    \"\"\"Calculates the divergence at a node, that is, the sum of out-flows minus the sum of the in-flows.\n",
    "\n",
    "    :param G: the directed graph.\n",
    "    :param node: node of interest\n",
    "    :return:\n",
    "    \"\"\"\n",
    "    the_divergence = 0\n",
    "    for successor in G.successors(node):\n",
    "        arc_flow = G[node][successor]['flow']\n",
    "        the_divergence += arc_flow\n",
    "    for predecessor in G.predecessors(node):\n",
    "        arc_flow = G[predecessor][node]['flow']\n",
    "        the_divergence -= arc_flow\n",
    "    return the_divergence\n",
    "\n"
   ]
  },
  {
   "cell_type": "markdown",
   "id": "d2af0af0",
   "metadata": {},
   "source": [
    "We apply the function."
   ]
  },
  {
   "cell_type": "code",
   "execution_count": null,
   "id": "7fd3d9dd",
   "metadata": {},
   "outputs": [],
   "source": [
    "div = {node: divergence(G, node) for node in G.nodes}\n"
   ]
  },
  {
   "cell_type": "markdown",
   "id": "54bc78f0",
   "metadata": {},
   "source": [
    "Expected result:\n",
    "```\n",
    "{\n",
    "'a': 4,\n",
    "'b': -9,\n",
    "'c': 3,\n",
    "'d': 2,\n",
    "'e': 3,\n",
    "'f': 0,\n",
    "'g': -3,\n",
    "}\n",
    "```"
   ]
  },
  {
   "cell_type": "code",
   "execution_count": null,
   "id": "6103b10d",
   "metadata": {},
   "outputs": [],
   "source": [
    "\n",
    "print(div)\n"
   ]
  },
  {
   "cell_type": "markdown",
   "id": "d66bdba0",
   "metadata": {},
   "source": [
    "With the networkx package, the notion of degree can be extended.\n",
    "Instead of adding \"one\" for each outgoing\n",
    "arc and obtain the outdegree, it is possible to add the flow on the arc.\n",
    "It can then be used to calculate the\n",
    "divergence."
   ]
  },
  {
   "cell_type": "code",
   "execution_count": null,
   "id": "110bd46e",
   "metadata": {},
   "outputs": [],
   "source": [
    "div = {\n",
    "    node: G.out_degree(node, weight='flow') - G.in_degree(node, weight='flow')\n",
    "    for node in G.nodes\n",
    "}\n",
    "print(div)\n"
   ]
  },
  {
   "cell_type": "markdown",
   "id": "9902e1df",
   "metadata": {},
   "source": [
    "# Cuts\n",
    "Consider the cut $\\Gamma = \\left( { \\mathcal{M} , \\mathcal{N} \\backslash \\mathcal{M} } \\right)$, defined by the set\n",
    "$\\mathcal{M}= \\{a,b,c \\}$.\n",
    "\n",
    "- What are the forward arcs of the cut?\n",
    "- What are the backward arcs of the cut?\n",
    "- What is the flow through the cut? Check that the formula $$X(\\Gamma)=\\sum_{i \\in \\mathcal{M}} \\text{div}(x)_i$$ is satisfied.\n",
    "- Assume that the capacities on each arc are -3 for the lower bound and 5 for the upper bound. What is the capacity of the cut?\n"
   ]
  },
  {
   "cell_type": "markdown",
   "id": "05bb0dcf",
   "metadata": {},
   "source": [
    "Define the set of nodes characterizing the cut."
   ]
  },
  {
   "cell_type": "code",
   "execution_count": null,
   "id": "e520cc6e",
   "metadata": {},
   "outputs": [],
   "source": [
    "M = {'a', 'b', 'c'}\n",
    "N = set(G.nodes) - M\n"
   ]
  },
  {
   "cell_type": "markdown",
   "id": "d82ae8c8",
   "metadata": {},
   "source": [
    "We verify that all nodes have been involved."
   ]
  },
  {
   "cell_type": "code",
   "execution_count": null,
   "id": "e4092977",
   "metadata": {},
   "outputs": [],
   "source": [
    "assert M | N == set(G.nodes)"
   ]
  },
  {
   "cell_type": "markdown",
   "id": "a1a8afe5",
   "metadata": {},
   "source": [
    "We also verify that there is no node in both sets."
   ]
  },
  {
   "cell_type": "code",
   "execution_count": null,
   "id": "24dac7b4",
   "metadata": {},
   "outputs": [],
   "source": [
    "assert not M.intersection(N)\n"
   ]
  },
  {
   "cell_type": "markdown",
   "id": "e6e1cf5c",
   "metadata": {},
   "source": [
    "Finding forward and backward arcs. Generate list of tuples including:\n",
    "- the upstream node of the arc,\n",
    "- the downstream node of the arc,\n",
    "- the flow on the arc."
   ]
  },
  {
   "cell_type": "code",
   "execution_count": null,
   "id": "96a00484",
   "metadata": {},
   "outputs": [],
   "source": [
    "forward_arcs = [\n",
    "    (u, v, G[u][v]['flow']) for u in M for v in N if G.has_edge(u, v)\n",
    "]\n"
   ]
  },
  {
   "cell_type": "markdown",
   "id": "cb06c9bc",
   "metadata": {},
   "source": [
    "The expected answer is:\n",
    "```\n",
    "Forward arcs of the cut:\n",
    "('b', 'd', -1)\n",
    "('c', 'e', 0)\n",
    "```"
   ]
  },
  {
   "cell_type": "code",
   "execution_count": null,
   "id": "e3381ad1",
   "metadata": {},
   "outputs": [],
   "source": [
    "print('Forward arcs of the cut:')\n",
    "for arc in forward_arcs:\n",
    "    print(arc)\n"
   ]
  },
  {
   "cell_type": "markdown",
   "id": "f1be91c2",
   "metadata": {},
   "source": [
    "Now for backward arcs."
   ]
  },
  {
   "cell_type": "code",
   "execution_count": null,
   "id": "9b1e739c",
   "metadata": {},
   "outputs": [],
   "source": [
    "backward_arcs = [\n",
    "    (u, v, G[u][v]['flow']) for u in N for v in M if G.has_edge(u, v)\n",
    "]\n"
   ]
  },
  {
   "cell_type": "markdown",
   "id": "b1ef0683",
   "metadata": {},
   "source": [
    "The expected answer is:\n",
    "```\n",
    "Backward arcs of the cut:\n",
    "('d', 'c', 1)\n",
    "```"
   ]
  },
  {
   "cell_type": "code",
   "execution_count": null,
   "id": "8392d5e2",
   "metadata": {},
   "outputs": [],
   "source": [
    "print('Backward arcs of the cut:')\n",
    "for arc in backward_arcs:\n",
    "    print(arc)\n"
   ]
  },
  {
   "cell_type": "markdown",
   "id": "76331a31",
   "metadata": {},
   "source": [
    "Flow through the cut"
   ]
  },
  {
   "cell_type": "code",
   "execution_count": null,
   "id": "921f142f",
   "metadata": {},
   "outputs": [],
   "source": [
    "flow_through_cut = sum(\n",
    "    flow for _, _, flow in forward_arcs\n",
    ") - sum(\n",
    "    flow for _, _, flow in backward_arcs\n",
    ")"
   ]
  },
  {
   "cell_type": "markdown",
   "id": "a23c18ad",
   "metadata": {},
   "source": [
    "Expected answer: -2"
   ]
  },
  {
   "cell_type": "code",
   "execution_count": null,
   "id": "9de2a0f7",
   "metadata": {},
   "outputs": [],
   "source": [
    "print(f\"Flow through the cut: {flow_through_cut}\")\n"
   ]
  },
  {
   "cell_type": "markdown",
   "id": "478dbb5c",
   "metadata": {},
   "source": [
    "Check the flow formula, that is, the flow through the cut is equal to the sum of the divergences of nodes in M."
   ]
  },
  {
   "cell_type": "code",
   "execution_count": null,
   "id": "05006bad",
   "metadata": {},
   "outputs": [],
   "source": [
    "divergence_flow_sum = sum(div[node] for node in M)\n"
   ]
  },
  {
   "cell_type": "markdown",
   "id": "2d19e2e0",
   "metadata": {},
   "source": [
    "Expected answer: -2"
   ]
  },
  {
   "cell_type": "code",
   "execution_count": null,
   "id": "c0e19db7",
   "metadata": {},
   "outputs": [],
   "source": [
    "print(f\"Sum of divergence in M: {divergence_flow_sum}\")\n",
    "print(\"Is the formula satisfied? \", divergence_flow_sum == flow_through_cut)\n"
   ]
  },
  {
   "cell_type": "markdown",
   "id": "f7a12af0",
   "metadata": {},
   "source": [
    "Capacity of the cut"
   ]
  },
  {
   "cell_type": "code",
   "execution_count": null,
   "id": "ed4242d9",
   "metadata": {},
   "outputs": [],
   "source": [
    "lower_bound = -3\n",
    "upper_bound = 5\n",
    "capacity_forward_arcs = upper_bound * len(\n",
    "    forward_arcs\n",
    ")\n",
    "capacity_backward_arcs = lower_bound * len(\n",
    "    backward_arcs\n",
    ")\n",
    "capacity_of_cut = (\n",
    "    capacity_forward_arcs - capacity_backward_arcs\n",
    ")\n"
   ]
  },
  {
   "cell_type": "markdown",
   "id": "f5373196",
   "metadata": {},
   "source": [
    "Expected answer: 13"
   ]
  },
  {
   "cell_type": "code",
   "execution_count": null,
   "id": "aa134c09",
   "metadata": {},
   "outputs": [],
   "source": [
    "print(f\"Capacity of the cut: {capacity_of_cut}\")"
   ]
  }
 ],
 "metadata": {},
 "nbformat": 4,
 "nbformat_minor": 5
}

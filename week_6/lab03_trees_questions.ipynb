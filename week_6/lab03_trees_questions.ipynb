{
 "cells": [
  {
   "cell_type": "markdown",
   "id": "9d720196",
   "metadata": {},
   "source": [
    "# Trees\n",
    "\n",
    "## Introduction to optimization and operations research\n",
    "\n",
    "Michel Bierlaire\n"
   ]
  },
  {
   "cell_type": "code",
   "execution_count": null,
   "id": "7d7b84ef",
   "metadata": {},
   "outputs": [],
   "source": [
    "\n",
    "import random\n",
    "from itertools import combinations\n",
    "from typing import Any\n",
    "\n",
    "import numpy as np\n",
    "from networkx import (\n",
    "    Graph,\n",
    "    random_tree,\n",
    "    spring_layout,\n",
    "    draw,\n",
    "    find_cycle,\n",
    "    NetworkXNoCycle,\n",
    "    is_connected,\n",
    "    connected_components,\n",
    ")\n",
    "from matplotlib import pyplot as plt\n"
   ]
  },
  {
   "cell_type": "markdown",
   "id": "a81c57b9",
   "metadata": {},
   "source": [
    "A node in the_network can be of any type. In this script, we use int."
   ]
  },
  {
   "cell_type": "code",
   "execution_count": null,
   "id": "8bacd3a3",
   "metadata": {},
   "outputs": [],
   "source": [
    "Node = Any\n",
    "Edge = tuple[Node, Node]\n",
    "\n"
   ]
  },
  {
   "cell_type": "markdown",
   "id": "61de4423",
   "metadata": {},
   "source": [
    "Here is a function to plot a graph."
   ]
  },
  {
   "cell_type": "code",
   "execution_count": null,
   "id": "48a7c4b8",
   "metadata": {},
   "outputs": [],
   "source": [
    "def visualize_graph(graph: Graph, positions: dict[Node, np.array]) -> None:\n",
    "    \"\"\"Plot a graph\n",
    "\n",
    "    :param graph: graph to be plotted.\n",
    "    :param positions: coordinates of the nodes.\n",
    "    \"\"\"\n",
    "    draw(\n",
    "        graph,\n",
    "        positions,\n",
    "        with_labels=True,\n",
    "        node_color='lightblue',\n",
    "        node_size=500,\n",
    "        font_size=10,\n",
    "        edge_color='gray',\n",
    "    )\n",
    "    plt.title(\"Random Tree\")\n",
    "    plt.show()\n",
    "\n"
   ]
  },
  {
   "cell_type": "markdown",
   "id": "b16d4067",
   "metadata": {},
   "source": [
    "Example: Create a random tree with 10 nodes"
   ]
  },
  {
   "cell_type": "code",
   "execution_count": null,
   "id": "46b0c671",
   "metadata": {},
   "outputs": [],
   "source": [
    "n = 10\n",
    "tree: Graph = random_tree(n)\n",
    "pos = spring_layout(tree)\n",
    "\n"
   ]
  },
  {
   "cell_type": "markdown",
   "id": "ed03c82f",
   "metadata": {},
   "source": [
    "Visualize the graph"
   ]
  },
  {
   "cell_type": "code",
   "execution_count": null,
   "id": "65f272d3",
   "metadata": {},
   "outputs": [],
   "source": [
    "visualize_graph(tree, pos)\n",
    "\n"
   ]
  },
  {
   "cell_type": "markdown",
   "id": "b3117e51",
   "metadata": {},
   "source": [
    "Implement a function that detects a cycle in a graph"
   ]
  },
  {
   "cell_type": "code",
   "execution_count": null,
   "id": "52a15cfd",
   "metadata": {},
   "outputs": [],
   "source": [
    "def detect_cycle(graph: Graph) -> list[Edge] | None:\n",
    "    \"\"\"Detect if a graph contains a cycle\n",
    "\n",
    "    :param graph: graph to analyze\n",
    "    :param graph: graph to analyze\n",
    "    :return: the list of arcs in the cycle, or None if None has been found.\n",
    "    \"\"\"\n",
    "    return ????\n",
    "\n",
    "\n",
    "\n",
    "\n",
    "\n",
    "\n"
   ]
  },
  {
   "cell_type": "markdown",
   "id": "5fe86ea3",
   "metadata": {},
   "source": [
    "Check if the tree contains a cycle."
   ]
  },
  {
   "cell_type": "code",
   "execution_count": null,
   "id": "290c315c",
   "metadata": {},
   "outputs": [],
   "source": [
    "\n",
    "cycle = detect_cycle(tree)\n",
    "if cycle:\n",
    "    print(f'A cycle was detected: {cycle}')\n",
    "else:\n",
    "    print('No cycle was detected.')\n",
    "\n"
   ]
  },
  {
   "cell_type": "markdown",
   "id": "38d9255b",
   "metadata": {},
   "source": [
    "Implement a function that checks if the graph is connected.\n",
    "If not, identify two connected components, and return one node from each."
   ]
  },
  {
   "cell_type": "code",
   "execution_count": null,
   "id": "5ee6301e",
   "metadata": {},
   "outputs": [],
   "source": [
    "def is_graph_connected(graph: Graph) -> tuple[Node, Node] | None:\n",
    "    \"\"\"\n",
    "    Determines if the given graph is connected.\n",
    "\n",
    "    :param graph: an undirected graph (Graph)\n",
    "    :return: two disconnected nodes, or None if the graph is disconnected.\n",
    "    \"\"\"\n",
    "    if ????:\n",
    "        return None\n",
    "\n",
    "    # Find the connected components\n",
    "     components = ????\n",
    "\n",
    "    # Get two nodes from different components\n",
    "    # Choose the first node from the first component and the first node from the second component\n",
    "    node1 = ????\n",
    "    node2 = ????\n",
    "    return node1, node2\n",
    "\n"
   ]
  },
  {
   "cell_type": "markdown",
   "id": "86869d6e",
   "metadata": {},
   "source": [
    "Check if the tree is connected."
   ]
  },
  {
   "cell_type": "code",
   "execution_count": null,
   "id": "dfd44537",
   "metadata": {},
   "outputs": [],
   "source": [
    "\n",
    "result = is_graph_connected(tree)\n",
    "message = (\n",
    "    'The graph is connected'\n",
    "    if result is None\n",
    "    else f'Nodes {result[0]} and {result[1]} are not connected'\n",
    ")\n",
    "print(message)\n",
    "\n"
   ]
  },
  {
   "cell_type": "markdown",
   "id": "f2d81ecb",
   "metadata": {},
   "source": [
    "Now, write a function that adds a random arc to a graph"
   ]
  },
  {
   "cell_type": "code",
   "execution_count": null,
   "id": "3b3cae3a",
   "metadata": {},
   "outputs": [],
   "source": [
    "def add_edge(graph: Graph) -> Edge:\n",
    "    \"\"\"Add a random arc in a graph\n",
    "\n",
    "    :param graph: graph to complete.\n",
    "    :return: added arc.\n",
    "    \"\"\"\n",
    "    # First, check the missing arcs in the graph.\n",
    "    nodes = list(graph.nodes)\n",
    "    missing_edges = list()\n",
    "    for upstream_node, downstream_node in combinations(nodes, 2):\n",
    "        if not graph.has_edge(upstream_node, downstream_node):\n",
    "            missing_edges.append((upstream_node, downstream_node))\n",
    "    if not missing_edges:\n",
    "        print(f'The graph is complete. No arc can be added.')\n",
    "\n",
    "    # Choose randomly a missing arc and add it to the graph\n",
    "    up_stream_node, downstream_node = ????\n",
    "\n",
    "\n",
    "    # Add the selected arc to the graph.\n",
    "    ????\n",
    "    return up_stream_node, downstream_node\n",
    "\n"
   ]
  },
  {
   "cell_type": "markdown",
   "id": "fb7f5c09",
   "metadata": {},
   "source": [
    "Let's add an arc to the tree"
   ]
  },
  {
   "cell_type": "code",
   "execution_count": null,
   "id": "318d3db3",
   "metadata": {},
   "outputs": [],
   "source": [
    "u, v = add_edge(tree)\n",
    "print(f'An arc between nodes {u} and {v} has been added.')\n"
   ]
  },
  {
   "cell_type": "markdown",
   "id": "fb48748a",
   "metadata": {},
   "source": [
    "We plot the modified tree"
   ]
  },
  {
   "cell_type": "code",
   "execution_count": null,
   "id": "afb4776b",
   "metadata": {},
   "outputs": [],
   "source": [
    "visualize_graph(tree, pos)\n"
   ]
  },
  {
   "cell_type": "markdown",
   "id": "e743356b",
   "metadata": {},
   "source": [
    "Check the presence of a cycle, and the connectivity of the modified tree.\n",
    "Cycle:"
   ]
  },
  {
   "cell_type": "code",
   "execution_count": null,
   "id": "62739252",
   "metadata": {},
   "outputs": [],
   "source": [
    "\n",
    "cycle = detect_cycle(tree)\n",
    "if cycle:\n",
    "    print(f'A cycle was detected: {cycle}')\n",
    "else:\n",
    "    print('No cycle was detected.')\n"
   ]
  },
  {
   "cell_type": "markdown",
   "id": "c30d2a17",
   "metadata": {},
   "source": [
    "Connectivity:"
   ]
  },
  {
   "cell_type": "code",
   "execution_count": null,
   "id": "ca8edab8",
   "metadata": {},
   "outputs": [],
   "source": [
    "\n",
    "result = is_graph_connected(tree)\n",
    "message = (\n",
    "    'The graph is connected'\n",
    "    if result is None\n",
    "    else f'Nodes {result[0]} and {result[1]} are not connected'\n",
    ")\n",
    "print(message)\n",
    "\n"
   ]
  },
  {
   "cell_type": "markdown",
   "id": "32f569f1",
   "metadata": {},
   "source": [
    "Now, write a function that removes a random arc to a graph"
   ]
  },
  {
   "cell_type": "code",
   "execution_count": null,
   "id": "38c605a9",
   "metadata": {},
   "outputs": [],
   "source": [
    "def remove_edge(graph: Graph) -> Edge | None:\n",
    "    \"\"\"\n",
    "    Removes a random arc from the given graph.\n",
    "\n",
    "    :param graph: A NetworkX graph\n",
    "    \"\"\"\n",
    "    if graph.number_of_edges() == 0:\n",
    "        print('The graph has no arc to remove.')\n",
    "        return None\n",
    "\n",
    "    # Select a random arc\n",
    "    random_edge: Edge = ????\n",
    "\n",
    "\n",
    "    # Remove the selected arc. Note that the `*random_edge` unpacks the tuple into its two components.\n",
    "    ????\n",
    "    print(f'Edge {random_edge} removed.')\n",
    "    return random_edge\n",
    "\n"
   ]
  },
  {
   "cell_type": "markdown",
   "id": "cf508539",
   "metadata": {},
   "source": [
    "We generate another random tree"
   ]
  },
  {
   "cell_type": "code",
   "execution_count": null,
   "id": "aba97671",
   "metadata": {},
   "outputs": [],
   "source": [
    "tree = random_tree(n)\n",
    "pos = spring_layout(tree)\n",
    "visualize_graph(tree, pos)\n"
   ]
  },
  {
   "cell_type": "markdown",
   "id": "b3420fe6",
   "metadata": {},
   "source": [
    "Check the presence of a cycle, and the connectivity of the modified tree."
   ]
  },
  {
   "cell_type": "markdown",
   "id": "9d971142",
   "metadata": {},
   "source": [
    "Cycle:"
   ]
  },
  {
   "cell_type": "code",
   "execution_count": null,
   "id": "2eb8b2dc",
   "metadata": {},
   "outputs": [],
   "source": [
    "\n",
    "cycle = detect_cycle(tree)\n",
    "if cycle:\n",
    "    print(f'A cycle was detected: {cycle}')\n",
    "else:\n",
    "    print('No cycle was detected.')\n"
   ]
  },
  {
   "cell_type": "markdown",
   "id": "c24d30ed",
   "metadata": {},
   "source": [
    "Connectivity:"
   ]
  },
  {
   "cell_type": "code",
   "execution_count": null,
   "id": "bdaf919b",
   "metadata": {},
   "outputs": [],
   "source": [
    "\n",
    "result = is_graph_connected(tree)\n",
    "message = (\n",
    "    'The graph is connected'\n",
    "    if result is None\n",
    "    else f'Nodes {result[0]} and {result[1]} are not connected'\n",
    ")\n",
    "print(message)\n"
   ]
  },
  {
   "cell_type": "markdown",
   "id": "e4f27fd4",
   "metadata": {},
   "source": [
    "We now remove a random arc."
   ]
  },
  {
   "cell_type": "code",
   "execution_count": null,
   "id": "14aec548",
   "metadata": {},
   "outputs": [],
   "source": [
    "u, v = remove_edge(tree)\n",
    "print(f'Edge between ({u}, {v}) has been removed.')\n",
    "visualize_graph(tree, pos)\n"
   ]
  },
  {
   "cell_type": "markdown",
   "id": "facb2d02",
   "metadata": {},
   "source": [
    "Check the presence of a cycle, and the connectivity of the modified tree."
   ]
  },
  {
   "cell_type": "markdown",
   "id": "042eb848",
   "metadata": {},
   "source": [
    "Cycle:"
   ]
  },
  {
   "cell_type": "code",
   "execution_count": null,
   "id": "bc6587af",
   "metadata": {},
   "outputs": [],
   "source": [
    "\n",
    "cycle = detect_cycle(tree)\n",
    "if cycle:\n",
    "    print(f'A cycle was detected: {cycle}')\n",
    "else:\n",
    "    print('No cycle was detected.')\n"
   ]
  },
  {
   "cell_type": "markdown",
   "id": "e8665045",
   "metadata": {},
   "source": [
    "Connectivity:"
   ]
  },
  {
   "cell_type": "code",
   "execution_count": null,
   "id": "963cfda7",
   "metadata": {},
   "outputs": [],
   "source": [
    "\n",
    "result = is_graph_connected(tree)\n",
    "message = (\n",
    "    'The graph is connected'\n",
    "    if result is None\n",
    "    else f'Nodes {result[0]} and {result[1]} are not connected'\n",
    ")\n",
    "print(message)"
   ]
  }
 ],
 "metadata": {},
 "nbformat": 4,
 "nbformat_minor": 5
}

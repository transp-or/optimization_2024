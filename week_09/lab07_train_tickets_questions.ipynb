{
 "cells": [
  {
   "cell_type": "markdown",
   "id": "7760fdc5",
   "metadata": {},
   "source": [
    "# Transhipment: modeling\n",
    "\n",
    "## Introduction to optimization and operations research\n",
    "\n",
    "Michel Bierlaire\n"
   ]
  },
  {
   "cell_type": "code",
   "execution_count": null,
   "id": "cd974570",
   "metadata": {},
   "outputs": [],
   "source": [
    "\n",
    "from matplotlib import pyplot as plt\n",
    "from networkx import (\n",
    "    draw_networkx_nodes,\n",
    "    draw_networkx_labels,\n",
    "    draw_networkx_edges,\n",
    "    draw_networkx_edge_labels,\n",
    "    DiGraph,\n",
    ")\n"
   ]
  },
  {
   "cell_type": "markdown",
   "id": "6b230d83",
   "metadata": {},
   "source": [
    "François, 24, and Aria, 26, are traveling from Lausanne to Paris. There\n",
    "are only two seats available in the TGV: one first class ticket at\n",
    "92 euros and one second class ticket at 68 euros, discounted to\n",
    "49 euros if the traveler is 25 or younger. In order to minimize the\n",
    "total costs, it makes sense for François to take the second class\n",
    "ticket and for Aria the first class ticket.\n",
    "\n",
    "- Model the problem  as a transhipment problem, and draw the corresponding network.\n",
    "- To which instance of the transhipment problem seen in class does this problem correspond?\n",
    "- Prove that the proposed solution is indeed optimal."
   ]
  },
  {
   "cell_type": "markdown",
   "id": "e4f01b45",
   "metadata": {},
   "source": [
    "# Question 1: Model the problem  as a transhipment problem, and draw the corresponding network.\n",
    "Create the directed graph"
   ]
  },
  {
   "cell_type": "code",
   "execution_count": null,
   "id": "cdf18341",
   "metadata": {},
   "outputs": [],
   "source": [
    "the_network = DiGraph()\n"
   ]
  },
  {
   "cell_type": "markdown",
   "id": "d20c2b86",
   "metadata": {},
   "source": [
    "Add nodes with data"
   ]
  },
  {
   "cell_type": "code",
   "execution_count": null,
   "id": "9dff8011",
   "metadata": {},
   "outputs": [],
   "source": [
    "supply_francois = ????\n",
    "the_network.add_node('François', supply=supply_francois)\n",
    "supply_aria = ????\n",
    "the_network.add_node('Aria', supply=supply_aria)\n",
    "supply_first = ????\n",
    "the_network.add_node('First', supply=supply_first)\n",
    "supply_second = ????\n",
    "the_network.add_node('Second', supply=supply_second)\n",
    "\n"
   ]
  },
  {
   "cell_type": "markdown",
   "id": "a079c8c5",
   "metadata": {},
   "source": [
    "Add arcs with data"
   ]
  },
  {
   "cell_type": "code",
   "execution_count": null,
   "id": "32ba7209",
   "metadata": {},
   "outputs": [],
   "source": [
    "????\n",
    "\n",
    "\n",
    "\n"
   ]
  },
  {
   "cell_type": "markdown",
   "id": "5aa5ed61",
   "metadata": {},
   "source": [
    "Define positions for each node"
   ]
  },
  {
   "cell_type": "code",
   "execution_count": null,
   "id": "4d9f2a4e",
   "metadata": {},
   "outputs": [],
   "source": [
    "pos = {\n",
    "    'François': (1, 0),\n",
    "    'Aria': (1, -3),\n",
    "    'First': (5, 0),\n",
    "    'Second': (5, -3),\n",
    "}\n"
   ]
  },
  {
   "cell_type": "markdown",
   "id": "d715ce2d",
   "metadata": {},
   "source": [
    "Draw the nodes with labels (including supply data)"
   ]
  },
  {
   "cell_type": "code",
   "execution_count": null,
   "id": "3d55b015",
   "metadata": {},
   "outputs": [],
   "source": [
    "node_labels = {\n",
    "    node: f\"{node}\\nSupply: {data['supply']}\"\n",
    "    for node, data in the_network.nodes(data=True)\n",
    "}\n",
    "\n"
   ]
  },
  {
   "cell_type": "markdown",
   "id": "a13f509d",
   "metadata": {},
   "source": [
    "Draw the arcs with labels (including cost data)"
   ]
  },
  {
   "cell_type": "code",
   "execution_count": null,
   "id": "c7e3dfb2",
   "metadata": {},
   "outputs": [],
   "source": [
    "edge_labels = {(u, v): f\"Cost: {d['cost']}\" for u, v, d in the_network.edges(data=True)}\n",
    "\n"
   ]
  },
  {
   "cell_type": "markdown",
   "id": "c68e35e2",
   "metadata": {},
   "source": [
    "Display the graph"
   ]
  },
  {
   "cell_type": "code",
   "execution_count": null,
   "id": "f7fc6183",
   "metadata": {},
   "outputs": [],
   "source": [
    "draw_networkx_nodes(\n",
    "    the_network,\n",
    "    pos,\n",
    "    node_size=3000,\n",
    "    node_color='lightblue',\n",
    "    edgecolors='black',\n",
    "    alpha=0.5,\n",
    ")\n",
    "draw_networkx_labels(the_network, pos, labels=node_labels, font_size=8)\n",
    "draw_networkx_edges(the_network, pos, edgelist=the_network.edges(), arrows=True)\n",
    "draw_networkx_edge_labels(\n",
    "    the_network, pos, edge_labels=edge_labels, font_size=8, label_pos=0.3\n",
    ")\n",
    "plt.show()\n"
   ]
  },
  {
   "cell_type": "markdown",
   "id": "6cc98db2",
   "metadata": {},
   "source": [
    "# Question 2: to which instance of the transhipment problem seen in class does this problem correspond?"
   ]
  },
  {
   "cell_type": "markdown",
   "id": "ee44b8c8",
   "metadata": {},
   "source": [
    "# Question 3: Prove that the proposed solution is indeed optimal."
   ]
  }
 ],
 "metadata": {},
 "nbformat": 4,
 "nbformat_minor": 5
}

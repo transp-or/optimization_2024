{
 "cells": [
  {
   "cell_type": "markdown",
   "id": "dc370d1f",
   "metadata": {},
   "source": [
    "# Transhipment: maximum flow\n",
    "\n",
    "## Introduction to optimization and operations research\n",
    "\n",
    "Michel Bierlaire\n"
   ]
  },
  {
   "cell_type": "code",
   "execution_count": null,
   "id": "ab4a2076",
   "metadata": {},
   "outputs": [],
   "source": [
    "\n",
    "import sys\n",
    "\n",
    "import numpy as np\n",
    "from matplotlib import pyplot as plt\n",
    "from networkx import (\n",
    "    DiGraph,\n",
    "    draw_networkx_nodes,\n",
    "    draw_networkx_edges,\n",
    "    draw_networkx_edge_labels,\n",
    "    Graph,\n",
    "    draw_networkx_labels,\n",
    ")\n",
    "from teaching_optimization.simplex_tableau import SimplexAlgorithmTableau\n",
    "from teaching_optimization.tableau import SimplexTableau\n"
   ]
  },
  {
   "cell_type": "markdown",
   "id": "59fb5930",
   "metadata": {},
   "source": [
    "For security\n",
    "reasons, the city council of Lausanne wants to know how many persons can get\n",
    "from the train station to the bar ``Great Escape'' during one hour.  The possible links which can be used and their\n",
    "corresponding capacity are the following:"
   ]
  },
  {
   "cell_type": "markdown",
   "id": "1c3a922a",
   "metadata": {},
   "source": [
    "- Station to Metro: 1500 persons/hour.\n",
    "- Station to Place de l'Europe: 2700 persons/hour.\n",
    "- Metro to the Great Escape: 2500 persons/hour.\n",
    "- Place de l'Europe to Metro: 1800 persons/hour.\n",
    "- Place de l'Europe to Great Escape: 2200 persons/hour."
   ]
  },
  {
   "cell_type": "markdown",
   "id": "d96d991b",
   "metadata": {},
   "source": [
    "We model this as a maximum flow problem."
   ]
  },
  {
   "cell_type": "markdown",
   "id": "90b66a2d",
   "metadata": {},
   "source": [
    "# Question 1\n",
    "Code and draw the corresponding network. The network must have the cost, the upper\n",
    "and lower bounds on each arc, including the additional dummy arc used for counting the flow."
   ]
  },
  {
   "cell_type": "code",
   "execution_count": null,
   "id": "eb126ff6",
   "metadata": {},
   "outputs": [],
   "source": [
    "\n",
    "the_network = DiGraph()\n"
   ]
  },
  {
   "cell_type": "markdown",
   "id": "0393ab96",
   "metadata": {},
   "source": [
    "Add nodes"
   ]
  },
  {
   "cell_type": "code",
   "execution_count": null,
   "id": "cb0f172c",
   "metadata": {},
   "outputs": [],
   "source": [
    "the_network.add_node('Station')\n",
    "the_network.add_node('Metro M2')\n",
    "the_network.add_node('Pl. Europe')\n",
    "the_network.add_node('Great Escape')\n"
   ]
  },
  {
   "cell_type": "markdown",
   "id": "6a62d676",
   "metadata": {},
   "source": [
    "Add arcs with cost, and capacity (lower and upper bound). Here is how to code the first arc."
   ]
  },
  {
   "cell_type": "code",
   "execution_count": null,
   "id": "41c827d6",
   "metadata": {},
   "outputs": [],
   "source": [
    "the_network.add_edge('Station', 'Metro M2', cost=0, lower_bound=0, upper_bound=1500)"
   ]
  },
  {
   "cell_type": "markdown",
   "id": "cafade0c",
   "metadata": {},
   "source": [
    "Add the other arcs"
   ]
  },
  {
   "cell_type": "code",
   "execution_count": null,
   "id": "2ce3d497",
   "metadata": {},
   "outputs": [],
   "source": [
    " ????\n",
    "\n",
    "\n",
    "\n",
    "\n",
    "\n",
    "\n",
    "\n",
    "\n",
    "\n",
    "\n",
    "\n",
    "\n"
   ]
  },
  {
   "cell_type": "markdown",
   "id": "3db44ecb",
   "metadata": {},
   "source": [
    "We save the list of arcs from the original network, to draw them differently."
   ]
  },
  {
   "cell_type": "code",
   "execution_count": null,
   "id": "11b4cd25",
   "metadata": {},
   "outputs": [],
   "source": [
    "original_arcs = list(the_network.edges())\n"
   ]
  },
  {
   "cell_type": "markdown",
   "id": "383b6765",
   "metadata": {},
   "source": [
    "Add the dummy arc."
   ]
  },
  {
   "cell_type": "code",
   "execution_count": null,
   "id": "310276ce",
   "metadata": {},
   "outputs": [],
   "source": [
    "\n",
    " ????\n",
    "\n",
    "\n",
    "\n",
    "\n"
   ]
  },
  {
   "cell_type": "markdown",
   "id": "ea80d634",
   "metadata": {},
   "source": [
    "Define coordinates for the plot."
   ]
  },
  {
   "cell_type": "code",
   "execution_count": null,
   "id": "e4272a55",
   "metadata": {},
   "outputs": [],
   "source": [
    "pos = {\n",
    "    'Station': (0, 4),\n",
    "    'Metro M2': (5, 4),\n",
    "    'Pl. Europe': (3, 0),\n",
    "    'Great Escape': (8, 0),\n",
    "}\n",
    "\n"
   ]
  },
  {
   "cell_type": "markdown",
   "id": "a98f0ac8",
   "metadata": {},
   "source": [
    "Function to plot the network."
   ]
  },
  {
   "cell_type": "code",
   "execution_count": null,
   "id": "f57a3f7a",
   "metadata": {},
   "outputs": [],
   "source": [
    "def plot_network(network: Graph) -> None:\n",
    "    \"\"\"Plot the network and its data.\n",
    "\n",
    "    :param network: network to plot.\n",
    "    \"\"\"\n",
    "\n",
    "    # Figure size\n",
    "    plt.figure(figsize=(10, 10))\n",
    "\n",
    "    # Draw the nodes\n",
    "    draw_networkx_nodes(network, pos, node_size=1000, node_color='lightblue', alpha=0.5)\n",
    "\n",
    "    # Move the labels\n",
    "    shifted_positions = {\n",
    "        node: (coord[0], coord[1] - 0.2) for node, coord in pos.items()\n",
    "    }\n",
    "\n",
    "    # Draw the node labels\n",
    "    draw_networkx_labels(network, shifted_positions, font_size=12, font_weight='bold')\n",
    "\n",
    "    # Draw the arcs with labels\n",
    "    edge_labels = {}\n",
    "    for u, v, data in network.edges(data=True):\n",
    "        lower_bound = data['lower_bound']\n",
    "        upper_bound = data['upper_bound']\n",
    "        label = f'({lower_bound},{upper_bound})'\n",
    "        edge_labels[(u, v)] = label\n",
    "\n",
    "    draw_networkx_edges(\n",
    "        network, pos, edgelist=original_arcs, arrowstyle='->', arrowsize=20\n",
    "    )\n",
    "    # We draw the dummy arc differently.\n",
    "    dummy_arc = ('Great Escape', 'Station')\n",
    "    draw_networkx_edges(\n",
    "        network,\n",
    "        pos,\n",
    "        edgelist=[dummy_arc],\n",
    "        style='dotted',\n",
    "        arrowstyle='->',\n",
    "        arrowsize=20,\n",
    "    )\n",
    "    draw_networkx_edge_labels(\n",
    "        network, pos, edge_labels=edge_labels, font_size=10, label_pos=0.3\n",
    "    )\n",
    "\n",
    "    # Display the graph\n",
    "    plt.title('Maximum flow problem')\n",
    "    plt.axis('off')\n",
    "    plt.show()\n",
    "\n",
    "\n",
    "plot_network(network=the_network)\n",
    "\n"
   ]
  },
  {
   "cell_type": "markdown",
   "id": "5cf6d229",
   "metadata": {},
   "source": [
    "# Question 2\n",
    "Write down the corresponding optimization problem. Remember that\n",
    "the max flow is a special case of the transhipment problem."
   ]
  },
  {
   "cell_type": "markdown",
   "id": "65d55126",
   "metadata": {},
   "source": [
    "# Question 3\n",
    "Solve the problem with the simplex algorithm\n",
    "A solution to this problem is the following flows:\n",
    "\n",
    "- $x_{S, M2} = 1500$,\n",
    "- $x_{S, E} = 2700$,\n",
    "- $x_{E, M2} = 500$,\n",
    "- $x_{E, GE} = 2200$,\n",
    "- $x_{M2, GE} = 2000$."
   ]
  },
  {
   "cell_type": "markdown",
   "id": "cc817935",
   "metadata": {},
   "source": [
    "Another solution is\n",
    "\n",
    "- $x_{S, M2} = 1500$,\n",
    "- $x_{S, E} = 2700$,\n",
    "- $x_{E, M2} = 1000$,\n",
    "- $x_{E, GE} = 1700$,\n",
    "- $x_{M2, GE} = 2500$."
   ]
  },
  {
   "cell_type": "markdown",
   "id": "39154b7e",
   "metadata": {},
   "source": [
    "Check that they both have the same value for the objective function."
   ]
  },
  {
   "cell_type": "markdown",
   "id": "20388c96",
   "metadata": {},
   "source": [
    "As the problem is solved by the simplex algorithm, no need to transform the network to obtain the standard form.\n",
    "Simply add slack variables like for general linear optimization problems, even if the matrix of the standard form\n",
    "problem is not the incidence matrix of a transhipment problem."
   ]
  },
  {
   "cell_type": "code",
   "execution_count": null,
   "id": "8166ceb8",
   "metadata": {},
   "outputs": [],
   "source": [
    "\n",
    "\n",
    "\n",
    "\n",
    "\n",
    "\n",
    "\n",
    "\n",
    "\n",
    "\n",
    "\n",
    "\n",
    "\n",
    "matrix = ????\n",
    "\n",
    "\n",
    "\n",
    "\n",
    "\n",
    "\n",
    "\n",
    "\n",
    "\n",
    "\n",
    "\n",
    "\n",
    "print(matrix)\n",
    "\n"
   ]
  },
  {
   "cell_type": "markdown",
   "id": "58939380",
   "metadata": {},
   "source": [
    "The cost vector $c$."
   ]
  },
  {
   "cell_type": "code",
   "execution_count": null,
   "id": "a3c26f46",
   "metadata": {},
   "outputs": [],
   "source": [
    "\n",
    "\n",
    "vector_c = ????\n",
    "\n"
   ]
  },
  {
   "cell_type": "markdown",
   "id": "6f7d8b30",
   "metadata": {},
   "source": [
    "The right-hand-side $b$."
   ]
  },
  {
   "cell_type": "code",
   "execution_count": null,
   "id": "6843b71b",
   "metadata": {},
   "outputs": [],
   "source": [
    "\n",
    "\n",
    "vector_b = ????\n"
   ]
  },
  {
   "cell_type": "markdown",
   "id": "7be144de",
   "metadata": {},
   "source": [
    "We create the algorithm"
   ]
  },
  {
   "cell_type": "code",
   "execution_count": null,
   "id": "93d0c05b",
   "metadata": {},
   "outputs": [],
   "source": [
    "the_algorithm = SimplexAlgorithmTableau(\n",
    "    objective=vector_c,\n",
    "    constraint_matrix=matrix,\n",
    "    right_hand_side=vector_b,\n",
    ")\n"
   ]
  },
  {
   "cell_type": "markdown",
   "id": "5e7dad97",
   "metadata": {},
   "source": [
    "We solve the problem"
   ]
  },
  {
   "cell_type": "code",
   "execution_count": null,
   "id": "b18ba6fe",
   "metadata": {},
   "outputs": [],
   "source": [
    "optimal_tableau: SimplexTableau = the_algorithm.solve()\n"
   ]
  },
  {
   "cell_type": "markdown",
   "id": "4521f339",
   "metadata": {},
   "source": [
    "Check if the problem is feasible"
   ]
  },
  {
   "cell_type": "code",
   "execution_count": null,
   "id": "1eef3dc2",
   "metadata": {},
   "outputs": [],
   "source": [
    "if optimal_tableau is None:\n",
    "    print(f'Optimization problem is infeasible.')\n",
    "    sys.exit()\n"
   ]
  },
  {
   "cell_type": "markdown",
   "id": "aded3ed8",
   "metadata": {},
   "source": [
    "Optimal solution"
   ]
  },
  {
   "cell_type": "code",
   "execution_count": null,
   "id": "7282e3d3",
   "metadata": {},
   "outputs": [],
   "source": [
    "print(optimal_tableau.feasible_basic_solution)\n"
   ]
  },
  {
   "cell_type": "markdown",
   "id": "ade9a1c1",
   "metadata": {},
   "source": [
    "Interpretation in terms of arc flows:"
   ]
  },
  {
   "cell_type": "code",
   "execution_count": null,
   "id": "47508b81",
   "metadata": {},
   "outputs": [],
   "source": [
    "flow_ge_s = ????\n",
    "print(f'GE -> S: {flow_ge_s}')\n",
    "\n",
    "flow_s_m2 = ????\n",
    "print(f'S -> M2: {flow_s_m2}')\n",
    "\n",
    "flow_s_e = ????\n",
    "print(f'S -> E : {flow_s_e}')\n",
    "\n",
    "flow_e_m2 = ????\n",
    "print(f'E ->M2 : {flow_e_m2}')\n",
    "\n",
    "flow_e_ge = ????\n",
    "print(f'E ->GE : {flow_e_ge}')\n",
    "\n",
    "flow_m2_ge = ????\n",
    "print(f'M2 ->GE: {flow_m2_ge}')\n",
    "\n"
   ]
  },
  {
   "cell_type": "markdown",
   "id": "cd140fea",
   "metadata": {},
   "source": [
    "Optimal value"
   ]
  },
  {
   "cell_type": "code",
   "execution_count": null,
   "id": "b32a99c6",
   "metadata": {},
   "outputs": [],
   "source": [
    "print(f'{optimal_tableau.value_objective_function}')\n"
   ]
  },
  {
   "cell_type": "markdown",
   "id": "c41f3479",
   "metadata": {},
   "source": [
    "What is the total flow through the network?"
   ]
  },
  {
   "cell_type": "code",
   "execution_count": null,
   "id": "658e02bf",
   "metadata": {},
   "outputs": [],
   "source": [
    "\n",
    "total_flow = ????\n",
    "print(f'Total flow through the network: {total_flow}')\n",
    "\n"
   ]
  },
  {
   "cell_type": "markdown",
   "id": "ab36e7b1",
   "metadata": {},
   "source": [
    "# Question 4\n",
    "Identify a saturated cut in the original graph, that does not involve\n",
    "the dummy arc."
   ]
  }
 ],
 "metadata": {},
 "nbformat": 4,
 "nbformat_minor": 5
}

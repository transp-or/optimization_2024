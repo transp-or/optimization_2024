{
 "cells": [
  {
   "cell_type": "markdown",
   "id": "e52603f8",
   "metadata": {},
   "source": [
    "# The shortest path problem as a transhipment problem.\n",
    "\n",
    "## Introduction to optimization and operations research.\n",
    "\n",
    "Michel Bierlaire\n"
   ]
  },
  {
   "cell_type": "code",
   "execution_count": null,
   "id": "6e26835e",
   "metadata": {},
   "outputs": [],
   "source": [
    "\n",
    "import numpy as np\n",
    "from IPython.core.display_functions import display\n",
    "from matplotlib import pyplot as plt\n",
    "from networkx import DiGraph\n",
    "from teaching_optimization.networks import draw_network\n",
    "from teaching_optimization.simplex_tableau import SimplexAlgorithmTableau\n",
    "from teaching_optimization.tableau import SimplexTableau\n"
   ]
  },
  {
   "cell_type": "markdown",
   "id": "a9e39f00",
   "metadata": {},
   "source": [
    "Consider the four cities represented by the graph below. The travel\n",
    "time (in minutes) by car is shown next to each arc connecting two\n",
    "cities."
   ]
  },
  {
   "cell_type": "markdown",
   "id": "b4f051a4",
   "metadata": {},
   "source": [
    "We want to determine the fastest itinerary from Orbe to Sierre.\n",
    "\n",
    "- Model the problem as a transhipment problem.\n",
    "- Solve it using the simplex algorithm in two phases."
   ]
  },
  {
   "cell_type": "markdown",
   "id": "f5894b05",
   "metadata": {},
   "source": [
    "# Description of the problem"
   ]
  },
  {
   "cell_type": "code",
   "execution_count": null,
   "id": "28a59a05",
   "metadata": {},
   "outputs": [],
   "source": [
    "\n",
    "positions = {\n",
    "    'Orbe': (-3.5, 0.5),\n",
    "    'Lausanne': (-2.5, -1.5),\n",
    "    'Fribourg': (1.5, 0.5),\n",
    "    'Sierre': (4.5, -3),\n",
    "}\n",
    "\n",
    "nodes = list(positions.keys())\n",
    "\n",
    "arcs = [\n",
    "    ('Orbe', 'Fribourg', 36),\n",
    "    ('Orbe', 'Lausanne', 28),\n",
    "    ('Lausanne', 'Fribourg', 50),\n",
    "    ('Lausanne', 'Sierre', 71),\n",
    "    ('Fribourg', 'Sierre', 83),\n",
    "    ('Fribourg', 'Lausanne', 50),\n",
    "]\n",
    "\n",
    "G: DiGraph = DiGraph()\n",
    "for node in nodes:\n",
    "    G.add_node(node, pos=positions[node])\n",
    "G.add_weighted_edges_from(arcs, weight='cost')\n",
    "fig, ax = plt.subplots(figsize=(8, 6))\n",
    "draw_network(the_network=G, attr_edge_labels='cost', ax=ax)\n",
    "plt.show()\n"
   ]
  },
  {
   "cell_type": "markdown",
   "id": "4469c1e4",
   "metadata": {},
   "source": [
    "# Building the transhipment problem"
   ]
  },
  {
   "cell_type": "markdown",
   "id": "60335890",
   "metadata": {},
   "source": [
    "## Coefficients of the variables"
   ]
  },
  {
   "cell_type": "code",
   "execution_count": null,
   "id": "6cf97be4",
   "metadata": {},
   "outputs": [],
   "source": [
    "objective = np.array([cost for _, _, cost in arcs])\n"
   ]
  },
  {
   "cell_type": "code",
   "execution_count": null,
   "id": "8a92bbfb",
   "metadata": {},
   "outputs": [],
   "source": [
    "print(objective)\n"
   ]
  },
  {
   "cell_type": "markdown",
   "id": "67b78b9a",
   "metadata": {},
   "source": [
    "## Constraint matrix.\n",
    "\n",
    "- each row corresponds to a node,\n",
    "- each column corresponds to an arc.\n",
    "\n",
    "The column corresponding to arc (i,j) must contain a -1 at row i and a 1 at row j.\n",
    "All elements of the column are zero."
   ]
  },
  {
   "cell_type": "markdown",
   "id": "c3ab1b8e",
   "metadata": {},
   "source": [
    "We build a mapping between the node name and the row number."
   ]
  },
  {
   "cell_type": "code",
   "execution_count": null,
   "id": "6c64ad09",
   "metadata": {},
   "outputs": [],
   "source": [
    "node_to_index = {node: i for i, node in enumerate(nodes)}\n",
    "display(node_to_index)\n"
   ]
  },
  {
   "cell_type": "markdown",
   "id": "3c0114b2",
   "metadata": {},
   "source": [
    "Initialize the matrix"
   ]
  },
  {
   "cell_type": "code",
   "execution_count": null,
   "id": "de1f3015",
   "metadata": {},
   "outputs": [],
   "source": [
    "num_nodes = len(nodes)\n",
    "num_arcs = len(arcs)\n",
    "matrix = np.zeros((num_nodes, num_arcs))\n"
   ]
  },
  {
   "cell_type": "markdown",
   "id": "213d2f2f",
   "metadata": {},
   "source": [
    "Populate the matrix"
   ]
  },
  {
   "cell_type": "code",
   "execution_count": null,
   "id": "615257f5",
   "metadata": {},
   "outputs": [],
   "source": [
    "for arc_index, (start, end, weight) in enumerate(arcs):\n",
    "    row_start = node_to_index[start]\n",
    "    row_end = node_to_index[end]\n",
    "    matrix[row_start, arc_index] = -1\n",
    "    matrix[row_end, arc_index] = 1\n"
   ]
  },
  {
   "cell_type": "markdown",
   "id": "e6b8b01e",
   "metadata": {},
   "source": [
    "Here is the matrix"
   ]
  },
  {
   "cell_type": "code",
   "execution_count": null,
   "id": "3ba03a61",
   "metadata": {},
   "outputs": [],
   "source": [
    "display(matrix)\n"
   ]
  },
  {
   "cell_type": "markdown",
   "id": "1b77c01d",
   "metadata": {},
   "source": [
    "## Right hand side"
   ]
  },
  {
   "cell_type": "markdown",
   "id": "d575a08f",
   "metadata": {},
   "source": [
    "It contains zero, except at the origin, where it is -1, and at the destination, where it is 1."
   ]
  },
  {
   "cell_type": "code",
   "execution_count": null,
   "id": "ce7814b5",
   "metadata": {},
   "outputs": [],
   "source": [
    "rhs = np.zeros(num_nodes)\n",
    "rhs[node_to_index['Orbe']] = -1.0\n",
    "rhs[node_to_index['Sierre']] = 1.0\n",
    "display(rhs)\n"
   ]
  },
  {
   "cell_type": "markdown",
   "id": "d82c47b6",
   "metadata": {},
   "source": [
    "# Solving the problem"
   ]
  },
  {
   "cell_type": "markdown",
   "id": "94f4b847",
   "metadata": {},
   "source": [
    "Initialization"
   ]
  },
  {
   "cell_type": "code",
   "execution_count": null,
   "id": "3686be7f",
   "metadata": {},
   "outputs": [],
   "source": [
    "the_algorithm = SimplexAlgorithmTableau(\n",
    "    objective=objective, constraint_matrix=matrix, right_hand_side=rhs\n",
    ")\n"
   ]
  },
  {
   "cell_type": "markdown",
   "id": "2775e83d",
   "metadata": {},
   "source": [
    "Solving the problem"
   ]
  },
  {
   "cell_type": "code",
   "execution_count": null,
   "id": "e4fc1d84",
   "metadata": {},
   "outputs": [],
   "source": [
    "optimal_tableau: SimplexTableau = the_algorithm.solve()\n"
   ]
  },
  {
   "cell_type": "markdown",
   "id": "c0fdae7a",
   "metadata": {},
   "source": [
    "Optimal solution"
   ]
  },
  {
   "cell_type": "code",
   "execution_count": null,
   "id": "239c8a6e",
   "metadata": {},
   "outputs": [],
   "source": [
    "print(optimal_tableau.feasible_basic_solution)\n"
   ]
  },
  {
   "cell_type": "markdown",
   "id": "34d81b91",
   "metadata": {},
   "source": [
    "# Interpret the solution and plot the shortest path."
   ]
  },
  {
   "cell_type": "markdown",
   "id": "dea4f390",
   "metadata": {},
   "source": [
    "Use the optimal tableau to identify the arcs in the shortest path"
   ]
  },
  {
   "cell_type": "code",
   "execution_count": null,
   "id": "02c83ee4",
   "metadata": {},
   "outputs": [],
   "source": [
    "shortest_path_arcs = list()\n",
    "for index, value in enumerate(optimal_tableau.feasible_basic_solution):\n",
    "    if value == 1:\n",
    "        print(arcs[index])\n",
    "        shortest_path_arcs.append(arcs[index])\n"
   ]
  },
  {
   "cell_type": "markdown",
   "id": "bcacc128",
   "metadata": {},
   "source": [
    "Plot the graph including only the arcs in the shortest path."
   ]
  },
  {
   "cell_type": "code",
   "execution_count": null,
   "id": "d4b8579f",
   "metadata": {},
   "outputs": [],
   "source": [
    "shortest_path: DiGraph = DiGraph()\n",
    "for node in nodes:\n",
    "    shortest_path.add_node(node, pos=positions[node])\n",
    "shortest_path.add_weighted_edges_from(shortest_path_arcs, weight='cost')\n",
    "fig, ax = plt.subplots(figsize=(8, 6))\n",
    "draw_network(the_network=shortest_path, attr_edge_labels='cost', ax=ax)\n",
    "plt.show()\n"
   ]
  },
  {
   "cell_type": "markdown",
   "id": "f313d1b2",
   "metadata": {},
   "source": [
    "Optimal value"
   ]
  },
  {
   "cell_type": "code",
   "execution_count": null,
   "id": "163a0c1d",
   "metadata": {},
   "outputs": [],
   "source": [
    "print(optimal_tableau.value_objective_function)"
   ]
  }
 ],
 "metadata": {},
 "nbformat": 4,
 "nbformat_minor": 5
}

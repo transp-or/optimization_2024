{
 "cells": [
  {
   "cell_type": "markdown",
   "id": "0b0c2aaa",
   "metadata": {},
   "source": [
    "# The shortest path problem as a transhipment problem.\n",
    "\n",
    "## Introduction to optimization and operations research.\n",
    "\n",
    "Michel Bierlaire\n"
   ]
  },
  {
   "cell_type": "code",
   "execution_count": null,
   "id": "7e00e356",
   "metadata": {},
   "outputs": [],
   "source": [
    "\n",
    "import numpy as np\n",
    "from IPython.core.display_functions import display\n",
    "from matplotlib import pyplot as plt\n",
    "from networkx import DiGraph\n",
    "from teaching_optimization.networks import draw_network\n",
    "from teaching_optimization.simplex_tableau import SimplexAlgorithmTableau\n",
    "from teaching_optimization.tableau import SimplexTableau\n"
   ]
  },
  {
   "cell_type": "markdown",
   "id": "6815aafd",
   "metadata": {},
   "source": [
    "Consider the four cities represented by the graph below. The travel\n",
    "time (in minutes) by car is shown next to each arc connecting two\n",
    "cities."
   ]
  },
  {
   "cell_type": "markdown",
   "id": "3cf0248b",
   "metadata": {},
   "source": [
    "We want to determine the fastest itinerary from Orbe to Sierre.\n",
    "\n",
    "- Model the problem as a transhipment problem.\n",
    "- Solve it using the simplex algorithm in two phases."
   ]
  },
  {
   "cell_type": "markdown",
   "id": "cef676b0",
   "metadata": {},
   "source": [
    "# Description of the problem"
   ]
  },
  {
   "cell_type": "code",
   "execution_count": null,
   "id": "918ce869",
   "metadata": {},
   "outputs": [],
   "source": [
    "\n",
    "positions = {\n",
    "    'Orbe': (-3.5, 0.5),\n",
    "    'Lausanne': (-2.5, -1.5),\n",
    "    'Fribourg': (1.5, 0.5),\n",
    "    'Sierre': (4.5, -3),\n",
    "}\n",
    "\n",
    "nodes = list(positions.keys())\n",
    "\n",
    "arcs = [\n",
    "    ('Orbe', 'Fribourg', 36),\n",
    "    ('Orbe', 'Lausanne', 28),\n",
    "    ('Lausanne', 'Fribourg', 50),\n",
    "    ('Lausanne', 'Sierre', 71),\n",
    "    ('Fribourg', 'Sierre', 83),\n",
    "    ('Fribourg', 'Lausanne', 50),\n",
    "]\n",
    "\n",
    "G: DiGraph = DiGraph()\n",
    "for node in nodes:\n",
    "    G.add_node(node, pos=positions[node])\n",
    "G.add_weighted_edges_from(arcs, weight='cost')\n",
    "fig, ax = plt.subplots(figsize=(8, 6))\n",
    "draw_network(the_network=G, attr_edge_labels='cost', ax=ax)\n",
    "plt.show()\n"
   ]
  },
  {
   "cell_type": "markdown",
   "id": "d403d9c1",
   "metadata": {},
   "source": [
    "# Building the transhipment problem"
   ]
  },
  {
   "cell_type": "markdown",
   "id": "74cbe783",
   "metadata": {},
   "source": [
    "## Coefficients of the variables"
   ]
  },
  {
   "cell_type": "code",
   "execution_count": null,
   "id": "025be370",
   "metadata": {},
   "outputs": [],
   "source": [
    "objective = ????\n"
   ]
  },
  {
   "cell_type": "code",
   "execution_count": null,
   "id": "427c6120",
   "metadata": {},
   "outputs": [],
   "source": [
    "print(objective)\n"
   ]
  },
  {
   "cell_type": "markdown",
   "id": "e35b7502",
   "metadata": {},
   "source": [
    "## Constraint matrix."
   ]
  },
  {
   "cell_type": "markdown",
   "id": "0094db22",
   "metadata": {},
   "source": [
    "We build a mapping between the node name and the row number."
   ]
  },
  {
   "cell_type": "code",
   "execution_count": null,
   "id": "dcf593ef",
   "metadata": {},
   "outputs": [],
   "source": [
    "node_to_index = {node: i for i, node in enumerate(nodes)}\n",
    "display(node_to_index)\n"
   ]
  },
  {
   "cell_type": "markdown",
   "id": "8945e4e4",
   "metadata": {},
   "source": [
    "Initialize the matrix"
   ]
  },
  {
   "cell_type": "code",
   "execution_count": null,
   "id": "f2b8c356",
   "metadata": {},
   "outputs": [],
   "source": [
    "num_nodes = len(nodes)\n",
    "num_arcs = len(arcs)\n",
    "matrix = np.zeros((num_nodes, num_arcs))\n"
   ]
  },
  {
   "cell_type": "markdown",
   "id": "553b3238",
   "metadata": {},
   "source": [
    "Populate the matrix"
   ]
  },
  {
   "cell_type": "code",
   "execution_count": null,
   "id": "9c945d50",
   "metadata": {},
   "outputs": [],
   "source": [
    " for ????\n",
    "\n",
    "\n",
    "\n",
    "\n"
   ]
  },
  {
   "cell_type": "markdown",
   "id": "2dd42640",
   "metadata": {},
   "source": [
    "Here is the matrix"
   ]
  },
  {
   "cell_type": "code",
   "execution_count": null,
   "id": "27a7da73",
   "metadata": {},
   "outputs": [],
   "source": [
    "display(matrix)\n"
   ]
  },
  {
   "cell_type": "markdown",
   "id": "4b9d93a6",
   "metadata": {},
   "source": [
    "## Right hand side"
   ]
  },
  {
   "cell_type": "code",
   "execution_count": null,
   "id": "9420e959",
   "metadata": {},
   "outputs": [],
   "source": [
    "\n",
    "\n",
    "rhs =\n",
    "\n",
    "\n",
    "display(rhs)\n"
   ]
  },
  {
   "cell_type": "markdown",
   "id": "52a6651c",
   "metadata": {},
   "source": [
    "# Solving the problem"
   ]
  },
  {
   "cell_type": "markdown",
   "id": "51b77291",
   "metadata": {},
   "source": [
    "Initialization"
   ]
  },
  {
   "cell_type": "code",
   "execution_count": null,
   "id": "c643b364",
   "metadata": {},
   "outputs": [],
   "source": [
    "the_algorithm = SimplexAlgorithmTableau(\n",
    "    objective=objective, constraint_matrix=matrix, right_hand_side=rhs\n",
    ")\n"
   ]
  },
  {
   "cell_type": "markdown",
   "id": "425b3166",
   "metadata": {},
   "source": [
    "Solving the problem"
   ]
  },
  {
   "cell_type": "code",
   "execution_count": null,
   "id": "cbcc74a0",
   "metadata": {},
   "outputs": [],
   "source": [
    "optimal_tableau: SimplexTableau = the_algorithm.solve()\n"
   ]
  },
  {
   "cell_type": "markdown",
   "id": "8c66200c",
   "metadata": {},
   "source": [
    "Optimal solution"
   ]
  },
  {
   "cell_type": "code",
   "execution_count": null,
   "id": "6d53ea29",
   "metadata": {},
   "outputs": [],
   "source": [
    "print(optimal_tableau.feasible_basic_solution)\n"
   ]
  },
  {
   "cell_type": "markdown",
   "id": "5ce8ab95",
   "metadata": {},
   "source": [
    "# Interpret the solution and plot the shortest path."
   ]
  },
  {
   "cell_type": "markdown",
   "id": "e47bfc66",
   "metadata": {},
   "source": [
    "Use the optimal tableau to identify the arcs in the shortest path"
   ]
  },
  {
   "cell_type": "code",
   "execution_count": null,
   "id": "11275a71",
   "metadata": {},
   "outputs": [],
   "source": [
    "shortest_path_arcs = list()\n",
    "\n",
    "\n",
    "\n",
    "\n"
   ]
  },
  {
   "cell_type": "markdown",
   "id": "2c5b0aab",
   "metadata": {},
   "source": [
    "Plot the graph including only the arcs in the shortest path."
   ]
  },
  {
   "cell_type": "code",
   "execution_count": null,
   "id": "046c3d6b",
   "metadata": {},
   "outputs": [],
   "source": [
    "shortest_path: DiGraph = DiGraph()\n",
    "for node in nodes:\n",
    "    shortest_path.add_node(node, pos=positions[node])\n",
    "shortest_path.add_weighted_edges_from(shortest_path_arcs, weight='cost')\n",
    "fig, ax = plt.subplots(figsize=(8, 6))\n",
    "draw_network(the_network=shortest_path, attr_edge_labels='cost', ax=ax)\n",
    "plt.show()\n"
   ]
  },
  {
   "cell_type": "markdown",
   "id": "c40c33b1",
   "metadata": {},
   "source": [
    "Optimal value"
   ]
  },
  {
   "cell_type": "code",
   "execution_count": null,
   "id": "9de4470a",
   "metadata": {},
   "outputs": [],
   "source": [
    "print(optimal_tableau.value_objective_function)"
   ]
  }
 ],
 "metadata": {},
 "nbformat": 4,
 "nbformat_minor": 5
}

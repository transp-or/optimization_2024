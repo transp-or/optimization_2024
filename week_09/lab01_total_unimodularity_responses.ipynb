{
 "cells": [
  {
   "cell_type": "markdown",
   "id": "5a7bf142",
   "metadata": {},
   "source": [
    "# Total unimodularity\n",
    "\n",
    "## Introduction to optimization and operations research.\n",
    "\n",
    "Michel Bierlaire\n"
   ]
  },
  {
   "cell_type": "code",
   "execution_count": null,
   "id": "0bc7ddf3",
   "metadata": {},
   "outputs": [],
   "source": [
    "\n",
    "import numpy as np\n"
   ]
  },
  {
   "cell_type": "markdown",
   "id": "3b654863",
   "metadata": {},
   "source": [
    "The objective of this lab to is to write a Python function that verifies if a matrix is totally unimodular.\n",
    "Remember that a matrix is totally unimodular if the determinant of each square\n",
    "submatrix is $0$, $1$ or $-1$. We will decompose the problem into several functions."
   ]
  },
  {
   "cell_type": "markdown",
   "id": "cd1cc1e2",
   "metadata": {},
   "source": [
    "Write a Python function that verifies if an element is 0, -1, or 1."
   ]
  },
  {
   "cell_type": "code",
   "execution_count": null,
   "id": "b81c9ce8",
   "metadata": {},
   "outputs": [],
   "source": [
    "def check_valid_values(the_value: float) -> bool:\n",
    "    \"\"\"Check if an element is 0, -1, or 1.\n",
    "\n",
    "    :param the_value: value to check\n",
    "    :return: True if it is 0, -1 or 1, False otherwise.\n",
    "    \"\"\"\n",
    "    # Due to numerical imprecision in finite arithmetic, values such as 1.0e-18 should be considered valid.\n",
    "    # Use the numpy function `isclose` to perform the comparisons.\n",
    "    if np.isclose(the_value, 0.0):\n",
    "        return True\n",
    "    if np.isclose(the_value, 1.0):\n",
    "        return True\n",
    "    if np.isclose(the_value, -1.0):\n",
    "        return True\n",
    "    return False\n",
    "\n"
   ]
  },
  {
   "cell_type": "markdown",
   "id": "eb9c6a75",
   "metadata": {},
   "source": [
    "Let's test the function."
   ]
  },
  {
   "cell_type": "markdown",
   "id": "b86256a6",
   "metadata": {},
   "source": [
    "Expected output: `True` for the following cases."
   ]
  },
  {
   "cell_type": "code",
   "execution_count": null,
   "id": "0cfc31e3",
   "metadata": {},
   "outputs": [],
   "source": [
    "print(check_valid_values(the_value=0.0))"
   ]
  },
  {
   "cell_type": "code",
   "execution_count": null,
   "id": "8adeeba1",
   "metadata": {},
   "outputs": [],
   "source": [
    "print(check_valid_values(the_value=1.0))"
   ]
  },
  {
   "cell_type": "code",
   "execution_count": null,
   "id": "5f64c601",
   "metadata": {},
   "outputs": [],
   "source": [
    "print(check_valid_values(the_value=-1.0))"
   ]
  },
  {
   "cell_type": "code",
   "execution_count": null,
   "id": "a74f5c3d",
   "metadata": {},
   "outputs": [],
   "source": [
    "print(check_valid_values(the_value=1.0e-18))"
   ]
  },
  {
   "cell_type": "markdown",
   "id": "606d8db5",
   "metadata": {},
   "source": [
    "Expected output: `False` for the following cases."
   ]
  },
  {
   "cell_type": "code",
   "execution_count": null,
   "id": "d7f61960",
   "metadata": {},
   "outputs": [],
   "source": [
    "print(check_valid_values(the_value=0.01))"
   ]
  },
  {
   "cell_type": "code",
   "execution_count": null,
   "id": "b5e01301",
   "metadata": {},
   "outputs": [],
   "source": [
    "print(check_valid_values(the_value=3.4))"
   ]
  },
  {
   "cell_type": "code",
   "execution_count": null,
   "id": "7f1adc38",
   "metadata": {},
   "outputs": [],
   "source": [
    "print(check_valid_values(the_value=-2))"
   ]
  },
  {
   "cell_type": "markdown",
   "id": "91b1d9e3",
   "metadata": {},
   "source": [
    "Write a Python function that calculates a determinant recursively using the cofactor expansion rule.\n",
    "The function must raise an exception of type `TotalUnimodularityError` if the determinant is not 0, -1, or 1.\n",
    "This exception is defined below."
   ]
  },
  {
   "cell_type": "code",
   "execution_count": null,
   "id": "66fcc3c6",
   "metadata": {},
   "outputs": [],
   "source": [
    "\n",
    "\n",
    "class TotalUnimodularityError(Exception):\n",
    "    \"\"\"Exception raised for errors in the total unimodularity check.\"\"\"\n",
    "\n",
    "    pass\n",
    "\n"
   ]
  },
  {
   "cell_type": "markdown",
   "id": "867a6762",
   "metadata": {},
   "source": [
    "We now implement the function calculating the determinant. Replace the `????`."
   ]
  },
  {
   "cell_type": "code",
   "execution_count": null,
   "id": "6c8416b7",
   "metadata": {},
   "outputs": [],
   "source": [
    "def determinant_recursive(matrix: np.ndarray) -> float:\n",
    "    \"\"\"Calculates a determinant, and stops as soon as one sub-determinant is not 0, -1 or 1\n",
    "\n",
    "    :param matrix: square matrix\n",
    "    :return: determinant of the matrix\n",
    "\n",
    "    :raise TotalUnimodularityError: if the determinant is not 0, -1 or 1.\n",
    "    \"\"\"\n",
    "    # Check if the input is a NumPy ndarray\n",
    "    if not isinstance(matrix, np.ndarray):\n",
    "        raise ValueError('The input must be a NumPy ndarray.')\n",
    "\n",
    "    # Check if the matrix is non-empty\n",
    "    if matrix.size == 0:\n",
    "        raise ValueError('The matrix must be non-empty.')\n",
    "\n",
    "    # Check if the matrix is 2D\n",
    "    if matrix.ndim != 2:\n",
    "        raise ValueError('The matrix must be stored as a 2D numpy array.')\n",
    "\n",
    "    rows, cols = matrix.shape\n",
    "\n",
    "    if rows != cols:\n",
    "        raise ValueError(f'The matrix must be square, and not {rows}x{cols}.')\n",
    "\n",
    "    # If the matrix is 1x1, return the single element\n",
    "    if rows == 1 and cols == 1:\n",
    "        determinant = float(matrix[0, 0])\n",
    "        if check_valid_values(determinant):\n",
    "            return determinant\n",
    "        raise TotalUnimodularityError(f'Invalid element: {determinant}')\n",
    "\n",
    "    # If the matrix is 2x2, return the determinant directly\n",
    "    if rows == 2 and cols == 2:\n",
    "        determinant = float(\n",
    "            matrix[0, 0] * matrix[1, 1] - matrix[0, 1] * matrix[1, 0]\n",
    "        )\n",
    "        if check_valid_values(determinant):\n",
    "            return determinant\n",
    "        raise TotalUnimodularityError(\n",
    "            f'Invalid determinant {determinant} for matrix\\n{matrix}'\n",
    "        )\n",
    "\n",
    "    # Use cofactor expansion along the first row.\n",
    "    determinant = 0.0\n",
    "    for col in range(cols):\n",
    "        element = float(matrix[0, col])\n",
    "        if not check_valid_values(element):\n",
    "            raise TotalUnimodularityError(f'Invalid element: {element}')\n",
    "        submatrix = np.delete(np.delete(matrix, 0, axis=0), col, axis=1)\n",
    "        cofactor = (\n",
    "            ((-1) ** col) * matrix[0, col] * determinant_recursive(submatrix)\n",
    "        )\n",
    "        determinant += cofactor\n",
    "\n",
    "    if check_valid_values(determinant):\n",
    "        return determinant\n",
    "    raise TotalUnimodularityError(\n",
    "        f'Invalid determinant {determinant} for matrix\\n{matrix}'\n",
    "    )\n",
    "\n"
   ]
  },
  {
   "cell_type": "markdown",
   "id": "367f2250",
   "metadata": {},
   "source": [
    "We check the function."
   ]
  },
  {
   "cell_type": "code",
   "execution_count": null,
   "id": "4d67e73e",
   "metadata": {},
   "outputs": [],
   "source": [
    "a_matrix = np.array([[1, 0, 0], [0, -1, 0], [0, 0, 1]])\n",
    "print(a_matrix)\n",
    "\n"
   ]
  },
  {
   "cell_type": "markdown",
   "id": "162f61d7",
   "metadata": {},
   "source": [
    "The function should not trigger any error."
   ]
  },
  {
   "cell_type": "code",
   "execution_count": null,
   "id": "64a78b62",
   "metadata": {},
   "outputs": [],
   "source": [
    "print(f'Determinant = {determinant_recursive(a_matrix)}')\n"
   ]
  },
  {
   "cell_type": "code",
   "execution_count": null,
   "id": "8b4f377c",
   "metadata": {},
   "outputs": [],
   "source": [
    "a_matrix = np.array([[2, 0, 0], [0, -1, 0], [0, 0, 1]])\n",
    "print(a_matrix)\n"
   ]
  },
  {
   "cell_type": "markdown",
   "id": "badcf4cb",
   "metadata": {},
   "source": [
    "Here, an error should be triggered as one element is 2."
   ]
  },
  {
   "cell_type": "code",
   "execution_count": null,
   "id": "f5ee9805",
   "metadata": {},
   "outputs": [],
   "source": [
    "try:\n",
    "    value = determinant_recursive(a_matrix)\n",
    "except TotalUnimodularityError as e:\n",
    "    print(e)"
   ]
  },
  {
   "cell_type": "code",
   "execution_count": null,
   "id": "f34d13b1",
   "metadata": {},
   "outputs": [],
   "source": [
    "a_matrix = np.array([[1, 0, 0], [1, 1, 1], [-1, -1, 1]])\n",
    "print(a_matrix)"
   ]
  },
  {
   "cell_type": "markdown",
   "id": "21975984",
   "metadata": {},
   "source": [
    "Here, an error should be triggered as the determinant of a square submatrix is 2."
   ]
  },
  {
   "cell_type": "code",
   "execution_count": null,
   "id": "7efcb113",
   "metadata": {},
   "outputs": [],
   "source": [
    "try:\n",
    "    value = determinant_recursive(a_matrix)\n",
    "    print(value)\n",
    "except TotalUnimodularityError as e:\n",
    "    print(e)\n",
    "\n"
   ]
  },
  {
   "cell_type": "markdown",
   "id": "73b2c2e4",
   "metadata": {},
   "source": [
    "Now, we can write a Python function that verifies if a matrix is totally unimodular."
   ]
  },
  {
   "cell_type": "code",
   "execution_count": null,
   "id": "8e4dd42c",
   "metadata": {},
   "outputs": [],
   "source": [
    "def is_totally_unimodular(matrix: np.ndarray) -> tuple[bool, str | None]:\n",
    "    \"\"\"Function that verifies if a matrix is totally unimodular.\n",
    "\n",
    "    :param matrix: matrix to verify, a 2D numpy array.\n",
    "    :return: if the matrix is totally unimodular, the tuple (True, None) is returned. If not, the tuple (False, msg)\n",
    "        is returned, where the msg explains why it is not totally unimodular.\n",
    "    \"\"\"\n",
    "    # Check if the input is a NumPy ndarray\n",
    "    if not isinstance(matrix, np.ndarray):\n",
    "        raise ValueError(\"The input must be a NumPy ndarray.\")\n",
    "\n",
    "    # Check if the matrix is non-empty\n",
    "    if matrix.size == 0:\n",
    "        raise ValueError(\"The matrix must be non-empty.\")\n",
    "\n",
    "    # Check if the matrix is 2D\n",
    "    if matrix.ndim != 2:\n",
    "        raise ValueError(\"The matrix must be stored as a 2D numpy array.\")\n",
    "\n",
    "    rows, cols = matrix.shape\n",
    "\n",
    "    # We extract all square submatrices of maximum size, and check their determinant.\n",
    "    max_size = min(matrix.shape)\n",
    "\n",
    "    for i in range(rows - max_size + 1):\n",
    "        for j in range(cols - max_size + 1):\n",
    "            sub_matrix = matrix[i : i + max_size, j : j + max_size]\n",
    "            try:\n",
    "                determinant = determinant_recursive(sub_matrix)\n",
    "            except TotalUnimodularityError as the_exception:\n",
    "                return False, str(the_exception)\n",
    "            if not check_valid_values(determinant):\n",
    "                return (\n",
    "                    False,\n",
    "                    f'Invalid determinant {determinant} for matrix\\n{sub_matrix}',\n",
    "                )\n",
    "            else:\n",
    "                continue\n",
    "    return True, None\n"
   ]
  },
  {
   "cell_type": "markdown",
   "id": "96114d7d",
   "metadata": {},
   "source": [
    "We now test the function on the following matrices. Note that there may be several reasons\n",
    "for not being totally unimodular, and the one reported here may not be the same as the one\n",
    "reported for your implementation.\n"
   ]
  },
  {
   "cell_type": "code",
   "execution_count": null,
   "id": "e01842c7",
   "metadata": {},
   "outputs": [],
   "source": [
    "A = np.array([[2, 1], [1, 4], [1, 1]])\n",
    "print(A)"
   ]
  },
  {
   "cell_type": "markdown",
   "id": "72b0c59e",
   "metadata": {},
   "source": [
    "Expected result:<br>\n",
    "`False`<br>\n",
    "`Invalid determinant 7.0 for matrix`<br>\n",
    "`[[2 1]`<br>\n",
    "`[1 4]]`"
   ]
  },
  {
   "cell_type": "code",
   "execution_count": null,
   "id": "af3e15c0",
   "metadata": {},
   "outputs": [],
   "source": [
    "totally_unimodular, reason = is_totally_unimodular(matrix=A)\n",
    "print(totally_unimodular)\n",
    "if not totally_unimodular:\n",
    "    print(reason)"
   ]
  },
  {
   "cell_type": "code",
   "execution_count": null,
   "id": "de66157e",
   "metadata": {},
   "outputs": [],
   "source": [
    "B = np.array([[0, 1, 0], [1, 0, 1]])\n",
    "print(B)"
   ]
  },
  {
   "cell_type": "markdown",
   "id": "47a4145c",
   "metadata": {},
   "source": [
    "Expected result:<br>\n",
    "`True`"
   ]
  },
  {
   "cell_type": "code",
   "execution_count": null,
   "id": "c37542f8",
   "metadata": {},
   "outputs": [],
   "source": [
    "totally_unimodular, reason = is_totally_unimodular(matrix=B)\n",
    "print(totally_unimodular)\n",
    "if not totally_unimodular:\n",
    "    print(reason)"
   ]
  },
  {
   "cell_type": "code",
   "execution_count": null,
   "id": "855fc1d5",
   "metadata": {},
   "outputs": [],
   "source": [
    "C = np.array([[1, -1, 1], [1, 1, 0]])\n",
    "print(C)"
   ]
  },
  {
   "cell_type": "markdown",
   "id": "eed1d300",
   "metadata": {},
   "source": [
    "Expected result:<br>\n",
    "`False`<br>\n",
    "`Invalid determinant 2.0 for matrix`<br>\n",
    "`[[ 1 -1]`<br>\n",
    "`[ 1  1]]`"
   ]
  },
  {
   "cell_type": "code",
   "execution_count": null,
   "id": "07f1f6dc",
   "metadata": {},
   "outputs": [],
   "source": [
    "totally_unimodular, reason = is_totally_unimodular(matrix=C)\n",
    "print(totally_unimodular)\n",
    "if not totally_unimodular:\n",
    "    print(reason)"
   ]
  }
 ],
 "metadata": {},
 "nbformat": 4,
 "nbformat_minor": 5
}

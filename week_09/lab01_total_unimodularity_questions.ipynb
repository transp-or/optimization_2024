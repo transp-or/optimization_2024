{
 "cells": [
  {
   "cell_type": "markdown",
   "id": "ce554ee8",
   "metadata": {},
   "source": [
    "# Total unimodularity\n",
    "\n",
    "## Introduction to optimization and operations research.\n",
    "\n",
    "Michel Bierlaire\n"
   ]
  },
  {
   "cell_type": "code",
   "execution_count": null,
   "id": "2097095b",
   "metadata": {},
   "outputs": [],
   "source": [
    "\n",
    "import numpy as np\n"
   ]
  },
  {
   "cell_type": "markdown",
   "id": "a4887c30",
   "metadata": {},
   "source": [
    "The objective of this lab to is to write a Python function that verifies if a matrix is totally unimodular.\n",
    "Remember that a matrix is totally unimodular if the determinant of each square\n",
    "submatrix is $0$, $1$ or $-1$. We will decompose the problem into several functions."
   ]
  },
  {
   "cell_type": "markdown",
   "id": "7c427e20",
   "metadata": {},
   "source": [
    "Write a Python function that verifies if an element is 0, -1, or 1."
   ]
  },
  {
   "cell_type": "code",
   "execution_count": null,
   "id": "d14bf0ef",
   "metadata": {},
   "outputs": [],
   "source": [
    "def check_valid_values(the_value: float) -> bool:\n",
    "    \"\"\"Check if an element is 0, -1, or 1.\n",
    "\n",
    "    :param the_value: value to check\n",
    "    :return: True if it is 0, -1 or 1, False otherwise.\n",
    "    \"\"\"\n",
    "    # Due to numerical imprecision in finite arithmetic, values such as 1.0e-18 should be considered valid.\n",
    "    # Use the numpy function `isclose` to perform the comparisons.\n",
    "    ????\n",
    "\n",
    "\n",
    "\n",
    "\n",
    "\n",
    "\n",
    "\n"
   ]
  },
  {
   "cell_type": "markdown",
   "id": "ac3e8280",
   "metadata": {},
   "source": [
    "Let's test the function."
   ]
  },
  {
   "cell_type": "markdown",
   "id": "1630a1fb",
   "metadata": {},
   "source": [
    "Expected output: `True` for the following cases."
   ]
  },
  {
   "cell_type": "code",
   "execution_count": null,
   "id": "69e60da0",
   "metadata": {},
   "outputs": [],
   "source": [
    "print(check_valid_values(the_value=0.0))"
   ]
  },
  {
   "cell_type": "code",
   "execution_count": null,
   "id": "fdc17c71",
   "metadata": {},
   "outputs": [],
   "source": [
    "print(check_valid_values(the_value=1.0))"
   ]
  },
  {
   "cell_type": "code",
   "execution_count": null,
   "id": "f5932a1c",
   "metadata": {},
   "outputs": [],
   "source": [
    "print(check_valid_values(the_value=-1.0))"
   ]
  },
  {
   "cell_type": "code",
   "execution_count": null,
   "id": "0a4d07c7",
   "metadata": {},
   "outputs": [],
   "source": [
    "print(check_valid_values(the_value=1.0e-18))"
   ]
  },
  {
   "cell_type": "markdown",
   "id": "2e5d3e1d",
   "metadata": {},
   "source": [
    "Expected output: `False` for the following cases."
   ]
  },
  {
   "cell_type": "code",
   "execution_count": null,
   "id": "e62a332a",
   "metadata": {},
   "outputs": [],
   "source": [
    "print(check_valid_values(the_value=0.01))"
   ]
  },
  {
   "cell_type": "code",
   "execution_count": null,
   "id": "bf05d873",
   "metadata": {},
   "outputs": [],
   "source": [
    "print(check_valid_values(the_value=3.4))"
   ]
  },
  {
   "cell_type": "code",
   "execution_count": null,
   "id": "25f2b513",
   "metadata": {},
   "outputs": [],
   "source": [
    "print(check_valid_values(the_value=-2))"
   ]
  },
  {
   "cell_type": "markdown",
   "id": "e3af8c39",
   "metadata": {},
   "source": [
    "Write a Python function that calculates a determinant recursively using the cofactor expansion rule.\n",
    "The function must raise an exception of type `TotalUnimodularityError` if the determinant is not 0, -1, or 1.\n",
    "This exception is defined below."
   ]
  },
  {
   "cell_type": "code",
   "execution_count": null,
   "id": "02145d11",
   "metadata": {},
   "outputs": [],
   "source": [
    "\n",
    "\n",
    "class TotalUnimodularityError(Exception):\n",
    "    \"\"\"Exception raised for errors in the total unimodularity check.\"\"\"\n",
    "\n",
    "    pass\n",
    "\n"
   ]
  },
  {
   "cell_type": "markdown",
   "id": "2db78a58",
   "metadata": {},
   "source": [
    "We now implement the function calculating the determinant. Replace the `????`."
   ]
  },
  {
   "cell_type": "code",
   "execution_count": null,
   "id": "0c3fcd5a",
   "metadata": {},
   "outputs": [],
   "source": [
    "def determinant_recursive(matrix: np.ndarray) -> float:\n",
    "    \"\"\"Calculates a determinant, and stops as soon as one sub-determinant is not 0, -1 or 1\n",
    "\n",
    "    :param matrix: square matrix\n",
    "    :return: determinant of the matrix\n",
    "\n",
    "    :raise TotalUnimodularityError: if the determinant is not 0, -1 or 1.\n",
    "    \"\"\"\n",
    "    # Check if the input is a NumPy ndarray\n",
    "    if not isinstance(matrix, np.ndarray):\n",
    "        raise ValueError('The input must be a NumPy ndarray.')\n",
    "\n",
    "    # Check if the matrix is non-empty\n",
    "    if matrix.size == 0:\n",
    "        raise ValueError('The matrix must be non-empty.')\n",
    "\n",
    "    # Check if the matrix is 2D\n",
    "    if matrix.ndim != 2:\n",
    "        raise ValueError('The matrix must be stored as a 2D numpy array.')\n",
    "\n",
    "    rows, cols = matrix.shape\n",
    "\n",
    "    if rows != cols:\n",
    "        raise ValueError(f'The matrix must be square, and not {rows}x{cols}.')\n",
    "\n",
    "    # If the matrix is 1x1, return the single element\n",
    "    if rows == 1 and cols == 1:\n",
    "        determinant = ????\n",
    "        if check_valid_values(determinant):\n",
    "            return determinant\n",
    "        raise TotalUnimodularityError(f'Invalid element: {determinant}')\n",
    "\n",
    "    # If the matrix is 2x2, return the determinant directly\n",
    "    if rows == 2 and cols == 2:\n",
    "        determinant = ????\n",
    "\n",
    "\n",
    "        if check_valid_values(determinant):\n",
    "            return determinant\n",
    "        raise TotalUnimodularityError(\n",
    "            f'Invalid determinant {determinant} for matrix\\n{matrix}'\n",
    "        )\n",
    "\n",
    "    # Use cofactor expansion along the first row.\n",
    "    determinant = 0.0\n",
    "    for col in range(cols):\n",
    "        element = float(matrix[0, col])\n",
    "        if not check_valid_values(element):\n",
    "            raise TotalUnimodularityError(f'Invalid element: {element}')\n",
    "        submatrix = np.delete(np.delete(matrix, 0, axis=0), col, axis=1)\n",
    "        cofactor = ????\n",
    "\n",
    "\n",
    "        determinant += cofactor\n",
    "\n",
    "    if check_valid_values(determinant):\n",
    "        return determinant\n",
    "    raise TotalUnimodularityError(\n",
    "        f'Invalid determinant {determinant} for matrix\\n{matrix}'\n",
    "    )\n",
    "\n"
   ]
  },
  {
   "cell_type": "markdown",
   "id": "54db4643",
   "metadata": {},
   "source": [
    "We check the function."
   ]
  },
  {
   "cell_type": "code",
   "execution_count": null,
   "id": "aca981df",
   "metadata": {},
   "outputs": [],
   "source": [
    "a_matrix = np.array([[1, 0, 0], [0, -1, 0], [0, 0, 1]])\n",
    "print(a_matrix)\n",
    "\n"
   ]
  },
  {
   "cell_type": "markdown",
   "id": "4dccf1ed",
   "metadata": {},
   "source": [
    "The function should not trigger any error."
   ]
  },
  {
   "cell_type": "code",
   "execution_count": null,
   "id": "aa9783f0",
   "metadata": {},
   "outputs": [],
   "source": [
    "print(f'Determinant = {determinant_recursive(a_matrix)}')\n"
   ]
  },
  {
   "cell_type": "code",
   "execution_count": null,
   "id": "2d62d493",
   "metadata": {},
   "outputs": [],
   "source": [
    "a_matrix = np.array([[2, 0, 0], [0, -1, 0], [0, 0, 1]])\n",
    "print(a_matrix)\n"
   ]
  },
  {
   "cell_type": "markdown",
   "id": "e37ec354",
   "metadata": {},
   "source": [
    "Here, an error should be triggered as one element is 2."
   ]
  },
  {
   "cell_type": "code",
   "execution_count": null,
   "id": "843f0cef",
   "metadata": {},
   "outputs": [],
   "source": [
    "try:\n",
    "    value = determinant_recursive(a_matrix)\n",
    "except TotalUnimodularityError as e:\n",
    "    print(e)"
   ]
  },
  {
   "cell_type": "code",
   "execution_count": null,
   "id": "ecaf3dde",
   "metadata": {},
   "outputs": [],
   "source": [
    "a_matrix = np.array([[1, 0, 0], [1, 1, 1], [-1, -1, 1]])\n",
    "print(a_matrix)"
   ]
  },
  {
   "cell_type": "markdown",
   "id": "9861aed2",
   "metadata": {},
   "source": [
    "Here, an error should be triggered as the determinant of a square submatrix is 2."
   ]
  },
  {
   "cell_type": "code",
   "execution_count": null,
   "id": "1bf88e26",
   "metadata": {},
   "outputs": [],
   "source": [
    "try:\n",
    "    value = determinant_recursive(a_matrix)\n",
    "    print(value)\n",
    "except TotalUnimodularityError as e:\n",
    "    print(e)\n",
    "\n"
   ]
  },
  {
   "cell_type": "markdown",
   "id": "04432cc8",
   "metadata": {},
   "source": [
    "Now, we can write a Python function that verifies if a matrix is totally unimodular."
   ]
  },
  {
   "cell_type": "code",
   "execution_count": null,
   "id": "51484103",
   "metadata": {},
   "outputs": [],
   "source": [
    "def is_totally_unimodular(matrix: np.ndarray) -> tuple[bool, str | None]:\n",
    "    \"\"\"Function that verifies if a matrix is totally unimodular.\n",
    "\n",
    "    :param matrix: matrix to verify, a 2D numpy array.\n",
    "    :return: if the matrix is totally unimodular, the tuple (True, None) is returned. If not, the tuple (False, msg)\n",
    "        is returned, where the msg explains why it is not totally unimodular.\n",
    "    \"\"\"\n",
    "    # Check if the input is a NumPy ndarray\n",
    "    if not isinstance(matrix, np.ndarray):\n",
    "        raise ValueError(\"The input must be a NumPy ndarray.\")\n",
    "\n",
    "    # Check if the matrix is non-empty\n",
    "    if matrix.size == 0:\n",
    "        raise ValueError(\"The matrix must be non-empty.\")\n",
    "\n",
    "    # Check if the matrix is 2D\n",
    "    if matrix.ndim != 2:\n",
    "        raise ValueError(\"The matrix must be stored as a 2D numpy array.\")\n",
    "\n",
    "    rows, cols = matrix.shape\n",
    "\n",
    "    # We extract all square submatrices of maximum size, and check their determinant.\n",
    "    max_size = min(matrix.shape)\n",
    "\n",
    "    for i in range(rows - max_size + 1):\n",
    "        for j in range(cols - max_size + 1):\n",
    "            sub_matrix = matrix[i : i + max_size, j : j + max_size]\n",
    "            ????\n",
    "\n",
    "\n",
    "\n",
    "\n",
    "\n",
    "            return (\n",
    "                False,\n",
    "                f'Invalid determinant {determinant} for matrix\\n{sub_matrix}',\n",
    "\n",
    "\n"
   ]
  },
  {
   "cell_type": "markdown",
   "id": "e40163e9",
   "metadata": {},
   "source": [
    "We now test the function on the following matrices. Note that there may be several reasons\n",
    "for not being totally unimodular, and the one reported here may not be the same as the one\n",
    "reported for your implementation.\n"
   ]
  },
  {
   "cell_type": "code",
   "execution_count": null,
   "id": "30d1cae2",
   "metadata": {},
   "outputs": [],
   "source": [
    "A = np.array([[2, 1], [1, 4], [1, 1]])\n",
    "print(A)"
   ]
  },
  {
   "cell_type": "markdown",
   "id": "344cfab5",
   "metadata": {},
   "source": [
    "Expected result:<br>\n",
    "`False`<br>\n",
    "`Invalid determinant 7.0 for matrix`<br>\n",
    "`[[2 1]`<br>\n",
    "`[1 4]]`"
   ]
  },
  {
   "cell_type": "code",
   "execution_count": null,
   "id": "47df64c0",
   "metadata": {},
   "outputs": [],
   "source": [
    "totally_unimodular, reason = is_totally_unimodular(matrix=A)\n",
    "print(totally_unimodular)\n",
    "if not totally_unimodular:\n",
    "    print(reason)"
   ]
  },
  {
   "cell_type": "code",
   "execution_count": null,
   "id": "dcd494f8",
   "metadata": {},
   "outputs": [],
   "source": [
    "B = np.array([[0, 1, 0], [1, 0, 1]])\n",
    "print(B)"
   ]
  },
  {
   "cell_type": "markdown",
   "id": "26120769",
   "metadata": {},
   "source": [
    "Expected result:<br>\n",
    "`True`"
   ]
  },
  {
   "cell_type": "code",
   "execution_count": null,
   "id": "5a8ef0cf",
   "metadata": {},
   "outputs": [],
   "source": [
    "totally_unimodular, reason = is_totally_unimodular(matrix=B)\n",
    "print(totally_unimodular)\n",
    "if not totally_unimodular:\n",
    "    print(reason)"
   ]
  },
  {
   "cell_type": "code",
   "execution_count": null,
   "id": "8d578297",
   "metadata": {},
   "outputs": [],
   "source": [
    "C = np.array([[1, -1, 1], [1, 1, 0]])\n",
    "print(C)"
   ]
  },
  {
   "cell_type": "markdown",
   "id": "12c82d71",
   "metadata": {},
   "source": [
    "Expected result:<br>\n",
    "`False`<br>\n",
    "`Invalid determinant 2.0 for matrix`<br>\n",
    "`[[ 1 -1]`<br>\n",
    "`[ 1  1]]`"
   ]
  },
  {
   "cell_type": "code",
   "execution_count": null,
   "id": "00df034b",
   "metadata": {},
   "outputs": [],
   "source": [
    "totally_unimodular, reason = is_totally_unimodular(matrix=C)\n",
    "print(totally_unimodular)\n",
    "if not totally_unimodular:\n",
    "    print(reason)"
   ]
  }
 ],
 "metadata": {},
 "nbformat": 4,
 "nbformat_minor": 5
}

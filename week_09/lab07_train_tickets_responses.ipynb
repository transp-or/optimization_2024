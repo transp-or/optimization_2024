{
 "cells": [
  {
   "cell_type": "markdown",
   "id": "ead730dd",
   "metadata": {},
   "source": [
    "# Transhipment: modeling\n",
    "\n",
    "## Introduction to optimization and operations research\n",
    "\n",
    "Michel Bierlaire\n"
   ]
  },
  {
   "cell_type": "code",
   "execution_count": null,
   "id": "cdd2b247",
   "metadata": {},
   "outputs": [],
   "source": [
    "\n",
    "from matplotlib import pyplot as plt\n",
    "from networkx import (\n",
    "    draw_networkx_nodes,\n",
    "    draw_networkx_labels,\n",
    "    draw_networkx_edges,\n",
    "    draw_networkx_edge_labels,\n",
    "    DiGraph,\n",
    ")\n"
   ]
  },
  {
   "cell_type": "markdown",
   "id": "538a9616",
   "metadata": {},
   "source": [
    "François, 24, and Aria, 26, are traveling from Lausanne to Paris. There\n",
    "are only two seats available in the TGV: one first class ticket at\n",
    "92 euros and one second class ticket at 68 euros, discounted to\n",
    "49 euros if the traveler is 25 or younger. In order to minimize the\n",
    "total costs, it makes sense for François to take the second class\n",
    "ticket and for Aria the first class ticket.\n",
    "\n",
    "- Model the problem  as a transhipment problem, and draw the corresponding network.\n",
    "- To which instance of the transhipment problem seen in class does this problem correspond?\n",
    "- Prove that the proposed solution is indeed optimal."
   ]
  },
  {
   "cell_type": "markdown",
   "id": "07bef8d4",
   "metadata": {},
   "source": [
    "The problem is not associated with a physical network. Still, we\n",
    "define a network in the following way. We define a node for each\n",
    "ticket, represented on the right of the network below, and a node\n",
    "for each traveler, represented on the left.\n",
    "\n",
    "We introduce an arc between each pair of traveler and ticket. For\n",
    "example, the arc from François to ``1st'' means that François\n",
    "would buy the first class ticket.  The cost associated with each arc\n",
    "is the price of the corresponding transaction."
   ]
  },
  {
   "cell_type": "markdown",
   "id": "dce9d6ee",
   "metadata": {},
   "source": [
    "# Question 1: Model the problem  as a transhipment problem, and draw the corresponding network.\n",
    "Create the directed graph"
   ]
  },
  {
   "cell_type": "code",
   "execution_count": null,
   "id": "609a6d9f",
   "metadata": {},
   "outputs": [],
   "source": [
    "the_network = DiGraph()\n"
   ]
  },
  {
   "cell_type": "markdown",
   "id": "83af1d71",
   "metadata": {},
   "source": [
    "Add nodes with data"
   ]
  },
  {
   "cell_type": "code",
   "execution_count": null,
   "id": "71c2d1e2",
   "metadata": {},
   "outputs": [],
   "source": [
    "supply_francois = 1\n",
    "the_network.add_node('François', supply=supply_francois)\n",
    "supply_aria = 1\n",
    "the_network.add_node('Aria', supply=supply_aria)\n",
    "supply_first = -1\n",
    "the_network.add_node('First', supply=supply_first)\n",
    "supply_second = -1\n",
    "the_network.add_node('Second', supply=supply_second)\n",
    "\n"
   ]
  },
  {
   "cell_type": "markdown",
   "id": "e2a72f88",
   "metadata": {},
   "source": [
    "Add arcs with data"
   ]
  },
  {
   "cell_type": "code",
   "execution_count": null,
   "id": "82fa5ff6",
   "metadata": {},
   "outputs": [],
   "source": [
    "the_network.add_edge('François', 'First', cost=92)\n",
    "the_network.add_edge('François', 'Second', cost=49)\n",
    "the_network.add_edge('Aria', 'First', cost=92)\n",
    "the_network.add_edge('Aria', 'Second', cost=68)\n"
   ]
  },
  {
   "cell_type": "markdown",
   "id": "f6f06515",
   "metadata": {},
   "source": [
    "Define positions for each node"
   ]
  },
  {
   "cell_type": "code",
   "execution_count": null,
   "id": "b6532279",
   "metadata": {},
   "outputs": [],
   "source": [
    "pos = {\n",
    "    'François': (1, 0),\n",
    "    'Aria': (1, -3),\n",
    "    'First': (5, 0),\n",
    "    'Second': (5, -3),\n",
    "}\n"
   ]
  },
  {
   "cell_type": "markdown",
   "id": "e895e483",
   "metadata": {},
   "source": [
    "Draw the nodes with labels (including supply data)"
   ]
  },
  {
   "cell_type": "code",
   "execution_count": null,
   "id": "b9885bdc",
   "metadata": {},
   "outputs": [],
   "source": [
    "node_labels = {\n",
    "    node: f\"{node}\\nSupply: {data['supply']}\"\n",
    "    for node, data in the_network.nodes(data=True)\n",
    "}\n",
    "\n"
   ]
  },
  {
   "cell_type": "markdown",
   "id": "25fb01fb",
   "metadata": {},
   "source": [
    "Draw the arcs with labels (including cost data)"
   ]
  },
  {
   "cell_type": "code",
   "execution_count": null,
   "id": "2b51c6c9",
   "metadata": {},
   "outputs": [],
   "source": [
    "edge_labels = {(u, v): f\"Cost: {d['cost']}\" for u, v, d in the_network.edges(data=True)}\n",
    "\n"
   ]
  },
  {
   "cell_type": "markdown",
   "id": "38b4012c",
   "metadata": {},
   "source": [
    "Display the graph"
   ]
  },
  {
   "cell_type": "code",
   "execution_count": null,
   "id": "fddac6b2",
   "metadata": {},
   "outputs": [],
   "source": [
    "draw_networkx_nodes(\n",
    "    the_network,\n",
    "    pos,\n",
    "    node_size=3000,\n",
    "    node_color='lightblue',\n",
    "    edgecolors='black',\n",
    "    alpha=0.5,\n",
    ")\n",
    "draw_networkx_labels(the_network, pos, labels=node_labels, font_size=8)\n",
    "draw_networkx_edges(the_network, pos, edgelist=the_network.edges(), arrows=True)\n",
    "draw_networkx_edge_labels(\n",
    "    the_network, pos, edge_labels=edge_labels, font_size=8, label_pos=0.3\n",
    ")\n",
    "plt.show()\n"
   ]
  },
  {
   "cell_type": "markdown",
   "id": "c73cba39",
   "metadata": {},
   "source": [
    "\n",
    "A transhipment problem is written\n",
    "$$\n",
    "\\min_{x \\in \\mathbb{R}^n} \\sum_{(i,j)\\in \\mathcal{A}}c_{ij} x_{ij}\n",
    "$$\n",
    "subject to the flow conservation constraints,\n",
    "$$\n",
    "\\operatorname{div}(x)_i = s_i \\; \\forall i \\in \\mathcal{N},\n",
    "$$\n",
    "and the bounds on the flows:\n",
    "$$\n",
    "\\ell_{ij} \\leq x_{ij} \\leq u_{ij}, \\; \\forall (i,j) \\in \\mathcal{A}.\n",
    "$$\n",
    "\n",
    "In our case,"
   ]
  },
  {
   "cell_type": "markdown",
   "id": "1e2cdd0d",
   "metadata": {},
   "source": [
    "-  $\\mathcal{N}$ is the set of nodes: François (F), Aria (A),\n",
    "1st (1) and 2nd (2),\n",
    "- $\\mathcal{A}$ is the set of the four possible transactions.\n",
    "- Costs: $c_{ij}$, $\\forall (i,j) \\in \\mathcal{A}$ are the\n",
    "transaction costs as reported in the problem description.\n",
    "- Supply: For each traveler, there is only one transaction. Therefore,\n",
    "the supply is 1. Similarly, each ticket will be be purchased by only\n",
    "one travel, so the demand is -1.\n",
    "- Bounds: As the transactions can only occur in one direction, we\n",
    "impose $x_{ij} \\geq 0$, $\\forall (i,j) \\in \\mathcal{A}$. No upper\n",
    "bound is necessary."
   ]
  },
  {
   "cell_type": "markdown",
   "id": "79c63124",
   "metadata": {},
   "source": [
    "The transhipment problem is\n",
    "$$\n",
    "\\min_{x\\in\\mathbb{R}^6} 92 x_{F1} + 49 x_{F2} + 92 x_{A1} + 68 x_{A2},\n",
    "$$\n",
    "subject to\n",
    "\\begin{align*}\n",
    "x_{F1} + x_{F2} &= 1, \\\\ x_{A1} + x_{A2} &= 1, \\\\ -x_{F1} - x_{A1}\n",
    "&= -1, \\\\ -x_{F2} - x_{A2} &= -1, \\\\ x_{ij} &\\geq 0,& \\forall\n",
    "(i,j) \\in \\mathcal{A}.\n",
    "\\end{align*}\n"
   ]
  },
  {
   "cell_type": "markdown",
   "id": "3be4e7bf",
   "metadata": {},
   "source": [
    "# Question 2: to which instance of the transhipment problem seen in class does this problem correspond?"
   ]
  },
  {
   "cell_type": "markdown",
   "id": "958750cc",
   "metadata": {},
   "source": [
    "This is an assignment problem."
   ]
  },
  {
   "cell_type": "markdown",
   "id": "bed7f1a6",
   "metadata": {},
   "source": [
    "# Question 3: Prove that the proposed solution is indeed optimal."
   ]
  },
  {
   "cell_type": "markdown",
   "id": "6a636812",
   "metadata": {},
   "source": [
    "Given the small size of the problem, it can trivially be solved  by\n",
    "complete enumeration:"
   ]
  },
  {
   "cell_type": "markdown",
   "id": "4103c80b",
   "metadata": {},
   "source": [
    "- If François takes the second class\n",
    "ticket and  Aria the first class ticket, it costs 49+92=\\euro{141}.\n",
    "- If François takes the first class\n",
    "ticket and  Aria the second class ticket, it costs 92+68=\\euro{160}."
   ]
  }
 ],
 "metadata": {},
 "nbformat": 4,
 "nbformat_minor": 5
}

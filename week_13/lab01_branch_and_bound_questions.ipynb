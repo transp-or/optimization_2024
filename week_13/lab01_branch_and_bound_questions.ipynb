{
 "cells": [
  {
   "cell_type": "markdown",
   "id": "2626f4e2",
   "metadata": {},
   "source": [
    "# Branch and bound\n",
    "\n",
    "## Introduction to optimization and operations research.\n",
    "\n",
    "Michel Bierlaire\n"
   ]
  },
  {
   "cell_type": "code",
   "execution_count": null,
   "id": "3fdf7c13",
   "metadata": {},
   "outputs": [],
   "source": [
    "\n",
    "import numpy as np\n",
    "from IPython.core.display_functions import display\n",
    "from teaching_optimization.branch_and_bound.branch_and_bound_milp import LinearProblem\n",
    "from teaching_optimization.branch_and_bound.solution import Solution\n",
    "from teaching_optimization.linear_constraints import (\n",
    "    SignVariable,\n",
    "    Variable,\n",
    "    Term,\n",
    "    SignConstraint,\n",
    "    Constraint,\n",
    "    AllConstraints,\n",
    ")\n"
   ]
  },
  {
   "cell_type": "markdown",
   "id": "e5a54381",
   "metadata": {},
   "source": [
    "The objective of this exercise is to implement the branch and bound algorithm and solve mixed integer linear\n",
    "optimization problems."
   ]
  },
  {
   "cell_type": "markdown",
   "id": "882b911a",
   "metadata": {},
   "source": [
    "Consider the optimization problem :\n",
    "$$\n",
    "\\min x_1 - 2 x_2\n",
    "$$\n",
    "subject to\n",
    "$$\n",
    "\\begin{array}{rcl}\n",
    "-4 x_1 + 6 x_2 & \\leq & 9 \\\\\n",
    "x_1 + x_2 &\\leq & 4 \\\\\n",
    "x_1, x_2 &\\geq& 0 \\\\\n",
    "x_1, x_2 & \\in & \\mathbb{N}.\n",
    "\\end{array}\n",
    "$$"
   ]
  },
  {
   "cell_type": "markdown",
   "id": "c5ee4717",
   "metadata": {},
   "source": [
    "We first encode the relaxation as linear optimization problem."
   ]
  },
  {
   "cell_type": "markdown",
   "id": "c50de9f7",
   "metadata": {},
   "source": [
    "Coefficients of the objective function"
   ]
  },
  {
   "cell_type": "code",
   "execution_count": null,
   "id": "48a600e5",
   "metadata": {},
   "outputs": [],
   "source": [
    "coefficients = np.array([1, -2])\n"
   ]
  },
  {
   "cell_type": "markdown",
   "id": "5db88924",
   "metadata": {},
   "source": [
    "Non negative variables"
   ]
  },
  {
   "cell_type": "code",
   "execution_count": null,
   "id": "cbebf100",
   "metadata": {},
   "outputs": [],
   "source": [
    "x1 = Variable('x1', sign=SignVariable.NON_NEGATIVE)\n",
    "x2 = Variable('x2', sign=SignVariable.NON_NEGATIVE)\n"
   ]
  },
  {
   "cell_type": "markdown",
   "id": "8b39c64f",
   "metadata": {},
   "source": [
    "First constraint."
   ]
  },
  {
   "cell_type": "code",
   "execution_count": null,
   "id": "54f8f930",
   "metadata": {},
   "outputs": [],
   "source": [
    "term_1_1 = Term(\n",
    "    variable=x1,\n",
    "    coefficient=-4,\n",
    ")\n",
    "term_1_2 = Term(variable=x2, coefficient=6)\n",
    "constraint_1 = Constraint(\n",
    "    name='first constraint',\n",
    "    left_hand_side=[term_1_1, term_1_2],\n",
    "    sign=SignConstraint.LESSER_OR_EQUAL,\n",
    "    right_hand_side=9,\n",
    ")\n"
   ]
  },
  {
   "cell_type": "markdown",
   "id": "f2bae2bb",
   "metadata": {},
   "source": [
    "Second constraint"
   ]
  },
  {
   "cell_type": "code",
   "execution_count": null,
   "id": "3d74d446",
   "metadata": {},
   "outputs": [],
   "source": [
    "term_2_1 = Term(\n",
    "    variable=x1,\n",
    "    coefficient=1,\n",
    ")\n",
    "term_2_2 = Term(variable=x2, coefficient=1)\n",
    "constraint_2 = Constraint(\n",
    "    name='second constraint',\n",
    "    left_hand_side=[term_2_1, term_2_2],\n",
    "    sign=SignConstraint.LESSER_OR_EQUAL,\n",
    "    right_hand_side=4,\n",
    ")\n"
   ]
  },
  {
   "cell_type": "markdown",
   "id": "b8300eda",
   "metadata": {},
   "source": [
    "All constraints."
   ]
  },
  {
   "cell_type": "code",
   "execution_count": null,
   "id": "3f30e7dd",
   "metadata": {},
   "outputs": [],
   "source": [
    "all_constraints = AllConstraints(constraints=[constraint_1, constraint_2])\n",
    "print(all_constraints)\n"
   ]
  },
  {
   "cell_type": "markdown",
   "id": "9a76a54d",
   "metadata": {},
   "source": [
    "The definition of the problem gathers all the data defined above, and provides a name."
   ]
  },
  {
   "cell_type": "code",
   "execution_count": null,
   "id": "34e26e83",
   "metadata": {},
   "outputs": [],
   "source": [
    "the_problem: LinearProblem = LinearProblem(\n",
    "    objective_coefficients=coefficients, constraints=all_constraints, the_name='P'\n",
    ")\n"
   ]
  },
  {
   "cell_type": "markdown",
   "id": "f79edf22",
   "metadata": {},
   "source": [
    "If you print the problem, you obtain its name:"
   ]
  },
  {
   "cell_type": "code",
   "execution_count": null,
   "id": "b8791703",
   "metadata": {},
   "outputs": [],
   "source": [
    "print(the_problem)\n"
   ]
  },
  {
   "cell_type": "markdown",
   "id": "a1e9ae0a",
   "metadata": {},
   "source": [
    "You can also print the constraints."
   ]
  },
  {
   "cell_type": "code",
   "execution_count": null,
   "id": "f3d52039",
   "metadata": {},
   "outputs": [],
   "source": [
    "print(the_problem.constraints)\n"
   ]
  },
  {
   "cell_type": "markdown",
   "id": "92b3679a",
   "metadata": {},
   "source": [
    "Using this object, you can calculate a bound and obtain a tuple with\n",
    "\n",
    "- an object of type ``Solution``,\n",
    "- a boolean.\n",
    "\n",
    "The object of type ``Solution`` provides both the solution and the value of the objective function.\n",
    "If it is ``None``, it means that the problem is infeasible.\n",
    "The boolean is True if an integer solution has been found, and False otherwise."
   ]
  },
  {
   "cell_type": "code",
   "execution_count": null,
   "id": "42d40046",
   "metadata": {},
   "outputs": [],
   "source": [
    "calculated_bound = the_problem.bound()\n",
    "if calculated_bound is not None:\n",
    "    the_solution, is_integer = calculated_bound\n"
   ]
  },
  {
   "cell_type": "markdown",
   "id": "4b0e27da",
   "metadata": {},
   "source": [
    "The solution"
   ]
  },
  {
   "cell_type": "code",
   "execution_count": null,
   "id": "b7ab9d38",
   "metadata": {},
   "outputs": [],
   "source": [
    "display(the_solution)\n"
   ]
  },
  {
   "cell_type": "markdown",
   "id": "23f655ec",
   "metadata": {},
   "source": [
    "Is integer?"
   ]
  },
  {
   "cell_type": "code",
   "execution_count": null,
   "id": "6cd3ecd7",
   "metadata": {},
   "outputs": [],
   "source": [
    "display(is_integer)\n"
   ]
  },
  {
   "cell_type": "markdown",
   "id": "613135f5",
   "metadata": {},
   "source": [
    "It also provides the \"branching\", that is, a list of subproblems of the same type.\n",
    "It means that each of the subproblems have a function ``branch`` and a function ``bound``."
   ]
  },
  {
   "cell_type": "code",
   "execution_count": null,
   "id": "76305502",
   "metadata": {},
   "outputs": [],
   "source": [
    "the_subproblems: list[LinearProblem] = the_problem.branch()\n",
    "\n",
    "for subproblem in the_subproblems:\n",
    "    print(f'Subproblem {subproblem}')\n",
    "    print(subproblem.constraints)\n"
   ]
  },
  {
   "cell_type": "markdown",
   "id": "40be7d2c",
   "metadata": {},
   "source": [
    "Now, we ask you to write a recursive function that takes a subproblem as input and solves it\n",
    "using the branch and bound method."
   ]
  },
  {
   "cell_type": "code",
   "execution_count": null,
   "id": "67e5f566",
   "metadata": {},
   "outputs": [],
   "source": [
    "\n",
    "\n",
    "def solve(a_subproblem: LinearProblem, upper_bound=np.inf, level=0) -> Solution | None:\n",
    "    \"\"\"\n",
    "\n",
    "    :param a_subproblem: the subproblem to solve\n",
    "    :param upper_bound: an upper bound on the optimal solution.\n",
    "    :param level: level of recursion. Used only for printing the output.\n",
    "    :return: the optimal solution if the problem has been solved. None if it is infeasible, or if there is no point\n",
    "        solving it as it will not provide the optimal solution of the original problem.\n",
    "    \"\"\"\n",
    "    # Use the same trick as below for your own printing statements\n",
    "    # so that the recursive calls are properly indented.\n",
    "    indentation = ' ' * level * 4\n",
    "    print(f'{indentation}**** Solving problem {a_subproblem.name} ****')\n",
    "    constraints = a_subproblem.constraints.report()\n",
    "    for constraint in constraints:\n",
    "        print(f'{indentation}{constraint}')\n",
    "    calculated_bound = a_subproblem.bound()\n",
    "    if calculated_bound is not None:\n",
    "        solution, is_integer = calculated_bound\n",
    "\n",
    "    # At this point, we have solved the relaxation of the subproblem. Continue the implementation\n",
    "    # of the algorithm.\n",
    "\n",
    "    # If the problem is infeasible, return None\n",
    "    if ????:\n",
    "        # The subproblem is infeasible\n",
    "        print(f'{indentation}{a_subproblem.name}: infeasible')\n",
    "        return None\n",
    "\n",
    "    # If the solution of the relaxation is also the solution of the integer problem,\n",
    "    # we can return the solution.\n",
    "    if ????:\n",
    "        print(f'{indentation}{a_subproblem.name}: optimal solution {solution}')\n",
    "        return solution\n",
    "\n",
    "    # Otherwise, we have the solution of the relaxation.\n",
    "    print(f'{indentation}{a_subproblem.name}: solution of relaxation {solution}')\n",
    "\n",
    "    # We first need to check if the problem is worth solving or not.\n",
    "    if ????:\n",
    "        \"\"\"This subproblem is suboptimal. No need to solve it.\"\"\"\n",
    "\n",
    "\n",
    "\n",
    "\n",
    "        return None\n",
    "\n",
    "    # At this point, we need to solve the problem. We decompose it into subproblems.\n",
    "    subproblems = ????\n",
    "\n",
    "    best_solution = None\n",
    "\n",
    "    # We recursively call the function for each subproblem.\n",
    "    for subproblem in subproblems:\n",
    "        solution: Solution | None = solve(\n",
    "            a_subproblem=subproblem, upper_bound=upper_bound, level=level + 1\n",
    "        )\n",
    "        # If ``None``is returned, we ignore this subproblem.\n",
    "        if solution is None:\n",
    "            continue\n",
    "        # If it is the first subproblem solved, it is also the best solution so far.\n",
    "        if best_solution is None:\n",
    "            best_solution = solution\n",
    "        # Otherwise, update the best solution and the upper bound.\n",
    "        else:\n",
    "            ????\n",
    "\n",
    "\n",
    "\n",
    "    print(f'{indentation}{a_subproblem.name}: optimal solution {best_solution}')\n",
    "    return best_solution\n",
    "\n"
   ]
  },
  {
   "cell_type": "markdown",
   "id": "8d73910a",
   "metadata": {},
   "source": [
    "We apply this function on the original problem"
   ]
  },
  {
   "cell_type": "code",
   "execution_count": null,
   "id": "6a289d90",
   "metadata": {},
   "outputs": [],
   "source": [
    "optimal_solution = solve(a_subproblem=the_problem)\n",
    "print(optimal_solution)\n"
   ]
  },
  {
   "cell_type": "markdown",
   "id": "dfa013b5",
   "metadata": {},
   "source": [
    "## Second example.\n",
    "Apply the algorithm to solve the following problem.\n",
    "\n",
    "$$\n",
    "\\min  -13/4x_1-  8x_2\n",
    "$$\n",
    "subject to\n",
    "\\begin{align*}\n",
    "5x_1+ 6x_2 &\\leq 30,\\\\\n",
    "-x_1+ 2x_2 &\\leq 6,\\\\\n",
    "x_1,x_2 &\\in \\mathbb{N}.\n",
    "\\end{align*}"
   ]
  },
  {
   "cell_type": "code",
   "execution_count": null,
   "id": "ee790797",
   "metadata": {},
   "outputs": [],
   "source": [
    "\n",
    "\n",
    "coefficients = ????\n",
    "\n",
    "\n",
    "\n",
    "\n",
    "\n",
    "\n",
    "\n",
    "\n",
    "\n",
    "\n",
    "\n",
    "\n",
    "\n",
    "\n",
    "\n",
    "\n",
    "\n",
    "\n",
    "\n",
    "\n",
    "\n",
    "\n",
    "\n",
    "\n",
    "\n",
    "\n",
    "\n",
    "\n",
    "\n",
    "\n"
   ]
  },
  {
   "cell_type": "markdown",
   "id": "70ebcccc",
   "metadata": {},
   "source": [
    "All constraints."
   ]
  },
  {
   "cell_type": "code",
   "execution_count": null,
   "id": "197acc15",
   "metadata": {},
   "outputs": [],
   "source": [
    "all_constraints = ????\n",
    "\n",
    "\n",
    "print(all_constraints)\n"
   ]
  },
  {
   "cell_type": "markdown",
   "id": "cd34fb25",
   "metadata": {},
   "source": [
    "The definition of the problem gathers all the data defined above, and provides a name."
   ]
  },
  {
   "cell_type": "code",
   "execution_count": null,
   "id": "d4f60133",
   "metadata": {},
   "outputs": [],
   "source": [
    "the_problem: LinearProblem = LinearProblem(\n",
    "    objective_coefficients=coefficients, constraints=all_constraints, the_name='P'\n",
    ")\n"
   ]
  },
  {
   "cell_type": "markdown",
   "id": "b46fe809",
   "metadata": {},
   "source": [
    "We apply the algorithm."
   ]
  },
  {
   "cell_type": "code",
   "execution_count": null,
   "id": "37b6b0f9",
   "metadata": {},
   "outputs": [],
   "source": [
    "optimal_solution = solve(a_subproblem=the_problem)\n",
    "print(optimal_solution)\n"
   ]
  },
  {
   "cell_type": "markdown",
   "id": "cc8a2761",
   "metadata": {},
   "source": [
    "## Third example.\n",
    "Apply the algorithm to solve the following problem.\n",
    "\n",
    "$$\n",
    "\\min_{x\\in \\mathbb{N}^2} -13 x_1 -8 x_2\n",
    "$$\n",
    "subject to\n",
    "\\begin{align*}\n",
    "x_1 + 2 x_2 & \\leq 10, \\\\\n",
    "5 x_1 + 2 x_2 & \\leq 20, \\\\\n",
    "x_1, x_2 & \\in \\mathbb{N}.\n",
    "\\end{align*}"
   ]
  },
  {
   "cell_type": "code",
   "execution_count": null,
   "id": "aa859369",
   "metadata": {},
   "outputs": [],
   "source": [
    "\n",
    "\n",
    "\n",
    "coefficients = ????\n",
    "\n",
    "\n",
    "\n",
    "\n",
    "\n",
    "\n",
    "\n",
    "\n",
    "\n",
    "\n",
    "\n",
    "\n",
    "\n",
    "\n",
    "\n",
    "\n",
    "\n",
    "\n",
    "\n",
    "\n",
    "\n",
    "\n",
    "\n",
    "\n",
    "\n",
    "\n",
    "\n",
    "\n",
    "\n",
    "\n"
   ]
  },
  {
   "cell_type": "markdown",
   "id": "cd6bff1c",
   "metadata": {},
   "source": [
    "All constraints."
   ]
  },
  {
   "cell_type": "code",
   "execution_count": null,
   "id": "430b1374",
   "metadata": {},
   "outputs": [],
   "source": [
    "all_constraints = ????\n",
    "\n",
    "\n",
    "print(all_constraints)\n"
   ]
  },
  {
   "cell_type": "markdown",
   "id": "aa314054",
   "metadata": {},
   "source": [
    "The definition of the problem gathers all the data defined above, and provides a name."
   ]
  },
  {
   "cell_type": "code",
   "execution_count": null,
   "id": "f6107a1e",
   "metadata": {},
   "outputs": [],
   "source": [
    "the_problem: LinearProblem = LinearProblem(\n",
    "    objective_coefficients=coefficients, constraints=all_constraints, the_name='P'\n",
    ")\n"
   ]
  },
  {
   "cell_type": "markdown",
   "id": "b2ced1c0",
   "metadata": {},
   "source": [
    "We apply the algorithm."
   ]
  },
  {
   "cell_type": "code",
   "execution_count": null,
   "id": "1f689e9e",
   "metadata": {},
   "outputs": [],
   "source": [
    "optimal_solution = solve(a_subproblem=the_problem)\n",
    "print(optimal_solution)\n",
    "\n",
    "\n",
    "\n",
    "\n"
   ]
  }
 ],
 "metadata": {},
 "nbformat": 4,
 "nbformat_minor": 5
}

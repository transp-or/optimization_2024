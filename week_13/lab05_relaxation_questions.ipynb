{
 "cells": [
  {
   "cell_type": "markdown",
   "id": "c2bb64eb",
   "metadata": {},
   "source": [
    "# Discrete optimization: relaxation\n",
    "\n",
    "## Introduction to optimization and operations research\n",
    "\n",
    "Michel Bierlaire\n"
   ]
  },
  {
   "cell_type": "code",
   "execution_count": null,
   "id": "275bbd40",
   "metadata": {},
   "outputs": [],
   "source": [
    "\n",
    "import itertools\n",
    "import sys\n",
    "import warnings\n",
    "\n",
    "import numpy as np\n",
    "from icecream import ic\n",
    "from teaching_optimization.simplex_tableau import SimplexAlgorithmTableau\n",
    "from teaching_optimization.tableau import SimplexTableau\n"
   ]
  },
  {
   "cell_type": "markdown",
   "id": "c742e8cf",
   "metadata": {},
   "source": [
    "The company Alpiq is investing in hydro-electricity. The engineers\n",
    "have identified four potential location to build new dams. For each\n",
    "location, they have assessed the investment costs as well as the\n",
    "long-term expected revenues:"
   ]
  },
  {
   "cell_type": "markdown",
   "id": "e2472019",
   "metadata": {},
   "source": [
    "|               |   Location     | Cost (mCHF)    | Revenues (mCHF)|\n",
    ":--------------:|:--------------:|:--------------:|:--------------:|\n",
    "|      1        |    China       |      50        |       160      |\n",
    "|      2        |     Iran       |      70        |       220      |\n",
    "|      3        |    Brazil      |      40        |       120      |\n",
    "|      4        |    India       |      30        |        80      |"
   ]
  },
  {
   "cell_type": "markdown",
   "id": "a7c5622c",
   "metadata": {},
   "source": [
    "The company has a budget of 140 mCHF. Where should the company invest\n",
    "in new dams?"
   ]
  },
  {
   "cell_type": "markdown",
   "id": "8813232d",
   "metadata": {},
   "source": [
    "## Question 1\n",
    "What type of optimization problem is it?"
   ]
  },
  {
   "cell_type": "markdown",
   "id": "43ae6745",
   "metadata": {},
   "source": [
    "## Question 2\n",
    "Formulate the problem as an integer optimization problem."
   ]
  },
  {
   "cell_type": "markdown",
   "id": "df60399e",
   "metadata": {},
   "source": [
    "## Question 3\n",
    "Solve the relaxation of the problem, and use the\n",
    "solution of the relaxation to advise the company."
   ]
  },
  {
   "cell_type": "code",
   "execution_count": null,
   "id": "19792377",
   "metadata": {},
   "outputs": [],
   "source": [
    "matrix_a = ????\n",
    "\n",
    "\n",
    "\n",
    "\n",
    "\n",
    "\n",
    "\n",
    "\n"
   ]
  },
  {
   "cell_type": "code",
   "execution_count": null,
   "id": "7664f82f",
   "metadata": {},
   "outputs": [],
   "source": [
    "vector_b = ????\n"
   ]
  },
  {
   "cell_type": "code",
   "execution_count": null,
   "id": "7555a7ca",
   "metadata": {},
   "outputs": [],
   "source": [
    "vector_c = ????\n"
   ]
  },
  {
   "cell_type": "markdown",
   "id": "2b048e30",
   "metadata": {},
   "source": [
    "We create the algorithm"
   ]
  },
  {
   "cell_type": "code",
   "execution_count": null,
   "id": "c4f6d8c4",
   "metadata": {},
   "outputs": [],
   "source": [
    "the_algorithm = SimplexAlgorithmTableau(\n",
    "    objective=vector_c,\n",
    "    constraint_matrix=matrix_a,\n",
    "    right_hand_side=vector_b,\n",
    ")\n"
   ]
  },
  {
   "cell_type": "markdown",
   "id": "f0aa681f",
   "metadata": {},
   "source": [
    "We solve the problem"
   ]
  },
  {
   "cell_type": "code",
   "execution_count": null,
   "id": "b30c4fbe",
   "metadata": {},
   "outputs": [],
   "source": [
    "optimal_tableau: SimplexTableau = the_algorithm.solve()\n"
   ]
  },
  {
   "cell_type": "markdown",
   "id": "b5f3fc0e",
   "metadata": {},
   "source": [
    "Check if the problem is feasible"
   ]
  },
  {
   "cell_type": "code",
   "execution_count": null,
   "id": "bd52e31d",
   "metadata": {},
   "outputs": [],
   "source": [
    "if optimal_tableau is None:\n",
    "    warnings.warn(\n",
    "        f'Optimization problem is infeasible. There must be a problem in the formulation.'\n",
    "    )\n",
    "    sys.exit()\n"
   ]
  },
  {
   "cell_type": "markdown",
   "id": "0be17da2",
   "metadata": {},
   "source": [
    "Optimal solution"
   ]
  },
  {
   "cell_type": "code",
   "execution_count": null,
   "id": "39822e94",
   "metadata": {},
   "outputs": [],
   "source": [
    "print(optimal_tableau.feasible_basic_solution)\n",
    "\n"
   ]
  },
  {
   "cell_type": "markdown",
   "id": "4a446a05",
   "metadata": {},
   "source": [
    "Optimal value"
   ]
  },
  {
   "cell_type": "code",
   "execution_count": null,
   "id": "534c2839",
   "metadata": {},
   "outputs": [],
   "source": [
    "print(f'{optimal_tableau.value_objective_function:.3g}')\n"
   ]
  },
  {
   "cell_type": "markdown",
   "id": "6c9aff88",
   "metadata": {},
   "source": [
    "Decision variables."
   ]
  },
  {
   "cell_type": "markdown",
   "id": "4372de85",
   "metadata": {},
   "source": [
    "Decision for China"
   ]
  },
  {
   "cell_type": "code",
   "execution_count": null,
   "id": "9d42ca7f",
   "metadata": {},
   "outputs": [],
   "source": [
    "x_china = ????\n",
    "print(f'Decision for China: {x_china:.3g}')\n"
   ]
  },
  {
   "cell_type": "markdown",
   "id": "50c0ded7",
   "metadata": {},
   "source": [
    "Decision for Iran"
   ]
  },
  {
   "cell_type": "code",
   "execution_count": null,
   "id": "60d93da0",
   "metadata": {},
   "outputs": [],
   "source": [
    "x_iran = ????\n",
    "print(f'Decision for Iran: {x_iran:.3g}')\n"
   ]
  },
  {
   "cell_type": "markdown",
   "id": "f66fbe6a",
   "metadata": {},
   "source": [
    "Decision for Brazil"
   ]
  },
  {
   "cell_type": "code",
   "execution_count": null,
   "id": "51f28eb3",
   "metadata": {},
   "outputs": [],
   "source": [
    "x_brazil = ????\n",
    "print(f'Decision for Brazil: {x_brazil:.3g}')\n"
   ]
  },
  {
   "cell_type": "markdown",
   "id": "1e618c45",
   "metadata": {},
   "source": [
    "Decision for India"
   ]
  },
  {
   "cell_type": "code",
   "execution_count": null,
   "id": "1f95ffca",
   "metadata": {},
   "outputs": [],
   "source": [
    "x_india = ????\n",
    "print(f'Decision for India: {x_india:.3g}')\n",
    "\n",
    "\n",
    "\n",
    "\n"
   ]
  },
  {
   "cell_type": "markdown",
   "id": "1677ead1",
   "metadata": {},
   "source": [
    "## Question 4\n",
    "Solve the problem by full enumeration, and use the\n",
    "solution  to advise the company. Compare the two\n",
    "advises."
   ]
  },
  {
   "cell_type": "markdown",
   "id": "30f0be9d",
   "metadata": {},
   "source": [
    "We code a function that calculates the revenues."
   ]
  },
  {
   "cell_type": "code",
   "execution_count": null,
   "id": "ed87f1a3",
   "metadata": {},
   "outputs": [],
   "source": [
    "def revenues(x_1: int, x_2: int, x_3: int, x_4: int) -> float:\n",
    "    \"\"\"Calculates the objective function\n",
    "\n",
    "    :param x_1: decision for China\n",
    "    :param x_2: decision for Iran\n",
    "    :param x_3: decision for Brazil\n",
    "    :param x_4: decision for India\n",
    "    :return: total revenues\n",
    "    \"\"\"\n",
    "    return ????\n",
    "\n"
   ]
  },
  {
   "cell_type": "markdown",
   "id": "47d329b6",
   "metadata": {},
   "source": [
    "We code a function that calculates the budget."
   ]
  },
  {
   "cell_type": "code",
   "execution_count": null,
   "id": "be71f3b1",
   "metadata": {},
   "outputs": [],
   "source": [
    "def budget(x_1: int, x_2: int, x_3: int, x_4: int) -> float:\n",
    "    \"\"\"Calculates the budget\n",
    "\n",
    "    :param x_1: decision for China\n",
    "    :param x_2: decision for Iran\n",
    "    :param x_3: decision for Brazil\n",
    "    :param x_4: decision for India\n",
    "    :return: budget\n",
    "    \"\"\"\n",
    "    return ????\n",
    "\n"
   ]
  },
  {
   "cell_type": "markdown",
   "id": "371aab96",
   "metadata": {},
   "source": [
    "We code a function that verifies the budget constraint"
   ]
  },
  {
   "cell_type": "code",
   "execution_count": null,
   "id": "bc8f09cb",
   "metadata": {},
   "outputs": [],
   "source": [
    "def budget_constraint(x_1: int, x_2: int, x_3: int, x_4: int) -> bool:\n",
    "    \"\"\"Check the budget constraint\n",
    "\n",
    "    :param x_1: decision for China\n",
    "    :param x_2: decision for Iran\n",
    "    :param x_3: decision for Brazil\n",
    "    :param x_4: decision for India\n",
    "    :return: True if the budget constraint is verified, False otherwise.\n",
    "    \"\"\"\n",
    "    the_budget = budget(x_1, x_2, x_3, x_4)\n",
    "    return ????\n",
    "\n"
   ]
  },
  {
   "cell_type": "markdown",
   "id": "731831f9",
   "metadata": {},
   "source": [
    "Now, we perform a complete enumeration to identify the best solution."
   ]
  },
  {
   "cell_type": "code",
   "execution_count": null,
   "id": "1d31a7d6",
   "metadata": {},
   "outputs": [],
   "source": [
    "best_solution = None\n",
    "best_value = 0\n"
   ]
  },
  {
   "cell_type": "markdown",
   "id": "1cbac442",
   "metadata": {},
   "source": [
    "Loop over all possible combinations of decisions to identify the best one."
   ]
  },
  {
   "cell_type": "code",
   "execution_count": null,
   "id": "46795372",
   "metadata": {},
   "outputs": [],
   "source": [
    "for x_1, x_2, x_3, x_4 in itertools.product([0, 1], repeat=4):\n",
    "    if budget_constraint(x_1, x_2, x_3, x_4):\n",
    "        the_revenues = revenues(x_1, x_2, x_3, x_4)\n",
    "\n",
    "        if the_revenues > best_value:\n",
    "            best_solution = x_1, x_2, x_3, x_4\n",
    "            best_value = the_revenues\n"
   ]
  },
  {
   "cell_type": "markdown",
   "id": "aaad5be6",
   "metadata": {},
   "source": [
    "Optimal solution"
   ]
  },
  {
   "cell_type": "code",
   "execution_count": null,
   "id": "32d8feef",
   "metadata": {},
   "outputs": [],
   "source": [
    "print(best_solution)\n"
   ]
  },
  {
   "cell_type": "markdown",
   "id": "0cd2075c",
   "metadata": {},
   "source": [
    "Optimal value"
   ]
  },
  {
   "cell_type": "code",
   "execution_count": null,
   "id": "7c439330",
   "metadata": {},
   "outputs": [],
   "source": [
    "total_revenues = -optimal_tableau.value_objective_function\n",
    "print(f'Total revenues: {total_revenues:.3g}')\n"
   ]
  },
  {
   "cell_type": "markdown",
   "id": "c096b9e6",
   "metadata": {},
   "source": [
    "Budget"
   ]
  },
  {
   "cell_type": "code",
   "execution_count": null,
   "id": "39eaf715",
   "metadata": {},
   "outputs": [],
   "source": [
    "total_budget = budget(*best_solution)\n",
    "print(f'Total budget: {total_budget:.3g}')\n"
   ]
  },
  {
   "cell_type": "markdown",
   "id": "a3d63708",
   "metadata": {},
   "source": [
    "Check that the budget constraint is verified"
   ]
  },
  {
   "cell_type": "code",
   "execution_count": null,
   "id": "18a3c4e1",
   "metadata": {},
   "outputs": [],
   "source": [
    "is_budget_constraint_verified = budget_constraint(*best_solution)\n",
    "if is_budget_constraint_verified:\n",
    "    print('Budget constraint is verified')\n",
    "else:\n",
    "    warnings.warn('Budget constraint is violated.')\n",
    "\n",
    "\n",
    "\n",
    "\n",
    "\n",
    "\n",
    "\n"
   ]
  }
 ],
 "metadata": {},
 "nbformat": 4,
 "nbformat_minor": 5
}

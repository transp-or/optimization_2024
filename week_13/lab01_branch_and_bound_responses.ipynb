{
 "cells": [
  {
   "cell_type": "markdown",
   "id": "a83fa2b9",
   "metadata": {},
   "source": [
    "# Branch and bound\n",
    "\n",
    "## Introduction to optimization and operations research.\n",
    "\n",
    "Michel Bierlaire\n"
   ]
  },
  {
   "cell_type": "code",
   "execution_count": null,
   "id": "5c874c36",
   "metadata": {},
   "outputs": [],
   "source": [
    "\n",
    "import numpy as np\n",
    "from IPython.core.display_functions import display\n",
    "from teaching_optimization.branch_and_bound.branch_and_bound_milp import LinearProblem\n",
    "from teaching_optimization.branch_and_bound.solution import Solution\n",
    "from teaching_optimization.linear_constraints import (\n",
    "    SignVariable,\n",
    "    Variable,\n",
    "    Term,\n",
    "    SignConstraint,\n",
    "    Constraint,\n",
    "    AllConstraints,\n",
    ")\n"
   ]
  },
  {
   "cell_type": "markdown",
   "id": "7f2cd13a",
   "metadata": {},
   "source": [
    "The objective of this exercise is to implement the branch and bound algorithm and solve mixed integer linear\n",
    "optimization problems."
   ]
  },
  {
   "cell_type": "markdown",
   "id": "070d6bce",
   "metadata": {},
   "source": [
    "Consider the optimization problem :\n",
    "$$\n",
    "\\min x_1 - 2 x_2\n",
    "$$\n",
    "subject to\n",
    "$$\n",
    "\\begin{array}{rcl}\n",
    "-4 x_1 + 6 x_2 & \\leq & 9 \\\\\n",
    "x_1 + x_2 &\\leq & 4 \\\\\n",
    "x_1, x_2 &\\geq& 0 \\\\\n",
    "x_1, x_2 & \\in & \\mathbb{N}.\n",
    "\\end{array}\n",
    "$$"
   ]
  },
  {
   "cell_type": "markdown",
   "id": "1ff92f20",
   "metadata": {},
   "source": [
    "We first encode the relaxation as linear optimization problem."
   ]
  },
  {
   "cell_type": "markdown",
   "id": "6aa62fc3",
   "metadata": {},
   "source": [
    "Coefficients of the objective function"
   ]
  },
  {
   "cell_type": "code",
   "execution_count": null,
   "id": "76552757",
   "metadata": {},
   "outputs": [],
   "source": [
    "coefficients = np.array([1, -2])\n"
   ]
  },
  {
   "cell_type": "markdown",
   "id": "ad5deadd",
   "metadata": {},
   "source": [
    "Non negative variables"
   ]
  },
  {
   "cell_type": "code",
   "execution_count": null,
   "id": "2299dd74",
   "metadata": {},
   "outputs": [],
   "source": [
    "x1 = Variable('x1', sign=SignVariable.NON_NEGATIVE)\n",
    "x2 = Variable('x2', sign=SignVariable.NON_NEGATIVE)\n"
   ]
  },
  {
   "cell_type": "markdown",
   "id": "ac4416ae",
   "metadata": {},
   "source": [
    "First constraint."
   ]
  },
  {
   "cell_type": "code",
   "execution_count": null,
   "id": "caef74b9",
   "metadata": {},
   "outputs": [],
   "source": [
    "term_1_1 = Term(\n",
    "    variable=x1,\n",
    "    coefficient=-4,\n",
    ")\n",
    "term_1_2 = Term(variable=x2, coefficient=6)\n",
    "constraint_1 = Constraint(\n",
    "    name='first constraint',\n",
    "    left_hand_side=[term_1_1, term_1_2],\n",
    "    sign=SignConstraint.LESSER_OR_EQUAL,\n",
    "    right_hand_side=9,\n",
    ")\n"
   ]
  },
  {
   "cell_type": "markdown",
   "id": "8a944794",
   "metadata": {},
   "source": [
    "Second constraint"
   ]
  },
  {
   "cell_type": "code",
   "execution_count": null,
   "id": "b357b345",
   "metadata": {},
   "outputs": [],
   "source": [
    "term_2_1 = Term(\n",
    "    variable=x1,\n",
    "    coefficient=1,\n",
    ")\n",
    "term_2_2 = Term(variable=x2, coefficient=1)\n",
    "constraint_2 = Constraint(\n",
    "    name='second constraint',\n",
    "    left_hand_side=[term_2_1, term_2_2],\n",
    "    sign=SignConstraint.LESSER_OR_EQUAL,\n",
    "    right_hand_side=4,\n",
    ")\n"
   ]
  },
  {
   "cell_type": "markdown",
   "id": "1b2a2021",
   "metadata": {},
   "source": [
    "All constraints."
   ]
  },
  {
   "cell_type": "code",
   "execution_count": null,
   "id": "9479251e",
   "metadata": {},
   "outputs": [],
   "source": [
    "all_constraints = AllConstraints(constraints=[constraint_1, constraint_2])\n",
    "print(all_constraints)\n"
   ]
  },
  {
   "cell_type": "markdown",
   "id": "38b8c67e",
   "metadata": {},
   "source": [
    "The definition of the problem gathers all the data defined above, and provides a name."
   ]
  },
  {
   "cell_type": "code",
   "execution_count": null,
   "id": "48de3331",
   "metadata": {},
   "outputs": [],
   "source": [
    "the_problem: LinearProblem = LinearProblem(\n",
    "    objective_coefficients=coefficients, constraints=all_constraints, the_name='P'\n",
    ")\n"
   ]
  },
  {
   "cell_type": "markdown",
   "id": "0011e5ad",
   "metadata": {},
   "source": [
    "If you print the problem, you obtain its name:"
   ]
  },
  {
   "cell_type": "code",
   "execution_count": null,
   "id": "e6b5d25a",
   "metadata": {},
   "outputs": [],
   "source": [
    "print(the_problem)\n"
   ]
  },
  {
   "cell_type": "markdown",
   "id": "083db97a",
   "metadata": {},
   "source": [
    "You can also print the constraints."
   ]
  },
  {
   "cell_type": "code",
   "execution_count": null,
   "id": "3beff757",
   "metadata": {},
   "outputs": [],
   "source": [
    "print(the_problem.constraints)\n"
   ]
  },
  {
   "cell_type": "markdown",
   "id": "7d015d38",
   "metadata": {},
   "source": [
    "Using this object, you can calculate a bound and obtain a tuple with\n",
    "\n",
    "- an object of type ``Solution``,\n",
    "- a boolean.\n",
    "\n",
    "The object of type ``Solution`` provides both the solution and the value of the objective function.\n",
    "If it is ``None``, it means that the problem is infeasible.\n",
    "The boolean is True if an integer solution has been found, and False otherwise."
   ]
  },
  {
   "cell_type": "code",
   "execution_count": null,
   "id": "8477a228",
   "metadata": {},
   "outputs": [],
   "source": [
    "calculated_bound = the_problem.bound()\n",
    "if calculated_bound is not None:\n",
    "    the_solution, is_integer = calculated_bound\n"
   ]
  },
  {
   "cell_type": "markdown",
   "id": "1b927a18",
   "metadata": {},
   "source": [
    "The solution"
   ]
  },
  {
   "cell_type": "code",
   "execution_count": null,
   "id": "725defac",
   "metadata": {},
   "outputs": [],
   "source": [
    "display(the_solution)\n"
   ]
  },
  {
   "cell_type": "markdown",
   "id": "13a3f04d",
   "metadata": {},
   "source": [
    "Is integer?"
   ]
  },
  {
   "cell_type": "code",
   "execution_count": null,
   "id": "9a516eed",
   "metadata": {},
   "outputs": [],
   "source": [
    "display(is_integer)\n"
   ]
  },
  {
   "cell_type": "markdown",
   "id": "e3f88073",
   "metadata": {},
   "source": [
    "It also provides the \"branching\", that is, a list of subproblems of the same type.\n",
    "It means that each of the subproblems have a function ``branch`` and a function ``bound``."
   ]
  },
  {
   "cell_type": "code",
   "execution_count": null,
   "id": "4121e08c",
   "metadata": {},
   "outputs": [],
   "source": [
    "the_subproblems: list[LinearProblem] = the_problem.branch()\n",
    "\n",
    "for subproblem in the_subproblems:\n",
    "    print(f'Subproblem {subproblem}')\n",
    "    print(subproblem.constraints)\n"
   ]
  },
  {
   "cell_type": "markdown",
   "id": "52392af7",
   "metadata": {},
   "source": [
    "Now, we ask you to write a recursive function that takes a subproblem as input and solves it\n",
    "using the branch and bound method."
   ]
  },
  {
   "cell_type": "code",
   "execution_count": null,
   "id": "c8d23933",
   "metadata": {},
   "outputs": [],
   "source": [
    "\n",
    "\n",
    "def solve(a_subproblem: LinearProblem, upper_bound=np.inf, level=0) -> Solution | None:\n",
    "    \"\"\"\n",
    "\n",
    "    :param a_subproblem: the subproblem to solve\n",
    "    :param upper_bound: an upper bound on the optimal solution.\n",
    "    :param level: level of recursion. Used only for printing the output.\n",
    "    :return: the optimal solution if the problem has been solved. None if it is infeasible, or if there is no point\n",
    "        solving it as it will not provide the optimal solution of the original problem.\n",
    "    \"\"\"\n",
    "    # Use the same trick as below for your own printing statements\n",
    "    # so that the recursive calls are properly indented.\n",
    "    indentation = ' ' * level * 4\n",
    "    print(f'{indentation}**** Solving problem {a_subproblem.name} ****')\n",
    "    constraints = a_subproblem.constraints.report()\n",
    "    for constraint in constraints:\n",
    "        print(f'{indentation}{constraint}')\n",
    "    calculated_bound = a_subproblem.bound()\n",
    "    if calculated_bound is not None:\n",
    "        solution, is_integer = calculated_bound\n",
    "\n",
    "    # At this point, we have solved the relaxation of the subproblem. Continue the implementation\n",
    "    # of the algorithm.\n",
    "\n",
    "    # If the problem is infeasible, return None\n",
    "    if calculated_bound is None:\n",
    "        # The subproblem is infeasible\n",
    "        print(f'{indentation}{a_subproblem.name}: infeasible')\n",
    "        return None\n",
    "\n",
    "    # If the solution of the relaxation is also the solution of the integer problem,\n",
    "    # we can return the solution.\n",
    "    if is_integer:\n",
    "        print(f'{indentation}{a_subproblem.name}: optimal solution {solution}')\n",
    "        return solution\n",
    "\n",
    "    # Otherwise, we have the solution of the relaxation.\n",
    "    print(f'{indentation}{a_subproblem.name}: solution of relaxation {solution}')\n",
    "\n",
    "    # We first need to check if the problem is worth solving or not.\n",
    "    if solution.value >= upper_bound:\n",
    "        \"\"\"This subproblem is suboptimal. No need to solve it.\"\"\"\n",
    "        print(\n",
    "            f'{indentation}{a_subproblem.name}: lower bound {solution.value} '\n",
    "            f'larger than upper bound {upper_bound}'\n",
    "        )\n",
    "        return None\n",
    "\n",
    "    # At this point, we need to solve the problem. We decompose it into subproblems.\n",
    "    subproblems = a_subproblem.branch()\n",
    "\n",
    "    best_solution = None\n",
    "\n",
    "    # We recursively call the function for each subproblem.\n",
    "    for subproblem in subproblems:\n",
    "        solution: Solution | None = solve(\n",
    "            a_subproblem=subproblem, upper_bound=upper_bound, level=level + 1\n",
    "        )\n",
    "        # If ``None``is returned, we ignore this subproblem.\n",
    "        if solution is None:\n",
    "            continue\n",
    "        # If it is the first subproblem solved, it is also the best solution so far.\n",
    "        if best_solution is None:\n",
    "            best_solution = solution\n",
    "        # Otherwise, update the best solution and the upper bound.\n",
    "        elif solution.value < best_solution.value:\n",
    "            best_solution = solution\n",
    "        if best_solution.value < upper_bound:\n",
    "            upper_bound = best_solution.value\n",
    "\n",
    "    print(f'{indentation}{a_subproblem.name}: optimal solution {best_solution}')\n",
    "    return best_solution\n",
    "\n"
   ]
  },
  {
   "cell_type": "markdown",
   "id": "f387c88d",
   "metadata": {},
   "source": [
    "We apply this function on the original problem"
   ]
  },
  {
   "cell_type": "code",
   "execution_count": null,
   "id": "0471b949",
   "metadata": {},
   "outputs": [],
   "source": [
    "optimal_solution = solve(a_subproblem=the_problem)\n",
    "print(optimal_solution)\n"
   ]
  },
  {
   "cell_type": "markdown",
   "id": "ff7ad422",
   "metadata": {},
   "source": [
    "## Second example.\n",
    "Apply the algorithm to solve the following problem.\n",
    "\n",
    "$$\n",
    "\\min  -13/4x_1-  8x_2\n",
    "$$\n",
    "subject to\n",
    "\\begin{align*}\n",
    "5x_1+ 6x_2 &\\leq 30,\\\\\n",
    "-x_1+ 2x_2 &\\leq 6,\\\\\n",
    "x_1,x_2 &\\in \\mathbb{N}.\n",
    "\\end{align*}"
   ]
  },
  {
   "cell_type": "markdown",
   "id": "195ae030",
   "metadata": {},
   "source": [
    "Coefficients of the objective function"
   ]
  },
  {
   "cell_type": "code",
   "execution_count": null,
   "id": "420b849d",
   "metadata": {},
   "outputs": [],
   "source": [
    "coefficients = np.array([-13 / 4, -8])\n"
   ]
  },
  {
   "cell_type": "markdown",
   "id": "d781f34c",
   "metadata": {},
   "source": [
    "Non negative variables"
   ]
  },
  {
   "cell_type": "code",
   "execution_count": null,
   "id": "ce7c8a7d",
   "metadata": {},
   "outputs": [],
   "source": [
    "x1 = Variable('x1', sign=SignVariable.NON_NEGATIVE)\n",
    "x2 = Variable('x2', sign=SignVariable.NON_NEGATIVE)\n"
   ]
  },
  {
   "cell_type": "markdown",
   "id": "8ec46987",
   "metadata": {},
   "source": [
    "First constraint."
   ]
  },
  {
   "cell_type": "code",
   "execution_count": null,
   "id": "f4cdfc43",
   "metadata": {},
   "outputs": [],
   "source": [
    "term_1_1 = Term(\n",
    "    variable=x1,\n",
    "    coefficient=5,\n",
    ")\n",
    "term_1_2 = Term(variable=x2, coefficient=6)\n",
    "constraint_1 = Constraint(\n",
    "    name='first constraint',\n",
    "    left_hand_side=[term_1_1, term_1_2],\n",
    "    sign=SignConstraint.LESSER_OR_EQUAL,\n",
    "    right_hand_side=30,\n",
    ")\n"
   ]
  },
  {
   "cell_type": "markdown",
   "id": "8f9817c0",
   "metadata": {},
   "source": [
    "Second constraint"
   ]
  },
  {
   "cell_type": "code",
   "execution_count": null,
   "id": "dd3b3690",
   "metadata": {},
   "outputs": [],
   "source": [
    "term_2_1 = Term(\n",
    "    variable=x1,\n",
    "    coefficient=-1,\n",
    ")\n",
    "term_2_2 = Term(variable=x2, coefficient=2)\n",
    "constraint_2 = Constraint(\n",
    "    name='second constraint',\n",
    "    left_hand_side=[term_2_1, term_2_2],\n",
    "    sign=SignConstraint.LESSER_OR_EQUAL,\n",
    "    right_hand_side=6,\n",
    ")\n"
   ]
  },
  {
   "cell_type": "markdown",
   "id": "91c00506",
   "metadata": {},
   "source": [
    "All constraints."
   ]
  },
  {
   "cell_type": "code",
   "execution_count": null,
   "id": "9e9fa8e4",
   "metadata": {},
   "outputs": [],
   "source": [
    "all_constraints = AllConstraints(\n",
    "    constraints=[constraint_1, constraint_2]\n",
    ")\n",
    "print(all_constraints)\n"
   ]
  },
  {
   "cell_type": "markdown",
   "id": "cc794b0c",
   "metadata": {},
   "source": [
    "The definition of the problem gathers all the data defined above, and provides a name."
   ]
  },
  {
   "cell_type": "code",
   "execution_count": null,
   "id": "33dc0a3b",
   "metadata": {},
   "outputs": [],
   "source": [
    "the_problem: LinearProblem = LinearProblem(\n",
    "    objective_coefficients=coefficients, constraints=all_constraints, the_name='P'\n",
    ")\n"
   ]
  },
  {
   "cell_type": "markdown",
   "id": "8e44ebb9",
   "metadata": {},
   "source": [
    "We apply the algorithm."
   ]
  },
  {
   "cell_type": "code",
   "execution_count": null,
   "id": "cf651837",
   "metadata": {},
   "outputs": [],
   "source": [
    "optimal_solution = solve(a_subproblem=the_problem)\n",
    "print(optimal_solution)\n"
   ]
  },
  {
   "cell_type": "markdown",
   "id": "8c2b5056",
   "metadata": {},
   "source": [
    "## Third example.\n",
    "Apply the algorithm to solve the following problem.\n",
    "\n",
    "$$\n",
    "\\min_{x\\in \\mathbb{N}^2} -13 x_1 -8 x_2\n",
    "$$\n",
    "subject to\n",
    "\\begin{align*}\n",
    "x_1 + 2 x_2 & \\leq 10, \\\\\n",
    "5 x_1 + 2 x_2 & \\leq 20, \\\\\n",
    "x_1, x_2 & \\in \\mathbb{N}.\n",
    "\\end{align*}"
   ]
  },
  {
   "cell_type": "markdown",
   "id": "f42869b6",
   "metadata": {},
   "source": [
    "Coefficients of the objective function"
   ]
  },
  {
   "cell_type": "code",
   "execution_count": null,
   "id": "fbe4cce1",
   "metadata": {},
   "outputs": [],
   "source": [
    "coefficients = np.array([-13, -8])\n"
   ]
  },
  {
   "cell_type": "markdown",
   "id": "af3f5e16",
   "metadata": {},
   "source": [
    "Non negative variables"
   ]
  },
  {
   "cell_type": "code",
   "execution_count": null,
   "id": "86dcc535",
   "metadata": {},
   "outputs": [],
   "source": [
    "x1 = Variable('x1', sign=SignVariable.NON_NEGATIVE)\n",
    "x2 = Variable('x2', sign=SignVariable.NON_NEGATIVE)\n"
   ]
  },
  {
   "cell_type": "markdown",
   "id": "e56a248c",
   "metadata": {},
   "source": [
    "First constraint."
   ]
  },
  {
   "cell_type": "code",
   "execution_count": null,
   "id": "cbb4a451",
   "metadata": {},
   "outputs": [],
   "source": [
    "term_1_1 = Term(\n",
    "    variable=x1,\n",
    "    coefficient=1,\n",
    ")\n",
    "term_1_2 = Term(variable=x2, coefficient=2)\n",
    "constraint_1 = Constraint(\n",
    "    name='first constraint',\n",
    "    left_hand_side=[term_1_1, term_1_2],\n",
    "    sign=SignConstraint.LESSER_OR_EQUAL,\n",
    "    right_hand_side=10,\n",
    ")\n"
   ]
  },
  {
   "cell_type": "markdown",
   "id": "57d8a403",
   "metadata": {},
   "source": [
    "Second constraint"
   ]
  },
  {
   "cell_type": "code",
   "execution_count": null,
   "id": "9f63bbbf",
   "metadata": {},
   "outputs": [],
   "source": [
    "term_2_1 = Term(\n",
    "    variable=x1,\n",
    "    coefficient=5,\n",
    ")\n",
    "term_2_2 = Term(variable=x2, coefficient=2)\n",
    "constraint_2 = Constraint(\n",
    "    name='second constraint',\n",
    "    left_hand_side=[term_2_1, term_2_2],\n",
    "    sign=SignConstraint.LESSER_OR_EQUAL,\n",
    "    right_hand_side=20,\n",
    ")\n"
   ]
  },
  {
   "cell_type": "markdown",
   "id": "47fd0252",
   "metadata": {},
   "source": [
    "All constraints."
   ]
  },
  {
   "cell_type": "code",
   "execution_count": null,
   "id": "52ac140a",
   "metadata": {},
   "outputs": [],
   "source": [
    "all_constraints = AllConstraints(\n",
    "    constraints=[constraint_1, constraint_2]\n",
    ")\n",
    "print(all_constraints)\n"
   ]
  },
  {
   "cell_type": "markdown",
   "id": "b3d29941",
   "metadata": {},
   "source": [
    "The definition of the problem gathers all the data defined above, and provides a name."
   ]
  },
  {
   "cell_type": "code",
   "execution_count": null,
   "id": "746ed578",
   "metadata": {},
   "outputs": [],
   "source": [
    "the_problem: LinearProblem = LinearProblem(\n",
    "    objective_coefficients=coefficients, constraints=all_constraints, the_name='P'\n",
    ")\n"
   ]
  },
  {
   "cell_type": "markdown",
   "id": "72ada9eb",
   "metadata": {},
   "source": [
    "We apply the algorithm."
   ]
  },
  {
   "cell_type": "code",
   "execution_count": null,
   "id": "f96c7c65",
   "metadata": {},
   "outputs": [],
   "source": [
    "optimal_solution = solve(a_subproblem=the_problem)\n",
    "print(optimal_solution)\n",
    "\n"
   ]
  },
  {
   "cell_type": "markdown",
   "id": "bde46d03",
   "metadata": {},
   "source": [
    "Note that the optimal solution was already found with the solution of P_1.\n",
    "But it is only at the end of the algorithm that we know that it is actually the\n",
    "optimal solution."
   ]
  }
 ],
 "metadata": {},
 "nbformat": 4,
 "nbformat_minor": 5
}

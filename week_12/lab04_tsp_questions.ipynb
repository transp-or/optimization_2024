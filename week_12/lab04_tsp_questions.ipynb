{
 "cells": [
  {
   "cell_type": "markdown",
   "id": "d111aa56",
   "metadata": {},
   "source": [
    "# Discrete optimization: traveling salesman problem\n",
    "\n",
    "## Introduction to optimization and operations research\n",
    "\n",
    "Michel Bierlaire\n"
   ]
  },
  {
   "cell_type": "code",
   "execution_count": null,
   "id": "7601edd9",
   "metadata": {},
   "outputs": [],
   "source": [
    "\n",
    "from matplotlib import pyplot as plt\n",
    "from networkx import (\n",
    "    Graph,\n",
    "    draw_networkx_nodes,\n",
    "    draw_networkx_labels,\n",
    "    draw_networkx_edges,\n",
    "    draw_networkx_edge_labels,\n",
    ")\n"
   ]
  },
  {
   "cell_type": "markdown",
   "id": "c3f4edb8",
   "metadata": {},
   "source": [
    "This exercise does not require to code in Python."
   ]
  },
  {
   "cell_type": "markdown",
   "id": "42480027",
   "metadata": {},
   "source": [
    "Anna and Tom live in London and want to plan a road trip during\n",
    "their holidays. They want to visit 3 cities: Barcelona, Budapest and\n",
    "Prague. They would like to minimize the cost of their trip by\n",
    "ordering the cities in a smart way. The cost to go"
   ]
  },
  {
   "cell_type": "markdown",
   "id": "539a5519",
   "metadata": {},
   "source": [
    "- between Barcelona and Budapest is 150.- CHF,\n",
    "- between Barcelona and Prague is 170.- CHF,\n",
    "- between Barcelona and London is 90.- CHF,\n",
    "- between London and Prague is 120.- CHF,\n",
    "- between London and Budapest is 200.- CHF,\n",
    "- between Budapest and Prague is 70.- CHF,"
   ]
  },
  {
   "cell_type": "markdown",
   "id": "92691052",
   "metadata": {},
   "source": [
    "as summarized in the figure below."
   ]
  },
  {
   "cell_type": "markdown",
   "id": "3107e36c",
   "metadata": {},
   "source": [
    "Building the graph"
   ]
  },
  {
   "cell_type": "code",
   "execution_count": null,
   "id": "bc43d86c",
   "metadata": {},
   "outputs": [],
   "source": [
    "G = Graph()\n",
    "positions = {\n",
    "    'Barcelona': (-5, 2),\n",
    "    'Budapest': (-5, -0.5),\n",
    "    'London': (0, 2),\n",
    "    'Prague': (0, -0.5),\n",
    "}\n",
    "G.add_node('Barcelona')\n",
    "G.add_node('Budapest')\n",
    "G.add_node('London')\n",
    "G.add_node('Prague')\n"
   ]
  },
  {
   "cell_type": "markdown",
   "id": "8ed092c4",
   "metadata": {},
   "source": [
    "Arcs with distances"
   ]
  },
  {
   "cell_type": "code",
   "execution_count": null,
   "id": "ec47dd7a",
   "metadata": {},
   "outputs": [],
   "source": [
    "arcs = [\n",
    "    (\"Barcelona\", \"Budapest\", 150),\n",
    "    (\"Barcelona\", \"Prague\", 170),\n",
    "    (\"Barcelona\", \"London\", 90),\n",
    "    (\"Budapest\", \"Prague\", 70),\n",
    "    (\"Budapest\", \"London\", 200),\n",
    "    (\"London\", \"Prague\", 120),\n",
    "]\n",
    "for arc in arcs:\n",
    "    G.add_edge(arc[0], arc[1], weight=arc[2])\n",
    "node_colors = ['lightgray' if node == 'London' else 'white' for node in G.nodes()]\n",
    "edge_labels = {(edge[0], edge[1]): edge[2] for edge in arcs}\n",
    "\n"
   ]
  },
  {
   "cell_type": "markdown",
   "id": "215b6810",
   "metadata": {},
   "source": [
    "Show the plot"
   ]
  },
  {
   "cell_type": "code",
   "execution_count": null,
   "id": "6fadb27f",
   "metadata": {},
   "outputs": [],
   "source": [
    "draw_networkx_nodes(\n",
    "    G,\n",
    "    pos=positions,\n",
    "    node_color=node_colors,\n",
    "    edgecolors='black',\n",
    "    node_size=2000,\n",
    "    alpha=0.5,\n",
    ")\n",
    "draw_networkx_labels(G, pos=positions, font_size=12)\n",
    "draw_networkx_edges(G, pos=positions, edge_color='black', arrows=False)\n",
    "draw_networkx_edge_labels(\n",
    "    G, pos=positions, edge_labels=edge_labels, font_size=10, label_pos=0.3\n",
    ")\n",
    "plt.axis('off')\n",
    "plt.show()\n"
   ]
  },
  {
   "cell_type": "markdown",
   "id": "29740923",
   "metadata": {},
   "source": [
    "# Question 1\n",
    "Model that traveling salesman problem as an integer optimization problem."
   ]
  },
  {
   "cell_type": "markdown",
   "id": "d78c6e51",
   "metadata": {},
   "source": [
    "# Question 2\n",
    "Consider one possible tour. Provide the corresponding values of\n",
    "the decision variables of the optimization problem, and show that they verify\n",
    "the constraints."
   ]
  }
 ],
 "metadata": {},
 "nbformat": 4,
 "nbformat_minor": 5
}

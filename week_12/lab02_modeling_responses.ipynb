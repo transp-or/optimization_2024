{
 "cells": [
  {
   "cell_type": "markdown",
   "id": "372a28e9",
   "metadata": {},
   "source": [
    "# Discrete optimization: modeling\n",
    "\n",
    "## Introduction to optimization and operations research\n",
    "\n",
    "Michel Bierlaire\n"
   ]
  },
  {
   "cell_type": "markdown",
   "id": "2ad5a020",
   "metadata": {},
   "source": [
    "This exercise does not require to code in Python."
   ]
  },
  {
   "cell_type": "markdown",
   "id": "e853576c",
   "metadata": {},
   "source": [
    "You want to hire a group of workers for your job site. You have at your disposal 7 candidates:"
   ]
  },
  {
   "cell_type": "markdown",
   "id": "1986a860",
   "metadata": {},
   "source": [
    "- Asmodeus,\n",
    "- Belphegor,\n",
    "- Beelzebub,\n",
    "- Leviathan,\n",
    "- Lucifer,\n",
    "- Mammon,\n",
    "- Satan."
   ]
  },
  {
   "cell_type": "markdown",
   "id": "c21511c5",
   "metadata": {},
   "source": [
    "Each decision is modeled by a binary variable $x_i$ which is $1$ if\n",
    "the worker $i$ is hired, and $0$ otherwise. Model the following\n",
    "constraints:\n",
    "\n",
    "- not all candidates can be hired;\n",
    "- at least one candidate must be hired;\n",
    "- Asmodeus can not be hired if Beelzebub is;\n",
    "- Leviathan can be hired only if Belphegor is;\n",
    "- Asmodeus and Lucifer are not separable, and have to be hired\n",
    "both, or not at all;\n",
    "- at least one of the two following constraints must be verified: (i) at least one of the candidates in the group\n",
    "Asmodeus, Belphegor,\n",
    "Beelzebub is chosen,  or (ii) at least two  in the group Belphegor,\n",
    "Leviathan, Lucifer, Mammon."
   ]
  },
  {
   "cell_type": "markdown",
   "id": "b281f26a",
   "metadata": {},
   "source": [
    "Provide a feasible solution."
   ]
  },
  {
   "cell_type": "markdown",
   "id": "26854dae",
   "metadata": {},
   "source": [
    "The following binary decision variables are equal to $1$ if the\n",
    "corresponding candidate is hired, and $0$ otherwise:"
   ]
  },
  {
   "cell_type": "markdown",
   "id": "5eb3ee9a",
   "metadata": {},
   "source": [
    "- $x_1$: Asmodeus,\n",
    "- $x_2$: Belphegor,\n",
    "- $x_3$: Beelzebub,\n",
    "- $x_4$: Leviathan,\n",
    "- $x_5$: Lucifer,\n",
    "- $x_6$: Mammon,\n",
    "- $x_7$: Satan."
   ]
  },
  {
   "cell_type": "markdown",
   "id": "69fa8184",
   "metadata": {},
   "source": [
    "The constraints are modeled as follows."
   ]
  },
  {
   "cell_type": "markdown",
   "id": "8ffbd17d",
   "metadata": {},
   "source": [
    "## Not all candidates can be hired."
   ]
  },
  {
   "cell_type": "markdown",
   "id": "3bc2f692",
   "metadata": {},
   "source": [
    "It means that not all variables\n",
    "can take the value one. We require the sum not to exceed 6:\n",
    "$$ \\sum_{i=1}^7 x_i\\leq 6. $$"
   ]
  },
  {
   "cell_type": "markdown",
   "id": "dbc42585",
   "metadata": {},
   "source": [
    "## At least one candidate must be hired."
   ]
  },
  {
   "cell_type": "markdown",
   "id": "add33726",
   "metadata": {},
   "source": [
    "At least one variable must\n",
    "take the value one. We require the sum to be at least equal to one.\n",
    "$$\\sum_{i=1}^7 x_i \\geq 1. $$\n",
    "## Asmodeus can not be hired if Beelzebub is."
   ]
  },
  {
   "cell_type": "markdown",
   "id": "903f7078",
   "metadata": {},
   "source": [
    "The fact that\n",
    "Asmodeus is not hired is represented by a negation: $1-x_1$. The\n",
    "implication is then modeled as\n",
    "$$\n",
    "x_3 \\leq 1-x_1,\n",
    "$$\n",
    "or, equivalently,\n",
    "$$\n",
    "x_1+x_3 \\leq 1.\n",
    "$$"
   ]
  },
  {
   "cell_type": "markdown",
   "id": "c7acc624",
   "metadata": {},
   "source": [
    "## Leviathan can be hired only if Belphegor is."
   ]
  },
  {
   "cell_type": "markdown",
   "id": "29ab7ae4",
   "metadata": {},
   "source": [
    "If $x_4=1$, then\n",
    "$x_2=1$. It is modeled as\n",
    "$$\n",
    "x_4 \\leq x_2,\n",
    "$$\n",
    "or equivalently,\n",
    "$$\n",
    "x_2-x_4 \\geq 0.\n",
    "$$"
   ]
  },
  {
   "cell_type": "markdown",
   "id": "10b483fd",
   "metadata": {},
   "source": [
    "##  Asmodeus and Lucifer are not separable, and have to be hired both, or not at all."
   ]
  },
  {
   "cell_type": "markdown",
   "id": "6a9636cb",
   "metadata": {},
   "source": [
    "Basically, it means that the decision for one\n",
    "is the same as the decision for the other one. The constraint is\n",
    "$$\n",
    "x_1=x_5,\n",
    "$$\n",
    "or, equivalently,\n",
    "$$\n",
    "x_1-x_5 = 0.\n",
    "$$"
   ]
  },
  {
   "cell_type": "markdown",
   "id": "0d490130",
   "metadata": {},
   "source": [
    "## At least one of the two following constraints must be verified:\n",
    "- at least one of the candidates in the group Asmodeus, Belphegor, Beelzebub is chosen, or\n",
    "- at least two in the group Belphegor, Leviathan, Lucifer, Mammon."
   ]
  },
  {
   "cell_type": "markdown",
   "id": "1d81f510",
   "metadata": {},
   "source": [
    "It means, either\n",
    "\\begin{equation}\n",
    "\\label{eq_a02:con1}\\tag{1}\n",
    "x_1 + x_2 + x_3  \\geq 1,\n",
    "\\end{equation}\n",
    "or\n",
    "\\begin{equation}\n",
    "\\label{eq_a02:con2} \\tag{2}\n",
    "x_2 + x_4 + x_5 + x_6 \\geq 2.\n",
    "\\end{equation}\n",
    "Let's first remind the theory on disjunctive constraints. We\n",
    "consider two constraints:\n",
    "- Constraint 1: $f(x) \\geq a$.\n",
    "- Constraint 2: $g(x) \\geq b$.\n",
    "- One of them must be verified, but not necessarily both."
   ]
  },
  {
   "cell_type": "markdown",
   "id": "2d405cd9",
   "metadata": {},
   "source": [
    "We assume that $f$ and $g$ are bounded from below.\n",
    "$$\n",
    "f(x) \\geq L_f \\text{ and } g(x) \\geq L_g \\text{ are always true.}\n",
    "$$"
   ]
  },
  {
   "cell_type": "markdown",
   "id": "b088c51d",
   "metadata": {},
   "source": [
    "We introduce a binary variable $y$, and define the two following constraints:\n",
    "\\begin{align*}\n",
    "f(x) &\\geq L_f+(a-L_f)y \\\\\n",
    "g(x) & \\geq L_g+(b-L_g)(1-y).\n",
    "\\end{align*}"
   ]
  },
  {
   "cell_type": "markdown",
   "id": "4e07c75c",
   "metadata": {},
   "source": [
    "In our case, we have\n",
    "\\begin{align*}\n",
    "f(x) &= x_1 + x_2 + x_3, \\\\\n",
    "a &= 1, \\\\\n",
    "L_f &= 0, \\\\\n",
    "g(x) &= x_2 + x_4 + x_5 + x_6, \\\\\n",
    "b &= 2, \\\\\n",
    "L_g &= 0.\n",
    "\\end{align*}\n",
    "Therefore, the two constraints are\n",
    "\\begin{align*}\n",
    "x_1 + x_2 + x_3 &\\geq y, \\\\\n",
    "x_2 + x_4 + x_5 + x_6 & \\geq 2(1-y).\n",
    "\\end{align*}"
   ]
  },
  {
   "cell_type": "markdown",
   "id": "08890ade",
   "metadata": {},
   "source": [
    "Note that, if $y=0$, the first constraint is\n",
    "$$\n",
    "x_1 + x_2 + x_3 \\geq 0,\n",
    "$$\n",
    "and is always verified, for any $x$. The second constraint is\n",
    "$$\n",
    "x_2 + x_4 + x_5 + x_6  \\geq 2,\n",
    "$$\n",
    "which is constraint \\eqref{eq_a02:con2}."
   ]
  },
  {
   "cell_type": "markdown",
   "id": "7dd9e44f",
   "metadata": {},
   "source": [
    "If $y=1$, the first constraint is\n",
    "$$\n",
    "x_1 + x_2 + x_3 \\geq 1,\n",
    "$$\n",
    "which is constraint \\eqref{eq_a02:con1}. The second constraint is\n",
    "$$\n",
    "x_2 + x_4 + x_5 + x_6  \\geq 0,\n",
    "$$\n",
    "and is always verified."
   ]
  },
  {
   "cell_type": "markdown",
   "id": "bf20c927",
   "metadata": {},
   "source": [
    "Note also that it is possible for the two constraints to be verified\n",
    "at the same time. This is illustrated in the\n",
    "feasible solution provided below."
   ]
  },
  {
   "cell_type": "markdown",
   "id": "4c582540",
   "metadata": {},
   "source": [
    "## One feasible solution is..."
   ]
  },
  {
   "cell_type": "markdown",
   "id": "2780a90d",
   "metadata": {},
   "source": [
    "\\begin{align*}\n",
    "x_1 &= 0, & x_2 &= 1, \\\\\n",
    "x_3 &= 1, & x_4 &= 1, \\\\\n",
    "x_5 &= 0, & x_6 &= 1, \\\\\n",
    "x_7 &= 1, & y &= 1. \\\\\n",
    "\\end{align*}"
   ]
  },
  {
   "cell_type": "markdown",
   "id": "ab0a6368",
   "metadata": {},
   "source": [
    "It consists in hiring Belphegor, Beelzebub, Leviathan, Mammon, and Satan."
   ]
  },
  {
   "cell_type": "markdown",
   "id": "f9b6a1af",
   "metadata": {},
   "source": [
    "We verify the constraints:\n",
    "\\begin{align*}\n",
    "\\sum_{i=1}^7 x_i = 5 &\\leq 6, \\\\\n",
    "\\sum_{i=1}^7 x_i = 5 &\\geq 1, \\\\\n",
    "x_1+x_3 = 1 &\\leq 1, \\\\\n",
    "x_2-x_4 =0 &\\geq 0, \\\\\n",
    "x_1-x_5 &= 0, \\\\\n",
    "x_1 + x_2 + x_3 -y = 1 &\\geq 0, \\\\\n",
    "x_2 + x_4 + x_5 + x_6 + 2y - 2 = 3&\\geq 0.\n",
    "\\end{align*}"
   ]
  }
 ],
 "metadata": {},
 "nbformat": 4,
 "nbformat_minor": 5
}

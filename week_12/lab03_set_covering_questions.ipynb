{
 "cells": [
  {
   "cell_type": "markdown",
   "id": "60b82a6b",
   "metadata": {},
   "source": [
    "# Discrete optimization: set covering\n",
    "\n",
    "## Introduction to optimization and operations research\n",
    "\n",
    "Michel Bierlaire\n"
   ]
  },
  {
   "cell_type": "markdown",
   "id": "ca400a48",
   "metadata": {},
   "source": [
    "This exercise does not require to code in Python."
   ]
  },
  {
   "cell_type": "markdown",
   "id": "aa424bfb",
   "metadata": {},
   "source": [
    "You need to recruit  software developers from the following team of\n",
    "outstanding computer scientists: Alan, Bjarne, Tim, and\n",
    "Donald. Each of them is expert in at least one programming language:"
   ]
  },
  {
   "cell_type": "markdown",
   "id": "e8506944",
   "metadata": {},
   "source": [
    "- Alan in C and C++,\n",
    "- Bjarne in C++ and Java,\n",
    "- Tim in C++, Ruby and Python,\n",
    "- Donald in C and Java."
   ]
  },
  {
   "cell_type": "markdown",
   "id": "5366807f",
   "metadata": {},
   "source": [
    "Your job is to hire a team of\n",
    "experts, with the following requirements:"
   ]
  },
  {
   "cell_type": "markdown",
   "id": "c553708b",
   "metadata": {},
   "source": [
    "- each language must be covered, in the sense that, for each\n",
    "language, there should be at least one person in the team mastering it,\n",
    "- the team must be as small as possible."
   ]
  },
  {
   "cell_type": "markdown",
   "id": "5170e239",
   "metadata": {},
   "source": [
    "# Question 1\n",
    "Model that set covering problem as an integer optimization problem."
   ]
  },
  {
   "cell_type": "markdown",
   "id": "fc2faf3b",
   "metadata": {},
   "source": [
    "# Question 2\n",
    "Provide a feasible solution."
   ]
  }
 ],
 "metadata": {},
 "nbformat": 4,
 "nbformat_minor": 5
}

{
 "cells": [
  {
   "cell_type": "markdown",
   "id": "53579d3a",
   "metadata": {},
   "source": [
    "# Discrete optimization: modeling\n",
    "\n",
    "## Introduction to optimization and operations research\n",
    "\n",
    "Michel Bierlaire\n"
   ]
  },
  {
   "cell_type": "markdown",
   "id": "7d2f4904",
   "metadata": {},
   "source": [
    "This exercise does not require to code in Python."
   ]
  },
  {
   "cell_type": "markdown",
   "id": "59a13ce4",
   "metadata": {},
   "source": [
    "You want to hire a group of workers for your job site. You have at your disposal 7 candidates:"
   ]
  },
  {
   "cell_type": "markdown",
   "id": "cacbce5f",
   "metadata": {},
   "source": [
    "- Asmodeus,\n",
    "- Belphegor,\n",
    "- Beelzebub,\n",
    "- Leviathan,\n",
    "- Lucifer,\n",
    "- Mammon,\n",
    "- Satan."
   ]
  },
  {
   "cell_type": "markdown",
   "id": "c49275b2",
   "metadata": {},
   "source": [
    "Each decision is modeled by a binary variable $x_i$ which is $1$ if\n",
    "the worker $i$ is hired, and $0$ otherwise. Model the following\n",
    "constraints:\n",
    "\n",
    "- not all candidates can be hired;\n",
    "- at least one candidate must be hired;\n",
    "- Asmodeus can not be hired if Beelzebub is;\n",
    "- Leviathan can be hired only if Belphegor is;\n",
    "- Asmodeus and Lucifer are not separable, and have to be hired\n",
    "both, or not at all;\n",
    "- at least one of the two following constraints must be verified: (i) at least one of the candidates in the group\n",
    "Asmodeus, Belphegor,\n",
    "Beelzebub is chosen,  or (ii) at least two  in the group Belphegor,\n",
    "Leviathan, Lucifer, Mammon."
   ]
  },
  {
   "cell_type": "markdown",
   "id": "c9c7e802",
   "metadata": {},
   "source": [
    "Provide a feasible solution."
   ]
  },
  {
   "cell_type": "markdown",
   "id": "844b564b",
   "metadata": {},
   "source": [
    "## Not all candidates can be hired."
   ]
  },
  {
   "cell_type": "markdown",
   "id": "b4cca6fa",
   "metadata": {},
   "source": [
    "## At least one candidate must be hired."
   ]
  },
  {
   "cell_type": "markdown",
   "id": "57aa2e1c",
   "metadata": {},
   "source": [
    "## Asmodeus can not be hired if Beelzebub is."
   ]
  },
  {
   "cell_type": "markdown",
   "id": "21f057e7",
   "metadata": {},
   "source": [
    "## Leviathan can be hired only if Belphegor is."
   ]
  },
  {
   "cell_type": "markdown",
   "id": "9574eccd",
   "metadata": {},
   "source": [
    "##  Asmodeus and Lucifer are not separable, and have to be hired both, or not at all."
   ]
  },
  {
   "cell_type": "markdown",
   "id": "532bdd46",
   "metadata": {},
   "source": [
    "## At least one of the two following constraints must be verified:\n",
    "- at least one of the candidates in the group Asmodeus, Belphegor, Beelzebub is chosen, or\n",
    "- at least two in the group Belphegor, Leviathan, Lucifer, Mammon."
   ]
  },
  {
   "cell_type": "markdown",
   "id": "38f09097",
   "metadata": {},
   "source": [
    "## One feasible solution is..."
   ]
  }
 ],
 "metadata": {},
 "nbformat": 4,
 "nbformat_minor": 5
}

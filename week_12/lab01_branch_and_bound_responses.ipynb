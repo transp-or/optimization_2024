{
 "cells": [
  {
   "cell_type": "markdown",
   "id": "994b0fb4",
   "metadata": {},
   "source": [
    "# Branch and bound\n",
    "\n",
    "## Introduction to optimization and operations research.\n",
    "\n",
    "Michel Bierlaire\n"
   ]
  },
  {
   "cell_type": "code",
   "execution_count": null,
   "id": "5f239564",
   "metadata": {},
   "outputs": [],
   "source": [
    "\n",
    "import numpy as np\n",
    "from IPython.core.display_functions import display\n",
    "from teaching_optimization.branch_and_bound.branch_and_bound_milp import LinearProblem\n",
    "from teaching_optimization.branch_and_bound.solution import Solution\n",
    "from teaching_optimization.linear_constraints import (\n",
    "    SignVariable,\n",
    "    Variable,\n",
    "    Term,\n",
    "    SignConstraint,\n",
    "    Constraint,\n",
    "    AllConstraints,\n",
    ")\n"
   ]
  },
  {
   "cell_type": "markdown",
   "id": "0c1efc81",
   "metadata": {},
   "source": [
    "The objective of this exercise is to implement the branch and bound algorithm and solve mixed integer linear\n",
    "optimization problems."
   ]
  },
  {
   "cell_type": "markdown",
   "id": "ca05cc62",
   "metadata": {},
   "source": [
    "Consider the optimization problem :\n",
    "$$\n",
    "\\min x_1 - 2 x_2\n",
    "$$\n",
    "subject to\n",
    "$$\n",
    "\\begin{array}{rcl}\n",
    "-4 x_1 + 6 x_2 & \\leq & 9 \\\\\n",
    "x_1 + x_2 &\\leq & 4 \\\\\n",
    "x_1, x_2 &\\geq& 0 \\\\\n",
    "x_1, x_2 & \\in & \\mathbb{N}.\n",
    "\\end{array}\n",
    "$$"
   ]
  },
  {
   "cell_type": "markdown",
   "id": "f61caca4",
   "metadata": {},
   "source": [
    "We first encode the relaxation as linear optimization problem."
   ]
  },
  {
   "cell_type": "markdown",
   "id": "8040cbd0",
   "metadata": {},
   "source": [
    "Coefficients of the objective function"
   ]
  },
  {
   "cell_type": "code",
   "execution_count": null,
   "id": "43b5f677",
   "metadata": {},
   "outputs": [],
   "source": [
    "coefficients = np.array([1, -2])\n"
   ]
  },
  {
   "cell_type": "markdown",
   "id": "3fd9b44a",
   "metadata": {},
   "source": [
    "Non negative variables"
   ]
  },
  {
   "cell_type": "code",
   "execution_count": null,
   "id": "e44b0921",
   "metadata": {},
   "outputs": [],
   "source": [
    "x1 = Variable('x1', sign=SignVariable.NON_NEGATIVE)\n",
    "x2 = Variable('x2', sign=SignVariable.NON_NEGATIVE)\n"
   ]
  },
  {
   "cell_type": "markdown",
   "id": "c093bacc",
   "metadata": {},
   "source": [
    "First constraint."
   ]
  },
  {
   "cell_type": "code",
   "execution_count": null,
   "id": "51c90e7c",
   "metadata": {},
   "outputs": [],
   "source": [
    "term_1_1 = Term(\n",
    "    variable=x1,\n",
    "    coefficient=-4,\n",
    ")\n",
    "term_1_2 = Term(variable=x2, coefficient=6)\n",
    "constraint_1 = Constraint(\n",
    "    name='first constraint',\n",
    "    left_hand_side=[term_1_1, term_1_2],\n",
    "    sign=SignConstraint.LESSER_OR_EQUAL,\n",
    "    right_hand_side=9,\n",
    ")\n"
   ]
  },
  {
   "cell_type": "markdown",
   "id": "fd0b4eb7",
   "metadata": {},
   "source": [
    "Second constraint"
   ]
  },
  {
   "cell_type": "code",
   "execution_count": null,
   "id": "cbff7822",
   "metadata": {},
   "outputs": [],
   "source": [
    "term_2_1 = Term(\n",
    "    variable=x1,\n",
    "    coefficient=1,\n",
    ")\n",
    "term_2_2 = Term(variable=x2, coefficient=1)\n",
    "constraint_2 = Constraint(\n",
    "    name='second constraint',\n",
    "    left_hand_side=[term_2_1, term_2_2],\n",
    "    sign=SignConstraint.LESSER_OR_EQUAL,\n",
    "    right_hand_side=4,\n",
    ")\n"
   ]
  },
  {
   "cell_type": "markdown",
   "id": "903f60a9",
   "metadata": {},
   "source": [
    "All constraints."
   ]
  },
  {
   "cell_type": "code",
   "execution_count": null,
   "id": "873136b6",
   "metadata": {},
   "outputs": [],
   "source": [
    "all_constraints = AllConstraints(constraints=[constraint_1, constraint_2])\n",
    "print(all_constraints)\n"
   ]
  },
  {
   "cell_type": "markdown",
   "id": "f2071d1c",
   "metadata": {},
   "source": [
    "The definition of the problem gathers all the data defined above, and provides a name."
   ]
  },
  {
   "cell_type": "code",
   "execution_count": null,
   "id": "9d0968dd",
   "metadata": {},
   "outputs": [],
   "source": [
    "the_problem: LinearProblem = LinearProblem(\n",
    "    objective_coefficients=coefficients, constraints=all_constraints, the_name='P'\n",
    ")\n"
   ]
  },
  {
   "cell_type": "markdown",
   "id": "03a8c25c",
   "metadata": {},
   "source": [
    "If you print the problem, you obtain its name:"
   ]
  },
  {
   "cell_type": "code",
   "execution_count": null,
   "id": "9205848e",
   "metadata": {},
   "outputs": [],
   "source": [
    "print(the_problem)\n"
   ]
  },
  {
   "cell_type": "markdown",
   "id": "2d34600e",
   "metadata": {},
   "source": [
    "You can also print the constraints."
   ]
  },
  {
   "cell_type": "code",
   "execution_count": null,
   "id": "412d2b9a",
   "metadata": {},
   "outputs": [],
   "source": [
    "print(the_problem.constraints)\n"
   ]
  },
  {
   "cell_type": "markdown",
   "id": "7db4314e",
   "metadata": {},
   "source": [
    "Using this object, you can calculate a bound and obtain a tuple with\n",
    "\n",
    "- an object of type ``Solution``,\n",
    "- a boolean.\n",
    "\n",
    "The object of type ``Solution`` provides both the solution and the value of the objective function.\n",
    "If it is ``None``, it means that the problem is infeasible.\n",
    "The boolean is True if an integer solution has been found, and False otherwise."
   ]
  },
  {
   "cell_type": "code",
   "execution_count": null,
   "id": "893efcb6",
   "metadata": {},
   "outputs": [],
   "source": [
    "calculated_bound = the_problem.bound()\n",
    "if calculated_bound is not None:\n",
    "    the_solution, is_integer = calculated_bound\n"
   ]
  },
  {
   "cell_type": "markdown",
   "id": "ed2b5852",
   "metadata": {},
   "source": [
    "The solution"
   ]
  },
  {
   "cell_type": "code",
   "execution_count": null,
   "id": "034a7a0c",
   "metadata": {},
   "outputs": [],
   "source": [
    "display(the_solution)\n"
   ]
  },
  {
   "cell_type": "markdown",
   "id": "dcfb429b",
   "metadata": {},
   "source": [
    "Is integer?"
   ]
  },
  {
   "cell_type": "code",
   "execution_count": null,
   "id": "95cc83a8",
   "metadata": {},
   "outputs": [],
   "source": [
    "display(is_integer)\n"
   ]
  },
  {
   "cell_type": "markdown",
   "id": "19d404a1",
   "metadata": {},
   "source": [
    "It also provides the \"branching\", that is, a list of subproblems of the same type.\n",
    "It means that each of the subproblems have a function ``branch`` and a function ``bound``."
   ]
  },
  {
   "cell_type": "code",
   "execution_count": null,
   "id": "0cadba4e",
   "metadata": {},
   "outputs": [],
   "source": [
    "the_subproblems: list[LinearProblem] = the_problem.branch()\n",
    "\n",
    "for subproblem in the_subproblems:\n",
    "    print(f'Subproblem {subproblem}')\n",
    "    print(subproblem.constraints)\n"
   ]
  },
  {
   "cell_type": "markdown",
   "id": "0d8c07b8",
   "metadata": {},
   "source": [
    "Now, we ask you to write a recursive function that takes a subproblem as input and solves it\n",
    "using the branch and bound method."
   ]
  },
  {
   "cell_type": "code",
   "execution_count": null,
   "id": "ac6acf69",
   "metadata": {},
   "outputs": [],
   "source": [
    "\n",
    "\n",
    "def solve(a_subproblem: LinearProblem, upper_bound=np.inf, level=0) -> Solution | None:\n",
    "    \"\"\"\n",
    "\n",
    "    :param a_subproblem: the subproblem to solve\n",
    "    :param upper_bound: an upper bound on the optimal solution.\n",
    "    :param level: level of recursion. Used only for printing the output.\n",
    "    :return: the optimal solution if the problem has been solved. None if it is infeasible, or if there is no point\n",
    "        solving it as it will not provide the optimal solution of the original problem.\n",
    "    \"\"\"\n",
    "    # Use the same trick as below for your own printing statements\n",
    "    # so that the recursive calls are properly indented.\n",
    "    indentation = ' ' * level * 4\n",
    "    print(f'{indentation}**** Solving problem {a_subproblem.name} ****')\n",
    "    constraints = a_subproblem.constraints.report()\n",
    "    for constraint in constraints:\n",
    "        print(f'{indentation}{constraint}')\n",
    "    calculated_bound = a_subproblem.bound()\n",
    "    if calculated_bound is not None:\n",
    "        solution, is_integer = calculated_bound\n",
    "\n",
    "    # At this point, we have solved the relaxation of the subproblem. Continue the implementation\n",
    "    # of the algorithm.\n",
    "\n",
    "    # If the problem is infeasible, return None\n",
    "    if calculated_bound is None:\n",
    "        # The subproblem is infeasible\n",
    "        print(f'{indentation}{a_subproblem.name}: infeasible')\n",
    "        return None\n",
    "\n",
    "    # If the solution of the relaxation is also the solution of the integer problem,\n",
    "    # we can return the solution.\n",
    "    if is_integer:\n",
    "        print(f'{indentation}{a_subproblem.name}: optimal solution {solution}')\n",
    "        return solution\n",
    "\n",
    "    # Otherwise, we have the solution of the relaxation.\n",
    "    print(f'{indentation}{a_subproblem.name}: solution of relaxation {solution}')\n",
    "\n",
    "    # We first need to check if the problem is worth solving or not.\n",
    "    if solution.value >= upper_bound:\n",
    "        \"\"\"This subproblem is suboptimal. No need to solve it.\"\"\"\n",
    "        print(\n",
    "            f'{indentation}{a_subproblem.name}: lower bound {solution.value} '\n",
    "            f'larger than upper bound {upper_bound}'\n",
    "        )\n",
    "        return None\n",
    "\n",
    "    # At this point, we need to solve the problem. We decompose it into subproblems.\n",
    "    subproblems = a_subproblem.branch()\n",
    "\n",
    "    best_solution = None\n",
    "\n",
    "    # We recursively call the function for each subproblem.\n",
    "    for subproblem in subproblems:\n",
    "        solution: Solution | None = solve(\n",
    "            a_subproblem=subproblem, upper_bound=upper_bound, level=level + 1\n",
    "        )\n",
    "        # If ``None``is returned, we ignore this subproblem.\n",
    "        if solution is None:\n",
    "            continue\n",
    "        # If it is the first subproblem solved, it is also the best solution so far.\n",
    "        if best_solution is None:\n",
    "            best_solution = solution\n",
    "        # Otherwise, update the best solution and the upper bound.\n",
    "        elif solution.value < best_solution.value:\n",
    "            best_solution = solution\n",
    "        if best_solution.value < upper_bound:\n",
    "            upper_bound = best_solution.value\n",
    "\n",
    "    print(f'{indentation}{a_subproblem.name}: optimal solution {best_solution}')\n",
    "    return best_solution\n",
    "\n"
   ]
  },
  {
   "cell_type": "markdown",
   "id": "5ec08afb",
   "metadata": {},
   "source": [
    "We apply this function on the original problem"
   ]
  },
  {
   "cell_type": "code",
   "execution_count": null,
   "id": "838fdbd8",
   "metadata": {},
   "outputs": [],
   "source": [
    "optimal_solution = solve(a_subproblem=the_problem)\n",
    "print(optimal_solution)\n"
   ]
  },
  {
   "cell_type": "markdown",
   "id": "5dd504b5",
   "metadata": {},
   "source": [
    "## Second example.\n",
    "Apply the algorithm to solve the following problem.\n",
    "\n",
    "$$\n",
    "\\min  -13/4x_1-  8x_2\n",
    "$$\n",
    "subject to\n",
    "\\begin{align*}\n",
    "5x_1+ 6x_2 &\\leq 30,\\\\\n",
    "-x_1+ 2x_2 &\\leq 6,\\\\\n",
    "x_1,x_2 &\\in \\mathbb{N}.\n",
    "\\end{align*}"
   ]
  },
  {
   "cell_type": "markdown",
   "id": "bc6c0d73",
   "metadata": {},
   "source": [
    "Coefficients of the objective function"
   ]
  },
  {
   "cell_type": "code",
   "execution_count": null,
   "id": "bf1ccd9e",
   "metadata": {},
   "outputs": [],
   "source": [
    "coefficients = np.array([-13 / 4, -8])\n"
   ]
  },
  {
   "cell_type": "markdown",
   "id": "5e494fab",
   "metadata": {},
   "source": [
    "Non negative variables"
   ]
  },
  {
   "cell_type": "code",
   "execution_count": null,
   "id": "f9589c9d",
   "metadata": {},
   "outputs": [],
   "source": [
    "x1 = Variable('x1', sign=SignVariable.NON_NEGATIVE)\n",
    "x2 = Variable('x2', sign=SignVariable.NON_NEGATIVE)\n"
   ]
  },
  {
   "cell_type": "markdown",
   "id": "4bec1fc2",
   "metadata": {},
   "source": [
    "First constraint."
   ]
  },
  {
   "cell_type": "code",
   "execution_count": null,
   "id": "773ebe56",
   "metadata": {},
   "outputs": [],
   "source": [
    "term_1_1 = Term(\n",
    "    variable=x1,\n",
    "    coefficient=5,\n",
    ")\n",
    "term_1_2 = Term(variable=x2, coefficient=6)\n",
    "constraint_1 = Constraint(\n",
    "    name='first constraint',\n",
    "    left_hand_side=[term_1_1, term_1_2],\n",
    "    sign=SignConstraint.LESSER_OR_EQUAL,\n",
    "    right_hand_side=30,\n",
    ")\n"
   ]
  },
  {
   "cell_type": "markdown",
   "id": "4e42f2ad",
   "metadata": {},
   "source": [
    "Second constraint"
   ]
  },
  {
   "cell_type": "code",
   "execution_count": null,
   "id": "d35ee300",
   "metadata": {},
   "outputs": [],
   "source": [
    "term_2_1 = Term(\n",
    "    variable=x1,\n",
    "    coefficient=-1,\n",
    ")\n",
    "term_2_2 = Term(variable=x2, coefficient=2)\n",
    "constraint_2 = Constraint(\n",
    "    name='second constraint',\n",
    "    left_hand_side=[term_2_1, term_2_2],\n",
    "    sign=SignConstraint.LESSER_OR_EQUAL,\n",
    "    right_hand_side=6,\n",
    ")\n"
   ]
  },
  {
   "cell_type": "markdown",
   "id": "29b297dc",
   "metadata": {},
   "source": [
    "All constraints."
   ]
  },
  {
   "cell_type": "code",
   "execution_count": null,
   "id": "e2356768",
   "metadata": {},
   "outputs": [],
   "source": [
    "all_constraints = AllConstraints(\n",
    "    constraints=[constraint_1, constraint_2]\n",
    ")\n",
    "print(all_constraints)\n"
   ]
  },
  {
   "cell_type": "markdown",
   "id": "cbe472da",
   "metadata": {},
   "source": [
    "The definition of the problem gathers all the data defined above, and provides a name."
   ]
  },
  {
   "cell_type": "code",
   "execution_count": null,
   "id": "93fee526",
   "metadata": {},
   "outputs": [],
   "source": [
    "the_problem: LinearProblem = LinearProblem(\n",
    "    objective_coefficients=coefficients, constraints=all_constraints, the_name='P'\n",
    ")\n"
   ]
  },
  {
   "cell_type": "markdown",
   "id": "c191a986",
   "metadata": {},
   "source": [
    "We apply the algorithm."
   ]
  },
  {
   "cell_type": "code",
   "execution_count": null,
   "id": "322e1052",
   "metadata": {},
   "outputs": [],
   "source": [
    "optimal_solution = solve(a_subproblem=the_problem)\n",
    "print(optimal_solution)\n"
   ]
  },
  {
   "cell_type": "markdown",
   "id": "cb09db8e",
   "metadata": {},
   "source": [
    "## Third example.\n",
    "Apply the algorithm to solve the following problem.\n",
    "\n",
    "$$\n",
    "\\min_{x\\in \\mathbb{N}^2} -13 x_1 -8 x_2\n",
    "$$\n",
    "subject to\n",
    "\\begin{align*}\n",
    "x_1 + 2 x_2 & \\leq 10, \\\\\n",
    "5 x_1 + 2 x_2 & \\leq 20, \\\\\n",
    "x_1, x_2 & \\in \\mathbb{N}.\n",
    "\\end{align*}"
   ]
  },
  {
   "cell_type": "markdown",
   "id": "84aaa35f",
   "metadata": {},
   "source": [
    "Coefficients of the objective function"
   ]
  },
  {
   "cell_type": "code",
   "execution_count": null,
   "id": "ebcaf228",
   "metadata": {},
   "outputs": [],
   "source": [
    "coefficients = np.array([-13, -8])\n"
   ]
  },
  {
   "cell_type": "markdown",
   "id": "86af982b",
   "metadata": {},
   "source": [
    "Non negative variables"
   ]
  },
  {
   "cell_type": "code",
   "execution_count": null,
   "id": "6cbad07e",
   "metadata": {},
   "outputs": [],
   "source": [
    "x1 = Variable('x1', sign=SignVariable.NON_NEGATIVE)\n",
    "x2 = Variable('x2', sign=SignVariable.NON_NEGATIVE)\n"
   ]
  },
  {
   "cell_type": "markdown",
   "id": "45c3ef8b",
   "metadata": {},
   "source": [
    "First constraint."
   ]
  },
  {
   "cell_type": "code",
   "execution_count": null,
   "id": "7ea8809e",
   "metadata": {},
   "outputs": [],
   "source": [
    "term_1_1 = Term(\n",
    "    variable=x1,\n",
    "    coefficient=1,\n",
    ")\n",
    "term_1_2 = Term(variable=x2, coefficient=2)\n",
    "constraint_1 = Constraint(\n",
    "    name='first constraint',\n",
    "    left_hand_side=[term_1_1, term_1_2],\n",
    "    sign=SignConstraint.LESSER_OR_EQUAL,\n",
    "    right_hand_side=10,\n",
    ")\n"
   ]
  },
  {
   "cell_type": "markdown",
   "id": "12d44090",
   "metadata": {},
   "source": [
    "Second constraint"
   ]
  },
  {
   "cell_type": "code",
   "execution_count": null,
   "id": "f54fc1ee",
   "metadata": {},
   "outputs": [],
   "source": [
    "term_2_1 = Term(\n",
    "    variable=x1,\n",
    "    coefficient=5,\n",
    ")\n",
    "term_2_2 = Term(variable=x2, coefficient=2)\n",
    "constraint_2 = Constraint(\n",
    "    name='second constraint',\n",
    "    left_hand_side=[term_2_1, term_2_2],\n",
    "    sign=SignConstraint.LESSER_OR_EQUAL,\n",
    "    right_hand_side=20,\n",
    ")\n"
   ]
  },
  {
   "cell_type": "markdown",
   "id": "387f7ec0",
   "metadata": {},
   "source": [
    "All constraints."
   ]
  },
  {
   "cell_type": "code",
   "execution_count": null,
   "id": "0bff8b2a",
   "metadata": {},
   "outputs": [],
   "source": [
    "all_constraints = AllConstraints(\n",
    "    constraints=[constraint_1, constraint_2]\n",
    ")\n",
    "print(all_constraints)\n"
   ]
  },
  {
   "cell_type": "markdown",
   "id": "7cd2ec86",
   "metadata": {},
   "source": [
    "The definition of the problem gathers all the data defined above, and provides a name."
   ]
  },
  {
   "cell_type": "code",
   "execution_count": null,
   "id": "c26cab60",
   "metadata": {},
   "outputs": [],
   "source": [
    "the_problem: LinearProblem = LinearProblem(\n",
    "    objective_coefficients=coefficients, constraints=all_constraints, the_name='P'\n",
    ")\n"
   ]
  },
  {
   "cell_type": "markdown",
   "id": "fb1ba8ff",
   "metadata": {},
   "source": [
    "We apply the algorithm."
   ]
  },
  {
   "cell_type": "code",
   "execution_count": null,
   "id": "89b995f5",
   "metadata": {},
   "outputs": [],
   "source": [
    "optimal_solution = solve(a_subproblem=the_problem)\n",
    "print(optimal_solution)\n",
    "\n"
   ]
  },
  {
   "cell_type": "markdown",
   "id": "ffb6acc4",
   "metadata": {},
   "source": [
    "Note that the optimal solution was already found with the solution of P_1.\n",
    "But it is only at the end of the algorithm that we know that it is actually the\n",
    "optimal solution."
   ]
  }
 ],
 "metadata": {},
 "nbformat": 4,
 "nbformat_minor": 5
}

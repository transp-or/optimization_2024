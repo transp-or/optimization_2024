{
 "cells": [
  {
   "cell_type": "markdown",
   "id": "b60a40f2",
   "metadata": {},
   "source": [
    "# Discrete optimization: traveling salesman problem\n",
    "\n",
    "## Introduction to optimization and operations research\n",
    "\n",
    "Michel Bierlaire\n"
   ]
  },
  {
   "cell_type": "code",
   "execution_count": null,
   "id": "c71c6b55",
   "metadata": {},
   "outputs": [],
   "source": [
    "\n",
    "from matplotlib import pyplot as plt\n",
    "from networkx import (\n",
    "    Graph,\n",
    "    draw_networkx_nodes,\n",
    "    draw_networkx_labels,\n",
    "    draw_networkx_edges,\n",
    "    draw_networkx_edge_labels,\n",
    ")\n"
   ]
  },
  {
   "cell_type": "markdown",
   "id": "664f5f82",
   "metadata": {},
   "source": [
    "This exercise does not require to code in Python."
   ]
  },
  {
   "cell_type": "markdown",
   "id": "3b7ce38c",
   "metadata": {},
   "source": [
    "Anna and Tom live in London and want to plan a road trip during\n",
    "their holidays. They want to visit 3 cities: Barcelona, Budapest and\n",
    "Prague. They would like to minimize the cost of their trip by\n",
    "ordering the cities in a smart way. The cost to go"
   ]
  },
  {
   "cell_type": "markdown",
   "id": "f3d7acc3",
   "metadata": {},
   "source": [
    "- between Barcelona and Budapest is 150.- CHF,\n",
    "- between Barcelona and Prague is 170.- CHF,\n",
    "- between Barcelona and London is 90.- CHF,\n",
    "- between London and Prague is 120.- CHF,\n",
    "- between London and Budapest is 200.- CHF,\n",
    "- between Budapest and Prague is 70.- CHF,"
   ]
  },
  {
   "cell_type": "markdown",
   "id": "dadef75e",
   "metadata": {},
   "source": [
    "as summarized in the figure below."
   ]
  },
  {
   "cell_type": "markdown",
   "id": "852dae75",
   "metadata": {},
   "source": [
    "Building the graph"
   ]
  },
  {
   "cell_type": "code",
   "execution_count": null,
   "id": "db5283cf",
   "metadata": {},
   "outputs": [],
   "source": [
    "G = Graph()\n",
    "positions = {\n",
    "    'Barcelona': (-5, 2),\n",
    "    'Budapest': (-5, -0.5),\n",
    "    'London': (0, 2),\n",
    "    'Prague': (0, -0.5),\n",
    "}\n",
    "G.add_node('Barcelona')\n",
    "G.add_node('Budapest')\n",
    "G.add_node('London')\n",
    "G.add_node('Prague')\n"
   ]
  },
  {
   "cell_type": "markdown",
   "id": "e25daf45",
   "metadata": {},
   "source": [
    "Arcs with distances"
   ]
  },
  {
   "cell_type": "code",
   "execution_count": null,
   "id": "3737d226",
   "metadata": {},
   "outputs": [],
   "source": [
    "arcs = [\n",
    "    (\"Barcelona\", \"Budapest\", 150),\n",
    "    (\"Barcelona\", \"Prague\", 170),\n",
    "    (\"Barcelona\", \"London\", 90),\n",
    "    (\"Budapest\", \"Prague\", 70),\n",
    "    (\"Budapest\", \"London\", 200),\n",
    "    (\"London\", \"Prague\", 120),\n",
    "]\n",
    "for arc in arcs:\n",
    "    G.add_edge(arc[0], arc[1], weight=arc[2])\n",
    "node_colors = ['lightgray' if node == 'London' else 'white' for node in G.nodes()]\n",
    "edge_labels = {(edge[0], edge[1]): edge[2] for edge in arcs}\n",
    "\n"
   ]
  },
  {
   "cell_type": "markdown",
   "id": "eb83807c",
   "metadata": {},
   "source": [
    "Show the plot"
   ]
  },
  {
   "cell_type": "code",
   "execution_count": null,
   "id": "755637e6",
   "metadata": {},
   "outputs": [],
   "source": [
    "draw_networkx_nodes(\n",
    "    G,\n",
    "    pos=positions,\n",
    "    node_color=node_colors,\n",
    "    edgecolors='black',\n",
    "    node_size=2000,\n",
    "    alpha=0.5,\n",
    ")\n",
    "draw_networkx_labels(G, pos=positions, font_size=12)\n",
    "draw_networkx_edges(G, pos=positions, edge_color='black', arrows=False)\n",
    "draw_networkx_edge_labels(\n",
    "    G, pos=positions, edge_labels=edge_labels, font_size=10, label_pos=0.3\n",
    ")\n",
    "plt.axis('off')\n",
    "plt.show()\n"
   ]
  },
  {
   "cell_type": "markdown",
   "id": "df8a6ad1",
   "metadata": {},
   "source": [
    "# Question 1\n",
    "Model that traveling salesman problem as an integer optimization problem."
   ]
  },
  {
   "cell_type": "markdown",
   "id": "90a652dc",
   "metadata": {},
   "source": [
    "We denote $\\mathcal{N}$ the set of $n$ nodes. The decision variables are binary\n",
    "variables $x_{ij}$, with $i \\in \\mathcal{N}$, $j \\in \\mathcal{N}$ that are equal\n",
    "to $1$ if Anna and Tom visit city $j$ just after city $i$, and is equal to\n",
    "$0$ otherwise. As Anna and Tom want to minimize their travel costs,\n",
    "the objective function is:"
   ]
  },
  {
   "cell_type": "markdown",
   "id": "7f8c5e03",
   "metadata": {},
   "source": [
    "\\begin{align*}\n",
    "\\min_{x \\in \\{0,1\\}^{12}} & 150 x_{B,Bu} + 170 x_{B,P} + 90 x_{B,L}\\\\\n",
    "& +120 x_{L,P} + 200 x_{L,Bu} + 90 x_{L,B} \\\\\n",
    "& +70 x_{Bu,P} + 150 x_{Bu,B} + 200 x_{Bu,L} \\\\\n",
    "& +170 x_{P,B} + 120 x_{P,L} + 70 x_{P,Bu}.\n",
    "\\end{align*}"
   ]
  },
  {
   "cell_type": "markdown",
   "id": "166839c6",
   "metadata": {},
   "source": [
    "Each city must have exactly one successor, that is\n",
    "\\begin{align*}\n",
    "x_{B,Bu} + x_{B,P} + x_{B,L} & = 1,\\\\\n",
    "x_{L,P} + x_{L,Bu} + x_{L,B} & = 1,\\\\\n",
    "x_{Bu,P} + x_{Bu,B} + x_{Bu,L} & = 1,\\\\\n",
    "x_{P,B} + x_{P,L} + x_{P,Bu} & =1.\n",
    "\\end{align*}"
   ]
  },
  {
   "cell_type": "markdown",
   "id": "a35c04ba",
   "metadata": {},
   "source": [
    "Furthermore, each city must have exactly one predecessor, that is\n",
    "\\begin{align*}\n",
    "x_{Bu,B} + x_{P,B} + x_{L,B} & = 1,\\\\\n",
    "x_{P,L} + x_{Bu,L} + x_{B,L} & = 1,\\\\\n",
    "x_{P,Bu} + x_{B,Bu} + x_{L,Bu} & = 1,\\\\\n",
    "x_{B,P} + x_{L,P} + x_{Bu,P} & = 1.\n",
    "\\end{align*}"
   ]
  },
  {
   "cell_type": "markdown",
   "id": "8f0c89af",
   "metadata": {},
   "source": [
    "Finally, to eliminate subtours, we introduce the integer variables\n",
    "$y_i$, for each city $i$ except London, modeling the position of city\n",
    "$i$ in the tour.  The subtour elimination constraint imposes that, if\n",
    "$x_{ij} = 1$, then $y_j \\geq y_i + 1$. It can be modeled as\n",
    "$$\n",
    "x_{ij}(n-1) \\leq y_j - y_i + n - 2, \\qquad \\forall i,j \\in \\mathcal{N} \\setminus\n",
    "\\{\\text{London}\\},\n",
    "$$\n",
    "where $n=4$."
   ]
  },
  {
   "cell_type": "markdown",
   "id": "fdf94a02",
   "metadata": {},
   "source": [
    "If $x_{ij} = 1$, that is, if city $j$ is visited just after city $i$,\n",
    "the constraint becomes\n",
    "$$\n",
    "1 \\cdot 3 \\leq y_j - y_i + 4 - 2,\n",
    "$$\n",
    "or, equivalently,\n",
    "$$\n",
    "y_j  \\geq y_i+ 1,\n",
    "$$\n",
    "that is, the position of city $j$ in the tour must be after city $j$.\n"
   ]
  },
  {
   "cell_type": "markdown",
   "id": "fc6b3990",
   "metadata": {},
   "source": [
    "If $x_{ij} = 0$, that is if city $j$ is not the city visited after\n",
    "city $i$, the constraint becomes\n",
    "$$\n",
    "0 \\leq y_j - y_i + 4 - 2,\n",
    "$$\n",
    "or, equivalently,\n",
    "$$\n",
    "y_i - y_j \\leq 2,\n",
    "$$\n",
    "which is always verified. Indeed, as London is not numbered, the numbering\n",
    "can be 1, 2, or 3, and the largest difference is  2. In general, any\n",
    "difference $y_j - y_i$ is less or equal to $n-2$."
   ]
  },
  {
   "cell_type": "markdown",
   "id": "3763e376",
   "metadata": {},
   "source": [
    "The subtour elimination constraints are:\n",
    "\\begin{align*}\n",
    "3x_{B,Bu} + y_{B} - y_{Bu} & \\leq 2,\\\\\n",
    "3x_{Bu,B} + y_{Bu} - y_{B} & \\leq 2,\\\\\n",
    "3x_{P,B} + y_{P} - y_{B} & \\leq 2,\\\\\n",
    "3x_{B,P} + y_{B} - y_{P} & \\leq 2,\\\\\n",
    "3x_{Bu,P} + y_{Bu} - y_{P} & \\leq 2,\\\\\n",
    "3x_{P,Bu} + y_{P} - y_{Bu} & \\leq 2.\n",
    "\\end{align*}"
   ]
  },
  {
   "cell_type": "markdown",
   "id": "fd711868",
   "metadata": {},
   "source": [
    "To sum up, the mathematical model for the given problem is the following:"
   ]
  },
  {
   "cell_type": "markdown",
   "id": "53ab85ec",
   "metadata": {},
   "source": [
    "\\begin{align*}\n",
    "\\min_{x \\in \\{0,1\\}^{12}}  & 150 x_{B,Bu} + 170 x_{B,P} + 90 x_{B,L} & \\\\\n",
    "& + 120 x_{L,P} + 200 x_{L,Bu} + 90 x_{L,B} & \\\\\n",
    "& + 70 x_{Bu,P} + 150 x_{Bu,B} + 200 x_{Bu,L} & \\\\\n",
    "& + 170 x_{P,B} + 120 x_{P,L} + 70 x_{P,Bu} & \\\\\n",
    "\\text{subject to} \\quad& & \\\\\n",
    "&x_{B,Bu} + x_{B,P} + x_{B,L} = 1, &\\\\\n",
    "&x_{L,P} + x_{L,Bu} + x_{L,B} = 1, &\\\\\n",
    "&x_{Bu,P} + x_{Bu,B} + x_{Bu,L} = 1, &\\\\\n",
    "&x_{P,B} + x_{P,L} + x_{P,Bu} = 1, &\\\\\n",
    "&x_{Bu,B} + x_{P,B} + x_{L,B} = 1, &\\\\\n",
    "&x_{P,L} + x_{Bu,L} + x_{B,L} = 1, &\\\\\n",
    "&x_{P,Bu} + x_{B,Bu} + x_{L,Bu} = 1, &\\\\\n",
    "&x_{B,P} + x_{L,P} + x_{Bu,P} = 1, &\\\\\n",
    "&3x_{B,Bu} + y_{B} - y_{Bu} \\leq 2, &\\\\\n",
    "&3x_{Bu,B} + y_{Bu} - y_{B} \\leq 2, &\\\\\n",
    "&3x_{P,B} + y_{P} - y_{B} \\leq 2, &\\\\\n",
    "&3x_{B,P} + y_{B} - y_{P} \\leq 2, &\\\\\n",
    "&3x_{Bu,P} + y_{Bu} - y_{P} \\leq 2, &\\\\\n",
    "&3x_{P,Bu} + y_{P} - y_{Bu} \\leq 2, &\\\\\n",
    "&y_{i} \\in \\{1,2,3\\}, \\qquad \\forall i \\in \\mathcal{N} \\setminus \\{L\\}, &\\\\\n",
    "&x_{i,j} \\in \\{0,1\\}, \\qquad \\forall i,j \\in \\mathcal{N}. &\\\\\n",
    "\\end{align*}"
   ]
  },
  {
   "cell_type": "markdown",
   "id": "a4aa9037",
   "metadata": {},
   "source": [
    "# Question 2\n",
    "Consider one possible tour. Provide the corresponding values of\n",
    "the decision variables of the optimization problem, and show that they verify\n",
    "the constraints."
   ]
  },
  {
   "cell_type": "markdown",
   "id": "b37d8e0c",
   "metadata": {},
   "source": [
    "Consider the tour London $\\to$ Barcelona $\\to$ Budapest $\\to$\n",
    "Prague. The corresponding decision variables are\n",
    "\\begin{align*}\n",
    "x_{L,B} &= 1, & x_{L,Bu} &= 0, & x_{L,P} &= 0, \\\\\n",
    "x_{B,L} &= 0, & x_{B,Bu} &= 1, & x_{B,P} &= 0, \\\\\n",
    "x_{Bu,L} &= 0, & x_{Bu, B} &= 0, & x_{Bu,P} &= 1, \\\\\n",
    "x_{P,L} &= 1, & x_{P,B} &= 0, & x_{P,Bu} &= 0, \\\\\n",
    "y_{B} &= 1, & y_{Bu} &= 2, & y_{P} &= 3.\n",
    "\\end{align*}"
   ]
  },
  {
   "cell_type": "markdown",
   "id": "6eb53e4a",
   "metadata": {},
   "source": [
    "We can verify the constraints:"
   ]
  },
  {
   "cell_type": "markdown",
   "id": "66eaaab6",
   "metadata": {},
   "source": [
    "\\begin{align*}\n",
    "x_{B,Bu} + x_{B,P} + x_{B,L} &= 1 + 0 + 0 &= 1, \\\\\n",
    "x_{L,P} + x_{L,Bu} + x_{L,B} &= 0 + 0 + 1 &= 1, \\\\\n",
    "x_{Bu,P} + x_{Bu,B} + x_{Bu,L} &= 1 + 0 + 0 &= 1, \\\\\n",
    "x_{P,B} + x_{P,L} + x_{P,Bu} &= 0 + 1 + 0 &= 1, \\\\\n",
    "x_{Bu,B} + x_{P,B} + x_{L,B} &= 0 + 0 + 1 &= 1, \\\\\n",
    "x_{P,L} + x_{Bu,L} + x_{B,L} &= 1 + 0 + 0 &= 1, \\\\\n",
    "x_{P,Bu} + x_{B,Bu} + x_{L,Bu} &= 0 + 1 + 0 &= 1, \\\\\n",
    "x_{B,P} + x_{L,P} + x_{Bu,P} &= 0 + 0 + 1 &= 1, \\\\\n",
    "3x_{B,Bu} + y_{B} - y_{Bu} &= 3 + 1 - 2 = 2&\\leq 2, \\\\\n",
    "3x_{Bu,B} + y_{Bu} - y_{B} &= 2-1 = 1&\\leq 2, \\\\\n",
    "3x_{P,B} + y_{P} - y_{B} &= 3-1=2&\\leq 2, \\\\\n",
    "3x_{B,P} + y_{B} - y_{P} &= 1 - 3 = -2 &\\leq 2, \\\\\n",
    "3x_{Bu,P} + y_{Bu} - y_{P} &= 3+2-3=2&\\leq 2, \\\\\n",
    "3x_{P,Bu} + y_{P} - y_{Bu} &= 3-2=1 &\\leq 2. \\\\\n",
    "\\end{align*}"
   ]
  }
 ],
 "metadata": {},
 "nbformat": 4,
 "nbformat_minor": 5
}

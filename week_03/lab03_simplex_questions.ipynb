{
 "cells": [
  {
   "cell_type": "markdown",
   "id": "32ea834b",
   "metadata": {},
   "source": [
    "# Simplex algorithm\n",
    "\n",
    "## Introduction to optimization and operations research\n",
    "\n",
    "Michel Bierlaire\n"
   ]
  },
  {
   "cell_type": "code",
   "execution_count": null,
   "id": "2201f007",
   "metadata": {},
   "outputs": [],
   "source": [
    "\n",
    "from enum import Enum, auto\n",
    "\n",
    "import numpy as np\n",
    "\n",
    "from teaching_optimization.linear_optimization import LinearOptimization\n",
    "from teaching_optimization.linear_constraints import (\n",
    "    draw_polyhedron_standard_form,\n",
    "    LabeledPoint,\n",
    ")\n"
   ]
  },
  {
   "cell_type": "markdown",
   "id": "6901c229",
   "metadata": {},
   "source": [
    "Consider the following linear optimization problem\n",
    "$$\n",
    "\\max 4x_1 - 3x_2\n",
    "$$\n",
    "subject to\n",
    "\\begin{align*}\n",
    "2x_1  +  x_2 &\\leq  6,\\\\\n",
    "x_1 - x_2    &\\leq  2,\\\\\n",
    "x_{1}  ,  x_{2}  &\\geq  0. \\\\\n",
    "\\end{align*}\n",
    "\n",
    "The objective of this exercise is to implement the simplex algorithm to find the optimal solution.\n",
    "Verify that the point (0, 0) is a basic feasible solution. If so, start the algorithm from this point.\n"
   ]
  },
  {
   "cell_type": "markdown",
   "id": "388cf844",
   "metadata": {},
   "source": [
    "First,  write the problem in standard form."
   ]
  },
  {
   "cell_type": "code",
   "execution_count": null,
   "id": "409858cf",
   "metadata": {},
   "outputs": [],
   "source": [
    "standard_a = ????\n",
    "standard_b = ????\n",
    "standard_c = ????\n"
   ]
  },
  {
   "cell_type": "markdown",
   "id": "75909d91",
   "metadata": {},
   "source": [
    "Initialize the optimization problem."
   ]
  },
  {
   "cell_type": "code",
   "execution_count": null,
   "id": "68d91989",
   "metadata": {},
   "outputs": [],
   "source": [
    "the_problem = LinearOptimization(\n",
    "    objective=standard_c, constraint_matrix=standard_a, right_hand_side=standard_b\n",
    ")\n"
   ]
  },
  {
   "cell_type": "markdown",
   "id": "bd1ec654",
   "metadata": {},
   "source": [
    "Read the documentation."
   ]
  },
  {
   "cell_type": "code",
   "execution_count": null,
   "id": "fcf4d5fb",
   "metadata": {},
   "outputs": [],
   "source": [
    "help(LinearOptimization)\n"
   ]
  },
  {
   "cell_type": "markdown",
   "id": "0adaf807",
   "metadata": {},
   "source": [
    "Starting point. Specify the indices of the basic variables that correspond to the point (0, 0)."
   ]
  },
  {
   "cell_type": "code",
   "execution_count": null,
   "id": "3b3dcb73",
   "metadata": {},
   "outputs": [],
   "source": [
    "\n",
    "\n",
    "the_basic_indices = ????\n",
    "print(f'Basic variables: {the_basic_indices}')\n"
   ]
  },
  {
   "cell_type": "markdown",
   "id": "3a886d71",
   "metadata": {},
   "source": [
    "Check that it is feasible."
   ]
  },
  {
   "cell_type": "code",
   "execution_count": null,
   "id": "fc893c8a",
   "metadata": {},
   "outputs": [],
   "source": [
    "the_problem.basic_indices = the_basic_indices\n",
    "the_basic_solution = the_problem.basic_solution\n",
    "if the_basic_solution is not None:\n",
    "    print(f'Starting point: {the_basic_solution}')\n",
    "else:\n",
    "    raise ValueError('Invalid starting basis')\n",
    "if the_problem.is_basic_solution_feasible:\n",
    "    print(f'Starting point is feasible')\n",
    "else:\n",
    "    raise ValueError('Infeasible starting basic solution')\n",
    "\n"
   ]
  },
  {
   "cell_type": "markdown",
   "id": "824881f3",
   "metadata": {},
   "source": [
    "Write a function that identifies a non-basic index to enter the basis"
   ]
  },
  {
   "cell_type": "code",
   "execution_count": null,
   "id": "7db3b7b2",
   "metadata": {},
   "outputs": [],
   "source": [
    "def index_entering_basis(\n",
    "    optimization_problem: LinearOptimization, basic_indices: list[int]\n",
    ") -> int | None:\n",
    "    \"\"\"\n",
    "    Function that identifies a non-basic index to enter the basis, or detect optimality\n",
    "    :param optimization_problem: object representing the problem.\n",
    "    :param basic_indices: current list of basic indices.\n",
    "    :return: a non-basic index corresponding to a negative reduced cost, or None if optimal.\n",
    "    \"\"\"\n",
    "    optimization_problem.basic_indices = basic_indices\n",
    "    for non_basic_index in optimization_problem.non_basic_indices:\n",
    "        reduced_cost = ????\n",
    "\n",
    "\n",
    "\n",
    "\n",
    "\n",
    "\n",
    "\n",
    "\n",
    "\n"
   ]
  },
  {
   "cell_type": "markdown",
   "id": "90785cef",
   "metadata": {},
   "source": [
    "We test the function. Expected result: Entering variable: 0"
   ]
  },
  {
   "cell_type": "code",
   "execution_count": null,
   "id": "6593a525",
   "metadata": {},
   "outputs": [],
   "source": [
    "the_entering_index = index_entering_basis(\n",
    "    optimization_problem=the_problem, basic_indices=the_basic_indices\n",
    ")\n",
    "print(f'Entering variable: {the_entering_index}')\n"
   ]
  },
  {
   "cell_type": "markdown",
   "id": "d3112c63",
   "metadata": {},
   "source": [
    "Verify the reduced cost for this variable. It must be negative."
   ]
  },
  {
   "cell_type": "code",
   "execution_count": null,
   "id": "c004e867",
   "metadata": {},
   "outputs": [],
   "source": [
    "print(f'Reduced cost: {the_problem.reduced_cost(variable_index=the_entering_index)}')\n",
    "\n"
   ]
  },
  {
   "cell_type": "markdown",
   "id": "8db34985",
   "metadata": {},
   "source": [
    "Write a function that calculates the longest step along a direction."
   ]
  },
  {
   "cell_type": "code",
   "execution_count": null,
   "id": "3ea00dda",
   "metadata": {},
   "outputs": [],
   "source": [
    "def longest_step(\n",
    "    current_point: np.ndarray, direction: np.ndarray\n",
    ") -> tuple[float, int | None]:\n",
    "    \"\"\"\n",
    "    Function that calculates the longest step along a direction so that all entries stay non-negative.\n",
    "    :param current_point: current point.\n",
    "    :param direction: direction.\n",
    "    :return: the step, as well as the index of one variable that becomes zero, or None of the direction is unbounded.\n",
    "    \"\"\"\n",
    "    ????\n",
    "\n",
    "\n",
    "\n",
    "\n",
    "\n",
    "\n",
    "\n",
    "    return min_value, min_index\n",
    "\n"
   ]
  },
  {
   "cell_type": "markdown",
   "id": "85fc3a16",
   "metadata": {},
   "source": [
    "We test the function. Expected result: Longest step: 1.0. Activated constraint: 2."
   ]
  },
  {
   "cell_type": "code",
   "execution_count": null,
   "id": "99038a61",
   "metadata": {},
   "outputs": [],
   "source": [
    "the_point = np.array([3, 2, 1])\n",
    "the_direction = np.array([-1, 1, -1])\n",
    "the_alpha, the_index = longest_step(current_point=the_point, direction=the_direction)\n",
    "print(f'Longest step: {the_alpha}. Activated constraint: {the_index}')\n"
   ]
  },
  {
   "cell_type": "markdown",
   "id": "8f6e19b9",
   "metadata": {},
   "source": [
    "We test again with an unbounded direction. Expected result: Longest step: inf. Activated constraint: None."
   ]
  },
  {
   "cell_type": "code",
   "execution_count": null,
   "id": "f64e9780",
   "metadata": {},
   "outputs": [],
   "source": [
    "the_point = np.array([3, 2, 1])\n",
    "the_direction = np.array([1, 1, 1])\n",
    "the_alpha, the_index = longest_step(current_point=the_point, direction=the_direction)\n",
    "print(f'Longest step: {the_alpha}. Activated constraint: {the_index}')\n",
    "\n"
   ]
  },
  {
   "cell_type": "markdown",
   "id": "e99c8a5e",
   "metadata": {},
   "source": [
    "Write a function that identifies a basic index to leave the basis."
   ]
  },
  {
   "cell_type": "code",
   "execution_count": null,
   "id": "9b65fc19",
   "metadata": {},
   "outputs": [],
   "source": [
    "def index_leaving_basis(\n",
    "    optimization_problem: LinearOptimization,\n",
    "    basic_indices: list[int],\n",
    "    index_entering: int,\n",
    ") -> int | None:\n",
    "    \"\"\"function that identifies a basic index to leave the basis, or identify an unbounded problem.\n",
    "\n",
    "    :param optimization_problem: object representing the problem.\n",
    "    :param basic_indices: current list of basic indices.\n",
    "    :param index_entering: non-basic index entering the basis\n",
    "    :return: index of the variable leaving the basis, or None if unbounded\n",
    "    \"\"\"\n",
    "    optimization_problem.basic_indices = basic_indices\n",
    "    basic_part_basic_solution = (\n",
    "        optimization_problem.basic_part_basic_solution\n",
    "    ????\n",
    "\n",
    "\n",
    "\n",
    "\n",
    "\n",
    "\n",
    "\n",
    "\n",
    "\n",
    "\n",
    "    if index is None:\n",
    "        # The problem is unbounded along the direction.\n",
    "        return None\n",
    "    return basic_indices[index]\n",
    "\n"
   ]
  },
  {
   "cell_type": "markdown",
   "id": "ddc623b6",
   "metadata": {},
   "source": [
    "We test the function. Expected result: Exiting variable: 3."
   ]
  },
  {
   "cell_type": "code",
   "execution_count": null,
   "id": "f2cc6c28",
   "metadata": {},
   "outputs": [],
   "source": [
    "the_exiting_index = index_leaving_basis(\n",
    "    optimization_problem=the_problem,\n",
    "    basic_indices=the_basic_indices,\n",
    "    index_entering=the_entering_index,\n",
    ")\n",
    "\n",
    "print(f'Exiting variable: {the_exiting_index}')\n",
    "\n"
   ]
  },
  {
   "cell_type": "markdown",
   "id": "59719ac0",
   "metadata": {},
   "source": [
    "We define a list of possible interruptions of the algorithm"
   ]
  },
  {
   "cell_type": "code",
   "execution_count": null,
   "id": "e0b2c657",
   "metadata": {},
   "outputs": [],
   "source": [
    "class CauseInterruptionIterations(Enum):\n",
    "    OPTIMAL = auto()\n",
    "    UNBOUNDED = auto()\n",
    "    INFEASIBLE = auto()\n",
    "\n",
    "    def __str__(self) -> str:\n",
    "        messages = {\n",
    "            self.OPTIMAL: 'Optimal basis found.',\n",
    "            self.UNBOUNDED: 'Optimization problem is unbounded.',\n",
    "            self.INFEASIBLE: 'Optimization problem is infeasible.',\n",
    "        }\n",
    "        return messages[self]\n",
    "\n"
   ]
  },
  {
   "cell_type": "markdown",
   "id": "ae127326",
   "metadata": {},
   "source": [
    "Write a function that performs one iteration of the simplex algorithm."
   ]
  },
  {
   "cell_type": "code",
   "execution_count": null,
   "id": "b5410e06",
   "metadata": {},
   "outputs": [],
   "source": [
    "def simplex_iteration(\n",
    "    optimization_problem: LinearOptimization, basic_indices: list[int]\n",
    ") -> tuple[list[int] | None, CauseInterruptionIterations | None]:\n",
    "    \"\"\"\n",
    "    Performs one iteration of the simplex algorithm.\n",
    "    :param optimization_problem: object representing the problem.\n",
    "    :param basic_indices: current list of basic indices.\n",
    "    :return: new list of basic indices, if successful. If None, a message explaining the reason.\n",
    "    \"\"\"\n",
    "\n",
    "\n",
    "\n",
    "    if ????:\n",
    "        # Optimal solution found.\n",
    "        return None, CauseInterruptionIterations.OPTIMAL\n",
    "\n",
    "\n",
    "\n",
    "\n",
    "\n",
    "\n",
    "    if ????:\n",
    "        # Problem is unbounded.\n",
    "        return None, CauseInterruptionIterations.UNBOUNDED\n",
    "\n",
    "\n",
    "\n",
    "\n",
    "    return new_basic_indices, None\n",
    "\n"
   ]
  },
  {
   "cell_type": "markdown",
   "id": "1c0bc126",
   "metadata": {},
   "source": [
    "We apply the functions on the example above.\n",
    "Starting basic indices: 2 and 3."
   ]
  },
  {
   "cell_type": "code",
   "execution_count": null,
   "id": "87de88cd",
   "metadata": {},
   "outputs": [],
   "source": [
    "the_basic_indices = [2, 3]\n",
    "print(f'Basic variables: {the_basic_indices}')\n",
    "the_problem.basic_indices = the_basic_indices\n",
    "the_basic_solution = the_problem.basic_solution\n"
   ]
  },
  {
   "cell_type": "markdown",
   "id": "dcef87b1",
   "metadata": {},
   "source": [
    "Draw the polyhedron and the current solution."
   ]
  },
  {
   "cell_type": "code",
   "execution_count": null,
   "id": "f16526a9",
   "metadata": {},
   "outputs": [],
   "source": [
    "draw_polyhedron_standard_form(\n",
    "    matrix_a=standard_a,\n",
    "    vector_b=standard_b,\n",
    "    points=[LabeledPoint(coordinates=the_basic_solution, label='It. 0', shift=0.1)],\n",
    ")\n"
   ]
  },
  {
   "cell_type": "markdown",
   "id": "4b733a35",
   "metadata": {},
   "source": [
    "First iteration"
   ]
  },
  {
   "cell_type": "code",
   "execution_count": null,
   "id": "b8e2f11e",
   "metadata": {},
   "outputs": [],
   "source": [
    "basic_indices_1, interruption = simplex_iteration(\n",
    "    optimization_problem=the_problem, basic_indices=the_basic_indices\n",
    ")\n",
    "if basic_indices_1 is None:\n",
    "    print(interruption)\n",
    "\n",
    "print(f'Basic variables: {basic_indices_1}')\n",
    "the_problem.basic_indices = basic_indices_1\n"
   ]
  },
  {
   "cell_type": "markdown",
   "id": "ad7849e4",
   "metadata": {},
   "source": [
    "Draw the polyhedron and the current solution."
   ]
  },
  {
   "cell_type": "code",
   "execution_count": null,
   "id": "bb3c099e",
   "metadata": {},
   "outputs": [],
   "source": [
    "draw_polyhedron_standard_form(\n",
    "    matrix_a=standard_a,\n",
    "    vector_b=standard_b,\n",
    "    points=[\n",
    "        LabeledPoint(coordinates=the_problem.basic_solution, label='It. 1', shift=0.1)\n",
    "    ],\n",
    ")\n"
   ]
  },
  {
   "cell_type": "markdown",
   "id": "07d5b106",
   "metadata": {},
   "source": [
    "Second iteration"
   ]
  },
  {
   "cell_type": "code",
   "execution_count": null,
   "id": "5605ee6a",
   "metadata": {},
   "outputs": [],
   "source": [
    "basic_indices_2, interruption = simplex_iteration(\n",
    "    optimization_problem=the_problem, basic_indices=basic_indices_1\n",
    ")\n",
    "if basic_indices_2 is None:\n",
    "    print(interruption)\n",
    "\n",
    "print(f'Basic variables: {basic_indices_2}')\n",
    "the_problem.basic_indices = basic_indices_2\n"
   ]
  },
  {
   "cell_type": "markdown",
   "id": "5b5afa9f",
   "metadata": {},
   "source": [
    "Draw the polyhedron and the current solution."
   ]
  },
  {
   "cell_type": "code",
   "execution_count": null,
   "id": "1f4e6097",
   "metadata": {},
   "outputs": [],
   "source": [
    "draw_polyhedron_standard_form(\n",
    "    matrix_a=standard_a,\n",
    "    vector_b=standard_b,\n",
    "    points=[\n",
    "        LabeledPoint(coordinates=the_problem.basic_solution, label='It. 2', shift=0.1)\n",
    "    ],\n",
    ")\n"
   ]
  },
  {
   "cell_type": "markdown",
   "id": "042eafaa",
   "metadata": {},
   "source": [
    "Third iteration"
   ]
  },
  {
   "cell_type": "code",
   "execution_count": null,
   "id": "7502d3b5",
   "metadata": {},
   "outputs": [],
   "source": [
    "basic_indices_3, interruption = simplex_iteration(\n",
    "    optimization_problem=the_problem, basic_indices=basic_indices_2\n",
    ")\n",
    "if basic_indices_3 is None:\n",
    "    print(interruption)\n"
   ]
  },
  {
   "cell_type": "markdown",
   "id": "2b9b2641",
   "metadata": {},
   "source": [
    "Draw the polyhedron and the current solution."
   ]
  },
  {
   "cell_type": "code",
   "execution_count": null,
   "id": "26aa8617",
   "metadata": {},
   "outputs": [],
   "source": [
    "draw_polyhedron_standard_form(\n",
    "    matrix_a=standard_a,\n",
    "    vector_b=standard_b,\n",
    "    objective_coefficients=standard_c,\n",
    "    level_lines=[-26.0 / 3.0, 0, 26.0 / 3.0],\n",
    "    points=[\n",
    "        LabeledPoint(coordinates=the_problem.basic_solution, label='Optimum', shift=0.1)\n",
    "    ],\n",
    ")"
   ]
  }
 ],
 "metadata": {},
 "nbformat": 4,
 "nbformat_minor": 5
}

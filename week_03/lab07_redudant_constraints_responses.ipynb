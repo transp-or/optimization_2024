{
 "cells": [
  {
   "cell_type": "markdown",
   "id": "178aef9b",
   "metadata": {},
   "source": [
    "# Redundant constraints\n",
    "\n",
    "## Introduction to optimization and operations research\n",
    "\n",
    "Michel Bierlaire\n"
   ]
  },
  {
   "cell_type": "code",
   "execution_count": null,
   "id": "a7ca313c",
   "metadata": {},
   "outputs": [],
   "source": [
    "\n",
    "import numpy as np\n",
    "\n"
   ]
  },
  {
   "cell_type": "markdown",
   "id": "76f8f70d",
   "metadata": {},
   "source": [
    "For each of the following systems, find out how many solutions they have.\n",
    "Check also if there are redundant equations that can be removed."
   ]
  },
  {
   "cell_type": "markdown",
   "id": "b502f397",
   "metadata": {},
   "source": [
    "We write a function that analyzes a system. Replace the ????"
   ]
  },
  {
   "cell_type": "code",
   "execution_count": null,
   "id": "db871f0d",
   "metadata": {},
   "outputs": [],
   "source": [
    "def system_analysis(A: np.array, b: np.array) -> None:\n",
    "    \"\"\"Analyze the linear system\"\"\"\n",
    "    print('Analysis of the linear system')\n",
    "    print(f'A =\\n{A},\\nb = {b}')\n",
    "    number_of_rows = A.shape[0]\n",
    "    print(f'Number of rows: {number_of_rows}')\n",
    "\n",
    "    if len(b) != number_of_rows:\n",
    "        error_msg = f'Inconsistent sizes: A has {number_of_rows} rows, and b has {len(b)} entries.'\n",
    "        raise ValueError(error_msg)\n",
    "\n",
    "    # We check if the system is compatible\n",
    "\n",
    "    # Compute the Moore-Penrose pseudo-inverse of A\n",
    "    A_pseudo_inv = np.linalg.pinv(A)\n",
    "\n",
    "    # We compute a tentative solution x\n",
    "    x = A_pseudo_inv @ b\n",
    "\n",
    "    # We check if this solution verifies the system\n",
    "    if not np.allclose(A @ x, b):\n",
    "        print('The system is incompatible')\n",
    "        return\n",
    "\n",
    "    print(f'Compatible system: x = {x}')\n",
    "\n",
    "    # Compute the rank of matrix A\n",
    "    rank_A = np.linalg.matrix_rank(A)\n",
    "    print(f'Rank of the matrix: {rank_A}')\n",
    "\n",
    "    if rank_A == number_of_rows:\n",
    "        print('The system has a unique solution.')\n",
    "    else:\n",
    "        number_of_redundant_constraints = (\n",
    "            number_of_rows - rank_A\n",
    "        )\n",
    "        print(\n",
    "            f'The system has infinitely many solutions. Redundant constraint(s): {number_of_redundant_constraints}'\n",
    "        )\n",
    "\n"
   ]
  },
  {
   "cell_type": "markdown",
   "id": "9d803b70",
   "metadata": {},
   "source": [
    "# Question 1\n",
    "\\begin{align*}\n",
    "x_1+2x_2+3x_3 & = 0,\\\\\n",
    "4x_1+5x_2+6x_3 & = 0,\\\\\n",
    "7x_1+8x_2& =0.\n",
    "\\end{align*}"
   ]
  },
  {
   "cell_type": "code",
   "execution_count": null,
   "id": "dd3624fd",
   "metadata": {},
   "outputs": [],
   "source": [
    "A = np.array([[1, 2, 3], [4, 5, 6], [7, 8, 0]])\n",
    "b = np.array([0, 0, 0])\n",
    "system_analysis(A, b)\n"
   ]
  },
  {
   "cell_type": "markdown",
   "id": "d1a5831e",
   "metadata": {},
   "source": [
    "# Question 2\n",
    "\\begin{align*}\n",
    "x_1+2x_2+3x_3 & = 0,\\\\\n",
    "4x_1+5x_2+6x_3 & = 0,\\\\\n",
    "7x_1+8x_2+9x_3 & =0.\n",
    "\\end{align*}"
   ]
  },
  {
   "cell_type": "code",
   "execution_count": null,
   "id": "8b6ff49b",
   "metadata": {},
   "outputs": [],
   "source": [
    "A = np.array([[1, 2, 3], [4, 5, 6], [7, 8, 9]])\n",
    "b = np.array([0, 0, 0])\n",
    "system_analysis(A, b)\n"
   ]
  },
  {
   "cell_type": "markdown",
   "id": "3b5f2a96",
   "metadata": {},
   "source": [
    "# Question 3\n",
    "\n",
    "\\begin{align*}\n",
    "x_1+2x_2+3x_3 & = 0,\\\\\n",
    "2x_1+4x_2+6x_3 & =0,\\\\\n",
    "5x_1+10x_2+15x_3 & =0.\n",
    "\\end{align*}"
   ]
  },
  {
   "cell_type": "code",
   "execution_count": null,
   "id": "40fd7787",
   "metadata": {},
   "outputs": [],
   "source": [
    "A = np.array([[1, 2, 3], [2, 4, 6], [5, 10, 15]])\n",
    "b = np.array([0, 0, 0])\n",
    "system_analysis(A, b)\n"
   ]
  },
  {
   "cell_type": "markdown",
   "id": "7d79fdc6",
   "metadata": {},
   "source": [
    "# Question 4\n",
    "\n",
    "\\begin{align*}\n",
    "x_1 + x_2 + x_3 &= 1,\\\\\n",
    "x_1 - x_2 + x_4 &= 1, \\\\\n",
    "x_1 -5x_2 -2x_3 +3x_4 &= 1.\n",
    "\\end{align*}"
   ]
  },
  {
   "cell_type": "code",
   "execution_count": null,
   "id": "d8ea7650",
   "metadata": {},
   "outputs": [],
   "source": [
    "A = np.array([[1, 1, 1, 0], [1, -1, 0, 1], [1, -5, -2, 3]])\n",
    "b = np.array([1, 1, 1])\n",
    "system_analysis(A, b)\n"
   ]
  },
  {
   "cell_type": "markdown",
   "id": "da301fa4",
   "metadata": {},
   "source": [
    "# Question 5\n",
    "\n",
    "\\begin{align*}\n",
    "x_1 + 2x_2 + 3 x_3 + 4x_4&=3,\\\\\n",
    "2 x_1 + 4 x_2 + 6 x_3 + 8 x_4&=4,\\\\\n",
    "-x_1 + 3x_3-2x_4&=5.\n",
    "\\end{align*}"
   ]
  },
  {
   "cell_type": "code",
   "execution_count": null,
   "id": "dd806487",
   "metadata": {},
   "outputs": [],
   "source": [
    "A = np.array([[1, 2, 3, 4], [2, 4, 6, 8], [-1, 0, 3, -2]])\n",
    "b = np.array([3, 4, 5])\n",
    "system_analysis(A, b)"
   ]
  }
 ],
 "metadata": {},
 "nbformat": 4,
 "nbformat_minor": 5
}

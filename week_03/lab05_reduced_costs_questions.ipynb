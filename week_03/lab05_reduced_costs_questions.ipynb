{
 "cells": [
  {
   "cell_type": "markdown",
   "id": "654af0f4",
   "metadata": {},
   "source": [
    "# Reduced costs\n",
    "\n",
    "## Introduction to optimization and operations research\n",
    "\n",
    "Michel Bierlaire\n"
   ]
  },
  {
   "cell_type": "code",
   "execution_count": null,
   "id": "bfc7f268",
   "metadata": {},
   "outputs": [],
   "source": [
    "\n",
    "import numpy as np\n",
    "from teaching_optimization.linear_constraints import StandardForm\n",
    "\n"
   ]
  },
  {
   "cell_type": "markdown",
   "id": "b047eb76",
   "metadata": {},
   "source": [
    "The objective of this exercise is to calculate the reduced costs of a linear optimization problem.\n",
    "\n",
    "Consider the optimization problem\n",
    "$$\n",
    "\\min x_0\n",
    "$$\n",
    "subject to\n",
    "\\begin{align*}\n",
    "x_0+x_1+x_2 & =1,\\\\\n",
    "-x_0+2x_1+x_3 &=2,\\\\\n",
    "x_0,x_1,x_2,x_3 & \\geq 0.\n",
    "\\end{align*}\n",
    "Consider the basis where the  variables\n",
    "$x_0$ and $x_1$ are in the basis, and calculate all reduced costs for\n",
    "that basis. Remember that the reduced cost associated with a non basic variable $x_p$ is defined as\n",
    "$$\n",
    "\\bar{c}_p = c_p - c_B^T B^{-1} A_p,\n",
    "$$\n",
    "where $c_B$ are the entries of the vector $c$ corresponding to the basic variables, and $A_p$ is the $p$th\n",
    "column of $A$."
   ]
  },
  {
   "cell_type": "markdown",
   "id": "5530eff8",
   "metadata": {},
   "source": [
    "Data of the problem"
   ]
  },
  {
   "cell_type": "code",
   "execution_count": null,
   "id": "2d8e895b",
   "metadata": {},
   "outputs": [],
   "source": [
    "standard_a = ????\n",
    "standard_b = ????\n",
    "objective = ????\n"
   ]
  },
  {
   "cell_type": "markdown",
   "id": "84571f63",
   "metadata": {},
   "source": [
    "We use the object dealing with the constraints in standard form."
   ]
  },
  {
   "cell_type": "code",
   "execution_count": null,
   "id": "29b2324b",
   "metadata": {},
   "outputs": [],
   "source": [
    "the_constraints = StandardForm(matrix=standard_a, vector=standard_b)\n",
    "help(the_constraints)\n",
    "\n"
   ]
  },
  {
   "cell_type": "markdown",
   "id": "3b80c6e4",
   "metadata": {},
   "source": [
    "Function calculating the reduced costs. Replace the ????."
   ]
  },
  {
   "cell_type": "code",
   "execution_count": null,
   "id": "7dd34c4f",
   "metadata": {},
   "outputs": [],
   "source": [
    "def reduced_cost(\n",
    "    constraints: StandardForm,\n",
    "    objective: np.ndarray,\n",
    "    basic_indices: list[int],\n",
    "    variable_index: int,\n",
    ") -> float:\n",
    "    \"\"\"Calculation of the reduced costs\n",
    "\n",
    "    :param constraints: object capturing the constraints\n",
    "    :param objective: vector of coefficients of the objective function.\n",
    "    :param basic_indices: list of indices of basic variables.\n",
    "    :param variable_index: index of the variable for which we calculate the reduced cost.\n",
    "    :return: value of the reduced cost.\n",
    "    \"\"\"\n",
    "    constraints.basic_indices = basic_indices\n",
    "\n",
    "    # The value of the reduced cost of basic variables is always the same.\n",
    "    if variable_index in basic_indices:\n",
    "        return ????\n",
    "\n",
    "    # Obtain the basic part of the basic direction.\n",
    "    direction = ????\n",
    "\n",
    "\n",
    "\n",
    "    # Extract the basic components of the cost vector.\n",
    "    basic_costs = ????\n",
    "\n",
    "    # Calculate the reduced costs\n",
    "    return ????\n",
    "\n",
    "\n",
    "\n"
   ]
  },
  {
   "cell_type": "markdown",
   "id": "b787af12",
   "metadata": {},
   "source": [
    "We apply it to solve the exercise above."
   ]
  },
  {
   "cell_type": "code",
   "execution_count": null,
   "id": "a10ac6f1",
   "metadata": {},
   "outputs": [],
   "source": [
    "\n",
    "basic_indices = [0, 1]\n"
   ]
  },
  {
   "cell_type": "markdown",
   "id": "515120c4",
   "metadata": {},
   "source": [
    "We calculate the reduced costs for each variable."
   ]
  },
  {
   "cell_type": "code",
   "execution_count": null,
   "id": "644f2a64",
   "metadata": {},
   "outputs": [],
   "source": [
    "reduced_costs = [\n",
    "    reduced_cost(\n",
    "        constraints=the_constraints,\n",
    "        objective=the_objective,\n",
    "        basic_indices=basic_indices,\n",
    "        variable_index=index,\n",
    "    )\n",
    "    for index in range(the_constraints.n_variables)\n",
    "]\n"
   ]
  },
  {
   "cell_type": "markdown",
   "id": "5ad98902",
   "metadata": {},
   "source": [
    "Variable 0. Expected result: 0"
   ]
  },
  {
   "cell_type": "code",
   "execution_count": null,
   "id": "ed586189",
   "metadata": {},
   "outputs": [],
   "source": [
    "print(reduced_costs[0])\n"
   ]
  },
  {
   "cell_type": "markdown",
   "id": "07925cd3",
   "metadata": {},
   "source": [
    "Variable 1. Expected result: 0"
   ]
  },
  {
   "cell_type": "code",
   "execution_count": null,
   "id": "2f78f5f8",
   "metadata": {},
   "outputs": [],
   "source": [
    "print(reduced_costs[1])\n"
   ]
  },
  {
   "cell_type": "markdown",
   "id": "e9b8b4d5",
   "metadata": {},
   "source": [
    "Variable 2. Expected result: -2/3"
   ]
  },
  {
   "cell_type": "code",
   "execution_count": null,
   "id": "2a258928",
   "metadata": {},
   "outputs": [],
   "source": [
    "print(reduced_costs[2])\n"
   ]
  },
  {
   "cell_type": "markdown",
   "id": "9df8fd5e",
   "metadata": {},
   "source": [
    "Variable 3. Expected result: 1/3"
   ]
  },
  {
   "cell_type": "code",
   "execution_count": null,
   "id": "cd57f37a",
   "metadata": {},
   "outputs": [],
   "source": [
    "print(reduced_costs[3])\n",
    "\n",
    "\n",
    "\n",
    "the_optimization_problem = LinearOptimization(\n",
    "    objective=the_objective, constraint_matrix=standard_a, right_hand_side=standard_b\n",
    ")\n",
    "\n",
    "the_optimization_problem.basic_indices = [0, 1]\n",
    "reduced_costs = [\n",
    "    the_optimization_problem.reduced_cost(variable_index=index)\n",
    "    for index in range(the_optimization_problem.n_variables)\n",
    "]\n",
    "print(reduced_costs)"
   ]
  }
 ],
 "metadata": {},
 "nbformat": 4,
 "nbformat_minor": 5
}

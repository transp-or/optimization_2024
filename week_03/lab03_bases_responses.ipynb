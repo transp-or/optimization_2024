{
 "cells": [
  {
   "cell_type": "markdown",
   "id": "8056f3f4",
   "metadata": {},
   "source": [
    "# Basic solutions\n",
    "\n",
    "## Introduction to optimization and operations research\n",
    "\n",
    "Michel Bierlaire\n"
   ]
  },
  {
   "cell_type": "code",
   "execution_count": null,
   "id": "2273f5b8",
   "metadata": {},
   "outputs": [],
   "source": [
    "\n",
    "from itertools import combinations\n",
    "from typing import Iterable\n",
    "\n",
    "import numpy as np\n",
    "from teaching_optimization.linear_constraints import (\n",
    "    draw_polyhedron_standard_form,\n",
    "    LabeledPoint,\n",
    "    BoundingBox,\n",
    "    StandardForm,\n",
    ")\n"
   ]
  },
  {
   "cell_type": "markdown",
   "id": "ec7a4dd2",
   "metadata": {},
   "source": [
    "The objective of this exercise is to associate the choice of basic and non basic variables with a vertex of\n",
    "the polyhedron. We will proceed step by step.\n",
    "\n",
    "We will implement the following functions:\n",
    "\n",
    "- a function that extracts and returns a basic matrix from the given constraint matrix,\n",
    "- a function that calculates the basic variables by solving the system $B x_B = b$,\n",
    "- a function that checks if the basic variables $x_B$ are feasible,\n",
    "- a function that builds the vector in the full space,\n",
    "- a function that calls all the previous ones to obtain a basic solution,\n",
    "- a function that checks if the basic solution is degenerate.\n",
    "\n",
    "We will apply it to identify the vertices of the following polyhedrons.\n",
    "\n",
    "## Polyhedron 1\n",
    "$$P = \\left\\{\n",
    "\\begin{pmatrix}\n",
    "x_1\\\\\n",
    "x_2\n",
    "\\end{pmatrix} \\in \\mathbb{R}^2\n",
    "| x_1+x_2  \\geq 1,\n",
    "x_1+x_2  \\leq 2,\n",
    "x_1  \\geq 0,\n",
    "x_2  \\geq 0. \\right\\}.$$"
   ]
  },
  {
   "cell_type": "markdown",
   "id": "09428e91",
   "metadata": {},
   "source": [
    "## Polyhedron 2\n",
    "$$P = \\left\\{\n",
    "\\begin{pmatrix}\n",
    "x_1\\\\\n",
    "x_2\n",
    "\\end{pmatrix}\\in \\mathbb{R}^2\n",
    "| x_1 + x_2 \\leq 1, 3 x_1 + 10 x_2 \\leq 15, x_1 \\geq 0, x_2 \\geq 0 \\right\\}.$$"
   ]
  },
  {
   "cell_type": "markdown",
   "id": "d25d4b06",
   "metadata": {},
   "source": [
    "## Polyhedron 3\n",
    "$$ P = \\left\\{\n",
    "\\begin{pmatrix}\n",
    "x_1\\\\\n",
    "x_2\n",
    "\\end{pmatrix} \\in \\mathbb{R}^2\n",
    "| x_1+x_2 \\leq 1,\n",
    "-x_1+2x_2 \\leq 2, x_1 \\geq 0, x_2 \\geq 0 \\right\\}.$$"
   ]
  },
  {
   "cell_type": "markdown",
   "id": "f15eadb7",
   "metadata": {},
   "source": [
    "Prepare first polyhedron 1 so that we can use it for testing each function. It must first be written in standard form."
   ]
  },
  {
   "cell_type": "markdown",
   "id": "81164532",
   "metadata": {},
   "source": [
    "The polyhedron can be written in standard form by introducing non\n",
    "negative slack variables, and rewriting the constraints in the form of equality constraints:\n",
    "\n",
    "\\begin{align*}\n",
    "-x_1-x_2+x_3 & =-1,\\\\\n",
    "x_1+x_2+x_4 &=2,\\\\\n",
    "x_1,x_2,x_3,x_4 & \\geq 0.\n",
    "\\end{align*}\n",
    "\n",
    "The equality constraints in matrix form are\n",
    "$$\n",
    "Ax= b,\n",
    "\\text{ where }\n",
    "A \\in \\mathbb{R}^{2\\times 4},\\; b \\in \\mathbb{R}^2,\\; x \\in \\mathbb{R}^4,\n",
    "$$\n",
    "$$\n",
    "A =\n",
    "\\begin{pmatrix*}[r]\n",
    "-1&-1&1&0\\\\\n",
    "1&1&0&1\n",
    "\\end{pmatrix*},\\;\n",
    "b =\n",
    "\\begin{pmatrix*}[r]\n",
    "-1\\\\\n",
    "2\n",
    "\\end{pmatrix*}.\n",
    "$$"
   ]
  },
  {
   "cell_type": "markdown",
   "id": "abaca9ce",
   "metadata": {},
   "source": [
    "Provide the values of the matrix of the problem in standard form."
   ]
  },
  {
   "cell_type": "code",
   "execution_count": null,
   "id": "9a3714a2",
   "metadata": {},
   "outputs": [],
   "source": [
    "standard_a = np.array([[-1, -1, 1, 0], [1, 1, 0, 1]])\n",
    "print(standard_a)\n"
   ]
  },
  {
   "cell_type": "code",
   "execution_count": null,
   "id": "4d03ab56",
   "metadata": {},
   "outputs": [],
   "source": [
    "n_constraints, n_variables = standard_a.shape\n",
    "print(f'{n_variables} variables, {n_constraints} constraints.')\n"
   ]
  },
  {
   "cell_type": "markdown",
   "id": "bb0a9799",
   "metadata": {},
   "source": [
    "Provide the values of the right-hand side of the problem in standard form."
   ]
  },
  {
   "cell_type": "code",
   "execution_count": null,
   "id": "5cc94b53",
   "metadata": {},
   "outputs": [],
   "source": [
    "standard_b = np.array([-1, 2])\n",
    "print(standard_b)\n"
   ]
  },
  {
   "cell_type": "markdown",
   "id": "4b9043ef",
   "metadata": {},
   "source": [
    "Draw the polyhedron."
   ]
  },
  {
   "cell_type": "code",
   "execution_count": null,
   "id": "1f07463a",
   "metadata": {},
   "outputs": [],
   "source": [
    "draw_polyhedron_standard_form(matrix_a=standard_a, vector_b=standard_b)\n",
    "\n"
   ]
  },
  {
   "cell_type": "markdown",
   "id": "55121237",
   "metadata": {},
   "source": [
    "## Function that extracts and returns a basic matrix from the given constraint matrix\n",
    "Complete it by replacing the ????."
   ]
  },
  {
   "cell_type": "code",
   "execution_count": null,
   "id": "2ba655e3",
   "metadata": {},
   "outputs": [],
   "source": [
    "def extract_basic_matrix(\n",
    "    constraint_matrix: np.ndarray, basic_indices: list[int]\n",
    ") -> np.ndarray:\n",
    "    \"\"\"\n",
    "    Extracts and returns a basic matrix from the given constraint matrix\n",
    "    using the specified basic indices.\n",
    "\n",
    "    :param constraint_matrix: A numpy ndarray representing the constraint matrix.\n",
    "    :param basic_indices: A list of integers representing the column indices to form the basis.\n",
    "    :return: A numpy ndarray representing the basic matrix.\n",
    "    \"\"\"\n",
    "    n_rows, n_columns = constraint_matrix.shape\n",
    "    # Verify that the number of indices matches the number of rows in the matrix.\n",
    "    if len(basic_indices) != n_rows:\n",
    "        raise ValueError(\n",
    "            f'The number of basic indices [{len(basic_indices)}] must match the number of '\n",
    "            f'rows in the matrix [{n_rows}].'\n",
    "        )\n",
    "\n",
    "    # Verify each index is a valid column index of the matrix.\n",
    "    max_index = n_columns - 1\n",
    "    if not all(0 <= index <= max_index for index in basic_indices):\n",
    "        raise ValueError(\n",
    "            'One or more indices are out of the valid column index range of the matrix.'\n",
    "        )\n",
    "\n",
    "    # Extract the columns corresponding to the indices, in the provided order.\n",
    "    basis = constraint_matrix[:, basic_indices]\n",
    "\n",
    "    # Return the resulting square matrix.\n",
    "    return basis\n",
    "\n"
   ]
  },
  {
   "cell_type": "markdown",
   "id": "1ce84ede",
   "metadata": {},
   "source": [
    "Test the function on the example. Remember that, in Python, the numbering starts at 0."
   ]
  },
  {
   "cell_type": "code",
   "execution_count": null,
   "id": "193f97e9",
   "metadata": {},
   "outputs": [],
   "source": [
    "print(standard_a)\n",
    "\n",
    "basic_indices_1 = [0, 1]"
   ]
  },
  {
   "cell_type": "markdown",
   "id": "de0d1d97",
   "metadata": {},
   "source": [
    "Expected result: $$\\begin{pmatrix} -1 & -1 \\\\ 1 & 1 \\end{pmatrix}.$$"
   ]
  },
  {
   "cell_type": "code",
   "execution_count": null,
   "id": "af24d529",
   "metadata": {},
   "outputs": [],
   "source": [
    "\n",
    "basic_matrix_1 = extract_basic_matrix(\n",
    "    constraint_matrix=standard_a, basic_indices=basic_indices_1\n",
    ")\n",
    "print(basic_matrix_1)\n"
   ]
  },
  {
   "cell_type": "markdown",
   "id": "5195b0ce",
   "metadata": {},
   "source": [
    "Test the function with a different set of indices. Note the order..."
   ]
  },
  {
   "cell_type": "code",
   "execution_count": null,
   "id": "01819855",
   "metadata": {},
   "outputs": [],
   "source": [
    "basic_indices_2 = [3, 2]"
   ]
  },
  {
   "cell_type": "markdown",
   "id": "296181f6",
   "metadata": {},
   "source": [
    "Expected result: $$\\begin{pmatrix} 0 & 1 \\\\ 1 & 0 \\end{pmatrix}.$$"
   ]
  },
  {
   "cell_type": "code",
   "execution_count": null,
   "id": "6837e5a2",
   "metadata": {},
   "outputs": [],
   "source": [
    "\n",
    "basic_matrix_2 = extract_basic_matrix(\n",
    "    constraint_matrix=standard_a, basic_indices=basic_indices_2\n",
    ")\n",
    "print(basic_matrix_2)\n",
    "\n"
   ]
  },
  {
   "cell_type": "markdown",
   "id": "d6378774",
   "metadata": {},
   "source": [
    "## Function that calculates the basic variables by solving the system $B x_B = b$.\n",
    "Complete it by replacing the ????."
   ]
  },
  {
   "cell_type": "code",
   "execution_count": null,
   "id": "62ad89fe",
   "metadata": {},
   "outputs": [],
   "source": [
    "def calculate_basic_variables(\n",
    "    basic_matrix: np.ndarray, right_hand_side: np.ndarray\n",
    ") -> np.ndarray | None:\n",
    "    \"\"\"\n",
    "    Solves the system $B x_B = b$.\n",
    "\n",
    "    :param basic_matrix: matrix $B$.\n",
    "    :param right_hand_side: vector $b$.\n",
    "    :return: if the system has a solution, returns $x_B$. If not, returns None.\n",
    "    \"\"\"\n",
    "    # Check if the basic matrix is square\n",
    "    n_rows, n_columns = basic_matrix.shape\n",
    "    if n_rows != n_columns:\n",
    "        raise ValueError(\n",
    "            f'The basic matrix must be square, and not {n_rows} x {n_columns}.'\n",
    "        )\n",
    "\n",
    "    # Check if the length of the right-hand side matches the dimensions of the matrix\n",
    "    if n_rows != len(right_hand_side):\n",
    "        raise ValueError(\n",
    "            f'The length of the right-hand side [{len(right_hand_side)}] must match '\n",
    "            f'the dimensions of the matrix [{n_rows}].'\n",
    "        )\n",
    "\n",
    "    # Solve the system B x_B = b, if possible, using `np.linalg.solve`.\n",
    "\n",
    "    try:\n",
    "        basic_variables = np.linalg.solve(basic_matrix, right_hand_side)\n",
    "        return basic_variables\n",
    "    except np.linalg.LinAlgError:\n",
    "        # The system does not have a solution, as the matrix is not invertible.\n",
    "        return None\n",
    "\n"
   ]
  },
  {
   "cell_type": "markdown",
   "id": "7e988229",
   "metadata": {},
   "source": [
    "Test the function. Expected result: None."
   ]
  },
  {
   "cell_type": "code",
   "execution_count": null,
   "id": "fb7a16f5",
   "metadata": {},
   "outputs": [],
   "source": [
    "basic_variables_1 = calculate_basic_variables(\n",
    "    basic_matrix=basic_matrix_1, right_hand_side=standard_b\n",
    ")\n",
    "print(basic_variables_1)\n"
   ]
  },
  {
   "cell_type": "markdown",
   "id": "2d314128",
   "metadata": {},
   "source": [
    "The system indeed has no solution:"
   ]
  },
  {
   "cell_type": "code",
   "execution_count": null,
   "id": "b4ddd092",
   "metadata": {},
   "outputs": [],
   "source": [
    "try:\n",
    "    basic_variables_1 = np.linalg.solve(basic_matrix_1, standard_b)\n",
    "except np.linalg.LinAlgError as error:\n",
    "    print(error)"
   ]
  },
  {
   "cell_type": "code",
   "execution_count": null,
   "id": "13ab0811",
   "metadata": {},
   "outputs": [],
   "source": [
    "print(basic_matrix_1)\n"
   ]
  },
  {
   "cell_type": "markdown",
   "id": "297add22",
   "metadata": {},
   "source": [
    "Test again the function. Expected result: $$\\left(\\begin{array}{c}2 \\\\ -1 \\end{array}\\right).$$"
   ]
  },
  {
   "cell_type": "code",
   "execution_count": null,
   "id": "5ebea4c5",
   "metadata": {},
   "outputs": [],
   "source": [
    "basic_variables_2 = calculate_basic_variables(\n",
    "    basic_matrix=basic_matrix_2, right_hand_side=standard_b\n",
    ")\n",
    "print(basic_variables_2)\n",
    "\n"
   ]
  },
  {
   "cell_type": "markdown",
   "id": "3490c6b4",
   "metadata": {},
   "source": [
    "## Function that checks if the basic variables $x_B$ are feasible.\n",
    "Complete it by replacing the ????."
   ]
  },
  {
   "cell_type": "code",
   "execution_count": null,
   "id": "78cb40e2",
   "metadata": {},
   "outputs": [],
   "source": [
    "def check_feasibility(basic_variables: np.ndarray) -> bool:\n",
    "    \"\"\"\n",
    "    Check if the basic variables $x_B$ are feasible.\n",
    "\n",
    "    :param basic_variables: basic variables $x_B$.\n",
    "    :return: True if feasible. False otherwise,\n",
    "    \"\"\"\n",
    "    is_feasible: bool = np.all(basic_variables >= 0)\n",
    "    return is_feasible\n",
    "\n"
   ]
  },
  {
   "cell_type": "markdown",
   "id": "90771b6e",
   "metadata": {},
   "source": [
    "Test the function. Expected result: False"
   ]
  },
  {
   "cell_type": "code",
   "execution_count": null,
   "id": "9442ab72",
   "metadata": {},
   "outputs": [],
   "source": [
    "is_basis_2_feasible = check_feasibility(basic_variables=basic_variables_2)\n",
    "print(is_basis_2_feasible)\n",
    "\n"
   ]
  },
  {
   "cell_type": "markdown",
   "id": "66b44414",
   "metadata": {},
   "source": [
    "## Function that checks if the basic variables $x_B$ are degenerate.\n",
    "Complete it by replacing the ????."
   ]
  },
  {
   "cell_type": "code",
   "execution_count": null,
   "id": "10c7c793",
   "metadata": {},
   "outputs": [],
   "source": [
    "def check_degeneracy(basic_variables: np.ndarray) -> bool:\n",
    "    \"\"\"\n",
    "    Check if the basic variables $x_B$ are degenerate.\n",
    "\n",
    "    :param basic_variables: basic variables $x_B$.\n",
    "    :return: True if degenerate. False otherwise,\n",
    "    \"\"\"\n",
    "    is_degenerate: bool = np.any(\n",
    "        basic_variables == 0\n",
    "    )\n",
    "    return is_degenerate\n",
    "\n"
   ]
  },
  {
   "cell_type": "markdown",
   "id": "6a4fa558",
   "metadata": {},
   "source": [
    "Test the function. Expected result: False"
   ]
  },
  {
   "cell_type": "code",
   "execution_count": null,
   "id": "3ad1abc7",
   "metadata": {},
   "outputs": [],
   "source": [
    "is_basis_2_degenerate = check_degeneracy(basic_variables=basic_variables_2)\n",
    "print(is_basis_2_degenerate)\n",
    "\n"
   ]
  },
  {
   "cell_type": "markdown",
   "id": "565d0948",
   "metadata": {},
   "source": [
    "## Function that builds the vector in the full space.\n",
    "In a space of dimension $n$, we have a vector $x_B$ of basic variables of dimension $m \\leq n$, identified\n",
    "by their indices. This function builds the vector in dimension $n$ where all non basic variables are zero.\n",
    "Complete it by replacing the ????."
   ]
  },
  {
   "cell_type": "code",
   "execution_count": null,
   "id": "e9ff6d22",
   "metadata": {},
   "outputs": [],
   "source": [
    "def build_solution(\n",
    "    number_of_variables: int, basic_variables: np.ndarray, basic_indices: Iterable[int]\n",
    ") -> np.ndarray:\n",
    "    \"\"\"\n",
    "    Builds the vector in dimension n where all non basic variables are zero.\n",
    "\n",
    "    :param number_of_variables: dimension n.\n",
    "    :param basic_variables: vector of basic variables.\n",
    "    :param basic_indices: indices of basic variables in the space of dimension n.\n",
    "    :return: complete solution.\n",
    "    \"\"\"\n",
    "    # Check that the number of basic variables is less or equal to n\n",
    "    basic_indices = list(basic_indices)\n",
    "    if len(basic_variables) > number_of_variables:\n",
    "        raise ValueError(\n",
    "            f'The number of basic variables [{len(basic_variables)}] must be less than or equal '\n",
    "            f'to the dimension [{number_of_variables}].'\n",
    "        )\n",
    "\n",
    "    # Check that the two vectors have the same dimension\n",
    "    if len(basic_variables) != len(basic_indices):\n",
    "        raise ValueError(\n",
    "            f'The dimensions of the basic variables [{len(basic_variables)}] and their '\n",
    "            f'indices [{len(basic_indices)}] must match.'\n",
    "        )\n",
    "\n",
    "    # Check that all indices are valid\n",
    "    if not all(0 <= index < number_of_variables for index in basic_indices):\n",
    "        raise ValueError('All indices must be valid, that is between 0 and n-1.')\n",
    "\n",
    "    # Initialize the complete solution vector with zeros\n",
    "    complete_solution = np.zeros(number_of_variables)\n",
    "\n",
    "    # Assign the values of basic variables to their corresponding positions\n",
    "    complete_solution[basic_indices] = basic_variables\n",
    "\n",
    "    return complete_solution\n",
    "\n"
   ]
  },
  {
   "cell_type": "markdown",
   "id": "a61c269c",
   "metadata": {},
   "source": [
    "Test the function. Expected result: $$\\left(\\begin{array}{c}0 \\\\ 0  \\\\ -1 \\\\ 2 \\end{array}\\right).$$"
   ]
  },
  {
   "cell_type": "code",
   "execution_count": null,
   "id": "aefd233a",
   "metadata": {},
   "outputs": [],
   "source": [
    "\n",
    "solution_2 = build_solution(\n",
    "    number_of_variables=n_variables,\n",
    "    basic_variables=basic_variables_2,\n",
    "    basic_indices=basic_indices_2,\n",
    ")\n",
    "print(solution_2)\n",
    "\n"
   ]
  },
  {
   "cell_type": "markdown",
   "id": "603fc238",
   "metadata": {},
   "source": [
    "## Function that calls all the previous ones to obtain a basic solution.\n",
    "Nothing to be completed."
   ]
  },
  {
   "cell_type": "code",
   "execution_count": null,
   "id": "75077f63",
   "metadata": {},
   "outputs": [],
   "source": [
    "def calculate_basic_solution(\n",
    "    constraint_matrix: np.ndarray, right_hand_side: np.ndarray, basic_indices: list[int]\n",
    ") -> tuple[np.ndarray | None, bool, bool]:\n",
    "    \"\"\"\n",
    "    Consider a polyhedron in standard form characterized by the $m \\times n$ matrix $A$ and the vector $b$.\n",
    "    Given the list of indices of basic variables, calculate the basic solution in standard form, and check feasibility.\n",
    "\n",
    "    :param constraint_matrix: matrix $A$.\n",
    "    :param right_hand_side: vector $b$.\n",
    "    :param basic_indices: list of indices of basic variables.\n",
    "    :return: the basic vector (or None if it does not exist),  its feasibility status, and its degeneracy status.\n",
    "    \"\"\"\n",
    "    n_rows, n_columns = constraint_matrix.shape\n",
    "\n",
    "    # Check the matrix is m x n such that n >= m\n",
    "    if n_columns < n_rows:\n",
    "        raise ValueError(\n",
    "            f'Validation failed: The number of columns [{n_columns}] must be greater than or '\n",
    "            f'equal to the number of rows [{n_rows}].'\n",
    "        )\n",
    "\n",
    "    # Check the vector has m elements\n",
    "    if len(right_hand_side) != n_rows:\n",
    "        raise ValueError(\n",
    "            f'The rhs must have the same number of elements as there are rows in the '\n",
    "            f'matrix [{len(right_hand_side)} != {n_rows}].'\n",
    "        )\n",
    "\n",
    "    # Check the list of indices\n",
    "    if len(basic_indices) != n_rows:\n",
    "        raise ValueError(\n",
    "            f'The list of indices must be of the same length as there are rows in the '\n",
    "            f'matrix [{len(basic_indices)} != {n_rows}].'\n",
    "        )\n",
    "\n",
    "    # Check all indices are between 0 and n-1\n",
    "    if not all(0 <= index < n_columns for index in basic_indices):\n",
    "        raise ValueError(\n",
    "            f'Validation failed: All indices must be between 0 and {n_columns-1}.'\n",
    "        )\n",
    "\n",
    "    # Extract the basic matrix\n",
    "    the_basic_matrix: np.ndarray = extract_basic_matrix(\n",
    "        constraint_matrix=constraint_matrix, basic_indices=basic_indices\n",
    "    )\n",
    "\n",
    "    # Calculate the basic variables\n",
    "    the_basic_variables: np.ndarray | None = calculate_basic_variables(\n",
    "        basic_matrix=the_basic_matrix, right_hand_side=right_hand_side\n",
    "    )\n",
    "\n",
    "    # Check if the basic solution exists.\n",
    "    if the_basic_variables is None:\n",
    "        # The is no basic solution.\n",
    "        return None, False, False\n",
    "\n",
    "    feasibility: bool = check_feasibility(basic_variables=the_basic_variables)\n",
    "    degeneracy: bool = check_degeneracy(basic_variables=the_basic_variables)\n",
    "\n",
    "    the_basic_solution: np.ndarray = build_solution(\n",
    "        number_of_variables=n_columns,\n",
    "        basic_variables=the_basic_variables,\n",
    "        basic_indices=basic_indices,\n",
    "    )\n",
    "\n",
    "    return the_basic_solution, feasibility, degeneracy\n",
    "\n"
   ]
  },
  {
   "cell_type": "markdown",
   "id": "22d58536",
   "metadata": {},
   "source": [
    "We test the function on all possible bases."
   ]
  },
  {
   "cell_type": "markdown",
   "id": "40cb56d0",
   "metadata": {},
   "source": [
    "We need to consider all combinations of basic variables."
   ]
  },
  {
   "cell_type": "code",
   "execution_count": null,
   "id": "00aa1d04",
   "metadata": {},
   "outputs": [],
   "source": [
    "all_bases: list[int] = list(combinations(range(n_variables), n_constraints))\n",
    "print(f'There are {len(all_bases)} potential bases.')\n",
    "\n"
   ]
  },
  {
   "cell_type": "markdown",
   "id": "d9e00939",
   "metadata": {},
   "source": [
    "To avoid repeating the code, we define a function that performs the analysis and the reporting for a given\n",
    "list of indices."
   ]
  },
  {
   "cell_type": "code",
   "execution_count": null,
   "id": "ae791b14",
   "metadata": {},
   "outputs": [],
   "source": [
    "def print_info(basic_indices: Iterable[int] | int) -> np.ndarray:\n",
    "    \"\"\"Print the information related to the list of indices.\n",
    "\n",
    "    :param basic_indices: list of basic indices.\n",
    "    :return: the basic solution\n",
    "    \"\"\"\n",
    "    basic_solution, feasible, degenerate = calculate_basic_solution(\n",
    "        constraint_matrix=standard_a,\n",
    "        right_hand_side=standard_b,\n",
    "        basic_indices=list(basic_indices),\n",
    "    )\n",
    "    print(f' *** Basic indices: {basic_indices}')\n",
    "    if basic_solution is None:\n",
    "        print('No basic solution')\n",
    "    else:\n",
    "        feasible_text = '[feasible]' if feasible else '[non feasible]'\n",
    "        degenerate_text = '[degenerate]' if degenerate else '[not degenerate]'\n",
    "        print(f'Basic solution: {basic_solution} {feasible_text} {degenerate_text}')\n",
    "    return basic_solution\n",
    "\n"
   ]
  },
  {
   "cell_type": "markdown",
   "id": "81957a60",
   "metadata": {},
   "source": [
    "## For each potential base below, verify that the outcome of the function is correct."
   ]
  },
  {
   "cell_type": "markdown",
   "id": "8d220dc7",
   "metadata": {},
   "source": [
    "### Potential base number 0"
   ]
  },
  {
   "cell_type": "code",
   "execution_count": null,
   "id": "7ddcdc5a",
   "metadata": {},
   "outputs": [],
   "source": [
    "basic_indices_0 = all_bases[0]\n",
    "basic_solution_0 = print_info(basic_indices_0)\n"
   ]
  },
  {
   "cell_type": "markdown",
   "id": "f9d59e3a",
   "metadata": {},
   "source": [
    "Plot the vertex"
   ]
  },
  {
   "cell_type": "code",
   "execution_count": null,
   "id": "1658e801",
   "metadata": {},
   "outputs": [],
   "source": [
    "if basic_solution_0 is not None:\n",
    "    draw_polyhedron_standard_form(\n",
    "        matrix_a=standard_a,\n",
    "        vector_b=standard_b,\n",
    "        points=[LabeledPoint(coordinates=basic_solution_0)],\n",
    "    )\n"
   ]
  },
  {
   "cell_type": "markdown",
   "id": "46aaa809",
   "metadata": {},
   "source": [
    "### Potential base number 1"
   ]
  },
  {
   "cell_type": "code",
   "execution_count": null,
   "id": "9f89f60c",
   "metadata": {},
   "outputs": [],
   "source": [
    "basic_indices_1 = all_bases[1]\n",
    "basic_solution_1 = print_info(basic_indices_1)\n"
   ]
  },
  {
   "cell_type": "markdown",
   "id": "d9f2e150",
   "metadata": {},
   "source": [
    "Plot the vertex"
   ]
  },
  {
   "cell_type": "code",
   "execution_count": null,
   "id": "b8f64144",
   "metadata": {},
   "outputs": [],
   "source": [
    "if basic_solution_1 is not None:\n",
    "    draw_polyhedron_standard_form(\n",
    "        matrix_a=standard_a,\n",
    "        vector_b=standard_b,\n",
    "        points=[LabeledPoint(coordinates=basic_solution_1)],\n",
    "    )\n"
   ]
  },
  {
   "cell_type": "markdown",
   "id": "b6c74bd9",
   "metadata": {},
   "source": [
    "### Potential base number 2"
   ]
  },
  {
   "cell_type": "code",
   "execution_count": null,
   "id": "9753d926",
   "metadata": {},
   "outputs": [],
   "source": [
    "basic_indices_2 = all_bases[2]\n",
    "basic_solution_2 = print_info(basic_indices_2)\n"
   ]
  },
  {
   "cell_type": "markdown",
   "id": "2189ece8",
   "metadata": {},
   "source": [
    "Plot the vertex"
   ]
  },
  {
   "cell_type": "code",
   "execution_count": null,
   "id": "b37f66aa",
   "metadata": {},
   "outputs": [],
   "source": [
    "if basic_solution_2 is not None:\n",
    "    draw_polyhedron_standard_form(\n",
    "        matrix_a=standard_a,\n",
    "        vector_b=standard_b,\n",
    "        points=[LabeledPoint(coordinates=basic_solution_2)],\n",
    "    )"
   ]
  },
  {
   "cell_type": "markdown",
   "id": "1a6db278",
   "metadata": {},
   "source": [
    "### Potential base number 3"
   ]
  },
  {
   "cell_type": "code",
   "execution_count": null,
   "id": "20e65ce3",
   "metadata": {},
   "outputs": [],
   "source": [
    "basic_indices_3 = all_bases[3]\n",
    "basic_solution_3 = print_info(basic_indices_3)\n"
   ]
  },
  {
   "cell_type": "markdown",
   "id": "fc88f2b0",
   "metadata": {},
   "source": [
    "Plot the vertex"
   ]
  },
  {
   "cell_type": "code",
   "execution_count": null,
   "id": "80a6670e",
   "metadata": {},
   "outputs": [],
   "source": [
    "if basic_solution_3 is not None:\n",
    "    draw_polyhedron_standard_form(\n",
    "        matrix_a=standard_a,\n",
    "        vector_b=standard_b,\n",
    "        points=[LabeledPoint(coordinates=basic_solution_3)],\n",
    "    )"
   ]
  },
  {
   "cell_type": "markdown",
   "id": "207b054b",
   "metadata": {},
   "source": [
    "### Potential base number 4"
   ]
  },
  {
   "cell_type": "code",
   "execution_count": null,
   "id": "e8c9f13c",
   "metadata": {},
   "outputs": [],
   "source": [
    "basic_indices_4 = all_bases[4]\n",
    "basic_solution_4 = print_info(basic_indices_4)\n"
   ]
  },
  {
   "cell_type": "markdown",
   "id": "e2e4d9c0",
   "metadata": {},
   "source": [
    "Plot the vertex"
   ]
  },
  {
   "cell_type": "code",
   "execution_count": null,
   "id": "6be92165",
   "metadata": {},
   "outputs": [],
   "source": [
    "if basic_solution_4 is not None:\n",
    "    draw_polyhedron_standard_form(\n",
    "        matrix_a=standard_a,\n",
    "        vector_b=standard_b,\n",
    "        points=[LabeledPoint(coordinates=basic_solution_4)],\n",
    "    )"
   ]
  },
  {
   "cell_type": "markdown",
   "id": "02496785",
   "metadata": {},
   "source": [
    "### Potential base number 5"
   ]
  },
  {
   "cell_type": "code",
   "execution_count": null,
   "id": "07982294",
   "metadata": {},
   "outputs": [],
   "source": [
    "basic_indices_5 = all_bases[5]\n",
    "basic_solution_5 = print_info(basic_indices_5)\n"
   ]
  },
  {
   "cell_type": "markdown",
   "id": "99d01e9a",
   "metadata": {},
   "source": [
    "Plot the vertex"
   ]
  },
  {
   "cell_type": "code",
   "execution_count": null,
   "id": "26cd82e6",
   "metadata": {},
   "outputs": [],
   "source": [
    "if basic_solution_5 is not None:\n",
    "    draw_polyhedron_standard_form(\n",
    "        matrix_a=standard_a,\n",
    "        vector_b=standard_b,\n",
    "        points=[LabeledPoint(coordinates=basic_solution_5)],\n",
    "    )\n"
   ]
  },
  {
   "cell_type": "markdown",
   "id": "c68d8dfd",
   "metadata": {},
   "source": [
    "Among the 6 potential bases, only 5 exist: 4 feasible ane 1unfeasible. The 4 feasible basic solutions\n",
    "correspond to the 4 vertices of the polyhedron."
   ]
  },
  {
   "cell_type": "markdown",
   "id": "638a0f6f",
   "metadata": {},
   "source": [
    "## Polyhedron 2\n",
    "$$P = \\left\\{\n",
    "\\begin{pmatrix}\n",
    "x_1\\\\\n",
    "x_2\n",
    "\\end{pmatrix}\\in \\mathbb{R}^2\n",
    "| x_1 + x_2 \\leq 1, 3 x_1 + 10 x_2 \\leq 15, x_1 \\geq 0, x_2 \\geq 0 \\right\\}.$$"
   ]
  },
  {
   "cell_type": "markdown",
   "id": "79c81a5c",
   "metadata": {},
   "source": [
    "Data in standard form."
   ]
  },
  {
   "cell_type": "code",
   "execution_count": null,
   "id": "07a3e383",
   "metadata": {},
   "outputs": [],
   "source": [
    "standard_a = np.array([[1, 1, 1, 0], [3, 10, 0, 1]])\n",
    "standard_b = np.array([1, 15])\n"
   ]
  },
  {
   "cell_type": "code",
   "execution_count": null,
   "id": "47501419",
   "metadata": {},
   "outputs": [],
   "source": [
    "n_constraints, n_variables = standard_a.shape\n",
    "print(f'{n_variables} variables, {n_constraints} constraints.')\n"
   ]
  },
  {
   "cell_type": "markdown",
   "id": "bc5352fa",
   "metadata": {},
   "source": [
    "Draw the polyhedron. We specify the bounding box in order to display all bases, even the unfeasible ones."
   ]
  },
  {
   "cell_type": "code",
   "execution_count": null,
   "id": "3a15d533",
   "metadata": {},
   "outputs": [],
   "source": [
    "bounding_box = BoundingBox(x_min=-1.5, x_max=5.5, y_min=-0.5, y_max=2)\n",
    "draw_polyhedron_standard_form(\n",
    "    matrix_a=standard_a, vector_b=standard_b, bounding_box=bounding_box\n",
    ")"
   ]
  },
  {
   "cell_type": "markdown",
   "id": "5334b019",
   "metadata": {},
   "source": [
    "We test the function on all possible bases."
   ]
  },
  {
   "cell_type": "markdown",
   "id": "9dcf4e5d",
   "metadata": {},
   "source": [
    "We need to consider all combinations of basic variables."
   ]
  },
  {
   "cell_type": "code",
   "execution_count": null,
   "id": "bf53f3e9",
   "metadata": {},
   "outputs": [],
   "source": [
    "all_bases = list(combinations(range(n_variables), n_constraints))\n",
    "print(f'There are {len(all_bases)} potential bases.')\n"
   ]
  },
  {
   "cell_type": "markdown",
   "id": "da4eeff4",
   "metadata": {},
   "source": [
    "## For each potential base below, verify that the outcome of the function is correct."
   ]
  },
  {
   "cell_type": "markdown",
   "id": "27922221",
   "metadata": {},
   "source": [
    "### Potential base number 0"
   ]
  },
  {
   "cell_type": "code",
   "execution_count": null,
   "id": "b78ad35c",
   "metadata": {},
   "outputs": [],
   "source": [
    "basic_indices_0 = all_bases[0]\n",
    "basic_solution_0 = print_info(basic_indices_0)\n"
   ]
  },
  {
   "cell_type": "markdown",
   "id": "2c630c3d",
   "metadata": {},
   "source": [
    "Plot the vertex"
   ]
  },
  {
   "cell_type": "code",
   "execution_count": null,
   "id": "0559698a",
   "metadata": {},
   "outputs": [],
   "source": [
    "if basic_solution_0 is not None:\n",
    "    draw_polyhedron_standard_form(\n",
    "        matrix_a=standard_a,\n",
    "        vector_b=standard_b,\n",
    "        bounding_box=bounding_box,\n",
    "        points=[LabeledPoint(coordinates=basic_solution_0)],\n",
    "    )\n"
   ]
  },
  {
   "cell_type": "markdown",
   "id": "27edc0f2",
   "metadata": {},
   "source": [
    "### Potential base number 1"
   ]
  },
  {
   "cell_type": "code",
   "execution_count": null,
   "id": "e89e7e01",
   "metadata": {},
   "outputs": [],
   "source": [
    "basic_indices_1 = all_bases[1]\n",
    "basic_solution_1 = print_info(basic_indices_1)\n"
   ]
  },
  {
   "cell_type": "markdown",
   "id": "ff857687",
   "metadata": {},
   "source": [
    "Plot the vertex"
   ]
  },
  {
   "cell_type": "code",
   "execution_count": null,
   "id": "4a6fa0c1",
   "metadata": {},
   "outputs": [],
   "source": [
    "if basic_solution_1 is not None:\n",
    "    draw_polyhedron_standard_form(\n",
    "        matrix_a=standard_a,\n",
    "        vector_b=standard_b,\n",
    "        bounding_box=bounding_box,\n",
    "        points=[LabeledPoint(coordinates=basic_solution_1)],\n",
    "    )\n"
   ]
  },
  {
   "cell_type": "markdown",
   "id": "20c14ff3",
   "metadata": {},
   "source": [
    "### Potential base number 2"
   ]
  },
  {
   "cell_type": "code",
   "execution_count": null,
   "id": "1d610499",
   "metadata": {},
   "outputs": [],
   "source": [
    "basic_indices_2 = all_bases[2]\n",
    "basic_solution_2 = print_info(basic_indices_2)\n"
   ]
  },
  {
   "cell_type": "markdown",
   "id": "c02a2309",
   "metadata": {},
   "source": [
    "Plot the vertex"
   ]
  },
  {
   "cell_type": "code",
   "execution_count": null,
   "id": "85115632",
   "metadata": {},
   "outputs": [],
   "source": [
    "if basic_solution_2 is not None:\n",
    "    draw_polyhedron_standard_form(\n",
    "        matrix_a=standard_a,\n",
    "        vector_b=standard_b,\n",
    "        bounding_box=bounding_box,\n",
    "        points=[LabeledPoint(coordinates=basic_solution_2)],\n",
    "    )"
   ]
  },
  {
   "cell_type": "markdown",
   "id": "e823193c",
   "metadata": {},
   "source": [
    "### Potential base number 3"
   ]
  },
  {
   "cell_type": "code",
   "execution_count": null,
   "id": "44a3541d",
   "metadata": {},
   "outputs": [],
   "source": [
    "basic_indices_3 = all_bases[3]\n",
    "basic_solution_3 = print_info(basic_indices_3)\n"
   ]
  },
  {
   "cell_type": "markdown",
   "id": "1d55dbc5",
   "metadata": {},
   "source": [
    "Plot the vertex"
   ]
  },
  {
   "cell_type": "code",
   "execution_count": null,
   "id": "a1c50e03",
   "metadata": {},
   "outputs": [],
   "source": [
    "if basic_solution_3 is not None:\n",
    "    draw_polyhedron_standard_form(\n",
    "        matrix_a=standard_a,\n",
    "        vector_b=standard_b,\n",
    "        bounding_box=bounding_box,\n",
    "        points=[LabeledPoint(coordinates=basic_solution_3)],\n",
    "    )"
   ]
  },
  {
   "cell_type": "markdown",
   "id": "c02acdac",
   "metadata": {},
   "source": [
    "### Potential base number 4"
   ]
  },
  {
   "cell_type": "code",
   "execution_count": null,
   "id": "f22b6f2d",
   "metadata": {},
   "outputs": [],
   "source": [
    "basic_indices_4 = all_bases[4]\n",
    "basic_solution_4 = print_info(basic_indices_4)\n"
   ]
  },
  {
   "cell_type": "markdown",
   "id": "f2d62cd9",
   "metadata": {},
   "source": [
    "Plot the vertex"
   ]
  },
  {
   "cell_type": "code",
   "execution_count": null,
   "id": "afa3e2ac",
   "metadata": {},
   "outputs": [],
   "source": [
    "if basic_solution_4 is not None:\n",
    "    draw_polyhedron_standard_form(\n",
    "        matrix_a=standard_a,\n",
    "        vector_b=standard_b,\n",
    "        bounding_box=bounding_box,\n",
    "        points=[LabeledPoint(coordinates=basic_solution_4)],\n",
    "    )"
   ]
  },
  {
   "cell_type": "markdown",
   "id": "b1729ebd",
   "metadata": {},
   "source": [
    "### Potential base number 5"
   ]
  },
  {
   "cell_type": "code",
   "execution_count": null,
   "id": "05d9921a",
   "metadata": {},
   "outputs": [],
   "source": [
    "basic_indices_5 = all_bases[5]\n",
    "basic_solution_5 = print_info(basic_indices_5)\n"
   ]
  },
  {
   "cell_type": "markdown",
   "id": "2516a997",
   "metadata": {},
   "source": [
    "Plot the vertex"
   ]
  },
  {
   "cell_type": "code",
   "execution_count": null,
   "id": "62685f0a",
   "metadata": {},
   "outputs": [],
   "source": [
    "if basic_solution_5 is not None:\n",
    "    draw_polyhedron_standard_form(\n",
    "        matrix_a=standard_a,\n",
    "        vector_b=standard_b,\n",
    "        bounding_box=bounding_box,\n",
    "        points=[LabeledPoint(coordinates=basic_solution_5)],\n",
    "    )\n"
   ]
  },
  {
   "cell_type": "markdown",
   "id": "c81380a6",
   "metadata": {},
   "source": [
    "All 6 potential bases exist. Only 3 are feasible They correspond to the 3 vertices of the polyhedron."
   ]
  },
  {
   "cell_type": "markdown",
   "id": "0584b4e2",
   "metadata": {},
   "source": [
    "## Polyhedron 3\n",
    "$$ P = \\left\\{\n",
    "\\begin{pmatrix}\n",
    "x_1\\\\\n",
    "x_2\n",
    "\\end{pmatrix} \\in \\mathbb{R}^2\n",
    "| x_1+x_2 \\leq 1,\n",
    "-x_1+2x_2 \\leq 2, x_1 \\geq 0, x_2 \\geq 0 \\right\\}.$$"
   ]
  },
  {
   "cell_type": "markdown",
   "id": "a728e86c",
   "metadata": {},
   "source": [
    "Data in standard form."
   ]
  },
  {
   "cell_type": "code",
   "execution_count": null,
   "id": "9a96dbbd",
   "metadata": {},
   "outputs": [],
   "source": [
    "standard_a = np.array([[1, 1, 1, 0], [-1, 2, 0, 1]])\n",
    "standard_b = np.array([1, 2])\n"
   ]
  },
  {
   "cell_type": "code",
   "execution_count": null,
   "id": "3a601ff7",
   "metadata": {},
   "outputs": [],
   "source": [
    "n_constraints, n_variables = standard_a.shape\n",
    "print(f'{n_variables} variables, {n_constraints} constraints.')\n"
   ]
  },
  {
   "cell_type": "markdown",
   "id": "9a43ee76",
   "metadata": {},
   "source": [
    "Draw the polyhedron. We specify the bounding box in order to display all bases, even the unfeasible ones."
   ]
  },
  {
   "cell_type": "code",
   "execution_count": null,
   "id": "bbab931a",
   "metadata": {},
   "outputs": [],
   "source": [
    "bounding_box = BoundingBox(x_min=-2.5, x_max=1.5, y_min=-0.5, y_max=1.5)\n",
    "draw_polyhedron_standard_form(\n",
    "    matrix_a=standard_a, vector_b=standard_b, bounding_box=bounding_box\n",
    ")"
   ]
  },
  {
   "cell_type": "markdown",
   "id": "ff6000b9",
   "metadata": {},
   "source": [
    "We test the function on all possible bases."
   ]
  },
  {
   "cell_type": "markdown",
   "id": "9a2d15e2",
   "metadata": {},
   "source": [
    "We need to consider all combinations of basic variables."
   ]
  },
  {
   "cell_type": "code",
   "execution_count": null,
   "id": "8d0f18af",
   "metadata": {},
   "outputs": [],
   "source": [
    "all_bases = list(combinations(range(n_variables), n_constraints))\n",
    "print(f'There are {len(all_bases)} potential bases.')\n"
   ]
  },
  {
   "cell_type": "markdown",
   "id": "b6b43f77",
   "metadata": {},
   "source": [
    "## For each potential base below, verify that the outcome of the function is correct."
   ]
  },
  {
   "cell_type": "markdown",
   "id": "63ad93a4",
   "metadata": {},
   "source": [
    "### Potential base number 0"
   ]
  },
  {
   "cell_type": "code",
   "execution_count": null,
   "id": "c7678a6b",
   "metadata": {},
   "outputs": [],
   "source": [
    "basic_indices_0 = all_bases[0]\n",
    "basic_solution_0 = print_info(basic_indices_0)\n"
   ]
  },
  {
   "cell_type": "markdown",
   "id": "e5aaf68d",
   "metadata": {},
   "source": [
    "Plot the vertex"
   ]
  },
  {
   "cell_type": "code",
   "execution_count": null,
   "id": "4e59ab14",
   "metadata": {},
   "outputs": [],
   "source": [
    "if basic_solution_0 is not None:\n",
    "    draw_polyhedron_standard_form(\n",
    "        matrix_a=standard_a,\n",
    "        vector_b=standard_b,\n",
    "        bounding_box=bounding_box,\n",
    "        points=[LabeledPoint(coordinates=basic_solution_0)],\n",
    "    )\n"
   ]
  },
  {
   "cell_type": "markdown",
   "id": "e39fa2fb",
   "metadata": {},
   "source": [
    "### Potential base number 1"
   ]
  },
  {
   "cell_type": "code",
   "execution_count": null,
   "id": "ef88b5ea",
   "metadata": {},
   "outputs": [],
   "source": [
    "basic_indices_1 = all_bases[1]\n",
    "basic_solution_1 = print_info(basic_indices_1)\n"
   ]
  },
  {
   "cell_type": "markdown",
   "id": "5b1a006b",
   "metadata": {},
   "source": [
    "Plot the vertex"
   ]
  },
  {
   "cell_type": "code",
   "execution_count": null,
   "id": "e0faeb85",
   "metadata": {},
   "outputs": [],
   "source": [
    "if basic_solution_1 is not None:\n",
    "    draw_polyhedron_standard_form(\n",
    "        matrix_a=standard_a,\n",
    "        vector_b=standard_b,\n",
    "        bounding_box=bounding_box,\n",
    "        points=[LabeledPoint(coordinates=basic_solution_1)],\n",
    "    )\n"
   ]
  },
  {
   "cell_type": "markdown",
   "id": "6e09981b",
   "metadata": {},
   "source": [
    "### Potential base number 2"
   ]
  },
  {
   "cell_type": "code",
   "execution_count": null,
   "id": "3f3f5503",
   "metadata": {},
   "outputs": [],
   "source": [
    "basic_indices_2 = all_bases[2]\n",
    "basic_solution_2 = print_info(basic_indices_2)\n"
   ]
  },
  {
   "cell_type": "markdown",
   "id": "038b2ff2",
   "metadata": {},
   "source": [
    "Plot the vertex"
   ]
  },
  {
   "cell_type": "code",
   "execution_count": null,
   "id": "f67f9a5f",
   "metadata": {},
   "outputs": [],
   "source": [
    "if basic_solution_2 is not None:\n",
    "    draw_polyhedron_standard_form(\n",
    "        matrix_a=standard_a,\n",
    "        vector_b=standard_b,\n",
    "        bounding_box=bounding_box,\n",
    "        points=[LabeledPoint(coordinates=basic_solution_2)],\n",
    "    )"
   ]
  },
  {
   "cell_type": "markdown",
   "id": "a02d33ca",
   "metadata": {},
   "source": [
    "### Potential base number 3"
   ]
  },
  {
   "cell_type": "code",
   "execution_count": null,
   "id": "a5eeab83",
   "metadata": {},
   "outputs": [],
   "source": [
    "basic_indices_3 = all_bases[3]\n",
    "basic_solution_3 = print_info(basic_indices_3)\n"
   ]
  },
  {
   "cell_type": "markdown",
   "id": "2148c707",
   "metadata": {},
   "source": [
    "Plot the vertex"
   ]
  },
  {
   "cell_type": "code",
   "execution_count": null,
   "id": "932254be",
   "metadata": {},
   "outputs": [],
   "source": [
    "if basic_solution_3 is not None:\n",
    "    draw_polyhedron_standard_form(\n",
    "        matrix_a=standard_a,\n",
    "        vector_b=standard_b,\n",
    "        bounding_box=bounding_box,\n",
    "        points=[LabeledPoint(coordinates=basic_solution_3)],\n",
    "    )"
   ]
  },
  {
   "cell_type": "markdown",
   "id": "e18cbfcc",
   "metadata": {},
   "source": [
    "### Potential base number 4"
   ]
  },
  {
   "cell_type": "code",
   "execution_count": null,
   "id": "d24c9bae",
   "metadata": {},
   "outputs": [],
   "source": [
    "basic_indices_4 = all_bases[4]\n",
    "basic_solution_4 = print_info(basic_indices_4)\n"
   ]
  },
  {
   "cell_type": "markdown",
   "id": "c648d370",
   "metadata": {},
   "source": [
    "Plot the vertex"
   ]
  },
  {
   "cell_type": "code",
   "execution_count": null,
   "id": "8085528f",
   "metadata": {},
   "outputs": [],
   "source": [
    "if basic_solution_4 is not None:\n",
    "    draw_polyhedron_standard_form(\n",
    "        matrix_a=standard_a,\n",
    "        vector_b=standard_b,\n",
    "        bounding_box=bounding_box,\n",
    "        points=[LabeledPoint(coordinates=basic_solution_4)],\n",
    "    )"
   ]
  },
  {
   "cell_type": "markdown",
   "id": "e9e09072",
   "metadata": {},
   "source": [
    "### Potential base number 5"
   ]
  },
  {
   "cell_type": "code",
   "execution_count": null,
   "id": "0aaff871",
   "metadata": {},
   "outputs": [],
   "source": [
    "basic_indices_5 = all_bases[5]\n",
    "basic_solution_5 = print_info(basic_indices_5)\n"
   ]
  },
  {
   "cell_type": "markdown",
   "id": "abdab360",
   "metadata": {},
   "source": [
    "Plot the vertex"
   ]
  },
  {
   "cell_type": "code",
   "execution_count": null,
   "id": "b3a11afd",
   "metadata": {},
   "outputs": [],
   "source": [
    "if basic_solution_5 is not None:\n",
    "    draw_polyhedron_standard_form(\n",
    "        matrix_a=standard_a,\n",
    "        vector_b=standard_b,\n",
    "        bounding_box=bounding_box,\n",
    "        points=[LabeledPoint(coordinates=basic_solution_5)],\n",
    "    )\n"
   ]
  },
  {
   "cell_type": "markdown",
   "id": "d80e42b1",
   "metadata": {},
   "source": [
    "All 6 potential bases exist, and 5 of them are feasible. However, the polyhedron has only 3 vertices.\n",
    "Indeed, feasible basic solutions 0, 3 and 4 correspond to the exact same vertex of the\n",
    "polyhedron. Such basic solutions are said to be **degenerate**."
   ]
  },
  {
   "cell_type": "markdown",
   "id": "6c3f92fb",
   "metadata": {},
   "source": [
    "# Future usage.\n",
    "These functions are implemented in the package, so that they can be reused in the future. Here is the syntax."
   ]
  },
  {
   "cell_type": "markdown",
   "id": "33840eb6",
   "metadata": {},
   "source": [
    "First, we create an object using the data:"
   ]
  },
  {
   "cell_type": "code",
   "execution_count": null,
   "id": "1768f96f",
   "metadata": {},
   "outputs": [],
   "source": [
    "the_standard_form = StandardForm(matrix=standard_a, vector=standard_b)\n"
   ]
  },
  {
   "cell_type": "markdown",
   "id": "b839a0f3",
   "metadata": {},
   "source": [
    "Then, we set the basic indices."
   ]
  },
  {
   "cell_type": "code",
   "execution_count": null,
   "id": "0ce9d1ac",
   "metadata": {},
   "outputs": [],
   "source": [
    "the_basic_indices = [1, 2]\n",
    "the_standard_form.basic_indices = the_basic_indices\n"
   ]
  },
  {
   "cell_type": "markdown",
   "id": "f8e882da",
   "metadata": {},
   "source": [
    "The basic matrix is readily available."
   ]
  },
  {
   "cell_type": "code",
   "execution_count": null,
   "id": "ca31f634",
   "metadata": {},
   "outputs": [],
   "source": [
    "print(the_standard_form.basic_matrix)\n"
   ]
  },
  {
   "cell_type": "markdown",
   "id": "3aa578a7",
   "metadata": {},
   "source": [
    "As well as the basic solution:"
   ]
  },
  {
   "cell_type": "code",
   "execution_count": null,
   "id": "9317d01d",
   "metadata": {},
   "outputs": [],
   "source": [
    "print(the_standard_form.basic_solution)\n"
   ]
  },
  {
   "cell_type": "markdown",
   "id": "ac85457e",
   "metadata": {},
   "source": [
    "If you need only the basic part of the basic solution, it is available as well."
   ]
  },
  {
   "cell_type": "code",
   "execution_count": null,
   "id": "391cb629",
   "metadata": {},
   "outputs": [],
   "source": [
    "print(the_standard_form.basic_part_basic_solution)\n"
   ]
  },
  {
   "cell_type": "markdown",
   "id": "55358920",
   "metadata": {},
   "source": [
    "To change the basis, redefine the basic indices."
   ]
  },
  {
   "cell_type": "code",
   "execution_count": null,
   "id": "1a532fe6",
   "metadata": {},
   "outputs": [],
   "source": [
    "the_basic_indices = [0, 3]\n",
    "the_standard_form.basic_indices = the_basic_indices\n"
   ]
  },
  {
   "cell_type": "markdown",
   "id": "41136e3a",
   "metadata": {},
   "source": [
    "The basic matrix is readily available."
   ]
  },
  {
   "cell_type": "code",
   "execution_count": null,
   "id": "4ac75f1e",
   "metadata": {},
   "outputs": [],
   "source": [
    "print(the_standard_form.basic_matrix)\n"
   ]
  },
  {
   "cell_type": "markdown",
   "id": "2df39ac1",
   "metadata": {},
   "source": [
    "As well as the basic solution:"
   ]
  },
  {
   "cell_type": "code",
   "execution_count": null,
   "id": "1fc119a8",
   "metadata": {},
   "outputs": [],
   "source": [
    "print(the_standard_form.basic_solution)\n"
   ]
  },
  {
   "cell_type": "markdown",
   "id": "63e84c3f",
   "metadata": {},
   "source": [
    "If you need only the basic part of the basic solution, it is available as well."
   ]
  },
  {
   "cell_type": "code",
   "execution_count": null,
   "id": "76641e7c",
   "metadata": {},
   "outputs": [],
   "source": [
    "print(the_standard_form.basic_part_basic_solution)\n"
   ]
  }
 ],
 "metadata": {},
 "nbformat": 4,
 "nbformat_minor": 5
}

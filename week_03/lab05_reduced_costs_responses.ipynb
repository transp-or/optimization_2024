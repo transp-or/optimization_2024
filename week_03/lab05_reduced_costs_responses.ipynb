{
 "cells": [
  {
   "cell_type": "markdown",
   "id": "b200269b",
   "metadata": {},
   "source": [
    "# Reduced costs\n",
    "\n",
    "## Introduction to optimization and operations research\n",
    "\n",
    "Michel Bierlaire\n"
   ]
  },
  {
   "cell_type": "code",
   "execution_count": null,
   "id": "62d9d930",
   "metadata": {},
   "outputs": [],
   "source": [
    "\n",
    "import numpy as np\n",
    "from teaching_optimization.linear_constraints import StandardForm\n",
    "from teaching_optimization.linear_optimization import LinearOptimization\n"
   ]
  },
  {
   "cell_type": "markdown",
   "id": "b4415e3e",
   "metadata": {},
   "source": [
    "The objective of this exercise is to calculate the reduced costs of a linear optimization problem.\n",
    "\n",
    "Consider the optimization problem\n",
    "$$\n",
    "\\min x_0\n",
    "$$\n",
    "subject to\n",
    "\\begin{align*}\n",
    "x_0+x_1+x_2 & =1,\\\\\n",
    "-x_0+2x_1+x_3 &=2,\\\\\n",
    "x_0,x_1,x_2,x_3 & \\geq 0.\n",
    "\\end{align*}\n",
    "Consider the basis where the  variables\n",
    "$x_0$ and $x_1$ are in the basis, and calculate all reduced costs for\n",
    "that basis. Remember that the reduced cost associated with a non basic variable $x_p$ is defined as\n",
    "$$\n",
    "\\bar{c}_p = c_p - c_B^T B^{-1} A_p,\n",
    "$$\n",
    "where $c_B$ are the entries of the vector $c$ corresponding to the basic variables, and $A_p$ is the $p$th\n",
    "column of $A$."
   ]
  },
  {
   "cell_type": "markdown",
   "id": "2788a555",
   "metadata": {},
   "source": [
    "Data of the problem"
   ]
  },
  {
   "cell_type": "code",
   "execution_count": null,
   "id": "992281b7",
   "metadata": {},
   "outputs": [],
   "source": [
    "standard_a = np.array([[1, 1, 1, 0], [-1, 2, 0, 1]])\n",
    "standard_b = np.array([1, 2])\n",
    "the_objective = np.array([1, 0, 0, 0])\n"
   ]
  },
  {
   "cell_type": "markdown",
   "id": "9f28da7b",
   "metadata": {},
   "source": [
    "We use the object dealing with the constraints in standard form."
   ]
  },
  {
   "cell_type": "code",
   "execution_count": null,
   "id": "67783dc2",
   "metadata": {},
   "outputs": [],
   "source": [
    "the_constraints = StandardForm(matrix=standard_a, vector=standard_b)\n",
    "help(the_constraints)\n",
    "\n"
   ]
  },
  {
   "cell_type": "markdown",
   "id": "f51ca13c",
   "metadata": {},
   "source": [
    "Function calculating the reduced costs. Replace the ????."
   ]
  },
  {
   "cell_type": "code",
   "execution_count": null,
   "id": "117bae7e",
   "metadata": {},
   "outputs": [],
   "source": [
    "def reduced_cost(\n",
    "    constraints: StandardForm,\n",
    "    objective: np.ndarray,\n",
    "    basic_indices: list[int],\n",
    "    variable_index: int,\n",
    ") -> float:\n",
    "    \"\"\"Calculation of the reduced costs\n",
    "\n",
    "    :param constraints: object capturing the constraints\n",
    "    :param objective: vector of coefficients of the objective function.\n",
    "    :param basic_indices: list of indices of basic variables.\n",
    "    :param variable_index: index of the variable for which we calculate the reduced cost.\n",
    "    :return: value of the reduced cost.\n",
    "    \"\"\"\n",
    "    constraints.basic_indices = basic_indices\n",
    "\n",
    "    # The value of the reduced cost of basic variables is always the same.\n",
    "    if variable_index in basic_indices:\n",
    "        return 0\n",
    "\n",
    "    # Obtain the basic part of the basic direction.\n",
    "    direction = constraints.basic_part_basic_direction(\n",
    "        non_basic_index=variable_index\n",
    "    )\n",
    "\n",
    "    # Extract the basic components of the cost vector.\n",
    "    basic_costs = objective[basic_indices]\n",
    "\n",
    "    # Calculate the reduced costs\n",
    "    return objective[variable_index] + np.inner(\n",
    "        direction, basic_costs\n",
    "    )\n",
    "\n"
   ]
  },
  {
   "cell_type": "markdown",
   "id": "f533e36c",
   "metadata": {},
   "source": [
    "We apply it to solve the exercise above."
   ]
  },
  {
   "cell_type": "code",
   "execution_count": null,
   "id": "5b80af3e",
   "metadata": {},
   "outputs": [],
   "source": [
    "\n",
    "basic_indices = [0, 1]\n"
   ]
  },
  {
   "cell_type": "markdown",
   "id": "b9d44fbe",
   "metadata": {},
   "source": [
    "We calculate the reduced costs for each variable."
   ]
  },
  {
   "cell_type": "code",
   "execution_count": null,
   "id": "26e16d93",
   "metadata": {},
   "outputs": [],
   "source": [
    "reduced_costs = [\n",
    "    reduced_cost(\n",
    "        constraints=the_constraints,\n",
    "        objective=the_objective,\n",
    "        basic_indices=basic_indices,\n",
    "        variable_index=index,\n",
    "    )\n",
    "    for index in range(the_constraints.n_variables)\n",
    "]\n"
   ]
  },
  {
   "cell_type": "markdown",
   "id": "740243ba",
   "metadata": {},
   "source": [
    "Variable 0. Expected result: 0"
   ]
  },
  {
   "cell_type": "code",
   "execution_count": null,
   "id": "56aa459a",
   "metadata": {},
   "outputs": [],
   "source": [
    "print(reduced_costs[0])\n"
   ]
  },
  {
   "cell_type": "markdown",
   "id": "e6fada95",
   "metadata": {},
   "source": [
    "Variable 1. Expected result: 0"
   ]
  },
  {
   "cell_type": "code",
   "execution_count": null,
   "id": "ba157d36",
   "metadata": {},
   "outputs": [],
   "source": [
    "print(reduced_costs[1])\n"
   ]
  },
  {
   "cell_type": "markdown",
   "id": "8ed85dca",
   "metadata": {},
   "source": [
    "Variable 2. Expected result: -2/3"
   ]
  },
  {
   "cell_type": "code",
   "execution_count": null,
   "id": "472da5a4",
   "metadata": {},
   "outputs": [],
   "source": [
    "print(reduced_costs[2])\n"
   ]
  },
  {
   "cell_type": "markdown",
   "id": "aa7eebe9",
   "metadata": {},
   "source": [
    "Variable 3. Expected result: 1/3"
   ]
  },
  {
   "cell_type": "code",
   "execution_count": null,
   "id": "89957f46",
   "metadata": {},
   "outputs": [],
   "source": [
    "print(reduced_costs[3])\n"
   ]
  },
  {
   "cell_type": "markdown",
   "id": "70109d37",
   "metadata": {},
   "source": [
    "# Future usage.\n",
    "These functions are implemented in the package, so that they can be reused in the future. Here is the syntax."
   ]
  },
  {
   "cell_type": "code",
   "execution_count": null,
   "id": "e84f13ce",
   "metadata": {},
   "outputs": [],
   "source": [
    "the_optimization_problem = LinearOptimization(\n",
    "    objective=the_objective, constraint_matrix=standard_a, right_hand_side=standard_b\n",
    ")\n",
    "\n",
    "the_optimization_problem.basic_indices = [0, 1]\n",
    "reduced_costs = [\n",
    "    the_optimization_problem.reduced_cost(variable_index=index)\n",
    "    for index in range(the_optimization_problem.n_variables)\n",
    "]\n",
    "print(reduced_costs)"
   ]
  }
 ],
 "metadata": {},
 "nbformat": 4,
 "nbformat_minor": 5
}

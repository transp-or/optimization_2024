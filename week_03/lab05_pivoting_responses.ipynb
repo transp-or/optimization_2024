{
 "cells": [
  {
   "cell_type": "markdown",
   "id": "f19aa383",
   "metadata": {},
   "source": [
    "# Pivoting the simplex tableau\n",
    "\n",
    "## Introduction to optimization and operations research\n",
    "\n",
    "Michel Bierlaire\n"
   ]
  },
  {
   "cell_type": "code",
   "execution_count": null,
   "id": "63024df3",
   "metadata": {},
   "outputs": [],
   "source": [
    "\n",
    "import numpy as np\n",
    "\n"
   ]
  },
  {
   "cell_type": "markdown",
   "id": "c9009042",
   "metadata": {},
   "source": [
    "The objective of this lab is to implement the pivoting of the simplex tableau."
   ]
  },
  {
   "cell_type": "markdown",
   "id": "47f63272",
   "metadata": {},
   "source": [
    "Consider the following simplex tableau."
   ]
  },
  {
   "cell_type": "code",
   "execution_count": null,
   "id": "7c8fab8f",
   "metadata": {},
   "outputs": [],
   "source": [
    "the_tableau = np.array(\n",
    "    [\n",
    "        [0, 1.5, 1, 1, -0.5, 0, 10],\n",
    "        [1, 0.5, 1, 0, 0.5, 0, 10],\n",
    "        [0, 1, -1, 0, -1, 1, 0],\n",
    "        [0, -7, -2, 0, 5, 0, 100],\n",
    "    ]\n",
    ")\n",
    "print(the_tableau)\n"
   ]
  },
  {
   "cell_type": "markdown",
   "id": "d5d2bec5",
   "metadata": {},
   "source": [
    "We want to pivot the tableau around the following pivot."
   ]
  },
  {
   "cell_type": "code",
   "execution_count": null,
   "id": "04c36823",
   "metadata": {},
   "outputs": [],
   "source": [
    "the_pivot_row: int = 2\n",
    "the_pivot_column: int = 1\n"
   ]
  },
  {
   "cell_type": "markdown",
   "id": "7996980a",
   "metadata": {},
   "source": [
    "What is the variable that enters the basis?\n",
    "The variable corresponding to the column of the pivot: x[1]"
   ]
  },
  {
   "cell_type": "markdown",
   "id": "a3d7e908",
   "metadata": {},
   "source": [
    "What is the variable that leaves the basis?\n",
    "Row 2 corresponds to variable x[5]"
   ]
  },
  {
   "cell_type": "markdown",
   "id": "6f90f58e",
   "metadata": {},
   "source": [
    "What is the value of the pivot?"
   ]
  },
  {
   "cell_type": "code",
   "execution_count": null,
   "id": "5ecee4ec",
   "metadata": {},
   "outputs": [],
   "source": [
    "the_pivot_value = the_tableau[\n",
    "    the_pivot_row, the_pivot_column\n",
    "]\n",
    "print(the_pivot_value)\n"
   ]
  },
  {
   "cell_type": "markdown",
   "id": "64bcd2c1",
   "metadata": {},
   "source": [
    "What is the row of the pivot?"
   ]
  },
  {
   "cell_type": "code",
   "execution_count": null,
   "id": "eab5ac5c",
   "metadata": {},
   "outputs": [],
   "source": [
    "the_row_of_the_pivot = the_tableau[\n",
    "    the_pivot_row, :\n",
    "]\n",
    "print(the_row_of_the_pivot)\n"
   ]
  },
  {
   "cell_type": "markdown",
   "id": "d066732f",
   "metadata": {},
   "source": [
    "We want to apply the elementary row operation on row 0, so that the element at the column of the pivot becomes zero."
   ]
  },
  {
   "cell_type": "code",
   "execution_count": null,
   "id": "53520b21",
   "metadata": {},
   "outputs": [],
   "source": [
    "the_processing_row = 0\n",
    "the_current_value = the_tableau[\n",
    "    the_processing_row, the_pivot_column\n",
    "]\n",
    "print(f'Current value @ row 0, pivot column: {the_current_value}')\n"
   ]
  },
  {
   "cell_type": "markdown",
   "id": "5bc98059",
   "metadata": {},
   "source": [
    "We need to add a multiple of the pivot row to row 0."
   ]
  },
  {
   "cell_type": "code",
   "execution_count": null,
   "id": "9d087abc",
   "metadata": {},
   "outputs": [],
   "source": [
    "the_multiplier = -the_current_value / the_pivot_value\n",
    "the_tableau[the_processing_row, :] += the_multiplier * the_row_of_the_pivot\n"
   ]
  },
  {
   "cell_type": "markdown",
   "id": "0b8e7deb",
   "metadata": {},
   "source": [
    "New row after operation"
   ]
  },
  {
   "cell_type": "code",
   "execution_count": null,
   "id": "14b8aa3e",
   "metadata": {},
   "outputs": [],
   "source": [
    "print(the_tableau[the_processing_row, :])\n",
    "\n"
   ]
  },
  {
   "cell_type": "markdown",
   "id": "cf2ab749",
   "metadata": {},
   "source": [
    "We now automatize the process for all rows.\n",
    "\n",
    "Fill the ????"
   ]
  },
  {
   "cell_type": "code",
   "execution_count": null,
   "id": "7728a722",
   "metadata": {},
   "outputs": [],
   "source": [
    "def pivoting(tableau: np.ndarray, pivot_row: int, pivot_column: int) -> np.ndarray:\n",
    "    \"\"\"Pivot the simplex tableau\n",
    "\n",
    "    :param tableau: original tableau.\n",
    "    :param pivot_row: index of the row of the pivot.\n",
    "    :param pivot_column: index of the column of the pivot.\n",
    "    :return: pivoted tableau.\n",
    "    \"\"\"\n",
    "    n_rows, n_columns = tableau.shape\n",
    "    if pivot_row < 0 or pivot_row >= n_rows:\n",
    "        error_msg = f'Row index {pivot_row} out of range [0, {n_rows-1}]'\n",
    "        raise ValueError(error_msg)\n",
    "    if pivot_column < 0 or pivot_column >= n_columns:\n",
    "        error_msg = f'Column index {pivot_column} out of range [0, {n_columns-1}]'\n",
    "        raise ValueError(error_msg)\n",
    "\n",
    "    pivot_value = tableau[pivot_row, pivot_column]\n",
    "    # Verify that the value is not close to zero\n",
    "    if np.isclose(pivot_value, 0.0):\n",
    "        error_msg = f'Pivot is numerically too close to zero: {pivot_value}'\n",
    "        raise ValueError(error_msg)\n",
    "\n",
    "    row_of_the_pivot = tableau[pivot_row, :]\n",
    "\n",
    "    # We treat first all rows except the row of the pivot.\n",
    "    for row in range(n_rows):\n",
    "        if row != pivot_row:\n",
    "            current_value = tableau[\n",
    "                row, pivot_column\n",
    "            ]\n",
    "            multiplier = -current_value / pivot_value\n",
    "            tableau[row, :] += (\n",
    "                multiplier * row_of_the_pivot\n",
    "            )\n",
    "    # Finally, we treat the row of the pivot.\n",
    "    tableau[pivot_row, :] /= pivot_value\n",
    "    return tableau\n",
    "\n"
   ]
  },
  {
   "cell_type": "markdown",
   "id": "577713dd",
   "metadata": {},
   "source": [
    "Test the function"
   ]
  },
  {
   "cell_type": "code",
   "execution_count": null,
   "id": "025f387a",
   "metadata": {},
   "outputs": [],
   "source": [
    "pivoted_tableau = pivoting(\n",
    "    tableau=the_tableau, pivot_row=the_pivot_row, pivot_column=the_pivot_column\n",
    ")\n",
    "print(pivoted_tableau)\n"
   ]
  },
  {
   "cell_type": "markdown",
   "id": "ec6f9a45",
   "metadata": {},
   "source": [
    "The column of the pivot should be a column of the identity matrix, where 1 is at the row of the pivot."
   ]
  },
  {
   "cell_type": "code",
   "execution_count": null,
   "id": "fba348fe",
   "metadata": {},
   "outputs": [],
   "source": [
    "print(f'Column of the pivot after pivoting: {pivoted_tableau[:, the_pivot_column]}')\n",
    "print(\n",
    "    f'New value at the position of the pivot: {pivoted_tableau[the_pivot_row, the_pivot_column]}'\n",
    ")\n"
   ]
  },
  {
   "cell_type": "markdown",
   "id": "7dec13a5",
   "metadata": {},
   "source": [
    "Let's pivot the tableau again."
   ]
  },
  {
   "cell_type": "code",
   "execution_count": null,
   "id": "b2f43885",
   "metadata": {},
   "outputs": [],
   "source": [
    "the_pivot_row: int = 0\n",
    "the_pivot_column: int = 2\n"
   ]
  },
  {
   "cell_type": "markdown",
   "id": "b5df6627",
   "metadata": {},
   "source": [
    "What is the variable that enters the basis?\n",
    "The variable corresponding to the column of the pivot: x[2]"
   ]
  },
  {
   "cell_type": "markdown",
   "id": "5d1e1fb5",
   "metadata": {},
   "source": [
    "What is the variable that leaves the basis?\n",
    "Row 0 corresponds to variable x[3]"
   ]
  },
  {
   "cell_type": "markdown",
   "id": "f20ec7f6",
   "metadata": {},
   "source": [
    "What is the value of the pivot?"
   ]
  },
  {
   "cell_type": "code",
   "execution_count": null,
   "id": "ef57c759",
   "metadata": {},
   "outputs": [],
   "source": [
    "the_pivot_value = the_tableau[\n",
    "    the_pivot_row, the_pivot_column\n",
    "]\n",
    "print(the_pivot_value)\n"
   ]
  },
  {
   "cell_type": "markdown",
   "id": "8b6be19b",
   "metadata": {},
   "source": [
    "What is the row of the pivot?"
   ]
  },
  {
   "cell_type": "code",
   "execution_count": null,
   "id": "0db6d5ef",
   "metadata": {},
   "outputs": [],
   "source": [
    "the_row_of_the_pivot = the_tableau[\n",
    "    the_pivot_row, :\n",
    "]\n",
    "print(the_row_of_the_pivot)\n"
   ]
  },
  {
   "cell_type": "markdown",
   "id": "85daec86",
   "metadata": {},
   "source": [
    "We apply the function again"
   ]
  },
  {
   "cell_type": "code",
   "execution_count": null,
   "id": "c4d2de47",
   "metadata": {},
   "outputs": [],
   "source": [
    "re_pivoted_tableau = pivoting(\n",
    "    tableau=pivoted_tableau, pivot_row=the_pivot_row, pivot_column=the_pivot_column\n",
    ")\n",
    "print(re_pivoted_tableau)"
   ]
  }
 ],
 "metadata": {},
 "nbformat": 4,
 "nbformat_minor": 5
}

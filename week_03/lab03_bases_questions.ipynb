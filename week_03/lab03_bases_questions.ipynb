{
 "cells": [
  {
   "cell_type": "markdown",
   "id": "ed8262d6",
   "metadata": {},
   "source": [
    "# Basic solutions\n",
    "\n",
    "## Introduction to optimization and operations research\n",
    "\n",
    "Michel Bierlaire\n"
   ]
  },
  {
   "cell_type": "code",
   "execution_count": null,
   "id": "004deae0",
   "metadata": {},
   "outputs": [],
   "source": [
    "\n",
    "from itertools import combinations\n",
    "from typing import Iterable\n",
    "\n",
    "import numpy as np\n",
    "from teaching_optimization.linear_constraints import (\n",
    "    draw_polyhedron_standard_form,\n",
    "    LabeledPoint,\n",
    "    BoundingBox,\n",
    "    StandardForm,\n",
    ")\n"
   ]
  },
  {
   "cell_type": "markdown",
   "id": "348bf985",
   "metadata": {},
   "source": [
    "The objective of this exercise is to associate the choice of basic and non basic variables with a vertex of\n",
    "the polyhedron. We will proceed step by step.\n",
    "\n",
    "We will implement the following functions:\n",
    "\n",
    "- a function that extracts and returns a basic matrix from the given constraint matrix,\n",
    "- a function that calculates the basic variables by solving the system $B x_B = b$,\n",
    "- a function that checks if the basic variables $x_B$ are feasible,\n",
    "- a function that builds the vector in the full space,\n",
    "- a function that calls all the previous ones to obtain a basic solution,\n",
    "- a function that checks if the basic solution is degenerate.\n",
    "\n",
    "We will apply it to identify the vertices of the following polyhedrons.\n",
    "\n",
    "## Polyhedron 1\n",
    "$$P = \\left\\{\n",
    "\\begin{pmatrix}\n",
    "x_1\\\\\n",
    "x_2\n",
    "\\end{pmatrix} \\in \\mathbb{R}^2\n",
    "| x_1+x_2  \\geq 1,\n",
    "x_1+x_2  \\leq 2,\n",
    "x_1  \\geq 0,\n",
    "x_2  \\geq 0. \\right\\}.$$"
   ]
  },
  {
   "cell_type": "markdown",
   "id": "ffcfce81",
   "metadata": {},
   "source": [
    "## Polyhedron 2\n",
    "$$P = \\left\\{\n",
    "\\begin{pmatrix}\n",
    "x_1\\\\\n",
    "x_2\n",
    "\\end{pmatrix}\\in \\mathbb{R}^2\n",
    "| x_1 + x_2 \\leq 1, 3 x_1 + 10 x_2 \\leq 15, x_1 \\geq 0, x_2 \\geq 0 \\right\\}.$$"
   ]
  },
  {
   "cell_type": "markdown",
   "id": "eb519412",
   "metadata": {},
   "source": [
    "## Polyhedron 3\n",
    "$$ P = \\left\\{\n",
    "\\begin{pmatrix}\n",
    "x_1\\\\\n",
    "x_2\n",
    "\\end{pmatrix} \\in \\mathbb{R}^2\n",
    "| x_1+x_2 \\leq 1,\n",
    "-x_1+2x_2 \\leq 2, x_1 \\geq 0, x_2 \\geq 0 \\right\\}.$$"
   ]
  },
  {
   "cell_type": "markdown",
   "id": "eda5d918",
   "metadata": {},
   "source": [
    "Prepare first polyhedron 1 so that we can use it for testing each function. It must first be written in standard form."
   ]
  },
  {
   "cell_type": "markdown",
   "id": "445a7c60",
   "metadata": {},
   "source": [
    "Provide the values of the matrix of the problem in standard form."
   ]
  },
  {
   "cell_type": "code",
   "execution_count": null,
   "id": "63d17d29",
   "metadata": {},
   "outputs": [],
   "source": [
    "standard_a = ????\n",
    "print(standard_a)\n"
   ]
  },
  {
   "cell_type": "code",
   "execution_count": null,
   "id": "4faadba3",
   "metadata": {},
   "outputs": [],
   "source": [
    "n_constraints, n_variables = standard_a.shape\n",
    "print(f'{n_variables} variables, {n_constraints} constraints.')\n"
   ]
  },
  {
   "cell_type": "markdown",
   "id": "5d82652d",
   "metadata": {},
   "source": [
    "Provide the values of the right-hand side of the problem in standard form."
   ]
  },
  {
   "cell_type": "code",
   "execution_count": null,
   "id": "238e522c",
   "metadata": {},
   "outputs": [],
   "source": [
    "standard_b = ????\n",
    "print(standard_b)\n"
   ]
  },
  {
   "cell_type": "markdown",
   "id": "0d2c345f",
   "metadata": {},
   "source": [
    "Draw the polyhedron."
   ]
  },
  {
   "cell_type": "code",
   "execution_count": null,
   "id": "e30bc797",
   "metadata": {},
   "outputs": [],
   "source": [
    "draw_polyhedron_standard_form(matrix_a=standard_a, vector_b=standard_b)\n",
    "\n"
   ]
  },
  {
   "cell_type": "markdown",
   "id": "8101506d",
   "metadata": {},
   "source": [
    "## Function that extracts and returns a basic matrix from the given constraint matrix\n",
    "Complete it by replacing the ????."
   ]
  },
  {
   "cell_type": "code",
   "execution_count": null,
   "id": "8ebcd185",
   "metadata": {},
   "outputs": [],
   "source": [
    "def extract_basic_matrix(\n",
    "    constraint_matrix: np.ndarray, basic_indices: list[int]\n",
    ") -> np.ndarray:\n",
    "    \"\"\"\n",
    "    Extracts and returns a basic matrix from the given constraint matrix\n",
    "    using the specified basic indices.\n",
    "\n",
    "    :param constraint_matrix: A numpy ndarray representing the constraint matrix.\n",
    "    :param basic_indices: A list of integers representing the column indices to form the basis.\n",
    "    :return: A numpy ndarray representing the basic matrix.\n",
    "    \"\"\"\n",
    "    n_rows, n_columns = constraint_matrix.shape\n",
    "    # Verify that the number of indices matches the number of rows in the matrix.\n",
    "    if len(basic_indices) != n_rows:\n",
    "        raise ValueError(\n",
    "            f'The number of basic indices [{len(basic_indices)}] must match the number of '\n",
    "            f'rows in the matrix [{n_rows}].'\n",
    "        )\n",
    "\n",
    "    # Verify each index is a valid column index of the matrix.\n",
    "    max_index = n_columns - 1\n",
    "    if not all(0 <= index <= max_index for index in basic_indices):\n",
    "        raise ValueError(\n",
    "            'One or more indices are out of the valid column index range of the matrix.'\n",
    "        )\n",
    "\n",
    "    # Extract the columns corresponding to the indices, in the provided order.\n",
    "    basis = ????\n",
    "\n",
    "    # Return the resulting square matrix.\n",
    "    return basis\n",
    "\n"
   ]
  },
  {
   "cell_type": "markdown",
   "id": "324513ec",
   "metadata": {},
   "source": [
    "Test the function on the example. Remember that, in Python, the numbering starts at 0."
   ]
  },
  {
   "cell_type": "code",
   "execution_count": null,
   "id": "da690dd7",
   "metadata": {},
   "outputs": [],
   "source": [
    "print(standard_a)\n",
    "\n",
    "basic_indices_1 = [0, 1]"
   ]
  },
  {
   "cell_type": "markdown",
   "id": "5e00deb0",
   "metadata": {},
   "source": [
    "Expected result: $$\\begin{pmatrix} -1 & -1 \\\\ 1 & 1 \\end{pmatrix}.$$"
   ]
  },
  {
   "cell_type": "code",
   "execution_count": null,
   "id": "9486baec",
   "metadata": {},
   "outputs": [],
   "source": [
    "\n",
    "basic_matrix_1 = extract_basic_matrix(\n",
    "    constraint_matrix=standard_a, basic_indices=basic_indices_1\n",
    ")\n",
    "print(basic_matrix_1)\n"
   ]
  },
  {
   "cell_type": "markdown",
   "id": "bf424a0e",
   "metadata": {},
   "source": [
    "Test the function with a different set of indices. Note the order..."
   ]
  },
  {
   "cell_type": "code",
   "execution_count": null,
   "id": "0fcd84f2",
   "metadata": {},
   "outputs": [],
   "source": [
    "basic_indices_2 = [3, 2]"
   ]
  },
  {
   "cell_type": "markdown",
   "id": "5d1b948c",
   "metadata": {},
   "source": [
    "Expected result: $$\\begin{pmatrix} 0 & 1 \\\\ 1 & 0 \\end{pmatrix}.$$"
   ]
  },
  {
   "cell_type": "code",
   "execution_count": null,
   "id": "1aac5212",
   "metadata": {},
   "outputs": [],
   "source": [
    "\n",
    "basic_matrix_2 = extract_basic_matrix(\n",
    "    constraint_matrix=standard_a, basic_indices=basic_indices_2\n",
    ")\n",
    "print(basic_matrix_2)\n",
    "\n"
   ]
  },
  {
   "cell_type": "markdown",
   "id": "2a5278a2",
   "metadata": {},
   "source": [
    "## Function that calculates the basic variables by solving the system $B x_B = b$.\n",
    "Complete it by replacing the ????."
   ]
  },
  {
   "cell_type": "code",
   "execution_count": null,
   "id": "5b92059b",
   "metadata": {},
   "outputs": [],
   "source": [
    "def calculate_basic_variables(\n",
    "    basic_matrix: np.ndarray, right_hand_side: np.ndarray\n",
    ") -> np.ndarray | None:\n",
    "    \"\"\"\n",
    "    Solves the system $B x_B = b$.\n",
    "\n",
    "    :param basic_matrix: matrix $B$.\n",
    "    :param right_hand_side: vector $b$.\n",
    "    :return: if the system has a solution, returns $x_B$. If not, returns None.\n",
    "    \"\"\"\n",
    "    # Check if the basic matrix is square\n",
    "    n_rows, n_columns = basic_matrix.shape\n",
    "    if n_rows != n_columns:\n",
    "        raise ValueError(\n",
    "            f'The basic matrix must be square, and not {n_rows} x {n_columns}.'\n",
    "        )\n",
    "\n",
    "    # Check if the length of the right-hand side matches the dimensions of the matrix\n",
    "    if n_rows != len(right_hand_side):\n",
    "        raise ValueError(\n",
    "            f'The length of the right-hand side [{len(right_hand_side)}] must match '\n",
    "            f'the dimensions of the matrix [{n_rows}].'\n",
    "        )\n",
    "\n",
    "    # Solve the system B x_B = b, if possible, using `np.linalg.solve`.\n",
    "\n",
    "    ????\n",
    "\n",
    "\n",
    "\n",
    "\n",
    "\n",
    "\n"
   ]
  },
  {
   "cell_type": "markdown",
   "id": "46a3a22f",
   "metadata": {},
   "source": [
    "Test the function. Expected result: None."
   ]
  },
  {
   "cell_type": "code",
   "execution_count": null,
   "id": "e92a7e58",
   "metadata": {},
   "outputs": [],
   "source": [
    "basic_variables_1 = calculate_basic_variables(\n",
    "    basic_matrix=basic_matrix_1, right_hand_side=standard_b\n",
    ")\n",
    "print(basic_variables_1)\n",
    "\n",
    "\n",
    "\n",
    "\n",
    "\n",
    "\n",
    "\n",
    "\n"
   ]
  },
  {
   "cell_type": "markdown",
   "id": "5b381feb",
   "metadata": {},
   "source": [
    "Test again the function. Expected result: $$\\left(\\begin{array}{c}2 \\\\ -1 \\end{array}\\right).$$"
   ]
  },
  {
   "cell_type": "code",
   "execution_count": null,
   "id": "37233b4c",
   "metadata": {},
   "outputs": [],
   "source": [
    "basic_variables_2 = calculate_basic_variables(\n",
    "    basic_matrix=basic_matrix_2, right_hand_side=standard_b\n",
    ")\n",
    "print(basic_variables_2)\n",
    "\n"
   ]
  },
  {
   "cell_type": "markdown",
   "id": "428faa04",
   "metadata": {},
   "source": [
    "## Function that checks if the basic variables $x_B$ are feasible.\n",
    "Complete it by replacing the ????."
   ]
  },
  {
   "cell_type": "code",
   "execution_count": null,
   "id": "f501240c",
   "metadata": {},
   "outputs": [],
   "source": [
    "def check_feasibility(basic_variables: np.ndarray) -> bool:\n",
    "    \"\"\"\n",
    "    Check if the basic variables $x_B$ are feasible.\n",
    "\n",
    "    :param basic_variables: basic variables $x_B$.\n",
    "    :return: True if feasible. False otherwise,\n",
    "    \"\"\"\n",
    "    is_feasible: bool = ????\n",
    "    return is_feasible\n",
    "\n"
   ]
  },
  {
   "cell_type": "markdown",
   "id": "4a16efe0",
   "metadata": {},
   "source": [
    "Test the function. Expected result: False"
   ]
  },
  {
   "cell_type": "code",
   "execution_count": null,
   "id": "3800723a",
   "metadata": {},
   "outputs": [],
   "source": [
    "is_basis_2_feasible = check_feasibility(basic_variables=basic_variables_2)\n",
    "print(is_basis_2_feasible)\n",
    "\n"
   ]
  },
  {
   "cell_type": "markdown",
   "id": "65e25cd3",
   "metadata": {},
   "source": [
    "## Function that checks if the basic variables $x_B$ are degenerate.\n",
    "Complete it by replacing the ????."
   ]
  },
  {
   "cell_type": "code",
   "execution_count": null,
   "id": "77ae1b3a",
   "metadata": {},
   "outputs": [],
   "source": [
    "def check_degeneracy(basic_variables: np.ndarray) -> bool:\n",
    "    \"\"\"\n",
    "    Check if the basic variables $x_B$ are degenerate.\n",
    "\n",
    "    :param basic_variables: basic variables $x_B$.\n",
    "    :return: True if degenerate. False otherwise,\n",
    "    \"\"\"\n",
    "    is_degenerate: bool = np.any(\n",
    "        basic_variables == 0\n",
    "    is_degenerate: bool = ????\n",
    "    return is_degenerate\n",
    "\n"
   ]
  },
  {
   "cell_type": "markdown",
   "id": "ad670c90",
   "metadata": {},
   "source": [
    "Test the function. Expected result: False"
   ]
  },
  {
   "cell_type": "code",
   "execution_count": null,
   "id": "6ac778ea",
   "metadata": {},
   "outputs": [],
   "source": [
    "is_basis_2_degenerate = check_degeneracy(basic_variables=basic_variables_2)\n",
    "print(is_basis_2_degenerate)\n",
    "\n"
   ]
  },
  {
   "cell_type": "markdown",
   "id": "0909d385",
   "metadata": {},
   "source": [
    "## Function that builds the vector in the full space.\n",
    "In a space of dimension $n$, we have a vector $x_B$ of basic variables of dimension $m \\leq n$, identified\n",
    "by their indices. This function builds the vector in dimension $n$ where all non basic variables are zero.\n",
    "Complete it by replacing the ????."
   ]
  },
  {
   "cell_type": "code",
   "execution_count": null,
   "id": "9fded803",
   "metadata": {},
   "outputs": [],
   "source": [
    "def build_solution(\n",
    "    number_of_variables: int, basic_variables: np.ndarray, basic_indices: Iterable[int]\n",
    ") -> np.ndarray:\n",
    "    \"\"\"\n",
    "    Builds the vector in dimension n where all non basic variables are zero.\n",
    "\n",
    "    :param number_of_variables: dimension n.\n",
    "    :param basic_variables: vector of basic variables.\n",
    "    :param basic_indices: indices of basic variables in the space of dimension n.\n",
    "    :return: complete solution.\n",
    "    \"\"\"\n",
    "    # Check that the number of basic variables is less or equal to n\n",
    "    basic_indices = list(basic_indices)\n",
    "    if len(basic_variables) > number_of_variables:\n",
    "        raise ValueError(\n",
    "            f'The number of basic variables [{len(basic_variables)}] must be less than or equal '\n",
    "            f'to the dimension [{number_of_variables}].'\n",
    "        )\n",
    "\n",
    "    # Check that the two vectors have the same dimension\n",
    "    if len(basic_variables) != len(basic_indices):\n",
    "        raise ValueError(\n",
    "            f'The dimensions of the basic variables [{len(basic_variables)}] and their '\n",
    "            f'indices [{len(basic_indices)}] must match.'\n",
    "        )\n",
    "\n",
    "    # Check that all indices are valid\n",
    "    if not all(0 <= index < number_of_variables for index in basic_indices):\n",
    "        raise ValueError('All indices must be valid, that is between 0 and n-1.')\n",
    "\n",
    "\n",
    "    complete_solution = ????\n",
    "\n",
    "\n",
    "    complete_solution[basic_indices] = basic_variables\n",
    "\n",
    "    return complete_solution\n",
    "\n"
   ]
  },
  {
   "cell_type": "markdown",
   "id": "0b16b048",
   "metadata": {},
   "source": [
    "Test the function. Expected result: $$\\left(\\begin{array}{c}0 \\\\ 0  \\\\ -1 \\\\ 2 \\end{array}\\right).$$"
   ]
  },
  {
   "cell_type": "code",
   "execution_count": null,
   "id": "f7db691f",
   "metadata": {},
   "outputs": [],
   "source": [
    "\n",
    "solution_2 = build_solution(\n",
    "    number_of_variables=n_variables,\n",
    "    basic_variables=basic_variables_2,\n",
    "    basic_indices=basic_indices_2,\n",
    ")\n",
    "print(solution_2)\n",
    "\n"
   ]
  },
  {
   "cell_type": "markdown",
   "id": "aca300eb",
   "metadata": {},
   "source": [
    "## Function that calls all the previous ones to obtain a basic solution.\n",
    "Nothing to be completed."
   ]
  },
  {
   "cell_type": "code",
   "execution_count": null,
   "id": "3978f655",
   "metadata": {},
   "outputs": [],
   "source": [
    "def calculate_basic_solution(\n",
    "    constraint_matrix: np.ndarray, right_hand_side: np.ndarray, basic_indices: list[int]\n",
    ") -> tuple[np.ndarray | None, bool, bool]:\n",
    "    \"\"\"\n",
    "    Consider a polyhedron in standard form characterized by the $m \\times n$ matrix $A$ and the vector $b$.\n",
    "    Given the list of indices of basic variables, calculate the basic solution in standard form, and check feasibility.\n",
    "\n",
    "    :param constraint_matrix: matrix $A$.\n",
    "    :param right_hand_side: vector $b$.\n",
    "    :param basic_indices: list of indices of basic variables.\n",
    "    :return: the basic vector (or None if it does not exist),  its feasibility status, and its degeneracy status.\n",
    "    \"\"\"\n",
    "    n_rows, n_columns = constraint_matrix.shape\n",
    "\n",
    "    # Check the matrix is m x n such that n >= m\n",
    "    if n_columns < n_rows:\n",
    "        raise ValueError(\n",
    "            f'Validation failed: The number of columns [{n_columns}] must be greater than or '\n",
    "            f'equal to the number of rows [{n_rows}].'\n",
    "        )\n",
    "\n",
    "    # Check the vector has m elements\n",
    "    if len(right_hand_side) != n_rows:\n",
    "        raise ValueError(\n",
    "            f'The rhs must have the same number of elements as there are rows in the '\n",
    "            f'matrix [{len(right_hand_side)} != {n_rows}].'\n",
    "        )\n",
    "\n",
    "    # Check the list of indices\n",
    "    if len(basic_indices) != n_rows:\n",
    "        raise ValueError(\n",
    "            f'The list of indices must be of the same length as there are rows in the '\n",
    "            f'matrix [{len(basic_indices)} != {n_rows}].'\n",
    "        )\n",
    "\n",
    "    # Check all indices are between 0 and n-1\n",
    "    if not all(0 <= index < n_columns for index in basic_indices):\n",
    "        raise ValueError(\n",
    "            f'Validation failed: All indices must be between 0 and {n_columns-1}.'\n",
    "        )\n",
    "\n",
    "    # Extract the basic matrix\n",
    "    the_basic_matrix: np.ndarray = extract_basic_matrix(\n",
    "        constraint_matrix=constraint_matrix, basic_indices=basic_indices\n",
    "    )\n",
    "\n",
    "    # Calculate the basic variables\n",
    "    the_basic_variables: np.ndarray | None = calculate_basic_variables(\n",
    "        basic_matrix=the_basic_matrix, right_hand_side=right_hand_side\n",
    "    )\n",
    "\n",
    "    # Check if the basic solution exists.\n",
    "    if the_basic_variables is None:\n",
    "        # The is no basic solution.\n",
    "        return None, False, False\n",
    "\n",
    "    feasibility: bool = check_feasibility(basic_variables=the_basic_variables)\n",
    "    degeneracy: bool = check_degeneracy(basic_variables=the_basic_variables)\n",
    "\n",
    "    the_basic_solution: np.ndarray = build_solution(\n",
    "        number_of_variables=n_columns,\n",
    "        basic_variables=the_basic_variables,\n",
    "        basic_indices=basic_indices,\n",
    "    )\n",
    "\n",
    "    return the_basic_solution, feasibility, degeneracy\n",
    "\n"
   ]
  },
  {
   "cell_type": "markdown",
   "id": "7ce82d42",
   "metadata": {},
   "source": [
    "We test the function on all possible bases."
   ]
  },
  {
   "cell_type": "markdown",
   "id": "94aeb7a3",
   "metadata": {},
   "source": [
    "We need to consider all combinations of basic variables."
   ]
  },
  {
   "cell_type": "code",
   "execution_count": null,
   "id": "35638f5e",
   "metadata": {},
   "outputs": [],
   "source": [
    "all_bases: list[int] = list(combinations(range(n_variables), n_constraints))\n",
    "print(f'There are {len(all_bases)} potential bases.')\n",
    "\n"
   ]
  },
  {
   "cell_type": "markdown",
   "id": "53d57f30",
   "metadata": {},
   "source": [
    "To avoid repeating the code, we define a function that performs the analysis and the reporting for a given\n",
    "list of indices."
   ]
  },
  {
   "cell_type": "code",
   "execution_count": null,
   "id": "bc24dc3b",
   "metadata": {},
   "outputs": [],
   "source": [
    "def print_info(basic_indices: Iterable[int] | int) -> np.ndarray:\n",
    "    \"\"\"Print the information related to the list of indices.\n",
    "\n",
    "    :param basic_indices: list of basic indices.\n",
    "    :return: the basic solution\n",
    "    \"\"\"\n",
    "    basic_solution, feasible, degenerate = calculate_basic_solution(\n",
    "        constraint_matrix=standard_a,\n",
    "        right_hand_side=standard_b,\n",
    "        basic_indices=list(basic_indices),\n",
    "    )\n",
    "    print(f' *** Basic indices: {basic_indices}')\n",
    "    if basic_solution is None:\n",
    "        print('No basic solution')\n",
    "    else:\n",
    "        feasible_text = '[feasible]' if feasible else '[non feasible]'\n",
    "        degenerate_text = '[degenerate]' if degenerate else '[not degenerate]'\n",
    "        print(f'Basic solution: {basic_solution} {feasible_text} {degenerate_text}')\n",
    "    return basic_solution\n",
    "\n"
   ]
  },
  {
   "cell_type": "markdown",
   "id": "824c4442",
   "metadata": {},
   "source": [
    "## For each potential base below, verify that the outcome of the function is correct."
   ]
  },
  {
   "cell_type": "markdown",
   "id": "e5a29e0e",
   "metadata": {},
   "source": [
    "### Potential base number 0"
   ]
  },
  {
   "cell_type": "code",
   "execution_count": null,
   "id": "9bc0485d",
   "metadata": {},
   "outputs": [],
   "source": [
    "basic_indices_0 = all_bases[0]\n",
    "basic_solution_0 = print_info(basic_indices_0)\n"
   ]
  },
  {
   "cell_type": "markdown",
   "id": "db739a89",
   "metadata": {},
   "source": [
    "Plot the vertex"
   ]
  },
  {
   "cell_type": "code",
   "execution_count": null,
   "id": "dec5e559",
   "metadata": {},
   "outputs": [],
   "source": [
    "if basic_solution_0 is not None:\n",
    "    draw_polyhedron_standard_form(\n",
    "        matrix_a=standard_a,\n",
    "        vector_b=standard_b,\n",
    "        points=[LabeledPoint(coordinates=basic_solution_0)],\n",
    "    )\n"
   ]
  },
  {
   "cell_type": "markdown",
   "id": "0f632efd",
   "metadata": {},
   "source": [
    "### Potential base number 1"
   ]
  },
  {
   "cell_type": "code",
   "execution_count": null,
   "id": "745b1360",
   "metadata": {},
   "outputs": [],
   "source": [
    "basic_indices_1 = all_bases[1]\n",
    "basic_solution_1 = print_info(basic_indices_1)\n"
   ]
  },
  {
   "cell_type": "markdown",
   "id": "b3d3aa27",
   "metadata": {},
   "source": [
    "Plot the vertex"
   ]
  },
  {
   "cell_type": "code",
   "execution_count": null,
   "id": "00b0dc99",
   "metadata": {},
   "outputs": [],
   "source": [
    "if basic_solution_1 is not None:\n",
    "    draw_polyhedron_standard_form(\n",
    "        matrix_a=standard_a,\n",
    "        vector_b=standard_b,\n",
    "        points=[LabeledPoint(coordinates=basic_solution_1)],\n",
    "    )\n"
   ]
  },
  {
   "cell_type": "markdown",
   "id": "5b3a0a8c",
   "metadata": {},
   "source": [
    "### Potential base number 2"
   ]
  },
  {
   "cell_type": "code",
   "execution_count": null,
   "id": "8c3125fa",
   "metadata": {},
   "outputs": [],
   "source": [
    "basic_indices_2 = all_bases[2]\n",
    "basic_solution_2 = print_info(basic_indices_2)\n"
   ]
  },
  {
   "cell_type": "markdown",
   "id": "ac46ee6f",
   "metadata": {},
   "source": [
    "Plot the vertex"
   ]
  },
  {
   "cell_type": "code",
   "execution_count": null,
   "id": "a43efbc4",
   "metadata": {},
   "outputs": [],
   "source": [
    "if basic_solution_2 is not None:\n",
    "    draw_polyhedron_standard_form(\n",
    "        matrix_a=standard_a,\n",
    "        vector_b=standard_b,\n",
    "        points=[LabeledPoint(coordinates=basic_solution_2)],\n",
    "    )"
   ]
  },
  {
   "cell_type": "markdown",
   "id": "e308591e",
   "metadata": {},
   "source": [
    "### Potential base number 3"
   ]
  },
  {
   "cell_type": "code",
   "execution_count": null,
   "id": "8309a73b",
   "metadata": {},
   "outputs": [],
   "source": [
    "basic_indices_3 = all_bases[3]\n",
    "basic_solution_3 = print_info(basic_indices_3)\n"
   ]
  },
  {
   "cell_type": "markdown",
   "id": "e275af33",
   "metadata": {},
   "source": [
    "Plot the vertex"
   ]
  },
  {
   "cell_type": "code",
   "execution_count": null,
   "id": "49a1c92d",
   "metadata": {},
   "outputs": [],
   "source": [
    "if basic_solution_3 is not None:\n",
    "    draw_polyhedron_standard_form(\n",
    "        matrix_a=standard_a,\n",
    "        vector_b=standard_b,\n",
    "        points=[LabeledPoint(coordinates=basic_solution_3)],\n",
    "    )"
   ]
  },
  {
   "cell_type": "markdown",
   "id": "50eace61",
   "metadata": {},
   "source": [
    "### Potential base number 4"
   ]
  },
  {
   "cell_type": "code",
   "execution_count": null,
   "id": "fa009353",
   "metadata": {},
   "outputs": [],
   "source": [
    "basic_indices_4 = all_bases[4]\n",
    "basic_solution_4 = print_info(basic_indices_4)\n"
   ]
  },
  {
   "cell_type": "markdown",
   "id": "cc55adb9",
   "metadata": {},
   "source": [
    "Plot the vertex"
   ]
  },
  {
   "cell_type": "code",
   "execution_count": null,
   "id": "8964d157",
   "metadata": {},
   "outputs": [],
   "source": [
    "if basic_solution_4 is not None:\n",
    "    draw_polyhedron_standard_form(\n",
    "        matrix_a=standard_a,\n",
    "        vector_b=standard_b,\n",
    "        points=[LabeledPoint(coordinates=basic_solution_4)],\n",
    "    )"
   ]
  },
  {
   "cell_type": "markdown",
   "id": "a9c29b6d",
   "metadata": {},
   "source": [
    "### Potential base number 5"
   ]
  },
  {
   "cell_type": "code",
   "execution_count": null,
   "id": "f89503dd",
   "metadata": {},
   "outputs": [],
   "source": [
    "basic_indices_5 = all_bases[5]\n",
    "basic_solution_5 = print_info(basic_indices_5)\n"
   ]
  },
  {
   "cell_type": "markdown",
   "id": "72c3a7af",
   "metadata": {},
   "source": [
    "Plot the vertex"
   ]
  },
  {
   "cell_type": "code",
   "execution_count": null,
   "id": "f9a15dda",
   "metadata": {},
   "outputs": [],
   "source": [
    "if basic_solution_5 is not None:\n",
    "    draw_polyhedron_standard_form(\n",
    "        matrix_a=standard_a,\n",
    "        vector_b=standard_b,\n",
    "        points=[LabeledPoint(coordinates=basic_solution_5)],\n",
    "    )\n",
    "\n",
    "\n",
    "\n"
   ]
  },
  {
   "cell_type": "markdown",
   "id": "6a97d6bb",
   "metadata": {},
   "source": [
    "## Polyhedron 2\n",
    "$$P = \\left\\{\n",
    "\\begin{pmatrix}\n",
    "x_1\\\\\n",
    "x_2\n",
    "\\end{pmatrix}\\in \\mathbb{R}^2\n",
    "| x_1 + x_2 \\leq 1, 3 x_1 + 10 x_2 \\leq 15, x_1 \\geq 0, x_2 \\geq 0 \\right\\}.$$"
   ]
  },
  {
   "cell_type": "markdown",
   "id": "3de7776b",
   "metadata": {},
   "source": [
    "Data in standard form."
   ]
  },
  {
   "cell_type": "code",
   "execution_count": null,
   "id": "536168c1",
   "metadata": {},
   "outputs": [],
   "source": [
    "standard_a = ????\n",
    "standard_b = ????\n"
   ]
  },
  {
   "cell_type": "code",
   "execution_count": null,
   "id": "9a34a537",
   "metadata": {},
   "outputs": [],
   "source": [
    "n_constraints, n_variables = standard_a.shape\n",
    "print(f'{n_variables} variables, {n_constraints} constraints.')\n"
   ]
  },
  {
   "cell_type": "markdown",
   "id": "ff6d22f5",
   "metadata": {},
   "source": [
    "Draw the polyhedron. We specify the bounding box in order to display all bases, even the unfeasible ones."
   ]
  },
  {
   "cell_type": "code",
   "execution_count": null,
   "id": "fd1bc63e",
   "metadata": {},
   "outputs": [],
   "source": [
    "bounding_box = BoundingBox(x_min=-1.5, x_max=5.5, y_min=-0.5, y_max=2)\n",
    "draw_polyhedron_standard_form(\n",
    "    matrix_a=standard_a, vector_b=standard_b, bounding_box=bounding_box\n",
    ")"
   ]
  },
  {
   "cell_type": "markdown",
   "id": "4e35b6b0",
   "metadata": {},
   "source": [
    "We test the function on all possible bases."
   ]
  },
  {
   "cell_type": "markdown",
   "id": "eb5f6856",
   "metadata": {},
   "source": [
    "We need to consider all combinations of basic variables."
   ]
  },
  {
   "cell_type": "code",
   "execution_count": null,
   "id": "3233075b",
   "metadata": {},
   "outputs": [],
   "source": [
    "all_bases = list(combinations(range(n_variables), n_constraints))\n",
    "print(f'There are {len(all_bases)} potential bases.')\n"
   ]
  },
  {
   "cell_type": "markdown",
   "id": "9f1f29f2",
   "metadata": {},
   "source": [
    "## For each potential base below, verify that the outcome of the function is correct."
   ]
  },
  {
   "cell_type": "markdown",
   "id": "6474be58",
   "metadata": {},
   "source": [
    "### Potential base number 0"
   ]
  },
  {
   "cell_type": "code",
   "execution_count": null,
   "id": "0a8907d8",
   "metadata": {},
   "outputs": [],
   "source": [
    "basic_indices_0 = all_bases[0]\n",
    "basic_solution_0 = print_info(basic_indices_0)\n"
   ]
  },
  {
   "cell_type": "markdown",
   "id": "4709daa4",
   "metadata": {},
   "source": [
    "Plot the vertex"
   ]
  },
  {
   "cell_type": "code",
   "execution_count": null,
   "id": "c0233a43",
   "metadata": {},
   "outputs": [],
   "source": [
    "if basic_solution_0 is not None:\n",
    "    draw_polyhedron_standard_form(\n",
    "        matrix_a=standard_a,\n",
    "        vector_b=standard_b,\n",
    "        bounding_box=bounding_box,\n",
    "        points=[LabeledPoint(coordinates=basic_solution_0)],\n",
    "    )\n"
   ]
  },
  {
   "cell_type": "markdown",
   "id": "fe7098ba",
   "metadata": {},
   "source": [
    "### Potential base number 1"
   ]
  },
  {
   "cell_type": "code",
   "execution_count": null,
   "id": "f8f1bba6",
   "metadata": {},
   "outputs": [],
   "source": [
    "basic_indices_1 = all_bases[1]\n",
    "basic_solution_1 = print_info(basic_indices_1)\n"
   ]
  },
  {
   "cell_type": "markdown",
   "id": "7fdbc1ff",
   "metadata": {},
   "source": [
    "Plot the vertex"
   ]
  },
  {
   "cell_type": "code",
   "execution_count": null,
   "id": "9450a5fa",
   "metadata": {},
   "outputs": [],
   "source": [
    "if basic_solution_1 is not None:\n",
    "    draw_polyhedron_standard_form(\n",
    "        matrix_a=standard_a,\n",
    "        vector_b=standard_b,\n",
    "        bounding_box=bounding_box,\n",
    "        points=[LabeledPoint(coordinates=basic_solution_1)],\n",
    "    )\n"
   ]
  },
  {
   "cell_type": "markdown",
   "id": "6171c50f",
   "metadata": {},
   "source": [
    "### Potential base number 2"
   ]
  },
  {
   "cell_type": "code",
   "execution_count": null,
   "id": "6d3cd015",
   "metadata": {},
   "outputs": [],
   "source": [
    "basic_indices_2 = all_bases[2]\n",
    "basic_solution_2 = print_info(basic_indices_2)\n"
   ]
  },
  {
   "cell_type": "markdown",
   "id": "611e26b1",
   "metadata": {},
   "source": [
    "Plot the vertex"
   ]
  },
  {
   "cell_type": "code",
   "execution_count": null,
   "id": "489c1476",
   "metadata": {},
   "outputs": [],
   "source": [
    "if basic_solution_2 is not None:\n",
    "    draw_polyhedron_standard_form(\n",
    "        matrix_a=standard_a,\n",
    "        vector_b=standard_b,\n",
    "        bounding_box=bounding_box,\n",
    "        points=[LabeledPoint(coordinates=basic_solution_2)],\n",
    "    )"
   ]
  },
  {
   "cell_type": "markdown",
   "id": "55964fb0",
   "metadata": {},
   "source": [
    "### Potential base number 3"
   ]
  },
  {
   "cell_type": "code",
   "execution_count": null,
   "id": "3b2526cb",
   "metadata": {},
   "outputs": [],
   "source": [
    "basic_indices_3 = all_bases[3]\n",
    "basic_solution_3 = print_info(basic_indices_3)\n"
   ]
  },
  {
   "cell_type": "markdown",
   "id": "08649dc2",
   "metadata": {},
   "source": [
    "Plot the vertex"
   ]
  },
  {
   "cell_type": "code",
   "execution_count": null,
   "id": "767dd459",
   "metadata": {},
   "outputs": [],
   "source": [
    "if basic_solution_3 is not None:\n",
    "    draw_polyhedron_standard_form(\n",
    "        matrix_a=standard_a,\n",
    "        vector_b=standard_b,\n",
    "        bounding_box=bounding_box,\n",
    "        points=[LabeledPoint(coordinates=basic_solution_3)],\n",
    "    )"
   ]
  },
  {
   "cell_type": "markdown",
   "id": "54814b4e",
   "metadata": {},
   "source": [
    "### Potential base number 4"
   ]
  },
  {
   "cell_type": "code",
   "execution_count": null,
   "id": "c21817a3",
   "metadata": {},
   "outputs": [],
   "source": [
    "basic_indices_4 = all_bases[4]\n",
    "basic_solution_4 = print_info(basic_indices_4)\n"
   ]
  },
  {
   "cell_type": "markdown",
   "id": "07eb77d3",
   "metadata": {},
   "source": [
    "Plot the vertex"
   ]
  },
  {
   "cell_type": "code",
   "execution_count": null,
   "id": "b028e556",
   "metadata": {},
   "outputs": [],
   "source": [
    "if basic_solution_4 is not None:\n",
    "    draw_polyhedron_standard_form(\n",
    "        matrix_a=standard_a,\n",
    "        vector_b=standard_b,\n",
    "        bounding_box=bounding_box,\n",
    "        points=[LabeledPoint(coordinates=basic_solution_4)],\n",
    "    )"
   ]
  },
  {
   "cell_type": "markdown",
   "id": "bd1f0530",
   "metadata": {},
   "source": [
    "### Potential base number 5"
   ]
  },
  {
   "cell_type": "code",
   "execution_count": null,
   "id": "ebd79260",
   "metadata": {},
   "outputs": [],
   "source": [
    "basic_indices_5 = all_bases[5]\n",
    "basic_solution_5 = print_info(basic_indices_5)\n"
   ]
  },
  {
   "cell_type": "markdown",
   "id": "d40b50cc",
   "metadata": {},
   "source": [
    "Plot the vertex"
   ]
  },
  {
   "cell_type": "code",
   "execution_count": null,
   "id": "50db4304",
   "metadata": {},
   "outputs": [],
   "source": [
    "if basic_solution_5 is not None:\n",
    "    draw_polyhedron_standard_form(\n",
    "        matrix_a=standard_a,\n",
    "        vector_b=standard_b,\n",
    "        bounding_box=bounding_box,\n",
    "        points=[LabeledPoint(coordinates=basic_solution_5)],\n",
    "    )\n",
    "\n",
    "\n"
   ]
  },
  {
   "cell_type": "markdown",
   "id": "56d60828",
   "metadata": {},
   "source": [
    "## Polyhedron 3\n",
    "$$ P = \\left\\{\n",
    "\\begin{pmatrix}\n",
    "x_1\\\\\n",
    "x_2\n",
    "\\end{pmatrix} \\in \\mathbb{R}^2\n",
    "| x_1+x_2 \\leq 1,\n",
    "-x_1+2x_2 \\leq 2, x_1 \\geq 0, x_2 \\geq 0 \\right\\}.$$"
   ]
  },
  {
   "cell_type": "markdown",
   "id": "34fc09d2",
   "metadata": {},
   "source": [
    "Data in standard form."
   ]
  },
  {
   "cell_type": "code",
   "execution_count": null,
   "id": "3c68bcbe",
   "metadata": {},
   "outputs": [],
   "source": [
    "standard_a = ????\n",
    "standard_b = ????\n"
   ]
  },
  {
   "cell_type": "code",
   "execution_count": null,
   "id": "d3c0cc28",
   "metadata": {},
   "outputs": [],
   "source": [
    "n_constraints, n_variables = standard_a.shape\n",
    "print(f'{n_variables} variables, {n_constraints} constraints.')\n"
   ]
  },
  {
   "cell_type": "markdown",
   "id": "c2576c9a",
   "metadata": {},
   "source": [
    "Draw the polyhedron. We specify the bounding box in order to display all bases, even the unfeasible ones."
   ]
  },
  {
   "cell_type": "code",
   "execution_count": null,
   "id": "73809a45",
   "metadata": {},
   "outputs": [],
   "source": [
    "bounding_box = BoundingBox(x_min=-2.5, x_max=1.5, y_min=-0.5, y_max=1.5)\n",
    "draw_polyhedron_standard_form(\n",
    "    matrix_a=standard_a, vector_b=standard_b, bounding_box=bounding_box\n",
    ")"
   ]
  },
  {
   "cell_type": "markdown",
   "id": "81bd8aed",
   "metadata": {},
   "source": [
    "We test the function on all possible bases."
   ]
  },
  {
   "cell_type": "markdown",
   "id": "79abfd0a",
   "metadata": {},
   "source": [
    "We need to consider all combinations of basic variables."
   ]
  },
  {
   "cell_type": "code",
   "execution_count": null,
   "id": "6bb49c0e",
   "metadata": {},
   "outputs": [],
   "source": [
    "all_bases = list(combinations(range(n_variables), n_constraints))\n",
    "print(f'There are {len(all_bases)} potential bases.')\n"
   ]
  },
  {
   "cell_type": "markdown",
   "id": "b2232e1f",
   "metadata": {},
   "source": [
    "## For each potential base below, verify that the outcome of the function is correct."
   ]
  },
  {
   "cell_type": "markdown",
   "id": "489879ab",
   "metadata": {},
   "source": [
    "### Potential base number 0"
   ]
  },
  {
   "cell_type": "code",
   "execution_count": null,
   "id": "8e388df6",
   "metadata": {},
   "outputs": [],
   "source": [
    "basic_indices_0 = all_bases[0]\n",
    "basic_solution_0 = print_info(basic_indices_0)\n"
   ]
  },
  {
   "cell_type": "markdown",
   "id": "06a03dae",
   "metadata": {},
   "source": [
    "Plot the vertex"
   ]
  },
  {
   "cell_type": "code",
   "execution_count": null,
   "id": "a1f94367",
   "metadata": {},
   "outputs": [],
   "source": [
    "if basic_solution_0 is not None:\n",
    "    draw_polyhedron_standard_form(\n",
    "        matrix_a=standard_a,\n",
    "        vector_b=standard_b,\n",
    "        bounding_box=bounding_box,\n",
    "        points=[LabeledPoint(coordinates=basic_solution_0)],\n",
    "    )\n"
   ]
  },
  {
   "cell_type": "markdown",
   "id": "edbb568d",
   "metadata": {},
   "source": [
    "### Potential base number 1"
   ]
  },
  {
   "cell_type": "code",
   "execution_count": null,
   "id": "91287875",
   "metadata": {},
   "outputs": [],
   "source": [
    "basic_indices_1 = all_bases[1]\n",
    "basic_solution_1 = print_info(basic_indices_1)\n"
   ]
  },
  {
   "cell_type": "markdown",
   "id": "4502846e",
   "metadata": {},
   "source": [
    "Plot the vertex"
   ]
  },
  {
   "cell_type": "code",
   "execution_count": null,
   "id": "458908b1",
   "metadata": {},
   "outputs": [],
   "source": [
    "if basic_solution_1 is not None:\n",
    "    draw_polyhedron_standard_form(\n",
    "        matrix_a=standard_a,\n",
    "        vector_b=standard_b,\n",
    "        bounding_box=bounding_box,\n",
    "        points=[LabeledPoint(coordinates=basic_solution_1)],\n",
    "    )\n"
   ]
  },
  {
   "cell_type": "markdown",
   "id": "789a8f7d",
   "metadata": {},
   "source": [
    "### Potential base number 2"
   ]
  },
  {
   "cell_type": "code",
   "execution_count": null,
   "id": "f4d6007e",
   "metadata": {},
   "outputs": [],
   "source": [
    "basic_indices_2 = all_bases[2]\n",
    "basic_solution_2 = print_info(basic_indices_2)\n"
   ]
  },
  {
   "cell_type": "markdown",
   "id": "827257e9",
   "metadata": {},
   "source": [
    "Plot the vertex"
   ]
  },
  {
   "cell_type": "code",
   "execution_count": null,
   "id": "23825e37",
   "metadata": {},
   "outputs": [],
   "source": [
    "if basic_solution_2 is not None:\n",
    "    draw_polyhedron_standard_form(\n",
    "        matrix_a=standard_a,\n",
    "        vector_b=standard_b,\n",
    "        bounding_box=bounding_box,\n",
    "        points=[LabeledPoint(coordinates=basic_solution_2)],\n",
    "    )"
   ]
  },
  {
   "cell_type": "markdown",
   "id": "e4a1db73",
   "metadata": {},
   "source": [
    "### Potential base number 3"
   ]
  },
  {
   "cell_type": "code",
   "execution_count": null,
   "id": "62fc7924",
   "metadata": {},
   "outputs": [],
   "source": [
    "basic_indices_3 = all_bases[3]\n",
    "basic_solution_3 = print_info(basic_indices_3)\n"
   ]
  },
  {
   "cell_type": "markdown",
   "id": "8994fdcd",
   "metadata": {},
   "source": [
    "Plot the vertex"
   ]
  },
  {
   "cell_type": "code",
   "execution_count": null,
   "id": "85d9a2c8",
   "metadata": {},
   "outputs": [],
   "source": [
    "if basic_solution_3 is not None:\n",
    "    draw_polyhedron_standard_form(\n",
    "        matrix_a=standard_a,\n",
    "        vector_b=standard_b,\n",
    "        bounding_box=bounding_box,\n",
    "        points=[LabeledPoint(coordinates=basic_solution_3)],\n",
    "    )"
   ]
  },
  {
   "cell_type": "markdown",
   "id": "77f5e634",
   "metadata": {},
   "source": [
    "### Potential base number 4"
   ]
  },
  {
   "cell_type": "code",
   "execution_count": null,
   "id": "e25064ca",
   "metadata": {},
   "outputs": [],
   "source": [
    "basic_indices_4 = all_bases[4]\n",
    "basic_solution_4 = print_info(basic_indices_4)\n"
   ]
  },
  {
   "cell_type": "markdown",
   "id": "97ffb9a8",
   "metadata": {},
   "source": [
    "Plot the vertex"
   ]
  },
  {
   "cell_type": "code",
   "execution_count": null,
   "id": "7c71e591",
   "metadata": {},
   "outputs": [],
   "source": [
    "if basic_solution_4 is not None:\n",
    "    draw_polyhedron_standard_form(\n",
    "        matrix_a=standard_a,\n",
    "        vector_b=standard_b,\n",
    "        bounding_box=bounding_box,\n",
    "        points=[LabeledPoint(coordinates=basic_solution_4)],\n",
    "    )"
   ]
  },
  {
   "cell_type": "markdown",
   "id": "cf95a826",
   "metadata": {},
   "source": [
    "### Potential base number 5"
   ]
  },
  {
   "cell_type": "code",
   "execution_count": null,
   "id": "b50b48e5",
   "metadata": {},
   "outputs": [],
   "source": [
    "basic_indices_5 = all_bases[5]\n",
    "basic_solution_5 = print_info(basic_indices_5)\n"
   ]
  },
  {
   "cell_type": "markdown",
   "id": "63da91f4",
   "metadata": {},
   "source": [
    "Plot the vertex"
   ]
  },
  {
   "cell_type": "code",
   "execution_count": null,
   "id": "8fbb0c49",
   "metadata": {},
   "outputs": [],
   "source": [
    "if basic_solution_5 is not None:\n",
    "    draw_polyhedron_standard_form(\n",
    "        matrix_a=standard_a,\n",
    "        vector_b=standard_b,\n",
    "        bounding_box=bounding_box,\n",
    "        points=[LabeledPoint(coordinates=basic_solution_5)],\n",
    "    )\n",
    "\n",
    "\n",
    "\n",
    "\n"
   ]
  }
 ],
 "metadata": {},
 "nbformat": 4,
 "nbformat_minor": 5
}

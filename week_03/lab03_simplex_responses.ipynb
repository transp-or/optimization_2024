{
 "cells": [
  {
   "cell_type": "markdown",
   "id": "2a501dc3",
   "metadata": {},
   "source": [
    "# Simplex algorithm\n",
    "\n",
    "## Introduction to optimization and operations research\n",
    "\n",
    "Michel Bierlaire\n"
   ]
  },
  {
   "cell_type": "code",
   "execution_count": null,
   "id": "f7248304",
   "metadata": {},
   "outputs": [],
   "source": [
    "\n",
    "from enum import Enum, auto\n",
    "\n",
    "import numpy as np\n",
    "\n",
    "from teaching_optimization.linear_optimization import LinearOptimization\n",
    "from teaching_optimization.linear_constraints import (\n",
    "    draw_polyhedron_standard_form,\n",
    "    LabeledPoint,\n",
    ")\n"
   ]
  },
  {
   "cell_type": "markdown",
   "id": "5cf57522",
   "metadata": {},
   "source": [
    "Consider the following linear optimization problem\n",
    "$$\n",
    "\\max 4x_1 - 3x_2\n",
    "$$\n",
    "subject to\n",
    "\\begin{align*}\n",
    "2x_1  +  x_2 &\\leq  6,\\\\\n",
    "x_1 - x_2    &\\leq  2,\\\\\n",
    "x_{1}  ,  x_{2}  &\\geq  0. \\\\\n",
    "\\end{align*}\n",
    "\n",
    "The objective of this exercise is to implement the simplex algorithm to find the optimal solution.\n",
    "Verify that the point (0, 0) is a basic feasible solution. If so, start the algorithm from this point.\n"
   ]
  },
  {
   "cell_type": "markdown",
   "id": "2ec12549",
   "metadata": {},
   "source": [
    "First,  write the problem in standard form.\n",
    "We introduce two slack\n",
    "variables, $x_{3}$ and $x_{4}$. The  problem in standard form is\n",
    "$$\n",
    "\\min - 4x_1 +3x_2\n",
    "$$\n",
    "subject to\n",
    "\\begin{align*}\n",
    "2x_1  +  x_2 + x_3 & =  6,\\\\\n",
    "x_1 - x_2 + x_4    & =  2,\\\\\n",
    "x_{1}  ,  x_{2}, x_3, x_4  &\\geq  0.\n",
    "\\end{align*}\n",
    "Note that we had to change the sign of the objective function in order\n",
    "to obtain a minimization problem."
   ]
  },
  {
   "cell_type": "code",
   "execution_count": null,
   "id": "f7f2de58",
   "metadata": {},
   "outputs": [],
   "source": [
    "standard_a = np.array([[2, 1, 1, 0], [1, -1, 0, 1]])\n",
    "standard_b = np.array([6, 2])\n",
    "standard_c = np.array([-4, 3, 0, 0])\n"
   ]
  },
  {
   "cell_type": "markdown",
   "id": "64a1ce86",
   "metadata": {},
   "source": [
    "Initialize the optimization problem."
   ]
  },
  {
   "cell_type": "code",
   "execution_count": null,
   "id": "1a140c5b",
   "metadata": {},
   "outputs": [],
   "source": [
    "the_problem = LinearOptimization(\n",
    "    objective=standard_c, constraint_matrix=standard_a, right_hand_side=standard_b\n",
    ")\n"
   ]
  },
  {
   "cell_type": "markdown",
   "id": "e3242d15",
   "metadata": {},
   "source": [
    "Read the documentation."
   ]
  },
  {
   "cell_type": "code",
   "execution_count": null,
   "id": "0ab7d1a6",
   "metadata": {},
   "outputs": [],
   "source": [
    "help(LinearOptimization)\n"
   ]
  },
  {
   "cell_type": "markdown",
   "id": "add8efe5",
   "metadata": {},
   "source": [
    "Starting point. Specify the indices of the basic variables that correspond to the point (0, 0).\n",
    "At this point, the two constraints corresponding to the original variables are active, so that those variables\n",
    "are non basic. The basic variables are the two slack variables."
   ]
  },
  {
   "cell_type": "code",
   "execution_count": null,
   "id": "038a725f",
   "metadata": {},
   "outputs": [],
   "source": [
    "the_basic_indices = [2, 3]\n",
    "print(f'Basic variables: {the_basic_indices}')\n"
   ]
  },
  {
   "cell_type": "markdown",
   "id": "f3926bde",
   "metadata": {},
   "source": [
    "Check that it is feasible."
   ]
  },
  {
   "cell_type": "code",
   "execution_count": null,
   "id": "ff4319e8",
   "metadata": {},
   "outputs": [],
   "source": [
    "the_problem.basic_indices = the_basic_indices\n",
    "the_basic_solution = the_problem.basic_solution\n",
    "if the_basic_solution is not None:\n",
    "    print(f'Starting point: {the_basic_solution}')\n",
    "else:\n",
    "    raise ValueError('Invalid starting basis')\n",
    "if the_problem.is_basic_solution_feasible:\n",
    "    print(f'Starting point is feasible')\n",
    "else:\n",
    "    raise ValueError('Infeasible starting basic solution')\n",
    "\n"
   ]
  },
  {
   "cell_type": "markdown",
   "id": "e8a9e5e6",
   "metadata": {},
   "source": [
    "Write a function that identifies a non-basic index to enter the basis"
   ]
  },
  {
   "cell_type": "code",
   "execution_count": null,
   "id": "c63335b1",
   "metadata": {},
   "outputs": [],
   "source": [
    "def index_entering_basis(\n",
    "    optimization_problem: LinearOptimization, basic_indices: list[int]\n",
    ") -> int | None:\n",
    "    \"\"\"\n",
    "    Function that identifies a non-basic index to enter the basis, or detect optimality\n",
    "    :param optimization_problem: object representing the problem.\n",
    "    :param basic_indices: current list of basic indices.\n",
    "    :return: a non-basic index corresponding to a negative reduced cost, or None if optimal.\n",
    "    \"\"\"\n",
    "    optimization_problem.basic_indices = basic_indices\n",
    "    for non_basic_index in optimization_problem.non_basic_indices:\n",
    "        reduced_cost = (\n",
    "            optimization_problem.reduced_cost(\n",
    "                variable_index=non_basic_index\n",
    "            )\n",
    "        )\n",
    "        if reduced_cost < 0:\n",
    "            return non_basic_index\n",
    "    # No negative cost has been found. The solution is optimal.\n",
    "    return None\n",
    "\n"
   ]
  },
  {
   "cell_type": "markdown",
   "id": "dd393289",
   "metadata": {},
   "source": [
    "We test the function. Expected result: Entering variable: 0"
   ]
  },
  {
   "cell_type": "code",
   "execution_count": null,
   "id": "dc6d1ade",
   "metadata": {},
   "outputs": [],
   "source": [
    "the_entering_index = index_entering_basis(\n",
    "    optimization_problem=the_problem, basic_indices=the_basic_indices\n",
    ")\n",
    "print(f'Entering variable: {the_entering_index}')\n"
   ]
  },
  {
   "cell_type": "markdown",
   "id": "31f16267",
   "metadata": {},
   "source": [
    "Verify the reduced cost for this variable. It must be negative."
   ]
  },
  {
   "cell_type": "code",
   "execution_count": null,
   "id": "ecae55bf",
   "metadata": {},
   "outputs": [],
   "source": [
    "print(f'Reduced cost: {the_problem.reduced_cost(variable_index=the_entering_index)}')\n",
    "\n"
   ]
  },
  {
   "cell_type": "markdown",
   "id": "b882bc2b",
   "metadata": {},
   "source": [
    "Write a function that calculates the longest step along a direction."
   ]
  },
  {
   "cell_type": "code",
   "execution_count": null,
   "id": "3e5e6a17",
   "metadata": {},
   "outputs": [],
   "source": [
    "def longest_step(\n",
    "    current_point: np.ndarray, direction: np.ndarray\n",
    ") -> tuple[float, int | None]:\n",
    "    \"\"\"\n",
    "    Function that calculates the longest step along a direction so that all entries stay non-negative.\n",
    "    :param current_point: current point.\n",
    "    :param direction: direction.\n",
    "    :return: the step, as well as the index of one variable that becomes zero, or None of the direction is unbounded.\n",
    "    \"\"\"\n",
    "    alpha = np.array(\n",
    "        [-x / d if d < 0 else np.inf for x, d in zip(current_point, direction)]\n",
    "    )\n",
    "    min_value = np.min(alpha)\n",
    "    if min_value == np.inf:\n",
    "        # The problem is unbounded.\n",
    "        return np.inf, None\n",
    "    min_index = np.argmin(alpha)\n",
    "    return min_value, min_index\n",
    "\n"
   ]
  },
  {
   "cell_type": "markdown",
   "id": "5590efb9",
   "metadata": {},
   "source": [
    "We test the function. Expected result: Longest step: 1.0. Activated constraint: 2."
   ]
  },
  {
   "cell_type": "code",
   "execution_count": null,
   "id": "24ccdc73",
   "metadata": {},
   "outputs": [],
   "source": [
    "the_point = np.array([3, 2, 1])\n",
    "the_direction = np.array([-1, 1, -1])\n",
    "the_alpha, the_index = longest_step(current_point=the_point, direction=the_direction)\n",
    "print(f'Longest step: {the_alpha}. Activated constraint: {the_index}')\n"
   ]
  },
  {
   "cell_type": "markdown",
   "id": "9f8980fe",
   "metadata": {},
   "source": [
    "We test again with an unbounded direction. Expected result: Longest step: inf. Activated constraint: None."
   ]
  },
  {
   "cell_type": "code",
   "execution_count": null,
   "id": "7b73eec8",
   "metadata": {},
   "outputs": [],
   "source": [
    "the_point = np.array([3, 2, 1])\n",
    "the_direction = np.array([1, 1, 1])\n",
    "the_alpha, the_index = longest_step(current_point=the_point, direction=the_direction)\n",
    "print(f'Longest step: {the_alpha}. Activated constraint: {the_index}')\n",
    "\n"
   ]
  },
  {
   "cell_type": "markdown",
   "id": "b776514e",
   "metadata": {},
   "source": [
    "Write a function that identifies a basic index to leave the basis."
   ]
  },
  {
   "cell_type": "code",
   "execution_count": null,
   "id": "e9c5da6e",
   "metadata": {},
   "outputs": [],
   "source": [
    "def index_leaving_basis(\n",
    "    optimization_problem: LinearOptimization,\n",
    "    basic_indices: list[int],\n",
    "    index_entering: int,\n",
    ") -> int | None:\n",
    "    \"\"\"function that identifies a basic index to leave the basis, or identify an unbounded problem.\n",
    "\n",
    "    :param optimization_problem: object representing the problem.\n",
    "    :param basic_indices: current list of basic indices.\n",
    "    :param index_entering: non-basic index entering the basis\n",
    "    :return: index of the variable leaving the basis, or None if unbounded\n",
    "    \"\"\"\n",
    "    optimization_problem.basic_indices = basic_indices\n",
    "    basic_part_basic_solution = (\n",
    "        optimization_problem.basic_part_basic_solution\n",
    "    )\n",
    "    if basic_part_basic_solution is None:\n",
    "        raise ValueError(f'Invalid list of basic indices {basic_indices}')\n",
    "    basic_part_basic_direction = optimization_problem.basic_part_basic_direction(\n",
    "        non_basic_index=index_entering\n",
    "    )\n",
    "    # Calculate the steps alpha\n",
    "    _, index = longest_step(\n",
    "        current_point=basic_part_basic_solution,\n",
    "        direction=basic_part_basic_direction,\n",
    "    )\n",
    "    if index is None:\n",
    "        # The problem is unbounded along the direction.\n",
    "        return None\n",
    "    return basic_indices[index]\n",
    "\n"
   ]
  },
  {
   "cell_type": "markdown",
   "id": "533eba39",
   "metadata": {},
   "source": [
    "We test the function. Expected result: Exiting variable: 3."
   ]
  },
  {
   "cell_type": "code",
   "execution_count": null,
   "id": "19140dee",
   "metadata": {},
   "outputs": [],
   "source": [
    "the_exiting_index = index_leaving_basis(\n",
    "    optimization_problem=the_problem,\n",
    "    basic_indices=the_basic_indices,\n",
    "    index_entering=the_entering_index,\n",
    ")\n",
    "\n",
    "print(f'Exiting variable: {the_exiting_index}')\n",
    "\n"
   ]
  },
  {
   "cell_type": "markdown",
   "id": "de32c5fd",
   "metadata": {},
   "source": [
    "We define a list of possible interruptions of the algorithm"
   ]
  },
  {
   "cell_type": "code",
   "execution_count": null,
   "id": "6648c276",
   "metadata": {},
   "outputs": [],
   "source": [
    "class CauseInterruptionIterations(Enum):\n",
    "    OPTIMAL = auto()\n",
    "    UNBOUNDED = auto()\n",
    "    INFEASIBLE = auto()\n",
    "\n",
    "    def __str__(self) -> str:\n",
    "        messages = {\n",
    "            self.OPTIMAL: 'Optimal basis found.',\n",
    "            self.UNBOUNDED: 'Optimization problem is unbounded.',\n",
    "            self.INFEASIBLE: 'Optimization problem is infeasible.',\n",
    "        }\n",
    "        return messages[self]\n",
    "\n"
   ]
  },
  {
   "cell_type": "markdown",
   "id": "bbef16ce",
   "metadata": {},
   "source": [
    "Write a function that performs one iteration of the simplex algorithm."
   ]
  },
  {
   "cell_type": "code",
   "execution_count": null,
   "id": "84a97a07",
   "metadata": {},
   "outputs": [],
   "source": [
    "def simplex_iteration(\n",
    "    optimization_problem: LinearOptimization, basic_indices: list[int]\n",
    ") -> tuple[list[int] | None, CauseInterruptionIterations | None]:\n",
    "    \"\"\"\n",
    "    Performs one iteration of the simplex algorithm.\n",
    "    :param optimization_problem: object representing the problem.\n",
    "    :param basic_indices: current list of basic indices.\n",
    "    :return: new list of basic indices, if successful. If None, a message explaining the reason.\n",
    "    \"\"\"\n",
    "    entering_index = index_entering_basis(\n",
    "        optimization_problem=optimization_problem, basic_indices=basic_indices\n",
    "    )\n",
    "    if entering_index is None:\n",
    "        # Optimal solution found.\n",
    "        return None, CauseInterruptionIterations.OPTIMAL\n",
    "\n",
    "    exiting_index = index_leaving_basis(\n",
    "        optimization_problem=optimization_problem,\n",
    "        basic_indices=basic_indices,\n",
    "        index_entering=entering_index,\n",
    "    )\n",
    "    if exiting_index is None:\n",
    "        # Problem is unbounded.\n",
    "        return None, CauseInterruptionIterations.UNBOUNDED\n",
    "\n",
    "    new_basic_indices = [\n",
    "        entering_index if x == exiting_index else x for x in basic_indices\n",
    "    ]\n",
    "    return new_basic_indices, None\n",
    "\n"
   ]
  },
  {
   "cell_type": "markdown",
   "id": "b6145f0a",
   "metadata": {},
   "source": [
    "We apply the functions on the example above.\n",
    "Starting basic indices: 2 and 3."
   ]
  },
  {
   "cell_type": "code",
   "execution_count": null,
   "id": "cb74eecb",
   "metadata": {},
   "outputs": [],
   "source": [
    "the_basic_indices = [2, 3]\n",
    "print(f'Basic variables: {the_basic_indices}')\n",
    "the_problem.basic_indices = the_basic_indices\n",
    "the_basic_solution = the_problem.basic_solution\n"
   ]
  },
  {
   "cell_type": "markdown",
   "id": "aff518fc",
   "metadata": {},
   "source": [
    "Draw the polyhedron and the current solution."
   ]
  },
  {
   "cell_type": "code",
   "execution_count": null,
   "id": "9522dba3",
   "metadata": {},
   "outputs": [],
   "source": [
    "draw_polyhedron_standard_form(\n",
    "    matrix_a=standard_a,\n",
    "    vector_b=standard_b,\n",
    "    points=[LabeledPoint(coordinates=the_basic_solution, label='It. 0', shift=0.1)],\n",
    ")\n"
   ]
  },
  {
   "cell_type": "markdown",
   "id": "198d0452",
   "metadata": {},
   "source": [
    "First iteration"
   ]
  },
  {
   "cell_type": "code",
   "execution_count": null,
   "id": "5c1bd99b",
   "metadata": {},
   "outputs": [],
   "source": [
    "basic_indices_1, interruption = simplex_iteration(\n",
    "    optimization_problem=the_problem, basic_indices=the_basic_indices\n",
    ")\n",
    "if basic_indices_1 is None:\n",
    "    print(interruption)\n",
    "\n",
    "print(f'Basic variables: {basic_indices_1}')\n",
    "the_problem.basic_indices = basic_indices_1\n"
   ]
  },
  {
   "cell_type": "markdown",
   "id": "4be43ae0",
   "metadata": {},
   "source": [
    "Draw the polyhedron and the current solution."
   ]
  },
  {
   "cell_type": "code",
   "execution_count": null,
   "id": "c5f4d76a",
   "metadata": {},
   "outputs": [],
   "source": [
    "draw_polyhedron_standard_form(\n",
    "    matrix_a=standard_a,\n",
    "    vector_b=standard_b,\n",
    "    points=[\n",
    "        LabeledPoint(coordinates=the_problem.basic_solution, label='It. 1', shift=0.1)\n",
    "    ],\n",
    ")\n"
   ]
  },
  {
   "cell_type": "markdown",
   "id": "1de00eb4",
   "metadata": {},
   "source": [
    "Second iteration"
   ]
  },
  {
   "cell_type": "code",
   "execution_count": null,
   "id": "e290e04c",
   "metadata": {},
   "outputs": [],
   "source": [
    "basic_indices_2, interruption = simplex_iteration(\n",
    "    optimization_problem=the_problem, basic_indices=basic_indices_1\n",
    ")\n",
    "if basic_indices_2 is None:\n",
    "    print(interruption)\n",
    "\n",
    "print(f'Basic variables: {basic_indices_2}')\n",
    "the_problem.basic_indices = basic_indices_2\n"
   ]
  },
  {
   "cell_type": "markdown",
   "id": "3075201b",
   "metadata": {},
   "source": [
    "Draw the polyhedron and the current solution."
   ]
  },
  {
   "cell_type": "code",
   "execution_count": null,
   "id": "c3c9f6e5",
   "metadata": {},
   "outputs": [],
   "source": [
    "draw_polyhedron_standard_form(\n",
    "    matrix_a=standard_a,\n",
    "    vector_b=standard_b,\n",
    "    points=[\n",
    "        LabeledPoint(coordinates=the_problem.basic_solution, label='It. 2', shift=0.1)\n",
    "    ],\n",
    ")\n"
   ]
  },
  {
   "cell_type": "markdown",
   "id": "3e1255ef",
   "metadata": {},
   "source": [
    "Third iteration"
   ]
  },
  {
   "cell_type": "code",
   "execution_count": null,
   "id": "6913b2be",
   "metadata": {},
   "outputs": [],
   "source": [
    "basic_indices_3, interruption = simplex_iteration(\n",
    "    optimization_problem=the_problem, basic_indices=basic_indices_2\n",
    ")\n",
    "if basic_indices_3 is None:\n",
    "    print(interruption)\n"
   ]
  },
  {
   "cell_type": "markdown",
   "id": "4e642e7a",
   "metadata": {},
   "source": [
    "Draw the polyhedron and the current solution."
   ]
  },
  {
   "cell_type": "code",
   "execution_count": null,
   "id": "b41d6a7d",
   "metadata": {},
   "outputs": [],
   "source": [
    "draw_polyhedron_standard_form(\n",
    "    matrix_a=standard_a,\n",
    "    vector_b=standard_b,\n",
    "    objective_coefficients=standard_c,\n",
    "    level_lines=[-26.0 / 3.0, 0, 26.0 / 3.0],\n",
    "    points=[\n",
    "        LabeledPoint(coordinates=the_problem.basic_solution, label='Optimum', shift=0.1)\n",
    "    ],\n",
    ")"
   ]
  }
 ],
 "metadata": {},
 "nbformat": 4,
 "nbformat_minor": 5
}
